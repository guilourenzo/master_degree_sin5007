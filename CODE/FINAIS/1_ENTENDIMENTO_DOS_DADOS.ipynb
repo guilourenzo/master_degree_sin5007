{
 "cells": [
  {
   "cell_type": "markdown",
   "metadata": {},
   "source": [
    "# IMPORTAÇÃO DE BIBLIOTECAS"
   ]
  },
  {
   "cell_type": "code",
   "execution_count": 1,
   "metadata": {},
   "outputs": [],
   "source": [
    "import pandas as pd\n",
    "import numpy as np\n",
    "import seaborn as sns\n",
    "import matplotlib.pyplot as plt"
   ]
  },
  {
   "cell_type": "markdown",
   "metadata": {},
   "source": [
    "# IMPORTAÇÃO DE DADOS"
   ]
  },
  {
   "cell_type": "code",
   "execution_count": 2,
   "metadata": {},
   "outputs": [
    {
     "data": {
      "text/html": [
       "<div>\n",
       "<style scoped>\n",
       "    .dataframe tbody tr th:only-of-type {\n",
       "        vertical-align: middle;\n",
       "    }\n",
       "\n",
       "    .dataframe tbody tr th {\n",
       "        vertical-align: top;\n",
       "    }\n",
       "\n",
       "    .dataframe thead th {\n",
       "        text-align: right;\n",
       "    }\n",
       "</style>\n",
       "<table border=\"1\" class=\"dataframe\">\n",
       "  <thead>\n",
       "    <tr style=\"text-align: right;\">\n",
       "      <th></th>\n",
       "      <th>Date</th>\n",
       "      <th>Location</th>\n",
       "      <th>MinTemp</th>\n",
       "      <th>MaxTemp</th>\n",
       "      <th>Rainfall</th>\n",
       "      <th>Evaporation</th>\n",
       "      <th>Sunshine</th>\n",
       "      <th>WindGustDir</th>\n",
       "      <th>WindGustSpeed</th>\n",
       "      <th>WindDir9am</th>\n",
       "      <th>...</th>\n",
       "      <th>Humidity9am</th>\n",
       "      <th>Humidity3pm</th>\n",
       "      <th>Pressure9am</th>\n",
       "      <th>Pressure3pm</th>\n",
       "      <th>Cloud9am</th>\n",
       "      <th>Cloud3pm</th>\n",
       "      <th>Temp9am</th>\n",
       "      <th>Temp3pm</th>\n",
       "      <th>RainToday</th>\n",
       "      <th>RainTomorrow</th>\n",
       "    </tr>\n",
       "  </thead>\n",
       "  <tbody>\n",
       "    <tr>\n",
       "      <th>45587</th>\n",
       "      <td>2007-11-01</td>\n",
       "      <td>Canberra</td>\n",
       "      <td>8.0</td>\n",
       "      <td>24.3</td>\n",
       "      <td>0.0</td>\n",
       "      <td>3.4</td>\n",
       "      <td>6.3</td>\n",
       "      <td>NW</td>\n",
       "      <td>30.0</td>\n",
       "      <td>SW</td>\n",
       "      <td>...</td>\n",
       "      <td>68.0</td>\n",
       "      <td>29.0</td>\n",
       "      <td>1019.7</td>\n",
       "      <td>1015.0</td>\n",
       "      <td>7.0</td>\n",
       "      <td>7.0</td>\n",
       "      <td>14.4</td>\n",
       "      <td>23.6</td>\n",
       "      <td>No</td>\n",
       "      <td>Yes</td>\n",
       "    </tr>\n",
       "    <tr>\n",
       "      <th>45588</th>\n",
       "      <td>2007-11-02</td>\n",
       "      <td>Canberra</td>\n",
       "      <td>14.0</td>\n",
       "      <td>26.9</td>\n",
       "      <td>3.6</td>\n",
       "      <td>4.4</td>\n",
       "      <td>9.7</td>\n",
       "      <td>ENE</td>\n",
       "      <td>39.0</td>\n",
       "      <td>E</td>\n",
       "      <td>...</td>\n",
       "      <td>80.0</td>\n",
       "      <td>36.0</td>\n",
       "      <td>1012.4</td>\n",
       "      <td>1008.4</td>\n",
       "      <td>5.0</td>\n",
       "      <td>3.0</td>\n",
       "      <td>17.5</td>\n",
       "      <td>25.7</td>\n",
       "      <td>Yes</td>\n",
       "      <td>Yes</td>\n",
       "    </tr>\n",
       "    <tr>\n",
       "      <th>45589</th>\n",
       "      <td>2007-11-03</td>\n",
       "      <td>Canberra</td>\n",
       "      <td>13.7</td>\n",
       "      <td>23.4</td>\n",
       "      <td>3.6</td>\n",
       "      <td>5.8</td>\n",
       "      <td>3.3</td>\n",
       "      <td>NW</td>\n",
       "      <td>85.0</td>\n",
       "      <td>N</td>\n",
       "      <td>...</td>\n",
       "      <td>82.0</td>\n",
       "      <td>69.0</td>\n",
       "      <td>1009.5</td>\n",
       "      <td>1007.2</td>\n",
       "      <td>8.0</td>\n",
       "      <td>7.0</td>\n",
       "      <td>15.4</td>\n",
       "      <td>20.2</td>\n",
       "      <td>Yes</td>\n",
       "      <td>Yes</td>\n",
       "    </tr>\n",
       "    <tr>\n",
       "      <th>45590</th>\n",
       "      <td>2007-11-04</td>\n",
       "      <td>Canberra</td>\n",
       "      <td>13.3</td>\n",
       "      <td>15.5</td>\n",
       "      <td>39.8</td>\n",
       "      <td>7.2</td>\n",
       "      <td>9.1</td>\n",
       "      <td>NW</td>\n",
       "      <td>54.0</td>\n",
       "      <td>WNW</td>\n",
       "      <td>...</td>\n",
       "      <td>62.0</td>\n",
       "      <td>56.0</td>\n",
       "      <td>1005.5</td>\n",
       "      <td>1007.0</td>\n",
       "      <td>2.0</td>\n",
       "      <td>7.0</td>\n",
       "      <td>13.5</td>\n",
       "      <td>14.1</td>\n",
       "      <td>Yes</td>\n",
       "      <td>Yes</td>\n",
       "    </tr>\n",
       "    <tr>\n",
       "      <th>45591</th>\n",
       "      <td>2007-11-05</td>\n",
       "      <td>Canberra</td>\n",
       "      <td>7.6</td>\n",
       "      <td>16.1</td>\n",
       "      <td>2.8</td>\n",
       "      <td>5.6</td>\n",
       "      <td>10.6</td>\n",
       "      <td>SSE</td>\n",
       "      <td>50.0</td>\n",
       "      <td>SSE</td>\n",
       "      <td>...</td>\n",
       "      <td>68.0</td>\n",
       "      <td>49.0</td>\n",
       "      <td>1018.3</td>\n",
       "      <td>1018.5</td>\n",
       "      <td>7.0</td>\n",
       "      <td>7.0</td>\n",
       "      <td>11.1</td>\n",
       "      <td>15.4</td>\n",
       "      <td>Yes</td>\n",
       "      <td>No</td>\n",
       "    </tr>\n",
       "  </tbody>\n",
       "</table>\n",
       "<p>5 rows × 23 columns</p>\n",
       "</div>"
      ],
      "text/plain": [
       "             Date  Location  MinTemp  MaxTemp  Rainfall  Evaporation  \\\n",
       "45587  2007-11-01  Canberra      8.0     24.3       0.0          3.4   \n",
       "45588  2007-11-02  Canberra     14.0     26.9       3.6          4.4   \n",
       "45589  2007-11-03  Canberra     13.7     23.4       3.6          5.8   \n",
       "45590  2007-11-04  Canberra     13.3     15.5      39.8          7.2   \n",
       "45591  2007-11-05  Canberra      7.6     16.1       2.8          5.6   \n",
       "\n",
       "       Sunshine WindGustDir  WindGustSpeed WindDir9am  ... Humidity9am  \\\n",
       "45587       6.3          NW           30.0         SW  ...        68.0   \n",
       "45588       9.7         ENE           39.0          E  ...        80.0   \n",
       "45589       3.3          NW           85.0          N  ...        82.0   \n",
       "45590       9.1          NW           54.0        WNW  ...        62.0   \n",
       "45591      10.6         SSE           50.0        SSE  ...        68.0   \n",
       "\n",
       "       Humidity3pm  Pressure9am  Pressure3pm  Cloud9am  Cloud3pm  Temp9am  \\\n",
       "45587         29.0       1019.7       1015.0       7.0       7.0     14.4   \n",
       "45588         36.0       1012.4       1008.4       5.0       3.0     17.5   \n",
       "45589         69.0       1009.5       1007.2       8.0       7.0     15.4   \n",
       "45590         56.0       1005.5       1007.0       2.0       7.0     13.5   \n",
       "45591         49.0       1018.3       1018.5       7.0       7.0     11.1   \n",
       "\n",
       "       Temp3pm  RainToday  RainTomorrow  \n",
       "45587     23.6         No           Yes  \n",
       "45588     25.7        Yes           Yes  \n",
       "45589     20.2        Yes           Yes  \n",
       "45590     14.1        Yes           Yes  \n",
       "45591     15.4        Yes            No  \n",
       "\n",
       "[5 rows x 23 columns]"
      ]
     },
     "execution_count": 2,
     "metadata": {},
     "output_type": "execute_result"
    }
   ],
   "source": [
    "weather = pd.read_csv('D:\\development\\masterDegree\\SIN5007\\DATA\\weatherAUS.csv').sort_values(by=['Date', 'Location'], ascending=True)\n",
    "weather.head()"
   ]
  },
  {
   "cell_type": "markdown",
   "metadata": {},
   "source": [
    "# ENTENDIMENTO DOS DADOS"
   ]
  },
  {
   "cell_type": "markdown",
   "metadata": {},
   "source": [
    "## VOLUMETRIA"
   ]
  },
  {
   "cell_type": "code",
   "execution_count": 3,
   "metadata": {},
   "outputs": [
    {
     "name": "stdout",
     "output_type": "stream",
     "text": [
      "Linhas: 145,460 | Colunas: 23\n"
     ]
    }
   ],
   "source": [
    "print(f\"Linhas: {weather.shape[0]:,} | Colunas: {weather.shape[1]}\")"
   ]
  },
  {
   "cell_type": "code",
   "execution_count": null,
   "metadata": {},
   "outputs": [],
   "source": []
  },
  {
   "cell_type": "markdown",
   "metadata": {},
   "source": [
    "## REMOÇÃO DE NULOS"
   ]
  },
  {
   "cell_type": "code",
   "execution_count": 5,
   "metadata": {},
   "outputs": [
    {
     "name": "stdout",
     "output_type": "stream",
     "text": [
      "Existem 343,248 no Dataset considerando todas as Variáveis\n"
     ]
    },
    {
     "data": {
      "text/html": [
       "<div>\n",
       "<style scoped>\n",
       "    .dataframe tbody tr th:only-of-type {\n",
       "        vertical-align: middle;\n",
       "    }\n",
       "\n",
       "    .dataframe tbody tr th {\n",
       "        vertical-align: top;\n",
       "    }\n",
       "\n",
       "    .dataframe thead th {\n",
       "        text-align: right;\n",
       "    }\n",
       "</style>\n",
       "<table border=\"1\" class=\"dataframe\">\n",
       "  <thead>\n",
       "    <tr style=\"text-align: right;\">\n",
       "      <th></th>\n",
       "      <th>Coluna</th>\n",
       "      <th>Valores Nulos</th>\n",
       "      <th>Porcentagem</th>\n",
       "    </tr>\n",
       "  </thead>\n",
       "  <tbody>\n",
       "    <tr>\n",
       "      <th>6</th>\n",
       "      <td>Sunshine</td>\n",
       "      <td>69835</td>\n",
       "      <td>48.009762</td>\n",
       "    </tr>\n",
       "    <tr>\n",
       "      <th>5</th>\n",
       "      <td>Evaporation</td>\n",
       "      <td>62790</td>\n",
       "      <td>43.166506</td>\n",
       "    </tr>\n",
       "    <tr>\n",
       "      <th>18</th>\n",
       "      <td>Cloud3pm</td>\n",
       "      <td>59358</td>\n",
       "      <td>40.807095</td>\n",
       "    </tr>\n",
       "    <tr>\n",
       "      <th>17</th>\n",
       "      <td>Cloud9am</td>\n",
       "      <td>55888</td>\n",
       "      <td>38.421559</td>\n",
       "    </tr>\n",
       "    <tr>\n",
       "      <th>15</th>\n",
       "      <td>Pressure9am</td>\n",
       "      <td>15065</td>\n",
       "      <td>10.356799</td>\n",
       "    </tr>\n",
       "    <tr>\n",
       "      <th>16</th>\n",
       "      <td>Pressure3pm</td>\n",
       "      <td>15028</td>\n",
       "      <td>10.331363</td>\n",
       "    </tr>\n",
       "    <tr>\n",
       "      <th>9</th>\n",
       "      <td>WindDir9am</td>\n",
       "      <td>10566</td>\n",
       "      <td>7.263853</td>\n",
       "    </tr>\n",
       "    <tr>\n",
       "      <th>7</th>\n",
       "      <td>WindGustDir</td>\n",
       "      <td>10326</td>\n",
       "      <td>7.098859</td>\n",
       "    </tr>\n",
       "    <tr>\n",
       "      <th>8</th>\n",
       "      <td>WindGustSpeed</td>\n",
       "      <td>10263</td>\n",
       "      <td>7.055548</td>\n",
       "    </tr>\n",
       "    <tr>\n",
       "      <th>14</th>\n",
       "      <td>Humidity3pm</td>\n",
       "      <td>4507</td>\n",
       "      <td>3.098446</td>\n",
       "    </tr>\n",
       "    <tr>\n",
       "      <th>10</th>\n",
       "      <td>WindDir3pm</td>\n",
       "      <td>4228</td>\n",
       "      <td>2.906641</td>\n",
       "    </tr>\n",
       "    <tr>\n",
       "      <th>20</th>\n",
       "      <td>Temp3pm</td>\n",
       "      <td>3609</td>\n",
       "      <td>2.481094</td>\n",
       "    </tr>\n",
       "    <tr>\n",
       "      <th>22</th>\n",
       "      <td>RainTomorrow</td>\n",
       "      <td>3267</td>\n",
       "      <td>2.245978</td>\n",
       "    </tr>\n",
       "    <tr>\n",
       "      <th>4</th>\n",
       "      <td>Rainfall</td>\n",
       "      <td>3261</td>\n",
       "      <td>2.241853</td>\n",
       "    </tr>\n",
       "    <tr>\n",
       "      <th>21</th>\n",
       "      <td>RainToday</td>\n",
       "      <td>3261</td>\n",
       "      <td>2.241853</td>\n",
       "    </tr>\n",
       "    <tr>\n",
       "      <th>12</th>\n",
       "      <td>WindSpeed3pm</td>\n",
       "      <td>3062</td>\n",
       "      <td>2.105046</td>\n",
       "    </tr>\n",
       "    <tr>\n",
       "      <th>13</th>\n",
       "      <td>Humidity9am</td>\n",
       "      <td>2654</td>\n",
       "      <td>1.824557</td>\n",
       "    </tr>\n",
       "    <tr>\n",
       "      <th>19</th>\n",
       "      <td>Temp9am</td>\n",
       "      <td>1767</td>\n",
       "      <td>1.214767</td>\n",
       "    </tr>\n",
       "    <tr>\n",
       "      <th>11</th>\n",
       "      <td>WindSpeed9am</td>\n",
       "      <td>1767</td>\n",
       "      <td>1.214767</td>\n",
       "    </tr>\n",
       "    <tr>\n",
       "      <th>2</th>\n",
       "      <td>MinTemp</td>\n",
       "      <td>1485</td>\n",
       "      <td>1.020899</td>\n",
       "    </tr>\n",
       "    <tr>\n",
       "      <th>3</th>\n",
       "      <td>MaxTemp</td>\n",
       "      <td>1261</td>\n",
       "      <td>0.866905</td>\n",
       "    </tr>\n",
       "    <tr>\n",
       "      <th>1</th>\n",
       "      <td>Location</td>\n",
       "      <td>0</td>\n",
       "      <td>0.000000</td>\n",
       "    </tr>\n",
       "    <tr>\n",
       "      <th>0</th>\n",
       "      <td>Date</td>\n",
       "      <td>0</td>\n",
       "      <td>0.000000</td>\n",
       "    </tr>\n",
       "  </tbody>\n",
       "</table>\n",
       "</div>"
      ],
      "text/plain": [
       "           Coluna  Valores Nulos  Porcentagem\n",
       "6        Sunshine          69835    48.009762\n",
       "5     Evaporation          62790    43.166506\n",
       "18       Cloud3pm          59358    40.807095\n",
       "17       Cloud9am          55888    38.421559\n",
       "15    Pressure9am          15065    10.356799\n",
       "16    Pressure3pm          15028    10.331363\n",
       "9      WindDir9am          10566     7.263853\n",
       "7     WindGustDir          10326     7.098859\n",
       "8   WindGustSpeed          10263     7.055548\n",
       "14    Humidity3pm           4507     3.098446\n",
       "10     WindDir3pm           4228     2.906641\n",
       "20        Temp3pm           3609     2.481094\n",
       "22   RainTomorrow           3267     2.245978\n",
       "4        Rainfall           3261     2.241853\n",
       "21      RainToday           3261     2.241853\n",
       "12   WindSpeed3pm           3062     2.105046\n",
       "13    Humidity9am           2654     1.824557\n",
       "19        Temp9am           1767     1.214767\n",
       "11   WindSpeed9am           1767     1.214767\n",
       "2         MinTemp           1485     1.020899\n",
       "3         MaxTemp           1261     0.866905\n",
       "1        Location              0     0.000000\n",
       "0            Date              0     0.000000"
      ]
     },
     "execution_count": 5,
     "metadata": {},
     "output_type": "execute_result"
    }
   ],
   "source": [
    "nulos = weather.isnull().sum().reset_index().rename(columns={'index': 'Coluna', 0: 'Valores Nulos'})\n",
    "nulos['Porcentagem'] = nulos['Valores Nulos'] / weather.shape[0] * 100\n",
    "nulos = nulos.sort_values(by='Porcentagem', ascending=False)\n",
    "print(f\"Existem {nulos['Valores Nulos'].sum():,} no Dataset considerando todas as Variáveis\")\n",
    "nulos"
   ]
  },
  {
   "cell_type": "code",
   "execution_count": 6,
   "metadata": {},
   "outputs": [
    {
     "data": {
      "image/png": "[encoded data removed]",
      "text/plain": [
       "<Figure size 1500x500 with 1 Axes>"
      ]
     },
     "metadata": {},
     "output_type": "display_data"
    }
   ],
   "source": [
    "fig, ax = plt.subplots()\n",
    "fig.set_size_inches(15, 5)\n",
    "bar_container = ax.bar(nulos['Coluna'], nulos['Porcentagem'])\n",
    "ax.set(ylabel='% Nulo', title='Percentual de Nulos por Variável')\n",
    "ax.bar_label(bar_container, fmt=lambda x: f'{x * 1:.1f} %')\n",
    "\n",
    "plt.xticks(rotation=45, ha='right')\n",
    "plt.tight_layout()\n",
    "plt.show();"
   ]
  },
  {
   "cell_type": "code",
   "execution_count": 11,
   "metadata": {},
   "outputs": [
    {
     "name": "stdout",
     "output_type": "stream",
     "text": [
      "Linhas SEM NULOS: 56,420 | Colunas: 23\n"
     ]
    }
   ],
   "source": [
    "weather_clean = weather.dropna()\n",
    "print(f\"Linhas SEM NULOS: {int(weather_clean.shape[0]):,} | Colunas: {weather_clean.shape[1]}\")"
   ]
  },
  {
   "cell_type": "markdown",
   "metadata": {},
   "source": [
    "## TRANSFORMAÇÃO DAS VARIÁVEIS ALVO"
   ]
  },
  {
   "cell_type": "code",
   "execution_count": null,
   "metadata": {},
   "outputs": [],
   "source": [
    "weather.loc[:, 'Date']= pd.to_datetime(weather.Date)\n",
    "weather.loc[:, 'RainToday']= weather.RainToday.map({'Yes': 1, 'No': 0})\n",
    "weather.loc[:, 'RainTomorrow']= weather.RainTomorrow.map({'Yes': 1, 'No': 0})"
   ]
  },
  {
   "cell_type": "code",
   "execution_count": 12,
   "metadata": {},
   "outputs": [],
   "source": [
    "weather_clean.loc[:, 'Date'] = pd.to_datetime(weather_clean.Date)\n",
    "weather_clean.loc[:, 'RainToday'] = weather_clean.RainToday.map({'Yes': 1, 'No': 0})\n",
    "weather_clean.loc[:, 'RainTomorrow'] = weather_clean.RainTomorrow.map({'Yes': 1, 'No': 0})"
   ]
  },
  {
   "cell_type": "markdown",
   "metadata": {},
   "source": [
    "## TIPOS DE DADOS"
   ]
  },
  {
   "cell_type": "code",
   "execution_count": 17,
   "metadata": {},
   "outputs": [
    {
     "data": {
      "image/png": "[encoded data removed]",
      "text/plain": [
       "<Figure size 800x600 with 1 Axes>"
      ]
     },
     "metadata": {},
     "output_type": "display_data"
    }
   ],
   "source": [
    "data_types = weather.dtypes.value_counts().reset_index()\n",
    "data_types.columns = ['Data Type', 'Count']\n",
    "\n",
    "# Visualizar a distribuição dos tipos de dados\n",
    "plt.figure(figsize=(8, 6))\n",
    "ax = sns.barplot(x='Count', y='Data Type', data=data_types, hue='Data Type', palette='coolwarm')\n",
    "plt.title('Distribuição dos Tipos de Dados')\n",
    "plt.xlabel('Quantidade')\n",
    "plt.ylabel('Tipo de Dado')\n",
    "\n",
    "# Adicionando os valores nas barras\n",
    "for index, value in enumerate(data_types['Count']):\n",
    "    ax.text(value, index, f'{value}', va='center', ha='left', color='black', fontweight='bold')\n",
    "\n",
    "plt.show();\n"
   ]
  },
  {
   "cell_type": "markdown",
   "metadata": {},
   "source": [
    "## DISTRIBUIÇÃO DOS DADOS"
   ]
  },
  {
   "cell_type": "code",
   "execution_count": 18,
   "metadata": {},
   "outputs": [],
   "source": [
    "numerical_columns = weather.select_dtypes(include=[\"int64\", \"float64\"])"
   ]
  },
  {
   "cell_type": "code",
   "execution_count": null,
   "metadata": {},
   "outputs": [],
   "source": []
  },
  {
   "cell_type": "code",
   "execution_count": null,
   "metadata": {},
   "outputs": [],
   "source": []
  },
  {
   "cell_type": "code",
   "execution_count": null,
   "metadata": {},
   "outputs": [],
   "source": []
  },
  {
   "cell_type": "code",
   "execution_count": null,
   "metadata": {},
   "outputs": [],
   "source": []
  },
  {
   "cell_type": "code",
   "execution_count": null,
   "metadata": {},
   "outputs": [],
   "source": []
  },
  {
   "cell_type": "code",
   "execution_count": null,
   "metadata": {},
   "outputs": [],
   "source": []
  },
  {
   "cell_type": "code",
   "execution_count": null,
   "metadata": {},
   "outputs": [],
   "source": []
  },
  {
   "cell_type": "code",
   "execution_count": null,
   "metadata": {},
   "outputs": [],
   "source": []
  },
  {
   "cell_type": "code",
   "execution_count": null,
   "metadata": {},
   "outputs": [],
   "source": []
  }
 ],
 "metadata": {
  "kernelspec": {
   "display_name": "sin5007-D8LjHJFi-py3.11",
   "language": "python",
   "name": "python3"
  },
  "language_info": {
   "codemirror_mode": {
    "name": "ipython",
    "version": 3
   },
   "file_extension": ".py",
   "mimetype": "text/x-python",
   "name": "python",
   "nbconvert_exporter": "python",
   "pygments_lexer": "ipython3",
   "version": "3.11.9"
  }
 },
 "nbformat": 4,
 "nbformat_minor": 2
}
