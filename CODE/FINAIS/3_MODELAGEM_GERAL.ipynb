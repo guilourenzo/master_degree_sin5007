{
 "cells": [
  {
   "cell_type": "markdown",
   "metadata": {},
   "source": [
    "# IMPORTAÇÃO DE BIBLIOTECAS"
   ]
  },
  {
   "cell_type": "code",
   "execution_count": 1,
   "metadata": {},
   "outputs": [],
   "source": [
    "# MANIPULAÇÃO DE DADOS\n",
    "import pandas as pd\n",
    "import numpy as np\n",
    "from datetime import datetime\n",
    "\n",
    "# VISUALIZAÇÃO DE DADOS\n",
    "import matplotlib.pyplot as plt\n",
    "\n",
    "# TRANSFORMAÇÕES\n",
    "from sklearn.decomposition import PCA\n",
    "from sklearn.preprocessing import StandardScaler\n",
    "from sklearn.preprocessing import KBinsDiscretizer\n",
    "from imblearn import over_sampling, under_sampling\n",
    "\n",
    "\n",
    "# PREPARAÇÃO TREINO E AVALIAÇÃO\n",
    "from sklearn.model_selection import StratifiedKFold, GridSearchCV, train_test_split\n",
    "from sklearn.metrics import accuracy_score, f1_score, precision_score, recall_score\n",
    "\n",
    "# MODELOS UTILIZADOS\n",
    "from mixed_naive_bayes import MixedNB\n",
    "from sklearn.naive_bayes import GaussianNB\n",
    "from sklearn.svm import SVC\n",
    "from sklearn.ensemble import RandomForestClassifier\n",
    "from sklearn.neural_network import MLPClassifier\n",
    "\n",
    "# CONFIGURAÇÕES DE EXIBIÇÃO\n",
    "import gc\n",
    "import warnings\n",
    "\n",
    "warnings.filterwarnings(\"ignore\")\n",
    "\n",
    "# pd.set_option('display.max_rows', None)\n",
    "pd.set_option(\"display.max_columns\", None)\n",
    "pd.set_option(\"display.width\", None)\n",
    "pd.set_option(\"display.max_colwidth\", None)"
   ]
  },
  {
   "cell_type": "code",
   "execution_count": null,
   "metadata": {},
   "outputs": [],
   "source": [
    "inicio_processo = datetime.now()\n",
    "print(f'PROCESSO DE MODELAGEM INICIADO EM: {inicio_processo}')"
   ]
  },
  {
   "cell_type": "markdown",
   "metadata": {},
   "source": [
    "# IMPORTAÇÃO DE DADOS"
   ]
  },
  {
   "cell_type": "code",
   "execution_count": 2,
   "metadata": {},
   "outputs": [
    {
     "name": "stdout",
     "output_type": "stream",
     "text": [
      "O dataset possui 56,420 instâncias (linhas) e 23 características (colunas).\n",
      "As características (colunas) do dataset são: ['Date', 'Location', 'MinTemp', 'MaxTemp', 'Rainfall', 'Evaporation', 'Sunshine', 'WindGustDir', 'WindGustSpeed', 'WindDir9am', 'WindDir3pm', 'WindSpeed9am', 'WindSpeed3pm', 'Humidity9am', 'Humidity3pm', 'Pressure9am', 'Pressure3pm', 'Cloud9am', 'Cloud3pm', 'Temp9am', 'Temp3pm', 'RainToday', 'RainTomorrow']\n"
     ]
    }
   ],
   "source": [
    "weather_aus = pd.read_csv(\"../../DATA/weatherAUS.csv\").dropna()\n",
    "\n",
    "print(\n",
    "    f\"O dataset possui {weather_aus.shape[0]:,} instâncias (linhas) e {weather_aus.shape[1]:,} características (colunas).\"\n",
    ")\n",
    "\n",
    "print(f\"As características (colunas) do dataset são: {weather_aus.columns.to_list()}\")"
   ]
  },
  {
   "cell_type": "markdown",
   "metadata": {},
   "source": [
    "# FUNÇÕES PARA PRÉ-PROCESSAMENTO"
   ]
  },
  {
   "cell_type": "markdown",
   "metadata": {},
   "source": [
    "## SEPARA TREINO E TESTE (80/20)"
   ]
  },
  {
   "cell_type": "code",
   "execution_count": 3,
   "metadata": {},
   "outputs": [],
   "source": [
    "def split_data(df, target_column):\n",
    "    X = df.drop(columns=[target_column])\n",
    "    y = df[target_column]\n",
    "\n",
    "    # Dividir a base em treino e teste, mantendo a proporção das classes\n",
    "    X_train, X_test, y_train, y_test = train_test_split(\n",
    "        X, y, test_size=0.2, random_state=42, stratify=y\n",
    "    )\n",
    "\n",
    "    df_train = pd.concat([X_train, y_train], axis=1)\n",
    "    df_test = pd.concat([X_test, y_test], axis=1)\n",
    "\n",
    "    return df_train, df_test"
   ]
  },
  {
   "cell_type": "markdown",
   "metadata": {},
   "source": [
    "## AJUSTA O FORMATO DO ALVO"
   ]
  },
  {
   "cell_type": "code",
   "execution_count": 4,
   "metadata": {},
   "outputs": [],
   "source": [
    "def adjust_data_types(df):\n",
    "    df[\"Date\"] = pd.to_datetime(df[\"Date\"], format=\"%Y-%m-%d\")\n",
    "    df[\"RainTomorrow\"] = df.RainTomorrow.map({\"Yes\": 1, \"No\": 0})\n",
    "\n",
    "    return df\n"
   ]
  },
  {
   "cell_type": "markdown",
   "metadata": {},
   "source": [
    "## CRIAÇÃO DE VARIÁVEIS AUXILIARES"
   ]
  },
  {
   "cell_type": "code",
   "execution_count": null,
   "metadata": {},
   "outputs": [],
   "source": [
    "def create_auxiliar_columns(df):\n",
    "    def get_season(month_number) -> str:\n",
    "        quarter = month_number % 12 // 3 + 1\n",
    "        if quarter == 1:\n",
    "            return \"summer\"\n",
    "\n",
    "        if quarter == 2:\n",
    "            return \"autumn\"\n",
    "\n",
    "        if quarter == 3:\n",
    "            return \"winter\"\n",
    "\n",
    "        if quarter == 4:\n",
    "            return \"spring\"\n",
    "\n",
    "    # COLUNAS SELECIONADAS COM BASE NAS AVALIAÇÕES ANTERIORES\n",
    "    df = df[\n",
    "        [\n",
    "            \"Date\",\n",
    "            \"MinTemp\",\n",
    "            \"MaxTemp\",\n",
    "            \"Rainfall\",\n",
    "            \"Evaporation\",\n",
    "            \"Sunshine\",\n",
    "            \"WindGustDir\",\n",
    "            \"WindGustSpeed\",\n",
    "            \"WindDir3pm\",\n",
    "            \"WindSpeed9am\",\n",
    "            \"WindSpeed3pm\",\n",
    "            \"Humidity9am\",\n",
    "            \"Humidity3pm\",\n",
    "            \"Pressure3pm\",\n",
    "            \"Cloud9am\",\n",
    "            \"Cloud3pm\",\n",
    "            \"RainTomorrow\",\n",
    "        ]\n",
    "    ]\n",
    "\n",
    "    df[\"RangeTemp\"] = df[\"MaxTemp\"] - df[\"MinTemp\"]\n",
    "\n",
    "    df[\"month\"] = df.Date.dt.month\n",
    "    df[\"season\"] = df[\"month\"].apply(lambda month_number: get_season(month_number))\n",
    "\n",
    "    time_encoded = pd.get_dummies(\n",
    "        df[[\"month\", \"season\"]],\n",
    "        columns=[\"month\", \"season\"],\n",
    "        drop_first=True,\n",
    "        prefix=[\"month\", \"season\"],\n",
    "        dtype=int,\n",
    "    )\n",
    "\n",
    "    # SEPARA AS VARIÁVEIS CATEGÓRICAS E NUMÉRICAS\n",
    "    # CATEGORIZA AS VARIÁVEIS NECESSÁRIAS\n",
    "    categorical_columns = pd.get_dummies(\n",
    "        df.select_dtypes(include=[\"object\", \"datetime64\"]),\n",
    "        columns=[\"WindGustDir\", \"WindDir3pm\"],\n",
    "        drop_first=True,\n",
    "        prefix=[\"WindGustDir\", \"WindDir3pm\"],\n",
    "        dtype=int,\n",
    "    )\n",
    "\n",
    "    numerical_columns = df.select_dtypes(\"number\")\n",
    "\n",
    "    df = pd.concat([numerical_columns, categorical_columns, time_encoded], axis=1)\n",
    "\n",
    "    return df.drop(columns=[\"month\", \"Date\", \"season\"]), {\n",
    "        \"numerical_columns\": numerical_columns.drop(\n",
    "            columns=[\"RainTomorrow\", \"month\"]\n",
    "        ).columns.to_list(),\n",
    "        \"categorical_columns\": categorical_columns.drop(\n",
    "            columns=[\"Date\", \"season\"]\n",
    "        ).columns.to_list(),\n",
    "        \"time_encoded\": time_encoded.columns.to_list(),\n",
    "    }\n"
   ]
  },
  {
   "cell_type": "markdown",
   "metadata": {},
   "source": [
    "## APLICA AS TRANSFORMAÇÕES"
   ]
  },
  {
   "cell_type": "code",
   "execution_count": null,
   "metadata": {},
   "outputs": [],
   "source": [
    "def instance_transformations(n_components=8):\n",
    "    discretizer = KBinsDiscretizer(\n",
    "        n_bins=5, encode=\"ordinal\", strategy=\"kmeans\", random_state=42\n",
    "    )\n",
    "\n",
    "    smote = over_sampling.SMOTE(random_state=42)\n",
    "    under = under_sampling.RandomUnderSampler(random_state=42)\n",
    "\n",
    "    scaler = StandardScaler()\n",
    "    pca = PCA(n_components=n_components, random_state=42)\n",
    "\n",
    "    return discretizer, scaler, pca, smote, under"
   ]
  },
  {
   "cell_type": "code",
   "execution_count": 7,
   "metadata": {},
   "outputs": [],
   "source": [
    "def adjust_train_volume(df, target_column, smote, under):\n",
    "    X = df.drop(columns=[target_column])\n",
    "    y = df[target_column]\n",
    "\n",
    "    X_smote, y_smote = smote.fit_resample(X, y)\n",
    "    df_smote = pd.concat([X_smote, y_smote], axis=1)\n",
    "\n",
    "    X_under, y_under = under.fit_resample(X, y)\n",
    "    df_under = pd.concat([X_under, y_under], axis=1)\n",
    "\n",
    "    return df_smote, df_under"
   ]
  },
  {
   "cell_type": "code",
   "execution_count": 8,
   "metadata": {},
   "outputs": [],
   "source": [
    "def fit_transformmations(df, cols, discretizer, scaler, pca, discrete_col=\"Rainfall\"):\n",
    "    discretizer.fit(df[discrete_col].values.reshape(-1, 1))\n",
    "\n",
    "    scaler.fit(df[cols])\n",
    "    pca.fit(df[cols])\n",
    "\n",
    "    return discretizer, scaler, pca\n"
   ]
  },
  {
   "cell_type": "code",
   "execution_count": 9,
   "metadata": {},
   "outputs": [],
   "source": [
    "def transform_data(df, cols, discretizer, scaler, pca, discrete_col=\"Rainfall\"):\n",
    "    df[discrete_col + \"_Discretized\"] = discretizer.transform(\n",
    "        df[discrete_col].values.reshape(-1, 1)\n",
    "    )\n",
    "    df[cols] = scaler.transform(df[cols])\n",
    "    df = df.reset_index(drop=True)\n",
    "\n",
    "    pca_result = pca.transform(df[cols])\n",
    "\n",
    "    df_pca = pd.DataFrame(\n",
    "        data=pca_result,\n",
    "        columns=[f\"PC{comp}\" for comp in range(1, pca.n_components_ + 1)],\n",
    "    )\n",
    "    df_pca = df_pca.reset_index(drop=True)\n",
    "    df_pca[\"RainTomorrow\"] = df[\"RainTomorrow\"]\n",
    "\n",
    "    return df, df_pca"
   ]
  },
  {
   "cell_type": "markdown",
   "metadata": {},
   "source": [
    "# INICIO DO PRÉ-PROCESSAMENTO"
   ]
  },
  {
   "cell_type": "markdown",
   "metadata": {},
   "source": [
    "## SEPARA TREINO E TESTE (80/20)"
   ]
  },
  {
   "cell_type": "code",
   "execution_count": 25,
   "metadata": {},
   "outputs": [],
   "source": [
    "df_train, df_test = split_data(weather_aus, \"RainTomorrow\")"
   ]
  },
  {
   "cell_type": "markdown",
   "metadata": {},
   "source": [
    "## APLICAÇÕES SOBRE TREINO"
   ]
  },
  {
   "cell_type": "markdown",
   "metadata": {},
   "source": [
    "### AJUSTA O TIPO DE DADO"
   ]
  },
  {
   "cell_type": "code",
   "execution_count": 26,
   "metadata": {},
   "outputs": [],
   "source": [
    "df_train = adjust_data_types(df_train)"
   ]
  },
  {
   "cell_type": "markdown",
   "metadata": {},
   "source": [
    "### CRIA VARIÁVEIS AUXILIARES"
   ]
  },
  {
   "cell_type": "code",
   "execution_count": 27,
   "metadata": {},
   "outputs": [],
   "source": [
    "df_train, columns_names = create_auxiliar_columns(df_train)"
   ]
  },
  {
   "cell_type": "markdown",
   "metadata": {},
   "source": [
    "### APLICA AS TRANSFORMAÇÕES"
   ]
  },
  {
   "cell_type": "code",
   "execution_count": 13,
   "metadata": {},
   "outputs": [],
   "source": [
    "discretizer, scaler, pca, smote, under = instance_transformations()"
   ]
  },
  {
   "cell_type": "markdown",
   "metadata": {},
   "source": [
    "#### AJUSTA VOLUME DA RESPOSTA"
   ]
  },
  {
   "cell_type": "code",
   "execution_count": null,
   "metadata": {},
   "outputs": [
    {
     "data": {
      "text/html": [
       "<div>\n",
       "<style scoped>\n",
       "    .dataframe tbody tr th:only-of-type {\n",
       "        vertical-align: middle;\n",
       "    }\n",
       "\n",
       "    .dataframe tbody tr th {\n",
       "        vertical-align: top;\n",
       "    }\n",
       "\n",
       "    .dataframe thead th {\n",
       "        text-align: right;\n",
       "    }\n",
       "</style>\n",
       "<table border=\"1\" class=\"dataframe\">\n",
       "  <thead>\n",
       "    <tr style=\"text-align: right;\">\n",
       "      <th></th>\n",
       "      <th>RainTomorrow</th>\n",
       "      <th>QTD</th>\n",
       "      <th>PERC</th>\n",
       "    </tr>\n",
       "  </thead>\n",
       "  <tbody>\n",
       "    <tr>\n",
       "      <th>0</th>\n",
       "      <td>0</td>\n",
       "      <td>35194</td>\n",
       "      <td>0.779732</td>\n",
       "    </tr>\n",
       "    <tr>\n",
       "      <th>1</th>\n",
       "      <td>1</td>\n",
       "      <td>9942</td>\n",
       "      <td>0.220268</td>\n",
       "    </tr>\n",
       "  </tbody>\n",
       "</table>\n",
       "</div>"
      ],
      "text/plain": [
       "   RainTomorrow    QTD      PERC\n",
       "0             0  35194  0.779732\n",
       "1             1   9942  0.220268"
      ]
     },
     "execution_count": 28,
     "metadata": {},
     "output_type": "execute_result"
    }
   ],
   "source": [
    "alvo = df_train.RainTomorrow.value_counts().to_frame(\"QTD\").reset_index()\n",
    "alvo[\"PERC\"] = alvo.QTD / alvo.QTD.sum()\n",
    "alvo"
   ]
  },
  {
   "cell_type": "code",
   "execution_count": null,
   "metadata": {},
   "outputs": [],
   "source": [
    "df_train_smote, df_train_under = adjust_train_volume(\n",
    "    df_train, \"RainTomorrow\", smote, under\n",
    ")"
   ]
  },
  {
   "cell_type": "code",
   "execution_count": null,
   "metadata": {},
   "outputs": [
    {
     "data": {
      "text/html": [
       "<div>\n",
       "<style scoped>\n",
       "    .dataframe tbody tr th:only-of-type {\n",
       "        vertical-align: middle;\n",
       "    }\n",
       "\n",
       "    .dataframe tbody tr th {\n",
       "        vertical-align: top;\n",
       "    }\n",
       "\n",
       "    .dataframe thead th {\n",
       "        text-align: right;\n",
       "    }\n",
       "</style>\n",
       "<table border=\"1\" class=\"dataframe\">\n",
       "  <thead>\n",
       "    <tr style=\"text-align: right;\">\n",
       "      <th></th>\n",
       "      <th>RainTomorrow</th>\n",
       "      <th>QTD</th>\n",
       "      <th>PERC</th>\n",
       "    </tr>\n",
       "  </thead>\n",
       "  <tbody>\n",
       "    <tr>\n",
       "      <th>0</th>\n",
       "      <td>1</td>\n",
       "      <td>35194</td>\n",
       "      <td>0.5</td>\n",
       "    </tr>\n",
       "    <tr>\n",
       "      <th>1</th>\n",
       "      <td>0</td>\n",
       "      <td>35194</td>\n",
       "      <td>0.5</td>\n",
       "    </tr>\n",
       "  </tbody>\n",
       "</table>\n",
       "</div>"
      ],
      "text/plain": [
       "   RainTomorrow    QTD  PERC\n",
       "0             1  35194   0.5\n",
       "1             0  35194   0.5"
      ]
     },
     "execution_count": 31,
     "metadata": {},
     "output_type": "execute_result"
    }
   ],
   "source": [
    "alvo_smote = df_train_smote.RainTomorrow.value_counts().to_frame(\"QTD\").reset_index()\n",
    "alvo_smote[\"PERC\"] = alvo_smote.QTD / alvo_smote.QTD.sum()\n",
    "alvo_smote"
   ]
  },
  {
   "cell_type": "code",
   "execution_count": null,
   "metadata": {},
   "outputs": [
    {
     "data": {
      "text/html": [
       "<div>\n",
       "<style scoped>\n",
       "    .dataframe tbody tr th:only-of-type {\n",
       "        vertical-align: middle;\n",
       "    }\n",
       "\n",
       "    .dataframe tbody tr th {\n",
       "        vertical-align: top;\n",
       "    }\n",
       "\n",
       "    .dataframe thead th {\n",
       "        text-align: right;\n",
       "    }\n",
       "</style>\n",
       "<table border=\"1\" class=\"dataframe\">\n",
       "  <thead>\n",
       "    <tr style=\"text-align: right;\">\n",
       "      <th></th>\n",
       "      <th>RainTomorrow</th>\n",
       "      <th>QTD</th>\n",
       "      <th>PERC</th>\n",
       "    </tr>\n",
       "  </thead>\n",
       "  <tbody>\n",
       "    <tr>\n",
       "      <th>0</th>\n",
       "      <td>0</td>\n",
       "      <td>9942</td>\n",
       "      <td>0.5</td>\n",
       "    </tr>\n",
       "    <tr>\n",
       "      <th>1</th>\n",
       "      <td>1</td>\n",
       "      <td>9942</td>\n",
       "      <td>0.5</td>\n",
       "    </tr>\n",
       "  </tbody>\n",
       "</table>\n",
       "</div>"
      ],
      "text/plain": [
       "   RainTomorrow   QTD  PERC\n",
       "0             0  9942   0.5\n",
       "1             1  9942   0.5"
      ]
     },
     "execution_count": 32,
     "metadata": {},
     "output_type": "execute_result"
    }
   ],
   "source": [
    "alvo_under = df_train_under.RainTomorrow.value_counts().to_frame(\"QTD\").reset_index()\n",
    "alvo_under[\"PERC\"] = alvo_under.QTD / alvo_under.QTD.sum()\n",
    "alvo_under"
   ]
  },
  {
   "cell_type": "markdown",
   "metadata": {},
   "source": [
    "#### TRANSFORMA OS DADOS"
   ]
  },
  {
   "cell_type": "code",
   "execution_count": null,
   "metadata": {},
   "outputs": [],
   "source": [
    "discretizer_full, scaler_full, pca_full = fit_transformmations(\n",
    "    df_train, columns_names[\"numerical_columns\"], discretizer, scaler, pca\n",
    ")"
   ]
  },
  {
   "cell_type": "code",
   "execution_count": null,
   "metadata": {},
   "outputs": [],
   "source": [
    "discretizer_smote, scaler_smote, pca_smote = fit_transformmations(\n",
    "    df_train_smote, columns_names[\"numerical_columns\"], discretizer, scaler, pca\n",
    ")"
   ]
  },
  {
   "cell_type": "code",
   "execution_count": null,
   "metadata": {},
   "outputs": [],
   "source": [
    "discretizer_under, scaler_under, pca_under = fit_transformmations(\n",
    "    df_train_under, columns_names[\"numerical_columns\"], discretizer, scaler, pca\n",
    ")"
   ]
  },
  {
   "cell_type": "code",
   "execution_count": null,
   "metadata": {},
   "outputs": [],
   "source": [
    "df_train_full, df_train_full_pca = transform_data(\n",
    "    df_train, columns_names[\"numerical_columns\"], discretizer, scaler, pca\n",
    ")"
   ]
  },
  {
   "cell_type": "code",
   "execution_count": null,
   "metadata": {},
   "outputs": [],
   "source": [
    "df_train_smote, df_train_smote_pca = transform_data(\n",
    "    df_train_smote,\n",
    "    columns_names[\"numerical_columns\"],\n",
    "    discretizer_smote,\n",
    "    scaler_smote,\n",
    "    pca_smote,\n",
    ")"
   ]
  },
  {
   "cell_type": "code",
   "execution_count": null,
   "metadata": {},
   "outputs": [],
   "source": [
    "df_train_under, df_train_under_pca = transform_data(\n",
    "    df_train_under,\n",
    "    columns_names[\"numerical_columns\"],\n",
    "    discretizer_under,\n",
    "    scaler_under,\n",
    "    pca_under,\n",
    ")"
   ]
  },
  {
   "cell_type": "markdown",
   "metadata": {},
   "source": [
    "## APLICAÇÕES SOBRE TESTE"
   ]
  },
  {
   "cell_type": "markdown",
   "metadata": {},
   "source": [
    "### AJUSTA O TIPO DE DADO"
   ]
  },
  {
   "cell_type": "code",
   "execution_count": 39,
   "metadata": {},
   "outputs": [],
   "source": [
    "df_test = adjust_data_types(df_test)"
   ]
  },
  {
   "cell_type": "markdown",
   "metadata": {},
   "source": [
    "### CRIA VARIÁVEIS AUXILIARES"
   ]
  },
  {
   "cell_type": "code",
   "execution_count": 40,
   "metadata": {},
   "outputs": [],
   "source": [
    "df_test, columns_names = create_auxiliar_columns(df_test)"
   ]
  },
  {
   "cell_type": "markdown",
   "metadata": {},
   "source": [
    "### TRANSFORMA OS DADOS"
   ]
  },
  {
   "cell_type": "code",
   "execution_count": null,
   "metadata": {},
   "outputs": [],
   "source": [
    "df_test_full, df_test_full_pca = transform_data(\n",
    "    df_test, columns_names[\"numerical_columns\"], discretizer, scaler, pca\n",
    ")"
   ]
  },
  {
   "cell_type": "code",
   "execution_count": null,
   "metadata": {},
   "outputs": [],
   "source": [
    "df_test_smote, df_test_smote_pca = transform_data(\n",
    "    df_test,\n",
    "    columns_names[\"numerical_columns\"],\n",
    "    discretizer_smote,\n",
    "    scaler_smote,\n",
    "    pca_smote,\n",
    ")"
   ]
  },
  {
   "cell_type": "code",
   "execution_count": null,
   "metadata": {},
   "outputs": [],
   "source": [
    "df_test_under, df_test_under_pca = transform_data(\n",
    "    df_test,\n",
    "    columns_names[\"numerical_columns\"],\n",
    "    discretizer_under,\n",
    "    scaler_under,\n",
    "    pca_under,\n",
    ")"
   ]
  },
  {
   "cell_type": "code",
   "execution_count": null,
   "metadata": {},
   "outputs": [],
   "source": []
  },
  {
   "cell_type": "markdown",
   "metadata": {},
   "source": [
    "## LIBERA MEMÓRIA"
   ]
  },
  {
   "cell_type": "code",
   "execution_count": null,
   "metadata": {},
   "outputs": [
    {
     "data": {
      "text/plain": [
       "58"
      ]
     },
     "execution_count": 44,
     "metadata": {},
     "output_type": "execute_result"
    }
   ],
   "source": [
    "del (\n",
    "    df_train,\n",
    "    df_test,\n",
    "    weather_aus,\n",
    "    discretizer_under,\n",
    "    scaler_under,\n",
    "    pca_under,\n",
    "    discretizer_smote,\n",
    "    scaler_smote,\n",
    "    pca_smote,\n",
    "    discretizer,\n",
    "    scaler,\n",
    "    pca,\n",
    "    smote,\n",
    "    under,\n",
    ")\n",
    "gc.collect()"
   ]
  },
  {
   "cell_type": "markdown",
   "metadata": {},
   "source": [
    "# PROCESSO DE MODELAGEM"
   ]
  },
  {
   "cell_type": "markdown",
   "metadata": {},
   "source": [
    "## FUNÇÕES DE CROSS VALIDATION"
   ]
  },
  {
   "cell_type": "markdown",
   "metadata": {},
   "source": [
    "### NUMÉRICAS"
   ]
  },
  {
   "cell_type": "code",
   "execution_count": null,
   "metadata": {},
   "outputs": [],
   "source": [
    "def run_cross_validation(\n",
    "    train_data, train_target, test_data, test_target, model, param_grid, k_folds=5\n",
    "):\n",
    "    skf = StratifiedKFold(n_splits=k_folds)\n",
    "    scores_validation = {\"f1\": [], \"accuracy\": [], \"precision\": [], \"recall\": []}\n",
    "    scores_test = {\"f1\": [], \"accuracy\": [], \"precision\": [], \"recall\": []}\n",
    "    best_params = None\n",
    "    best_model = None\n",
    "    best_f1 = 0\n",
    "    counter = 1\n",
    "    print(f\"====> INICIANDO PROCESSAMENTO: {datetime.now()} <====\")\n",
    "\n",
    "    for train_index, valid_index in skf.split(train_data, train_target):\n",
    "        inicio = datetime.now()\n",
    "        print(f\"====> {inicio} | EXECUTANDO FOLD {counter} \")\n",
    "\n",
    "        # Use .iloc to select rows based on indices\n",
    "        X_train_fold, X_valid_fold = (\n",
    "            train_data.iloc[train_index],\n",
    "            train_data.iloc[valid_index],\n",
    "        )\n",
    "        y_train_fold, y_valid_fold = (\n",
    "            train_target.iloc[train_index],\n",
    "            train_target.iloc[valid_index],\n",
    "        )\n",
    "\n",
    "        # Etapa 2: Treinamento e ajuste de hiperparâmetros com validação cruzada interna\n",
    "        grid_search = GridSearchCV(\n",
    "            model,\n",
    "            param_grid,\n",
    "            scoring=\"f1\",\n",
    "            cv=StratifiedKFold(n_splits=3),\n",
    "            n_jobs=-1,\n",
    "            verbose=3,\n",
    "        )\n",
    "        grid_search.fit(X_train_fold, y_train_fold)\n",
    "        model = grid_search.best_estimator_\n",
    "        f1 = grid_search.best_score_\n",
    "\n",
    "        if f1 > best_f1:\n",
    "            best_model = model\n",
    "            best_params = grid_search.best_params_\n",
    "            best_f1 = f1\n",
    "\n",
    "        # Avaliação nos dados de validação\n",
    "        y_valid_pred = model.predict(X_valid_fold)\n",
    "\n",
    "        # Cálculo das métricas no fold\n",
    "        scores_validation[\"f1\"].append(\n",
    "            f1_score(y_valid_fold, y_valid_pred, average=\"macro\")\n",
    "        )\n",
    "        scores_validation[\"accuracy\"].append(accuracy_score(y_valid_fold, y_valid_pred))\n",
    "        scores_validation[\"precision\"].append(\n",
    "            precision_score(y_valid_fold, y_valid_pred, average=\"macro\")\n",
    "        )\n",
    "        scores_validation[\"recall\"].append(\n",
    "            recall_score(y_valid_fold, y_valid_pred, average=\"macro\")\n",
    "        )\n",
    "\n",
    "        # Avaliar na base de teste com o melhor modelo\n",
    "        y_test_pred = model.predict(test_data)\n",
    "        f1_test = f1_score(test_target, y_test_pred, average=\"macro\")\n",
    "        accuracy_test = accuracy_score(test_target, y_test_pred)\n",
    "        precision_test = precision_score(test_target, y_test_pred, average=\"macro\")\n",
    "        recall_test = recall_score(test_target, y_test_pred, average=\"macro\")\n",
    "\n",
    "        # Armazenar as métricas na base de teste\n",
    "        scores_test[\"f1\"].append(f1_test)\n",
    "        scores_test[\"accuracy\"].append(accuracy_test)\n",
    "        scores_test[\"precision\"].append(precision_test)\n",
    "        scores_test[\"recall\"].append(recall_test)\n",
    "\n",
    "        counter += 1\n",
    "        final = datetime.now()\n",
    "        print(\n",
    "            f\"===> {final} | FINALIZADO FOLD {counter - 1} | TEMPO TOTAL {final - inicio}\\n\\n\"\n",
    "        )\n",
    "\n",
    "    # Calcula as médias das métricas nos folds de validação\n",
    "    avg_scores_validation = {\n",
    "        metric: np.mean(values) for metric, values in scores_validation.items()\n",
    "    }\n",
    "    test_scores = {metric: np.mean(values) for metric, values in scores_test.items()}\n",
    "\n",
    "    # Criar log dos resultados\n",
    "    log = pd.DataFrame(scores_validation)\n",
    "    log[\"dataset\"] = \"Validação Cruzada\"\n",
    "\n",
    "    test_log = pd.DataFrame(scores_test)\n",
    "    test_log[\"dataset\"] = \"Teste\"\n",
    "\n",
    "    # Concatenar os logs da validação cruzada e do teste\n",
    "    full_log = pd.concat([log, test_log])\n",
    "\n",
    "    return avg_scores_validation, test_scores, best_params, full_log"
   ]
  },
  {
   "cell_type": "markdown",
   "metadata": {},
   "source": [
    "### CATEGÓRICAS"
   ]
  },
  {
   "cell_type": "code",
   "execution_count": null,
   "metadata": {},
   "outputs": [],
   "source": [
    "def run_cross_mix(\n",
    "    train_data,\n",
    "    train_target,\n",
    "    test_data,\n",
    "    test_target,\n",
    "    alphas,\n",
    "    k_folds=5,\n",
    "    categorical_features=None,\n",
    "):\n",
    "    skf = StratifiedKFold(n_splits=k_folds)\n",
    "    scores_validation = {\"f1\": [], \"accuracy\": [], \"precision\": [], \"recall\": []}\n",
    "    scores_test = {\"f1\": [], \"accuracy\": [], \"precision\": [], \"recall\": []}\n",
    "    best_model = None\n",
    "    best_alpha = None\n",
    "    best_f1 = 0\n",
    "    counter = 1\n",
    "    print(f\"====> INICIANDO PROCESSAMENTO: {datetime.now()} <====\")\n",
    "\n",
    "    # Validação cruzada estratificada\n",
    "    for train_index, valid_index in skf.split(train_data, train_target):\n",
    "        inicio = datetime.now()\n",
    "        print(f\"====> {inicio} | EXECUTANDO FOLD {counter} \")\n",
    "\n",
    "        X_train_fold, X_valid_fold = (\n",
    "            train_data.iloc[train_index],\n",
    "            train_data.iloc[valid_index],\n",
    "        )\n",
    "        y_train_fold, y_valid_fold = (\n",
    "            train_target.iloc[train_index],\n",
    "            train_target.iloc[valid_index],\n",
    "        )\n",
    "\n",
    "        # Iterar pelos valores de alpha\n",
    "        for alpha in alphas:\n",
    "            print(f\"========> Testando: alpha = {alpha}\")\n",
    "            # Treina o modelo com o valor de alpha atual\n",
    "            model = MixedNB(categorical_features=categorical_features, alpha=alpha)\n",
    "            model.fit(X_train_fold, y_train_fold)\n",
    "\n",
    "            # Avaliação nos dados de validação\n",
    "            y_valid_pred = model.predict(X_valid_fold)\n",
    "            f1 = f1_score(y_valid_fold, y_valid_pred, average=\"macro\")\n",
    "            accuracy = accuracy_score(y_valid_fold, y_valid_pred)\n",
    "            precision = precision_score(y_valid_fold, y_valid_pred, average=\"macro\")\n",
    "            recall = recall_score(y_valid_fold, y_valid_pred, average=\"macro\")\n",
    "\n",
    "            # Seleciona o melhor modelo baseado na métrica F1-score\n",
    "            if f1 > best_f1:\n",
    "                best_f1 = f1\n",
    "                best_model = model\n",
    "                best_alpha = alpha\n",
    "\n",
    "        # Armazenar as métricas para o fold atual\n",
    "        scores_validation[\"f1\"].append(f1)\n",
    "        scores_validation[\"accuracy\"].append(accuracy)\n",
    "        scores_validation[\"precision\"].append(precision)\n",
    "        scores_validation[\"recall\"].append(recall)\n",
    "\n",
    "        # Avaliar na base de teste com o melhor modelo\n",
    "        y_test_pred = model.predict(test_data)\n",
    "        f1_test = f1_score(test_target, y_test_pred, average=\"macro\")\n",
    "        accuracy_test = accuracy_score(test_target, y_test_pred)\n",
    "        precision_test = precision_score(test_target, y_test_pred, average=\"macro\")\n",
    "        recall_test = recall_score(test_target, y_test_pred, average=\"macro\")\n",
    "\n",
    "        # Armazenar as métricas na base de teste\n",
    "        scores_test[\"f1\"].append(f1_test)\n",
    "        scores_test[\"accuracy\"].append(accuracy_test)\n",
    "        scores_test[\"precision\"].append(precision_test)\n",
    "        scores_test[\"recall\"].append(recall_test)\n",
    "\n",
    "        counter += 1\n",
    "        final = datetime.now()\n",
    "        print(\n",
    "            f\"====> {final} | FINALIZADO FOLD {counter - 1} | TEMPO TOTAL {final - inicio}\\n\\n\"\n",
    "        )\n",
    "\n",
    "    # Calcular as médias das métricas de validação cruzada\n",
    "    avg_scores_validation = {\n",
    "        metric: np.mean(values) for metric, values in scores_validation.items()\n",
    "    }\n",
    "    test_scores = {metric: np.mean(values) for metric, values in scores_test.items()}\n",
    "\n",
    "    # Criar log dos resultados\n",
    "    log = pd.DataFrame(scores_validation)\n",
    "    log[\"dataset\"] = \"Validação Cruzada\"\n",
    "\n",
    "    test_log = pd.DataFrame(scores_test)\n",
    "    test_log[\"dataset\"] = \"Teste\"\n",
    "\n",
    "    # Concatenar os logs da validação cruzada e do teste\n",
    "    full_log = pd.concat([log, test_log])\n",
    "\n",
    "    return avg_scores_validation, best_alpha, test_scores, full_log\n"
   ]
  },
  {
   "cell_type": "markdown",
   "metadata": {},
   "source": [
    "## MODELOS"
   ]
  },
  {
   "cell_type": "markdown",
   "metadata": {},
   "source": [
    "### NAIVE BAYES"
   ]
  },
  {
   "cell_type": "markdown",
   "metadata": {},
   "source": [
    "#### TODAS AS CARACTERÍSTICAS"
   ]
  },
  {
   "cell_type": "markdown",
   "metadata": {},
   "source": [
    "##### UNDERSAMPLING"
   ]
  },
  {
   "cell_type": "code",
   "execution_count": null,
   "metadata": {},
   "outputs": [],
   "source": [
    "# Parâmetros do modelo\n",
    "alphas = [0.0, 0.01, 0.1, 0.5, 1.0]\n",
    "\n",
    "# Executar para diferentes modelos e conjuntos de dados\n",
    "results_validation, best_params, results_test, results_list_bayes_under = run_cross_mix(\n",
    "    df_train_under.drop(columns=[\"RainTomorrow\"]),\n",
    "    df_train_under[\"RainTomorrow\"],\n",
    "    df_test_under.drop(columns=[\"RainTomorrow\"]),\n",
    "    df_test_under[\"RainTomorrow\"],\n",
    "    alphas,\n",
    "    k_folds=5,\n",
    "    categorical_features=[\n",
    "        df_train_under.drop(columns=\"RainTomorrow\").columns.get_loc(col)\n",
    "        for col in [\n",
    "            columns_names[\"categorical_columns\"] + columns_names[\"time_encoded\"]\n",
    "        ]\n",
    "    ],\n",
    ")\n",
    "\n",
    "print(\"Resultados na validação cruzada:\", results_validation)\n",
    "print(\"Resultados na base de teste:\", results_test)\n",
    "print(\"Melhores parâmetros escolhidos:\", best_params)"
   ]
  },
  {
   "cell_type": "code",
   "execution_count": null,
   "metadata": {},
   "outputs": [],
   "source": [
    "results_list_bayes_under.to_csv(\n",
    "    \"../../DATA/RESULTS/results_list_bayes_under.csv\", sep=\"|\", index=False\n",
    ")"
   ]
  },
  {
   "cell_type": "markdown",
   "metadata": {},
   "source": [
    "##### SEM BALANCEAMENTO"
   ]
  },
  {
   "cell_type": "code",
   "execution_count": null,
   "metadata": {},
   "outputs": [],
   "source": [
    "# Parâmetros do modelo\n",
    "alphas = [0.0, 0.01, 0.1, 0.5, 1.0]\n",
    "\n",
    "# Executar para diferentes modelos e conjuntos de dados\n",
    "results_validation, best_params, results_test, results_list_bayes_full = run_cross_mix(\n",
    "    df_train_full.drop(columns=[\"RainTomorrow\"]),\n",
    "    df_train_full[\"RainTomorrow\"],\n",
    "    df_test_full.drop(columns=[\"RainTomorrow\"]),\n",
    "    df_test_full[\"RainTomorrow\"],\n",
    "    alphas,\n",
    "    k_folds=5,\n",
    "    categorical_features=[\n",
    "        df_train_full.drop(columns=\"RainTomorrow\").columns.get_loc(col)\n",
    "        for col in [\n",
    "            columns_names[\"categorical_columns\"] + columns_names[\"time_encoded\"]\n",
    "        ]\n",
    "    ],\n",
    ")\n",
    "\n",
    "print(\"Resultados na validação cruzada:\", results_validation)\n",
    "print(\"Resultados na base de teste:\", results_test)\n",
    "print(\"Melhores parâmetros escolhidos:\", best_params)"
   ]
  },
  {
   "cell_type": "code",
   "execution_count": null,
   "metadata": {},
   "outputs": [],
   "source": [
    "results_list_bayes_full.to_csv(\n",
    "    \"../../DATA/RESULTS/results_list_bayes_full.csv\", sep=\"|\", index=False\n",
    ")"
   ]
  },
  {
   "cell_type": "markdown",
   "metadata": {},
   "source": [
    "##### OVERSAMPLING"
   ]
  },
  {
   "cell_type": "code",
   "execution_count": null,
   "metadata": {},
   "outputs": [],
   "source": [
    "# Parâmetros do modelo\n",
    "alphas = [0.0, 0.01, 0.1, 0.5, 1.0]\n",
    "\n",
    "# Executar para diferentes modelos e conjuntos de dados\n",
    "results_validation, best_params, results_test, results_list_bayes_smote = run_cross_mix(\n",
    "    df_train_smote.drop(columns=[\"RainTomorrow\"]),\n",
    "    df_train_smote[\"RainTomorrow\"],\n",
    "    df_test_smote.drop(columns=[\"RainTomorrow\"]),\n",
    "    df_test_smote[\"RainTomorrow\"],\n",
    "    alphas,\n",
    "    k_folds=5,\n",
    "    categorical_features=[\n",
    "        df_train_smote.drop(columns=\"RainTomorrow\").columns.get_loc(col)\n",
    "        for col in [\n",
    "            columns_names[\"categorical_columns\"] + columns_names[\"time_encoded\"]\n",
    "        ]\n",
    "    ],\n",
    ")\n",
    "\n",
    "print(\"Resultados na validação cruzada:\", results_validation)\n",
    "print(\"Resultados na base de teste:\", results_test)\n",
    "print(\"Melhores parâmetros escolhidos:\", best_params)"
   ]
  },
  {
   "cell_type": "code",
   "execution_count": null,
   "metadata": {},
   "outputs": [],
   "source": [
    "results_list_bayes_smote.to_csv(\n",
    "    \"../../DATA/RESULTS/results_list_bayes_smote.csv\", sep=\"|\", index=False\n",
    ")"
   ]
  },
  {
   "cell_type": "markdown",
   "metadata": {},
   "source": [
    "##### LIBERA MEMÓRIA"
   ]
  },
  {
   "cell_type": "code",
   "execution_count": null,
   "metadata": {},
   "outputs": [],
   "source": [
    "del results_list_bayes_smote, results_list_bayes_under, results_list_bayes_full\n",
    "gc.collect()"
   ]
  },
  {
   "cell_type": "markdown",
   "metadata": {},
   "source": [
    "#### PCA"
   ]
  },
  {
   "cell_type": "markdown",
   "metadata": {},
   "source": [
    "##### UNDERSAMPLING"
   ]
  },
  {
   "cell_type": "code",
   "execution_count": null,
   "metadata": {},
   "outputs": [],
   "source": [
    "# Parâmetros do modelo\n",
    "param_grid_categorical = {\"var_smoothing\": [0.0, 0.01, 0.1, 0.5, 1.0]}\n",
    "\n",
    "# Executar a função e obter os melhores parâmetros\n",
    "results_validation, results_test, best_params, results_list_bayes_pca_under = (\n",
    "    run_cross_validation(\n",
    "        df_train_under_pca.drop(columns=[\"RainTomorrow\"]),\n",
    "        df_train_under_pca[\"RainTomorrow\"],\n",
    "        df_test_under_pca.drop(columns=[\"RainTomorrow\"]),\n",
    "        df_test_under_pca[\"RainTomorrow\"],\n",
    "        GaussianNB(),\n",
    "        param_grid_categorical,\n",
    "        k_folds=5,\n",
    "    )\n",
    ")\n",
    "\n",
    "print(\"Resultados na validação cruzada:\", results_validation)\n",
    "print(\"Resultados na base de teste:\", results_test)\n",
    "print(\"Melhores parâmetros escolhidos:\", best_params)"
   ]
  },
  {
   "cell_type": "code",
   "execution_count": null,
   "metadata": {},
   "outputs": [],
   "source": [
    "results_list_bayes_pca_under.to_csv(\n",
    "    \"../../DATA/RESULTS/results_list_bayes_pca_under.csv\", sep=\"|\", index=False\n",
    ")"
   ]
  },
  {
   "cell_type": "markdown",
   "metadata": {},
   "source": [
    "##### SEM BALANCEAMENTO"
   ]
  },
  {
   "cell_type": "code",
   "execution_count": null,
   "metadata": {},
   "outputs": [],
   "source": [
    "# Parâmetros do modelo\n",
    "param_grid_categorical = {\"var_smoothing\": [0.0, 0.01, 0.1, 0.5, 1.0]}\n",
    "\n",
    "# Executar a função e obter os melhores parâmetros\n",
    "results_validation, results_test, best_params, results_list_bayes_pca_full = (\n",
    "    run_cross_validation(\n",
    "        df_train_full_pca.drop(columns=[\"RainTomorrow\"]),\n",
    "        df_train_full_pca[\"RainTomorrow\"],\n",
    "        df_test_full_pca.drop(columns=[\"RainTomorrow\"]),\n",
    "        df_test_full_pca[\"RainTomorrow\"],\n",
    "        GaussianNB(),\n",
    "        param_grid_categorical,\n",
    "        k_folds=5,\n",
    "    )\n",
    ")\n",
    "\n",
    "print(\"Resultados na validação cruzada:\", results_validation)\n",
    "print(\"Resultados na base de teste:\", results_test)\n",
    "print(\"Melhores parâmetros escolhidos:\", best_params)"
   ]
  },
  {
   "cell_type": "code",
   "execution_count": null,
   "metadata": {},
   "outputs": [],
   "source": [
    "results_list_bayes_pca_full.to_csv(\n",
    "    \"../../DATA/RESULTS/results_list_bayes_pca_full.csv\", sep=\"|\", index=False\n",
    ")"
   ]
  },
  {
   "cell_type": "markdown",
   "metadata": {},
   "source": [
    "##### OVERSAMPLING"
   ]
  },
  {
   "cell_type": "code",
   "execution_count": null,
   "metadata": {},
   "outputs": [],
   "source": [
    "# Parâmetros do modelo\n",
    "param_grid_categorical = {\"var_smoothing\": [0.0, 0.01, 0.1, 0.5, 1.0]}\n",
    "\n",
    "# Executar a função e obter os melhores parâmetros\n",
    "results_validation, results_test, best_params, results_list_bayes_pca_smote = (\n",
    "    run_cross_validation(\n",
    "        df_train_smote_pca.drop(columns=[\"RainTomorrow\"]),\n",
    "        df_train_smote_pca[\"RainTomorrow\"],\n",
    "        df_test_smote_pca.drop(columns=[\"RainTomorrow\"]),\n",
    "        df_test_smote_pca[\"RainTomorrow\"],\n",
    "        GaussianNB(),\n",
    "        param_grid_categorical,\n",
    "        k_folds=5,\n",
    "    )\n",
    ")\n",
    "\n",
    "print(\"Resultados na validação cruzada:\", results_validation)\n",
    "print(\"Resultados na base de teste:\", results_test)\n",
    "print(\"Melhores parâmetros escolhidos:\", best_params)"
   ]
  },
  {
   "cell_type": "code",
   "execution_count": null,
   "metadata": {},
   "outputs": [],
   "source": [
    "results_list_bayes_pca_smote.to_csv(\n",
    "    \"../../DATA/RESULTS/results_list_bayes_pca_smote.csv\", sep=\"|\", index=False\n",
    ")"
   ]
  },
  {
   "cell_type": "markdown",
   "metadata": {},
   "source": [
    "##### LIBERA MEMÓRIA"
   ]
  },
  {
   "cell_type": "code",
   "execution_count": null,
   "metadata": {},
   "outputs": [],
   "source": [
    "del (\n",
    "    results_list_bayes_pca_under,\n",
    "    results_list_bayes_pca_smote,\n",
    "    results_list_bayes_pca_full,\n",
    ")\n",
    "gc.collect()"
   ]
  },
  {
   "cell_type": "markdown",
   "metadata": {},
   "source": [
    "#### CORRELAÇÃO"
   ]
  },
  {
   "cell_type": "code",
   "execution_count": null,
   "metadata": {},
   "outputs": [],
   "source": [
    "filtro_correlacao = [\"Sunshine\", \"Humidity3pm\", \"Cloud9am\", \"Cloud3pm\", \"RangeTemp\"]"
   ]
  },
  {
   "cell_type": "markdown",
   "metadata": {},
   "source": [
    "##### UNDERSAMPLING"
   ]
  },
  {
   "cell_type": "code",
   "execution_count": null,
   "metadata": {},
   "outputs": [],
   "source": [
    "# Parâmetros do modelo\n",
    "param_grid_categorical = {\"var_smoothing\": [0.0, 0.01, 0.1, 0.5, 1.0]}\n",
    "\n",
    "# Executar a função e obter os melhores parâmetros\n",
    "results_validation, results_test, best_params, results_list_bayes_corr_under = (\n",
    "    run_cross_validation(\n",
    "        df_train_under[filtro_correlacao],\n",
    "        df_train_under[\"RainTomorrow\"],\n",
    "        df_test_under[filtro_correlacao],\n",
    "        df_test_under[\"RainTomorrow\"],\n",
    "        GaussianNB(),\n",
    "        param_grid_categorical,\n",
    "        k_folds=5,\n",
    "    )\n",
    ")\n",
    "\n",
    "print(\"Resultados na validação cruzada:\", results_validation)\n",
    "print(\"Resultados na base de teste:\", results_test)\n",
    "print(\"Melhores parâmetros escolhidos:\", best_params)"
   ]
  },
  {
   "cell_type": "code",
   "execution_count": null,
   "metadata": {},
   "outputs": [],
   "source": [
    "results_list_bayes_corr_under.to_csv(\n",
    "    \"../../DATA/RESULTS/results_list_bayes_corr_under.csv\", sep=\"|\", index=False\n",
    ")"
   ]
  },
  {
   "cell_type": "markdown",
   "metadata": {},
   "source": [
    "##### SEM BALANCEAMENTO"
   ]
  },
  {
   "cell_type": "code",
   "execution_count": null,
   "metadata": {},
   "outputs": [],
   "source": [
    "# Parâmetros do modelo\n",
    "param_grid_categorical = {\"var_smoothing\": [0.0, 0.01, 0.1, 0.5, 1.0]}\n",
    "\n",
    "# Executar a função e obter os melhores parâmetros\n",
    "results_validation, results_test, best_params, results_list_bayes_corr_full = (\n",
    "    run_cross_validation(\n",
    "        df_train_full[filtro_correlacao],\n",
    "        df_train_full[\"RainTomorrow\"],\n",
    "        df_test_full[filtro_correlacao],\n",
    "        df_test_full[\"RainTomorrow\"],\n",
    "        GaussianNB(),\n",
    "        param_grid_categorical,\n",
    "        k_folds=5,\n",
    "    )\n",
    ")\n",
    "\n",
    "print(\"Resultados na validação cruzada:\", results_validation)\n",
    "print(\"Resultados na base de teste:\", results_test)\n",
    "print(\"Melhores parâmetros escolhidos:\", best_params)"
   ]
  },
  {
   "cell_type": "code",
   "execution_count": null,
   "metadata": {},
   "outputs": [],
   "source": [
    "results_list_bayes_corr_full.to_csv(\n",
    "    \"../../DATA/RESULTS/results_list_bayes_corr_full.csv\", sep=\"|\", index=False\n",
    ")"
   ]
  },
  {
   "cell_type": "markdown",
   "metadata": {},
   "source": [
    "##### OVERSAMPLING"
   ]
  },
  {
   "cell_type": "code",
   "execution_count": null,
   "metadata": {},
   "outputs": [],
   "source": [
    "# Parâmetros do modelo\n",
    "param_grid_categorical = {\"var_smoothing\": [0.0, 0.01, 0.1, 0.5, 1.0]}\n",
    "\n",
    "# Executar a função e obter os melhores parâmetros\n",
    "results_validation, results_test, best_params, results_list_bayes_corr_smote = (\n",
    "    run_cross_validation(\n",
    "        df_train_smote[filtro_correlacao],\n",
    "        df_train_smote[\"RainTomorrow\"],\n",
    "        df_test_smote[filtro_correlacao],\n",
    "        df_test_smote[\"RainTomorrow\"],\n",
    "        GaussianNB(),\n",
    "        param_grid_categorical,\n",
    "        k_folds=5,\n",
    "    )\n",
    ")\n",
    "\n",
    "print(\"Resultados na validação cruzada:\", results_validation)\n",
    "print(\"Resultados na base de teste:\", results_test)\n",
    "print(\"Melhores parâmetros escolhidos:\", best_params)"
   ]
  },
  {
   "cell_type": "code",
   "execution_count": null,
   "metadata": {},
   "outputs": [],
   "source": [
    "results_list_bayes_corr_smote.to_csv(\n",
    "    \"../../DATA/RESULTS/results_list_bayes_corr_smote.csv\", sep=\"|\", index=False\n",
    ")"
   ]
  },
  {
   "cell_type": "markdown",
   "metadata": {},
   "source": [
    "##### LIBERA MEMÓRIA"
   ]
  },
  {
   "cell_type": "code",
   "execution_count": null,
   "metadata": {},
   "outputs": [],
   "source": [
    "del (\n",
    "    results_list_bayes_corr_smote,\n",
    "    results_list_bayes_corr_full,\n",
    "    results_list_bayes_corr_under,\n",
    ")\n",
    "gc.collect()"
   ]
  },
  {
   "cell_type": "markdown",
   "metadata": {},
   "source": [
    "#### RANDOM FOREST - FEATURE IMPORTANCE"
   ]
  },
  {
   "cell_type": "code",
   "execution_count": null,
   "metadata": {},
   "outputs": [],
   "source": [
    "filtro_random_forest = [\n",
    "    \"Humidity3pm\",\n",
    "    \"Sunshine\",\n",
    "    \"Pressure3pm\",\n",
    "    \"Cloud3pm\",\n",
    "    \"RangeTemp\",\n",
    "    \"WindGustSpeed\",\n",
    "    \"Humidity9am\",\n",
    "    \"Rainfall\",\n",
    "    \"MinTemp\",\n",
    "    \"MaxTemp\",\n",
    "    \"Evaporation\",\n",
    "    \"WindSpeed3pm\",\n",
    "    \"WindSpeed9am\",\n",
    "    \"Cloud9am\",\n",
    "    \"Rainfall_Discretized\",\n",
    "]"
   ]
  },
  {
   "cell_type": "markdown",
   "metadata": {},
   "source": [
    "##### UNDERSAMPLING"
   ]
  },
  {
   "cell_type": "code",
   "execution_count": null,
   "metadata": {},
   "outputs": [],
   "source": [
    "# Parâmetros do modelo\n",
    "alphas = [0.0, 0.01, 0.1, 0.5, 1.0]\n",
    "\n",
    "# Executar para diferentes modelos e conjuntos de dados\n",
    "results_validation, best_params, results_test, results_list_bayes_rf_under = (\n",
    "    run_cross_mix(\n",
    "        df_train_under[filtro_random_forest],\n",
    "        df_train_under[\"RainTomorrow\"],\n",
    "        df_test_under[filtro_random_forest],\n",
    "        df_test_under[\"RainTomorrow\"],\n",
    "        alphas,\n",
    "        k_folds=5,\n",
    "        categorical_features=[\"Rainfall_Discretized\"],\n",
    "    )\n",
    ")\n",
    "\n",
    "print(\"Resultados na validação cruzada:\", results_validation)\n",
    "print(\"Resultados na base de teste:\", results_test)\n",
    "print(\"Melhores parâmetros escolhidos:\", best_params)"
   ]
  },
  {
   "cell_type": "code",
   "execution_count": null,
   "metadata": {},
   "outputs": [],
   "source": [
    "results_list_bayes_rf_under.to_csv(\n",
    "    \"../../DATA/RESULTS/results_list_bayes_rf_under.csv\", sep=\"|\", index=False\n",
    ")"
   ]
  },
  {
   "cell_type": "markdown",
   "metadata": {},
   "source": [
    "##### SEM BALANCEAMENTO"
   ]
  },
  {
   "cell_type": "code",
   "execution_count": null,
   "metadata": {},
   "outputs": [],
   "source": [
    "# Parâmetros do modelo\n",
    "alphas = [0.0, 0.01, 0.1, 0.5, 1.0]\n",
    "\n",
    "# Executar para diferentes modelos e conjuntos de dados\n",
    "results_validation, best_params, results_test, results_list_bayes_rf_full = (\n",
    "    run_cross_mix(\n",
    "        df_train_full[filtro_random_forest],\n",
    "        df_train_full[\"RainTomorrow\"],\n",
    "        df_test_full[filtro_random_forest],\n",
    "        df_test_full[\"RainTomorrow\"],\n",
    "        alphas,\n",
    "        k_folds=5,\n",
    "        categorical_features=[\"Rainfall_Discretized\"],\n",
    "    )\n",
    ")\n",
    "\n",
    "print(\"Resultados na validação cruzada:\", results_validation)\n",
    "print(\"Resultados na base de teste:\", results_test)\n",
    "print(\"Melhores parâmetros escolhidos:\", best_params)"
   ]
  },
  {
   "cell_type": "code",
   "execution_count": null,
   "metadata": {},
   "outputs": [],
   "source": [
    "results_list_bayes_rf_full.to_csv(\n",
    "    \"../../DATA/RESULTS/results_list_bayes_rf_full.csv\", sep=\"|\", index=False\n",
    ")"
   ]
  },
  {
   "cell_type": "markdown",
   "metadata": {},
   "source": [
    "##### OVERSAMPLING"
   ]
  },
  {
   "cell_type": "code",
   "execution_count": null,
   "metadata": {},
   "outputs": [],
   "source": [
    "# Parâmetros do modelo\n",
    "alphas = [0.0, 0.01, 0.1, 0.5, 1.0]\n",
    "\n",
    "# Executar para diferentes modelos e conjuntos de dados\n",
    "results_validation, best_params, results_test, results_list_bayes_rf_smote = (\n",
    "    run_cross_mix(\n",
    "        df_train_smote[filtro_random_forest],\n",
    "        df_train_smote[\"RainTomorrow\"],\n",
    "        df_test_smote[filtro_random_forest],\n",
    "        df_test_smote[\"RainTomorrow\"],\n",
    "        alphas,\n",
    "        k_folds=5,\n",
    "        categorical_features=[\"Rainfall_Discretized\"],\n",
    "    )\n",
    ")\n",
    "\n",
    "print(\"Resultados na validação cruzada:\", results_validation)\n",
    "print(\"Resultados na base de teste:\", results_test)\n",
    "print(\"Melhores parâmetros escolhidos:\", best_params)"
   ]
  },
  {
   "cell_type": "code",
   "execution_count": null,
   "metadata": {},
   "outputs": [],
   "source": [
    "results_list_bayes_rf_smote.to_csv(\n",
    "    \"../../DATA/RESULTS/results_list_bayes_rf_smote.csv\", sep=\"|\", index=False\n",
    ")"
   ]
  },
  {
   "cell_type": "markdown",
   "metadata": {},
   "source": [
    "##### LIBERA MEMÓRIA"
   ]
  },
  {
   "cell_type": "code",
   "execution_count": null,
   "metadata": {},
   "outputs": [],
   "source": [
    "del results_list_bayes_rf_smote, results_list_bayes_rf_under, results_list_bayes_rf_full\n",
    "gc.collect()"
   ]
  },
  {
   "cell_type": "markdown",
   "metadata": {},
   "source": [
    "### RANDOM FOREST"
   ]
  },
  {
   "cell_type": "markdown",
   "metadata": {},
   "source": [
    "#### TODAS AS CARACTERÍSTICAS"
   ]
  },
  {
   "cell_type": "markdown",
   "metadata": {},
   "source": [
    "##### UNDERSAMPLING"
   ]
  },
  {
   "cell_type": "code",
   "execution_count": null,
   "metadata": {},
   "outputs": [],
   "source": [
    "param_grid_categorical = {\n",
    "    \"n_estimators\": [500, 700, 1000],\n",
    "    \"max_features\": [\"sqrt\", \"log2\", 10, None],\n",
    "}\n",
    "\n",
    "# Executar a função e obter os melhores parâmetros\n",
    "results_validation, results_test, best_params, results_list_rf_under = (\n",
    "    run_cross_validation(\n",
    "        df_train_under.drop(columns=[\"RainTomorrow\"]),\n",
    "        df_train_under[\"RainTomorrow\"],\n",
    "        df_test_under.drop(columns=[\"RainTomorrow\"]),\n",
    "        df_test_under[\"RainTomorrow\"],\n",
    "        RandomForestClassifier(n_jobs=-1, random_state=42, max_depth=None),\n",
    "        param_grid_categorical,\n",
    "        k_folds=5,\n",
    "    )\n",
    ")\n",
    "\n",
    "print(\"Resultados na validação cruzada:\", results_validation)\n",
    "print(\"Resultados na base de teste:\", results_test)\n",
    "print(\"Melhores parâmetros escolhidos:\", best_params)"
   ]
  },
  {
   "cell_type": "code",
   "execution_count": null,
   "metadata": {},
   "outputs": [],
   "source": [
    "results_list_rf_under.to_csv(\n",
    "    \"../../DATA/RESULTS/results_list_rf_under.csv\", sep=\"|\", index=False\n",
    ")"
   ]
  },
  {
   "cell_type": "markdown",
   "metadata": {},
   "source": [
    "##### SEM BALANCEAMENTO"
   ]
  },
  {
   "cell_type": "code",
   "execution_count": null,
   "metadata": {},
   "outputs": [],
   "source": [
    "param_grid_categorical = {\n",
    "    \"n_estimators\": [500, 700, 1000],\n",
    "    \"max_features\": [\"sqrt\", \"log2\", 10, None],\n",
    "}\n",
    "\n",
    "# Executar a função e obter os melhores parâmetros\n",
    "results_validation, results_test, best_params, results_list_rf_full = (\n",
    "    run_cross_validation(\n",
    "        df_train_full.drop(columns=[\"RainTomorrow\"]),\n",
    "        df_train_full[\"RainTomorrow\"],\n",
    "        df_test_full.drop(columns=[\"RainTomorrow\"]),\n",
    "        df_test_full[\"RainTomorrow\"],\n",
    "        RandomForestClassifier(n_jobs=-1, random_state=42, max_depth=None),\n",
    "        param_grid_categorical,\n",
    "        k_folds=5,\n",
    "    )\n",
    ")\n",
    "\n",
    "print(\"Resultados na validação cruzada:\", results_validation)\n",
    "print(\"Resultados na base de teste:\", results_test)\n",
    "print(\"Melhores parâmetros escolhidos:\", best_params)"
   ]
  },
  {
   "cell_type": "code",
   "execution_count": null,
   "metadata": {},
   "outputs": [],
   "source": [
    "results_list_rf_full.to_csv(\n",
    "    \"../../DATA/RESULTS/results_list_rf_full.csv\", sep=\"|\", index=False\n",
    ")"
   ]
  },
  {
   "cell_type": "markdown",
   "metadata": {},
   "source": [
    "##### OVERSAMPLING"
   ]
  },
  {
   "cell_type": "code",
   "execution_count": null,
   "metadata": {},
   "outputs": [],
   "source": [
    "param_grid_categorical = {\n",
    "    \"n_estimators\": [500, 700, 1000],\n",
    "    \"max_features\": [\"sqrt\", \"log2\", 10, None],\n",
    "}\n",
    "\n",
    "# Executar a função e obter os melhores parâmetros\n",
    "results_validation, results_test, best_params, results_list_rf_smote = (\n",
    "    run_cross_validation(\n",
    "        df_train_smote.drop(columns=[\"RainTomorrow\"]),\n",
    "        df_train_smote[\"RainTomorrow\"],\n",
    "        df_test_smote.drop(columns=[\"RainTomorrow\"]),\n",
    "        df_test_smote[\"RainTomorrow\"],\n",
    "        RandomForestClassifier(n_jobs=-1, random_state=42, max_depth=None),\n",
    "        param_grid_categorical,\n",
    "        k_folds=5,\n",
    "    )\n",
    ")\n",
    "\n",
    "print(\"Resultados na validação cruzada:\", results_validation)\n",
    "print(\"Resultados na base de teste:\", results_test)\n",
    "print(\"Melhores parâmetros escolhidos:\", best_params)"
   ]
  },
  {
   "cell_type": "code",
   "execution_count": null,
   "metadata": {},
   "outputs": [],
   "source": [
    "results_list_rf_smote.to_csv(\n",
    "    \"../../DATA/RESULTS/results_list_rf_smote.csv\", sep=\"|\", index=False\n",
    ")"
   ]
  },
  {
   "cell_type": "markdown",
   "metadata": {},
   "source": [
    "##### LIBERA MEMÓRIA"
   ]
  },
  {
   "cell_type": "code",
   "execution_count": null,
   "metadata": {},
   "outputs": [],
   "source": [
    "del results_list_rf_smote, results_list_rf_full, results_list_rf_under\n",
    "gc.collect()"
   ]
  },
  {
   "cell_type": "markdown",
   "metadata": {},
   "source": [
    "#### PCA"
   ]
  },
  {
   "cell_type": "markdown",
   "metadata": {},
   "source": [
    "##### UNDERSAMPLING"
   ]
  },
  {
   "cell_type": "code",
   "execution_count": null,
   "metadata": {},
   "outputs": [],
   "source": [
    "param_grid_categorical = {\n",
    "    \"n_estimators\": [500, 700, 1000],\n",
    "    \"max_features\": [\"sqrt\", \"log2\", 10, None],\n",
    "}\n",
    "\n",
    "# Executar a função e obter os melhores parâmetros\n",
    "results_validation, results_test, best_params, results_list_rf_pca_under = (\n",
    "    run_cross_validation(\n",
    "        df_train_under_pca.drop(columns=[\"RainTomorrow\"]),\n",
    "        df_train_under_pca[\"RainTomorrow\"],\n",
    "        df_test_under_pca.drop(columns=[\"RainTomorrow\"]),\n",
    "        df_test_under_pca[\"RainTomorrow\"],\n",
    "        RandomForestClassifier(n_jobs=-1, random_state=42, max_depth=None),\n",
    "        param_grid_categorical,\n",
    "        k_folds=5,\n",
    "    )\n",
    ")\n",
    "\n",
    "print(\"Resultados na validação cruzada:\", results_validation)\n",
    "print(\"Resultados na base de teste:\", results_test)\n",
    "print(\"Melhores parâmetros escolhidos:\", best_params)"
   ]
  },
  {
   "cell_type": "code",
   "execution_count": null,
   "metadata": {},
   "outputs": [],
   "source": [
    "results_list_rf_pca_under.to_csv(\n",
    "    \"../../DATA/RESULTS/results_list_rf_pca_under.csv\", sep=\"|\", index=False\n",
    ")"
   ]
  },
  {
   "cell_type": "markdown",
   "metadata": {},
   "source": [
    "##### SEM BALANCEAMENTO"
   ]
  },
  {
   "cell_type": "code",
   "execution_count": null,
   "metadata": {},
   "outputs": [],
   "source": [
    "param_grid_categorical = {\n",
    "    \"n_estimators\": [500, 700, 1000],\n",
    "    \"max_features\": [\"sqrt\", \"log2\", 10, None],\n",
    "}\n",
    "\n",
    "# Executar a função e obter os melhores parâmetros\n",
    "results_validation, results_test, best_params, results_list_rf_pca_full = (\n",
    "    run_cross_validation(\n",
    "        df_train_full_pca.drop(columns=[\"RainTomorrow\"]),\n",
    "        df_train_full_pca[\"RainTomorrow\"],\n",
    "        df_test_full_pca.drop(columns=[\"RainTomorrow\"]),\n",
    "        df_test_full_pca[\"RainTomorrow\"],\n",
    "        RandomForestClassifier(n_jobs=-1, random_state=42, max_depth=None),\n",
    "        param_grid_categorical,\n",
    "        k_folds=5,\n",
    "    )\n",
    ")\n",
    "\n",
    "print(\"Resultados na validação cruzada:\", results_validation)\n",
    "print(\"Resultados na base de teste:\", results_test)\n",
    "print(\"Melhores parâmetros escolhidos:\", best_params)"
   ]
  },
  {
   "cell_type": "code",
   "execution_count": null,
   "metadata": {},
   "outputs": [],
   "source": [
    "results_list_rf_pca_full.to_csv(\n",
    "    \"../../DATA/RESULTS/results_list_rf_pca_full.csv\", sep=\"|\", index=False\n",
    ")"
   ]
  },
  {
   "cell_type": "markdown",
   "metadata": {},
   "source": [
    "##### OVERSAMPLING"
   ]
  },
  {
   "cell_type": "code",
   "execution_count": null,
   "metadata": {},
   "outputs": [],
   "source": [
    "param_grid_categorical = {\n",
    "    \"n_estimators\": [500, 700, 1000],\n",
    "    \"max_features\": [\"sqrt\", \"log2\", 10, None],\n",
    "}\n",
    "\n",
    "# Executar a função e obter os melhores parâmetros\n",
    "results_validation, results_test, best_params, results_list_rf_pca_smote = (\n",
    "    run_cross_validation(\n",
    "        df_train_smote_pca.drop(columns=[\"RainTomorrow\"]),\n",
    "        df_train_smote_pca[\"RainTomorrow\"],\n",
    "        df_test_smote_pca.drop(columns=[\"RainTomorrow\"]),\n",
    "        df_test_smote_pca[\"RainTomorrow\"],\n",
    "        RandomForestClassifier(n_jobs=-1, random_state=42, max_depth=None),\n",
    "        param_grid_categorical,\n",
    "        k_folds=5,\n",
    "    )\n",
    ")\n",
    "\n",
    "print(\"Resultados na validação cruzada:\", results_validation)\n",
    "print(\"Resultados na base de teste:\", results_test)\n",
    "print(\"Melhores parâmetros escolhidos:\", best_params)"
   ]
  },
  {
   "cell_type": "code",
   "execution_count": null,
   "metadata": {},
   "outputs": [],
   "source": [
    "results_list_rf_pca_smote.to_csv(\n",
    "    \"../../DATA/RESULTS/results_list_rf_pca_smote.csv\", sep=\"|\", index=False\n",
    ")"
   ]
  },
  {
   "cell_type": "markdown",
   "metadata": {},
   "source": [
    "##### LIBERA MEMÓRIA"
   ]
  },
  {
   "cell_type": "code",
   "execution_count": null,
   "metadata": {},
   "outputs": [],
   "source": [
    "del results_list_rf_pca_smote, results_list_rf_pca_full, results_list_rf_pca_under\n",
    "gc.collect()"
   ]
  },
  {
   "cell_type": "markdown",
   "metadata": {},
   "source": [
    "#### CORRELAÇÃO"
   ]
  },
  {
   "cell_type": "markdown",
   "metadata": {},
   "source": [
    "##### UNDERSAMPLING"
   ]
  },
  {
   "cell_type": "code",
   "execution_count": null,
   "metadata": {},
   "outputs": [],
   "source": [
    "param_grid_categorical = {\n",
    "    \"n_estimators\": [500, 700, 1000],\n",
    "    \"max_features\": [\"sqrt\", \"log2\", 10, None],\n",
    "}\n",
    "\n",
    "# Executar a função e obter os melhores parâmetros\n",
    "results_validation, results_test, best_params, results_list_rf_corr_under = (\n",
    "    run_cross_validation(\n",
    "        df_train_under.drop(columns=[\"RainTomorrow\"]),\n",
    "        df_train_under[\"RainTomorrow\"],\n",
    "        df_test_under.drop(columns=[\"RainTomorrow\"]),\n",
    "        df_test_under[\"RainTomorrow\"],\n",
    "        RandomForestClassifier(n_jobs=-1, random_state=42, max_depth=None),\n",
    "        param_grid_categorical,\n",
    "        k_folds=5,\n",
    "    )\n",
    ")\n",
    "\n",
    "print(\"Resultados na validação cruzada:\", results_validation)\n",
    "print(\"Resultados na base de teste:\", results_test)\n",
    "print(\"Melhores parâmetros escolhidos:\", best_params)"
   ]
  },
  {
   "cell_type": "code",
   "execution_count": null,
   "metadata": {},
   "outputs": [],
   "source": [
    "results_list_rf_corr_under.to_csv(\n",
    "    \"../../DATA/RESULTS/results_list_rf_corr_under.csv\", sep=\"|\", index=False\n",
    ")"
   ]
  },
  {
   "cell_type": "markdown",
   "metadata": {},
   "source": [
    "##### SEM BALANCEAMENTO"
   ]
  },
  {
   "cell_type": "code",
   "execution_count": null,
   "metadata": {},
   "outputs": [],
   "source": [
    "param_grid_categorical = {\n",
    "    \"n_estimators\": [500, 700, 1000],\n",
    "    \"max_features\": [\"sqrt\", \"log2\", 10, None],\n",
    "}\n",
    "\n",
    "# Executar a função e obter os melhores parâmetros\n",
    "results_validation, results_test, best_params, results_list_rf_corr_full = (\n",
    "    run_cross_validation(\n",
    "        df_train_full.drop(columns=[\"RainTomorrow\"]),\n",
    "        df_train_full[\"RainTomorrow\"],\n",
    "        df_test_full.drop(columns=[\"RainTomorrow\"]),\n",
    "        df_test_full[\"RainTomorrow\"],\n",
    "        RandomForestClassifier(n_jobs=-1, random_state=42, max_depth=None),\n",
    "        param_grid_categorical,\n",
    "        k_folds=5,\n",
    "    )\n",
    ")\n",
    "\n",
    "print(\"Resultados na validação cruzada:\", results_validation)\n",
    "print(\"Resultados na base de teste:\", results_test)\n",
    "print(\"Melhores parâmetros escolhidos:\", best_params)"
   ]
  },
  {
   "cell_type": "code",
   "execution_count": null,
   "metadata": {},
   "outputs": [],
   "source": [
    "results_list_rf_corr_full.to_csv(\n",
    "    \"../../DATA/RESULTS/results_list_rf_corr_full.csv\", sep=\"|\", index=False\n",
    ")"
   ]
  },
  {
   "cell_type": "markdown",
   "metadata": {},
   "source": [
    "##### OVERSAMPLING"
   ]
  },
  {
   "cell_type": "code",
   "execution_count": null,
   "metadata": {},
   "outputs": [],
   "source": [
    "param_grid_categorical = {\n",
    "    \"n_estimators\": [500, 700, 1000],\n",
    "    \"max_features\": [\"sqrt\", \"log2\", 10, None],\n",
    "}\n",
    "\n",
    "# Executar a função e obter os melhores parâmetros\n",
    "results_validation, results_test, best_params, results_list_rf_corr_smote = (\n",
    "    run_cross_validation(\n",
    "        df_train_smote.drop(columns=[\"RainTomorrow\"]),\n",
    "        df_train_smote[\"RainTomorrow\"],\n",
    "        df_test_smote.drop(columns=[\"RainTomorrow\"]),\n",
    "        df_test_smote[\"RainTomorrow\"],\n",
    "        RandomForestClassifier(n_jobs=-1, random_state=42, max_depth=None),\n",
    "        param_grid_categorical,\n",
    "        k_folds=5,\n",
    "    )\n",
    ")\n",
    "\n",
    "print(\"Resultados na validação cruzada:\", results_validation)\n",
    "print(\"Resultados na base de teste:\", results_test)\n",
    "print(\"Melhores parâmetros escolhidos:\", best_params)"
   ]
  },
  {
   "cell_type": "code",
   "execution_count": null,
   "metadata": {},
   "outputs": [],
   "source": [
    "results_list_rf_corr_smote.to_csv(\n",
    "    \"../../DATA/RESULTS/results_list_rf_corr_smote.csv\", sep=\"|\", index=False\n",
    ")"
   ]
  },
  {
   "cell_type": "markdown",
   "metadata": {},
   "source": [
    "##### LIBERA MEMÓRIA"
   ]
  },
  {
   "cell_type": "code",
   "execution_count": null,
   "metadata": {},
   "outputs": [],
   "source": [
    "del results_list_rf_corr_smote, results_list_rf_corr_full, results_list_rf_corr_under\n",
    "gc.collect()"
   ]
  },
  {
   "cell_type": "markdown",
   "metadata": {},
   "source": [
    "#### RANDOM FOREST - FEATURE IMPORTANCE"
   ]
  },
  {
   "cell_type": "markdown",
   "metadata": {},
   "source": [
    "##### UNDERSAMPLING"
   ]
  },
  {
   "cell_type": "code",
   "execution_count": null,
   "metadata": {},
   "outputs": [],
   "source": [
    "param_grid_categorical = {\n",
    "    \"n_estimators\": [500, 700, 1000],\n",
    "    \"max_features\": [\"sqrt\", \"log2\", 10, None],\n",
    "}\n",
    "\n",
    "# Executar a função e obter os melhores parâmetros\n",
    "results_validation, results_test, best_params, results_list_rf_rf_under = (\n",
    "    run_cross_validation(\n",
    "        df_train_under[filtro_random_forest],\n",
    "        df_train_under[\"RainTomorrow\"],\n",
    "        df_test_under[filtro_random_forest],\n",
    "        df_test_under[\"RainTomorrow\"],\n",
    "        RandomForestClassifier(n_jobs=-1, random_state=42, max_depth=None),\n",
    "        param_grid_categorical,\n",
    "        k_folds=5,\n",
    "    )\n",
    ")\n",
    "\n",
    "print(\"Resultados na validação cruzada:\", results_validation)\n",
    "print(\"Resultados na base de teste:\", results_test)\n",
    "print(\"Melhores parâmetros escolhidos:\", best_params)"
   ]
  },
  {
   "cell_type": "code",
   "execution_count": null,
   "metadata": {},
   "outputs": [],
   "source": [
    "results_list_rf_rf_under.to_csv(\n",
    "    \"../../DATA/RESULTS/results_list_rf_rf_under.csv\", sep=\"|\", index=False\n",
    ")"
   ]
  },
  {
   "cell_type": "markdown",
   "metadata": {},
   "source": [
    "##### SEM BALANCEAMENTO"
   ]
  },
  {
   "cell_type": "code",
   "execution_count": null,
   "metadata": {},
   "outputs": [],
   "source": [
    "param_grid_categorical = {\n",
    "    \"n_estimators\": [500, 700, 1000],\n",
    "    \"max_features\": [\"sqrt\", \"log2\", 10, None],\n",
    "}\n",
    "\n",
    "# Executar a função e obter os melhores parâmetros\n",
    "results_validation, results_test, best_params, results_list_rf_rf_full = (\n",
    "    run_cross_validation(\n",
    "        df_train_full[filtro_random_forest],\n",
    "        df_train_full[\"RainTomorrow\"],\n",
    "        df_test_full[filtro_random_forest],\n",
    "        df_test_full[\"RainTomorrow\"],\n",
    "        RandomForestClassifier(n_jobs=-1, random_state=42, max_depth=None),\n",
    "        param_grid_categorical,\n",
    "        k_folds=5,\n",
    "    )\n",
    ")\n",
    "\n",
    "print(\"Resultados na validação cruzada:\", results_validation)\n",
    "print(\"Resultados na base de teste:\", results_test)\n",
    "print(\"Melhores parâmetros escolhidos:\", best_params)"
   ]
  },
  {
   "cell_type": "code",
   "execution_count": null,
   "metadata": {},
   "outputs": [],
   "source": [
    "results_list_rf_rf_full.to_csv(\n",
    "    \"../../DATA/RESULTS/results_list_rf_rf_full.csv\", sep=\"|\", index=False\n",
    ")"
   ]
  },
  {
   "cell_type": "markdown",
   "metadata": {},
   "source": [
    "##### OVERSAMPLING"
   ]
  },
  {
   "cell_type": "code",
   "execution_count": null,
   "metadata": {},
   "outputs": [],
   "source": [
    "param_grid_categorical = {\n",
    "    \"n_estimators\": [500, 700, 1000],\n",
    "    \"max_features\": [\"sqrt\", \"log2\", 10, None],\n",
    "}\n",
    "\n",
    "# Executar a função e obter os melhores parâmetros\n",
    "results_validation, results_test, best_params, results_list_rf_rf_smote = (\n",
    "    run_cross_validation(\n",
    "        df_train_smote[filtro_random_forest],\n",
    "        df_train_smote[\"RainTomorrow\"],\n",
    "        df_test_smote[filtro_random_forest],\n",
    "        df_test_smote[\"RainTomorrow\"],\n",
    "        RandomForestClassifier(n_jobs=-1, random_state=42, max_depth=None),\n",
    "        param_grid_categorical,\n",
    "        k_folds=5,\n",
    "    )\n",
    ")\n",
    "\n",
    "print(\"Resultados na validação cruzada:\", results_validation)\n",
    "print(\"Resultados na base de teste:\", results_test)\n",
    "print(\"Melhores parâmetros escolhidos:\", best_params)"
   ]
  },
  {
   "cell_type": "code",
   "execution_count": null,
   "metadata": {},
   "outputs": [],
   "source": [
    "results_list_rf_rf_smote.to_csv(\n",
    "    \"../../DATA/RESULTS/results_list_rf_rf_smote.csv\", sep=\"|\", index=False\n",
    ")"
   ]
  },
  {
   "cell_type": "markdown",
   "metadata": {},
   "source": [
    "##### LIBERA MEMÓRIA"
   ]
  },
  {
   "cell_type": "code",
   "execution_count": null,
   "metadata": {},
   "outputs": [],
   "source": [
    "del results_list_rf_rf_smote, results_list_rf_rf_full, results_list_rf_rf_under\n",
    "gc.collect()"
   ]
  },
  {
   "cell_type": "markdown",
   "metadata": {},
   "source": [
    "### SVM"
   ]
  },
  {
   "cell_type": "markdown",
   "metadata": {},
   "source": [
    "#### TODAS AS CARACTERÍSTICAS"
   ]
  },
  {
   "cell_type": "markdown",
   "metadata": {},
   "source": [
    "##### UNDERSAMPLING"
   ]
  },
  {
   "cell_type": "code",
   "execution_count": null,
   "metadata": {},
   "outputs": [],
   "source": [
    "param_grid_categorical = {\n",
    "    \"C\": [10, 100],\n",
    "    \"kernel\": [\"rbf\", \"linear\"],\n",
    "    \"gamma\": [0.01, 0.1],\n",
    "}\n",
    "\n",
    "# Executar a função e obter os melhores parâmetros\n",
    "results_validation, results_test, best_params, results_list_svm_under = (\n",
    "    run_cross_validation(\n",
    "        df_train_under.drop(columns=[\"RainTomorrow\"]),\n",
    "        df_train_under[\"RainTomorrow\"],\n",
    "        df_test_under.drop(columns=[\"RainTomorrow\"]),\n",
    "        df_test_under[\"RainTomorrow\"],\n",
    "        SVC(random_state=42),\n",
    "        param_grid_categorical,\n",
    "        k_folds=5,\n",
    "    )\n",
    ")\n",
    "\n",
    "print(\"Resultados na validação cruzada:\", results_validation)\n",
    "print(\"Resultados na base de teste:\", results_test)\n",
    "print(\"Melhores parâmetros escolhidos:\", best_params)"
   ]
  },
  {
   "cell_type": "code",
   "execution_count": null,
   "metadata": {},
   "outputs": [],
   "source": [
    "results_list_svm_under.to_csv(\n",
    "    \"../../DATA/RESULTS/results_list_svm_under.csv\", sep=\"|\", index=False\n",
    ")"
   ]
  },
  {
   "cell_type": "markdown",
   "metadata": {},
   "source": [
    "##### SEM BALANCEAMENTO"
   ]
  },
  {
   "cell_type": "code",
   "execution_count": null,
   "metadata": {},
   "outputs": [],
   "source": [
    "param_grid_categorical = {\n",
    "    \"C\": [10, 100],\n",
    "    \"kernel\": [\"rbf\", \"linear\"],\n",
    "    \"gamma\": [0.01, 0.1],\n",
    "}\n",
    "\n",
    "# Executar a função e obter os melhores parâmetros\n",
    "results_validation, results_test, best_params, results_list_svm_full = (\n",
    "    run_cross_validation(\n",
    "        df_train_full.drop(columns=[\"RainTomorrow\"]),\n",
    "        df_train_full[\"RainTomorrow\"],\n",
    "        df_test_full.drop(columns=[\"RainTomorrow\"]),\n",
    "        df_test_full[\"RainTomorrow\"],\n",
    "        SVC(random_state=42),\n",
    "        param_grid_categorical,\n",
    "        k_folds=5,\n",
    "    )\n",
    ")\n",
    "\n",
    "print(\"Resultados na validação cruzada:\", results_validation)\n",
    "print(\"Resultados na base de teste:\", results_test)\n",
    "print(\"Melhores parâmetros escolhidos:\", best_params)"
   ]
  },
  {
   "cell_type": "code",
   "execution_count": null,
   "metadata": {},
   "outputs": [],
   "source": [
    "results_list_svm_full.to_csv(\n",
    "    \"../../DATA/RESULTS/results_list_svm_full.csv\", sep=\"|\", index=False\n",
    ")"
   ]
  },
  {
   "cell_type": "markdown",
   "metadata": {},
   "source": [
    "##### OVERSAMPLING"
   ]
  },
  {
   "cell_type": "code",
   "execution_count": null,
   "metadata": {},
   "outputs": [],
   "source": [
    "param_grid_categorical = {\n",
    "    \"C\": [10, 100],\n",
    "    \"kernel\": [\"rbf\", \"linear\"],\n",
    "    \"gamma\": [0.01, 0.1],\n",
    "}\n",
    "\n",
    "# Executar a função e obter os melhores parâmetros\n",
    "results_validation, results_test, best_params, results_list_svm_smote = (\n",
    "    run_cross_validation(\n",
    "        df_train_smote.drop(columns=[\"RainTomorrow\"]),\n",
    "        df_train_smote[\"RainTomorrow\"],\n",
    "        df_test_smote.drop(columns=[\"RainTomorrow\"]),\n",
    "        df_test_smote[\"RainTomorrow\"],\n",
    "        SVC(random_state=42),\n",
    "        param_grid_categorical,\n",
    "        k_folds=5,\n",
    "    )\n",
    ")\n",
    "\n",
    "print(\"Resultados na validação cruzada:\", results_validation)\n",
    "print(\"Resultados na base de teste:\", results_test)\n",
    "print(\"Melhores parâmetros escolhidos:\", best_params)"
   ]
  },
  {
   "cell_type": "code",
   "execution_count": null,
   "metadata": {},
   "outputs": [],
   "source": [
    "results_list_svm_smote.to_csv(\n",
    "    \"../../DATA/RESULTS/results_list_svm_smote.csv\", sep=\"|\", index=False\n",
    ")"
   ]
  },
  {
   "cell_type": "markdown",
   "metadata": {},
   "source": [
    "##### LIBERA MEMÓRIA"
   ]
  },
  {
   "cell_type": "code",
   "execution_count": null,
   "metadata": {},
   "outputs": [],
   "source": [
    "del results_list_svm_smote, results_list_svm_under, results_list_svm_full\n",
    "gc.collect()"
   ]
  },
  {
   "cell_type": "markdown",
   "metadata": {},
   "source": [
    "#### PCA"
   ]
  },
  {
   "cell_type": "markdown",
   "metadata": {},
   "source": [
    "##### UNDERSAMPLING"
   ]
  },
  {
   "cell_type": "code",
   "execution_count": null,
   "metadata": {},
   "outputs": [],
   "source": [
    "param_grid_categorical = {\n",
    "    \"C\": [10, 100],\n",
    "    \"kernel\": [\"rbf\", \"linear\"],\n",
    "    \"gamma\": [0.01, 0.1],\n",
    "}\n",
    "\n",
    "# Executar a função e obter os melhores parâmetros\n",
    "results_validation, results_test, best_params, results_list_svm_pca_under = (\n",
    "    run_cross_validation(\n",
    "        df_train_under_pca.drop(columns=[\"RainTomorrow\"]),\n",
    "        df_train_under_pca[\"RainTomorrow\"],\n",
    "        df_test_under_pca.drop(columns=[\"RainTomorrow\"]),\n",
    "        df_test_under_pca[\"RainTomorrow\"],\n",
    "        SVC(random_state=42),\n",
    "        param_grid_categorical,\n",
    "        k_folds=5,\n",
    "    )\n",
    ")\n",
    "\n",
    "print(\"Resultados na validação cruzada:\", results_validation)\n",
    "print(\"Resultados na base de teste:\", results_test)\n",
    "print(\"Melhores parâmetros escolhidos:\", best_params)"
   ]
  },
  {
   "cell_type": "code",
   "execution_count": null,
   "metadata": {},
   "outputs": [],
   "source": [
    "results_list_svm_pca_under.to_csv(\n",
    "    \"../../DATA/RESULTS/results_list_svm_pca_under.csv\", sep=\"|\", index=False\n",
    ")"
   ]
  },
  {
   "cell_type": "markdown",
   "metadata": {},
   "source": [
    "##### SEM BALANCEAMENTO"
   ]
  },
  {
   "cell_type": "code",
   "execution_count": null,
   "metadata": {},
   "outputs": [],
   "source": [
    "param_grid_categorical = {\n",
    "    \"C\": [10, 100],\n",
    "    \"kernel\": [\"rbf\", \"linear\"],\n",
    "    \"gamma\": [0.01, 0.1],\n",
    "}\n",
    "\n",
    "# Executar a função e obter os melhores parâmetros\n",
    "results_validation, results_test, best_params, results_list_svm_pca_full = (\n",
    "    run_cross_validation(\n",
    "        df_train_full_pca.drop(columns=[\"RainTomorrow\"]),\n",
    "        df_train_full_pca[\"RainTomorrow\"],\n",
    "        df_test_full_pca.drop(columns=[\"RainTomorrow\"]),\n",
    "        df_test_full_pca[\"RainTomorrow\"],\n",
    "        SVC(random_state=42),\n",
    "        param_grid_categorical,\n",
    "        k_folds=5,\n",
    "    )\n",
    ")\n",
    "\n",
    "print(\"Resultados na validação cruzada:\", results_validation)\n",
    "print(\"Resultados na base de teste:\", results_test)\n",
    "print(\"Melhores parâmetros escolhidos:\", best_params)"
   ]
  },
  {
   "cell_type": "code",
   "execution_count": null,
   "metadata": {},
   "outputs": [],
   "source": [
    "results_list_svm_pca_full.to_csv(\n",
    "    \"../../DATA/RESULTS/results_list_svm_pca_full.csv\", sep=\"|\", index=False\n",
    ")"
   ]
  },
  {
   "cell_type": "markdown",
   "metadata": {},
   "source": [
    "##### OVERSAMPLING"
   ]
  },
  {
   "cell_type": "code",
   "execution_count": null,
   "metadata": {},
   "outputs": [],
   "source": [
    "param_grid_categorical = {\n",
    "    \"C\": [10, 100],\n",
    "    \"kernel\": [\"rbf\", \"linear\"],\n",
    "    \"gamma\": [0.01, 0.1],\n",
    "}\n",
    "\n",
    "# Executar a função e obter os melhores parâmetros\n",
    "results_validation, results_test, best_params, results_list_svm_pca_smote = (\n",
    "    run_cross_validation(\n",
    "        df_train_smote_pca.drop(columns=[\"RainTomorrow\"]),\n",
    "        df_train_smote_pca[\"RainTomorrow\"],\n",
    "        df_test_smote_pca.drop(columns=[\"RainTomorrow\"]),\n",
    "        df_test_smote_pca[\"RainTomorrow\"],\n",
    "        SVC(random_state=42),\n",
    "        param_grid_categorical,\n",
    "        k_folds=5,\n",
    "    )\n",
    ")\n",
    "\n",
    "print(\"Resultados na validação cruzada:\", results_validation)\n",
    "print(\"Resultados na base de teste:\", results_test)\n",
    "print(\"Melhores parâmetros escolhidos:\", best_params)"
   ]
  },
  {
   "cell_type": "code",
   "execution_count": null,
   "metadata": {},
   "outputs": [],
   "source": [
    "results_list_svm_pca_smote.to_csv(\n",
    "    \"../../DATA/RESULTS/results_list_svm_pca_smote.csv\", sep=\"|\", index=False\n",
    ")"
   ]
  },
  {
   "cell_type": "markdown",
   "metadata": {},
   "source": [
    "##### LIBERA MEMÓRIA"
   ]
  },
  {
   "cell_type": "code",
   "execution_count": null,
   "metadata": {},
   "outputs": [],
   "source": [
    "del results_list_svm_pca_smote, results_list_svm_pca_under, results_list_svm_pca_full\n",
    "gc.collect()"
   ]
  },
  {
   "cell_type": "markdown",
   "metadata": {},
   "source": [
    "#### CORRELAÇÃO"
   ]
  },
  {
   "cell_type": "markdown",
   "metadata": {},
   "source": [
    "##### UNDERSAMPLING"
   ]
  },
  {
   "cell_type": "code",
   "execution_count": null,
   "metadata": {},
   "outputs": [],
   "source": [
    "param_grid_categorical = {\n",
    "    \"C\": [10, 100],\n",
    "    \"kernel\": [\"rbf\", \"linear\"],\n",
    "    \"gamma\": [0.01, 0.1],\n",
    "}\n",
    "\n",
    "# Executar a função e obter os melhores parâmetros\n",
    "results_validation, results_test, best_params, results_list_svm_corr_under = (\n",
    "    run_cross_validation(\n",
    "        df_train_under[filtro_correlacao],\n",
    "        df_train_under[\"RainTomorrow\"],\n",
    "        df_test_under[filtro_correlacao],\n",
    "        df_test_under[\"RainTomorrow\"],\n",
    "        SVC(random_state=42),\n",
    "        param_grid_categorical,\n",
    "        k_folds=5,\n",
    "    )\n",
    ")\n",
    "\n",
    "print(\"Resultados na validação cruzada:\", results_validation)\n",
    "print(\"Resultados na base de teste:\", results_test)\n",
    "print(\"Melhores parâmetros escolhidos:\", best_params)"
   ]
  },
  {
   "cell_type": "code",
   "execution_count": null,
   "metadata": {},
   "outputs": [],
   "source": [
    "results_list_svm_corr_under.to_csv(\n",
    "    \"../../DATA/RESULTS/results_list_svm_corr_under.csv\", sep=\"|\", index=False\n",
    ")"
   ]
  },
  {
   "cell_type": "markdown",
   "metadata": {},
   "source": [
    "##### SEM BALANCEAMENTO"
   ]
  },
  {
   "cell_type": "code",
   "execution_count": null,
   "metadata": {},
   "outputs": [],
   "source": [
    "param_grid_categorical = {\n",
    "    \"C\": [10, 100],\n",
    "    \"kernel\": [\"rbf\", \"linear\"],\n",
    "    \"gamma\": [0.01, 0.1],\n",
    "}\n",
    "\n",
    "# Executar a função e obter os melhores parâmetros\n",
    "results_validation, results_test, best_params, results_list_svm_corr_full = (\n",
    "    run_cross_validation(\n",
    "        df_train_full[filtro_correlacao],\n",
    "        df_train_full[\"RainTomorrow\"],\n",
    "        df_test_full[filtro_correlacao],\n",
    "        df_test_full[\"RainTomorrow\"],\n",
    "        SVC(random_state=42),\n",
    "        param_grid_categorical,\n",
    "        k_folds=5,\n",
    "    )\n",
    ")\n",
    "\n",
    "print(\"Resultados na validação cruzada:\", results_validation)\n",
    "print(\"Resultados na base de teste:\", results_test)\n",
    "print(\"Melhores parâmetros escolhidos:\", best_params)"
   ]
  },
  {
   "cell_type": "code",
   "execution_count": null,
   "metadata": {},
   "outputs": [],
   "source": [
    "results_list_svm_corr_full.to_csv(\n",
    "    \"../../DATA/RESULTS/results_list_svm_corr_full.csv\", sep=\"|\", index=False\n",
    ")"
   ]
  },
  {
   "cell_type": "markdown",
   "metadata": {},
   "source": [
    "##### OVERSAMPLING"
   ]
  },
  {
   "cell_type": "code",
   "execution_count": null,
   "metadata": {},
   "outputs": [],
   "source": [
    "param_grid_categorical = {\n",
    "    \"C\": [10, 100],\n",
    "    \"kernel\": [\"rbf\", \"linear\"],\n",
    "    \"gamma\": [0.01, 0.1],\n",
    "}\n",
    "\n",
    "# Executar a função e obter os melhores parâmetros\n",
    "results_validation, results_test, best_params, results_list_svm_corr_smote = (\n",
    "    run_cross_validation(\n",
    "        df_train_smote[filtro_correlacao],\n",
    "        df_train_smote[\"RainTomorrow\"],\n",
    "        df_test_smote[filtro_correlacao],\n",
    "        df_test_smote[\"RainTomorrow\"],\n",
    "        SVC(random_state=42),\n",
    "        param_grid_categorical,\n",
    "        k_folds=5,\n",
    "    )\n",
    ")\n",
    "\n",
    "print(\"Resultados na validação cruzada:\", results_validation)\n",
    "print(\"Resultados na base de teste:\", results_test)\n",
    "print(\"Melhores parâmetros escolhidos:\", best_params)"
   ]
  },
  {
   "cell_type": "code",
   "execution_count": null,
   "metadata": {},
   "outputs": [],
   "source": [
    "results_list_svm_corr_smote.to_csv(\n",
    "    \"../../DATA/RESULTS/results_list_svm_corr_smote.csv\", sep=\"|\", index=False\n",
    ")"
   ]
  },
  {
   "cell_type": "markdown",
   "metadata": {},
   "source": [
    "##### LIBERA MEMÓRIA"
   ]
  },
  {
   "cell_type": "code",
   "execution_count": null,
   "metadata": {},
   "outputs": [],
   "source": [
    "del results_list_svm_corr_smote, results_list_svm_corr_full, results_list_svm_corr_under\n",
    "gc.collect()"
   ]
  },
  {
   "cell_type": "markdown",
   "metadata": {},
   "source": [
    "#### RANDOM FOREST - FEATURE IMPORTANCE"
   ]
  },
  {
   "cell_type": "markdown",
   "metadata": {},
   "source": [
    "##### UNDERSAMPLING"
   ]
  },
  {
   "cell_type": "code",
   "execution_count": null,
   "metadata": {},
   "outputs": [],
   "source": [
    "param_grid_categorical = {\n",
    "    \"C\": [10, 100],\n",
    "    \"kernel\": [\"rbf\", \"linear\"],\n",
    "    \"gamma\": [0.01, 0.1],\n",
    "}\n",
    "\n",
    "# Executar a função e obter os melhores parâmetros\n",
    "results_validation, results_test, best_params, results_list_svm_rf_under = (\n",
    "    run_cross_validation(\n",
    "        df_train_under[filtro_random_forest],\n",
    "        df_train_under[\"RainTomorrow\"],\n",
    "        df_test_under[filtro_random_forest],\n",
    "        df_test_under[\"RainTomorrow\"],\n",
    "        SVC(random_state=42),\n",
    "        param_grid_categorical,\n",
    "        k_folds=5,\n",
    "    )\n",
    ")\n",
    "\n",
    "print(\"Resultados na validação cruzada:\", results_validation)\n",
    "print(\"Resultados na base de teste:\", results_test)\n",
    "print(\"Melhores parâmetros escolhidos:\", best_params)"
   ]
  },
  {
   "cell_type": "code",
   "execution_count": null,
   "metadata": {},
   "outputs": [],
   "source": [
    "results_list_svm_rf_under.to_csv(\n",
    "    \"../../DATA/RESULTS/results_list_svm_rf_under.csv\", sep=\"|\", index=False\n",
    ")"
   ]
  },
  {
   "cell_type": "markdown",
   "metadata": {},
   "source": [
    "##### SEM BALANCEAMENTO"
   ]
  },
  {
   "cell_type": "code",
   "execution_count": null,
   "metadata": {},
   "outputs": [],
   "source": [
    "param_grid_categorical = {\n",
    "    \"C\": [10, 100],\n",
    "    \"kernel\": [\"rbf\", \"linear\"],\n",
    "    \"gamma\": [0.01, 0.1],\n",
    "}\n",
    "\n",
    "# Executar a função e obter os melhores parâmetros\n",
    "results_validation, results_test, best_params, results_list_svm_rf_full = (\n",
    "    run_cross_validation(\n",
    "        df_train_full[filtro_random_forest],\n",
    "        df_train_full[\"RainTomorrow\"],\n",
    "        df_test_full[filtro_random_forest],\n",
    "        df_test_full[\"RainTomorrow\"],\n",
    "        SVC(random_state=42),\n",
    "        param_grid_categorical,\n",
    "        k_folds=5,\n",
    "    )\n",
    ")\n",
    "\n",
    "print(\"Resultados na validação cruzada:\", results_validation)\n",
    "print(\"Resultados na base de teste:\", results_test)\n",
    "print(\"Melhores parâmetros escolhidos:\", best_params)"
   ]
  },
  {
   "cell_type": "code",
   "execution_count": null,
   "metadata": {},
   "outputs": [],
   "source": [
    "results_list_svm_rf_full.to_csv(\n",
    "    \"../../DATA/RESULTS/results_list_svm_rf_full.csv\", sep=\"|\", index=False\n",
    ")"
   ]
  },
  {
   "cell_type": "markdown",
   "metadata": {},
   "source": [
    "##### OVERSAMPLING"
   ]
  },
  {
   "cell_type": "code",
   "execution_count": null,
   "metadata": {},
   "outputs": [],
   "source": [
    "param_grid_categorical = {\n",
    "    \"C\": [10, 100],\n",
    "    \"kernel\": [\"rbf\", \"linear\"],\n",
    "    \"gamma\": [0.01, 0.1],\n",
    "}\n",
    "\n",
    "# Executar a função e obter os melhores parâmetros\n",
    "results_validation, results_test, best_params, results_list_svm_rf_smote = (\n",
    "    run_cross_validation(\n",
    "        df_train_smote[filtro_random_forest],\n",
    "        df_train_smote[\"RainTomorrow\"],\n",
    "        df_test_smote[filtro_random_forest],\n",
    "        df_test_smote[\"RainTomorrow\"],\n",
    "        SVC(random_state=42),\n",
    "        param_grid_categorical,\n",
    "        k_folds=5,\n",
    "    )\n",
    ")\n",
    "\n",
    "print(\"Resultados na validação cruzada:\", results_validation)\n",
    "print(\"Resultados na base de teste:\", results_test)\n",
    "print(\"Melhores parâmetros escolhidos:\", best_params)"
   ]
  },
  {
   "cell_type": "code",
   "execution_count": null,
   "metadata": {},
   "outputs": [],
   "source": [
    "results_list_svm_rf_smote.to_csv(\n",
    "    \"../../DATA/RESULTS/results_list_svm_rf_smote.csv\", sep=\"|\", index=False\n",
    ")"
   ]
  },
  {
   "cell_type": "markdown",
   "metadata": {},
   "source": [
    "##### LIBERA MEMÓRIA"
   ]
  },
  {
   "cell_type": "code",
   "execution_count": null,
   "metadata": {},
   "outputs": [],
   "source": [
    "del results_list_svm_rf_smote, results_list_svm_rf_full, results_list_svm_rf_under\n",
    "gc.collect()"
   ]
  },
  {
   "cell_type": "markdown",
   "metadata": {},
   "source": [
    "### MLP"
   ]
  },
  {
   "cell_type": "markdown",
   "metadata": {},
   "source": [
    "#### TODAS AS CARACTERÍSTICAS"
   ]
  },
  {
   "cell_type": "markdown",
   "metadata": {},
   "source": [
    "##### UNDERSAMPLING"
   ]
  },
  {
   "cell_type": "code",
   "execution_count": null,
   "metadata": {},
   "outputs": [],
   "source": [
    "param_grid_categorical = {\n",
    "    \"hidden_layer_sizes\": [5, 10, 15],\n",
    "    \"activation\": [\"logistic\", \"relu\"],\n",
    "    \"learning_rate_init\": [0.001, 0.01, 0.05, 0.1],\n",
    "}\n",
    "\n",
    "# Executar a função e obter os melhores parâmetros\n",
    "results_validation, results_test, best_params, results_list_mlp_under = (\n",
    "    run_cross_validation(\n",
    "        df_train_under.drop(columns=[\"RainTomorrow\"]),\n",
    "        df_train_under[\"RainTomorrow\"],\n",
    "        df_test_under.drop(columns=[\"RainTomorrow\"]),\n",
    "        df_test_under[\"RainTomorrow\"],\n",
    "        MLPClassifier(random_state=42),\n",
    "        param_grid_categorical,\n",
    "        k_folds=10,\n",
    "    )\n",
    ")\n",
    "\n",
    "print(\"Resultados na validação cruzada:\", results_validation)\n",
    "print(\"Resultados na base de teste:\", results_test)\n",
    "print(\"Melhores parâmetros escolhidos:\", best_params)"
   ]
  },
  {
   "cell_type": "code",
   "execution_count": null,
   "metadata": {},
   "outputs": [],
   "source": [
    "results_list_mlp_under.to_csv(\n",
    "    \"../../DATA/RESULTS/results_list_mlp_under.csv\", sep=\"|\", index=False\n",
    ")"
   ]
  },
  {
   "cell_type": "markdown",
   "metadata": {},
   "source": [
    "##### SEM BALANCEAMENTO"
   ]
  },
  {
   "cell_type": "code",
   "execution_count": null,
   "metadata": {},
   "outputs": [],
   "source": [
    "param_grid_categorical = {\n",
    "    \"hidden_layer_sizes\": [5, 10, 15],\n",
    "    \"activation\": [\"logistic\", \"relu\"],\n",
    "    \"learning_rate_init\": [0.001, 0.01, 0.05, 0.1],\n",
    "}\n",
    "\n",
    "# Executar a função e obter os melhores parâmetros\n",
    "results_validation, results_test, best_params, results_list_mlp_full = (\n",
    "    run_cross_validation(\n",
    "        df_train_full.drop(columns=[\"RainTomorrow\"]),\n",
    "        df_train_full[\"RainTomorrow\"],\n",
    "        df_test_full.drop(columns=[\"RainTomorrow\"]),\n",
    "        df_test_full[\"RainTomorrow\"],\n",
    "        MLPClassifier(random_state=42),\n",
    "        param_grid_categorical,\n",
    "        k_folds=10,\n",
    "    )\n",
    ")\n",
    "\n",
    "print(\"Resultados na validação cruzada:\", results_validation)\n",
    "print(\"Resultados na base de teste:\", results_test)\n",
    "print(\"Melhores parâmetros escolhidos:\", best_params)"
   ]
  },
  {
   "cell_type": "code",
   "execution_count": null,
   "metadata": {},
   "outputs": [],
   "source": [
    "results_list_mlp_full.to_csv(\n",
    "    \"../../DATA/RESULTS/results_list_mlp_full.csv\", sep=\"|\", index=False\n",
    ")"
   ]
  },
  {
   "cell_type": "markdown",
   "metadata": {},
   "source": [
    "##### OVERSAMPLING"
   ]
  },
  {
   "cell_type": "code",
   "execution_count": null,
   "metadata": {},
   "outputs": [],
   "source": [
    "param_grid_categorical = {\n",
    "    \"hidden_layer_sizes\": [5, 10, 15],\n",
    "    \"activation\": [\"logistic\", \"relu\"],\n",
    "    \"learning_rate_init\": [0.001, 0.01, 0.05, 0.1],\n",
    "}\n",
    "\n",
    "# Executar a função e obter os melhores parâmetros\n",
    "results_validation, results_test, best_params, results_list_mlp_smote = (\n",
    "    run_cross_validation(\n",
    "        df_train_smote.drop(columns=[\"RainTomorrow\"]),\n",
    "        df_train_smote[\"RainTomorrow\"],\n",
    "        df_test_smote.drop(columns=[\"RainTomorrow\"]),\n",
    "        df_test_smote[\"RainTomorrow\"],\n",
    "        MLPClassifier(random_state=42),\n",
    "        param_grid_categorical,\n",
    "        k_folds=10,\n",
    "    )\n",
    ")\n",
    "\n",
    "print(\"Resultados na validação cruzada:\", results_validation)\n",
    "print(\"Resultados na base de teste:\", results_test)\n",
    "print(\"Melhores parâmetros escolhidos:\", best_params)"
   ]
  },
  {
   "cell_type": "code",
   "execution_count": null,
   "metadata": {},
   "outputs": [],
   "source": [
    "results_list_mlp_smote.to_csv(\n",
    "    \"../../DATA/RESULTS/results_list_mlp_smote.csv\", sep=\"|\", index=False\n",
    ")"
   ]
  },
  {
   "cell_type": "markdown",
   "metadata": {},
   "source": [
    "##### LIBERA MEMÓRIA"
   ]
  },
  {
   "cell_type": "code",
   "execution_count": null,
   "metadata": {},
   "outputs": [],
   "source": [
    "del results_list_mlp_smote, results_list_mlp_under, results_list_mlp_full\n",
    "gc.collect()"
   ]
  },
  {
   "cell_type": "markdown",
   "metadata": {},
   "source": [
    "#### PCA"
   ]
  },
  {
   "cell_type": "markdown",
   "metadata": {},
   "source": [
    "##### UNDERSAMPLING"
   ]
  },
  {
   "cell_type": "code",
   "execution_count": null,
   "metadata": {},
   "outputs": [],
   "source": [
    "param_grid_categorical = {\n",
    "    \"hidden_layer_sizes\": [5, 10, 15],\n",
    "    \"activation\": [\"logistic\", \"relu\"],\n",
    "    \"learning_rate_init\": [0.001, 0.01, 0.05, 0.1],\n",
    "}\n",
    "\n",
    "# Executar a função e obter os melhores parâmetros\n",
    "results_validation, results_test, best_params, results_list_mlp_pca_under = (\n",
    "    run_cross_validation(\n",
    "        df_train_under_pca.drop(columns=[\"RainTomorrow\"]),\n",
    "        df_train_under_pca[\"RainTomorrow\"],\n",
    "        df_test_under_pca.drop(columns=[\"RainTomorrow\"]),\n",
    "        df_test_under_pca[\"RainTomorrow\"],\n",
    "        MLPClassifier(random_state=42),\n",
    "        param_grid_categorical,\n",
    "        k_folds=10,\n",
    "    )\n",
    ")\n",
    "\n",
    "print(\"Resultados na validação cruzada:\", results_validation)\n",
    "print(\"Resultados na base de teste:\", results_test)\n",
    "print(\"Melhores parâmetros escolhidos:\", best_params)"
   ]
  },
  {
   "cell_type": "code",
   "execution_count": null,
   "metadata": {},
   "outputs": [],
   "source": [
    "results_list_mlp_pca_under.to_csv(\n",
    "    \"../../DATA/RESULTS/results_list_mlp_pca_under.csv\", sep=\"|\", index=False\n",
    ")"
   ]
  },
  {
   "cell_type": "markdown",
   "metadata": {},
   "source": [
    "##### SEM BALANCEAMENTO"
   ]
  },
  {
   "cell_type": "code",
   "execution_count": null,
   "metadata": {},
   "outputs": [],
   "source": [
    "param_grid_categorical = {\n",
    "    \"hidden_layer_sizes\": [5, 10, 15],\n",
    "    \"activation\": [\"logistic\", \"relu\"],\n",
    "    \"learning_rate_init\": [0.001, 0.01, 0.05, 0.1],\n",
    "}\n",
    "\n",
    "# Executar a função e obter os melhores parâmetros\n",
    "results_validation, results_test, best_params, results_list_mlp_pca_full = (\n",
    "    run_cross_validation(\n",
    "        df_train_full_pca.drop(columns=[\"RainTomorrow\"]),\n",
    "        df_train_full_pca[\"RainTomorrow\"],\n",
    "        df_test_full_pca.drop(columns=[\"RainTomorrow\"]),\n",
    "        df_test_full_pca[\"RainTomorrow\"],\n",
    "        MLPClassifier(random_state=42),\n",
    "        param_grid_categorical,\n",
    "        k_folds=10,\n",
    "    )\n",
    ")\n",
    "\n",
    "print(\"Resultados na validação cruzada:\", results_validation)\n",
    "print(\"Resultados na base de teste:\", results_test)\n",
    "print(\"Melhores parâmetros escolhidos:\", best_params)"
   ]
  },
  {
   "cell_type": "code",
   "execution_count": null,
   "metadata": {},
   "outputs": [],
   "source": [
    "results_list_mlp_pca_full.to_csv(\n",
    "    \"../../DATA/RESULTS/results_list_mlp_pca_full.csv\", sep=\"|\", index=False\n",
    ")"
   ]
  },
  {
   "cell_type": "markdown",
   "metadata": {},
   "source": [
    "##### OVERSAMPLING"
   ]
  },
  {
   "cell_type": "code",
   "execution_count": null,
   "metadata": {},
   "outputs": [],
   "source": [
    "param_grid_categorical = {\n",
    "    \"hidden_layer_sizes\": [5, 10, 15],\n",
    "    \"activation\": [\"logistic\", \"relu\"],\n",
    "    \"learning_rate_init\": [0.001, 0.01, 0.05, 0.1],\n",
    "}\n",
    "\n",
    "# Executar a função e obter os melhores parâmetros\n",
    "results_validation, results_test, best_params, results_list_mlp_pca_smote = (\n",
    "    run_cross_validation(\n",
    "        df_train_smote_pca.drop(columns=[\"RainTomorrow\"]),\n",
    "        df_train_smote_pca[\"RainTomorrow\"],\n",
    "        df_test_smote_pca.drop(columns=[\"RainTomorrow\"]),\n",
    "        df_test_smote_pca[\"RainTomorrow\"],\n",
    "        MLPClassifier(random_state=42),\n",
    "        param_grid_categorical,\n",
    "        k_folds=10,\n",
    "    )\n",
    ")\n",
    "\n",
    "print(\"Resultados na validação cruzada:\", results_validation)\n",
    "print(\"Resultados na base de teste:\", results_test)\n",
    "print(\"Melhores parâmetros escolhidos:\", best_params)"
   ]
  },
  {
   "cell_type": "code",
   "execution_count": null,
   "metadata": {},
   "outputs": [],
   "source": [
    "results_list_mlp_pca_smote.to_csv(\n",
    "    \"../../DATA/RESULTS/results_list_mlp_pca_smote.csv\", sep=\"|\", index=False\n",
    ")"
   ]
  },
  {
   "cell_type": "markdown",
   "metadata": {},
   "source": [
    "##### LIBERA MEMÓRIA"
   ]
  },
  {
   "cell_type": "code",
   "execution_count": null,
   "metadata": {},
   "outputs": [],
   "source": [
    "del results_list_mlp_pca_smote, results_list_mlp_pca_under, results_list_mlp_pca_full\n",
    "gc.collect()"
   ]
  },
  {
   "cell_type": "markdown",
   "metadata": {},
   "source": [
    "#### CORRELAÇÃO"
   ]
  },
  {
   "cell_type": "markdown",
   "metadata": {},
   "source": [
    "##### UNDERSAMPLING"
   ]
  },
  {
   "cell_type": "code",
   "execution_count": null,
   "metadata": {},
   "outputs": [],
   "source": [
    "param_grid_categorical = {\n",
    "    \"hidden_layer_sizes\": [5, 10, 15],\n",
    "    \"activation\": [\"logistic\", \"relu\"],\n",
    "    \"learning_rate_init\": [0.001, 0.01, 0.05, 0.1],\n",
    "}\n",
    "\n",
    "# Executar a função e obter os melhores parâmetros\n",
    "results_validation, results_test, best_params, results_list_mlp_corr_under = (\n",
    "    run_cross_validation(\n",
    "        df_train_under[filtro_correlacao],\n",
    "        df_train_under[\"RainTomorrow\"],\n",
    "        df_test_under[filtro_correlacao],\n",
    "        df_test_under[\"RainTomorrow\"],\n",
    "        MLPClassifier(random_state=42),\n",
    "        param_grid_categorical,\n",
    "        k_folds=10,\n",
    "    )\n",
    ")\n",
    "\n",
    "print(\"Resultados na validação cruzada:\", results_validation)\n",
    "print(\"Resultados na base de teste:\", results_test)\n",
    "print(\"Melhores parâmetros escolhidos:\", best_params)"
   ]
  },
  {
   "cell_type": "code",
   "execution_count": null,
   "metadata": {},
   "outputs": [],
   "source": [
    "results_list_mlp_corr_under.to_csv(\n",
    "    \"../../DATA/RESULTS/results_list_mlp_corr_under.csv\", sep=\"|\", index=False\n",
    ")"
   ]
  },
  {
   "cell_type": "markdown",
   "metadata": {},
   "source": [
    "##### SEM BALANCEAMENTO"
   ]
  },
  {
   "cell_type": "code",
   "execution_count": null,
   "metadata": {},
   "outputs": [],
   "source": [
    "param_grid_categorical = {\n",
    "    \"hidden_layer_sizes\": [5, 10, 15],\n",
    "    \"activation\": [\"logistic\", \"relu\"],\n",
    "    \"learning_rate_init\": [0.001, 0.01, 0.05, 0.1],\n",
    "}\n",
    "\n",
    "# Executar a função e obter os melhores parâmetros\n",
    "results_validation, results_test, best_params, results_list_mlp_corr_full = (\n",
    "    run_cross_validation(\n",
    "        df_train_full[filtro_correlacao],\n",
    "        df_train_full[\"RainTomorrow\"],\n",
    "        df_test_full[filtro_correlacao],\n",
    "        df_test_full[\"RainTomorrow\"],\n",
    "        MLPClassifier(random_state=42),\n",
    "        param_grid_categorical,\n",
    "        k_folds=10,\n",
    "    )\n",
    ")\n",
    "\n",
    "print(\"Resultados na validação cruzada:\", results_validation)\n",
    "print(\"Resultados na base de teste:\", results_test)\n",
    "print(\"Melhores parâmetros escolhidos:\", best_params)"
   ]
  },
  {
   "cell_type": "code",
   "execution_count": null,
   "metadata": {},
   "outputs": [],
   "source": [
    "results_list_mlp_corr_full.to_csv(\n",
    "    \"../../DATA/RESULTS/results_list_mlp_corr_full.csv\", sep=\"|\", index=False\n",
    ")"
   ]
  },
  {
   "cell_type": "markdown",
   "metadata": {},
   "source": [
    "##### OVERSAMPLING"
   ]
  },
  {
   "cell_type": "code",
   "execution_count": null,
   "metadata": {},
   "outputs": [],
   "source": [
    "param_grid_categorical = {\n",
    "    \"hidden_layer_sizes\": [5, 10, 15],\n",
    "    \"activation\": [\"logistic\", \"relu\"],\n",
    "    \"learning_rate_init\": [0.001, 0.01, 0.05, 0.1],\n",
    "}\n",
    "\n",
    "# Executar a função e obter os melhores parâmetros\n",
    "results_validation, results_test, best_params, results_list_mlp_corr_smote = (\n",
    "    run_cross_validation(\n",
    "        df_train_smote[filtro_correlacao],\n",
    "        df_train_smote[\"RainTomorrow\"],\n",
    "        df_test_smote[filtro_correlacao],\n",
    "        df_test_smote[\"RainTomorrow\"],\n",
    "        MLPClassifier(random_state=42),\n",
    "        param_grid_categorical,\n",
    "        k_folds=10,\n",
    "    )\n",
    ")\n",
    "\n",
    "print(\"Resultados na validação cruzada:\", results_validation)\n",
    "print(\"Resultados na base de teste:\", results_test)\n",
    "print(\"Melhores parâmetros escolhidos:\", best_params)"
   ]
  },
  {
   "cell_type": "code",
   "execution_count": null,
   "metadata": {},
   "outputs": [],
   "source": [
    "results_list_mlp_corr_smote.to_csv(\n",
    "    \"../../DATA/RESULTS/results_list_mlp_corr_smote.csv\", sep=\"|\", index=False\n",
    ")"
   ]
  },
  {
   "cell_type": "markdown",
   "metadata": {},
   "source": [
    "##### LIBERA MEMÓRIA"
   ]
  },
  {
   "cell_type": "code",
   "execution_count": null,
   "metadata": {},
   "outputs": [],
   "source": [
    "del results_list_mlp_corr_smote, results_list_mlp_corr_full, results_list_mlp_corr_under\n",
    "gc.collect()"
   ]
  },
  {
   "cell_type": "markdown",
   "metadata": {},
   "source": [
    "#### RANDOM FOREST - FEATURE IMPORTANCE"
   ]
  },
  {
   "cell_type": "markdown",
   "metadata": {},
   "source": [
    "##### UNDERSAMPLING"
   ]
  },
  {
   "cell_type": "code",
   "execution_count": null,
   "metadata": {},
   "outputs": [],
   "source": [
    "param_grid_categorical = {\n",
    "    \"hidden_layer_sizes\": [5, 10, 15],\n",
    "    \"activation\": [\"logistic\", \"relu\"],\n",
    "    \"learning_rate_init\": [0.001, 0.01, 0.05, 0.1],\n",
    "}\n",
    "\n",
    "# Executar a função e obter os melhores parâmetros\n",
    "results_validation, results_test, best_params, results_list_mlp_rf_under = (\n",
    "    run_cross_validation(\n",
    "        df_train_under[filtro_random_forest],\n",
    "        df_train_under[\"RainTomorrow\"],\n",
    "        df_test_under[filtro_random_forest],\n",
    "        df_test_under[\"RainTomorrow\"],\n",
    "        MLPClassifier(random_state=42),\n",
    "        param_grid_categorical,\n",
    "        k_folds=10,\n",
    "    )\n",
    ")\n",
    "\n",
    "print(\"Resultados na validação cruzada:\", results_validation)\n",
    "print(\"Resultados na base de teste:\", results_test)\n",
    "print(\"Melhores parâmetros escolhidos:\", best_params)"
   ]
  },
  {
   "cell_type": "code",
   "execution_count": null,
   "metadata": {},
   "outputs": [],
   "source": [
    "results_list_mlp_rf_under.to_csv(\n",
    "    \"../../DATA/RESULTS/results_list_mlp_rf_under.csv\", sep=\"|\", index=False\n",
    ")"
   ]
  },
  {
   "cell_type": "markdown",
   "metadata": {},
   "source": [
    "##### SEM BALANCEAMENTO"
   ]
  },
  {
   "cell_type": "code",
   "execution_count": null,
   "metadata": {},
   "outputs": [],
   "source": [
    "param_grid_categorical = {\n",
    "    \"hidden_layer_sizes\": [5, 10, 15],\n",
    "    \"activation\": [\"logistic\", \"relu\"],\n",
    "    \"learning_rate_init\": [0.001, 0.01, 0.05, 0.1],\n",
    "}\n",
    "\n",
    "# Executar a função e obter os melhores parâmetros\n",
    "results_validation, results_test, best_params, results_list_mlp_rf_full = (\n",
    "    run_cross_validation(\n",
    "        df_train_full[filtro_random_forest],\n",
    "        df_train_full[\"RainTomorrow\"],\n",
    "        df_test_full[filtro_random_forest],\n",
    "        df_test_full[\"RainTomorrow\"],\n",
    "        MLPClassifier(random_state=42),\n",
    "        param_grid_categorical,\n",
    "        k_folds=10,\n",
    "    )\n",
    ")\n",
    "\n",
    "print(\"Resultados na validação cruzada:\", results_validation)\n",
    "print(\"Resultados na base de teste:\", results_test)\n",
    "print(\"Melhores parâmetros escolhidos:\", best_params)"
   ]
  },
  {
   "cell_type": "code",
   "execution_count": null,
   "metadata": {},
   "outputs": [],
   "source": [
    "results_list_mlp_rf_full.to_csv(\n",
    "    \"../../DATA/RESULTS/results_list_mlp_rf_full.csv\", sep=\"|\", index=False\n",
    ")"
   ]
  },
  {
   "cell_type": "markdown",
   "metadata": {},
   "source": [
    "##### OVERSAMPLING"
   ]
  },
  {
   "cell_type": "code",
   "execution_count": null,
   "metadata": {},
   "outputs": [],
   "source": [
    "param_grid_categorical = {\n",
    "    \"hidden_layer_sizes\": [5, 10, 15],\n",
    "    \"activation\": [\"logistic\", \"relu\"],\n",
    "    \"learning_rate_init\": [0.001, 0.01, 0.05, 0.1],\n",
    "}\n",
    "\n",
    "# Executar a função e obter os melhores parâmetros\n",
    "results_validation, results_test, best_params, results_list_mlp_rf_smote = (\n",
    "    run_cross_validation(\n",
    "        df_train_smote[filtro_random_forest],\n",
    "        df_train_smote[\"RainTomorrow\"],\n",
    "        df_test_smote[filtro_random_forest],\n",
    "        df_test_smote[\"RainTomorrow\"],\n",
    "        MLPClassifier(random_state=42),\n",
    "        param_grid_categorical,\n",
    "        k_folds=10,\n",
    "    )\n",
    ")\n",
    "\n",
    "print(\"Resultados na validação cruzada:\", results_validation)\n",
    "print(\"Resultados na base de teste:\", results_test)\n",
    "print(\"Melhores parâmetros escolhidos:\", best_params)"
   ]
  },
  {
   "cell_type": "code",
   "execution_count": null,
   "metadata": {},
   "outputs": [],
   "source": [
    "results_list_mlp_rf_smote.to_csv(\n",
    "    \"../../DATA/RESULTS/results_list_mlp_rf_smote.csv\", sep=\"|\", index=False\n",
    ")"
   ]
  },
  {
   "cell_type": "markdown",
   "metadata": {},
   "source": [
    "##### LIBERA MEMÓRIA"
   ]
  },
  {
   "cell_type": "code",
   "execution_count": null,
   "metadata": {},
   "outputs": [],
   "source": [
    "del results_list_mlp_rf_smote, results_list_mlp_rf_full, results_list_mlp_rf_under\n",
    "gc.collect()"
   ]
  },
  {
   "cell_type": "code",
   "execution_count": null,
   "metadata": {},
   "outputs": [],
   "source": [
    "final_processo = datetime.now()\n",
    "print(f'PROCESSO DE MODELAGEM FINALIZADO EM: {final_processo}\\n\\n => TOTAL UTILIZADO: {final_processo - inicio_processo}')"
   ]
  }
 ],
 "metadata": {
  "kernelspec": {
   "display_name": "sin5007-D8LjHJFi-py3.11",
   "language": "python",
   "name": "python3"
  },
  "language_info": {
   "codemirror_mode": {
    "name": "ipython",
    "version": 3
   },
   "file_extension": ".py",
   "mimetype": "text/x-python",
   "name": "python",
   "nbconvert_exporter": "python",
   "pygments_lexer": "ipython3",
   "version": "3.11.9"
  }
 },
 "nbformat": 4,
 "nbformat_minor": 2
}
