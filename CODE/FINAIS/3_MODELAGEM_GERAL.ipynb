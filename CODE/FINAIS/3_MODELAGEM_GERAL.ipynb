{
 "cells": [
  {
   "cell_type": "markdown",
   "metadata": {},
   "source": [
    "# IMPORTAÇÃO DE BIBLIOTECAS"
   ]
  },
  {
   "cell_type": "code",
   "execution_count": 1,
   "metadata": {},
   "outputs": [],
   "source": [
    "# MANIPULAÇÃO DE DADOS\n",
    "import pandas as pd\n",
    "import numpy as np\n",
    "from datetime import datetime\n",
    "\n",
    "# VISUALIZAÇÃO DE DADOS\n",
    "import matplotlib.pyplot as plt\n",
    "\n",
    "# TRANSFORMAÇÕES\n",
    "from sklearn.decomposition import PCA\n",
    "from sklearn.preprocessing import StandardScaler\n",
    "from sklearn.preprocessing import KBinsDiscretizer\n",
    "from imblearn import over_sampling, under_sampling\n",
    "\n",
    "\n",
    "# PREPARAÇÃO TREINO E AVALIAÇÃO\n",
    "from sklearn.model_selection import StratifiedKFold, GridSearchCV, train_test_split\n",
    "from sklearn.metrics import accuracy_score, f1_score, precision_score, recall_score\n",
    "\n",
    "# MODELOS UTILIZADOS\n",
    "from mixed_naive_bayes import MixedNB\n",
    "from sklearn.naive_bayes import GaussianNB\n",
    "from sklearn.svm import SVC\n",
    "from sklearn.ensemble import RandomForestClassifier\n",
    "from sklearn.neural_network import MLPClassifier\n",
    "\n",
    "# CONFIGURAÇÕES DE EXIBIÇÃO\n",
    "import gc\n",
    "import warnings\n",
    "\n",
    "warnings.filterwarnings(\"ignore\")\n",
    "\n",
    "# pd.set_option('display.max_rows', None)\n",
    "pd.set_option(\"display.max_columns\", None)\n",
    "pd.set_option(\"display.width\", None)\n",
    "pd.set_option(\"display.max_colwidth\", None)"
   ]
  },
  {
   "cell_type": "code",
   "execution_count": null,
   "metadata": {},
   "outputs": [
    {
     "name": "stdout",
     "output_type": "stream",
     "text": [
      "PROCESSO DE MODELAGEM INICIADO EM: 2024-11-25 18:16:20.336681\n"
     ]
    }
   ],
   "source": [
    "inicio_processo = datetime.now()\n",
    "print(f\"PROCESSO DE MODELAGEM INICIADO EM: {inicio_processo}\")"
   ]
  },
  {
   "cell_type": "markdown",
   "metadata": {},
   "source": [
    "# IMPORTAÇÃO DE DADOS"
   ]
  },
  {
   "cell_type": "code",
   "execution_count": 3,
   "metadata": {},
   "outputs": [
    {
     "name": "stdout",
     "output_type": "stream",
     "text": [
      "O dataset possui 56,420 instâncias (linhas) e 23 características (colunas).\n",
      "As características (colunas) do dataset são: ['Date', 'Location', 'MinTemp', 'MaxTemp', 'Rainfall', 'Evaporation', 'Sunshine', 'WindGustDir', 'WindGustSpeed', 'WindDir9am', 'WindDir3pm', 'WindSpeed9am', 'WindSpeed3pm', 'Humidity9am', 'Humidity3pm', 'Pressure9am', 'Pressure3pm', 'Cloud9am', 'Cloud3pm', 'Temp9am', 'Temp3pm', 'RainToday', 'RainTomorrow']\n"
     ]
    }
   ],
   "source": [
    "weather_aus = pd.read_csv(\"../../DATA/weatherAUS.csv\").dropna()\n",
    "\n",
    "print(\n",
    "    f\"O dataset possui {weather_aus.shape[0]:,} instâncias (linhas) e {weather_aus.shape[1]:,} características (colunas).\"\n",
    ")\n",
    "\n",
    "print(f\"As características (colunas) do dataset são: {weather_aus.columns.to_list()}\")"
   ]
  },
  {
   "cell_type": "markdown",
   "metadata": {},
   "source": [
    "# FUNÇÕES PARA PRÉ-PROCESSAMENTO"
   ]
  },
  {
   "cell_type": "markdown",
   "metadata": {},
   "source": [
    "## SEPARA TREINO E TESTE (80/20)"
   ]
  },
  {
   "cell_type": "code",
   "execution_count": 4,
   "metadata": {},
   "outputs": [],
   "source": [
    "def split_data(df, target_column):\n",
    "    X = df.drop(columns=[target_column])\n",
    "    y = df[target_column]\n",
    "\n",
    "    # Dividir a base em treino e teste, mantendo a proporção das classes\n",
    "    X_train, X_test, y_train, y_test = train_test_split(\n",
    "        X, y, test_size=0.2, random_state=42, stratify=y\n",
    "    )\n",
    "\n",
    "    df_train = pd.concat([X_train, y_train], axis=1)\n",
    "    df_test = pd.concat([X_test, y_test], axis=1)\n",
    "\n",
    "    return df_train, df_test"
   ]
  },
  {
   "cell_type": "markdown",
   "metadata": {},
   "source": [
    "## AJUSTA O FORMATO DO ALVO"
   ]
  },
  {
   "cell_type": "code",
   "execution_count": 5,
   "metadata": {},
   "outputs": [],
   "source": [
    "def adjust_data_types(df):\n",
    "    df[\"Date\"] = pd.to_datetime(df[\"Date\"], format=\"%Y-%m-%d\")\n",
    "    df[\"RainTomorrow\"] = df.RainTomorrow.map({\"Yes\": 1, \"No\": 0})\n",
    "\n",
    "    return df\n"
   ]
  },
  {
   "cell_type": "markdown",
   "metadata": {},
   "source": [
    "## CRIAÇÃO DE VARIÁVEIS AUXILIARES"
   ]
  },
  {
   "cell_type": "code",
   "execution_count": 6,
   "metadata": {},
   "outputs": [],
   "source": [
    "def create_auxiliar_columns(df):\n",
    "    def get_season(month_number) -> str:\n",
    "        quarter = month_number % 12 // 3 + 1\n",
    "        if quarter == 1:\n",
    "            return \"summer\"\n",
    "\n",
    "        if quarter == 2:\n",
    "            return \"autumn\"\n",
    "\n",
    "        if quarter == 3:\n",
    "            return \"winter\"\n",
    "\n",
    "        if quarter == 4:\n",
    "            return \"spring\"\n",
    "\n",
    "    # COLUNAS SELECIONADAS COM BASE NAS AVALIAÇÕES ANTERIORES\n",
    "    df = df[\n",
    "        [\n",
    "            \"Date\",\n",
    "            \"MinTemp\",\n",
    "            \"MaxTemp\",\n",
    "            \"Rainfall\",\n",
    "            \"Evaporation\",\n",
    "            \"Sunshine\",\n",
    "            \"WindGustDir\",\n",
    "            \"WindGustSpeed\",\n",
    "            \"WindDir3pm\",\n",
    "            \"WindSpeed9am\",\n",
    "            \"WindSpeed3pm\",\n",
    "            \"Humidity9am\",\n",
    "            \"Humidity3pm\",\n",
    "            \"Pressure3pm\",\n",
    "            \"Cloud9am\",\n",
    "            \"Cloud3pm\",\n",
    "            \"RainTomorrow\",\n",
    "        ]\n",
    "    ]\n",
    "\n",
    "    df[\"RangeTemp\"] = df[\"MaxTemp\"] - df[\"MinTemp\"]\n",
    "\n",
    "    df[\"month\"] = df.Date.dt.month\n",
    "    df[\"season\"] = df[\"month\"].apply(lambda month_number: get_season(month_number))\n",
    "\n",
    "    time_encoded = pd.get_dummies(\n",
    "        df[[\"month\", \"season\"]],\n",
    "        columns=[\"month\", \"season\"],\n",
    "        drop_first=True,\n",
    "        prefix=[\"month\", \"season\"],\n",
    "        dtype=int,\n",
    "    )\n",
    "\n",
    "    # SEPARA AS VARIÁVEIS CATEGÓRICAS E NUMÉRICAS\n",
    "    # CATEGORIZA AS VARIÁVEIS NECESSÁRIAS\n",
    "    categorical_columns = pd.get_dummies(\n",
    "        df.select_dtypes(include=[\"object\", \"datetime64\"]),\n",
    "        columns=[\"WindGustDir\", \"WindDir3pm\"],\n",
    "        drop_first=True,\n",
    "        prefix=[\"WindGustDir\", \"WindDir3pm\"],\n",
    "        dtype=int,\n",
    "    )\n",
    "\n",
    "    numerical_columns = df.select_dtypes(\"number\")\n",
    "\n",
    "    df = pd.concat([numerical_columns, categorical_columns, time_encoded], axis=1)\n",
    "\n",
    "    return df.drop(columns=[\"month\", \"Date\", \"season\"]), {\n",
    "        \"numerical_columns\": numerical_columns.drop(\n",
    "            columns=[\"RainTomorrow\", \"month\"]\n",
    "        ).columns.to_list(),\n",
    "        \"categorical_columns\": categorical_columns.drop(\n",
    "            columns=[\"Date\", \"season\"]\n",
    "        ).columns.to_list(),\n",
    "        \"time_encoded\": time_encoded.columns.to_list(),\n",
    "    }\n"
   ]
  },
  {
   "cell_type": "markdown",
   "metadata": {},
   "source": [
    "## APLICA AS TRANSFORMAÇÕES"
   ]
  },
  {
   "cell_type": "code",
   "execution_count": 7,
   "metadata": {},
   "outputs": [],
   "source": [
    "def instance_transformations(n_components=8):\n",
    "    discretizer = KBinsDiscretizer(\n",
    "        n_bins=5, encode=\"ordinal\", strategy=\"kmeans\", random_state=42\n",
    "    )\n",
    "\n",
    "    smote = over_sampling.SMOTE(random_state=42)\n",
    "    under = under_sampling.RandomUnderSampler(random_state=42)\n",
    "\n",
    "    scaler = StandardScaler()\n",
    "    pca = PCA(n_components=n_components, random_state=42)\n",
    "\n",
    "    return discretizer, scaler, pca, smote, under"
   ]
  },
  {
   "cell_type": "code",
   "execution_count": 8,
   "metadata": {},
   "outputs": [],
   "source": [
    "def adjust_train_volume(df, target_column, smote, under):\n",
    "    X = df.drop(columns=[target_column])\n",
    "    y = df[target_column]\n",
    "\n",
    "    X_smote, y_smote = smote.fit_resample(X, y)\n",
    "    df_smote = pd.concat([X_smote, y_smote], axis=1)\n",
    "\n",
    "    X_under, y_under = under.fit_resample(X, y)\n",
    "    df_under = pd.concat([X_under, y_under], axis=1)\n",
    "\n",
    "    return df_smote, df_under"
   ]
  },
  {
   "cell_type": "code",
   "execution_count": 9,
   "metadata": {},
   "outputs": [],
   "source": [
    "def fit_transformmations(df, cols, discretizer, scaler, pca, discrete_col=\"Rainfall\"):\n",
    "    discretizer.fit(df[discrete_col].values.reshape(-1, 1))\n",
    "\n",
    "    scaler.fit(df[cols])\n",
    "    pca.fit(df[cols])\n",
    "\n",
    "    return discretizer, scaler, pca\n"
   ]
  },
  {
   "cell_type": "code",
   "execution_count": 10,
   "metadata": {},
   "outputs": [],
   "source": [
    "def transform_data(df, cols, discretizer, scaler, pca, discrete_col=\"Rainfall\"):\n",
    "    df[discrete_col + \"_Discretized\"] = discretizer.transform(\n",
    "        df[discrete_col].values.reshape(-1, 1)\n",
    "    )\n",
    "    df[cols] = scaler.transform(df[cols])\n",
    "    df = df.reset_index(drop=True)\n",
    "\n",
    "    pca_result = pca.transform(df[cols])\n",
    "\n",
    "    df_pca = pd.DataFrame(\n",
    "        data=pca_result,\n",
    "        columns=[f\"PC{comp}\" for comp in range(1, pca.n_components_ + 1)],\n",
    "    )\n",
    "    df_pca = df_pca.reset_index(drop=True)\n",
    "    df_pca[\"RainTomorrow\"] = df[\"RainTomorrow\"]\n",
    "\n",
    "    return df, df_pca"
   ]
  },
  {
   "cell_type": "markdown",
   "metadata": {},
   "source": [
    "# INICIO DO PRÉ-PROCESSAMENTO"
   ]
  },
  {
   "cell_type": "markdown",
   "metadata": {},
   "source": [
    "## SEPARA TREINO E TESTE (80/20)"
   ]
  },
  {
   "cell_type": "code",
   "execution_count": 11,
   "metadata": {},
   "outputs": [],
   "source": [
    "df_train, df_test = split_data(weather_aus, \"RainTomorrow\")"
   ]
  },
  {
   "cell_type": "markdown",
   "metadata": {},
   "source": [
    "## APLICAÇÕES SOBRE TREINO"
   ]
  },
  {
   "cell_type": "markdown",
   "metadata": {},
   "source": [
    "### AJUSTA O TIPO DE DADO"
   ]
  },
  {
   "cell_type": "code",
   "execution_count": 12,
   "metadata": {},
   "outputs": [],
   "source": [
    "df_train = adjust_data_types(df_train)"
   ]
  },
  {
   "cell_type": "markdown",
   "metadata": {},
   "source": [
    "### CRIA VARIÁVEIS AUXILIARES"
   ]
  },
  {
   "cell_type": "code",
   "execution_count": 13,
   "metadata": {},
   "outputs": [],
   "source": [
    "df_train, columns_names = create_auxiliar_columns(df_train)"
   ]
  },
  {
   "cell_type": "markdown",
   "metadata": {},
   "source": [
    "### APLICA AS TRANSFORMAÇÕES"
   ]
  },
  {
   "cell_type": "code",
   "execution_count": 14,
   "metadata": {},
   "outputs": [],
   "source": [
    "discretizer, scaler, pca, smote, under = instance_transformations()"
   ]
  },
  {
   "cell_type": "markdown",
   "metadata": {},
   "source": [
    "#### AJUSTA VOLUME DA RESPOSTA"
   ]
  },
  {
   "cell_type": "code",
   "execution_count": 15,
   "metadata": {},
   "outputs": [
    {
     "data": {
      "text/html": [
       "<div>\n",
       "<style scoped>\n",
       "    .dataframe tbody tr th:only-of-type {\n",
       "        vertical-align: middle;\n",
       "    }\n",
       "\n",
       "    .dataframe tbody tr th {\n",
       "        vertical-align: top;\n",
       "    }\n",
       "\n",
       "    .dataframe thead th {\n",
       "        text-align: right;\n",
       "    }\n",
       "</style>\n",
       "<table border=\"1\" class=\"dataframe\">\n",
       "  <thead>\n",
       "    <tr style=\"text-align: right;\">\n",
       "      <th></th>\n",
       "      <th>RainTomorrow</th>\n",
       "      <th>QTD</th>\n",
       "      <th>PERC</th>\n",
       "    </tr>\n",
       "  </thead>\n",
       "  <tbody>\n",
       "    <tr>\n",
       "      <th>0</th>\n",
       "      <td>0</td>\n",
       "      <td>35194</td>\n",
       "      <td>0.779732</td>\n",
       "    </tr>\n",
       "    <tr>\n",
       "      <th>1</th>\n",
       "      <td>1</td>\n",
       "      <td>9942</td>\n",
       "      <td>0.220268</td>\n",
       "    </tr>\n",
       "  </tbody>\n",
       "</table>\n",
       "</div>"
      ],
      "text/plain": [
       "   RainTomorrow    QTD      PERC\n",
       "0             0  35194  0.779732\n",
       "1             1   9942  0.220268"
      ]
     },
     "execution_count": 15,
     "metadata": {},
     "output_type": "execute_result"
    }
   ],
   "source": [
    "alvo = df_train.RainTomorrow.value_counts().to_frame(\"QTD\").reset_index()\n",
    "alvo[\"PERC\"] = alvo.QTD / alvo.QTD.sum()\n",
    "alvo"
   ]
  },
  {
   "cell_type": "code",
   "execution_count": 16,
   "metadata": {},
   "outputs": [],
   "source": [
    "df_train_smote, df_train_under = adjust_train_volume(\n",
    "    df_train, \"RainTomorrow\", smote, under\n",
    ")"
   ]
  },
  {
   "cell_type": "code",
   "execution_count": 17,
   "metadata": {},
   "outputs": [
    {
     "data": {
      "text/html": [
       "<div>\n",
       "<style scoped>\n",
       "    .dataframe tbody tr th:only-of-type {\n",
       "        vertical-align: middle;\n",
       "    }\n",
       "\n",
       "    .dataframe tbody tr th {\n",
       "        vertical-align: top;\n",
       "    }\n",
       "\n",
       "    .dataframe thead th {\n",
       "        text-align: right;\n",
       "    }\n",
       "</style>\n",
       "<table border=\"1\" class=\"dataframe\">\n",
       "  <thead>\n",
       "    <tr style=\"text-align: right;\">\n",
       "      <th></th>\n",
       "      <th>RainTomorrow</th>\n",
       "      <th>QTD</th>\n",
       "      <th>PERC</th>\n",
       "    </tr>\n",
       "  </thead>\n",
       "  <tbody>\n",
       "    <tr>\n",
       "      <th>0</th>\n",
       "      <td>1</td>\n",
       "      <td>35194</td>\n",
       "      <td>0.5</td>\n",
       "    </tr>\n",
       "    <tr>\n",
       "      <th>1</th>\n",
       "      <td>0</td>\n",
       "      <td>35194</td>\n",
       "      <td>0.5</td>\n",
       "    </tr>\n",
       "  </tbody>\n",
       "</table>\n",
       "</div>"
      ],
      "text/plain": [
       "   RainTomorrow    QTD  PERC\n",
       "0             1  35194   0.5\n",
       "1             0  35194   0.5"
      ]
     },
     "execution_count": 17,
     "metadata": {},
     "output_type": "execute_result"
    }
   ],
   "source": [
    "alvo_smote = df_train_smote.RainTomorrow.value_counts().to_frame(\"QTD\").reset_index()\n",
    "alvo_smote[\"PERC\"] = alvo_smote.QTD / alvo_smote.QTD.sum()\n",
    "alvo_smote"
   ]
  },
  {
   "cell_type": "code",
   "execution_count": 18,
   "metadata": {},
   "outputs": [
    {
     "data": {
      "text/html": [
       "<div>\n",
       "<style scoped>\n",
       "    .dataframe tbody tr th:only-of-type {\n",
       "        vertical-align: middle;\n",
       "    }\n",
       "\n",
       "    .dataframe tbody tr th {\n",
       "        vertical-align: top;\n",
       "    }\n",
       "\n",
       "    .dataframe thead th {\n",
       "        text-align: right;\n",
       "    }\n",
       "</style>\n",
       "<table border=\"1\" class=\"dataframe\">\n",
       "  <thead>\n",
       "    <tr style=\"text-align: right;\">\n",
       "      <th></th>\n",
       "      <th>RainTomorrow</th>\n",
       "      <th>QTD</th>\n",
       "      <th>PERC</th>\n",
       "    </tr>\n",
       "  </thead>\n",
       "  <tbody>\n",
       "    <tr>\n",
       "      <th>0</th>\n",
       "      <td>0</td>\n",
       "      <td>9942</td>\n",
       "      <td>0.5</td>\n",
       "    </tr>\n",
       "    <tr>\n",
       "      <th>1</th>\n",
       "      <td>1</td>\n",
       "      <td>9942</td>\n",
       "      <td>0.5</td>\n",
       "    </tr>\n",
       "  </tbody>\n",
       "</table>\n",
       "</div>"
      ],
      "text/plain": [
       "   RainTomorrow   QTD  PERC\n",
       "0             0  9942   0.5\n",
       "1             1  9942   0.5"
      ]
     },
     "execution_count": 18,
     "metadata": {},
     "output_type": "execute_result"
    }
   ],
   "source": [
    "alvo_under = df_train_under.RainTomorrow.value_counts().to_frame(\"QTD\").reset_index()\n",
    "alvo_under[\"PERC\"] = alvo_under.QTD / alvo_under.QTD.sum()\n",
    "alvo_under"
   ]
  },
  {
   "cell_type": "markdown",
   "metadata": {},
   "source": [
    "#### TRANSFORMA OS DADOS"
   ]
  },
  {
   "cell_type": "code",
   "execution_count": 19,
   "metadata": {},
   "outputs": [],
   "source": [
    "discretizer_full, scaler_full, pca_full = fit_transformmations(\n",
    "    df_train, columns_names[\"numerical_columns\"], discretizer, scaler, pca\n",
    ")"
   ]
  },
  {
   "cell_type": "code",
   "execution_count": 20,
   "metadata": {},
   "outputs": [],
   "source": [
    "discretizer_smote, scaler_smote, pca_smote = fit_transformmations(\n",
    "    df_train_smote, columns_names[\"numerical_columns\"], discretizer, scaler, pca\n",
    ")"
   ]
  },
  {
   "cell_type": "code",
   "execution_count": 21,
   "metadata": {},
   "outputs": [],
   "source": [
    "discretizer_under, scaler_under, pca_under = fit_transformmations(\n",
    "    df_train_under, columns_names[\"numerical_columns\"], discretizer, scaler, pca\n",
    ")"
   ]
  },
  {
   "cell_type": "code",
   "execution_count": 22,
   "metadata": {},
   "outputs": [],
   "source": [
    "df_train_full, df_train_full_pca = transform_data(\n",
    "    df_train, columns_names[\"numerical_columns\"], discretizer, scaler, pca\n",
    ")"
   ]
  },
  {
   "cell_type": "code",
   "execution_count": 23,
   "metadata": {},
   "outputs": [],
   "source": [
    "df_train_smote, df_train_smote_pca = transform_data(\n",
    "    df_train_smote,\n",
    "    columns_names[\"numerical_columns\"],\n",
    "    discretizer_smote,\n",
    "    scaler_smote,\n",
    "    pca_smote,\n",
    ")"
   ]
  },
  {
   "cell_type": "code",
   "execution_count": 24,
   "metadata": {},
   "outputs": [],
   "source": [
    "df_train_under, df_train_under_pca = transform_data(\n",
    "    df_train_under,\n",
    "    columns_names[\"numerical_columns\"],\n",
    "    discretizer_under,\n",
    "    scaler_under,\n",
    "    pca_under,\n",
    ")"
   ]
  },
  {
   "cell_type": "markdown",
   "metadata": {},
   "source": [
    "## APLICAÇÕES SOBRE TESTE"
   ]
  },
  {
   "cell_type": "markdown",
   "metadata": {},
   "source": [
    "### AJUSTA O TIPO DE DADO"
   ]
  },
  {
   "cell_type": "code",
   "execution_count": 25,
   "metadata": {},
   "outputs": [],
   "source": [
    "df_test = adjust_data_types(df_test)"
   ]
  },
  {
   "cell_type": "markdown",
   "metadata": {},
   "source": [
    "### CRIA VARIÁVEIS AUXILIARES"
   ]
  },
  {
   "cell_type": "code",
   "execution_count": 26,
   "metadata": {},
   "outputs": [],
   "source": [
    "df_test, columns_names = create_auxiliar_columns(df_test)"
   ]
  },
  {
   "cell_type": "markdown",
   "metadata": {},
   "source": [
    "### TRANSFORMA OS DADOS"
   ]
  },
  {
   "cell_type": "code",
   "execution_count": 27,
   "metadata": {},
   "outputs": [],
   "source": [
    "df_test_full, df_test_full_pca = transform_data(\n",
    "    df_test, columns_names[\"numerical_columns\"], discretizer, scaler, pca\n",
    ")"
   ]
  },
  {
   "cell_type": "code",
   "execution_count": 28,
   "metadata": {},
   "outputs": [],
   "source": [
    "df_test_smote, df_test_smote_pca = transform_data(\n",
    "    df_test,\n",
    "    columns_names[\"numerical_columns\"],\n",
    "    discretizer_smote,\n",
    "    scaler_smote,\n",
    "    pca_smote,\n",
    ")"
   ]
  },
  {
   "cell_type": "code",
   "execution_count": 29,
   "metadata": {},
   "outputs": [],
   "source": [
    "df_test_under, df_test_under_pca = transform_data(\n",
    "    df_test,\n",
    "    columns_names[\"numerical_columns\"],\n",
    "    discretizer_under,\n",
    "    scaler_under,\n",
    "    pca_under,\n",
    ")"
   ]
  },
  {
   "cell_type": "code",
   "execution_count": null,
   "metadata": {},
   "outputs": [],
   "source": []
  },
  {
   "cell_type": "markdown",
   "metadata": {},
   "source": [
    "## LIBERA MEMÓRIA"
   ]
  },
  {
   "cell_type": "code",
   "execution_count": 30,
   "metadata": {},
   "outputs": [
    {
     "data": {
      "text/plain": [
       "87"
      ]
     },
     "execution_count": 30,
     "metadata": {},
     "output_type": "execute_result"
    }
   ],
   "source": [
    "del (\n",
    "    df_train,\n",
    "    df_test,\n",
    "    weather_aus,\n",
    "    discretizer_under,\n",
    "    scaler_under,\n",
    "    pca_under,\n",
    "    discretizer_smote,\n",
    "    scaler_smote,\n",
    "    pca_smote,\n",
    "    discretizer,\n",
    "    scaler,\n",
    "    pca,\n",
    "    smote,\n",
    "    under,\n",
    ")\n",
    "gc.collect()"
   ]
  },
  {
   "cell_type": "markdown",
   "metadata": {},
   "source": [
    "# PROCESSO DE MODELAGEM"
   ]
  },
  {
   "cell_type": "markdown",
   "metadata": {},
   "source": [
    "## FUNÇÕES DE CROSS VALIDATION"
   ]
  },
  {
   "cell_type": "markdown",
   "metadata": {},
   "source": [
    "### NUMÉRICAS"
   ]
  },
  {
   "cell_type": "code",
   "execution_count": 31,
   "metadata": {},
   "outputs": [],
   "source": [
    "def run_cross_validation(\n",
    "    train_data, train_target, test_data, test_target, model, param_grid, k_folds=5\n",
    "):\n",
    "    skf = StratifiedKFold(n_splits=k_folds)\n",
    "    scores_validation = {\"f1\": [], \"accuracy\": [], \"precision\": [], \"recall\": []}\n",
    "    scores_test = {\"f1\": [], \"accuracy\": [], \"precision\": [], \"recall\": []}\n",
    "    best_params = None\n",
    "    best_model = None\n",
    "    best_f1 = 0\n",
    "    counter = 1\n",
    "    print(f\"====> INICIANDO PROCESSAMENTO: {datetime.now()} <====\")\n",
    "\n",
    "    for train_index, valid_index in skf.split(train_data, train_target):\n",
    "        inicio = datetime.now()\n",
    "        print(f\"====> {inicio} | EXECUTANDO FOLD {counter} \")\n",
    "\n",
    "        # Use .iloc to select rows based on indices\n",
    "        X_train_fold, X_valid_fold = (\n",
    "            train_data.iloc[train_index],\n",
    "            train_data.iloc[valid_index],\n",
    "        )\n",
    "        y_train_fold, y_valid_fold = (\n",
    "            train_target.iloc[train_index],\n",
    "            train_target.iloc[valid_index],\n",
    "        )\n",
    "\n",
    "        # Etapa 2: Treinamento e ajuste de hiperparâmetros com validação cruzada interna\n",
    "        grid_search = GridSearchCV(\n",
    "            model,\n",
    "            param_grid,\n",
    "            scoring=\"f1\",\n",
    "            cv=StratifiedKFold(n_splits=3),\n",
    "            n_jobs=-1,\n",
    "            verbose=3,\n",
    "        )\n",
    "        grid_search.fit(X_train_fold, y_train_fold)\n",
    "        model = grid_search.best_estimator_\n",
    "        f1 = grid_search.best_score_\n",
    "\n",
    "        if f1 > best_f1:\n",
    "            best_model = model\n",
    "            best_params = grid_search.best_params_\n",
    "            best_f1 = f1\n",
    "\n",
    "        # Avaliação nos dados de validação\n",
    "        y_valid_pred = model.predict(X_valid_fold)\n",
    "\n",
    "        # Cálculo das métricas no fold\n",
    "        scores_validation[\"f1\"].append(\n",
    "            f1_score(y_valid_fold, y_valid_pred, average=\"macro\")\n",
    "        )\n",
    "        scores_validation[\"accuracy\"].append(accuracy_score(y_valid_fold, y_valid_pred))\n",
    "        scores_validation[\"precision\"].append(\n",
    "            precision_score(y_valid_fold, y_valid_pred, average=\"macro\")\n",
    "        )\n",
    "        scores_validation[\"recall\"].append(\n",
    "            recall_score(y_valid_fold, y_valid_pred, average=\"macro\")\n",
    "        )\n",
    "\n",
    "        # Avaliar na base de teste com o melhor modelo\n",
    "        y_test_pred = model.predict(test_data)\n",
    "        f1_test = f1_score(test_target, y_test_pred, average=\"macro\")\n",
    "        accuracy_test = accuracy_score(test_target, y_test_pred)\n",
    "        precision_test = precision_score(test_target, y_test_pred, average=\"macro\")\n",
    "        recall_test = recall_score(test_target, y_test_pred, average=\"macro\")\n",
    "\n",
    "        # Armazenar as métricas na base de teste\n",
    "        scores_test[\"f1\"].append(f1_test)\n",
    "        scores_test[\"accuracy\"].append(accuracy_test)\n",
    "        scores_test[\"precision\"].append(precision_test)\n",
    "        scores_test[\"recall\"].append(recall_test)\n",
    "\n",
    "        counter += 1\n",
    "        final = datetime.now()\n",
    "        print(\n",
    "            f\"===> {final} | FINALIZADO FOLD {counter - 1} | TEMPO TOTAL {final - inicio}\\n\\n\"\n",
    "        )\n",
    "\n",
    "    # Calcula as médias das métricas nos folds de validação\n",
    "    avg_scores_validation = {\n",
    "        metric: np.mean(values) for metric, values in scores_validation.items()\n",
    "    }\n",
    "    test_scores = {metric: np.mean(values) for metric, values in scores_test.items()}\n",
    "\n",
    "    # Criar log dos resultados\n",
    "    log = pd.DataFrame(scores_validation)\n",
    "    log[\"dataset\"] = \"Validação Cruzada\"\n",
    "\n",
    "    test_log = pd.DataFrame(scores_test)\n",
    "    test_log[\"dataset\"] = \"Teste\"\n",
    "\n",
    "    # Concatenar os logs da validação cruzada e do teste\n",
    "    full_log = pd.concat([log, test_log])\n",
    "\n",
    "    return avg_scores_validation, test_scores, best_params, full_log"
   ]
  },
  {
   "cell_type": "markdown",
   "metadata": {},
   "source": [
    "### CATEGÓRICAS"
   ]
  },
  {
   "cell_type": "code",
   "execution_count": 32,
   "metadata": {},
   "outputs": [],
   "source": [
    "def run_cross_mix(\n",
    "    train_data,\n",
    "    train_target,\n",
    "    test_data,\n",
    "    test_target,\n",
    "    alphas,\n",
    "    k_folds=5,\n",
    "    categorical_features=None,\n",
    "):\n",
    "    skf = StratifiedKFold(n_splits=k_folds)\n",
    "    scores_validation = {\"f1\": [], \"accuracy\": [], \"precision\": [], \"recall\": []}\n",
    "    scores_test = {\"f1\": [], \"accuracy\": [], \"precision\": [], \"recall\": []}\n",
    "    best_model = None\n",
    "    best_alpha = None\n",
    "    best_f1 = 0\n",
    "    counter = 1\n",
    "    print(f\"====> INICIANDO PROCESSAMENTO: {datetime.now()} <====\")\n",
    "\n",
    "    # Validação cruzada estratificada\n",
    "    for train_index, valid_index in skf.split(train_data, train_target):\n",
    "        inicio = datetime.now()\n",
    "        print(f\"====> {inicio} | EXECUTANDO FOLD {counter} \")\n",
    "\n",
    "        X_train_fold, X_valid_fold = (\n",
    "            train_data.iloc[train_index],\n",
    "            train_data.iloc[valid_index],\n",
    "        )\n",
    "        y_train_fold, y_valid_fold = (\n",
    "            train_target.iloc[train_index],\n",
    "            train_target.iloc[valid_index],\n",
    "        )\n",
    "\n",
    "        # Iterar pelos valores de alpha\n",
    "        for alpha in alphas:\n",
    "            print(f\"========> Testando: alpha = {alpha}\")\n",
    "            # Treina o modelo com o valor de alpha atual\n",
    "            model = MixedNB(categorical_features=categorical_features, alpha=alpha)\n",
    "            model.fit(X_train_fold, y_train_fold)\n",
    "\n",
    "            # Avaliação nos dados de validação\n",
    "            y_valid_pred = model.predict(X_valid_fold)\n",
    "            f1 = f1_score(y_valid_fold, y_valid_pred, average=\"macro\")\n",
    "            accuracy = accuracy_score(y_valid_fold, y_valid_pred)\n",
    "            precision = precision_score(y_valid_fold, y_valid_pred, average=\"macro\")\n",
    "            recall = recall_score(y_valid_fold, y_valid_pred, average=\"macro\")\n",
    "\n",
    "            # Seleciona o melhor modelo baseado na métrica F1-score\n",
    "            if f1 > best_f1:\n",
    "                best_f1 = f1\n",
    "                best_model = model\n",
    "                best_alpha = alpha\n",
    "\n",
    "        # Armazenar as métricas para o fold atual\n",
    "        scores_validation[\"f1\"].append(f1)\n",
    "        scores_validation[\"accuracy\"].append(accuracy)\n",
    "        scores_validation[\"precision\"].append(precision)\n",
    "        scores_validation[\"recall\"].append(recall)\n",
    "\n",
    "        # Avaliar na base de teste com o melhor modelo\n",
    "        y_test_pred = model.predict(test_data)\n",
    "        f1_test = f1_score(test_target, y_test_pred, average=\"macro\")\n",
    "        accuracy_test = accuracy_score(test_target, y_test_pred)\n",
    "        precision_test = precision_score(test_target, y_test_pred, average=\"macro\")\n",
    "        recall_test = recall_score(test_target, y_test_pred, average=\"macro\")\n",
    "\n",
    "        # Armazenar as métricas na base de teste\n",
    "        scores_test[\"f1\"].append(f1_test)\n",
    "        scores_test[\"accuracy\"].append(accuracy_test)\n",
    "        scores_test[\"precision\"].append(precision_test)\n",
    "        scores_test[\"recall\"].append(recall_test)\n",
    "\n",
    "        counter += 1\n",
    "        final = datetime.now()\n",
    "        print(\n",
    "            f\"====> {final} | FINALIZADO FOLD {counter - 1} | TEMPO TOTAL {final - inicio}\\n\\n\"\n",
    "        )\n",
    "\n",
    "    # Calcular as médias das métricas de validação cruzada\n",
    "    avg_scores_validation = {\n",
    "        metric: np.mean(values) for metric, values in scores_validation.items()\n",
    "    }\n",
    "    test_scores = {metric: np.mean(values) for metric, values in scores_test.items()}\n",
    "\n",
    "    # Criar log dos resultados\n",
    "    log = pd.DataFrame(scores_validation)\n",
    "    log[\"dataset\"] = \"Validação Cruzada\"\n",
    "\n",
    "    test_log = pd.DataFrame(scores_test)\n",
    "    test_log[\"dataset\"] = \"Teste\"\n",
    "\n",
    "    # Concatenar os logs da validação cruzada e do teste\n",
    "    full_log = pd.concat([log, test_log])\n",
    "\n",
    "    return avg_scores_validation, best_alpha, test_scores, full_log\n"
   ]
  },
  {
   "cell_type": "markdown",
   "metadata": {},
   "source": [
    "## MODELOS"
   ]
  },
  {
   "cell_type": "markdown",
   "metadata": {},
   "source": [
    "### NAIVE BAYES"
   ]
  },
  {
   "cell_type": "markdown",
   "metadata": {},
   "source": [
    "#### TODAS AS CARACTERÍSTICAS"
   ]
  },
  {
   "cell_type": "markdown",
   "metadata": {},
   "source": [
    "##### UNDERSAMPLING"
   ]
  },
  {
   "cell_type": "code",
   "execution_count": 33,
   "metadata": {},
   "outputs": [
    {
     "name": "stdout",
     "output_type": "stream",
     "text": [
      "====> INICIANDO PROCESSAMENTO: 2024-11-23 05:39:53.632821 <====\n",
      "====> 2024-11-23 05:39:53.636381 | EXECUTANDO FOLD 1 \n",
      "========> Testando: alpha = 0.0\n",
      "========> Testando: alpha = 0.01\n",
      "========> Testando: alpha = 0.1\n",
      "========> Testando: alpha = 0.5\n",
      "========> Testando: alpha = 1.0\n",
      "====> 2024-11-23 05:39:55.322745 | FINALIZADO FOLD 1 | TEMPO TOTAL 0:00:01.686364\n",
      "\n",
      "\n",
      "====> 2024-11-23 05:39:55.323761 | EXECUTANDO FOLD 2 \n",
      "========> Testando: alpha = 0.0\n",
      "========> Testando: alpha = 0.01\n",
      "========> Testando: alpha = 0.1\n",
      "========> Testando: alpha = 0.5\n",
      "========> Testando: alpha = 1.0\n",
      "====> 2024-11-23 05:39:57.019780 | FINALIZADO FOLD 2 | TEMPO TOTAL 0:00:01.696019\n",
      "\n",
      "\n",
      "====> 2024-11-23 05:39:57.020784 | EXECUTANDO FOLD 3 \n",
      "========> Testando: alpha = 0.0\n",
      "========> Testando: alpha = 0.01\n",
      "========> Testando: alpha = 0.1\n",
      "========> Testando: alpha = 0.5\n",
      "========> Testando: alpha = 1.0\n",
      "====> 2024-11-23 05:39:58.647049 | FINALIZADO FOLD 3 | TEMPO TOTAL 0:00:01.626265\n",
      "\n",
      "\n",
      "====> 2024-11-23 05:39:58.648048 | EXECUTANDO FOLD 4 \n",
      "========> Testando: alpha = 0.0\n",
      "========> Testando: alpha = 0.01\n",
      "========> Testando: alpha = 0.1\n",
      "========> Testando: alpha = 0.5\n",
      "========> Testando: alpha = 1.0\n",
      "====> 2024-11-23 05:40:00.394007 | FINALIZADO FOLD 4 | TEMPO TOTAL 0:00:01.745959\n",
      "\n",
      "\n",
      "====> 2024-11-23 05:40:00.394532 | EXECUTANDO FOLD 5 \n",
      "========> Testando: alpha = 0.0\n",
      "========> Testando: alpha = 0.01\n",
      "========> Testando: alpha = 0.1\n",
      "========> Testando: alpha = 0.5\n",
      "========> Testando: alpha = 1.0\n",
      "====> 2024-11-23 05:40:01.795682 | FINALIZADO FOLD 5 | TEMPO TOTAL 0:00:01.401150\n",
      "\n",
      "\n",
      "Resultados na validação cruzada: {'f1': 0.7626343459024936, 'accuracy': 0.7629254152017966, 'precision': 0.7642264309677982, 'recall': 0.762925238712314}\n",
      "Resultados na base de teste: {'f1': 0.4381317532241199, 'accuracy': 0.7797766749379652, 'precision': 0.3898883374689826, 'recall': 0.5}\n",
      "Melhores parâmetros escolhidos: 0.0\n"
     ]
    }
   ],
   "source": [
    "# Parâmetros do modelo\n",
    "alphas = [0.0, 0.01, 0.1, 0.5, 1.0]\n",
    "\n",
    "# Executar para diferentes modelos e conjuntos de dados\n",
    "results_validation, best_params, results_test, results_list_bayes_under = run_cross_mix(\n",
    "    df_train_under.drop(columns=[\"RainTomorrow\"]),\n",
    "    df_train_under[\"RainTomorrow\"],\n",
    "    df_test_under.drop(columns=[\"RainTomorrow\"]),\n",
    "    df_test_under[\"RainTomorrow\"],\n",
    "    alphas,\n",
    "    k_folds=5,\n",
    "    categorical_features=[\n",
    "        df_train_under.drop(columns=\"RainTomorrow\").columns.get_loc(col)\n",
    "        for col in columns_names[\"categorical_columns\"] + columns_names[\"time_encoded\"]\n",
    "    ],\n",
    ")\n",
    "\n",
    "print(\"Resultados na validação cruzada:\", results_validation)\n",
    "print(\"Resultados na base de teste:\", results_test)\n",
    "print(\"Melhores parâmetros escolhidos:\", best_params)"
   ]
  },
  {
   "cell_type": "code",
   "execution_count": 34,
   "metadata": {},
   "outputs": [],
   "source": [
    "results_list_bayes_under.to_csv(\n",
    "    \"../../DATA/RESULTS/results_list_bayes_under.csv\", sep=\"|\", index=False\n",
    ")"
   ]
  },
  {
   "cell_type": "markdown",
   "metadata": {},
   "source": [
    "##### SEM BALANCEAMENTO"
   ]
  },
  {
   "cell_type": "code",
   "execution_count": 35,
   "metadata": {},
   "outputs": [
    {
     "name": "stdout",
     "output_type": "stream",
     "text": [
      "====> INICIANDO PROCESSAMENTO: 2024-11-23 05:40:02.205616 <====\n",
      "====> 2024-11-23 05:40:02.215681 | EXECUTANDO FOLD 1 \n",
      "========> Testando: alpha = 0.0\n",
      "========> Testando: alpha = 0.01\n",
      "========> Testando: alpha = 0.1\n",
      "========> Testando: alpha = 0.5\n",
      "========> Testando: alpha = 1.0\n",
      "====> 2024-11-23 05:40:05.595749 | FINALIZADO FOLD 1 | TEMPO TOTAL 0:00:03.380068\n",
      "\n",
      "\n",
      "====> 2024-11-23 05:40:05.595749 | EXECUTANDO FOLD 2 \n",
      "========> Testando: alpha = 0.0\n",
      "========> Testando: alpha = 0.01\n",
      "========> Testando: alpha = 0.1\n",
      "========> Testando: alpha = 0.5\n",
      "========> Testando: alpha = 1.0\n",
      "====> 2024-11-23 05:40:08.831902 | FINALIZADO FOLD 2 | TEMPO TOTAL 0:00:03.236153\n",
      "\n",
      "\n",
      "====> 2024-11-23 05:40:08.833412 | EXECUTANDO FOLD 3 \n",
      "========> Testando: alpha = 0.0\n",
      "========> Testando: alpha = 0.01\n",
      "========> Testando: alpha = 0.1\n",
      "========> Testando: alpha = 0.5\n",
      "========> Testando: alpha = 1.0\n",
      "====> 2024-11-23 05:40:12.290304 | FINALIZADO FOLD 3 | TEMPO TOTAL 0:00:03.456892\n",
      "\n",
      "\n",
      "====> 2024-11-23 05:40:12.290304 | EXECUTANDO FOLD 4 \n",
      "========> Testando: alpha = 0.0\n",
      "========> Testando: alpha = 0.01\n",
      "========> Testando: alpha = 0.1\n",
      "========> Testando: alpha = 0.5\n",
      "========> Testando: alpha = 1.0\n",
      "====> 2024-11-23 05:40:15.833448 | FINALIZADO FOLD 4 | TEMPO TOTAL 0:00:03.543144\n",
      "\n",
      "\n",
      "====> 2024-11-23 05:40:15.834620 | EXECUTANDO FOLD 5 \n",
      "========> Testando: alpha = 0.0\n",
      "========> Testando: alpha = 0.01\n",
      "========> Testando: alpha = 0.1\n",
      "========> Testando: alpha = 0.5\n",
      "========> Testando: alpha = 1.0\n",
      "====> 2024-11-23 05:40:19.300578 | FINALIZADO FOLD 5 | TEMPO TOTAL 0:00:03.465958\n",
      "\n",
      "\n",
      "Resultados na validação cruzada: {'f1': 0.7316497551807923, 'accuracy': 0.8014222458406302, 'precision': 0.7191078286403904, 'recall': 0.7513100041244096}\n",
      "Resultados na base de teste: {'f1': 0.7379562346605752, 'accuracy': 0.8068060971286778, 'precision': 0.7254067327470086, 'recall': 0.7570066380782707}\n",
      "Melhores parâmetros escolhidos: 0.5\n"
     ]
    }
   ],
   "source": [
    "# Parâmetros do modelo\n",
    "alphas = [0.0, 0.01, 0.1, 0.5, 1.0]\n",
    "\n",
    "# Executar para diferentes modelos e conjuntos de dados\n",
    "results_validation, best_params, results_test, results_list_bayes_full = run_cross_mix(\n",
    "    df_train_full.drop(columns=[\"RainTomorrow\"]),\n",
    "    df_train_full[\"RainTomorrow\"],\n",
    "    df_test_full.drop(columns=[\"RainTomorrow\"]),\n",
    "    df_test_full[\"RainTomorrow\"],\n",
    "    alphas,\n",
    "    k_folds=5,\n",
    "    categorical_features=[\n",
    "        df_train_full.drop(columns=\"RainTomorrow\").columns.get_loc(col)\n",
    "        for col in columns_names[\"categorical_columns\"] + columns_names[\"time_encoded\"]\n",
    "    ],\n",
    ")\n",
    "\n",
    "print(\"Resultados na validação cruzada:\", results_validation)\n",
    "print(\"Resultados na base de teste:\", results_test)\n",
    "print(\"Melhores parâmetros escolhidos:\", best_params)"
   ]
  },
  {
   "cell_type": "code",
   "execution_count": 36,
   "metadata": {},
   "outputs": [],
   "source": [
    "results_list_bayes_full.to_csv(\n",
    "    \"../../DATA/RESULTS/results_list_bayes_full.csv\", sep=\"|\", index=False\n",
    ")"
   ]
  },
  {
   "cell_type": "markdown",
   "metadata": {},
   "source": [
    "##### OVERSAMPLING"
   ]
  },
  {
   "cell_type": "code",
   "execution_count": 37,
   "metadata": {},
   "outputs": [
    {
     "name": "stdout",
     "output_type": "stream",
     "text": [
      "====> INICIANDO PROCESSAMENTO: 2024-11-23 05:40:19.845717 <====\n",
      "====> 2024-11-23 05:40:19.850268 | EXECUTANDO FOLD 1 \n",
      "========> Testando: alpha = 0.0\n",
      "========> Testando: alpha = 0.01\n",
      "========> Testando: alpha = 0.1\n",
      "========> Testando: alpha = 0.5\n",
      "========> Testando: alpha = 1.0\n",
      "====> 2024-11-23 05:40:24.818661 | FINALIZADO FOLD 1 | TEMPO TOTAL 0:00:04.968393\n",
      "\n",
      "\n",
      "====> 2024-11-23 05:40:24.819680 | EXECUTANDO FOLD 2 \n",
      "========> Testando: alpha = 0.0\n",
      "========> Testando: alpha = 0.01\n",
      "========> Testando: alpha = 0.1\n",
      "========> Testando: alpha = 0.5\n",
      "========> Testando: alpha = 1.0\n",
      "====> 2024-11-23 05:40:29.840277 | FINALIZADO FOLD 2 | TEMPO TOTAL 0:00:05.020597\n",
      "\n",
      "\n",
      "====> 2024-11-23 05:40:29.840277 | EXECUTANDO FOLD 3 \n",
      "========> Testando: alpha = 0.0\n",
      "========> Testando: alpha = 0.01\n",
      "========> Testando: alpha = 0.1\n",
      "========> Testando: alpha = 0.5\n",
      "========> Testando: alpha = 1.0\n",
      "====> 2024-11-23 05:40:34.385633 | FINALIZADO FOLD 3 | TEMPO TOTAL 0:00:04.545356\n",
      "\n",
      "\n",
      "====> 2024-11-23 05:40:34.390700 | EXECUTANDO FOLD 4 \n",
      "========> Testando: alpha = 0.0\n",
      "========> Testando: alpha = 0.01\n",
      "========> Testando: alpha = 0.1\n",
      "========> Testando: alpha = 0.5\n",
      "========> Testando: alpha = 1.0\n",
      "====> 2024-11-23 05:40:39.040680 | FINALIZADO FOLD 4 | TEMPO TOTAL 0:00:04.649980\n",
      "\n",
      "\n",
      "====> 2024-11-23 05:40:39.040680 | EXECUTANDO FOLD 5 \n",
      "========> Testando: alpha = 0.0\n",
      "========> Testando: alpha = 0.01\n",
      "========> Testando: alpha = 0.1\n",
      "========> Testando: alpha = 0.5\n",
      "========> Testando: alpha = 1.0\n",
      "====> 2024-11-23 05:40:43.635327 | FINALIZADO FOLD 5 | TEMPO TOTAL 0:00:04.594647\n",
      "\n",
      "\n",
      "Resultados na validação cruzada: {'f1': 0.792563113894891, 'accuracy': 0.7935022446662893, 'precision': 0.7972085273933975, 'recall': 0.7935022089611482}\n",
      "Resultados na base de teste: {'f1': 0.4381317532241199, 'accuracy': 0.7797766749379652, 'precision': 0.3898883374689826, 'recall': 0.5}\n",
      "Melhores parâmetros escolhidos: 0.0\n"
     ]
    }
   ],
   "source": [
    "# Parâmetros do modelo\n",
    "alphas = [0.0, 0.01, 0.1, 0.5, 1.0]\n",
    "\n",
    "# Executar para diferentes modelos e conjuntos de dados\n",
    "results_validation, best_params, results_test, results_list_bayes_smote = run_cross_mix(\n",
    "    df_train_smote.drop(columns=[\"RainTomorrow\"]),\n",
    "    df_train_smote[\"RainTomorrow\"],\n",
    "    df_test_smote.drop(columns=[\"RainTomorrow\"]),\n",
    "    df_test_smote[\"RainTomorrow\"],\n",
    "    alphas,\n",
    "    k_folds=5,\n",
    "    categorical_features=[\n",
    "        df_train_smote.drop(columns=\"RainTomorrow\").columns.get_loc(col)\n",
    "        for col in columns_names[\"categorical_columns\"] + columns_names[\"time_encoded\"]\n",
    "    ],\n",
    ")\n",
    "\n",
    "print(\"Resultados na validação cruzada:\", results_validation)\n",
    "print(\"Resultados na base de teste:\", results_test)\n",
    "print(\"Melhores parâmetros escolhidos:\", best_params)"
   ]
  },
  {
   "cell_type": "code",
   "execution_count": 38,
   "metadata": {},
   "outputs": [],
   "source": [
    "results_list_bayes_smote.to_csv(\n",
    "    \"../../DATA/RESULTS/results_list_bayes_smote.csv\", sep=\"|\", index=False\n",
    ")"
   ]
  },
  {
   "cell_type": "markdown",
   "metadata": {},
   "source": [
    "##### LIBERA MEMÓRIA"
   ]
  },
  {
   "cell_type": "code",
   "execution_count": 39,
   "metadata": {},
   "outputs": [
    {
     "data": {
      "text/plain": [
       "0"
      ]
     },
     "execution_count": 39,
     "metadata": {},
     "output_type": "execute_result"
    }
   ],
   "source": [
    "del results_list_bayes_smote, results_list_bayes_under, results_list_bayes_full\n",
    "gc.collect()"
   ]
  },
  {
   "cell_type": "markdown",
   "metadata": {},
   "source": [
    "#### PCA"
   ]
  },
  {
   "cell_type": "markdown",
   "metadata": {},
   "source": [
    "##### UNDERSAMPLING"
   ]
  },
  {
   "cell_type": "code",
   "execution_count": 40,
   "metadata": {},
   "outputs": [
    {
     "name": "stdout",
     "output_type": "stream",
     "text": [
      "====> INICIANDO PROCESSAMENTO: 2024-11-23 05:40:43.772562 <====\n",
      "====> 2024-11-23 05:40:43.777125 | EXECUTANDO FOLD 1 \n",
      "Fitting 3 folds for each of 5 candidates, totalling 15 fits\n",
      "===> 2024-11-23 05:40:47.720454 | FINALIZADO FOLD 1 | TEMPO TOTAL 0:00:03.943329\n",
      "\n",
      "\n",
      "====> 2024-11-23 05:40:47.720454 | EXECUTANDO FOLD 2 \n",
      "Fitting 3 folds for each of 5 candidates, totalling 15 fits\n",
      "===> 2024-11-23 05:40:47.845336 | FINALIZADO FOLD 2 | TEMPO TOTAL 0:00:00.124882\n",
      "\n",
      "\n",
      "====> 2024-11-23 05:40:47.845336 | EXECUTANDO FOLD 3 \n",
      "Fitting 3 folds for each of 5 candidates, totalling 15 fits\n",
      "===> 2024-11-23 05:40:47.994777 | FINALIZADO FOLD 3 | TEMPO TOTAL 0:00:00.149441\n",
      "\n",
      "\n",
      "====> 2024-11-23 05:40:47.995291 | EXECUTANDO FOLD 4 \n",
      "Fitting 3 folds for each of 5 candidates, totalling 15 fits\n",
      "===> 2024-11-23 05:40:48.162993 | FINALIZADO FOLD 4 | TEMPO TOTAL 0:00:00.167702\n",
      "\n",
      "\n",
      "====> 2024-11-23 05:40:48.162993 | EXECUTANDO FOLD 5 \n",
      "Fitting 3 folds for each of 5 candidates, totalling 15 fits\n",
      "===> 2024-11-23 05:40:48.335645 | FINALIZADO FOLD 5 | TEMPO TOTAL 0:00:00.172652\n",
      "\n",
      "\n",
      "Resultados na validação cruzada: {'f1': 0.7563992244973253, 'accuracy': 0.7575440827008821, 'precision': 0.7624616892484497, 'recall': 0.7575438300997539}\n",
      "Resultados na base de teste: {'f1': 0.18047788510421964, 'accuracy': 0.22022332506203474, 'precision': 0.11011166253101737, 'recall': 0.5}\n",
      "Melhores parâmetros escolhidos: {'var_smoothing': 0.0}\n"
     ]
    }
   ],
   "source": [
    "# Parâmetros do modelo\n",
    "param_grid_categorical = {\"var_smoothing\": [0.0, 0.01, 0.1, 0.5, 1.0]}\n",
    "\n",
    "# Executar a função e obter os melhores parâmetros\n",
    "results_validation, results_test, best_params, results_list_bayes_pca_under = (\n",
    "    run_cross_validation(\n",
    "        df_train_under_pca.drop(columns=[\"RainTomorrow\"]),\n",
    "        df_train_under_pca[\"RainTomorrow\"],\n",
    "        df_test_under_pca.drop(columns=[\"RainTomorrow\"]),\n",
    "        df_test_under_pca[\"RainTomorrow\"],\n",
    "        GaussianNB(),\n",
    "        param_grid_categorical,\n",
    "        k_folds=5,\n",
    "    )\n",
    ")\n",
    "\n",
    "print(\"Resultados na validação cruzada:\", results_validation)\n",
    "print(\"Resultados na base de teste:\", results_test)\n",
    "print(\"Melhores parâmetros escolhidos:\", best_params)"
   ]
  },
  {
   "cell_type": "code",
   "execution_count": 41,
   "metadata": {},
   "outputs": [],
   "source": [
    "results_list_bayes_pca_under.to_csv(\n",
    "    \"../../DATA/RESULTS/results_list_bayes_pca_under.csv\", sep=\"|\", index=False\n",
    ")"
   ]
  },
  {
   "cell_type": "markdown",
   "metadata": {},
   "source": [
    "##### SEM BALANCEAMENTO"
   ]
  },
  {
   "cell_type": "code",
   "execution_count": 42,
   "metadata": {},
   "outputs": [
    {
     "name": "stdout",
     "output_type": "stream",
     "text": [
      "====> INICIANDO PROCESSAMENTO: 2024-11-23 05:40:48.368940 <====\n",
      "====> 2024-11-23 05:40:48.377485 | EXECUTANDO FOLD 1 \n",
      "Fitting 3 folds for each of 5 candidates, totalling 15 fits\n",
      "===> 2024-11-23 05:40:48.745293 | FINALIZADO FOLD 1 | TEMPO TOTAL 0:00:00.367808\n",
      "\n",
      "\n",
      "====> 2024-11-23 05:40:48.745293 | EXECUTANDO FOLD 2 \n",
      "Fitting 3 folds for each of 5 candidates, totalling 15 fits\n",
      "===> 2024-11-23 05:40:49.115251 | FINALIZADO FOLD 2 | TEMPO TOTAL 0:00:00.369958\n",
      "\n",
      "\n",
      "====> 2024-11-23 05:40:49.115251 | EXECUTANDO FOLD 3 \n",
      "Fitting 3 folds for each of 5 candidates, totalling 15 fits\n",
      "===> 2024-11-23 05:40:49.486835 | FINALIZADO FOLD 3 | TEMPO TOTAL 0:00:00.371584\n",
      "\n",
      "\n",
      "====> 2024-11-23 05:40:49.487792 | EXECUTANDO FOLD 4 \n",
      "Fitting 3 folds for each of 5 candidates, totalling 15 fits\n",
      "===> 2024-11-23 05:40:49.800353 | FINALIZADO FOLD 4 | TEMPO TOTAL 0:00:00.312561\n",
      "\n",
      "\n",
      "====> 2024-11-23 05:40:49.805441 | EXECUTANDO FOLD 5 \n",
      "Fitting 3 folds for each of 5 candidates, totalling 15 fits\n",
      "===> 2024-11-23 05:40:50.129464 | FINALIZADO FOLD 5 | TEMPO TOTAL 0:00:00.324023\n",
      "\n",
      "\n",
      "Resultados na validação cruzada: {'f1': 0.7015110985910151, 'accuracy': 0.8220489248544427, 'precision': 0.7491230420211064, 'recall': 0.6791251128399083}\n",
      "Resultados na base de teste: {'f1': 0.7069839358117835, 'accuracy': 0.8247961715703651, 'precision': 0.7541686820242963, 'recall': 0.6842225989188913}\n",
      "Melhores parâmetros escolhidos: {'var_smoothing': 0.0}\n"
     ]
    }
   ],
   "source": [
    "# Parâmetros do modelo\n",
    "param_grid_categorical = {\"var_smoothing\": [0.0, 0.01, 0.1, 0.5, 1.0]}\n",
    "\n",
    "# Executar a função e obter os melhores parâmetros\n",
    "results_validation, results_test, best_params, results_list_bayes_pca_full = (\n",
    "    run_cross_validation(\n",
    "        df_train_full_pca.drop(columns=[\"RainTomorrow\"]),\n",
    "        df_train_full_pca[\"RainTomorrow\"],\n",
    "        df_test_full_pca.drop(columns=[\"RainTomorrow\"]),\n",
    "        df_test_full_pca[\"RainTomorrow\"],\n",
    "        GaussianNB(),\n",
    "        param_grid_categorical,\n",
    "        k_folds=5,\n",
    "    )\n",
    ")\n",
    "\n",
    "print(\"Resultados na validação cruzada:\", results_validation)\n",
    "print(\"Resultados na base de teste:\", results_test)\n",
    "print(\"Melhores parâmetros escolhidos:\", best_params)"
   ]
  },
  {
   "cell_type": "code",
   "execution_count": 43,
   "metadata": {},
   "outputs": [],
   "source": [
    "results_list_bayes_pca_full.to_csv(\n",
    "    \"../../DATA/RESULTS/results_list_bayes_pca_full.csv\", sep=\"|\", index=False\n",
    ")"
   ]
  },
  {
   "cell_type": "markdown",
   "metadata": {},
   "source": [
    "##### OVERSAMPLING"
   ]
  },
  {
   "cell_type": "code",
   "execution_count": 44,
   "metadata": {},
   "outputs": [
    {
     "name": "stdout",
     "output_type": "stream",
     "text": [
      "====> INICIANDO PROCESSAMENTO: 2024-11-23 05:40:50.170818 <====\n",
      "====> 2024-11-23 05:40:50.186265 | EXECUTANDO FOLD 1 \n",
      "Fitting 3 folds for each of 5 candidates, totalling 15 fits\n",
      "===> 2024-11-23 05:40:50.715358 | FINALIZADO FOLD 1 | TEMPO TOTAL 0:00:00.529093\n",
      "\n",
      "\n",
      "====> 2024-11-23 05:40:50.715358 | EXECUTANDO FOLD 2 \n",
      "Fitting 3 folds for each of 5 candidates, totalling 15 fits\n",
      "===> 2024-11-23 05:40:51.151193 | FINALIZADO FOLD 2 | TEMPO TOTAL 0:00:00.435835\n",
      "\n",
      "\n",
      "====> 2024-11-23 05:40:51.151193 | EXECUTANDO FOLD 3 \n",
      "Fitting 3 folds for each of 5 candidates, totalling 15 fits\n",
      "===> 2024-11-23 05:40:51.505577 | FINALIZADO FOLD 3 | TEMPO TOTAL 0:00:00.354384\n",
      "\n",
      "\n",
      "====> 2024-11-23 05:40:51.505577 | EXECUTANDO FOLD 4 \n",
      "Fitting 3 folds for each of 5 candidates, totalling 15 fits\n",
      "===> 2024-11-23 05:40:51.888015 | FINALIZADO FOLD 4 | TEMPO TOTAL 0:00:00.382438\n",
      "\n",
      "\n",
      "====> 2024-11-23 05:40:51.889017 | EXECUTANDO FOLD 5 \n",
      "Fitting 3 folds for each of 5 candidates, totalling 15 fits\n",
      "===> 2024-11-23 05:40:52.315381 | FINALIZADO FOLD 5 | TEMPO TOTAL 0:00:00.426364\n",
      "\n",
      "\n",
      "Resultados na validação cruzada: {'f1': 0.7547712468916241, 'accuracy': 0.7559668449469104, 'precision': 0.7611017126183969, 'recall': 0.7559667828827342}\n",
      "Resultados na base de teste: {'f1': 0.18047788510421964, 'accuracy': 0.22022332506203474, 'precision': 0.11011166253101737, 'recall': 0.5}\n",
      "Melhores parâmetros escolhidos: {'var_smoothing': 1.0}\n"
     ]
    }
   ],
   "source": [
    "# Parâmetros do modelo\n",
    "param_grid_categorical = {\"var_smoothing\": [0.0, 0.01, 0.1, 0.5, 1.0]}\n",
    "\n",
    "# Executar a função e obter os melhores parâmetros\n",
    "results_validation, results_test, best_params, results_list_bayes_pca_smote = (\n",
    "    run_cross_validation(\n",
    "        df_train_smote_pca.drop(columns=[\"RainTomorrow\"]),\n",
    "        df_train_smote_pca[\"RainTomorrow\"],\n",
    "        df_test_smote_pca.drop(columns=[\"RainTomorrow\"]),\n",
    "        df_test_smote_pca[\"RainTomorrow\"],\n",
    "        GaussianNB(),\n",
    "        param_grid_categorical,\n",
    "        k_folds=5,\n",
    "    )\n",
    ")\n",
    "\n",
    "print(\"Resultados na validação cruzada:\", results_validation)\n",
    "print(\"Resultados na base de teste:\", results_test)\n",
    "print(\"Melhores parâmetros escolhidos:\", best_params)"
   ]
  },
  {
   "cell_type": "code",
   "execution_count": 45,
   "metadata": {},
   "outputs": [],
   "source": [
    "results_list_bayes_pca_smote.to_csv(\n",
    "    \"../../DATA/RESULTS/results_list_bayes_pca_smote.csv\", sep=\"|\", index=False\n",
    ")"
   ]
  },
  {
   "cell_type": "markdown",
   "metadata": {},
   "source": [
    "##### LIBERA MEMÓRIA"
   ]
  },
  {
   "cell_type": "code",
   "execution_count": 46,
   "metadata": {},
   "outputs": [
    {
     "data": {
      "text/plain": [
       "182"
      ]
     },
     "execution_count": 46,
     "metadata": {},
     "output_type": "execute_result"
    }
   ],
   "source": [
    "del (\n",
    "    results_list_bayes_pca_under,\n",
    "    results_list_bayes_pca_smote,\n",
    "    results_list_bayes_pca_full,\n",
    ")\n",
    "gc.collect()"
   ]
  },
  {
   "cell_type": "markdown",
   "metadata": {},
   "source": [
    "#### CORRELAÇÃO"
   ]
  },
  {
   "cell_type": "code",
   "execution_count": 32,
   "metadata": {},
   "outputs": [],
   "source": [
    "filtro_correlacao = [\"Sunshine\", \"Humidity3pm\", \"Cloud9am\", \"Cloud3pm\", \"RangeTemp\"]"
   ]
  },
  {
   "cell_type": "markdown",
   "metadata": {},
   "source": [
    "##### UNDERSAMPLING"
   ]
  },
  {
   "cell_type": "code",
   "execution_count": 48,
   "metadata": {},
   "outputs": [
    {
     "name": "stdout",
     "output_type": "stream",
     "text": [
      "====> INICIANDO PROCESSAMENTO: 2024-11-23 05:40:52.469609 <====\n",
      "====> 2024-11-23 05:40:52.473122 | EXECUTANDO FOLD 1 \n",
      "Fitting 3 folds for each of 5 candidates, totalling 15 fits\n",
      "===> 2024-11-23 05:40:52.643903 | FINALIZADO FOLD 1 | TEMPO TOTAL 0:00:00.170781\n",
      "\n",
      "\n",
      "====> 2024-11-23 05:40:52.643903 | EXECUTANDO FOLD 2 \n",
      "Fitting 3 folds for each of 5 candidates, totalling 15 fits\n",
      "===> 2024-11-23 05:40:52.792831 | FINALIZADO FOLD 2 | TEMPO TOTAL 0:00:00.148928\n",
      "\n",
      "\n",
      "====> 2024-11-23 05:40:52.792831 | EXECUTANDO FOLD 3 \n",
      "Fitting 3 folds for each of 5 candidates, totalling 15 fits\n",
      "===> 2024-11-23 05:40:52.955398 | FINALIZADO FOLD 3 | TEMPO TOTAL 0:00:00.162567\n",
      "\n",
      "\n",
      "====> 2024-11-23 05:40:52.955398 | EXECUTANDO FOLD 4 \n",
      "Fitting 3 folds for each of 5 candidates, totalling 15 fits\n",
      "===> 2024-11-23 05:40:53.100066 | FINALIZADO FOLD 4 | TEMPO TOTAL 0:00:00.144668\n",
      "\n",
      "\n",
      "====> 2024-11-23 05:40:53.101069 | EXECUTANDO FOLD 5 \n",
      "Fitting 3 folds for each of 5 candidates, totalling 15 fits\n",
      "===> 2024-11-23 05:40:53.227429 | FINALIZADO FOLD 5 | TEMPO TOTAL 0:00:00.126360\n",
      "\n",
      "\n",
      "Resultados na validação cruzada: {'f1': 0.7467108898840535, 'accuracy': 0.7475362231219856, 'precision': 0.7508008821697777, 'recall': 0.7475362987376244}\n",
      "Resultados na base de teste: {'f1': 0.4381317532241199, 'accuracy': 0.7797766749379652, 'precision': 0.3898883374689826, 'recall': 0.5}\n",
      "Melhores parâmetros escolhidos: {'var_smoothing': 1.0}\n"
     ]
    }
   ],
   "source": [
    "# Parâmetros do modelo\n",
    "param_grid_categorical = {\"var_smoothing\": [0.0, 0.01, 0.1, 0.5, 1.0]}\n",
    "\n",
    "# Executar a função e obter os melhores parâmetros\n",
    "results_validation, results_test, best_params, results_list_bayes_corr_under = (\n",
    "    run_cross_validation(\n",
    "        df_train_under[filtro_correlacao],\n",
    "        df_train_under[\"RainTomorrow\"],\n",
    "        df_test_under[filtro_correlacao],\n",
    "        df_test_under[\"RainTomorrow\"],\n",
    "        GaussianNB(),\n",
    "        param_grid_categorical,\n",
    "        k_folds=5,\n",
    "    )\n",
    ")\n",
    "\n",
    "print(\"Resultados na validação cruzada:\", results_validation)\n",
    "print(\"Resultados na base de teste:\", results_test)\n",
    "print(\"Melhores parâmetros escolhidos:\", best_params)"
   ]
  },
  {
   "cell_type": "code",
   "execution_count": 49,
   "metadata": {},
   "outputs": [],
   "source": [
    "results_list_bayes_corr_under.to_csv(\n",
    "    \"../../DATA/RESULTS/results_list_bayes_corr_under.csv\", sep=\"|\", index=False\n",
    ")"
   ]
  },
  {
   "cell_type": "markdown",
   "metadata": {},
   "source": [
    "##### SEM BALANCEAMENTO"
   ]
  },
  {
   "cell_type": "code",
   "execution_count": 50,
   "metadata": {},
   "outputs": [
    {
     "name": "stdout",
     "output_type": "stream",
     "text": [
      "====> INICIANDO PROCESSAMENTO: 2024-11-23 05:40:53.245308 <====\n",
      "====> 2024-11-23 05:40:53.261147 | EXECUTANDO FOLD 1 \n",
      "Fitting 3 folds for each of 5 candidates, totalling 15 fits\n",
      "===> 2024-11-23 05:40:53.592198 | FINALIZADO FOLD 1 | TEMPO TOTAL 0:00:00.331051\n",
      "\n",
      "\n",
      "====> 2024-11-23 05:40:53.593197 | EXECUTANDO FOLD 2 \n",
      "Fitting 3 folds for each of 5 candidates, totalling 15 fits\n",
      "===> 2024-11-23 05:40:53.888458 | FINALIZADO FOLD 2 | TEMPO TOTAL 0:00:00.295261\n",
      "\n",
      "\n",
      "====> 2024-11-23 05:40:53.895528 | EXECUTANDO FOLD 3 \n",
      "Fitting 3 folds for each of 5 candidates, totalling 15 fits\n",
      "===> 2024-11-23 05:40:54.160400 | FINALIZADO FOLD 3 | TEMPO TOTAL 0:00:00.264872\n",
      "\n",
      "\n",
      "====> 2024-11-23 05:40:54.160400 | EXECUTANDO FOLD 4 \n",
      "Fitting 3 folds for each of 5 candidates, totalling 15 fits\n",
      "===> 2024-11-23 05:40:54.420410 | FINALIZADO FOLD 4 | TEMPO TOTAL 0:00:00.260010\n",
      "\n",
      "\n",
      "====> 2024-11-23 05:40:54.423916 | EXECUTANDO FOLD 5 \n",
      "Fitting 3 folds for each of 5 candidates, totalling 15 fits\n",
      "===> 2024-11-23 05:40:54.697298 | FINALIZADO FOLD 5 | TEMPO TOTAL 0:00:00.273382\n",
      "\n",
      "\n",
      "Resultados na validação cruzada: {'f1': 0.7085001018824305, 'accuracy': 0.7725318432532855, 'precision': 0.6946462716565561, 'recall': 0.7428151085167052}\n",
      "Resultados na base de teste: {'f1': 0.7142934782607357, 'accuracy': 0.778110599078341, 'precision': 0.6999486829860662, 'recall': 0.7477895535504194}\n",
      "Melhores parâmetros escolhidos: {'var_smoothing': 0.1}\n"
     ]
    }
   ],
   "source": [
    "# Parâmetros do modelo\n",
    "param_grid_categorical = {\"var_smoothing\": [0.0, 0.01, 0.1, 0.5, 1.0]}\n",
    "\n",
    "# Executar a função e obter os melhores parâmetros\n",
    "results_validation, results_test, best_params, results_list_bayes_corr_full = (\n",
    "    run_cross_validation(\n",
    "        df_train_full[filtro_correlacao],\n",
    "        df_train_full[\"RainTomorrow\"],\n",
    "        df_test_full[filtro_correlacao],\n",
    "        df_test_full[\"RainTomorrow\"],\n",
    "        GaussianNB(),\n",
    "        param_grid_categorical,\n",
    "        k_folds=5,\n",
    "    )\n",
    ")\n",
    "\n",
    "print(\"Resultados na validação cruzada:\", results_validation)\n",
    "print(\"Resultados na base de teste:\", results_test)\n",
    "print(\"Melhores parâmetros escolhidos:\", best_params)"
   ]
  },
  {
   "cell_type": "code",
   "execution_count": 51,
   "metadata": {},
   "outputs": [],
   "source": [
    "results_list_bayes_corr_full.to_csv(\n",
    "    \"../../DATA/RESULTS/results_list_bayes_corr_full.csv\", sep=\"|\", index=False\n",
    ")"
   ]
  },
  {
   "cell_type": "markdown",
   "metadata": {},
   "source": [
    "##### OVERSAMPLING"
   ]
  },
  {
   "cell_type": "code",
   "execution_count": 52,
   "metadata": {},
   "outputs": [
    {
     "name": "stdout",
     "output_type": "stream",
     "text": [
      "====> INICIANDO PROCESSAMENTO: 2024-11-23 05:40:54.725123 <====\n",
      "====> 2024-11-23 05:40:54.749559 | EXECUTANDO FOLD 1 \n",
      "Fitting 3 folds for each of 5 candidates, totalling 15 fits\n",
      "===> 2024-11-23 05:40:55.200714 | FINALIZADO FOLD 1 | TEMPO TOTAL 0:00:00.451155\n",
      "\n",
      "\n",
      "====> 2024-11-23 05:40:55.201776 | EXECUTANDO FOLD 2 \n",
      "Fitting 3 folds for each of 5 candidates, totalling 15 fits\n",
      "===> 2024-11-23 05:40:55.675221 | FINALIZADO FOLD 2 | TEMPO TOTAL 0:00:00.473445\n",
      "\n",
      "\n",
      "====> 2024-11-23 05:40:55.675221 | EXECUTANDO FOLD 3 \n",
      "Fitting 3 folds for each of 5 candidates, totalling 15 fits\n",
      "===> 2024-11-23 05:40:56.106203 | FINALIZADO FOLD 3 | TEMPO TOTAL 0:00:00.430982\n",
      "\n",
      "\n",
      "====> 2024-11-23 05:40:56.106203 | EXECUTANDO FOLD 4 \n",
      "Fitting 3 folds for each of 5 candidates, totalling 15 fits\n",
      "===> 2024-11-23 05:40:56.506484 | FINALIZADO FOLD 4 | TEMPO TOTAL 0:00:00.400281\n",
      "\n",
      "\n",
      "====> 2024-11-23 05:40:56.506723 | EXECUTANDO FOLD 5 \n",
      "Fitting 3 folds for each of 5 candidates, totalling 15 fits\n",
      "===> 2024-11-23 05:40:56.904587 | FINALIZADO FOLD 5 | TEMPO TOTAL 0:00:00.397864\n",
      "\n",
      "\n",
      "Resultados na validação cruzada: {'f1': 0.7515877420108725, 'accuracy': 0.7526709060833531, 'precision': 0.7571518416841583, 'recall': 0.7526709227415268}\n",
      "Resultados na base de teste: {'f1': 0.4381317532241199, 'accuracy': 0.7797766749379652, 'precision': 0.3898883374689826, 'recall': 0.5}\n",
      "Melhores parâmetros escolhidos: {'var_smoothing': 1.0}\n"
     ]
    }
   ],
   "source": [
    "# Parâmetros do modelo\n",
    "param_grid_categorical = {\"var_smoothing\": [0.0, 0.01, 0.1, 0.5, 1.0]}\n",
    "\n",
    "# Executar a função e obter os melhores parâmetros\n",
    "results_validation, results_test, best_params, results_list_bayes_corr_smote = (\n",
    "    run_cross_validation(\n",
    "        df_train_smote[filtro_correlacao],\n",
    "        df_train_smote[\"RainTomorrow\"],\n",
    "        df_test_smote[filtro_correlacao],\n",
    "        df_test_smote[\"RainTomorrow\"],\n",
    "        GaussianNB(),\n",
    "        param_grid_categorical,\n",
    "        k_folds=5,\n",
    "    )\n",
    ")\n",
    "\n",
    "print(\"Resultados na validação cruzada:\", results_validation)\n",
    "print(\"Resultados na base de teste:\", results_test)\n",
    "print(\"Melhores parâmetros escolhidos:\", best_params)"
   ]
  },
  {
   "cell_type": "code",
   "execution_count": 53,
   "metadata": {},
   "outputs": [],
   "source": [
    "results_list_bayes_corr_smote.to_csv(\n",
    "    \"../../DATA/RESULTS/results_list_bayes_corr_smote.csv\", sep=\"|\", index=False\n",
    ")"
   ]
  },
  {
   "cell_type": "markdown",
   "metadata": {},
   "source": [
    "##### LIBERA MEMÓRIA"
   ]
  },
  {
   "cell_type": "code",
   "execution_count": 54,
   "metadata": {},
   "outputs": [
    {
     "data": {
      "text/plain": [
       "182"
      ]
     },
     "execution_count": 54,
     "metadata": {},
     "output_type": "execute_result"
    }
   ],
   "source": [
    "del (\n",
    "    results_list_bayes_corr_smote,\n",
    "    results_list_bayes_corr_full,\n",
    "    results_list_bayes_corr_under,\n",
    ")\n",
    "gc.collect()"
   ]
  },
  {
   "cell_type": "markdown",
   "metadata": {},
   "source": [
    "#### RANDOM FOREST - FEATURE IMPORTANCE"
   ]
  },
  {
   "cell_type": "code",
   "execution_count": 33,
   "metadata": {},
   "outputs": [],
   "source": [
    "filtro_random_forest = [\n",
    "    \"Humidity3pm\",\n",
    "    \"Sunshine\",\n",
    "    \"Pressure3pm\",\n",
    "    \"Cloud3pm\",\n",
    "    \"RangeTemp\",\n",
    "    \"WindGustSpeed\",\n",
    "    \"Humidity9am\",\n",
    "    \"Rainfall\",\n",
    "    \"MinTemp\",\n",
    "    \"MaxTemp\",\n",
    "    \"Evaporation\",\n",
    "    \"WindSpeed3pm\",\n",
    "    \"WindSpeed9am\",\n",
    "    \"Cloud9am\",\n",
    "    \"Rainfall_Discretized\",\n",
    "]"
   ]
  },
  {
   "cell_type": "markdown",
   "metadata": {},
   "source": [
    "##### UNDERSAMPLING"
   ]
  },
  {
   "cell_type": "code",
   "execution_count": 56,
   "metadata": {},
   "outputs": [
    {
     "name": "stdout",
     "output_type": "stream",
     "text": [
      "====> INICIANDO PROCESSAMENTO: 2024-11-23 05:40:57.065307 <====\n",
      "====> 2024-11-23 05:40:57.072348 | EXECUTANDO FOLD 1 \n",
      "========> Testando: alpha = 0.0\n",
      "========> Testando: alpha = 0.01\n",
      "========> Testando: alpha = 0.1\n",
      "========> Testando: alpha = 0.5\n",
      "========> Testando: alpha = 1.0\n",
      "====> 2024-11-23 05:40:57.260253 | FINALIZADO FOLD 1 | TEMPO TOTAL 0:00:00.187905\n",
      "\n",
      "\n",
      "====> 2024-11-23 05:40:57.260253 | EXECUTANDO FOLD 2 \n",
      "========> Testando: alpha = 0.0\n",
      "========> Testando: alpha = 0.01\n",
      "========> Testando: alpha = 0.1\n",
      "========> Testando: alpha = 0.5\n",
      "========> Testando: alpha = 1.0\n",
      "====> 2024-11-23 05:40:57.445389 | FINALIZADO FOLD 2 | TEMPO TOTAL 0:00:00.185136\n",
      "\n",
      "\n",
      "====> 2024-11-23 05:40:57.445389 | EXECUTANDO FOLD 3 \n",
      "========> Testando: alpha = 0.0\n",
      "========> Testando: alpha = 0.01\n",
      "========> Testando: alpha = 0.1\n",
      "========> Testando: alpha = 0.5\n",
      "========> Testando: alpha = 1.0\n",
      "====> 2024-11-23 05:40:57.643555 | FINALIZADO FOLD 3 | TEMPO TOTAL 0:00:00.198166\n",
      "\n",
      "\n",
      "====> 2024-11-23 05:40:57.643555 | EXECUTANDO FOLD 4 \n",
      "========> Testando: alpha = 0.0\n",
      "========> Testando: alpha = 0.01\n",
      "========> Testando: alpha = 0.1\n",
      "========> Testando: alpha = 0.5\n",
      "========> Testando: alpha = 1.0\n",
      "====> 2024-11-23 05:40:57.832546 | FINALIZADO FOLD 4 | TEMPO TOTAL 0:00:00.188991\n",
      "\n",
      "\n",
      "====> 2024-11-23 05:40:57.832546 | EXECUTANDO FOLD 5 \n",
      "========> Testando: alpha = 0.0\n",
      "========> Testando: alpha = 0.01\n",
      "========> Testando: alpha = 0.1\n",
      "========> Testando: alpha = 0.5\n",
      "========> Testando: alpha = 1.0\n",
      "====> 2024-11-23 05:40:58.002651 | FINALIZADO FOLD 5 | TEMPO TOTAL 0:00:00.170105\n",
      "\n",
      "\n",
      "Resultados na validação cruzada: {'f1': 0.7640619875453153, 'accuracy': 0.764082205073539, 'precision': 0.7641743119100982, 'recall': 0.7640818263022073}\n",
      "Resultados na base de teste: {'f1': 0.4381317532241199, 'accuracy': 0.7797766749379652, 'precision': 0.3898883374689826, 'recall': 0.5}\n",
      "Melhores parâmetros escolhidos: 0.0\n"
     ]
    }
   ],
   "source": [
    "# Parâmetros do modelo\n",
    "alphas = [0.0, 0.01, 0.1, 0.5, 1.0]\n",
    "\n",
    "# Executar para diferentes modelos e conjuntos de dados\n",
    "results_validation, best_params, results_test, results_list_bayes_rf_under = (\n",
    "    run_cross_mix(\n",
    "        df_train_under[filtro_random_forest],\n",
    "        df_train_under[\"RainTomorrow\"],\n",
    "        df_test_under[filtro_random_forest],\n",
    "        df_test_under[\"RainTomorrow\"],\n",
    "        alphas,\n",
    "        k_folds=5,\n",
    "        categorical_features=[14],\n",
    "    )\n",
    ")\n",
    "\n",
    "print(\"Resultados na validação cruzada:\", results_validation)\n",
    "print(\"Resultados na base de teste:\", results_test)\n",
    "print(\"Melhores parâmetros escolhidos:\", best_params)"
   ]
  },
  {
   "cell_type": "code",
   "execution_count": 57,
   "metadata": {},
   "outputs": [],
   "source": [
    "results_list_bayes_rf_under.to_csv(\n",
    "    \"../../DATA/RESULTS/results_list_bayes_rf_under.csv\", sep=\"|\", index=False\n",
    ")"
   ]
  },
  {
   "cell_type": "markdown",
   "metadata": {},
   "source": [
    "##### SEM BALANCEAMENTO"
   ]
  },
  {
   "cell_type": "code",
   "execution_count": 58,
   "metadata": {},
   "outputs": [
    {
     "name": "stdout",
     "output_type": "stream",
     "text": [
      "====> INICIANDO PROCESSAMENTO: 2024-11-23 05:40:58.037022 <====\n",
      "====> 2024-11-23 05:40:58.045031 | EXECUTANDO FOLD 1 \n",
      "========> Testando: alpha = 0.0\n",
      "========> Testando: alpha = 0.01\n",
      "========> Testando: alpha = 0.1\n",
      "========> Testando: alpha = 0.5\n",
      "========> Testando: alpha = 1.0\n",
      "====> 2024-11-23 05:40:58.397110 | FINALIZADO FOLD 1 | TEMPO TOTAL 0:00:00.352079\n",
      "\n",
      "\n",
      "====> 2024-11-23 05:40:58.397110 | EXECUTANDO FOLD 2 \n",
      "========> Testando: alpha = 0.0\n",
      "========> Testando: alpha = 0.01\n",
      "========> Testando: alpha = 0.1\n",
      "========> Testando: alpha = 0.5\n",
      "========> Testando: alpha = 1.0\n",
      "====> 2024-11-23 05:40:58.795035 | FINALIZADO FOLD 2 | TEMPO TOTAL 0:00:00.397925\n",
      "\n",
      "\n",
      "====> 2024-11-23 05:40:58.795035 | EXECUTANDO FOLD 3 \n",
      "========> Testando: alpha = 0.0\n",
      "========> Testando: alpha = 0.01\n",
      "========> Testando: alpha = 0.1\n",
      "========> Testando: alpha = 0.5\n",
      "========> Testando: alpha = 1.0\n",
      "====> 2024-11-23 05:40:59.146634 | FINALIZADO FOLD 3 | TEMPO TOTAL 0:00:00.351599\n",
      "\n",
      "\n",
      "====> 2024-11-23 05:40:59.146634 | EXECUTANDO FOLD 4 \n",
      "========> Testando: alpha = 0.0\n",
      "========> Testando: alpha = 0.01\n",
      "========> Testando: alpha = 0.1\n",
      "========> Testando: alpha = 0.5\n",
      "========> Testando: alpha = 1.0\n",
      "====> 2024-11-23 05:40:59.455254 | FINALIZADO FOLD 4 | TEMPO TOTAL 0:00:00.308620\n",
      "\n",
      "\n",
      "====> 2024-11-23 05:40:59.455254 | EXECUTANDO FOLD 5 \n",
      "========> Testando: alpha = 0.0\n",
      "========> Testando: alpha = 0.01\n",
      "========> Testando: alpha = 0.1\n",
      "========> Testando: alpha = 0.5\n",
      "========> Testando: alpha = 1.0\n",
      "====> 2024-11-23 05:40:59.745162 | FINALIZADO FOLD 5 | TEMPO TOTAL 0:00:00.289908\n",
      "\n",
      "\n",
      "Resultados na validação cruzada: {'f1': 0.7285803915846831, 'accuracy': 0.793889490392604, 'precision': 0.7140290150484855, 'recall': 0.7561141410271192}\n",
      "Resultados na base de teste: {'f1': 0.7352714027673639, 'accuracy': 0.7990960652250975, 'precision': 0.7202010666941423, 'recall': 0.7633536141270855}\n",
      "Melhores parâmetros escolhidos: 0.0\n"
     ]
    }
   ],
   "source": [
    "# Parâmetros do modelo\n",
    "alphas = [0.0, 0.01, 0.1, 0.5, 1.0]\n",
    "\n",
    "# Executar para diferentes modelos e conjuntos de dados\n",
    "results_validation, best_params, results_test, results_list_bayes_rf_full = (\n",
    "    run_cross_mix(\n",
    "        df_train_full[filtro_random_forest],\n",
    "        df_train_full[\"RainTomorrow\"],\n",
    "        df_test_full[filtro_random_forest],\n",
    "        df_test_full[\"RainTomorrow\"],\n",
    "        alphas,\n",
    "        k_folds=5,\n",
    "        categorical_features=[14],\n",
    "    )\n",
    ")\n",
    "\n",
    "print(\"Resultados na validação cruzada:\", results_validation)\n",
    "print(\"Resultados na base de teste:\", results_test)\n",
    "print(\"Melhores parâmetros escolhidos:\", best_params)"
   ]
  },
  {
   "cell_type": "code",
   "execution_count": 59,
   "metadata": {},
   "outputs": [],
   "source": [
    "results_list_bayes_rf_full.to_csv(\n",
    "    \"../../DATA/RESULTS/results_list_bayes_rf_full.csv\", sep=\"|\", index=False\n",
    ")"
   ]
  },
  {
   "cell_type": "markdown",
   "metadata": {},
   "source": [
    "##### OVERSAMPLING"
   ]
  },
  {
   "cell_type": "code",
   "execution_count": 60,
   "metadata": {},
   "outputs": [
    {
     "name": "stdout",
     "output_type": "stream",
     "text": [
      "====> INICIANDO PROCESSAMENTO: 2024-11-23 05:40:59.791003 <====\n",
      "====> 2024-11-23 05:40:59.804349 | EXECUTANDO FOLD 1 \n",
      "========> Testando: alpha = 0.0\n",
      "========> Testando: alpha = 0.01\n",
      "========> Testando: alpha = 0.1\n",
      "========> Testando: alpha = 0.5\n",
      "========> Testando: alpha = 1.0\n",
      "====> 2024-11-23 05:41:00.319675 | FINALIZADO FOLD 1 | TEMPO TOTAL 0:00:00.515326\n",
      "\n",
      "\n",
      "====> 2024-11-23 05:41:00.319675 | EXECUTANDO FOLD 2 \n",
      "========> Testando: alpha = 0.0\n",
      "========> Testando: alpha = 0.01\n",
      "========> Testando: alpha = 0.1\n",
      "========> Testando: alpha = 0.5\n",
      "========> Testando: alpha = 1.0\n",
      "====> 2024-11-23 05:41:00.649501 | FINALIZADO FOLD 2 | TEMPO TOTAL 0:00:00.329826\n",
      "\n",
      "\n",
      "====> 2024-11-23 05:41:00.649501 | EXECUTANDO FOLD 3 \n",
      "========> Testando: alpha = 0.0\n",
      "========> Testando: alpha = 0.01\n",
      "========> Testando: alpha = 0.1\n",
      "========> Testando: alpha = 0.5\n",
      "========> Testando: alpha = 1.0\n",
      "====> 2024-11-23 05:41:01.086389 | FINALIZADO FOLD 3 | TEMPO TOTAL 0:00:00.436888\n",
      "\n",
      "\n",
      "====> 2024-11-23 05:41:01.086389 | EXECUTANDO FOLD 4 \n",
      "========> Testando: alpha = 0.0\n",
      "========> Testando: alpha = 0.01\n",
      "========> Testando: alpha = 0.1\n",
      "========> Testando: alpha = 0.5\n",
      "========> Testando: alpha = 1.0\n",
      "====> 2024-11-23 05:41:01.471825 | FINALIZADO FOLD 4 | TEMPO TOTAL 0:00:00.385436\n",
      "\n",
      "\n",
      "====> 2024-11-23 05:41:01.471825 | EXECUTANDO FOLD 5 \n",
      "========> Testando: alpha = 0.0\n",
      "========> Testando: alpha = 0.01\n",
      "========> Testando: alpha = 0.1\n",
      "========> Testando: alpha = 0.5\n",
      "========> Testando: alpha = 1.0\n",
      "====> 2024-11-23 05:41:01.890311 | FINALIZADO FOLD 5 | TEMPO TOTAL 0:00:00.418486\n",
      "\n",
      "\n",
      "Resultados na validação cruzada: {'f1': 0.7654347686025795, 'accuracy': 0.7654430062537438, 'precision': 0.7654807242887745, 'recall': 0.7654429805507341}\n",
      "Resultados na base de teste: {'f1': 0.4381317532241199, 'accuracy': 0.7797766749379652, 'precision': 0.3898883374689826, 'recall': 0.5}\n",
      "Melhores parâmetros escolhidos: 0.0\n"
     ]
    }
   ],
   "source": [
    "# Parâmetros do modelo\n",
    "alphas = [0.0, 0.01, 0.1, 0.5, 1.0]\n",
    "\n",
    "# Executar para diferentes modelos e conjuntos de dados\n",
    "results_validation, best_params, results_test, results_list_bayes_rf_smote = (\n",
    "    run_cross_mix(\n",
    "        df_train_smote[filtro_random_forest],\n",
    "        df_train_smote[\"RainTomorrow\"],\n",
    "        df_test_smote[filtro_random_forest],\n",
    "        df_test_smote[\"RainTomorrow\"],\n",
    "        alphas,\n",
    "        k_folds=5,\n",
    "        categorical_features=[14],\n",
    "    )\n",
    ")\n",
    "\n",
    "print(\"Resultados na validação cruzada:\", results_validation)\n",
    "print(\"Resultados na base de teste:\", results_test)\n",
    "print(\"Melhores parâmetros escolhidos:\", best_params)"
   ]
  },
  {
   "cell_type": "code",
   "execution_count": 61,
   "metadata": {},
   "outputs": [],
   "source": [
    "results_list_bayes_rf_smote.to_csv(\n",
    "    \"../../DATA/RESULTS/results_list_bayes_rf_smote.csv\", sep=\"|\", index=False\n",
    ")"
   ]
  },
  {
   "cell_type": "markdown",
   "metadata": {},
   "source": [
    "##### LIBERA MEMÓRIA"
   ]
  },
  {
   "cell_type": "code",
   "execution_count": 62,
   "metadata": {},
   "outputs": [
    {
     "data": {
      "text/plain": [
       "0"
      ]
     },
     "execution_count": 62,
     "metadata": {},
     "output_type": "execute_result"
    }
   ],
   "source": [
    "del results_list_bayes_rf_smote, results_list_bayes_rf_under, results_list_bayes_rf_full\n",
    "gc.collect()"
   ]
  },
  {
   "cell_type": "markdown",
   "metadata": {},
   "source": [
    "### RANDOM FOREST"
   ]
  },
  {
   "cell_type": "markdown",
   "metadata": {},
   "source": [
    "#### TODAS AS CARACTERÍSTICAS"
   ]
  },
  {
   "cell_type": "markdown",
   "metadata": {},
   "source": [
    "##### UNDERSAMPLING"
   ]
  },
  {
   "cell_type": "code",
   "execution_count": 63,
   "metadata": {},
   "outputs": [
    {
     "name": "stdout",
     "output_type": "stream",
     "text": [
      "====> INICIANDO PROCESSAMENTO: 2024-11-23 05:41:02.043890 <====\n",
      "====> 2024-11-23 05:41:02.048385 | EXECUTANDO FOLD 1 \n",
      "Fitting 3 folds for each of 12 candidates, totalling 36 fits\n",
      "===> 2024-11-23 05:44:13.660687 | FINALIZADO FOLD 1 | TEMPO TOTAL 0:03:11.612302\n",
      "\n",
      "\n",
      "====> 2024-11-23 05:44:13.660687 | EXECUTANDO FOLD 2 \n",
      "Fitting 3 folds for each of 12 candidates, totalling 36 fits\n",
      "===> 2024-11-23 05:47:14.372617 | FINALIZADO FOLD 2 | TEMPO TOTAL 0:03:00.711930\n",
      "\n",
      "\n",
      "====> 2024-11-23 05:47:14.372617 | EXECUTANDO FOLD 3 \n",
      "Fitting 3 folds for each of 12 candidates, totalling 36 fits\n",
      "===> 2024-11-23 05:50:17.238648 | FINALIZADO FOLD 3 | TEMPO TOTAL 0:03:02.866031\n",
      "\n",
      "\n",
      "====> 2024-11-23 05:50:17.238648 | EXECUTANDO FOLD 4 \n",
      "Fitting 3 folds for each of 12 candidates, totalling 36 fits\n",
      "===> 2024-11-23 05:53:28.354012 | FINALIZADO FOLD 4 | TEMPO TOTAL 0:03:11.115364\n",
      "\n",
      "\n",
      "====> 2024-11-23 05:53:28.355011 | EXECUTANDO FOLD 5 \n",
      "Fitting 3 folds for each of 12 candidates, totalling 36 fits\n",
      "===> 2024-11-23 05:56:36.749509 | FINALIZADO FOLD 5 | TEMPO TOTAL 0:03:08.394498\n",
      "\n",
      "\n",
      "Resultados na validação cruzada: {'f1': 0.8106169660296414, 'accuracy': 0.8106521325589948, 'precision': 0.8108835325326321, 'recall': 0.810651920573213}\n",
      "Resultados na base de teste: {'f1': 0.4382109390248058, 'accuracy': 0.7797766749379652, 'precision': 0.4398932971689461, 'recall': 0.5000288765208595}\n",
      "Melhores parâmetros escolhidos: {'max_features': 'sqrt', 'n_estimators': 700}\n"
     ]
    }
   ],
   "source": [
    "param_grid_categorical = {\n",
    "    \"n_estimators\": [500, 700, 1000],\n",
    "    \"max_features\": [\"sqrt\", \"log2\", 10, None],\n",
    "}\n",
    "\n",
    "# Executar a função e obter os melhores parâmetros\n",
    "results_validation, results_test, best_params, results_list_rf_under = (\n",
    "    run_cross_validation(\n",
    "        df_train_under.drop(columns=[\"RainTomorrow\"]),\n",
    "        df_train_under[\"RainTomorrow\"],\n",
    "        df_test_under.drop(columns=[\"RainTomorrow\"]),\n",
    "        df_test_under[\"RainTomorrow\"],\n",
    "        RandomForestClassifier(n_jobs=-1, random_state=42, max_depth=None),\n",
    "        param_grid_categorical,\n",
    "        k_folds=5,\n",
    "    )\n",
    ")\n",
    "\n",
    "print(\"Resultados na validação cruzada:\", results_validation)\n",
    "print(\"Resultados na base de teste:\", results_test)\n",
    "print(\"Melhores parâmetros escolhidos:\", best_params)"
   ]
  },
  {
   "cell_type": "code",
   "execution_count": 64,
   "metadata": {},
   "outputs": [],
   "source": [
    "results_list_rf_under.to_csv(\n",
    "    \"../../DATA/RESULTS/results_list_rf_under.csv\", sep=\"|\", index=False\n",
    ")"
   ]
  },
  {
   "cell_type": "markdown",
   "metadata": {},
   "source": [
    "##### SEM BALANCEAMENTO"
   ]
  },
  {
   "cell_type": "code",
   "execution_count": 65,
   "metadata": {},
   "outputs": [
    {
     "name": "stdout",
     "output_type": "stream",
     "text": [
      "====> INICIANDO PROCESSAMENTO: 2024-11-23 05:56:36.907043 <====\n",
      "====> 2024-11-23 05:56:36.912560 | EXECUTANDO FOLD 1 \n",
      "Fitting 3 folds for each of 12 candidates, totalling 36 fits\n",
      "===> 2024-11-23 06:05:11.171152 | FINALIZADO FOLD 1 | TEMPO TOTAL 0:08:34.258592\n",
      "\n",
      "\n",
      "====> 2024-11-23 06:05:11.172155 | EXECUTANDO FOLD 2 \n",
      "Fitting 3 folds for each of 12 candidates, totalling 36 fits\n",
      "===> 2024-11-23 06:13:49.348002 | FINALIZADO FOLD 2 | TEMPO TOTAL 0:08:38.175847\n",
      "\n",
      "\n",
      "====> 2024-11-23 06:13:49.349001 | EXECUTANDO FOLD 3 \n",
      "Fitting 3 folds for each of 12 candidates, totalling 36 fits\n",
      "===> 2024-11-23 06:22:26.717874 | FINALIZADO FOLD 3 | TEMPO TOTAL 0:08:37.368873\n",
      "\n",
      "\n",
      "====> 2024-11-23 06:22:26.718918 | EXECUTANDO FOLD 4 \n",
      "Fitting 3 folds for each of 12 candidates, totalling 36 fits\n",
      "===> 2024-11-23 06:31:08.615450 | FINALIZADO FOLD 4 | TEMPO TOTAL 0:08:41.896532\n",
      "\n",
      "\n",
      "====> 2024-11-23 06:31:08.616454 | EXECUTANDO FOLD 5 \n",
      "Fitting 3 folds for each of 12 candidates, totalling 36 fits\n",
      "===> 2024-11-23 06:39:53.464442 | FINALIZADO FOLD 5 | TEMPO TOTAL 0:08:44.847988\n",
      "\n",
      "\n",
      "Resultados na validação cruzada: {'f1': 0.7728055338663079, 'accuracy': 0.8600894750887396, 'precision': 0.8161284510379907, 'recall': 0.7471798732588205}\n",
      "Resultados na base de teste: {'f1': 0.7693132355131289, 'accuracy': 0.8590570719602978, 'precision': 0.8162527780494349, 'recall': 0.7425465441815572}\n",
      "Melhores parâmetros escolhidos: {'max_features': None, 'n_estimators': 1000}\n"
     ]
    }
   ],
   "source": [
    "param_grid_categorical = {\n",
    "    \"n_estimators\": [500, 700, 1000],\n",
    "    \"max_features\": [\"sqrt\", \"log2\", 10, None],\n",
    "}\n",
    "\n",
    "# Executar a função e obter os melhores parâmetros\n",
    "results_validation, results_test, best_params, results_list_rf_full = (\n",
    "    run_cross_validation(\n",
    "        df_train_full.drop(columns=[\"RainTomorrow\"]),\n",
    "        df_train_full[\"RainTomorrow\"],\n",
    "        df_test_full.drop(columns=[\"RainTomorrow\"]),\n",
    "        df_test_full[\"RainTomorrow\"],\n",
    "        RandomForestClassifier(n_jobs=-1, random_state=42, max_depth=None),\n",
    "        param_grid_categorical,\n",
    "        k_folds=5,\n",
    "    )\n",
    ")\n",
    "\n",
    "print(\"Resultados na validação cruzada:\", results_validation)\n",
    "print(\"Resultados na base de teste:\", results_test)\n",
    "print(\"Melhores parâmetros escolhidos:\", best_params)"
   ]
  },
  {
   "cell_type": "code",
   "execution_count": 66,
   "metadata": {},
   "outputs": [],
   "source": [
    "results_list_rf_full.to_csv(\n",
    "    \"../../DATA/RESULTS/results_list_rf_full.csv\", sep=\"|\", index=False\n",
    ")"
   ]
  },
  {
   "cell_type": "markdown",
   "metadata": {},
   "source": [
    "##### OVERSAMPLING"
   ]
  },
  {
   "cell_type": "code",
   "execution_count": 67,
   "metadata": {},
   "outputs": [
    {
     "name": "stdout",
     "output_type": "stream",
     "text": [
      "====> INICIANDO PROCESSAMENTO: 2024-11-23 06:39:53.668422 <====\n",
      "====> 2024-11-23 06:39:53.682592 | EXECUTANDO FOLD 1 \n",
      "Fitting 3 folds for each of 12 candidates, totalling 36 fits\n",
      "===> 2024-11-23 06:59:07.653890 | FINALIZADO FOLD 1 | TEMPO TOTAL 0:19:13.971298\n",
      "\n",
      "\n",
      "====> 2024-11-23 06:59:07.654854 | EXECUTANDO FOLD 2 \n",
      "Fitting 3 folds for each of 12 candidates, totalling 36 fits\n",
      "===> 2024-11-23 07:17:14.858874 | FINALIZADO FOLD 2 | TEMPO TOTAL 0:18:07.204020\n",
      "\n",
      "\n",
      "====> 2024-11-23 07:17:14.859873 | EXECUTANDO FOLD 3 \n",
      "Fitting 3 folds for each of 12 candidates, totalling 36 fits\n",
      "===> 2024-11-23 07:34:44.202928 | FINALIZADO FOLD 3 | TEMPO TOTAL 0:17:29.343055\n",
      "\n",
      "\n",
      "====> 2024-11-23 07:34:44.204501 | EXECUTANDO FOLD 4 \n",
      "Fitting 3 folds for each of 12 candidates, totalling 36 fits\n",
      "===> 2024-11-23 07:52:30.965056 | FINALIZADO FOLD 4 | TEMPO TOTAL 0:17:46.760555\n",
      "\n",
      "\n",
      "====> 2024-11-23 07:52:30.966139 | EXECUTANDO FOLD 5 \n",
      "Fitting 3 folds for each of 12 candidates, totalling 36 fits\n",
      "===> 2024-11-23 08:10:35.210152 | FINALIZADO FOLD 5 | TEMPO TOTAL 0:18:04.244013\n",
      "\n",
      "\n",
      "Resultados na validação cruzada: {'f1': 0.8968607228453317, 'accuracy': 0.899018153590198, 'precision': 0.9115506935423785, 'recall': 0.8990181221894449}\n",
      "Resultados na base de teste: {'f1': 0.4451366176818624, 'accuracy': 0.7804679191775966, 'precision': 0.7155910731889759, 'recall': 0.5029554895002473}\n",
      "Melhores parâmetros escolhidos: {'max_features': 'sqrt', 'n_estimators': 700}\n"
     ]
    }
   ],
   "source": [
    "param_grid_categorical = {\n",
    "    \"n_estimators\": [500, 700, 1000],\n",
    "    \"max_features\": [\"sqrt\", \"log2\", 10, None],\n",
    "}\n",
    "\n",
    "# Executar a função e obter os melhores parâmetros\n",
    "results_validation, results_test, best_params, results_list_rf_smote = (\n",
    "    run_cross_validation(\n",
    "        df_train_smote.drop(columns=[\"RainTomorrow\"]),\n",
    "        df_train_smote[\"RainTomorrow\"],\n",
    "        df_test_smote.drop(columns=[\"RainTomorrow\"]),\n",
    "        df_test_smote[\"RainTomorrow\"],\n",
    "        RandomForestClassifier(n_jobs=-1, random_state=42, max_depth=None),\n",
    "        param_grid_categorical,\n",
    "        k_folds=5,\n",
    "    )\n",
    ")\n",
    "\n",
    "print(\"Resultados na validação cruzada:\", results_validation)\n",
    "print(\"Resultados na base de teste:\", results_test)\n",
    "print(\"Melhores parâmetros escolhidos:\", best_params)"
   ]
  },
  {
   "cell_type": "code",
   "execution_count": 68,
   "metadata": {},
   "outputs": [],
   "source": [
    "results_list_rf_smote.to_csv(\n",
    "    \"../../DATA/RESULTS/results_list_rf_smote.csv\", sep=\"|\", index=False\n",
    ")"
   ]
  },
  {
   "cell_type": "markdown",
   "metadata": {},
   "source": [
    "##### LIBERA MEMÓRIA"
   ]
  },
  {
   "cell_type": "code",
   "execution_count": 69,
   "metadata": {},
   "outputs": [
    {
     "data": {
      "text/plain": [
       "446"
      ]
     },
     "execution_count": 69,
     "metadata": {},
     "output_type": "execute_result"
    }
   ],
   "source": [
    "del results_list_rf_smote, results_list_rf_full, results_list_rf_under\n",
    "gc.collect()"
   ]
  },
  {
   "cell_type": "markdown",
   "metadata": {},
   "source": [
    "#### PCA"
   ]
  },
  {
   "cell_type": "markdown",
   "metadata": {},
   "source": [
    "##### UNDERSAMPLING"
   ]
  },
  {
   "cell_type": "code",
   "execution_count": 70,
   "metadata": {},
   "outputs": [
    {
     "name": "stdout",
     "output_type": "stream",
     "text": [
      "====> INICIANDO PROCESSAMENTO: 2024-11-23 08:10:35.760204 <====\n",
      "====> 2024-11-23 08:10:35.764199 | EXECUTANDO FOLD 1 \n",
      "Fitting 3 folds for each of 12 candidates, totalling 36 fits\n",
      "===> 2024-11-23 08:15:22.195459 | FINALIZADO FOLD 1 | TEMPO TOTAL 0:04:46.431260\n",
      "\n",
      "\n",
      "====> 2024-11-23 08:15:22.196427 | EXECUTANDO FOLD 2 \n",
      "Fitting 3 folds for each of 12 candidates, totalling 36 fits\n",
      "===> 2024-11-23 08:20:05.358933 | FINALIZADO FOLD 2 | TEMPO TOTAL 0:04:43.162506\n",
      "\n",
      "\n",
      "====> 2024-11-23 08:20:05.360259 | EXECUTANDO FOLD 3 \n",
      "Fitting 3 folds for each of 12 candidates, totalling 36 fits\n",
      "===> 2024-11-23 08:24:35.742354 | FINALIZADO FOLD 3 | TEMPO TOTAL 0:04:30.382095\n",
      "\n",
      "\n",
      "====> 2024-11-23 08:24:35.743442 | EXECUTANDO FOLD 4 \n",
      "Fitting 3 folds for each of 12 candidates, totalling 36 fits\n",
      "===> 2024-11-23 08:29:16.850010 | FINALIZADO FOLD 4 | TEMPO TOTAL 0:04:41.106568\n",
      "\n",
      "\n",
      "====> 2024-11-23 08:29:16.850010 | EXECUTANDO FOLD 5 \n",
      "Fitting 3 folds for each of 12 candidates, totalling 36 fits\n",
      "===> 2024-11-23 08:33:52.854297 | FINALIZADO FOLD 5 | TEMPO TOTAL 0:04:36.004287\n",
      "\n",
      "\n",
      "Resultados na validação cruzada: {'f1': 0.796969838171214, 'accuracy': 0.7969725696396129, 'precision': 0.7969876590889962, 'recall': 0.796972559337928}\n",
      "Resultados na base de teste: {'f1': 0.2320086587281997, 'accuracy': 0.3321339950372208, 'precision': 0.1660669975186104, 'recall': 0.5}\n",
      "Melhores parâmetros escolhidos: {'max_features': 'sqrt', 'n_estimators': 500}\n"
     ]
    }
   ],
   "source": [
    "param_grid_categorical = {\n",
    "    \"n_estimators\": [500, 700, 1000],\n",
    "    \"max_features\": [\"sqrt\", \"log2\", 10, None],\n",
    "}\n",
    "\n",
    "# Executar a função e obter os melhores parâmetros\n",
    "results_validation, results_test, best_params, results_list_rf_pca_under = (\n",
    "    run_cross_validation(\n",
    "        df_train_under_pca.drop(columns=[\"RainTomorrow\"]),\n",
    "        df_train_under_pca[\"RainTomorrow\"],\n",
    "        df_test_under_pca.drop(columns=[\"RainTomorrow\"]),\n",
    "        df_test_under_pca[\"RainTomorrow\"],\n",
    "        RandomForestClassifier(n_jobs=-1, random_state=42, max_depth=None),\n",
    "        param_grid_categorical,\n",
    "        k_folds=5,\n",
    "    )\n",
    ")\n",
    "\n",
    "print(\"Resultados na validação cruzada:\", results_validation)\n",
    "print(\"Resultados na base de teste:\", results_test)\n",
    "print(\"Melhores parâmetros escolhidos:\", best_params)"
   ]
  },
  {
   "cell_type": "code",
   "execution_count": 71,
   "metadata": {},
   "outputs": [],
   "source": [
    "results_list_rf_pca_under.to_csv(\n",
    "    \"../../DATA/RESULTS/results_list_rf_pca_under.csv\", sep=\"|\", index=False\n",
    ")"
   ]
  },
  {
   "cell_type": "markdown",
   "metadata": {},
   "source": [
    "##### SEM BALANCEAMENTO"
   ]
  },
  {
   "cell_type": "code",
   "execution_count": 72,
   "metadata": {},
   "outputs": [
    {
     "name": "stdout",
     "output_type": "stream",
     "text": [
      "====> INICIANDO PROCESSAMENTO: 2024-11-23 08:33:53.037362 <====\n",
      "====> 2024-11-23 08:33:53.047771 | EXECUTANDO FOLD 1 \n",
      "Fitting 3 folds for each of 12 candidates, totalling 36 fits\n",
      "===> 2024-11-23 08:47:28.946078 | FINALIZADO FOLD 1 | TEMPO TOTAL 0:13:35.898307\n",
      "\n",
      "\n",
      "====> 2024-11-23 08:47:28.947079 | EXECUTANDO FOLD 2 \n",
      "Fitting 3 folds for each of 12 candidates, totalling 36 fits\n",
      "===> 2024-11-23 09:00:46.566061 | FINALIZADO FOLD 2 | TEMPO TOTAL 0:13:17.618982\n",
      "\n",
      "\n",
      "====> 2024-11-23 09:00:46.567066 | EXECUTANDO FOLD 3 \n",
      "Fitting 3 folds for each of 12 candidates, totalling 36 fits\n",
      "===> 2024-11-23 09:14:06.583362 | FINALIZADO FOLD 3 | TEMPO TOTAL 0:13:20.016296\n",
      "\n",
      "\n",
      "====> 2024-11-23 09:14:06.584358 | EXECUTANDO FOLD 4 \n",
      "Fitting 3 folds for each of 12 candidates, totalling 36 fits\n",
      "===> 2024-11-23 09:27:19.572186 | FINALIZADO FOLD 4 | TEMPO TOTAL 0:13:12.987828\n",
      "\n",
      "\n",
      "====> 2024-11-23 09:27:19.572186 | EXECUTANDO FOLD 5 \n",
      "Fitting 3 folds for each of 12 candidates, totalling 36 fits\n",
      "===> 2024-11-23 09:39:48.834793 | FINALIZADO FOLD 5 | TEMPO TOTAL 0:12:29.262607\n",
      "\n",
      "\n",
      "Resultados na validação cruzada: {'f1': 0.7610370507309517, 'accuracy': 0.8531770758712882, 'precision': 0.8038069150642857, 'recall': 0.7362162524558056}\n",
      "Resultados na base de teste: {'f1': 0.7601202368890373, 'accuracy': 0.853438496986884, 'precision': 0.8056528268276375, 'recall': 0.7343524952419369}\n",
      "Melhores parâmetros escolhidos: {'max_features': 'log2', 'n_estimators': 1000}\n"
     ]
    }
   ],
   "source": [
    "param_grid_categorical = {\n",
    "    \"n_estimators\": [500, 700, 1000],\n",
    "    \"max_features\": [\"sqrt\", \"log2\", 10, None],\n",
    "}\n",
    "\n",
    "# Executar a função e obter os melhores parâmetros\n",
    "results_validation, results_test, best_params, results_list_rf_pca_full = (\n",
    "    run_cross_validation(\n",
    "        df_train_full_pca.drop(columns=[\"RainTomorrow\"]),\n",
    "        df_train_full_pca[\"RainTomorrow\"],\n",
    "        df_test_full_pca.drop(columns=[\"RainTomorrow\"]),\n",
    "        df_test_full_pca[\"RainTomorrow\"],\n",
    "        RandomForestClassifier(n_jobs=-1, random_state=42, max_depth=None),\n",
    "        param_grid_categorical,\n",
    "        k_folds=5,\n",
    "    )\n",
    ")\n",
    "\n",
    "print(\"Resultados na validação cruzada:\", results_validation)\n",
    "print(\"Resultados na base de teste:\", results_test)\n",
    "print(\"Melhores parâmetros escolhidos:\", best_params)"
   ]
  },
  {
   "cell_type": "code",
   "execution_count": 73,
   "metadata": {},
   "outputs": [],
   "source": [
    "results_list_rf_pca_full.to_csv(\n",
    "    \"../../DATA/RESULTS/results_list_rf_pca_full.csv\", sep=\"|\", index=False\n",
    ")"
   ]
  },
  {
   "cell_type": "markdown",
   "metadata": {},
   "source": [
    "##### OVERSAMPLING"
   ]
  },
  {
   "cell_type": "code",
   "execution_count": 75,
   "metadata": {},
   "outputs": [
    {
     "name": "stdout",
     "output_type": "stream",
     "text": [
      "====> INICIANDO PROCESSAMENTO: 2024-11-23 09:59:07.883760 <====\n",
      "====> 2024-11-23 09:59:07.900776 | EXECUTANDO FOLD 1 \n",
      "Fitting 3 folds for each of 12 candidates, totalling 36 fits\n",
      "===> 2024-11-23 10:19:40.348532 | FINALIZADO FOLD 1 | TEMPO TOTAL 0:20:32.447756\n",
      "\n",
      "\n",
      "====> 2024-11-23 10:19:40.349533 | EXECUTANDO FOLD 2 \n",
      "Fitting 3 folds for each of 12 candidates, totalling 36 fits\n",
      "===> 2024-11-23 10:40:01.852913 | FINALIZADO FOLD 2 | TEMPO TOTAL 0:20:21.503380\n",
      "\n",
      "\n",
      "====> 2024-11-23 10:40:01.852913 | EXECUTANDO FOLD 3 \n",
      "Fitting 3 folds for each of 12 candidates, totalling 36 fits\n",
      "===> 2024-11-23 11:00:28.277157 | FINALIZADO FOLD 3 | TEMPO TOTAL 0:20:26.424244\n",
      "\n",
      "\n",
      "====> 2024-11-23 11:00:28.278191 | EXECUTANDO FOLD 4 \n",
      "Fitting 3 folds for each of 12 candidates, totalling 36 fits\n",
      "===> 2024-11-23 11:21:02.337235 | FINALIZADO FOLD 4 | TEMPO TOTAL 0:20:34.059044\n",
      "\n",
      "\n",
      "====> 2024-11-23 11:21:02.338196 | EXECUTANDO FOLD 5 \n",
      "Fitting 3 folds for each of 12 candidates, totalling 36 fits\n",
      "===> 2024-11-23 11:41:39.652580 | FINALIZADO FOLD 5 | TEMPO TOTAL 0:20:37.314384\n",
      "\n",
      "\n",
      "Resultados na validação cruzada: {'f1': 0.8806208628731339, 'accuracy': 0.8807325988798059, 'precision': 0.8821864626157453, 'recall': 0.8807326420441368}\n",
      "Resultados na base de teste: {'f1': 0.4381317532241199, 'accuracy': 0.7797766749379652, 'precision': 0.3898883374689826, 'recall': 0.5}\n",
      "Melhores parâmetros escolhidos: {'max_features': 'log2', 'n_estimators': 700}\n"
     ]
    }
   ],
   "source": [
    "param_grid_categorical = {\n",
    "    \"n_estimators\": [500, 700, 1000],\n",
    "    \"max_features\": [\"sqrt\", \"log2\", 10, None],\n",
    "}\n",
    "\n",
    "# Executar a função e obter os melhores parâmetros\n",
    "results_validation, results_test, best_params, results_list_rf_pca_smote = (\n",
    "    run_cross_validation(\n",
    "        df_train_smote_pca.drop(columns=[\"RainTomorrow\"]),\n",
    "        df_train_smote_pca[\"RainTomorrow\"],\n",
    "        df_test_smote_pca.drop(columns=[\"RainTomorrow\"]),\n",
    "        df_test_smote_pca[\"RainTomorrow\"],\n",
    "        RandomForestClassifier(n_jobs=-1, random_state=42, max_depth=None),\n",
    "        param_grid_categorical,\n",
    "        k_folds=5,\n",
    "    )\n",
    ")\n",
    "\n",
    "print(\"Resultados na validação cruzada:\", results_validation)\n",
    "print(\"Resultados na base de teste:\", results_test)\n",
    "print(\"Melhores parâmetros escolhidos:\", best_params)"
   ]
  },
  {
   "cell_type": "code",
   "execution_count": 76,
   "metadata": {},
   "outputs": [],
   "source": [
    "results_list_rf_pca_smote.to_csv(\n",
    "    \"../../DATA/RESULTS/results_list_rf_pca_smote.csv\", sep=\"|\", index=False\n",
    ")"
   ]
  },
  {
   "cell_type": "markdown",
   "metadata": {},
   "source": [
    "##### LIBERA MEMÓRIA"
   ]
  },
  {
   "cell_type": "code",
   "execution_count": 77,
   "metadata": {},
   "outputs": [
    {
     "data": {
      "text/plain": [
       "892"
      ]
     },
     "execution_count": 77,
     "metadata": {},
     "output_type": "execute_result"
    }
   ],
   "source": [
    "del results_list_rf_pca_smote, results_list_rf_pca_full, results_list_rf_pca_under\n",
    "gc.collect()"
   ]
  },
  {
   "cell_type": "markdown",
   "metadata": {},
   "source": [
    "#### CORRELAÇÃO"
   ]
  },
  {
   "cell_type": "markdown",
   "metadata": {},
   "source": [
    "##### UNDERSAMPLING"
   ]
  },
  {
   "cell_type": "code",
   "execution_count": 78,
   "metadata": {},
   "outputs": [
    {
     "name": "stdout",
     "output_type": "stream",
     "text": [
      "====> INICIANDO PROCESSAMENTO: 2024-11-23 11:41:39.988127 <====\n",
      "====> 2024-11-23 11:41:39.992140 | EXECUTANDO FOLD 1 \n",
      "Fitting 3 folds for each of 12 candidates, totalling 36 fits\n",
      "===> 2024-11-23 11:43:10.409791 | FINALIZADO FOLD 1 | TEMPO TOTAL 0:01:30.417651\n",
      "\n",
      "\n",
      "====> 2024-11-23 11:43:10.409791 | EXECUTANDO FOLD 2 \n",
      "Fitting 3 folds for each of 12 candidates, totalling 36 fits\n",
      "===> 2024-11-23 11:44:37.291346 | FINALIZADO FOLD 2 | TEMPO TOTAL 0:01:26.881555\n",
      "\n",
      "\n",
      "====> 2024-11-23 11:44:37.291346 | EXECUTANDO FOLD 3 \n",
      "Fitting 3 folds for each of 12 candidates, totalling 36 fits\n",
      "===> 2024-11-23 11:46:07.292285 | FINALIZADO FOLD 3 | TEMPO TOTAL 0:01:30.000939\n",
      "\n",
      "\n",
      "====> 2024-11-23 11:46:07.293285 | EXECUTANDO FOLD 4 \n",
      "Fitting 3 folds for each of 12 candidates, totalling 36 fits\n",
      "===> 2024-11-23 11:47:40.037442 | FINALIZADO FOLD 4 | TEMPO TOTAL 0:01:32.744157\n",
      "\n",
      "\n",
      "====> 2024-11-23 11:47:40.037442 | EXECUTANDO FOLD 5 \n",
      "Fitting 3 folds for each of 12 candidates, totalling 36 fits\n",
      "===> 2024-11-23 11:49:08.903300 | FINALIZADO FOLD 5 | TEMPO TOTAL 0:01:28.865858\n",
      "\n",
      "\n",
      "Resultados na validação cruzada: {'f1': 0.7479956290118458, 'accuracy': 0.7480388997297843, 'precision': 0.7482088102621118, 'recall': 0.7480391398162732}\n",
      "Resultados na base de teste: {'f1': 0.4381317532241199, 'accuracy': 0.7797766749379652, 'precision': 0.3898883374689826, 'recall': 0.5}\n",
      "Melhores parâmetros escolhidos: {'max_features': 'sqrt', 'n_estimators': 500}\n"
     ]
    }
   ],
   "source": [
    "param_grid_categorical = {\n",
    "    \"n_estimators\": [500, 700, 1000],\n",
    "    \"max_features\": [\"sqrt\", \"log2\", 10, None],\n",
    "}\n",
    "\n",
    "# Executar a função e obter os melhores parâmetros\n",
    "results_validation, results_test, best_params, results_list_rf_corr_under = (\n",
    "    run_cross_validation(\n",
    "        df_train_under[filtro_correlacao],\n",
    "        df_train_under[\"RainTomorrow\"],\n",
    "        df_test_under[filtro_correlacao],\n",
    "        df_test_under[\"RainTomorrow\"],\n",
    "        RandomForestClassifier(n_jobs=-1, random_state=42, max_depth=None),\n",
    "        param_grid_categorical,\n",
    "        k_folds=5,\n",
    "    )\n",
    ")\n",
    "\n",
    "print(\"Resultados na validação cruzada:\", results_validation)\n",
    "print(\"Resultados na base de teste:\", results_test)\n",
    "print(\"Melhores parâmetros escolhidos:\", best_params)"
   ]
  },
  {
   "cell_type": "code",
   "execution_count": 79,
   "metadata": {},
   "outputs": [],
   "source": [
    "results_list_rf_corr_under.to_csv(\n",
    "    \"../../DATA/RESULTS/results_list_rf_corr_under.csv\", sep=\"|\", index=False\n",
    ")"
   ]
  },
  {
   "cell_type": "markdown",
   "metadata": {},
   "source": [
    "##### SEM BALANCEAMENTO"
   ]
  },
  {
   "cell_type": "code",
   "execution_count": 80,
   "metadata": {},
   "outputs": [
    {
     "name": "stdout",
     "output_type": "stream",
     "text": [
      "====> INICIANDO PROCESSAMENTO: 2024-11-23 11:49:09.168346 <====\n",
      "====> 2024-11-23 11:49:09.176857 | EXECUTANDO FOLD 1 \n",
      "Fitting 3 folds for each of 12 candidates, totalling 36 fits\n",
      "===> 2024-11-23 11:52:22.237727 | FINALIZADO FOLD 1 | TEMPO TOTAL 0:03:13.060870\n",
      "\n",
      "\n",
      "====> 2024-11-23 11:52:22.237727 | EXECUTANDO FOLD 2 \n",
      "Fitting 3 folds for each of 12 candidates, totalling 36 fits\n",
      "===> 2024-11-23 11:55:33.358176 | FINALIZADO FOLD 2 | TEMPO TOTAL 0:03:11.120449\n",
      "\n",
      "\n",
      "====> 2024-11-23 11:55:33.359179 | EXECUTANDO FOLD 3 \n",
      "Fitting 3 folds for each of 12 candidates, totalling 36 fits\n",
      "===> 2024-11-23 11:58:46.888117 | FINALIZADO FOLD 3 | TEMPO TOTAL 0:03:13.528938\n",
      "\n",
      "\n",
      "====> 2024-11-23 11:58:46.889117 | EXECUTANDO FOLD 4 \n",
      "Fitting 3 folds for each of 12 candidates, totalling 36 fits\n",
      "===> 2024-11-23 12:01:59.552944 | FINALIZADO FOLD 4 | TEMPO TOTAL 0:03:12.663827\n",
      "\n",
      "\n",
      "====> 2024-11-23 12:01:59.552944 | EXECUTANDO FOLD 5 \n",
      "Fitting 3 folds for each of 12 candidates, totalling 36 fits\n",
      "===> 2024-11-23 12:05:11.479540 | FINALIZADO FOLD 5 | TEMPO TOTAL 0:03:11.926596\n",
      "\n",
      "\n",
      "Resultados na validação cruzada: {'f1': 0.7040300596549856, 'accuracy': 0.8236883820060518, 'precision': 0.7526356293571512, 'recall': 0.6811498413061579}\n",
      "Resultados na base de teste: {'f1': 0.7043894479144315, 'accuracy': 0.8243353420772775, 'precision': 0.7542062458710075, 'recall': 0.6811838413135936}\n",
      "Melhores parâmetros escolhidos: {'max_features': 'sqrt', 'n_estimators': 1000}\n"
     ]
    }
   ],
   "source": [
    "param_grid_categorical = {\n",
    "    \"n_estimators\": [500, 700, 1000],\n",
    "    \"max_features\": [\"sqrt\", \"log2\", 10, None],\n",
    "}\n",
    "\n",
    "# Executar a função e obter os melhores parâmetros\n",
    "results_validation, results_test, best_params, results_list_rf_corr_full = (\n",
    "    run_cross_validation(\n",
    "        df_train_full[filtro_correlacao],\n",
    "        df_train_full[\"RainTomorrow\"],\n",
    "        df_test_full[filtro_correlacao],\n",
    "        df_test_full[\"RainTomorrow\"],\n",
    "        RandomForestClassifier(n_jobs=-1, random_state=42, max_depth=None),\n",
    "        param_grid_categorical,\n",
    "        k_folds=5,\n",
    "    )\n",
    ")\n",
    "\n",
    "print(\"Resultados na validação cruzada:\", results_validation)\n",
    "print(\"Resultados na base de teste:\", results_test)\n",
    "print(\"Melhores parâmetros escolhidos:\", best_params)"
   ]
  },
  {
   "cell_type": "code",
   "execution_count": 81,
   "metadata": {},
   "outputs": [],
   "source": [
    "results_list_rf_corr_full.to_csv(\n",
    "    \"../../DATA/RESULTS/results_list_rf_corr_full.csv\", sep=\"|\", index=False\n",
    ")"
   ]
  },
  {
   "cell_type": "markdown",
   "metadata": {},
   "source": [
    "##### OVERSAMPLING"
   ]
  },
  {
   "cell_type": "code",
   "execution_count": 82,
   "metadata": {},
   "outputs": [
    {
     "name": "stdout",
     "output_type": "stream",
     "text": [
      "====> INICIANDO PROCESSAMENTO: 2024-11-23 12:05:11.690624 <====\n",
      "====> 2024-11-23 12:05:11.721732 | EXECUTANDO FOLD 1 \n",
      "Fitting 3 folds for each of 12 candidates, totalling 36 fits\n",
      "===> 2024-11-23 12:12:23.969096 | FINALIZADO FOLD 1 | TEMPO TOTAL 0:07:12.247364\n",
      "\n",
      "\n",
      "====> 2024-11-23 12:12:23.970109 | EXECUTANDO FOLD 2 \n",
      "Fitting 3 folds for each of 12 candidates, totalling 36 fits\n",
      "===> 2024-11-23 12:19:26.770069 | FINALIZADO FOLD 2 | TEMPO TOTAL 0:07:02.799960\n",
      "\n",
      "\n",
      "====> 2024-11-23 12:19:26.771029 | EXECUTANDO FOLD 3 \n",
      "Fitting 3 folds for each of 12 candidates, totalling 36 fits\n",
      "===> 2024-11-23 12:26:21.739287 | FINALIZADO FOLD 3 | TEMPO TOTAL 0:06:54.968258\n",
      "\n",
      "\n",
      "====> 2024-11-23 12:26:21.740284 | EXECUTANDO FOLD 4 \n",
      "Fitting 3 folds for each of 12 candidates, totalling 36 fits\n",
      "===> 2024-11-23 12:33:22.853197 | FINALIZADO FOLD 4 | TEMPO TOTAL 0:07:01.112913\n",
      "\n",
      "\n",
      "====> 2024-11-23 12:33:22.853197 | EXECUTANDO FOLD 5 \n",
      "Fitting 3 folds for each of 12 candidates, totalling 36 fits\n",
      "===> 2024-11-23 12:40:26.320298 | FINALIZADO FOLD 5 | TEMPO TOTAL 0:07:03.467101\n",
      "\n",
      "\n",
      "Resultados na validação cruzada: {'f1': 0.855229209202166, 'accuracy': 0.8615976638463488, 'precision': 0.8821863141970043, 'recall': 0.8615976909550456}\n",
      "Resultados na base de teste: {'f1': 0.5365043743136837, 'accuracy': 0.6887805742644453, 'precision': 0.7101814460410407, 'recall': 0.5861794474083961}\n",
      "Melhores parâmetros escolhidos: {'max_features': 10, 'n_estimators': 700}\n"
     ]
    }
   ],
   "source": [
    "param_grid_categorical = {\n",
    "    \"n_estimators\": [500, 700, 1000],\n",
    "    \"max_features\": [\"sqrt\", \"log2\", 10, None],\n",
    "}\n",
    "\n",
    "# Executar a função e obter os melhores parâmetros\n",
    "results_validation, results_test, best_params, results_list_rf_corr_smote = (\n",
    "    run_cross_validation(\n",
    "        df_train_smote[filtro_correlacao],\n",
    "        df_train_smote[\"RainTomorrow\"],\n",
    "        df_test_smote[filtro_correlacao],\n",
    "        df_test_smote[\"RainTomorrow\"],\n",
    "        RandomForestClassifier(n_jobs=-1, random_state=42, max_depth=None),\n",
    "        param_grid_categorical,\n",
    "        k_folds=5,\n",
    "    )\n",
    ")\n",
    "\n",
    "print(\"Resultados na validação cruzada:\", results_validation)\n",
    "print(\"Resultados na base de teste:\", results_test)\n",
    "print(\"Melhores parâmetros escolhidos:\", best_params)"
   ]
  },
  {
   "cell_type": "code",
   "execution_count": 83,
   "metadata": {},
   "outputs": [],
   "source": [
    "results_list_rf_corr_smote.to_csv(\n",
    "    \"../../DATA/RESULTS/results_list_rf_corr_smote.csv\", sep=\"|\", index=False\n",
    ")"
   ]
  },
  {
   "cell_type": "markdown",
   "metadata": {},
   "source": [
    "##### LIBERA MEMÓRIA"
   ]
  },
  {
   "cell_type": "code",
   "execution_count": 84,
   "metadata": {},
   "outputs": [
    {
     "data": {
      "text/plain": [
       "470"
      ]
     },
     "execution_count": 84,
     "metadata": {},
     "output_type": "execute_result"
    }
   ],
   "source": [
    "del results_list_rf_corr_smote, results_list_rf_corr_full, results_list_rf_corr_under\n",
    "gc.collect()"
   ]
  },
  {
   "cell_type": "markdown",
   "metadata": {},
   "source": [
    "#### RANDOM FOREST - FEATURE IMPORTANCE"
   ]
  },
  {
   "cell_type": "markdown",
   "metadata": {},
   "source": [
    "##### UNDERSAMPLING"
   ]
  },
  {
   "cell_type": "code",
   "execution_count": 85,
   "metadata": {},
   "outputs": [
    {
     "name": "stdout",
     "output_type": "stream",
     "text": [
      "====> INICIANDO PROCESSAMENTO: 2024-11-23 12:40:26.842727 <====\n",
      "====> 2024-11-23 12:40:26.846129 | EXECUTANDO FOLD 1 \n",
      "Fitting 3 folds for each of 12 candidates, totalling 36 fits\n",
      "===> 2024-11-23 12:43:28.364393 | FINALIZADO FOLD 1 | TEMPO TOTAL 0:03:01.518264\n",
      "\n",
      "\n",
      "====> 2024-11-23 12:43:28.364393 | EXECUTANDO FOLD 2 \n",
      "Fitting 3 folds for each of 12 candidates, totalling 36 fits\n",
      "===> 2024-11-23 12:46:26.311119 | FINALIZADO FOLD 2 | TEMPO TOTAL 0:02:57.946726\n",
      "\n",
      "\n",
      "====> 2024-11-23 12:46:26.311119 | EXECUTANDO FOLD 3 \n",
      "Fitting 3 folds for each of 12 candidates, totalling 36 fits\n",
      "===> 2024-11-23 12:49:22.401832 | FINALIZADO FOLD 3 | TEMPO TOTAL 0:02:56.090713\n",
      "\n",
      "\n",
      "====> 2024-11-23 12:49:22.401832 | EXECUTANDO FOLD 4 \n",
      "Fitting 3 folds for each of 12 candidates, totalling 36 fits\n",
      "===> 2024-11-23 12:52:17.643063 | FINALIZADO FOLD 4 | TEMPO TOTAL 0:02:55.241231\n",
      "\n",
      "\n",
      "====> 2024-11-23 12:52:17.644024 | EXECUTANDO FOLD 5 \n",
      "Fitting 3 folds for each of 12 candidates, totalling 36 fits\n",
      "===> 2024-11-23 12:55:16.334119 | FINALIZADO FOLD 5 | TEMPO TOTAL 0:02:58.690095\n",
      "\n",
      "\n",
      "Resultados na validação cruzada: {'f1': 0.8078648603001563, 'accuracy': 0.8078862159631159, 'precision': 0.8080215626947073, 'recall': 0.8078852703956265}\n",
      "Resultados na base de teste: {'f1': 0.4381317532241199, 'accuracy': 0.7797766749379652, 'precision': 0.3898883374689826, 'recall': 0.5}\n",
      "Melhores parâmetros escolhidos: {'max_features': 'sqrt', 'n_estimators': 1000}\n"
     ]
    }
   ],
   "source": [
    "param_grid_categorical = {\n",
    "    \"n_estimators\": [500, 700, 1000],\n",
    "    \"max_features\": [\"sqrt\", \"log2\", 10, None],\n",
    "}\n",
    "\n",
    "# Executar a função e obter os melhores parâmetros\n",
    "results_validation, results_test, best_params, results_list_rf_rf_under = (\n",
    "    run_cross_validation(\n",
    "        df_train_under[filtro_random_forest],\n",
    "        df_train_under[\"RainTomorrow\"],\n",
    "        df_test_under[filtro_random_forest],\n",
    "        df_test_under[\"RainTomorrow\"],\n",
    "        RandomForestClassifier(n_jobs=-1, random_state=42, max_depth=None),\n",
    "        param_grid_categorical,\n",
    "        k_folds=5,\n",
    "    )\n",
    ")\n",
    "\n",
    "print(\"Resultados na validação cruzada:\", results_validation)\n",
    "print(\"Resultados na base de teste:\", results_test)\n",
    "print(\"Melhores parâmetros escolhidos:\", best_params)"
   ]
  },
  {
   "cell_type": "code",
   "execution_count": 86,
   "metadata": {},
   "outputs": [],
   "source": [
    "results_list_rf_rf_under.to_csv(\n",
    "    \"../../DATA/RESULTS/results_list_rf_rf_under.csv\", sep=\"|\", index=False\n",
    ")"
   ]
  },
  {
   "cell_type": "markdown",
   "metadata": {},
   "source": [
    "##### SEM BALANCEAMENTO"
   ]
  },
  {
   "cell_type": "code",
   "execution_count": 87,
   "metadata": {},
   "outputs": [
    {
     "name": "stdout",
     "output_type": "stream",
     "text": [
      "====> INICIANDO PROCESSAMENTO: 2024-11-23 12:55:16.589414 <====\n",
      "====> 2024-11-23 12:55:16.602551 | EXECUTANDO FOLD 1 \n",
      "Fitting 3 folds for each of 12 candidates, totalling 36 fits\n",
      "===> 2024-11-23 13:02:10.997247 | FINALIZADO FOLD 1 | TEMPO TOTAL 0:06:54.394696\n",
      "\n",
      "\n",
      "====> 2024-11-23 13:02:10.997247 | EXECUTANDO FOLD 2 \n",
      "Fitting 3 folds for each of 12 candidates, totalling 36 fits\n",
      "===> 2024-11-23 13:08:58.993925 | FINALIZADO FOLD 2 | TEMPO TOTAL 0:06:47.996678\n",
      "\n",
      "\n",
      "====> 2024-11-23 13:08:58.994924 | EXECUTANDO FOLD 3 \n",
      "Fitting 3 folds for each of 12 candidates, totalling 36 fits\n",
      "===> 2024-11-23 13:16:09.433056 | FINALIZADO FOLD 3 | TEMPO TOTAL 0:07:10.438132\n",
      "\n",
      "\n",
      "====> 2024-11-23 13:16:09.434057 | EXECUTANDO FOLD 4 \n",
      "Fitting 3 folds for each of 12 candidates, totalling 36 fits\n",
      "===> 2024-11-23 13:23:30.952620 | FINALIZADO FOLD 4 | TEMPO TOTAL 0:07:21.518563\n",
      "\n",
      "\n",
      "====> 2024-11-23 13:23:30.954646 | EXECUTANDO FOLD 5 \n",
      "Fitting 3 folds for each of 12 candidates, totalling 36 fits\n",
      "===> 2024-11-23 13:30:37.123367 | FINALIZADO FOLD 5 | TEMPO TOTAL 0:07:06.168721\n",
      "\n",
      "\n",
      "Resultados na validação cruzada: {'f1': 0.7718558329482343, 'accuracy': 0.8596463673519391, 'precision': 0.8155260293912399, 'recall': 0.7461381797982959}\n",
      "Resultados na base de teste: {'f1': 0.7681372853146753, 'accuracy': 0.858649415101028, 'precision': 0.8161241060663562, 'recall': 0.7410723369653082}\n",
      "Melhores parâmetros escolhidos: {'max_features': 10, 'n_estimators': 500}\n"
     ]
    }
   ],
   "source": [
    "param_grid_categorical = {\n",
    "    \"n_estimators\": [500, 700, 1000],\n",
    "    \"max_features\": [\"sqrt\", \"log2\", 10, None],\n",
    "}\n",
    "\n",
    "# Executar a função e obter os melhores parâmetros\n",
    "results_validation, results_test, best_params, results_list_rf_rf_full = (\n",
    "    run_cross_validation(\n",
    "        df_train_full[filtro_random_forest],\n",
    "        df_train_full[\"RainTomorrow\"],\n",
    "        df_test_full[filtro_random_forest],\n",
    "        df_test_full[\"RainTomorrow\"],\n",
    "        RandomForestClassifier(n_jobs=-1, random_state=42, max_depth=None),\n",
    "        param_grid_categorical,\n",
    "        k_folds=5,\n",
    "    )\n",
    ")\n",
    "\n",
    "print(\"Resultados na validação cruzada:\", results_validation)\n",
    "print(\"Resultados na base de teste:\", results_test)\n",
    "print(\"Melhores parâmetros escolhidos:\", best_params)"
   ]
  },
  {
   "cell_type": "code",
   "execution_count": null,
   "metadata": {},
   "outputs": [],
   "source": [
    "results_list_rf_rf_fullresults_list_rf_rf_full.to_csv(\n",
    "    \"../../DATA/RESULTS/.csv\", sep=\"|\", index=False\n",
    ")"
   ]
  },
  {
   "cell_type": "markdown",
   "metadata": {},
   "source": [
    "##### OVERSAMPLING"
   ]
  },
  {
   "cell_type": "code",
   "execution_count": 89,
   "metadata": {},
   "outputs": [
    {
     "name": "stdout",
     "output_type": "stream",
     "text": [
      "====> INICIANDO PROCESSAMENTO: 2024-11-23 13:30:37.375249 <====\n",
      "====> 2024-11-23 13:30:37.385025 | EXECUTANDO FOLD 1 \n",
      "Fitting 3 folds for each of 12 candidates, totalling 36 fits\n",
      "===> 2024-11-23 13:48:50.866876 | FINALIZADO FOLD 1 | TEMPO TOTAL 0:18:13.481851\n",
      "\n",
      "\n",
      "====> 2024-11-23 13:48:50.867873 | EXECUTANDO FOLD 2 \n",
      "Fitting 3 folds for each of 12 candidates, totalling 36 fits\n",
      "===> 2024-11-23 14:05:50.879381 | FINALIZADO FOLD 2 | TEMPO TOTAL 0:17:00.011508\n",
      "\n",
      "\n",
      "====> 2024-11-23 14:05:50.879381 | EXECUTANDO FOLD 3 \n",
      "Fitting 3 folds for each of 12 candidates, totalling 36 fits\n",
      "===> 2024-11-23 14:21:54.017192 | FINALIZADO FOLD 3 | TEMPO TOTAL 0:16:03.137811\n",
      "\n",
      "\n",
      "====> 2024-11-23 14:21:54.017731 | EXECUTANDO FOLD 4 \n",
      "Fitting 3 folds for each of 12 candidates, totalling 36 fits\n",
      "===> 2024-11-23 14:38:10.478867 | FINALIZADO FOLD 4 | TEMPO TOTAL 0:16:16.461136\n",
      "\n",
      "\n",
      "====> 2024-11-23 14:38:10.479825 | EXECUTANDO FOLD 5 \n",
      "Fitting 3 folds for each of 12 candidates, totalling 36 fits\n",
      "===> 2024-11-23 14:53:38.363325 | FINALIZADO FOLD 5 | TEMPO TOTAL 0:15:27.883500\n",
      "\n",
      "\n",
      "Resultados na validação cruzada: {'f1': 0.9014470394355939, 'accuracy': 0.9022853695012907, 'precision': 0.9094478263244479, 'recall': 0.9022853713857689}\n",
      "Resultados na base de teste: {'f1': 0.4921528548414204, 'accuracy': 0.7839064161644808, 'precision': 0.6981275275163993, 'recall': 0.527972736978754}\n",
      "Melhores parâmetros escolhidos: {'max_features': 10, 'n_estimators': 700}\n"
     ]
    }
   ],
   "source": [
    "param_grid_categorical = {\n",
    "    \"n_estimators\": [500, 700, 1000],\n",
    "    \"max_features\": [\"sqrt\", \"log2\", 10, None],\n",
    "}\n",
    "\n",
    "# Executar a função e obter os melhores parâmetros\n",
    "results_validation, results_test, best_params, results_list_rf_rf_smote = (\n",
    "    run_cross_validation(\n",
    "        df_train_smote[filtro_random_forest],\n",
    "        df_train_smote[\"RainTomorrow\"],\n",
    "        df_test_smote[filtro_random_forest],\n",
    "        df_test_smote[\"RainTomorrow\"],\n",
    "        RandomForestClassifier(n_jobs=-1, random_state=42, max_depth=None),\n",
    "        param_grid_categorical,\n",
    "        k_folds=5,\n",
    "    )\n",
    ")\n",
    "\n",
    "print(\"Resultados na validação cruzada:\", results_validation)\n",
    "print(\"Resultados na base de teste:\", results_test)\n",
    "print(\"Melhores parâmetros escolhidos:\", best_params)"
   ]
  },
  {
   "cell_type": "code",
   "execution_count": 90,
   "metadata": {},
   "outputs": [],
   "source": [
    "results_list_rf_rf_smote.to_csv(\n",
    "    \"../../DATA/RESULTS/results_list_rf_rf_smote.csv\", sep=\"|\", index=False\n",
    ")"
   ]
  },
  {
   "cell_type": "markdown",
   "metadata": {},
   "source": [
    "##### LIBERA MEMÓRIA"
   ]
  },
  {
   "cell_type": "code",
   "execution_count": 91,
   "metadata": {},
   "outputs": [
    {
     "data": {
      "text/plain": [
       "446"
      ]
     },
     "execution_count": 91,
     "metadata": {},
     "output_type": "execute_result"
    }
   ],
   "source": [
    "del results_list_rf_rf_smote, results_list_rf_rf_full, results_list_rf_rf_under\n",
    "gc.collect()"
   ]
  },
  {
   "cell_type": "markdown",
   "metadata": {},
   "source": [
    "### SVM"
   ]
  },
  {
   "cell_type": "markdown",
   "metadata": {},
   "source": [
    "#### TODAS AS CARACTERÍSTICAS"
   ]
  },
  {
   "cell_type": "markdown",
   "metadata": {},
   "source": [
    "##### UNDERSAMPLING"
   ]
  },
  {
   "cell_type": "code",
   "execution_count": 78,
   "metadata": {},
   "outputs": [
    {
     "name": "stdout",
     "output_type": "stream",
     "text": [
      "====> INICIANDO PROCESSAMENTO: 2024-11-23 20:09:37.862286 <====\n",
      "====> 2024-11-23 20:09:37.866295 | EXECUTANDO FOLD 1 \n",
      "Fitting 3 folds for each of 8 candidates, totalling 24 fits\n",
      "===> 2024-11-23 20:14:47.296921 | FINALIZADO FOLD 1 | TEMPO TOTAL 0:05:09.430626\n",
      "\n",
      "\n",
      "====> 2024-11-23 20:14:47.296921 | EXECUTANDO FOLD 2 \n",
      "Fitting 3 folds for each of 8 candidates, totalling 24 fits\n",
      "===> 2024-11-23 20:19:52.040552 | FINALIZADO FOLD 2 | TEMPO TOTAL 0:05:04.743631\n",
      "\n",
      "\n",
      "====> 2024-11-23 20:19:52.041553 | EXECUTANDO FOLD 3 \n",
      "Fitting 3 folds for each of 8 candidates, totalling 24 fits\n",
      "===> 2024-11-23 20:25:02.820559 | FINALIZADO FOLD 3 | TEMPO TOTAL 0:05:10.779006\n",
      "\n",
      "\n",
      "====> 2024-11-23 20:25:02.821577 | EXECUTANDO FOLD 4 \n",
      "Fitting 3 folds for each of 8 candidates, totalling 24 fits\n",
      "===> 2024-11-23 20:30:10.959380 | FINALIZADO FOLD 4 | TEMPO TOTAL 0:05:08.137803\n",
      "\n",
      "\n",
      "====> 2024-11-23 20:30:10.960380 | EXECUTANDO FOLD 5 \n",
      "Fitting 3 folds for each of 8 candidates, totalling 24 fits\n",
      "===> 2024-11-23 20:35:23.226740 | FINALIZADO FOLD 5 | TEMPO TOTAL 0:05:12.266360\n",
      "\n",
      "\n",
      "Resultados na validação cruzada: {'f1': 0.808109214493497, 'accuracy': 0.8081375099983863, 'precision': 0.8083180557396223, 'recall': 0.8081374622799643}\n",
      "Resultados na base de teste: {'f1': 0.4381317532241199, 'accuracy': 0.7797766749379652, 'precision': 0.3898883374689826, 'recall': 0.5}\n",
      "Melhores parâmetros escolhidos: {'C': 10, 'gamma': 0.01, 'kernel': 'rbf'}\n"
     ]
    }
   ],
   "source": [
    "param_grid_categorical = {\n",
    "    \"C\": [10, 100],\n",
    "    \"kernel\": [\"rbf\", \"linear\"],\n",
    "    \"gamma\": [0.01, 0.1],\n",
    "}\n",
    "\n",
    "# Executar a função e obter os melhores parâmetros\n",
    "results_validation, results_test, best_params, results_list_svm_under = (\n",
    "    run_cross_validation(\n",
    "        df_train_under.drop(columns=[\"RainTomorrow\"]),\n",
    "        df_train_under[\"RainTomorrow\"],\n",
    "        df_test_under.drop(columns=[\"RainTomorrow\"]),\n",
    "        df_test_under[\"RainTomorrow\"],\n",
    "        SVC(random_state=42),\n",
    "        param_grid_categorical,\n",
    "        k_folds=5,\n",
    "    )\n",
    ")\n",
    "\n",
    "print(\"Resultados na validação cruzada:\", results_validation)\n",
    "print(\"Resultados na base de teste:\", results_test)\n",
    "print(\"Melhores parâmetros escolhidos:\", best_params)"
   ]
  },
  {
   "cell_type": "code",
   "execution_count": 79,
   "metadata": {},
   "outputs": [],
   "source": [
    "results_list_svm_under.to_csv(\n",
    "    \"../../DATA/RESULTS/results_list_svm_under.csv\", sep=\"|\", index=False\n",
    ")"
   ]
  },
  {
   "cell_type": "markdown",
   "metadata": {},
   "source": [
    "##### SEM BALANCEAMENTO"
   ]
  },
  {
   "cell_type": "code",
   "execution_count": 80,
   "metadata": {},
   "outputs": [
    {
     "name": "stdout",
     "output_type": "stream",
     "text": [
      "====> INICIANDO PROCESSAMENTO: 2024-11-23 20:35:23.263897 <====\n",
      "====> 2024-11-23 20:35:23.273404 | EXECUTANDO FOLD 1 \n",
      "Fitting 3 folds for each of 8 candidates, totalling 24 fits\n",
      "===> 2024-11-23 21:39:58.019291 | FINALIZADO FOLD 1 | TEMPO TOTAL 1:04:34.745887\n",
      "\n",
      "\n",
      "====> 2024-11-23 21:39:58.019291 | EXECUTANDO FOLD 2 \n",
      "Fitting 3 folds for each of 8 candidates, totalling 24 fits\n",
      "===> 2024-11-23 22:49:57.704445 | FINALIZADO FOLD 2 | TEMPO TOTAL 1:09:59.685154\n",
      "\n",
      "\n",
      "====> 2024-11-23 22:49:57.704445 | EXECUTANDO FOLD 3 \n",
      "Fitting 3 folds for each of 8 candidates, totalling 24 fits\n",
      "===> 2024-11-23 23:58:23.340977 | FINALIZADO FOLD 3 | TEMPO TOTAL 1:08:25.636532\n",
      "\n",
      "\n",
      "====> 2024-11-23 23:58:23.340977 | EXECUTANDO FOLD 4 \n",
      "Fitting 3 folds for each of 8 candidates, totalling 24 fits\n",
      "===> 2024-11-24 01:04:01.106793 | FINALIZADO FOLD 4 | TEMPO TOTAL 1:05:37.765816\n",
      "\n",
      "\n",
      "====> 2024-11-24 01:04:01.106793 | EXECUTANDO FOLD 5 \n",
      "Fitting 3 folds for each of 8 candidates, totalling 24 fits\n",
      "===> 2024-11-24 02:11:24.686125 | FINALIZADO FOLD 5 | TEMPO TOTAL 1:07:23.579332\n",
      "\n",
      "\n",
      "Resultados na validação cruzada: {'f1': 0.7689945546120557, 'accuracy': 0.8541963117686766, 'precision': 0.8010334994148611, 'recall': 0.7489919840141603}\n",
      "Resultados na base de teste: {'f1': 0.7620076534870279, 'accuracy': 0.8514533853243531, 'precision': 0.7987516924490001, 'recall': 0.7401832474560971}\n",
      "Melhores parâmetros escolhidos: {'C': 100, 'gamma': 0.01, 'kernel': 'rbf'}\n"
     ]
    }
   ],
   "source": [
    "param_grid_categorical = {\n",
    "    \"C\": [10, 100],\n",
    "    \"kernel\": [\"rbf\", \"linear\"],\n",
    "    \"gamma\": [0.01, 0.1],\n",
    "}\n",
    "\n",
    "# Executar a função e obter os melhores parâmetros\n",
    "results_validation, results_test, best_params, results_list_svm_full = (\n",
    "    run_cross_validation(\n",
    "        df_train_full.drop(columns=[\"RainTomorrow\"]),\n",
    "        df_train_full[\"RainTomorrow\"],\n",
    "        df_test_full.drop(columns=[\"RainTomorrow\"]),\n",
    "        df_test_full[\"RainTomorrow\"],\n",
    "        SVC(random_state=42),\n",
    "        param_grid_categorical,\n",
    "        k_folds=5,\n",
    "    )\n",
    ")\n",
    "\n",
    "print(\"Resultados na validação cruzada:\", results_validation)\n",
    "print(\"Resultados na base de teste:\", results_test)\n",
    "print(\"Melhores parâmetros escolhidos:\", best_params)"
   ]
  },
  {
   "cell_type": "code",
   "execution_count": 81,
   "metadata": {},
   "outputs": [],
   "source": [
    "results_list_svm_full.to_csv(\n",
    "    \"../../DATA/RESULTS/results_list_svm_full.csv\", sep=\"|\", index=False\n",
    ")"
   ]
  },
  {
   "cell_type": "markdown",
   "metadata": {},
   "source": [
    "##### OVERSAMPLING"
   ]
  },
  {
   "cell_type": "code",
   "execution_count": 82,
   "metadata": {},
   "outputs": [
    {
     "name": "stdout",
     "output_type": "stream",
     "text": [
      "====> INICIANDO PROCESSAMENTO: 2024-11-24 02:11:24.792522 <====\n",
      "====> 2024-11-24 02:11:24.803741 | EXECUTANDO FOLD 1 \n",
      "Fitting 3 folds for each of 8 candidates, totalling 24 fits\n",
      "===> 2024-11-24 03:10:32.703776 | FINALIZADO FOLD 1 | TEMPO TOTAL 0:59:07.900035\n",
      "\n",
      "\n",
      "====> 2024-11-24 03:10:32.704757 | EXECUTANDO FOLD 2 \n",
      "Fitting 3 folds for each of 8 candidates, totalling 24 fits\n",
      "===> 2024-11-24 05:13:23.647742 | FINALIZADO FOLD 2 | TEMPO TOTAL 2:02:50.942985\n",
      "\n",
      "\n",
      "====> 2024-11-24 05:13:23.648741 | EXECUTANDO FOLD 3 \n",
      "Fitting 3 folds for each of 8 candidates, totalling 24 fits\n",
      "===> 2024-11-24 07:44:03.132253 | FINALIZADO FOLD 3 | TEMPO TOTAL 2:30:39.483512\n",
      "\n",
      "\n",
      "====> 2024-11-24 07:44:03.132253 | EXECUTANDO FOLD 4 \n",
      "Fitting 3 folds for each of 8 candidates, totalling 24 fits\n",
      "===> 2024-11-24 10:27:24.627655 | FINALIZADO FOLD 4 | TEMPO TOTAL 2:43:21.495402\n",
      "\n",
      "\n",
      "====> 2024-11-24 10:27:24.627655 | EXECUTANDO FOLD 5 \n",
      "Fitting 3 folds for each of 8 candidates, totalling 24 fits\n",
      "===> 2024-11-24 13:00:46.406310 | FINALIZADO FOLD 5 | TEMPO TOTAL 2:33:21.778655\n",
      "\n",
      "\n",
      "Resultados na validação cruzada: {'f1': 0.8825175522329317, 'accuracy': 0.8863743918625548, 'precision': 0.9025448657628552, 'recall': 0.886374367532395}\n",
      "Resultados na base de teste: {'f1': 0.4381317532241199, 'accuracy': 0.7797766749379652, 'precision': 0.3898883374689826, 'recall': 0.5}\n",
      "Melhores parâmetros escolhidos: {'C': 10, 'gamma': 0.1, 'kernel': 'rbf'}\n"
     ]
    }
   ],
   "source": [
    "param_grid_categorical = {\n",
    "    \"C\": [10, 100],\n",
    "    \"kernel\": [\"rbf\", \"linear\"],\n",
    "    \"gamma\": [0.01, 0.1],\n",
    "}\n",
    "\n",
    "# Executar a função e obter os melhores parâmetros\n",
    "results_validation, results_test, best_params, results_list_svm_smote = (\n",
    "    run_cross_validation(\n",
    "        df_train_smote.drop(columns=[\"RainTomorrow\"]),\n",
    "        df_train_smote[\"RainTomorrow\"],\n",
    "        df_test_smote.drop(columns=[\"RainTomorrow\"]),\n",
    "        df_test_smote[\"RainTomorrow\"],\n",
    "        SVC(random_state=42),\n",
    "        param_grid_categorical,\n",
    "        k_folds=5,\n",
    "    )\n",
    ")\n",
    "\n",
    "print(\"Resultados na validação cruzada:\", results_validation)\n",
    "print(\"Resultados na base de teste:\", results_test)\n",
    "print(\"Melhores parâmetros escolhidos:\", best_params)"
   ]
  },
  {
   "cell_type": "code",
   "execution_count": 83,
   "metadata": {},
   "outputs": [],
   "source": [
    "results_list_svm_smote.to_csv(\n",
    "    \"../../DATA/RESULTS/results_list_svm_smote.csv\", sep=\"|\", index=False\n",
    ")"
   ]
  },
  {
   "cell_type": "markdown",
   "metadata": {},
   "source": [
    "##### LIBERA MEMÓRIA"
   ]
  },
  {
   "cell_type": "code",
   "execution_count": 84,
   "metadata": {},
   "outputs": [
    {
     "data": {
      "text/plain": [
       "78"
      ]
     },
     "execution_count": 84,
     "metadata": {},
     "output_type": "execute_result"
    }
   ],
   "source": [
    "del results_list_svm_smote, results_list_svm_under, results_list_svm_full\n",
    "gc.collect()"
   ]
  },
  {
   "cell_type": "markdown",
   "metadata": {},
   "source": [
    "#### PCA"
   ]
  },
  {
   "cell_type": "markdown",
   "metadata": {},
   "source": [
    "##### UNDERSAMPLING"
   ]
  },
  {
   "cell_type": "code",
   "execution_count": 85,
   "metadata": {},
   "outputs": [
    {
     "name": "stdout",
     "output_type": "stream",
     "text": [
      "====> INICIANDO PROCESSAMENTO: 2024-11-24 13:00:46.915264 <====\n",
      "====> 2024-11-24 13:00:46.917460 | EXECUTANDO FOLD 1 \n",
      "Fitting 3 folds for each of 8 candidates, totalling 24 fits\n",
      "===> 2024-11-24 13:01:45.933449 | FINALIZADO FOLD 1 | TEMPO TOTAL 0:00:59.015989\n",
      "\n",
      "\n",
      "====> 2024-11-24 13:01:45.933449 | EXECUTANDO FOLD 2 \n",
      "Fitting 3 folds for each of 8 candidates, totalling 24 fits\n",
      "===> 2024-11-24 13:02:36.559061 | FINALIZADO FOLD 2 | TEMPO TOTAL 0:00:50.625612\n",
      "\n",
      "\n",
      "====> 2024-11-24 13:02:36.560673 | EXECUTANDO FOLD 3 \n",
      "Fitting 3 folds for each of 8 candidates, totalling 24 fits\n",
      "===> 2024-11-24 13:03:27.085294 | FINALIZADO FOLD 3 | TEMPO TOTAL 0:00:50.524621\n",
      "\n",
      "\n",
      "====> 2024-11-24 13:03:27.085845 | EXECUTANDO FOLD 4 \n",
      "Fitting 3 folds for each of 8 candidates, totalling 24 fits\n",
      "===> 2024-11-24 13:04:22.768547 | FINALIZADO FOLD 4 | TEMPO TOTAL 0:00:55.682702\n",
      "\n",
      "\n",
      "====> 2024-11-24 13:04:22.768547 | EXECUTANDO FOLD 5 \n",
      "Fitting 3 folds for each of 8 candidates, totalling 24 fits\n",
      "===> 2024-11-24 13:05:20.172025 | FINALIZADO FOLD 5 | TEMPO TOTAL 0:00:57.403478\n",
      "\n",
      "\n",
      "Resultados na validação cruzada: {'f1': 0.7976127648681137, 'accuracy': 0.7976264172917819, 'precision': 0.7977064464175351, 'recall': 0.7976254206991571}\n",
      "Resultados na base de teste: {'f1': 0.3350702059761598, 'accuracy': 0.555955334987593, 'precision': 0.2779776674937965, 'recall': 0.5}\n",
      "Melhores parâmetros escolhidos: {'C': 10, 'gamma': 0.1, 'kernel': 'rbf'}\n"
     ]
    }
   ],
   "source": [
    "param_grid_categorical = {\n",
    "    \"C\": [10, 100],\n",
    "    \"kernel\": [\"rbf\", \"linear\"],\n",
    "    \"gamma\": [0.01, 0.1],\n",
    "}\n",
    "\n",
    "# Executar a função e obter os melhores parâmetros\n",
    "results_validation, results_test, best_params, results_list_svm_pca_under = (\n",
    "    run_cross_validation(\n",
    "        df_train_under_pca.drop(columns=[\"RainTomorrow\"]),\n",
    "        df_train_under_pca[\"RainTomorrow\"],\n",
    "        df_test_under_pca.drop(columns=[\"RainTomorrow\"]),\n",
    "        df_test_under_pca[\"RainTomorrow\"],\n",
    "        SVC(random_state=42),\n",
    "        param_grid_categorical,\n",
    "        k_folds=5,\n",
    "    )\n",
    ")\n",
    "\n",
    "print(\"Resultados na validação cruzada:\", results_validation)\n",
    "print(\"Resultados na base de teste:\", results_test)\n",
    "print(\"Melhores parâmetros escolhidos:\", best_params)"
   ]
  },
  {
   "cell_type": "code",
   "execution_count": 86,
   "metadata": {},
   "outputs": [],
   "source": [
    "results_list_svm_pca_under.to_csv(\n",
    "    \"../../DATA/RESULTS/results_list_svm_pca_under.csv\", sep=\"|\", index=False\n",
    ")"
   ]
  },
  {
   "cell_type": "markdown",
   "metadata": {},
   "source": [
    "##### SEM BALANCEAMENTO"
   ]
  },
  {
   "cell_type": "code",
   "execution_count": 87,
   "metadata": {},
   "outputs": [
    {
     "name": "stdout",
     "output_type": "stream",
     "text": [
      "====> INICIANDO PROCESSAMENTO: 2024-11-24 13:05:20.210267 <====\n",
      "====> 2024-11-24 13:05:20.221722 | EXECUTANDO FOLD 1 \n",
      "Fitting 3 folds for each of 8 candidates, totalling 24 fits\n",
      "===> 2024-11-24 13:08:09.559817 | FINALIZADO FOLD 1 | TEMPO TOTAL 0:02:49.338095\n",
      "\n",
      "\n",
      "====> 2024-11-24 13:08:09.559817 | EXECUTANDO FOLD 2 \n",
      "Fitting 3 folds for each of 8 candidates, totalling 24 fits\n",
      "===> 2024-11-24 13:10:54.486215 | FINALIZADO FOLD 2 | TEMPO TOTAL 0:02:44.926398\n",
      "\n",
      "\n",
      "====> 2024-11-24 13:10:54.486215 | EXECUTANDO FOLD 3 \n",
      "Fitting 3 folds for each of 8 candidates, totalling 24 fits\n",
      "===> 2024-11-24 13:13:36.803498 | FINALIZADO FOLD 3 | TEMPO TOTAL 0:02:42.317283\n",
      "\n",
      "\n",
      "====> 2024-11-24 13:13:36.804460 | EXECUTANDO FOLD 4 \n",
      "Fitting 3 folds for each of 8 candidates, totalling 24 fits\n",
      "===> 2024-11-24 13:16:22.537722 | FINALIZADO FOLD 4 | TEMPO TOTAL 0:02:45.733262\n",
      "\n",
      "\n",
      "====> 2024-11-24 13:16:22.537831 | EXECUTANDO FOLD 5 \n",
      "Fitting 3 folds for each of 8 candidates, totalling 24 fits\n",
      "===> 2024-11-24 13:19:06.740982 | FINALIZADO FOLD 5 | TEMPO TOTAL 0:02:44.203151\n",
      "\n",
      "\n",
      "Resultados na validação cruzada: {'f1': 0.7544529626386962, 'accuracy': 0.85089505028949, 'precision': 0.8024192757530748, 'recall': 0.7282221058227618}\n",
      "Resultados na base de teste: {'f1': 0.75785566474899, 'accuracy': 0.853048564338887, 'precision': 0.8066311761636108, 'recall': 0.7311281851810945}\n",
      "Melhores parâmetros escolhidos: {'C': 100, 'gamma': 0.01, 'kernel': 'linear'}\n"
     ]
    }
   ],
   "source": [
    "param_grid_categorical = {\n",
    "    \"C\": [10, 100],\n",
    "    \"kernel\": [\"rbf\", \"linear\"],\n",
    "    \"gamma\": [0.01, 0.1],\n",
    "}\n",
    "\n",
    "# Executar a função e obter os melhores parâmetros\n",
    "results_validation, results_test, best_params, results_list_svm_pca_full = (\n",
    "    run_cross_validation(\n",
    "        df_train_full_pca.drop(columns=[\"RainTomorrow\"]),\n",
    "        df_train_full_pca[\"RainTomorrow\"],\n",
    "        df_test_full_pca.drop(columns=[\"RainTomorrow\"]),\n",
    "        df_test_full_pca[\"RainTomorrow\"],\n",
    "        SVC(random_state=42),\n",
    "        param_grid_categorical,\n",
    "        k_folds=5,\n",
    "    )\n",
    ")\n",
    "\n",
    "print(\"Resultados na validação cruzada:\", results_validation)\n",
    "print(\"Resultados na base de teste:\", results_test)\n",
    "print(\"Melhores parâmetros escolhidos:\", best_params)"
   ]
  },
  {
   "cell_type": "code",
   "execution_count": 88,
   "metadata": {},
   "outputs": [],
   "source": [
    "results_list_svm_pca_full.to_csv(\n",
    "    \"../../DATA/RESULTS/results_list_svm_pca_full.csv\", sep=\"|\", index=False\n",
    ")"
   ]
  },
  {
   "cell_type": "markdown",
   "metadata": {},
   "source": [
    "##### OVERSAMPLING"
   ]
  },
  {
   "cell_type": "code",
   "execution_count": 89,
   "metadata": {},
   "outputs": [
    {
     "name": "stdout",
     "output_type": "stream",
     "text": [
      "====> INICIANDO PROCESSAMENTO: 2024-11-24 13:19:06.780223 <====\n",
      "====> 2024-11-24 13:19:06.792744 | EXECUTANDO FOLD 1 \n",
      "Fitting 3 folds for each of 8 candidates, totalling 24 fits\n",
      "===> 2024-11-24 13:34:32.126481 | FINALIZADO FOLD 1 | TEMPO TOTAL 0:15:25.333737\n",
      "\n",
      "\n",
      "====> 2024-11-24 13:34:32.128445 | EXECUTANDO FOLD 2 \n",
      "Fitting 3 folds for each of 8 candidates, totalling 24 fits\n",
      "===> 2024-11-24 13:51:02.283230 | FINALIZADO FOLD 2 | TEMPO TOTAL 0:16:30.154785\n",
      "\n",
      "\n",
      "====> 2024-11-24 13:51:02.283732 | EXECUTANDO FOLD 3 \n",
      "Fitting 3 folds for each of 8 candidates, totalling 24 fits\n",
      "===> 2024-11-24 14:07:34.810435 | FINALIZADO FOLD 3 | TEMPO TOTAL 0:16:32.526703\n",
      "\n",
      "\n",
      "====> 2024-11-24 14:07:34.810435 | EXECUTANDO FOLD 4 \n",
      "Fitting 3 folds for each of 8 candidates, totalling 24 fits\n",
      "===> 2024-11-24 14:24:08.546598 | FINALIZADO FOLD 4 | TEMPO TOTAL 0:16:33.736163\n",
      "\n",
      "\n",
      "====> 2024-11-24 14:24:08.547602 | EXECUTANDO FOLD 5 \n",
      "Fitting 3 folds for each of 8 candidates, totalling 24 fits\n",
      "===> 2024-11-24 14:41:05.129407 | FINALIZADO FOLD 5 | TEMPO TOTAL 0:16:56.581805\n",
      "\n",
      "\n",
      "Resultados na validação cruzada: {'f1': 0.8178499530146098, 'accuracy': 0.8178667552720787, 'precision': 0.8179863864115404, 'recall': 0.8178667256406589}\n",
      "Resultados na base de teste: {'f1': 0.4381317532241199, 'accuracy': 0.7797766749379652, 'precision': 0.3898883374689826, 'recall': 0.5}\n",
      "Melhores parâmetros escolhidos: {'C': 100, 'gamma': 0.1, 'kernel': 'rbf'}\n"
     ]
    }
   ],
   "source": [
    "param_grid_categorical = {\n",
    "    \"C\": [10, 100],\n",
    "    \"kernel\": [\"rbf\", \"linear\"],\n",
    "    \"gamma\": [0.01, 0.1],\n",
    "}\n",
    "\n",
    "# Executar a função e obter os melhores parâmetros\n",
    "results_validation, results_test, best_params, results_list_svm_pca_smote = (\n",
    "    run_cross_validation(\n",
    "        df_train_smote_pca.drop(columns=[\"RainTomorrow\"]),\n",
    "        df_train_smote_pca[\"RainTomorrow\"],\n",
    "        df_test_smote_pca.drop(columns=[\"RainTomorrow\"]),\n",
    "        df_test_smote_pca[\"RainTomorrow\"],\n",
    "        SVC(random_state=42),\n",
    "        param_grid_categorical,\n",
    "        k_folds=5,\n",
    "    )\n",
    ")\n",
    "\n",
    "print(\"Resultados na validação cruzada:\", results_validation)\n",
    "print(\"Resultados na base de teste:\", results_test)\n",
    "print(\"Melhores parâmetros escolhidos:\", best_params)"
   ]
  },
  {
   "cell_type": "code",
   "execution_count": 90,
   "metadata": {},
   "outputs": [],
   "source": [
    "results_list_svm_pca_smote.to_csv(\n",
    "    \"../../DATA/RESULTS/results_list_svm_pca_smote.csv\", sep=\"|\", index=False\n",
    ")"
   ]
  },
  {
   "cell_type": "markdown",
   "metadata": {},
   "source": [
    "##### LIBERA MEMÓRIA"
   ]
  },
  {
   "cell_type": "code",
   "execution_count": 91,
   "metadata": {},
   "outputs": [
    {
     "data": {
      "text/plain": [
       "26"
      ]
     },
     "execution_count": 91,
     "metadata": {},
     "output_type": "execute_result"
    }
   ],
   "source": [
    "del results_list_svm_pca_smote, results_list_svm_pca_under, results_list_svm_pca_full\n",
    "gc.collect()"
   ]
  },
  {
   "cell_type": "markdown",
   "metadata": {},
   "source": [
    "#### CORRELAÇÃO"
   ]
  },
  {
   "cell_type": "markdown",
   "metadata": {},
   "source": [
    "##### UNDERSAMPLING"
   ]
  },
  {
   "cell_type": "code",
   "execution_count": 37,
   "metadata": {},
   "outputs": [
    {
     "name": "stdout",
     "output_type": "stream",
     "text": [
      "====> INICIANDO PROCESSAMENTO: 2024-11-24 17:42:57.450548 <====\n",
      "====> 2024-11-24 17:42:57.454554 | EXECUTANDO FOLD 1 \n",
      "Fitting 3 folds for each of 8 candidates, totalling 24 fits\n",
      "===> 2024-11-24 17:44:30.898215 | FINALIZADO FOLD 1 | TEMPO TOTAL 0:01:33.443661\n",
      "\n",
      "\n",
      "====> 2024-11-24 17:44:30.899315 | EXECUTANDO FOLD 2 \n",
      "Fitting 3 folds for each of 8 candidates, totalling 24 fits\n",
      "===> 2024-11-24 17:46:06.227864 | FINALIZADO FOLD 2 | TEMPO TOTAL 0:01:35.328549\n",
      "\n",
      "\n",
      "====> 2024-11-24 17:46:06.228880 | EXECUTANDO FOLD 3 \n",
      "Fitting 3 folds for each of 8 candidates, totalling 24 fits\n",
      "===> 2024-11-24 17:47:38.809709 | FINALIZADO FOLD 3 | TEMPO TOTAL 0:01:32.580829\n",
      "\n",
      "\n",
      "====> 2024-11-24 17:47:38.810708 | EXECUTANDO FOLD 4 \n",
      "Fitting 3 folds for each of 8 candidates, totalling 24 fits\n",
      "===> 2024-11-24 17:49:07.837890 | FINALIZADO FOLD 4 | TEMPO TOTAL 0:01:29.027182\n",
      "\n",
      "\n",
      "====> 2024-11-24 17:49:07.837890 | EXECUTANDO FOLD 5 \n",
      "Fitting 3 folds for each of 8 candidates, totalling 24 fits\n",
      "===> 2024-11-24 17:50:55.936104 | FINALIZADO FOLD 5 | TEMPO TOTAL 0:01:48.098214\n",
      "\n",
      "\n",
      "Resultados na validação cruzada: {'f1': 0.7573760688720922, 'accuracy': 0.7579468513368366, 'precision': 0.7603509660931971, 'recall': 0.7579463457466773}\n",
      "Resultados na base de teste: {'f1': 0.4381317532241199, 'accuracy': 0.7797766749379652, 'precision': 0.3898883374689826, 'recall': 0.5}\n",
      "Melhores parâmetros escolhidos: {'C': 10, 'gamma': 0.01, 'kernel': 'rbf'}\n"
     ]
    }
   ],
   "source": [
    "param_grid_categorical = {\n",
    "    \"C\": [10, 100],\n",
    "    \"kernel\": [\"rbf\", \"linear\"],\n",
    "    \"gamma\": [0.01, 0.1],\n",
    "}\n",
    "\n",
    "# Executar a função e obter os melhores parâmetros\n",
    "results_validation, results_test, best_params, results_list_svm_corr_under = (\n",
    "    run_cross_validation(\n",
    "        df_train_under[filtro_correlacao],\n",
    "        df_train_under[\"RainTomorrow\"],\n",
    "        df_test_under[filtro_correlacao],\n",
    "        df_test_under[\"RainTomorrow\"],\n",
    "        SVC(random_state=42),\n",
    "        param_grid_categorical,\n",
    "        k_folds=5,\n",
    "    )\n",
    ")\n",
    "\n",
    "print(\"Resultados na validação cruzada:\", results_validation)\n",
    "print(\"Resultados na base de teste:\", results_test)\n",
    "print(\"Melhores parâmetros escolhidos:\", best_params)"
   ]
  },
  {
   "cell_type": "code",
   "execution_count": 38,
   "metadata": {},
   "outputs": [],
   "source": [
    "results_list_svm_corr_under.to_csv(\n",
    "    \"../../DATA/RESULTS/results_list_svm_corr_under.csv\", sep=\"|\", index=False\n",
    ")"
   ]
  },
  {
   "cell_type": "markdown",
   "metadata": {},
   "source": [
    "##### SEM BALANCEAMENTO"
   ]
  },
  {
   "cell_type": "code",
   "execution_count": 34,
   "metadata": {},
   "outputs": [
    {
     "name": "stdout",
     "output_type": "stream",
     "text": [
      "====> INICIANDO PROCESSAMENTO: 2024-11-24 20:44:52.663327 <====\n",
      "====> 2024-11-24 20:44:52.676990 | EXECUTANDO FOLD 1 \n",
      "Fitting 3 folds for each of 8 candidates, totalling 24 fits\n",
      "===> 2024-11-24 23:38:02.879473 | FINALIZADO FOLD 1 | TEMPO TOTAL 2:53:10.202483\n",
      "\n",
      "\n",
      "====> 2024-11-24 23:38:02.881394 | EXECUTANDO FOLD 2 \n",
      "Fitting 3 folds for each of 8 candidates, totalling 24 fits\n",
      "===> 2024-11-25 02:41:59.130160 | FINALIZADO FOLD 2 | TEMPO TOTAL 3:03:56.248766\n",
      "\n",
      "\n",
      "====> 2024-11-25 02:41:59.130160 | EXECUTANDO FOLD 3 \n",
      "Fitting 3 folds for each of 8 candidates, totalling 24 fits\n",
      "===> 2024-11-25 04:06:35.958569 | FINALIZADO FOLD 3 | TEMPO TOTAL 1:24:36.828409\n",
      "\n",
      "\n",
      "====> 2024-11-25 04:06:35.958569 | EXECUTANDO FOLD 4 \n",
      "Fitting 3 folds for each of 8 candidates, totalling 24 fits\n",
      "===> 2024-11-25 06:57:07.075623 | FINALIZADO FOLD 4 | TEMPO TOTAL 2:50:31.117054\n",
      "\n",
      "\n",
      "====> 2024-11-25 06:57:07.076123 | EXECUTANDO FOLD 5 \n",
      "Fitting 3 folds for each of 8 candidates, totalling 24 fits\n",
      "===> 2024-11-25 08:09:42.299960 | FINALIZADO FOLD 5 | TEMPO TOTAL 1:12:35.223837\n",
      "\n",
      "\n",
      "Resultados na validação cruzada: {'f1': 0.7039429224892659, 'accuracy': 0.8325726385064763, 'precision': 0.7836324446083154, 'recall': 0.6751194509079749}\n",
      "Resultados na base de teste: {'f1': 0.7028423938726359, 'accuracy': 0.8308755760368663, 'precision': 0.777694911096156, 'recall': 0.6748953226118845}\n",
      "Melhores parâmetros escolhidos: {'C': 100, 'gamma': 0.01, 'kernel': 'linear'}\n"
     ]
    }
   ],
   "source": [
    "param_grid_categorical = {\n",
    "    \"C\": [10, 100],\n",
    "    \"kernel\": [\"rbf\", \"linear\"],\n",
    "    \"gamma\": [0.01, 0.1],\n",
    "}\n",
    "\n",
    "# Executar a função e obter os melhores parâmetros\n",
    "results_validation, results_test, best_params, results_list_svm_corr_full = (\n",
    "    run_cross_validation(\n",
    "        df_train_full[filtro_correlacao],\n",
    "        df_train_full[\"RainTomorrow\"],\n",
    "        df_test_full[filtro_correlacao],\n",
    "        df_test_full[\"RainTomorrow\"],\n",
    "        SVC(random_state=42),\n",
    "        param_grid_categorical,\n",
    "        k_folds=5,\n",
    "    )\n",
    ")\n",
    "\n",
    "print(\"Resultados na validação cruzada:\", results_validation)\n",
    "print(\"Resultados na base de teste:\", results_test)\n",
    "print(\"Melhores parâmetros escolhidos:\", best_params)"
   ]
  },
  {
   "cell_type": "code",
   "execution_count": 35,
   "metadata": {},
   "outputs": [],
   "source": [
    "results_list_svm_corr_full.to_csv(\n",
    "    \"../../DATA/RESULTS/results_list_svm_corr_full.csv\", sep=\"|\", index=False\n",
    ")"
   ]
  },
  {
   "cell_type": "markdown",
   "metadata": {},
   "source": [
    "##### OVERSAMPLING"
   ]
  },
  {
   "cell_type": "code",
   "execution_count": 36,
   "metadata": {},
   "outputs": [
    {
     "name": "stdout",
     "output_type": "stream",
     "text": [
      "====> INICIANDO PROCESSAMENTO: 2024-11-25 08:09:42.388970 <====\n",
      "====> 2024-11-25 08:09:42.403966 | EXECUTANDO FOLD 1 \n",
      "Fitting 3 folds for each of 8 candidates, totalling 24 fits\n",
      "===> 2024-11-25 08:22:59.101950 | FINALIZADO FOLD 1 | TEMPO TOTAL 0:13:16.697984\n",
      "\n",
      "\n",
      "====> 2024-11-25 08:22:59.101950 | EXECUTANDO FOLD 2 \n",
      "Fitting 3 folds for each of 8 candidates, totalling 24 fits\n",
      "===> 2024-11-25 08:36:45.335582 | FINALIZADO FOLD 2 | TEMPO TOTAL 0:13:46.233632\n",
      "\n",
      "\n",
      "====> 2024-11-25 08:36:45.335582 | EXECUTANDO FOLD 3 \n",
      "Fitting 3 folds for each of 8 candidates, totalling 24 fits\n",
      "===> 2024-11-25 08:50:37.829167 | FINALIZADO FOLD 3 | TEMPO TOTAL 0:13:52.493585\n",
      "\n",
      "\n",
      "====> 2024-11-25 08:50:37.829167 | EXECUTANDO FOLD 4 \n",
      "Fitting 3 folds for each of 8 candidates, totalling 24 fits\n",
      "===> 2024-11-25 09:04:34.245218 | FINALIZADO FOLD 4 | TEMPO TOTAL 0:13:56.416051\n",
      "\n",
      "\n",
      "====> 2024-11-25 09:04:34.245218 | EXECUTANDO FOLD 5 \n",
      "Fitting 3 folds for each of 8 candidates, totalling 24 fits\n",
      "===> 2024-11-25 09:18:35.888146 | FINALIZADO FOLD 5 | TEMPO TOTAL 0:14:01.642928\n",
      "\n",
      "\n",
      "Resultados na validação cruzada: {'f1': 0.772351855270857, 'accuracy': 0.7730296259982149, 'precision': 0.7763796636347415, 'recall': 0.7730296104103307}\n",
      "Resultados na base de teste: {'f1': 0.4381317532241199, 'accuracy': 0.7797766749379652, 'precision': 0.3898883374689826, 'recall': 0.5}\n",
      "Melhores parâmetros escolhidos: {'C': 100, 'gamma': 0.1, 'kernel': 'rbf'}\n"
     ]
    }
   ],
   "source": [
    "param_grid_categorical = {\n",
    "    \"C\": [10, 100],\n",
    "    \"kernel\": [\"rbf\", \"linear\"],\n",
    "    \"gamma\": [0.01, 0.1],\n",
    "}\n",
    "\n",
    "# Executar a função e obter os melhores parâmetros\n",
    "results_validation, results_test, best_params, results_list_svm_corr_smote = (\n",
    "    run_cross_validation(\n",
    "        df_train_smote[filtro_correlacao],\n",
    "        df_train_smote[\"RainTomorrow\"],\n",
    "        df_test_smote[filtro_correlacao],\n",
    "        df_test_smote[\"RainTomorrow\"],\n",
    "        SVC(random_state=42),\n",
    "        param_grid_categorical,\n",
    "        k_folds=5,\n",
    "    )\n",
    ")\n",
    "\n",
    "print(\"Resultados na validação cruzada:\", results_validation)\n",
    "print(\"Resultados na base de teste:\", results_test)\n",
    "print(\"Melhores parâmetros escolhidos:\", best_params)"
   ]
  },
  {
   "cell_type": "code",
   "execution_count": 37,
   "metadata": {},
   "outputs": [],
   "source": [
    "results_list_svm_corr_smote.to_csv(\n",
    "    \"../../DATA/RESULTS/results_list_svm_corr_smote.csv\", sep=\"|\", index=False\n",
    ")"
   ]
  },
  {
   "cell_type": "markdown",
   "metadata": {},
   "source": [
    "##### LIBERA MEMÓRIA"
   ]
  },
  {
   "cell_type": "code",
   "execution_count": null,
   "metadata": {},
   "outputs": [],
   "source": [
    "del results_list_svm_corr_smote, results_list_svm_corr_full, results_list_svm_corr_under\n",
    "gc.collect()"
   ]
  },
  {
   "cell_type": "markdown",
   "metadata": {},
   "source": [
    "#### RANDOM FOREST - FEATURE IMPORTANCE"
   ]
  },
  {
   "cell_type": "markdown",
   "metadata": {},
   "source": [
    "##### UNDERSAMPLING"
   ]
  },
  {
   "cell_type": "code",
   "execution_count": 40,
   "metadata": {},
   "outputs": [
    {
     "name": "stdout",
     "output_type": "stream",
     "text": [
      "====> INICIANDO PROCESSAMENTO: 2024-11-24 18:29:29.394547 <====\n",
      "====> 2024-11-24 18:29:29.399608 | EXECUTANDO FOLD 1 \n",
      "Fitting 3 folds for each of 8 candidates, totalling 24 fits\n",
      "===> 2024-11-24 18:32:55.290291 | FINALIZADO FOLD 1 | TEMPO TOTAL 0:03:25.890683\n",
      "\n",
      "\n",
      "====> 2024-11-24 18:32:55.291314 | EXECUTANDO FOLD 2 \n",
      "Fitting 3 folds for each of 8 candidates, totalling 24 fits\n",
      "===> 2024-11-24 18:36:00.246119 | FINALIZADO FOLD 2 | TEMPO TOTAL 0:03:04.954805\n",
      "\n",
      "\n",
      "====> 2024-11-24 18:36:00.247104 | EXECUTANDO FOLD 3 \n",
      "Fitting 3 folds for each of 8 candidates, totalling 24 fits\n",
      "===> 2024-11-24 18:38:55.674744 | FINALIZADO FOLD 3 | TEMPO TOTAL 0:02:55.427640\n",
      "\n",
      "\n",
      "====> 2024-11-24 18:38:55.675283 | EXECUTANDO FOLD 4 \n",
      "Fitting 3 folds for each of 8 candidates, totalling 24 fits\n",
      "===> 2024-11-24 18:41:59.224165 | FINALIZADO FOLD 4 | TEMPO TOTAL 0:03:03.548882\n",
      "\n",
      "\n",
      "====> 2024-11-24 18:41:59.224739 | EXECUTANDO FOLD 5 \n",
      "Fitting 3 folds for each of 8 candidates, totalling 24 fits\n",
      "===> 2024-11-24 18:44:55.395694 | FINALIZADO FOLD 5 | TEMPO TOTAL 0:02:56.170955\n",
      "\n",
      "\n",
      "Resultados na validação cruzada: {'f1': 0.8062537936213859, 'accuracy': 0.8062768109790248, 'precision': 0.8064219006833497, 'recall': 0.8062770792679658}\n",
      "Resultados na base de teste: {'f1': 0.4381317532241199, 'accuracy': 0.7797766749379652, 'precision': 0.3898883374689826, 'recall': 0.5}\n",
      "Melhores parâmetros escolhidos: {'C': 100, 'gamma': 0.01, 'kernel': 'rbf'}\n"
     ]
    }
   ],
   "source": [
    "param_grid_categorical = {\n",
    "    \"C\": [10, 100],\n",
    "    \"kernel\": [\"rbf\", \"linear\"],\n",
    "    \"gamma\": [0.01, 0.1],\n",
    "}\n",
    "\n",
    "# Executar a função e obter os melhores parâmetros\n",
    "results_validation, results_test, best_params, results_list_svm_rf_under = (\n",
    "    run_cross_validation(\n",
    "        df_train_under[filtro_random_forest],\n",
    "        df_train_under[\"RainTomorrow\"],\n",
    "        df_test_under[filtro_random_forest],\n",
    "        df_test_under[\"RainTomorrow\"],\n",
    "        SVC(random_state=42),\n",
    "        param_grid_categorical,\n",
    "        k_folds=5,\n",
    "    )\n",
    ")\n",
    "\n",
    "print(\"Resultados na validação cruzada:\", results_validation)\n",
    "print(\"Resultados na base de teste:\", results_test)\n",
    "print(\"Melhores parâmetros escolhidos:\", best_params)"
   ]
  },
  {
   "cell_type": "code",
   "execution_count": 41,
   "metadata": {},
   "outputs": [],
   "source": [
    "results_list_svm_rf_under.to_csv(\n",
    "    \"../../DATA/RESULTS/results_list_svm_rf_under.csv\", sep=\"|\", index=False\n",
    ")"
   ]
  },
  {
   "cell_type": "markdown",
   "metadata": {},
   "source": [
    "##### SEM BALANCEAMENTO"
   ]
  },
  {
   "cell_type": "code",
   "execution_count": 38,
   "metadata": {},
   "outputs": [
    {
     "name": "stdout",
     "output_type": "stream",
     "text": [
      "====> INICIANDO PROCESSAMENTO: 2024-11-25 09:18:35.940454 <====\n",
      "====> 2024-11-25 09:18:35.951192 | EXECUTANDO FOLD 1 \n",
      "Fitting 3 folds for each of 8 candidates, totalling 24 fits\n",
      "===> 2024-11-25 09:33:15.146768 | FINALIZADO FOLD 1 | TEMPO TOTAL 0:14:39.195576\n",
      "\n",
      "\n",
      "====> 2024-11-25 09:33:15.146768 | EXECUTANDO FOLD 2 \n",
      "Fitting 3 folds for each of 8 candidates, totalling 24 fits\n",
      "===> 2024-11-25 09:47:50.671285 | FINALIZADO FOLD 2 | TEMPO TOTAL 0:14:35.524517\n",
      "\n",
      "\n",
      "====> 2024-11-25 09:47:50.671285 | EXECUTANDO FOLD 3 \n",
      "Fitting 3 folds for each of 8 candidates, totalling 24 fits\n",
      "===> 2024-11-25 10:02:29.261540 | FINALIZADO FOLD 3 | TEMPO TOTAL 0:14:38.590255\n",
      "\n",
      "\n",
      "====> 2024-11-25 10:02:29.262537 | EXECUTANDO FOLD 4 \n",
      "Fitting 3 folds for each of 8 candidates, totalling 24 fits\n",
      "===> 2024-11-25 10:17:21.976350 | FINALIZADO FOLD 4 | TEMPO TOTAL 0:14:52.713813\n",
      "\n",
      "\n",
      "====> 2024-11-25 10:17:21.977361 | EXECUTANDO FOLD 5 \n",
      "Fitting 3 folds for each of 8 candidates, totalling 24 fits\n",
      "===> 2024-11-25 10:32:21.022796 | FINALIZADO FOLD 5 | TEMPO TOTAL 0:14:59.045435\n",
      "\n",
      "\n",
      "Resultados na validação cruzada: {'f1': 0.7642971199450559, 'accuracy': 0.8568769225234256, 'precision': 0.8139683758135348, 'recall': 0.7369292643121897}\n",
      "Resultados na base de teste: {'f1': 0.7628416759028076, 'accuracy': 0.8572137539879476, 'precision': 0.8170824709285684, 'recall': 0.7340877084303754}\n",
      "Melhores parâmetros escolhidos: {'C': 10, 'gamma': 0.1, 'kernel': 'rbf'}\n"
     ]
    }
   ],
   "source": [
    "param_grid_categorical = {\n",
    "    \"C\": [10, 100],\n",
    "    \"kernel\": [\"rbf\", \"linear\"],\n",
    "    \"gamma\": [0.01, 0.1],\n",
    "}\n",
    "\n",
    "# Executar a função e obter os melhores parâmetros\n",
    "results_validation, results_test, best_params, results_list_svm_rf_full = (\n",
    "    run_cross_validation(\n",
    "        df_train_full[filtro_random_forest],\n",
    "        df_train_full[\"RainTomorrow\"],\n",
    "        df_test_full[filtro_random_forest],\n",
    "        df_test_full[\"RainTomorrow\"],\n",
    "        SVC(random_state=42),\n",
    "        param_grid_categorical,\n",
    "        k_folds=5,\n",
    "    )\n",
    ")\n",
    "\n",
    "print(\"Resultados na validação cruzada:\", results_validation)\n",
    "print(\"Resultados na base de teste:\", results_test)\n",
    "print(\"Melhores parâmetros escolhidos:\", best_params)"
   ]
  },
  {
   "cell_type": "code",
   "execution_count": 39,
   "metadata": {},
   "outputs": [],
   "source": [
    "results_list_svm_rf_full.to_csv(\n",
    "    \"../../DATA/RESULTS/results_list_svm_rf_full.csv\", sep=\"|\", index=False\n",
    ")"
   ]
  },
  {
   "cell_type": "markdown",
   "metadata": {},
   "source": [
    "##### OVERSAMPLING"
   ]
  },
  {
   "cell_type": "code",
   "execution_count": 34,
   "metadata": {},
   "outputs": [
    {
     "name": "stdout",
     "output_type": "stream",
     "text": [
      "====> INICIANDO PROCESSAMENTO: 2024-11-25 18:16:48.558043 <====\n",
      "====> 2024-11-25 18:16:48.574123 | EXECUTANDO FOLD 1 \n",
      "Fitting 3 folds for each of 8 candidates, totalling 24 fits\n",
      "===> 2024-11-25 19:20:12.462904 | FINALIZADO FOLD 1 | TEMPO TOTAL 1:03:23.888781\n",
      "\n",
      "\n",
      "====> 2024-11-25 19:20:12.463950 | EXECUTANDO FOLD 2 \n",
      "Fitting 3 folds for each of 8 candidates, totalling 24 fits\n",
      "===> 2024-11-25 20:26:17.743330 | FINALIZADO FOLD 2 | TEMPO TOTAL 1:06:05.279380\n",
      "\n",
      "\n",
      "====> 2024-11-25 20:26:17.744292 | EXECUTANDO FOLD 3 \n",
      "Fitting 3 folds for each of 8 candidates, totalling 24 fits\n",
      "===> 2024-11-25 21:36:54.909887 | FINALIZADO FOLD 3 | TEMPO TOTAL 1:10:37.165595\n",
      "\n",
      "\n",
      "====> 2024-11-25 21:36:54.910878 | EXECUTANDO FOLD 4 \n",
      "Fitting 3 folds for each of 8 candidates, totalling 24 fits\n",
      "===> 2024-11-25 22:44:06.742668 | FINALIZADO FOLD 4 | TEMPO TOTAL 1:07:11.831790\n",
      "\n",
      "\n",
      "====> 2024-11-25 22:44:06.743634 | EXECUTANDO FOLD 5 \n",
      "Fitting 3 folds for each of 8 candidates, totalling 24 fits\n",
      "===> 2024-11-25 23:51:03.544238 | FINALIZADO FOLD 5 | TEMPO TOTAL 1:06:56.800604\n",
      "\n",
      "\n",
      "Resultados na validação cruzada: {'f1': 0.8680996817835618, 'accuracy': 0.8683159251882391, 'precision': 0.870987336601537, 'recall': 0.8683159400831022}\n",
      "Resultados na base de teste: {'f1': 0.4381317532241199, 'accuracy': 0.7797766749379652, 'precision': 0.3898883374689826, 'recall': 0.5}\n",
      "Melhores parâmetros escolhidos: {'C': 100, 'gamma': 0.1, 'kernel': 'rbf'}\n"
     ]
    }
   ],
   "source": [
    "param_grid_categorical = {\n",
    "    \"C\": [10, 100],\n",
    "    \"kernel\": [\"rbf\", \"linear\"],\n",
    "    \"gamma\": [0.01, 0.1],\n",
    "}\n",
    "\n",
    "# Executar a função e obter os melhores parâmetros\n",
    "results_validation, results_test, best_params, results_list_svm_rf_smote = (\n",
    "    run_cross_validation(\n",
    "        df_train_smote[filtro_random_forest],\n",
    "        df_train_smote[\"RainTomorrow\"],\n",
    "        df_test_smote[filtro_random_forest],\n",
    "        df_test_smote[\"RainTomorrow\"],\n",
    "        SVC(random_state=42),\n",
    "        param_grid_categorical,\n",
    "        k_folds=5,\n",
    "    )\n",
    ")\n",
    "\n",
    "print(\"Resultados na validação cruzada:\", results_validation)\n",
    "print(\"Resultados na base de teste:\", results_test)\n",
    "print(\"Melhores parâmetros escolhidos:\", best_params)"
   ]
  },
  {
   "cell_type": "code",
   "execution_count": 35,
   "metadata": {},
   "outputs": [],
   "source": [
    "results_list_svm_rf_smote.to_csv(\n",
    "    \"../../DATA/RESULTS/results_list_svm_rf_smote.csv\", sep=\"|\", index=False\n",
    ")"
   ]
  },
  {
   "cell_type": "markdown",
   "metadata": {},
   "source": [
    "##### LIBERA MEMÓRIA"
   ]
  },
  {
   "cell_type": "code",
   "execution_count": null,
   "metadata": {},
   "outputs": [],
   "source": [
    "del results_list_svm_rf_smote, results_list_svm_rf_full, results_list_svm_rf_under\n",
    "gc.collect()"
   ]
  },
  {
   "cell_type": "markdown",
   "metadata": {},
   "source": [
    "### MLP"
   ]
  },
  {
   "cell_type": "markdown",
   "metadata": {},
   "source": [
    "#### TODAS AS CARACTERÍSTICAS"
   ]
  },
  {
   "cell_type": "markdown",
   "metadata": {},
   "source": [
    "##### UNDERSAMPLING"
   ]
  },
  {
   "cell_type": "code",
   "execution_count": 50,
   "metadata": {},
   "outputs": [
    {
     "name": "stdout",
     "output_type": "stream",
     "text": [
      "====> INICIANDO PROCESSAMENTO: 2024-11-23 19:13:23.080195 <====\n",
      "====> 2024-11-23 19:13:23.083233 | EXECUTANDO FOLD 1 \n",
      "Fitting 3 folds for each of 24 candidates, totalling 72 fits\n",
      "===> 2024-11-23 19:14:24.287887 | FINALIZADO FOLD 1 | TEMPO TOTAL 0:01:01.204654\n",
      "\n",
      "\n",
      "====> 2024-11-23 19:14:24.287887 | EXECUTANDO FOLD 2 \n",
      "Fitting 3 folds for each of 24 candidates, totalling 72 fits\n",
      "===> 2024-11-23 19:15:14.253135 | FINALIZADO FOLD 2 | TEMPO TOTAL 0:00:49.965248\n",
      "\n",
      "\n",
      "====> 2024-11-23 19:15:14.254639 | EXECUTANDO FOLD 3 \n",
      "Fitting 3 folds for each of 24 candidates, totalling 72 fits\n",
      "===> 2024-11-23 19:16:04.946751 | FINALIZADO FOLD 3 | TEMPO TOTAL 0:00:50.692112\n",
      "\n",
      "\n",
      "====> 2024-11-23 19:16:04.947804 | EXECUTANDO FOLD 4 \n",
      "Fitting 3 folds for each of 24 candidates, totalling 72 fits\n",
      "===> 2024-11-23 19:17:03.385763 | FINALIZADO FOLD 4 | TEMPO TOTAL 0:00:58.437959\n",
      "\n",
      "\n",
      "====> 2024-11-23 19:17:03.386801 | EXECUTANDO FOLD 5 \n",
      "Fitting 3 folds for each of 24 candidates, totalling 72 fits\n",
      "===> 2024-11-23 19:17:56.909801 | FINALIZADO FOLD 5 | TEMPO TOTAL 0:00:53.523000\n",
      "\n",
      "\n",
      "Resultados na validação cruzada: {'f1': 0.7964169021843365, 'accuracy': 0.7969724937505344, 'precision': 0.8002870215848372, 'recall': 0.7969726352079294}\n",
      "Resultados na base de teste: {'f1': 0.18047788510421964, 'accuracy': 0.22022332506203474, 'precision': 0.11011166253101737, 'recall': 0.5}\n",
      "Melhores parâmetros escolhidos: {'activation': 'relu', 'hidden_layer_sizes': 5, 'learning_rate_init': 0.05}\n"
     ]
    }
   ],
   "source": [
    "param_grid_categorical = {\n",
    "    \"hidden_layer_sizes\": [5, 10, 15],\n",
    "    \"activation\": [\"logistic\", \"relu\"],\n",
    "    \"learning_rate_init\": [0.001, 0.01, 0.05, 0.1],\n",
    "}\n",
    "\n",
    "# Executar a função e obter os melhores parâmetros\n",
    "results_validation, results_test, best_params, results_list_mlp_under = (\n",
    "    run_cross_validation(\n",
    "        df_train_under.drop(columns=[\"RainTomorrow\"]),\n",
    "        df_train_under[\"RainTomorrow\"],\n",
    "        df_test_under.drop(columns=[\"RainTomorrow\"]),\n",
    "        df_test_under[\"RainTomorrow\"],\n",
    "        MLPClassifier(random_state=42),\n",
    "        param_grid_categorical,\n",
    "        k_folds=5,\n",
    "    )\n",
    ")\n",
    "\n",
    "print(\"Resultados na validação cruzada:\", results_validation)\n",
    "print(\"Resultados na base de teste:\", results_test)\n",
    "print(\"Melhores parâmetros escolhidos:\", best_params)"
   ]
  },
  {
   "cell_type": "code",
   "execution_count": 51,
   "metadata": {},
   "outputs": [],
   "source": [
    "results_list_mlp_under.to_csv(\n",
    "    \"../../DATA/RESULTS/results_list_mlp_under.csv\", sep=\"|\", index=False\n",
    ")"
   ]
  },
  {
   "cell_type": "markdown",
   "metadata": {},
   "source": [
    "##### SEM BALANCEAMENTO"
   ]
  },
  {
   "cell_type": "code",
   "execution_count": 52,
   "metadata": {},
   "outputs": [
    {
     "name": "stdout",
     "output_type": "stream",
     "text": [
      "====> INICIANDO PROCESSAMENTO: 2024-11-23 19:17:56.947052 <====\n",
      "====> 2024-11-23 19:17:56.954718 | EXECUTANDO FOLD 1 \n",
      "Fitting 3 folds for each of 24 candidates, totalling 72 fits\n",
      "===> 2024-11-23 19:19:53.533429 | FINALIZADO FOLD 1 | TEMPO TOTAL 0:01:56.578711\n",
      "\n",
      "\n",
      "====> 2024-11-23 19:19:53.533429 | EXECUTANDO FOLD 2 \n",
      "Fitting 3 folds for each of 24 candidates, totalling 72 fits\n",
      "===> 2024-11-23 19:21:54.891139 | FINALIZADO FOLD 2 | TEMPO TOTAL 0:02:01.357710\n",
      "\n",
      "\n",
      "====> 2024-11-23 19:21:54.891139 | EXECUTANDO FOLD 3 \n",
      "Fitting 3 folds for each of 24 candidates, totalling 72 fits\n",
      "===> 2024-11-23 19:23:47.733852 | FINALIZADO FOLD 3 | TEMPO TOTAL 0:01:52.842713\n",
      "\n",
      "\n",
      "====> 2024-11-23 19:23:47.734832 | EXECUTANDO FOLD 4 \n",
      "Fitting 3 folds for each of 24 candidates, totalling 72 fits\n",
      "===> 2024-11-23 19:25:39.584858 | FINALIZADO FOLD 4 | TEMPO TOTAL 0:01:51.850026\n",
      "\n",
      "\n",
      "====> 2024-11-23 19:25:39.584858 | EXECUTANDO FOLD 5 \n",
      "Fitting 3 folds for each of 24 candidates, totalling 72 fits\n",
      "===> 2024-11-23 19:27:39.190927 | FINALIZADO FOLD 5 | TEMPO TOTAL 0:01:59.606069\n",
      "\n",
      "\n",
      "Resultados na validação cruzada: {'f1': 0.7736682644869187, 'accuracy': 0.8571427866746829, 'precision': 0.8046686133068561, 'recall': 0.7531209004795378}\n",
      "Resultados na base de teste: {'f1': 0.7692398732152765, 'accuracy': 0.8548564338886919, 'precision': 0.8013242965788614, 'recall': 0.7483427534178819}\n",
      "Melhores parâmetros escolhidos: {'activation': 'logistic', 'hidden_layer_sizes': 15, 'learning_rate_init': 0.001}\n"
     ]
    }
   ],
   "source": [
    "param_grid_categorical = {\n",
    "    \"hidden_layer_sizes\": [5, 10, 15],\n",
    "    \"activation\": [\"logistic\", \"relu\"],\n",
    "    \"learning_rate_init\": [0.001, 0.01, 0.05, 0.1],\n",
    "}\n",
    "\n",
    "# Executar a função e obter os melhores parâmetros\n",
    "results_validation, results_test, best_params, results_list_mlp_full = (\n",
    "    run_cross_validation(\n",
    "        df_train_full.drop(columns=[\"RainTomorrow\"]),\n",
    "        df_train_full[\"RainTomorrow\"],\n",
    "        df_test_full.drop(columns=[\"RainTomorrow\"]),\n",
    "        df_test_full[\"RainTomorrow\"],\n",
    "        MLPClassifier(random_state=42),\n",
    "        param_grid_categorical,\n",
    "        k_folds=5,\n",
    "    )\n",
    ")\n",
    "\n",
    "print(\"Resultados na validação cruzada:\", results_validation)\n",
    "print(\"Resultados na base de teste:\", results_test)\n",
    "print(\"Melhores parâmetros escolhidos:\", best_params)"
   ]
  },
  {
   "cell_type": "code",
   "execution_count": 53,
   "metadata": {},
   "outputs": [],
   "source": [
    "results_list_mlp_full.to_csv(\n",
    "    \"../../DATA/RESULTS/results_list_mlp_full.csv\", sep=\"|\", index=False\n",
    ")"
   ]
  },
  {
   "cell_type": "markdown",
   "metadata": {},
   "source": [
    "##### OVERSAMPLING"
   ]
  },
  {
   "cell_type": "code",
   "execution_count": 54,
   "metadata": {},
   "outputs": [
    {
     "name": "stdout",
     "output_type": "stream",
     "text": [
      "====> INICIANDO PROCESSAMENTO: 2024-11-23 19:27:39.238780 <====\n",
      "====> 2024-11-23 19:27:39.250313 | EXECUTANDO FOLD 1 \n",
      "Fitting 3 folds for each of 24 candidates, totalling 72 fits\n",
      "===> 2024-11-23 19:30:11.251392 | FINALIZADO FOLD 1 | TEMPO TOTAL 0:02:32.001079\n",
      "\n",
      "\n",
      "====> 2024-11-23 19:30:11.252347 | EXECUTANDO FOLD 2 \n",
      "Fitting 3 folds for each of 24 candidates, totalling 72 fits\n",
      "===> 2024-11-23 19:32:31.834326 | FINALIZADO FOLD 2 | TEMPO TOTAL 0:02:20.581979\n",
      "\n",
      "\n",
      "====> 2024-11-23 19:32:31.834326 | EXECUTANDO FOLD 3 \n",
      "Fitting 3 folds for each of 24 candidates, totalling 72 fits\n",
      "===> 2024-11-23 19:34:47.403034 | FINALIZADO FOLD 3 | TEMPO TOTAL 0:02:15.568708\n",
      "\n",
      "\n",
      "====> 2024-11-23 19:34:47.403034 | EXECUTANDO FOLD 4 \n",
      "Fitting 3 folds for each of 24 candidates, totalling 72 fits\n",
      "===> 2024-11-23 19:37:07.775053 | FINALIZADO FOLD 4 | TEMPO TOTAL 0:02:20.372019\n",
      "\n",
      "\n",
      "====> 2024-11-23 19:37:07.775053 | EXECUTANDO FOLD 5 \n",
      "Fitting 3 folds for each of 24 candidates, totalling 72 fits\n",
      "===> 2024-11-23 19:39:36.448018 | FINALIZADO FOLD 5 | TEMPO TOTAL 0:02:28.672965\n",
      "\n",
      "\n",
      "Resultados na validação cruzada: {'f1': 0.8595797107240133, 'accuracy': 0.8685166023580069, 'precision': 0.893738435431415, 'recall': 0.8685167415206013}\n",
      "Resultados na base de teste: {'f1': 0.2320086587281997, 'accuracy': 0.3321339950372208, 'precision': 0.1660669975186104, 'recall': 0.5}\n",
      "Melhores parâmetros escolhidos: {'activation': 'relu', 'hidden_layer_sizes': 15, 'learning_rate_init': 0.05}\n"
     ]
    }
   ],
   "source": [
    "param_grid_categorical = {\n",
    "    \"hidden_layer_sizes\": [5, 10, 15],\n",
    "    \"activation\": [\"logistic\", \"relu\"],\n",
    "    \"learning_rate_init\": [0.001, 0.01, 0.05, 0.1],\n",
    "}\n",
    "\n",
    "# Executar a função e obter os melhores parâmetros\n",
    "results_validation, results_test, best_params, results_list_mlp_smote = (\n",
    "    run_cross_validation(\n",
    "        df_train_smote.drop(columns=[\"RainTomorrow\"]),\n",
    "        df_train_smote[\"RainTomorrow\"],\n",
    "        df_test_smote.drop(columns=[\"RainTomorrow\"]),\n",
    "        df_test_smote[\"RainTomorrow\"],\n",
    "        MLPClassifier(random_state=42),\n",
    "        param_grid_categorical,\n",
    "        k_folds=5,\n",
    "    )\n",
    ")\n",
    "\n",
    "print(\"Resultados na validação cruzada:\", results_validation)\n",
    "print(\"Resultados na base de teste:\", results_test)\n",
    "print(\"Melhores parâmetros escolhidos:\", best_params)"
   ]
  },
  {
   "cell_type": "code",
   "execution_count": 55,
   "metadata": {},
   "outputs": [],
   "source": [
    "results_list_mlp_smote.to_csv(\n",
    "    \"../../DATA/RESULTS/results_list_mlp_smote.csv\", sep=\"|\", index=False\n",
    ")"
   ]
  },
  {
   "cell_type": "markdown",
   "metadata": {},
   "source": [
    "##### LIBERA MEMÓRIA"
   ]
  },
  {
   "cell_type": "code",
   "execution_count": 56,
   "metadata": {},
   "outputs": [
    {
     "data": {
      "text/plain": [
       "981"
      ]
     },
     "execution_count": 56,
     "metadata": {},
     "output_type": "execute_result"
    }
   ],
   "source": [
    "del results_list_mlp_smote, results_list_mlp_under, results_list_mlp_full\n",
    "gc.collect()"
   ]
  },
  {
   "cell_type": "markdown",
   "metadata": {},
   "source": [
    "#### PCA"
   ]
  },
  {
   "cell_type": "markdown",
   "metadata": {},
   "source": [
    "##### UNDERSAMPLING"
   ]
  },
  {
   "cell_type": "code",
   "execution_count": 57,
   "metadata": {},
   "outputs": [
    {
     "name": "stdout",
     "output_type": "stream",
     "text": [
      "====> INICIANDO PROCESSAMENTO: 2024-11-23 19:39:36.591353 <====\n",
      "====> 2024-11-23 19:39:36.594352 | EXECUTANDO FOLD 1 \n",
      "Fitting 3 folds for each of 24 candidates, totalling 72 fits\n"
     ]
    },
    {
     "name": "stdout",
     "output_type": "stream",
     "text": [
      "===> 2024-11-23 19:39:46.481149 | FINALIZADO FOLD 1 | TEMPO TOTAL 0:00:09.886797\n",
      "\n",
      "\n",
      "====> 2024-11-23 19:39:46.481149 | EXECUTANDO FOLD 2 \n",
      "Fitting 3 folds for each of 24 candidates, totalling 72 fits\n",
      "===> 2024-11-23 19:39:55.952476 | FINALIZADO FOLD 2 | TEMPO TOTAL 0:00:09.471327\n",
      "\n",
      "\n",
      "====> 2024-11-23 19:39:55.952476 | EXECUTANDO FOLD 3 \n",
      "Fitting 3 folds for each of 24 candidates, totalling 72 fits\n",
      "===> 2024-11-23 19:40:05.808987 | FINALIZADO FOLD 3 | TEMPO TOTAL 0:00:09.856511\n",
      "\n",
      "\n",
      "====> 2024-11-23 19:40:05.808987 | EXECUTANDO FOLD 4 \n",
      "Fitting 3 folds for each of 24 candidates, totalling 72 fits\n",
      "===> 2024-11-23 19:40:17.185589 | FINALIZADO FOLD 4 | TEMPO TOTAL 0:00:11.376602\n",
      "\n",
      "\n",
      "====> 2024-11-23 19:40:17.186587 | EXECUTANDO FOLD 5 \n",
      "Fitting 3 folds for each of 24 candidates, totalling 72 fits\n",
      "===> 2024-11-23 19:40:29.764080 | FINALIZADO FOLD 5 | TEMPO TOTAL 0:00:12.577493\n",
      "\n",
      "\n",
      "Resultados na validação cruzada: {'f1': 0.5641451591333341, 'accuracy': 0.6329757777239247, 'precision': 0.5401231696699631, 'recall': 0.6330238343080099}\n",
      "Resultados na base de teste: {'f1': 0.18047788510421964, 'accuracy': 0.22022332506203474, 'precision': 0.11011166253101737, 'recall': 0.5}\n",
      "Melhores parâmetros escolhidos: {'activation': 'relu', 'hidden_layer_sizes': 10, 'learning_rate_init': 0.001}\n"
     ]
    }
   ],
   "source": [
    "param_grid_categorical = {\n",
    "    \"hidden_layer_sizes\": [5, 10, 15],\n",
    "    \"activation\": [\"logistic\", \"relu\"],\n",
    "    \"learning_rate_init\": [0.001, 0.01, 0.05, 0.1],\n",
    "}\n",
    "\n",
    "# Executar a função e obter os melhores parâmetros\n",
    "results_validation, results_test, best_params, results_list_mlp_pca_under = (\n",
    "    run_cross_validation(\n",
    "        df_train_under_pca.drop(columns=[\"RainTomorrow\"]),\n",
    "        df_train_under_pca[\"RainTomorrow\"],\n",
    "        df_test_under_pca.drop(columns=[\"RainTomorrow\"]),\n",
    "        df_test_under_pca[\"RainTomorrow\"],\n",
    "        MLPClassifier(random_state=42),\n",
    "        param_grid_categorical,\n",
    "        k_folds=5,\n",
    "    )\n",
    ")\n",
    "\n",
    "print(\"Resultados na validação cruzada:\", results_validation)\n",
    "print(\"Resultados na base de teste:\", results_test)\n",
    "print(\"Melhores parâmetros escolhidos:\", best_params)"
   ]
  },
  {
   "cell_type": "code",
   "execution_count": 58,
   "metadata": {},
   "outputs": [],
   "source": [
    "results_list_mlp_pca_under.to_csv(\n",
    "    \"../../DATA/RESULTS/results_list_mlp_pca_under.csv\", sep=\"|\", index=False\n",
    ")"
   ]
  },
  {
   "cell_type": "markdown",
   "metadata": {},
   "source": [
    "##### SEM BALANCEAMENTO"
   ]
  },
  {
   "cell_type": "code",
   "execution_count": 59,
   "metadata": {},
   "outputs": [
    {
     "name": "stdout",
     "output_type": "stream",
     "text": [
      "====> INICIANDO PROCESSAMENTO: 2024-11-23 19:40:29.793015 <====\n",
      "====> 2024-11-23 19:40:29.800323 | EXECUTANDO FOLD 1 \n",
      "Fitting 3 folds for each of 24 candidates, totalling 72 fits\n",
      "===> 2024-11-23 19:41:05.603275 | FINALIZADO FOLD 1 | TEMPO TOTAL 0:00:35.802952\n",
      "\n",
      "\n",
      "====> 2024-11-23 19:41:05.603922 | EXECUTANDO FOLD 2 \n",
      "Fitting 3 folds for each of 24 candidates, totalling 72 fits\n",
      "===> 2024-11-23 19:41:35.974877 | FINALIZADO FOLD 2 | TEMPO TOTAL 0:00:30.370955\n",
      "\n",
      "\n",
      "====> 2024-11-23 19:41:35.975868 | EXECUTANDO FOLD 3 \n",
      "Fitting 3 folds for each of 24 candidates, totalling 72 fits\n",
      "===> 2024-11-23 19:42:07.658196 | FINALIZADO FOLD 3 | TEMPO TOTAL 0:00:31.682328\n",
      "\n",
      "\n",
      "====> 2024-11-23 19:42:07.658196 | EXECUTANDO FOLD 4 \n",
      "Fitting 3 folds for each of 24 candidates, totalling 72 fits\n",
      "===> 2024-11-23 19:42:43.474634 | FINALIZADO FOLD 4 | TEMPO TOTAL 0:00:35.816438\n",
      "\n",
      "\n",
      "====> 2024-11-23 19:42:43.475884 | EXECUTANDO FOLD 5 \n",
      "Fitting 3 folds for each of 24 candidates, totalling 72 fits\n",
      "===> 2024-11-23 19:43:13.218502 | FINALIZADO FOLD 5 | TEMPO TOTAL 0:00:29.742618\n",
      "\n",
      "\n",
      "Resultados na validação cruzada: {'f1': 0.696568651222473, 'accuracy': 0.828761735764498, 'precision': 0.7839424709603445, 'recall': 0.6791667718088629}\n",
      "Resultados na base de teste: {'f1': 0.6947149711686318, 'accuracy': 0.8287309464728819, 'precision': 0.7856590165585974, 'recall': 0.6769853488472601}\n",
      "Melhores parâmetros escolhidos: {'activation': 'relu', 'hidden_layer_sizes': 10, 'learning_rate_init': 0.001}\n"
     ]
    }
   ],
   "source": [
    "param_grid_categorical = {\n",
    "    \"hidden_layer_sizes\": [5, 10, 15],\n",
    "    \"activation\": [\"logistic\", \"relu\"],\n",
    "    \"learning_rate_init\": [0.001, 0.01, 0.05, 0.1],\n",
    "}\n",
    "\n",
    "# Executar a função e obter os melhores parâmetros\n",
    "results_validation, results_test, best_params, results_list_mlp_pca_full = (\n",
    "    run_cross_validation(\n",
    "        df_train_full_pca.drop(columns=[\"RainTomorrow\"]),\n",
    "        df_train_full_pca[\"RainTomorrow\"],\n",
    "        df_test_full_pca.drop(columns=[\"RainTomorrow\"]),\n",
    "        df_test_full_pca[\"RainTomorrow\"],\n",
    "        MLPClassifier(random_state=42),\n",
    "        param_grid_categorical,\n",
    "        k_folds=5,\n",
    "    )\n",
    ")\n",
    "\n",
    "print(\"Resultados na validação cruzada:\", results_validation)\n",
    "print(\"Resultados na base de teste:\", results_test)\n",
    "print(\"Melhores parâmetros escolhidos:\", best_params)"
   ]
  },
  {
   "cell_type": "code",
   "execution_count": 60,
   "metadata": {},
   "outputs": [],
   "source": [
    "results_list_mlp_pca_full.to_csv(\n",
    "    \"../../DATA/RESULTS/results_list_mlp_pca_full.csv\", sep=\"|\", index=False\n",
    ")"
   ]
  },
  {
   "cell_type": "markdown",
   "metadata": {},
   "source": [
    "##### OVERSAMPLING"
   ]
  },
  {
   "cell_type": "code",
   "execution_count": 61,
   "metadata": {},
   "outputs": [
    {
     "name": "stdout",
     "output_type": "stream",
     "text": [
      "====> INICIANDO PROCESSAMENTO: 2024-11-23 19:43:13.249750 <====\n",
      "====> 2024-11-23 19:43:13.261277 | EXECUTANDO FOLD 1 \n",
      "Fitting 3 folds for each of 24 candidates, totalling 72 fits\n",
      "===> 2024-11-23 19:43:58.610957 | FINALIZADO FOLD 1 | TEMPO TOTAL 0:00:45.349680\n",
      "\n",
      "\n",
      "====> 2024-11-23 19:43:58.611951 | EXECUTANDO FOLD 2 \n",
      "Fitting 3 folds for each of 24 candidates, totalling 72 fits\n",
      "===> 2024-11-23 19:44:40.715636 | FINALIZADO FOLD 2 | TEMPO TOTAL 0:00:42.103685\n",
      "\n",
      "\n",
      "====> 2024-11-23 19:44:40.716654 | EXECUTANDO FOLD 3 \n",
      "Fitting 3 folds for each of 24 candidates, totalling 72 fits\n",
      "===> 2024-11-23 19:45:20.708592 | FINALIZADO FOLD 3 | TEMPO TOTAL 0:00:39.991938\n",
      "\n",
      "\n",
      "====> 2024-11-23 19:45:20.709684 | EXECUTANDO FOLD 4 \n",
      "Fitting 3 folds for each of 24 candidates, totalling 72 fits\n",
      "===> 2024-11-23 19:46:06.844693 | FINALIZADO FOLD 4 | TEMPO TOTAL 0:00:46.135009\n",
      "\n",
      "\n",
      "====> 2024-11-23 19:46:06.844693 | EXECUTANDO FOLD 5 \n",
      "Fitting 3 folds for each of 24 candidates, totalling 72 fits\n",
      "===> 2024-11-23 19:46:49.031606 | FINALIZADO FOLD 5 | TEMPO TOTAL 0:00:42.186913\n",
      "\n",
      "\n",
      "Resultados na validação cruzada: {'f1': 0.6318697288396888, 'accuracy': 0.673152348221207, 'precision': 0.6473125673539413, 'recall': 0.6731422354752221}\n",
      "Resultados na base de teste: {'f1': 0.2320086587281997, 'accuracy': 0.33213399503722085, 'precision': 0.16606699751861043, 'recall': 0.5}\n",
      "Melhores parâmetros escolhidos: {'activation': 'relu', 'hidden_layer_sizes': 15, 'learning_rate_init': 0.01}\n"
     ]
    }
   ],
   "source": [
    "param_grid_categorical = {\n",
    "    \"hidden_layer_sizes\": [5, 10, 15],\n",
    "    \"activation\": [\"logistic\", \"relu\"],\n",
    "    \"learning_rate_init\": [0.001, 0.01, 0.05, 0.1],\n",
    "}\n",
    "\n",
    "# Executar a função e obter os melhores parâmetros\n",
    "results_validation, results_test, best_params, results_list_mlp_pca_smote = (\n",
    "    run_cross_validation(\n",
    "        df_train_smote_pca.drop(columns=[\"RainTomorrow\"]),\n",
    "        df_train_smote_pca[\"RainTomorrow\"],\n",
    "        df_test_smote_pca.drop(columns=[\"RainTomorrow\"]),\n",
    "        df_test_smote_pca[\"RainTomorrow\"],\n",
    "        MLPClassifier(random_state=42),\n",
    "        param_grid_categorical,\n",
    "        k_folds=5,\n",
    "    )\n",
    ")\n",
    "\n",
    "print(\"Resultados na validação cruzada:\", results_validation)\n",
    "print(\"Resultados na base de teste:\", results_test)\n",
    "print(\"Melhores parâmetros escolhidos:\", best_params)"
   ]
  },
  {
   "cell_type": "code",
   "execution_count": 62,
   "metadata": {},
   "outputs": [],
   "source": [
    "results_list_mlp_pca_smote.to_csv(\n",
    "    \"../../DATA/RESULTS/results_list_mlp_pca_smote.csv\", sep=\"|\", index=False\n",
    ")"
   ]
  },
  {
   "cell_type": "markdown",
   "metadata": {},
   "source": [
    "##### LIBERA MEMÓRIA"
   ]
  },
  {
   "cell_type": "code",
   "execution_count": 63,
   "metadata": {},
   "outputs": [
    {
     "data": {
      "text/plain": [
       "130"
      ]
     },
     "execution_count": 63,
     "metadata": {},
     "output_type": "execute_result"
    }
   ],
   "source": [
    "del results_list_mlp_pca_smote, results_list_mlp_pca_under, results_list_mlp_pca_full\n",
    "gc.collect()"
   ]
  },
  {
   "cell_type": "markdown",
   "metadata": {},
   "source": [
    "#### CORRELAÇÃO"
   ]
  },
  {
   "cell_type": "markdown",
   "metadata": {},
   "source": [
    "##### UNDERSAMPLING"
   ]
  },
  {
   "cell_type": "code",
   "execution_count": 64,
   "metadata": {},
   "outputs": [
    {
     "name": "stdout",
     "output_type": "stream",
     "text": [
      "====> INICIANDO PROCESSAMENTO: 2024-11-23 19:46:49.165538 <====\n",
      "====> 2024-11-23 19:46:49.170747 | EXECUTANDO FOLD 1 \n",
      "Fitting 3 folds for each of 24 candidates, totalling 72 fits\n"
     ]
    },
    {
     "name": "stdout",
     "output_type": "stream",
     "text": [
      "===> 2024-11-23 19:47:11.818836 | FINALIZADO FOLD 1 | TEMPO TOTAL 0:00:22.648089\n",
      "\n",
      "\n",
      "====> 2024-11-23 19:47:11.819836 | EXECUTANDO FOLD 2 \n",
      "Fitting 3 folds for each of 24 candidates, totalling 72 fits\n",
      "===> 2024-11-23 19:47:34.528907 | FINALIZADO FOLD 2 | TEMPO TOTAL 0:00:22.709071\n",
      "\n",
      "\n",
      "====> 2024-11-23 19:47:34.529910 | EXECUTANDO FOLD 3 \n",
      "Fitting 3 folds for each of 24 candidates, totalling 72 fits\n",
      "===> 2024-11-23 19:47:56.396729 | FINALIZADO FOLD 3 | TEMPO TOTAL 0:00:21.866819\n",
      "\n",
      "\n",
      "====> 2024-11-23 19:47:56.396729 | EXECUTANDO FOLD 4 \n",
      "Fitting 3 folds for each of 24 candidates, totalling 72 fits\n",
      "===> 2024-11-23 19:48:18.410731 | FINALIZADO FOLD 4 | TEMPO TOTAL 0:00:22.014002\n",
      "\n",
      "\n",
      "====> 2024-11-23 19:48:18.412331 | EXECUTANDO FOLD 5 \n",
      "Fitting 3 folds for each of 24 candidates, totalling 72 fits\n",
      "===> 2024-11-23 19:48:40.372807 | FINALIZADO FOLD 5 | TEMPO TOTAL 0:00:21.960476\n",
      "\n",
      "\n",
      "Resultados na validação cruzada: {'f1': 0.7576235356533327, 'accuracy': 0.7581981074275677, 'precision': 0.7606398146555641, 'recall': 0.7581958316009683}\n",
      "Resultados na base de teste: {'f1': 0.3350702059761598, 'accuracy': 0.555955334987593, 'precision': 0.2779776674937965, 'recall': 0.5}\n",
      "Melhores parâmetros escolhidos: {'activation': 'relu', 'hidden_layer_sizes': 10, 'learning_rate_init': 0.05}\n"
     ]
    }
   ],
   "source": [
    "param_grid_categorical = {\n",
    "    \"hidden_layer_sizes\": [5, 10, 15],\n",
    "    \"activation\": [\"logistic\", \"relu\"],\n",
    "    \"learning_rate_init\": [0.001, 0.01, 0.05, 0.1],\n",
    "}\n",
    "\n",
    "# Executar a função e obter os melhores parâmetros\n",
    "results_validation, results_test, best_params, results_list_mlp_corr_under = (\n",
    "    run_cross_validation(\n",
    "        df_train_under[filtro_correlacao],\n",
    "        df_train_under[\"RainTomorrow\"],\n",
    "        df_test_under[filtro_correlacao],\n",
    "        df_test_under[\"RainTomorrow\"],\n",
    "        MLPClassifier(random_state=42),\n",
    "        param_grid_categorical,\n",
    "        k_folds=5,\n",
    "    )\n",
    ")\n",
    "\n",
    "print(\"Resultados na validação cruzada:\", results_validation)\n",
    "print(\"Resultados na base de teste:\", results_test)\n",
    "print(\"Melhores parâmetros escolhidos:\", best_params)"
   ]
  },
  {
   "cell_type": "code",
   "execution_count": 65,
   "metadata": {},
   "outputs": [],
   "source": [
    "results_list_mlp_corr_under.to_csv(\n",
    "    \"../../DATA/RESULTS/results_list_mlp_corr_under.csv\", sep=\"|\", index=False\n",
    ")"
   ]
  },
  {
   "cell_type": "markdown",
   "metadata": {},
   "source": [
    "##### SEM BALANCEAMENTO"
   ]
  },
  {
   "cell_type": "code",
   "execution_count": 66,
   "metadata": {},
   "outputs": [
    {
     "name": "stdout",
     "output_type": "stream",
     "text": [
      "====> INICIANDO PROCESSAMENTO: 2024-11-23 19:48:40.404516 <====\n",
      "====> 2024-11-23 19:48:40.414335 | EXECUTANDO FOLD 1 \n",
      "Fitting 3 folds for each of 24 candidates, totalling 72 fits\n",
      "===> 2024-11-23 19:49:14.300195 | FINALIZADO FOLD 1 | TEMPO TOTAL 0:00:33.885860\n",
      "\n",
      "\n",
      "====> 2024-11-23 19:49:14.300195 | EXECUTANDO FOLD 2 \n",
      "Fitting 3 folds for each of 24 candidates, totalling 72 fits\n",
      "===> 2024-11-23 19:49:47.404807 | FINALIZADO FOLD 2 | TEMPO TOTAL 0:00:33.104612\n",
      "\n",
      "\n",
      "====> 2024-11-23 19:49:47.404807 | EXECUTANDO FOLD 3 \n",
      "Fitting 3 folds for each of 24 candidates, totalling 72 fits\n",
      "===> 2024-11-23 19:50:20.764267 | FINALIZADO FOLD 3 | TEMPO TOTAL 0:00:33.359460\n",
      "\n",
      "\n",
      "====> 2024-11-23 19:50:20.764267 | EXECUTANDO FOLD 4 \n",
      "Fitting 3 folds for each of 24 candidates, totalling 72 fits\n",
      "===> 2024-11-23 19:50:56.296135 | FINALIZADO FOLD 4 | TEMPO TOTAL 0:00:35.531868\n",
      "\n",
      "\n",
      "====> 2024-11-23 19:50:56.296135 | EXECUTANDO FOLD 5 \n",
      "Fitting 3 folds for each of 24 candidates, totalling 72 fits\n",
      "===> 2024-11-23 19:51:34.057431 | FINALIZADO FOLD 5 | TEMPO TOTAL 0:00:37.761296\n",
      "\n",
      "\n",
      "Resultados na validação cruzada: {'f1': 0.7080268586795309, 'accuracy': 0.8350318855867783, 'precision': 0.7910568243361846, 'recall': 0.6791849492260316}\n",
      "Resultados na base de teste: {'f1': 0.7058976564635275, 'accuracy': 0.8329493087557603, 'precision': 0.7842216377229828, 'recall': 0.6777843512947215}\n",
      "Melhores parâmetros escolhidos: {'activation': 'logistic', 'hidden_layer_sizes': 15, 'learning_rate_init': 0.05}\n"
     ]
    }
   ],
   "source": [
    "param_grid_categorical = {\n",
    "    \"hidden_layer_sizes\": [5, 10, 15],\n",
    "    \"activation\": [\"logistic\", \"relu\"],\n",
    "    \"learning_rate_init\": [0.001, 0.01, 0.05, 0.1],\n",
    "}\n",
    "\n",
    "# Executar a função e obter os melhores parâmetros\n",
    "results_validation, results_test, best_params, results_list_mlp_corr_full = (\n",
    "    run_cross_validation(\n",
    "        df_train_full[filtro_correlacao],\n",
    "        df_train_full[\"RainTomorrow\"],\n",
    "        df_test_full[filtro_correlacao],\n",
    "        df_test_full[\"RainTomorrow\"],\n",
    "        MLPClassifier(random_state=42),\n",
    "        param_grid_categorical,\n",
    "        k_folds=5,\n",
    "    )\n",
    ")\n",
    "\n",
    "print(\"Resultados na validação cruzada:\", results_validation)\n",
    "print(\"Resultados na base de teste:\", results_test)\n",
    "print(\"Melhores parâmetros escolhidos:\", best_params)"
   ]
  },
  {
   "cell_type": "code",
   "execution_count": 67,
   "metadata": {},
   "outputs": [],
   "source": [
    "results_list_mlp_corr_full.to_csv(\n",
    "    \"../../DATA/RESULTS/results_list_mlp_corr_full.csv\", sep=\"|\", index=False\n",
    ")"
   ]
  },
  {
   "cell_type": "markdown",
   "metadata": {},
   "source": [
    "##### OVERSAMPLING"
   ]
  },
  {
   "cell_type": "code",
   "execution_count": 68,
   "metadata": {},
   "outputs": [
    {
     "name": "stdout",
     "output_type": "stream",
     "text": [
      "====> INICIANDO PROCESSAMENTO: 2024-11-23 19:51:34.090099 <====\n",
      "====> 2024-11-23 19:51:34.104190 | EXECUTANDO FOLD 1 \n",
      "Fitting 3 folds for each of 24 candidates, totalling 72 fits\n",
      "===> 2024-11-23 19:52:37.862222 | FINALIZADO FOLD 1 | TEMPO TOTAL 0:01:03.758032\n",
      "\n",
      "\n",
      "====> 2024-11-23 19:52:37.863164 | EXECUTANDO FOLD 2 \n",
      "Fitting 3 folds for each of 24 candidates, totalling 72 fits\n",
      "===> 2024-11-23 19:53:35.411626 | FINALIZADO FOLD 2 | TEMPO TOTAL 0:00:57.548462\n",
      "\n",
      "\n",
      "====> 2024-11-23 19:53:35.412633 | EXECUTANDO FOLD 3 \n",
      "Fitting 3 folds for each of 24 candidates, totalling 72 fits\n",
      "===> 2024-11-23 19:54:31.561588 | FINALIZADO FOLD 3 | TEMPO TOTAL 0:00:56.148955\n",
      "\n",
      "\n",
      "====> 2024-11-23 19:54:31.561588 | EXECUTANDO FOLD 4 \n",
      "Fitting 3 folds for each of 24 candidates, totalling 72 fits\n",
      "===> 2024-11-23 19:55:23.119586 | FINALIZADO FOLD 4 | TEMPO TOTAL 0:00:51.557998\n",
      "\n",
      "\n",
      "====> 2024-11-23 19:55:23.119586 | EXECUTANDO FOLD 5 \n",
      "Fitting 3 folds for each of 24 candidates, totalling 72 fits\n",
      "===> 2024-11-23 19:56:17.382049 | FINALIZADO FOLD 5 | TEMPO TOTAL 0:00:54.262463\n",
      "\n",
      "\n",
      "Resultados na validação cruzada: {'f1': 0.7680126727827068, 'accuracy': 0.7687390864058488, 'precision': 0.7720626163204634, 'recall': 0.7687391051221504}\n",
      "Resultados na base de teste: {'f1': 0.4748721604419721, 'accuracy': 0.7851471109535625, 'precision': 0.460436051932884, 'recall': 0.5209716212949935}\n",
      "Melhores parâmetros escolhidos: {'activation': 'relu', 'hidden_layer_sizes': 5, 'learning_rate_init': 0.1}\n"
     ]
    }
   ],
   "source": [
    "param_grid_categorical = {\n",
    "    \"hidden_layer_sizes\": [5, 10, 15],\n",
    "    \"activation\": [\"logistic\", \"relu\"],\n",
    "    \"learning_rate_init\": [0.001, 0.01, 0.05, 0.1],\n",
    "}\n",
    "\n",
    "# Executar a função e obter os melhores parâmetros\n",
    "results_validation, results_test, best_params, results_list_mlp_corr_smote = (\n",
    "    run_cross_validation(\n",
    "        df_train_smote[filtro_correlacao],\n",
    "        df_train_smote[\"RainTomorrow\"],\n",
    "        df_test_smote[filtro_correlacao],\n",
    "        df_test_smote[\"RainTomorrow\"],\n",
    "        MLPClassifier(random_state=42),\n",
    "        param_grid_categorical,\n",
    "        k_folds=5,\n",
    "    )\n",
    ")\n",
    "\n",
    "print(\"Resultados na validação cruzada:\", results_validation)\n",
    "print(\"Resultados na base de teste:\", results_test)\n",
    "print(\"Melhores parâmetros escolhidos:\", best_params)"
   ]
  },
  {
   "cell_type": "code",
   "execution_count": 69,
   "metadata": {},
   "outputs": [],
   "source": [
    "results_list_mlp_corr_smote.to_csv(\n",
    "    \"../../DATA/RESULTS/results_list_mlp_corr_smote.csv\", sep=\"|\", index=False\n",
    ")"
   ]
  },
  {
   "cell_type": "markdown",
   "metadata": {},
   "source": [
    "##### LIBERA MEMÓRIA"
   ]
  },
  {
   "cell_type": "code",
   "execution_count": 70,
   "metadata": {},
   "outputs": [
    {
     "data": {
      "text/plain": [
       "130"
      ]
     },
     "execution_count": 70,
     "metadata": {},
     "output_type": "execute_result"
    }
   ],
   "source": [
    "del results_list_mlp_corr_smote, results_list_mlp_corr_full, results_list_mlp_corr_under\n",
    "gc.collect()"
   ]
  },
  {
   "cell_type": "markdown",
   "metadata": {},
   "source": [
    "#### RANDOM FOREST - FEATURE IMPORTANCE"
   ]
  },
  {
   "cell_type": "markdown",
   "metadata": {},
   "source": [
    "##### UNDERSAMPLING"
   ]
  },
  {
   "cell_type": "code",
   "execution_count": 71,
   "metadata": {},
   "outputs": [
    {
     "name": "stdout",
     "output_type": "stream",
     "text": [
      "====> INICIANDO PROCESSAMENTO: 2024-11-23 19:56:17.531682 <====\n",
      "====> 2024-11-23 19:56:17.535206 | EXECUTANDO FOLD 1 \n",
      "Fitting 3 folds for each of 24 candidates, totalling 72 fits\n",
      "===> 2024-11-23 19:56:43.588800 | FINALIZADO FOLD 1 | TEMPO TOTAL 0:00:26.053594\n",
      "\n",
      "\n",
      "====> 2024-11-23 19:56:43.590309 | EXECUTANDO FOLD 2 \n",
      "Fitting 3 folds for each of 24 candidates, totalling 72 fits\n",
      "===> 2024-11-23 19:57:12.335159 | FINALIZADO FOLD 2 | TEMPO TOTAL 0:00:28.744850\n",
      "\n",
      "\n",
      "====> 2024-11-23 19:57:12.336153 | EXECUTANDO FOLD 3 \n",
      "Fitting 3 folds for each of 24 candidates, totalling 72 fits\n",
      "===> 2024-11-23 19:57:42.143740 | FINALIZADO FOLD 3 | TEMPO TOTAL 0:00:29.807587\n",
      "\n",
      "\n",
      "====> 2024-11-23 19:57:42.143740 | EXECUTANDO FOLD 4 \n",
      "Fitting 3 folds for each of 24 candidates, totalling 72 fits\n",
      "===> 2024-11-23 19:58:07.799302 | FINALIZADO FOLD 4 | TEMPO TOTAL 0:00:25.655562\n",
      "\n",
      "\n",
      "====> 2024-11-23 19:58:07.800303 | EXECUTANDO FOLD 5 \n",
      "Fitting 3 folds for each of 24 candidates, totalling 72 fits\n",
      "===> 2024-11-23 19:58:33.433822 | FINALIZADO FOLD 5 | TEMPO TOTAL 0:00:25.633519\n",
      "\n",
      "\n",
      "Resultados na validação cruzada: {'f1': 0.8006937338291668, 'accuracy': 0.8008453157972223, 'precision': 0.8017760831255254, 'recall': 0.8008463551545573}\n",
      "Resultados na base de teste: {'f1': 0.18047788510421964, 'accuracy': 0.22022332506203474, 'precision': 0.11011166253101737, 'recall': 0.5}\n",
      "Melhores parâmetros escolhidos: {'activation': 'logistic', 'hidden_layer_sizes': 10, 'learning_rate_init': 0.01}\n"
     ]
    }
   ],
   "source": [
    "param_grid_categorical = {\n",
    "    \"hidden_layer_sizes\": [5, 10, 15],\n",
    "    \"activation\": [\"logistic\", \"relu\"],\n",
    "    \"learning_rate_init\": [0.001, 0.01, 0.05, 0.1],\n",
    "}\n",
    "\n",
    "# Executar a função e obter os melhores parâmetros\n",
    "results_validation, results_test, best_params, results_list_mlp_rf_under = (\n",
    "    run_cross_validation(\n",
    "        df_train_under[filtro_random_forest],\n",
    "        df_train_under[\"RainTomorrow\"],\n",
    "        df_test_under[filtro_random_forest],\n",
    "        df_test_under[\"RainTomorrow\"],\n",
    "        MLPClassifier(random_state=42),\n",
    "        param_grid_categorical,\n",
    "        k_folds=5,\n",
    "    )\n",
    ")\n",
    "\n",
    "print(\"Resultados na validação cruzada:\", results_validation)\n",
    "print(\"Resultados na base de teste:\", results_test)\n",
    "print(\"Melhores parâmetros escolhidos:\", best_params)"
   ]
  },
  {
   "cell_type": "code",
   "execution_count": 72,
   "metadata": {},
   "outputs": [],
   "source": [
    "results_list_mlp_rf_under.to_csv(\n",
    "    \"../../DATA/RESULTS/results_list_mlp_rf_under.csv\", sep=\"|\", index=False\n",
    ")"
   ]
  },
  {
   "cell_type": "markdown",
   "metadata": {},
   "source": [
    "##### SEM BALANCEAMENTO"
   ]
  },
  {
   "cell_type": "code",
   "execution_count": 73,
   "metadata": {},
   "outputs": [
    {
     "name": "stdout",
     "output_type": "stream",
     "text": [
      "====> INICIANDO PROCESSAMENTO: 2024-11-23 19:58:33.463047 <====\n",
      "====> 2024-11-23 19:58:33.470064 | EXECUTANDO FOLD 1 \n",
      "Fitting 3 folds for each of 24 candidates, totalling 72 fits\n",
      "===> 2024-11-23 19:59:20.508362 | FINALIZADO FOLD 1 | TEMPO TOTAL 0:00:47.038298\n",
      "\n",
      "\n",
      "====> 2024-11-23 19:59:20.508362 | EXECUTANDO FOLD 2 \n",
      "Fitting 3 folds for each of 24 candidates, totalling 72 fits\n",
      "===> 2024-11-23 20:00:04.387910 | FINALIZADO FOLD 2 | TEMPO TOTAL 0:00:43.879548\n",
      "\n",
      "\n",
      "====> 2024-11-23 20:00:04.387910 | EXECUTANDO FOLD 3 \n",
      "Fitting 3 folds for each of 24 candidates, totalling 72 fits\n",
      "===> 2024-11-23 20:00:55.156343 | FINALIZADO FOLD 3 | TEMPO TOTAL 0:00:50.768433\n",
      "\n",
      "\n",
      "====> 2024-11-23 20:00:55.157344 | EXECUTANDO FOLD 4 \n",
      "Fitting 3 folds for each of 24 candidates, totalling 72 fits\n",
      "===> 2024-11-23 20:01:41.172508 | FINALIZADO FOLD 4 | TEMPO TOTAL 0:00:46.015164\n",
      "\n",
      "\n",
      "====> 2024-11-23 20:01:41.173507 | EXECUTANDO FOLD 5 \n",
      "Fitting 3 folds for each of 24 candidates, totalling 72 fits\n",
      "===> 2024-11-23 20:02:26.749156 | FINALIZADO FOLD 5 | TEMPO TOTAL 0:00:45.575649\n",
      "\n",
      "\n",
      "Resultados na validação cruzada: {'f1': 0.7606392832602389, 'accuracy': 0.8540188939409312, 'precision': 0.8072332274735187, 'recall': 0.7345177139968347}\n",
      "Resultados na base de teste: {'f1': 0.7631949834149975, 'accuracy': 0.855689471818504, 'precision': 0.8106562433083722, 'recall': 0.7366621367024742}\n",
      "Melhores parâmetros escolhidos: {'activation': 'logistic', 'hidden_layer_sizes': 15, 'learning_rate_init': 0.01}\n"
     ]
    }
   ],
   "source": [
    "param_grid_categorical = {\n",
    "    \"hidden_layer_sizes\": [5, 10, 15],\n",
    "    \"activation\": [\"logistic\", \"relu\"],\n",
    "    \"learning_rate_init\": [0.001, 0.01, 0.05, 0.1],\n",
    "}\n",
    "\n",
    "# Executar a função e obter os melhores parâmetros\n",
    "results_validation, results_test, best_params, results_list_mlp_rf_full = (\n",
    "    run_cross_validation(\n",
    "        df_train_full[filtro_random_forest],\n",
    "        df_train_full[\"RainTomorrow\"],\n",
    "        df_test_full[filtro_random_forest],\n",
    "        df_test_full[\"RainTomorrow\"],\n",
    "        MLPClassifier(random_state=42),\n",
    "        param_grid_categorical,\n",
    "        k_folds=5,\n",
    "    )\n",
    ")\n",
    "\n",
    "print(\"Resultados na validação cruzada:\", results_validation)\n",
    "print(\"Resultados na base de teste:\", results_test)\n",
    "print(\"Melhores parâmetros escolhidos:\", best_params)"
   ]
  },
  {
   "cell_type": "code",
   "execution_count": 74,
   "metadata": {},
   "outputs": [],
   "source": [
    "results_list_mlp_rf_full.to_csv(\n",
    "    \"../../DATA/RESULTS/results_list_mlp_rf_full.csv\", sep=\"|\", index=False\n",
    ")"
   ]
  },
  {
   "cell_type": "markdown",
   "metadata": {},
   "source": [
    "##### OVERSAMPLING"
   ]
  },
  {
   "cell_type": "code",
   "execution_count": 75,
   "metadata": {},
   "outputs": [
    {
     "name": "stdout",
     "output_type": "stream",
     "text": [
      "====> INICIANDO PROCESSAMENTO: 2024-11-23 20:02:26.780965 <====\n",
      "====> 2024-11-23 20:02:26.791552 | EXECUTANDO FOLD 1 \n",
      "Fitting 3 folds for each of 24 candidates, totalling 72 fits\n",
      "===> 2024-11-23 20:03:56.307886 | FINALIZADO FOLD 1 | TEMPO TOTAL 0:01:29.516334\n",
      "\n",
      "\n",
      "====> 2024-11-23 20:03:56.307886 | EXECUTANDO FOLD 2 \n",
      "Fitting 3 folds for each of 24 candidates, totalling 72 fits\n",
      "===> 2024-11-23 20:05:24.480524 | FINALIZADO FOLD 2 | TEMPO TOTAL 0:01:28.172638\n",
      "\n",
      "\n",
      "====> 2024-11-23 20:05:24.481526 | EXECUTANDO FOLD 3 \n",
      "Fitting 3 folds for each of 24 candidates, totalling 72 fits\n",
      "===> 2024-11-23 20:06:47.324831 | FINALIZADO FOLD 3 | TEMPO TOTAL 0:01:22.843305\n",
      "\n",
      "\n",
      "====> 2024-11-23 20:06:47.324831 | EXECUTANDO FOLD 4 \n",
      "Fitting 3 folds for each of 24 candidates, totalling 72 fits\n",
      "===> 2024-11-23 20:08:10.264319 | FINALIZADO FOLD 4 | TEMPO TOTAL 0:01:22.939488\n",
      "\n",
      "\n",
      "====> 2024-11-23 20:08:10.264319 | EXECUTANDO FOLD 5 \n",
      "Fitting 3 folds for each of 24 candidates, totalling 72 fits\n",
      "===> 2024-11-23 20:09:37.728103 | FINALIZADO FOLD 5 | TEMPO TOTAL 0:01:27.463784\n",
      "\n",
      "\n",
      "Resultados na validação cruzada: {'f1': 0.8152006028348454, 'accuracy': 0.8154089743841139, 'precision': 0.816880115615999, 'recall': 0.8154086409575102}\n",
      "Resultados na base de teste: {'f1': 0.28353943235217977, 'accuracy': 0.4440446650124069, 'precision': 0.22202233250620346, 'recall': 0.5}\n",
      "Melhores parâmetros escolhidos: {'activation': 'logistic', 'hidden_layer_sizes': 15, 'learning_rate_init': 0.01}\n"
     ]
    }
   ],
   "source": [
    "param_grid_categorical = {\n",
    "    \"hidden_layer_sizes\": [5, 10, 15],\n",
    "    \"activation\": [\"logistic\", \"relu\"],\n",
    "    \"learning_rate_init\": [0.001, 0.01, 0.05, 0.1],\n",
    "}\n",
    "\n",
    "# Executar a função e obter os melhores parâmetros\n",
    "results_validation, results_test, best_params, results_list_mlp_rf_smote = (\n",
    "    run_cross_validation(\n",
    "        df_train_smote[filtro_random_forest],\n",
    "        df_train_smote[\"RainTomorrow\"],\n",
    "        df_test_smote[filtro_random_forest],\n",
    "        df_test_smote[\"RainTomorrow\"],\n",
    "        MLPClassifier(random_state=42),\n",
    "        param_grid_categorical,\n",
    "        k_folds=5,\n",
    "    )\n",
    ")\n",
    "\n",
    "print(\"Resultados na validação cruzada:\", results_validation)\n",
    "print(\"Resultados na base de teste:\", results_test)\n",
    "print(\"Melhores parâmetros escolhidos:\", best_params)"
   ]
  },
  {
   "cell_type": "code",
   "execution_count": 76,
   "metadata": {},
   "outputs": [],
   "source": [
    "results_list_mlp_rf_smote.to_csv(\n",
    "    \"../../DATA/RESULTS/results_list_mlp_rf_smote.csv\", sep=\"|\", index=False\n",
    ")"
   ]
  },
  {
   "cell_type": "markdown",
   "metadata": {},
   "source": [
    "##### LIBERA MEMÓRIA"
   ]
  },
  {
   "cell_type": "code",
   "execution_count": 77,
   "metadata": {},
   "outputs": [
    {
     "data": {
      "text/plain": [
       "130"
      ]
     },
     "execution_count": 77,
     "metadata": {},
     "output_type": "execute_result"
    }
   ],
   "source": [
    "del results_list_mlp_rf_smote, results_list_mlp_rf_full, results_list_mlp_rf_under\n",
    "gc.collect()"
   ]
  },
  {
   "cell_type": "markdown",
   "metadata": {},
   "source": [
    "# FINAL DO PROCESSO"
   ]
  },
  {
   "cell_type": "code",
   "execution_count": null,
   "metadata": {},
   "outputs": [
    {
     "name": "stdout",
     "output_type": "stream",
     "text": [
      "PROCESSO DE MODELAGEM FINALIZADO EM: 2024-11-25 23:51:03.590744\n",
      "\n",
      " => TOTAL UTILIZADO: 5:34:43.254063\n"
     ]
    }
   ],
   "source": [
    "final_processo = datetime.now()\n",
    "print(\n",
    "    f\"PROCESSO DE MODELAGEM FINALIZADO EM: {final_processo}\\n\\n => TOTAL UTILIZADO: {final_processo - inicio_processo}\"\n",
    ")"
   ]
  }
 ],
 "metadata": {
  "kernelspec": {
   "display_name": "sin5007-D8LjHJFi-py3.11",
   "language": "python",
   "name": "python3"
  },
  "language_info": {
   "codemirror_mode": {
    "name": "ipython",
    "version": 3
   },
   "file_extension": ".py",
   "mimetype": "text/x-python",
   "name": "python",
   "nbconvert_exporter": "python",
   "pygments_lexer": "ipython3",
   "version": "3.11.9"
  }
 },
 "nbformat": 4,
 "nbformat_minor": 2
}
