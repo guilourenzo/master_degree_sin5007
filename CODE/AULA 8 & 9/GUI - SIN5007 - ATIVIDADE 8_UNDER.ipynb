{
 "cells": [
  {
   "cell_type": "markdown",
   "metadata": {
    "id": "Vtb6qihi1OdK"
   },
   "source": [
    "# IMPORTA BIBLIOTECAS"
   ]
  },
  {
   "cell_type": "code",
   "execution_count": 1,
   "metadata": {
    "execution": {
     "iopub.execute_input": "2024-10-07T19:01:59.877251Z",
     "iopub.status.busy": "2024-10-07T19:01:59.876981Z",
     "iopub.status.idle": "2024-10-07T19:02:01.189961Z",
     "shell.execute_reply": "2024-10-07T19:02:01.189319Z",
     "shell.execute_reply.started": "2024-10-07T19:01:59.877225Z"
    },
    "id": "pkjca50TycV2",
    "tags": []
   },
   "outputs": [],
   "source": [
    "# MANIPULAÇÃO DE DADOS\n",
    "import pandas as pd\n",
    "import numpy as np\n",
    "from datetime import datetime\n",
    "\n",
    "# VISUALIZAÇÃO DE DADOS\n",
    "import matplotlib.pyplot as plt\n",
    "\n",
    "# TRANSFORMAÇÕES\n",
    "from sklearn.decomposition import PCA\n",
    "from sklearn.preprocessing import StandardScaler\n",
    "from sklearn.preprocessing import KBinsDiscretizer\n",
    "from imblearn import over_sampling, under_sampling\n",
    "\n",
    "\n",
    "# PREPARAÇÃO TREINO E AVALIAÇÃO\n",
    "from sklearn.model_selection import StratifiedKFold, GridSearchCV, train_test_split, RandomizedSearchCV\n",
    "from sklearn.metrics import accuracy_score, f1_score, precision_score, recall_score\n",
    "\n",
    "# MODELOS UTILIZADOS\n",
    "from mixed_naive_bayes import MixedNB\n",
    "from sklearn.naive_bayes import GaussianNB\n",
    "from sklearn.svm import SVC\n",
    "from sklearn.ensemble import RandomForestClassifier\n",
    "from sklearn.neural_network import MLPClassifier\n",
    "\n",
    "# CONFIGURAÇÕES DE EXIBIÇÃO\n",
    "import warnings\n",
    "\n",
    "warnings.filterwarnings(\"ignore\")\n",
    "\n",
    "# pd.set_option('display.max_rows', None)\n",
    "pd.set_option(\"display.max_columns\", None)\n",
    "pd.set_option(\"display.width\", None)\n",
    "pd.set_option(\"display.max_colwidth\", None)"
   ]
  },
  {
   "cell_type": "markdown",
   "metadata": {
    "id": "4IIaZmCO1qyM"
   },
   "source": [
    "# IMPORTAÇÃO DE DADOS"
   ]
  },
  {
   "cell_type": "code",
   "execution_count": 2,
   "metadata": {
    "colab": {
     "base_uri": "https://localhost:8080/"
    },
    "execution": {
     "iopub.execute_input": "2024-10-07T19:02:01.192339Z",
     "iopub.status.busy": "2024-10-07T19:02:01.191994Z",
     "iopub.status.idle": "2024-10-07T19:02:02.673635Z",
     "shell.execute_reply": "2024-10-07T19:02:02.672840Z",
     "shell.execute_reply.started": "2024-10-07T19:02:01.192314Z"
    },
    "executionInfo": {
     "elapsed": 2145,
     "status": "ok",
     "timestamp": 1727152981001,
     "user": {
      "displayName": "Guilherme Lourenço",
      "userId": "06971887765221303175"
     },
     "user_tz": 180
    },
    "id": "dQy9sPgk1qkU",
    "outputId": "7c9a5b67-935c-470b-c6a0-e5c8d27be9e4",
    "tags": []
   },
   "outputs": [
    {
     "name": "stdout",
     "output_type": "stream",
     "text": [
      "O dataset possui 56,420 instâncias (linhas) e 23 características (colunas).\n",
      "As características (colunas) do dataset são: ['Date', 'Location', 'MinTemp', 'MaxTemp', 'Rainfall', 'Evaporation', 'Sunshine', 'WindGustDir', 'WindGustSpeed', 'WindDir9am', 'WindDir3pm', 'WindSpeed9am', 'WindSpeed3pm', 'Humidity9am', 'Humidity3pm', 'Pressure9am', 'Pressure3pm', 'Cloud9am', 'Cloud3pm', 'Temp9am', 'Temp3pm', 'RainToday', 'RainTomorrow']\n"
     ]
    }
   ],
   "source": [
    "weather_aus = pd.read_csv(\"../DATA/weatherAUS.csv\").dropna()\n",
    "\n",
    "print(\n",
    "    f\"O dataset possui {weather_aus.shape[0]:,} instâncias (linhas) e {weather_aus.shape[1]:,} características (colunas).\"\n",
    ")\n",
    "\n",
    "print(f\"As características (colunas) do dataset são: {weather_aus.columns.to_list()}\")"
   ]
  },
  {
   "cell_type": "markdown",
   "metadata": {
    "id": "dmi4osar26rn",
    "jp-MarkdownHeadingCollapsed": true
   },
   "source": [
    "# FUNÇÕES PARA PRÉ-PROCESSAMENTO\n"
   ]
  },
  {
   "cell_type": "code",
   "execution_count": 3,
   "metadata": {
    "execution": {
     "iopub.execute_input": "2024-10-07T19:02:02.675243Z",
     "iopub.status.busy": "2024-10-07T19:02:02.675012Z",
     "iopub.status.idle": "2024-10-07T19:02:02.679857Z",
     "shell.execute_reply": "2024-10-07T19:02:02.679046Z",
     "shell.execute_reply.started": "2024-10-07T19:02:02.675222Z"
    },
    "id": "Sf3IApm_Tcb7"
   },
   "outputs": [],
   "source": [
    "def split_data(df, target_column):\n",
    "    X = df.drop(columns=[target_column])\n",
    "    y = df[target_column]\n",
    "\n",
    "    # Dividir a base em treino e teste, mantendo a proporção das classes\n",
    "    X_train, X_test, y_train, y_test = train_test_split(\n",
    "        X, y, test_size=0.2, random_state=42, stratify=y\n",
    "    )\n",
    "\n",
    "    df_train = pd.concat([X_train, y_train], axis=1)\n",
    "    df_test = pd.concat([X_test, y_test], axis=1)\n",
    "\n",
    "    return df_train, df_test"
   ]
  },
  {
   "cell_type": "code",
   "execution_count": 4,
   "metadata": {
    "execution": {
     "iopub.execute_input": "2024-10-07T19:02:02.680975Z",
     "iopub.status.busy": "2024-10-07T19:02:02.680751Z",
     "iopub.status.idle": "2024-10-07T19:02:02.684609Z",
     "shell.execute_reply": "2024-10-07T19:02:02.683927Z",
     "shell.execute_reply.started": "2024-10-07T19:02:02.680954Z"
    },
    "id": "uOxkFoV4FxXn"
   },
   "outputs": [],
   "source": [
    "def adjust_data_types(df):\n",
    "    df.RainTomorrow = df.RainTomorrow.map({\"Yes\": 1, \"No\": 0})\n",
    "\n",
    "    return df\n"
   ]
  },
  {
   "cell_type": "code",
   "execution_count": 5,
   "metadata": {
    "execution": {
     "iopub.execute_input": "2024-10-07T19:02:02.685983Z",
     "iopub.status.busy": "2024-10-07T19:02:02.685675Z",
     "iopub.status.idle": "2024-10-07T19:02:02.691745Z",
     "shell.execute_reply": "2024-10-07T19:02:02.691122Z",
     "shell.execute_reply.started": "2024-10-07T19:02:02.685952Z"
    },
    "id": "TDWRZYuoL4D9"
   },
   "outputs": [],
   "source": [
    "def create_auxiliar_columns(df):\n",
    "    # COLUNAS SELECIONADAS COM BASE NAS AVALIAÇÕES ANTERIORES\n",
    "    df = df[\n",
    "        [\n",
    "            \"MinTemp\",\n",
    "            \"MaxTemp\",\n",
    "            \"Rainfall\",\n",
    "            \"Evaporation\",\n",
    "            \"Sunshine\",\n",
    "            \"WindGustSpeed\",\n",
    "            \"WindSpeed9am\",\n",
    "            \"WindSpeed3pm\",\n",
    "            \"Humidity9am\",\n",
    "            \"Humidity3pm\",\n",
    "            \"Pressure3pm\",\n",
    "            \"Cloud9am\",\n",
    "            \"Cloud3pm\",\n",
    "            \"RainTomorrow\",\n",
    "            \"WindGustDir\",\n",
    "            \"WindDir3pm\",\n",
    "        ]\n",
    "    ]\n",
    "\n",
    "    df[\"RangeTemp\"] = df[\"MaxTemp\"] - df[\"MinTemp\"]\n",
    "\n",
    "    # SEPARA AS VARIÁVEIS CATEGÓRICAS E NUMÉRICAS\n",
    "    # CATEGORIZA AS VARIÁVEIS NECESSÁRIAS\n",
    "    categorical_columns = pd.get_dummies(\n",
    "        df.select_dtypes(include=[\"object\", \"datetime64\"]),\n",
    "        columns=[\"WindGustDir\", \"WindDir3pm\"],\n",
    "        drop_first=True,\n",
    "        prefix=[\"WindGustDir\", \"WindDir3pm\"],\n",
    "        dtype=int,\n",
    "    )\n",
    "\n",
    "    numerical_columns = df.select_dtypes(include=[\"int64\", \"float64\"])\n",
    "\n",
    "    df = pd.concat([numerical_columns, categorical_columns], axis=1)\n",
    "\n",
    "    return df\n"
   ]
  },
  {
   "cell_type": "code",
   "execution_count": 6,
   "metadata": {
    "execution": {
     "iopub.execute_input": "2024-10-07T19:02:02.693082Z",
     "iopub.status.busy": "2024-10-07T19:02:02.692778Z",
     "iopub.status.idle": "2024-10-07T19:02:02.697490Z",
     "shell.execute_reply": "2024-10-07T19:02:02.696875Z",
     "shell.execute_reply.started": "2024-10-07T19:02:02.693051Z"
    },
    "id": "6j32SGUtMglR"
   },
   "outputs": [],
   "source": [
    "def instance_transformations(n_components=5):\n",
    "    discretizer = KBinsDiscretizer(n_bins=5, encode=\"ordinal\", strategy=\"kmeans\", random_state=42)\n",
    "    smote = under_sampling.RandomUnderSampler(random_state=42)\n",
    "\n",
    "    scaler = StandardScaler()\n",
    "    pca = PCA(n_components=n_components, random_state=42)\n",
    "\n",
    "    return discretizer, scaler, pca, smote"
   ]
  },
  {
   "cell_type": "code",
   "execution_count": 7,
   "metadata": {
    "execution": {
     "iopub.execute_input": "2024-10-07T19:02:02.699643Z",
     "iopub.status.busy": "2024-10-07T19:02:02.699392Z",
     "iopub.status.idle": "2024-10-07T19:02:02.705242Z",
     "shell.execute_reply": "2024-10-07T19:02:02.704647Z",
     "shell.execute_reply.started": "2024-10-07T19:02:02.699621Z"
    },
    "id": "KHYOtyW7L5lN"
   },
   "outputs": [],
   "source": [
    "def adjust_train_volume(df, target_column, smote):\n",
    "    X = df.drop(columns=[target_column])\n",
    "    y = df[target_column]\n",
    "\n",
    "    X_res, y_res = smote.fit_resample(X, y)\n",
    "    df_smote = pd.concat([X_res, y_res], axis=1)\n",
    "\n",
    "    return df_smote"
   ]
  },
  {
   "cell_type": "code",
   "execution_count": 8,
   "metadata": {
    "execution": {
     "iopub.execute_input": "2024-10-07T19:02:02.707581Z",
     "iopub.status.busy": "2024-10-07T19:02:02.707247Z",
     "iopub.status.idle": "2024-10-07T19:02:02.711634Z",
     "shell.execute_reply": "2024-10-07T19:02:02.710935Z",
     "shell.execute_reply.started": "2024-10-07T19:02:02.707549Z"
    },
    "id": "6gMAX_UpC4QX"
   },
   "outputs": [],
   "source": [
    "def fit_transformmations(df, cols, discretizer, scaler, pca, discrete_col=\"Rainfall\"):\n",
    "    discretizer.fit(df[discrete_col].values.reshape(-1, 1))\n",
    "\n",
    "    scaler.fit(df[cols])\n",
    "    pca.fit(df[cols])\n",
    "\n",
    "    return discretizer, scaler, pca\n"
   ]
  },
  {
   "cell_type": "code",
   "execution_count": 9,
   "metadata": {
    "execution": {
     "iopub.execute_input": "2024-10-07T19:02:02.713063Z",
     "iopub.status.busy": "2024-10-07T19:02:02.712753Z",
     "iopub.status.idle": "2024-10-07T19:02:02.718918Z",
     "shell.execute_reply": "2024-10-07T19:02:02.718372Z",
     "shell.execute_reply.started": "2024-10-07T19:02:02.713032Z"
    },
    "id": "LXVPJdm6D41-"
   },
   "outputs": [],
   "source": [
    "def transform_data(df, cols, discretizer, scaler, pca, discrete_col=\"Rainfall\"):\n",
    "    df[discrete_col + \"_Discretized\"] = discretizer.transform(\n",
    "        df[discrete_col].values.reshape(-1, 1)\n",
    "    )\n",
    "    df[cols] = scaler.transform(df[cols])\n",
    "    df = df.reset_index(drop=True)\n",
    "\n",
    "    pca_result = pca.transform(df[cols])\n",
    "\n",
    "    df_pca = pd.DataFrame(\n",
    "        data=pca_result,\n",
    "        columns=[f\"PC{comp}\" for comp in range(1, pca.n_components_ + 1)],\n",
    "    )\n",
    "    df_pca = df_pca.reset_index(drop=True)\n",
    "    df_pca[\"RainTomorrow\"] = df[\"RainTomorrow\"]\n",
    "\n",
    "    return df, df_pca"
   ]
  },
  {
   "cell_type": "markdown",
   "metadata": {
    "id": "44HBT2N-MxPP"
   },
   "source": [
    "# INICIO PRÉ-PROCESSAMENTO"
   ]
  },
  {
   "cell_type": "markdown",
   "metadata": {
    "id": "oPHitSKgNOYF"
   },
   "source": [
    "SEPARA EM TREINO E TESTE"
   ]
  },
  {
   "cell_type": "code",
   "execution_count": 10,
   "metadata": {
    "execution": {
     "iopub.execute_input": "2024-10-07T19:02:02.719928Z",
     "iopub.status.busy": "2024-10-07T19:02:02.719678Z",
     "iopub.status.idle": "2024-10-07T19:02:02.799929Z",
     "shell.execute_reply": "2024-10-07T19:02:02.799176Z",
     "shell.execute_reply.started": "2024-10-07T19:02:02.719907Z"
    },
    "id": "xYFwJ_Zf1qX0"
   },
   "outputs": [],
   "source": [
    "df_train, df_test = split_data(weather_aus, \"RainTomorrow\")"
   ]
  },
  {
   "cell_type": "markdown",
   "metadata": {
    "id": "Japm5AlzTfME"
   },
   "source": [
    "## PRÉ-PROCESSAMENTO NA BASE DE TREINO"
   ]
  },
  {
   "cell_type": "markdown",
   "metadata": {
    "id": "-tkjlujuNfyX"
   },
   "source": [
    "AJUSTA TIPOS DE DADOS NO TREINO"
   ]
  },
  {
   "cell_type": "code",
   "execution_count": 11,
   "metadata": {
    "execution": {
     "iopub.execute_input": "2024-10-07T19:02:02.801143Z",
     "iopub.status.busy": "2024-10-07T19:02:02.800899Z",
     "iopub.status.idle": "2024-10-07T19:02:02.807841Z",
     "shell.execute_reply": "2024-10-07T19:02:02.807196Z",
     "shell.execute_reply.started": "2024-10-07T19:02:02.801121Z"
    },
    "id": "Pr0TsQTiNfgx"
   },
   "outputs": [],
   "source": [
    "df_train = adjust_data_types(df_train)"
   ]
  },
  {
   "cell_type": "markdown",
   "metadata": {
    "id": "1uV1D0j_RVIX"
   },
   "source": [
    "CRIA VARIÁVEIS AUXILIARES"
   ]
  },
  {
   "cell_type": "code",
   "execution_count": 12,
   "metadata": {
    "execution": {
     "iopub.execute_input": "2024-10-07T19:02:02.808992Z",
     "iopub.status.busy": "2024-10-07T19:02:02.808688Z",
     "iopub.status.idle": "2024-10-07T19:02:02.851388Z",
     "shell.execute_reply": "2024-10-07T19:02:02.850683Z",
     "shell.execute_reply.started": "2024-10-07T19:02:02.808969Z"
    },
    "id": "TqW7OVaZRX8W"
   },
   "outputs": [],
   "source": [
    "df_train = create_auxiliar_columns(df_train)"
   ]
  },
  {
   "cell_type": "markdown",
   "metadata": {
    "id": "FlUEc2vvNTzD"
   },
   "source": [
    "CRIA AS INSTÂNCIAS DAS TRANSFORMAÇÕES"
   ]
  },
  {
   "cell_type": "code",
   "execution_count": 13,
   "metadata": {
    "execution": {
     "iopub.execute_input": "2024-10-07T19:02:02.852636Z",
     "iopub.status.busy": "2024-10-07T19:02:02.852391Z",
     "iopub.status.idle": "2024-10-07T19:02:02.856209Z",
     "shell.execute_reply": "2024-10-07T19:02:02.855448Z",
     "shell.execute_reply.started": "2024-10-07T19:02:02.852612Z"
    },
    "id": "Jv3SMHmJNTe6"
   },
   "outputs": [],
   "source": [
    "discretizer, scaler, pca, smote = instance_transformations()"
   ]
  },
  {
   "cell_type": "markdown",
   "metadata": {
    "id": "U7-bcbhtRwcs"
   },
   "source": [
    "AJUSTA O VOLUME DE TREINO"
   ]
  },
  {
   "cell_type": "code",
   "execution_count": 14,
   "metadata": {
    "colab": {
     "base_uri": "https://localhost:8080/"
    },
    "execution": {
     "iopub.execute_input": "2024-10-07T19:02:02.857408Z",
     "iopub.status.busy": "2024-10-07T19:02:02.857147Z",
     "iopub.status.idle": "2024-10-07T19:02:02.866969Z",
     "shell.execute_reply": "2024-10-07T19:02:02.866334Z",
     "shell.execute_reply.started": "2024-10-07T19:02:02.857385Z"
    },
    "executionInfo": {
     "elapsed": 13,
     "status": "ok",
     "timestamp": 1727153005710,
     "user": {
      "displayName": "Guilherme Lourenço",
      "userId": "06971887765221303175"
     },
     "user_tz": 180
    },
    "id": "t5ltO9IcFm8D",
    "outputId": "f0e562ce-f27d-4d6c-e9f4-f2094e3c6867"
   },
   "outputs": [
    {
     "data": {
      "text/plain": [
       "(RainTomorrow\n",
       " 0    35194\n",
       " 1     9942\n",
       " Name: count, dtype: int64,\n",
       " RainTomorrow\n",
       " 0    0.779732\n",
       " 1    0.220268\n",
       " Name: proportion, dtype: float64)"
      ]
     },
     "execution_count": 14,
     "metadata": {},
     "output_type": "execute_result"
    }
   ],
   "source": [
    "(\n",
    "    df_train.RainTomorrow.value_counts(dropna=False),\n",
    "    df_train.RainTomorrow.value_counts(normalize=True, dropna=False),\n",
    ")"
   ]
  },
  {
   "cell_type": "code",
   "execution_count": 15,
   "metadata": {
    "execution": {
     "iopub.execute_input": "2024-10-07T19:02:02.868053Z",
     "iopub.status.busy": "2024-10-07T19:02:02.867792Z",
     "iopub.status.idle": "2024-10-07T19:02:03.414259Z",
     "shell.execute_reply": "2024-10-07T19:02:03.413193Z",
     "shell.execute_reply.started": "2024-10-07T19:02:02.868031Z"
    },
    "id": "N9LHr-bTNTbg"
   },
   "outputs": [],
   "source": [
    "df_train = adjust_train_volume(df_train, \"RainTomorrow\", smote)"
   ]
  },
  {
   "cell_type": "code",
   "execution_count": 16,
   "metadata": {
    "colab": {
     "base_uri": "https://localhost:8080/"
    },
    "execution": {
     "iopub.execute_input": "2024-10-07T19:02:03.415763Z",
     "iopub.status.busy": "2024-10-07T19:02:03.415493Z",
     "iopub.status.idle": "2024-10-07T19:02:03.424241Z",
     "shell.execute_reply": "2024-10-07T19:02:03.423589Z",
     "shell.execute_reply.started": "2024-10-07T19:02:03.415737Z"
    },
    "executionInfo": {
     "elapsed": 14,
     "status": "ok",
     "timestamp": 1727153007007,
     "user": {
      "displayName": "Guilherme Lourenço",
      "userId": "06971887765221303175"
     },
     "user_tz": 180
    },
    "id": "EzK0qsqjF1EW",
    "outputId": "4b61abcd-4ab0-408b-9985-3d0338538b71"
   },
   "outputs": [
    {
     "data": {
      "text/plain": [
       "(RainTomorrow\n",
       " 0    9942\n",
       " 1    9942\n",
       " Name: count, dtype: int64,\n",
       " RainTomorrow\n",
       " 0    0.5\n",
       " 1    0.5\n",
       " Name: proportion, dtype: float64)"
      ]
     },
     "execution_count": 16,
     "metadata": {},
     "output_type": "execute_result"
    }
   ],
   "source": [
    "(\n",
    "    df_train.RainTomorrow.value_counts(dropna=False),\n",
    "    df_train.RainTomorrow.value_counts(normalize=True, dropna=False),\n",
    ")"
   ]
  },
  {
   "cell_type": "markdown",
   "metadata": {
    "id": "9Wl3QzjyR5Ge"
   },
   "source": [
    "TREINA AS TRANSFORMAÇÕES COM A BASE DE TREINO"
   ]
  },
  {
   "cell_type": "code",
   "execution_count": 17,
   "metadata": {
    "execution": {
     "iopub.execute_input": "2024-10-07T19:02:03.425364Z",
     "iopub.status.busy": "2024-10-07T19:02:03.425115Z",
     "iopub.status.idle": "2024-10-07T19:02:03.503548Z",
     "shell.execute_reply": "2024-10-07T19:02:03.502860Z",
     "shell.execute_reply.started": "2024-10-07T19:02:03.425342Z"
    },
    "id": "jYAEvkcqNTY4"
   },
   "outputs": [],
   "source": [
    "continuous_columns = [\n",
    "    \"MinTemp\",\n",
    "    \"MaxTemp\",\n",
    "    \"Rainfall\",\n",
    "    \"Evaporation\",\n",
    "    \"Sunshine\",\n",
    "    \"WindGustSpeed\",\n",
    "    \"WindSpeed9am\",\n",
    "    \"WindSpeed3pm\",\n",
    "    \"Humidity9am\",\n",
    "    \"Humidity3pm\",\n",
    "    \"Pressure3pm\",\n",
    "    \"Cloud9am\",\n",
    "    \"Cloud3pm\",\n",
    "    \"RangeTemp\",\n",
    "]\n",
    "\n",
    "categorical_columns = [\n",
    "    \"WindGustDir_ENE\",\n",
    "    \"WindGustDir_ESE\",\n",
    "    \"WindGustDir_N\",\n",
    "    \"WindGustDir_NE\",\n",
    "    \"WindGustDir_NNE\",\n",
    "    \"WindGustDir_NNW\",\n",
    "    \"WindGustDir_NW\",\n",
    "    \"WindGustDir_S\",\n",
    "    \"WindGustDir_SE\",\n",
    "    \"WindGustDir_SSE\",\n",
    "    \"WindGustDir_SSW\",\n",
    "    \"WindGustDir_SW\",\n",
    "    \"WindGustDir_W\",\n",
    "    \"WindGustDir_WNW\",\n",
    "    \"WindGustDir_WSW\",\n",
    "    \"WindDir3pm_ENE\",\n",
    "    \"WindDir3pm_ESE\",\n",
    "    \"WindDir3pm_N\",\n",
    "    \"WindDir3pm_NE\",\n",
    "    \"WindDir3pm_NNE\",\n",
    "    \"WindDir3pm_NNW\",\n",
    "    \"WindDir3pm_NW\",\n",
    "    \"WindDir3pm_S\",\n",
    "    \"WindDir3pm_SE\",\n",
    "    \"WindDir3pm_SSE\",\n",
    "    \"WindDir3pm_SSW\",\n",
    "    \"WindDir3pm_SW\",\n",
    "    \"WindDir3pm_W\",\n",
    "    \"WindDir3pm_WNW\",\n",
    "    \"WindDir3pm_WSW\",\n",
    "    \"Rainfall_Discretized\",\n",
    "]\n",
    "\n",
    "discretizer, scaler, pca = fit_transformmations(\n",
    "    df_train, continuous_columns, discretizer, scaler, pca\n",
    ")"
   ]
  },
  {
   "cell_type": "markdown",
   "metadata": {
    "id": "yTO2j2sxSnMS"
   },
   "source": [
    "APLICA AS TRANSFORMAÇÕES NA BASE DE TREINO"
   ]
  },
  {
   "cell_type": "code",
   "execution_count": 18,
   "metadata": {
    "execution": {
     "iopub.execute_input": "2024-10-07T19:02:03.504802Z",
     "iopub.status.busy": "2024-10-07T19:02:03.504532Z",
     "iopub.status.idle": "2024-10-07T19:02:03.539467Z",
     "shell.execute_reply": "2024-10-07T19:02:03.538447Z",
     "shell.execute_reply.started": "2024-10-07T19:02:03.504764Z"
    },
    "id": "mGdnSAiyNTWO"
   },
   "outputs": [],
   "source": [
    "df_train, df_train_pca = transform_data(\n",
    "    df_train, continuous_columns, discretizer, scaler, pca\n",
    ")"
   ]
  },
  {
   "cell_type": "markdown",
   "metadata": {
    "id": "8i8CIzUkTs8P"
   },
   "source": [
    "## APLICAÇÕES SOBRE BASE DE TESTE"
   ]
  },
  {
   "cell_type": "markdown",
   "metadata": {
    "id": "-JWzXnBFT4_R"
   },
   "source": [
    "AJUSTA OS TIPOS DE DADOS"
   ]
  },
  {
   "cell_type": "code",
   "execution_count": 19,
   "metadata": {
    "execution": {
     "iopub.execute_input": "2024-10-07T19:02:03.541423Z",
     "iopub.status.busy": "2024-10-07T19:02:03.540946Z",
     "iopub.status.idle": "2024-10-07T19:02:03.549437Z",
     "shell.execute_reply": "2024-10-07T19:02:03.548599Z",
     "shell.execute_reply.started": "2024-10-07T19:02:03.541333Z"
    },
    "id": "scq7eRXzT2MP"
   },
   "outputs": [],
   "source": [
    "df_test = adjust_data_types(df_test)"
   ]
  },
  {
   "cell_type": "markdown",
   "metadata": {
    "id": "75WfK7fLT6y6"
   },
   "source": [
    "CRIA AS COLUNAS AUXILIARES"
   ]
  },
  {
   "cell_type": "code",
   "execution_count": 20,
   "metadata": {
    "execution": {
     "iopub.execute_input": "2024-10-07T19:02:03.551152Z",
     "iopub.status.busy": "2024-10-07T19:02:03.550723Z",
     "iopub.status.idle": "2024-10-07T19:02:03.580470Z",
     "shell.execute_reply": "2024-10-07T19:02:03.579320Z",
     "shell.execute_reply.started": "2024-10-07T19:02:03.551112Z"
    },
    "id": "vUmMrx_-T4SH"
   },
   "outputs": [],
   "source": [
    "df_test = create_auxiliar_columns(df_test)"
   ]
  },
  {
   "cell_type": "markdown",
   "metadata": {
    "id": "gLRcAjQ2T8ec"
   },
   "source": [
    "APLICA AS TRANSFORMAÇÕES JÁ TREINADAS"
   ]
  },
  {
   "cell_type": "code",
   "execution_count": 21,
   "metadata": {
    "execution": {
     "iopub.execute_input": "2024-10-07T19:02:03.582577Z",
     "iopub.status.busy": "2024-10-07T19:02:03.582006Z",
     "iopub.status.idle": "2024-10-07T19:02:03.605798Z",
     "shell.execute_reply": "2024-10-07T19:02:03.604794Z",
     "shell.execute_reply.started": "2024-10-07T19:02:03.582531Z"
    },
    "id": "UiYYjbjuNTTp"
   },
   "outputs": [],
   "source": [
    "df_test, df_test_pca = transform_data(\n",
    "    df_test, continuous_columns, discretizer, scaler, pca\n",
    ")"
   ]
  },
  {
   "cell_type": "code",
   "execution_count": 22,
   "metadata": {
    "colab": {
     "base_uri": "https://localhost:8080/"
    },
    "execution": {
     "iopub.execute_input": "2024-10-07T19:02:03.611142Z",
     "iopub.status.busy": "2024-10-07T19:02:03.610699Z",
     "iopub.status.idle": "2024-10-07T19:02:03.621722Z",
     "shell.execute_reply": "2024-10-07T19:02:03.620769Z",
     "shell.execute_reply.started": "2024-10-07T19:02:03.611102Z"
    },
    "executionInfo": {
     "elapsed": 8,
     "status": "ok",
     "timestamp": 1727153007358,
     "user": {
      "displayName": "Guilherme Lourenço",
      "userId": "06971887765221303175"
     },
     "user_tz": 180
    },
    "id": "gO3WloE7F8md",
    "outputId": "b573f495-00ad-42ad-8c49-ce5b89a74c4f"
   },
   "outputs": [
    {
     "data": {
      "text/plain": [
       "(RainTomorrow\n",
       " 0    8799\n",
       " 1    2485\n",
       " Name: count, dtype: int64,\n",
       " RainTomorrow\n",
       " 0    0.779777\n",
       " 1    0.220223\n",
       " Name: proportion, dtype: float64)"
      ]
     },
     "execution_count": 22,
     "metadata": {},
     "output_type": "execute_result"
    }
   ],
   "source": [
    "(\n",
    "    df_test.RainTomorrow.value_counts(dropna=False),\n",
    "    df_test.RainTomorrow.value_counts(normalize=True, dropna=False),\n",
    ")"
   ]
  },
  {
   "cell_type": "markdown",
   "metadata": {
    "id": "24tlP2lmUPGE"
   },
   "source": [
    "# PROCESSO DE MODELAGEM"
   ]
  },
  {
   "cell_type": "markdown",
   "metadata": {
    "id": "qQYlErFibIC3"
   },
   "source": [
    "FUNÇÃO DE APLICAÇÃO DE MODELOS"
   ]
  },
  {
   "cell_type": "code",
   "execution_count": 23,
   "metadata": {
    "execution": {
     "iopub.execute_input": "2024-10-07T19:02:03.623983Z",
     "iopub.status.busy": "2024-10-07T19:02:03.623271Z",
     "iopub.status.idle": "2024-10-07T19:02:03.642953Z",
     "shell.execute_reply": "2024-10-07T19:02:03.642353Z",
     "shell.execute_reply.started": "2024-10-07T19:02:03.623935Z"
    },
    "id": "65B3JhOdbHcU",
    "tags": []
   },
   "outputs": [],
   "source": [
    "def run_cross_validation(\n",
    "    train_data, train_target, test_data, test_target, model, param_grid, k_folds=10\n",
    "):\n",
    "    skf = StratifiedKFold(n_splits=k_folds)\n",
    "    scores_validation = {\"f1\": [], \"accuracy\": [], \"precision\": [], \"recall\": []}\n",
    "    scores_test = {\"f1\": [], \"accuracy\": [], \"precision\": [], \"recall\": []}\n",
    "    best_params = None\n",
    "    best_model = None\n",
    "    best_f1 = 0\n",
    "    counter = 1\n",
    "    print(f\"====> INICIANDO PROCESSAMENTO: {datetime.now()} <====\")\n",
    "\n",
    "    for train_index, valid_index in skf.split(train_data, train_target):\n",
    "        inicio = datetime.now()\n",
    "        print(f\"====> {inicio} | EXECUTANDO FOLD {counter} \")\n",
    "        \n",
    "        # Use .iloc to select rows based on indices\n",
    "        X_train_fold, X_valid_fold = (\n",
    "            train_data.iloc[train_index],\n",
    "            train_data.iloc[valid_index],\n",
    "        )\n",
    "        y_train_fold, y_valid_fold = (\n",
    "            train_target.iloc[train_index],\n",
    "            train_target.iloc[valid_index],\n",
    "        )\n",
    "\n",
    "        # Etapa 2: Treinamento e ajuste de hiperparâmetros com validação cruzada interna\n",
    "        grid_search = GridSearchCV(\n",
    "            model, param_grid, scoring=\"f1\", cv=StratifiedKFold(n_splits=3), n_jobs=-1, verbose=3\n",
    "        )\n",
    "        grid_search.fit(X_train_fold, y_train_fold)\n",
    "        model = grid_search.best_estimator_\n",
    "        f1 = grid_search.best_score_\n",
    "\n",
    "        if f1 > best_f1:\n",
    "            best_model = model\n",
    "            best_params = grid_search.best_params_\n",
    "            best_f1 = f1\n",
    "\n",
    "        # Avaliação nos dados de validação\n",
    "        y_valid_pred = model.predict(X_valid_fold)\n",
    "\n",
    "        # Cálculo das métricas no fold\n",
    "        scores_validation[\"f1\"].append(\n",
    "            f1_score(y_valid_fold, y_valid_pred, average=\"macro\")\n",
    "        )\n",
    "        scores_validation[\"accuracy\"].append(accuracy_score(y_valid_fold, y_valid_pred))\n",
    "        scores_validation[\"precision\"].append(\n",
    "            precision_score(y_valid_fold, y_valid_pred, average=\"macro\")\n",
    "        )\n",
    "        scores_validation[\"recall\"].append(\n",
    "            recall_score(y_valid_fold, y_valid_pred, average=\"macro\")\n",
    "        )\n",
    "\n",
    "        # Avaliar na base de teste com o melhor modelo\n",
    "        y_test_pred = model.predict(test_data)\n",
    "        f1_test = f1_score(test_target, y_test_pred, average=\"macro\")\n",
    "        accuracy_test = accuracy_score(test_target, y_test_pred)\n",
    "        precision_test = precision_score(test_target, y_test_pred, average=\"macro\")\n",
    "        recall_test = recall_score(test_target, y_test_pred, average=\"macro\")\n",
    "\n",
    "        # Armazenar as métricas na base de teste\n",
    "        scores_test[\"f1\"].append(f1_test)\n",
    "        scores_test[\"accuracy\"].append(accuracy_test)\n",
    "        scores_test[\"precision\"].append(precision_test)\n",
    "        scores_test[\"recall\"].append(recall_test)\n",
    "        \n",
    "        counter += 1\n",
    "        final = datetime.now()\n",
    "        print(f\"===> {final} | FINALIZADO FOLD {counter - 1} | TEMPO TOTAL {final - inicio}\\n\")\n",
    "\n",
    "    # Calcula as médias das métricas nos folds de validação\n",
    "    avg_scores_validation = {\n",
    "        metric: np.mean(values) for metric, values in scores_validation.items()\n",
    "    }\n",
    "    test_scores = {metric: np.mean(values) for metric, values in scores_test.items()}\n",
    "\n",
    "    # Criar log dos resultados\n",
    "    log = pd.DataFrame(scores_validation)\n",
    "    log[\"dataset\"] = \"Validação Cruzada\"\n",
    "\n",
    "    test_log = pd.DataFrame(scores_test)\n",
    "    test_log[\"dataset\"] = \"Teste\"\n",
    "\n",
    "    # Concatenar os logs da validação cruzada e do teste\n",
    "    full_log = pd.concat([log, test_log])\n",
    "\n",
    "    return avg_scores_validation, test_scores, best_params, full_log"
   ]
  },
  {
   "cell_type": "code",
   "execution_count": 25,
   "metadata": {
    "execution": {
     "iopub.execute_input": "2024-10-07T19:02:03.644961Z",
     "iopub.status.busy": "2024-10-07T19:02:03.644643Z",
     "iopub.status.idle": "2024-10-07T19:02:03.655323Z",
     "shell.execute_reply": "2024-10-07T19:02:03.654772Z",
     "shell.execute_reply.started": "2024-10-07T19:02:03.644928Z"
    },
    "tags": []
   },
   "outputs": [],
   "source": [
    "def run_cross_validation_svm(\n",
    "    train_data, train_target, test_data, test_target, model, param_grid, k_folds=10, n_iter=20\n",
    "):\n",
    "    skf = StratifiedKFold(n_splits=k_folds)\n",
    "    scores_validation = {\"f1\": [], \"accuracy\": [], \"precision\": [], \"recall\": []}\n",
    "    scores_test = {\"f1\": [], \"accuracy\": [], \"precision\": [], \"recall\": []}\n",
    "    best_params = None\n",
    "    best_model = None\n",
    "    best_f1 = 0\n",
    "    counter = 1\n",
    "    print(\"====> INICIANDO PROCESSAMENTO <====\")\n",
    "\n",
    "    for train_index, valid_index in skf.split(train_data, train_target):\n",
    "        inicio = datetime.now()\n",
    "        print(f\"====> {inicio} | EXECUTANDO FOLD {counter} \")\n",
    "        \n",
    "        # Selecionar folds\n",
    "        X_train_fold, X_valid_fold = (\n",
    "            train_data.iloc[train_index],\n",
    "            train_data.iloc[valid_index],\n",
    "        )\n",
    "        y_train_fold, y_valid_fold = (\n",
    "            train_target.iloc[train_index],\n",
    "            train_target.iloc[valid_index],\n",
    "        )\n",
    "\n",
    "        # Utilizar RandomizedSearchCV para uma busca mais rápida de hiperparâmetros\n",
    "        random_search = RandomizedSearchCV(\n",
    "            model, param_distributions=param_grid, n_iter=n_iter, scoring=\"f1_macro\", cv=3, random_state=42, n_jobs=-1, verbose=3\n",
    "        )\n",
    "        random_search.fit(X_train_fold, y_train_fold)\n",
    "        model = random_search.best_estimator_\n",
    "        f1 = random_search.best_score_\n",
    "\n",
    "        if f1 > best_f1:\n",
    "            best_model = model\n",
    "            best_params = random_search.best_params_\n",
    "            best_f1 = f1\n",
    "\n",
    "        # Avaliação nos dados de validação\n",
    "        y_valid_pred = model.predict(X_valid_fold)\n",
    "\n",
    "        # Cálculo das métricas no fold\n",
    "        scores_validation[\"f1\"].append(\n",
    "            f1_score(y_valid_fold, y_valid_pred, average=\"macro\")\n",
    "        )\n",
    "        scores_validation[\"accuracy\"].append(accuracy_score(y_valid_fold, y_valid_pred))\n",
    "        scores_validation[\"precision\"].append(\n",
    "            precision_score(y_valid_fold, y_valid_pred, average=\"macro\")\n",
    "        )\n",
    "        scores_validation[\"recall\"].append(\n",
    "            recall_score(y_valid_fold, y_valid_pred, average=\"macro\")\n",
    "        )\n",
    "\n",
    "        # Avaliar na base de teste com o melhor modelo\n",
    "        y_test_pred = model.predict(test_data)\n",
    "        f1_test = f1_score(test_target, y_test_pred, average=\"macro\")\n",
    "        accuracy_test = accuracy_score(test_target, y_test_pred)\n",
    "        precision_test = precision_score(test_target, y_test_pred, average=\"macro\")\n",
    "        recall_test = recall_score(test_target, y_test_pred, average=\"macro\")\n",
    "\n",
    "        # Armazenar as métricas na base de teste\n",
    "        scores_test[\"f1\"].append(f1_test)\n",
    "        scores_test[\"accuracy\"].append(accuracy_test)\n",
    "        scores_test[\"precision\"].append(precision_test)\n",
    "        scores_test[\"recall\"].append(recall_test)\n",
    "        \n",
    "        counter += 1\n",
    "        print(f\"===> {final} | FINALIZADO FOLD {counter - 1} | TEMPO TOTAL {final - inicio}\")\n",
    "\n",
    "    # Calcula as médias das métricas nos folds de validação\n",
    "    avg_scores_validation = {\n",
    "        metric: np.mean(values) for metric, values in scores_validation.items()\n",
    "    }\n",
    "    test_scores = {metric: np.mean(values) for metric, values in scores_test.items()}\n",
    "\n",
    "    # Criar log dos resultados\n",
    "    log = pd.DataFrame(scores_validation)\n",
    "    log[\"dataset\"] = \"Validação Cruzada\"\n",
    "\n",
    "    test_log = pd.DataFrame(scores_test)\n",
    "    test_log[\"dataset\"] = \"Teste\"\n",
    "\n",
    "    # Concatenar os logs da validação cruzada e do teste\n",
    "    full_log = pd.concat([log, test_log])\n",
    "\n",
    "    return avg_scores_validation, test_scores, best_params, full_log"
   ]
  },
  {
   "cell_type": "code",
   "execution_count": 26,
   "metadata": {
    "id": "nbc1d1cZNEPv"
   },
   "outputs": [],
   "source": [
    "def run_cross_mix(\n",
    "    train_data,\n",
    "    train_target,\n",
    "    test_data,\n",
    "    test_target,\n",
    "    alphas,\n",
    "    k_folds=10,\n",
    "    categorical_features=None,\n",
    "):\n",
    "    skf = StratifiedKFold(n_splits=k_folds)\n",
    "    scores_validation = {\"f1\": [], \"accuracy\": [], \"precision\": [], \"recall\": []}\n",
    "    scores_test = {\"f1\": [], \"accuracy\": [], \"precision\": [], \"recall\": []}\n",
    "    best_model = None\n",
    "    best_alpha = None\n",
    "    best_f1 = 0\n",
    "\n",
    "    # Validação cruzada estratificada\n",
    "    for train_index, valid_index in skf.split(train_data, train_target):\n",
    "        X_train_fold, X_valid_fold = (\n",
    "            train_data.iloc[train_index],\n",
    "            train_data.iloc[valid_index],\n",
    "        )\n",
    "        y_train_fold, y_valid_fold = (\n",
    "            train_target.iloc[train_index],\n",
    "            train_target.iloc[valid_index],\n",
    "        )\n",
    "\n",
    "        # Iterar pelos valores de alpha\n",
    "        for alpha in alphas:\n",
    "            # Treina o modelo com o valor de alpha atual\n",
    "            model = MixedNB(categorical_features=categorical_features, alpha=alpha)\n",
    "            model.fit(X_train_fold, y_train_fold)\n",
    "\n",
    "            # Avaliação nos dados de validação\n",
    "            y_valid_pred = model.predict(X_valid_fold)\n",
    "            f1 = f1_score(y_valid_fold, y_valid_pred, average=\"macro\")\n",
    "            accuracy = accuracy_score(y_valid_fold, y_valid_pred)\n",
    "            precision = precision_score(y_valid_fold, y_valid_pred, average=\"macro\")\n",
    "            recall = recall_score(y_valid_fold, y_valid_pred, average=\"macro\")\n",
    "\n",
    "            # Seleciona o melhor modelo baseado na métrica F1-score\n",
    "            if f1 > best_f1:\n",
    "                best_f1 = f1\n",
    "                best_model = model\n",
    "                best_alpha = alpha\n",
    "\n",
    "        # Armazenar as métricas para o fold atual\n",
    "        scores_validation[\"f1\"].append(f1)\n",
    "        scores_validation[\"accuracy\"].append(accuracy)\n",
    "        scores_validation[\"precision\"].append(precision)\n",
    "        scores_validation[\"recall\"].append(recall)\n",
    "\n",
    "        # Avaliar na base de teste com o melhor modelo\n",
    "        y_test_pred = model.predict(test_data)\n",
    "        f1_test = f1_score(test_target, y_test_pred, average=\"macro\")\n",
    "        accuracy_test = accuracy_score(test_target, y_test_pred)\n",
    "        precision_test = precision_score(test_target, y_test_pred, average=\"macro\")\n",
    "        recall_test = recall_score(test_target, y_test_pred, average=\"macro\")\n",
    "\n",
    "        # Armazenar as métricas na base de teste\n",
    "        scores_test[\"f1\"].append(f1_test)\n",
    "        scores_test[\"accuracy\"].append(accuracy_test)\n",
    "        scores_test[\"precision\"].append(precision_test)\n",
    "        scores_test[\"recall\"].append(recall_test)\n",
    "\n",
    "    # Calcular as médias das métricas de validação cruzada\n",
    "    avg_scores_validation = {\n",
    "        metric: np.mean(values) for metric, values in scores_validation.items()\n",
    "    }\n",
    "    test_scores = {metric: np.mean(values) for metric, values in scores_test.items()}\n",
    "\n",
    "    # Criar log dos resultados\n",
    "    log = pd.DataFrame(scores_validation)\n",
    "    log[\"dataset\"] = \"Validação Cruzada\"\n",
    "\n",
    "    test_log = pd.DataFrame(scores_test)\n",
    "    test_log[\"dataset\"] = \"Teste\"\n",
    "\n",
    "    # Concatenar os logs da validação cruzada e do teste\n",
    "    full_log = pd.concat([log, test_log])\n",
    "\n",
    "    return avg_scores_validation, best_alpha, test_scores, full_log\n"
   ]
  },
  {
   "cell_type": "markdown",
   "metadata": {
    "id": "8Bi5cHHuEu1A"
   },
   "source": [
    "## BAYES"
   ]
  },
  {
   "cell_type": "markdown",
   "metadata": {
    "id": "EdLYEZYzWjfF"
   },
   "source": [
    "### TODAS AS CARACTERÍSTICAS"
   ]
  },
  {
   "cell_type": "code",
   "execution_count": 28,
   "metadata": {
    "id": "vYovJXC4Eu1B",
    "outputId": "6899422d-4c8a-4ef4-9a4c-80be040f8196"
   },
   "outputs": [
    {
     "name": "stdout",
     "output_type": "stream",
     "text": [
      "Resultados na validação cruzada: {'f1': 0.7661680786648644, 'accuracy': 0.7661943506185427, 'precision': 0.7663112098778347, 'recall': 0.7661947059239861}\n",
      "Resultados na base de teste: {'f1': 0.7192188518305839, 'accuracy': 0.772483161999291, 'precision': 0.7052422673785649, 'recall': 0.769794662965862}\n",
      "Melhores parâmetros escolhidos: 0.0\n"
     ]
    }
   ],
   "source": [
    "# Parâmetros do modelo\n",
    "alphas = [0.0, 0.01, 0.1, 0.5, 1.0]\n",
    "\n",
    "# Executar para diferentes modelos e conjuntos de dados\n",
    "results_validation, best_params, results_test, results_list_full = (\n",
    "    run_cross_mix(\n",
    "        df_train.drop(columns=[\"RainTomorrow\"]),\n",
    "        df_train[\"RainTomorrow\"],\n",
    "        df_test.drop(columns=[\"RainTomorrow\"]),\n",
    "        df_test[\"RainTomorrow\"],\n",
    "        alphas,\n",
    "        k_folds=10,\n",
    "        categorical_features=[\n",
    "            df_train.drop(columns=\"RainTomorrow\").columns.get_loc(col)\n",
    "            for col in categorical_columns\n",
    "        ],\n",
    "    )\n",
    ")\n",
    "\n",
    "print(\"Resultados na validação cruzada:\", results_validation)\n",
    "print(\"Resultados na base de teste:\", results_test)\n",
    "print(\"Melhores parâmetros escolhidos:\", best_params)"
   ]
  },
  {
   "cell_type": "code",
   "execution_count": 29,
   "metadata": {
    "id": "smjJcLheEu1B",
    "outputId": "3a6075e3-85cf-420e-b9b4-1d12185471b6"
   },
   "outputs": [
    {
     "data": {
      "text/html": [
       "<div>\n",
       "<style scoped>\n",
       "    .dataframe tbody tr th:only-of-type {\n",
       "        vertical-align: middle;\n",
       "    }\n",
       "\n",
       "    .dataframe tbody tr th {\n",
       "        vertical-align: top;\n",
       "    }\n",
       "\n",
       "    .dataframe thead th {\n",
       "        text-align: right;\n",
       "    }\n",
       "</style>\n",
       "<table border=\"1\" class=\"dataframe\">\n",
       "  <thead>\n",
       "    <tr style=\"text-align: right;\">\n",
       "      <th></th>\n",
       "      <th>f1</th>\n",
       "      <th>accuracy</th>\n",
       "      <th>precision</th>\n",
       "      <th>recall</th>\n",
       "      <th>dataset</th>\n",
       "    </tr>\n",
       "  </thead>\n",
       "  <tbody>\n",
       "    <tr>\n",
       "      <th>0</th>\n",
       "      <td>0.751089</td>\n",
       "      <td>0.751131</td>\n",
       "      <td>0.751290</td>\n",
       "      <td>0.751125</td>\n",
       "      <td>Validação Cruzada</td>\n",
       "    </tr>\n",
       "    <tr>\n",
       "      <th>1</th>\n",
       "      <td>0.770732</td>\n",
       "      <td>0.770739</td>\n",
       "      <td>0.770778</td>\n",
       "      <td>0.770742</td>\n",
       "      <td>Validação Cruzada</td>\n",
       "    </tr>\n",
       "    <tr>\n",
       "      <th>2</th>\n",
       "      <td>0.763700</td>\n",
       "      <td>0.763700</td>\n",
       "      <td>0.763701</td>\n",
       "      <td>0.763701</td>\n",
       "      <td>Validação Cruzada</td>\n",
       "    </tr>\n",
       "    <tr>\n",
       "      <th>3</th>\n",
       "      <td>0.770703</td>\n",
       "      <td>0.770739</td>\n",
       "      <td>0.770924</td>\n",
       "      <td>0.770746</td>\n",
       "      <td>Validação Cruzada</td>\n",
       "    </tr>\n",
       "    <tr>\n",
       "      <th>4</th>\n",
       "      <td>0.775652</td>\n",
       "      <td>0.775654</td>\n",
       "      <td>0.775664</td>\n",
       "      <td>0.775654</td>\n",
       "      <td>Validação Cruzada</td>\n",
       "    </tr>\n",
       "    <tr>\n",
       "      <th>5</th>\n",
       "      <td>0.758463</td>\n",
       "      <td>0.758551</td>\n",
       "      <td>0.758930</td>\n",
       "      <td>0.758551</td>\n",
       "      <td>Validação Cruzada</td>\n",
       "    </tr>\n",
       "    <tr>\n",
       "      <th>6</th>\n",
       "      <td>0.763047</td>\n",
       "      <td>0.763078</td>\n",
       "      <td>0.763219</td>\n",
       "      <td>0.763078</td>\n",
       "      <td>Validação Cruzada</td>\n",
       "    </tr>\n",
       "    <tr>\n",
       "      <th>7</th>\n",
       "      <td>0.754006</td>\n",
       "      <td>0.754024</td>\n",
       "      <td>0.754098</td>\n",
       "      <td>0.754024</td>\n",
       "      <td>Validação Cruzada</td>\n",
       "    </tr>\n",
       "    <tr>\n",
       "      <th>8</th>\n",
       "      <td>0.790226</td>\n",
       "      <td>0.790241</td>\n",
       "      <td>0.790326</td>\n",
       "      <td>0.790241</td>\n",
       "      <td>Validação Cruzada</td>\n",
       "    </tr>\n",
       "    <tr>\n",
       "      <th>9</th>\n",
       "      <td>0.764063</td>\n",
       "      <td>0.764085</td>\n",
       "      <td>0.764181</td>\n",
       "      <td>0.764085</td>\n",
       "      <td>Validação Cruzada</td>\n",
       "    </tr>\n",
       "    <tr>\n",
       "      <th>0</th>\n",
       "      <td>0.718889</td>\n",
       "      <td>0.772244</td>\n",
       "      <td>0.704938</td>\n",
       "      <td>0.769352</td>\n",
       "      <td>Teste</td>\n",
       "    </tr>\n",
       "    <tr>\n",
       "      <th>1</th>\n",
       "      <td>0.718860</td>\n",
       "      <td>0.772155</td>\n",
       "      <td>0.704930</td>\n",
       "      <td>0.769440</td>\n",
       "      <td>Teste</td>\n",
       "    </tr>\n",
       "    <tr>\n",
       "      <th>2</th>\n",
       "      <td>0.719108</td>\n",
       "      <td>0.772421</td>\n",
       "      <td>0.705135</td>\n",
       "      <td>0.769611</td>\n",
       "      <td>Teste</td>\n",
       "    </tr>\n",
       "    <tr>\n",
       "      <th>3</th>\n",
       "      <td>0.719331</td>\n",
       "      <td>0.772776</td>\n",
       "      <td>0.705289</td>\n",
       "      <td>0.769549</td>\n",
       "      <td>Teste</td>\n",
       "    </tr>\n",
       "    <tr>\n",
       "      <th>4</th>\n",
       "      <td>0.718971</td>\n",
       "      <td>0.772333</td>\n",
       "      <td>0.705007</td>\n",
       "      <td>0.769409</td>\n",
       "      <td>Teste</td>\n",
       "    </tr>\n",
       "    <tr>\n",
       "      <th>5</th>\n",
       "      <td>0.719385</td>\n",
       "      <td>0.772776</td>\n",
       "      <td>0.705349</td>\n",
       "      <td>0.769693</td>\n",
       "      <td>Teste</td>\n",
       "    </tr>\n",
       "    <tr>\n",
       "      <th>6</th>\n",
       "      <td>0.719098</td>\n",
       "      <td>0.772067</td>\n",
       "      <td>0.705221</td>\n",
       "      <td>0.770250</td>\n",
       "      <td>Teste</td>\n",
       "    </tr>\n",
       "    <tr>\n",
       "      <th>7</th>\n",
       "      <td>0.719516</td>\n",
       "      <td>0.772687</td>\n",
       "      <td>0.705518</td>\n",
       "      <td>0.770214</td>\n",
       "      <td>Teste</td>\n",
       "    </tr>\n",
       "    <tr>\n",
       "      <th>8</th>\n",
       "      <td>0.719268</td>\n",
       "      <td>0.772421</td>\n",
       "      <td>0.705314</td>\n",
       "      <td>0.770044</td>\n",
       "      <td>Teste</td>\n",
       "    </tr>\n",
       "    <tr>\n",
       "      <th>9</th>\n",
       "      <td>0.719764</td>\n",
       "      <td>0.772953</td>\n",
       "      <td>0.705723</td>\n",
       "      <td>0.770385</td>\n",
       "      <td>Teste</td>\n",
       "    </tr>\n",
       "  </tbody>\n",
       "</table>\n",
       "</div>"
      ],
      "text/plain": [
       "         f1  accuracy  precision    recall            dataset\n",
       "0  0.751089  0.751131   0.751290  0.751125  Validação Cruzada\n",
       "1  0.770732  0.770739   0.770778  0.770742  Validação Cruzada\n",
       "2  0.763700  0.763700   0.763701  0.763701  Validação Cruzada\n",
       "3  0.770703  0.770739   0.770924  0.770746  Validação Cruzada\n",
       "4  0.775652  0.775654   0.775664  0.775654  Validação Cruzada\n",
       "5  0.758463  0.758551   0.758930  0.758551  Validação Cruzada\n",
       "6  0.763047  0.763078   0.763219  0.763078  Validação Cruzada\n",
       "7  0.754006  0.754024   0.754098  0.754024  Validação Cruzada\n",
       "8  0.790226  0.790241   0.790326  0.790241  Validação Cruzada\n",
       "9  0.764063  0.764085   0.764181  0.764085  Validação Cruzada\n",
       "0  0.718889  0.772244   0.704938  0.769352              Teste\n",
       "1  0.718860  0.772155   0.704930  0.769440              Teste\n",
       "2  0.719108  0.772421   0.705135  0.769611              Teste\n",
       "3  0.719331  0.772776   0.705289  0.769549              Teste\n",
       "4  0.718971  0.772333   0.705007  0.769409              Teste\n",
       "5  0.719385  0.772776   0.705349  0.769693              Teste\n",
       "6  0.719098  0.772067   0.705221  0.770250              Teste\n",
       "7  0.719516  0.772687   0.705518  0.770214              Teste\n",
       "8  0.719268  0.772421   0.705314  0.770044              Teste\n",
       "9  0.719764  0.772953   0.705723  0.770385              Teste"
      ]
     },
     "execution_count": 29,
     "metadata": {},
     "output_type": "execute_result"
    }
   ],
   "source": [
    "results_list_full"
   ]
  },
  {
   "cell_type": "markdown",
   "metadata": {
    "id": "R1Hm-qucb4dm"
   },
   "source": [
    "### PCA"
   ]
  },
  {
   "cell_type": "code",
   "execution_count": 30,
   "metadata": {
    "colab": {
     "base_uri": "https://localhost:8080/"
    },
    "executionInfo": {
     "elapsed": 6857,
     "status": "ok",
     "timestamp": 1727154833064,
     "user": {
      "displayName": "Guilherme Lourenço",
      "userId": "06971887765221303175"
     },
     "user_tz": 180
    },
    "id": "-iDIkUnrcyOl",
    "outputId": "89430d05-eded-4149-d07c-9b4e4672f06c"
   },
   "outputs": [
    {
     "name": "stdout",
     "output_type": "stream",
     "text": [
      "====> INICIANDO PROCESSAMENTO: 2024-10-28 10:13:16.728192 <====\n",
      "====> 2024-10-28 10:13:16.733104 | EXECUTANDO FOLD 1 \n",
      "Fitting 3 folds for each of 5 candidates, totalling 15 fits\n"
     ]
    },
    {
     "name": "stdout",
     "output_type": "stream",
     "text": [
      "[CV 1/3] END .................var_smoothing=0.0;, score=0.733 total time=   0.0s\n",
      "[CV 3/3] END .................var_smoothing=0.0;, score=0.742 total time=   0.0s\n",
      "[CV 1/3] END ................var_smoothing=0.01;, score=0.733 total time=   0.0s\n",
      "[CV 1/3] END .................var_smoothing=1.0;, score=0.741 total time=   0.0s\n",
      "[CV 2/3] END .................var_smoothing=0.0;, score=0.736 total time=   0.0s\n",
      "[CV 2/3] END ................var_smoothing=0.01;, score=0.738 total time=   0.0s\n",
      "[CV 2/3] END .................var_smoothing=1.0;, score=0.740 total time=   0.0s\n",
      "[CV 3/3] END ................var_smoothing=0.01;, score=0.741 total time=   0.0s\n",
      "[CV 3/3] END .................var_smoothing=0.1;, score=0.742 total time=   0.0s\n",
      "[CV 3/3] END .................var_smoothing=1.0;, score=0.741 total time=   0.0s\n",
      "[CV 2/3] END .................var_smoothing=0.5;, score=0.743 total time=   0.0s\n",
      "[CV 2/3] END .................var_smoothing=0.1;, score=0.741 total time=   0.0s[CV 1/3] END .................var_smoothing=0.1;, score=0.736 total time=   0.0s\n",
      "\n",
      "[CV 1/3] END .................var_smoothing=0.5;, score=0.738 total time=   0.0s\n",
      "[CV 3/3] END .................var_smoothing=0.5;, score=0.742 total time=   0.0s\n",
      "===> 2024-10-28 10:13:19.133661 | FINALIZADO FOLD 1 | TEMPO TOTAL 0:00:02.400557\n",
      "\n",
      "====> 2024-10-28 10:13:19.133784 | EXECUTANDO FOLD 2 \n",
      "Fitting 3 folds for each of 5 candidates, totalling 15 fits\n",
      "[CV 1/3] END .................var_smoothing=0.0;, score=0.731 total time=   0.0s\n",
      "[CV 2/3] END .................var_smoothing=0.0;, score=0.736 total time=   0.0s\n",
      "[CV 3/3] END .................var_smoothing=0.0;, score=0.739 total time=   0.0s\n",
      "[CV 1/3] END ................var_smoothing=0.01;, score=0.730 total time=   0.0s\n",
      "[CV 2/3] END ................var_smoothing=0.01;, score=0.737 total time=   0.0s\n",
      "[CV 3/3] END ................var_smoothing=0.01;, score=0.740 total time=   0.0s\n",
      "[CV 1/3] END .................var_smoothing=0.1;, score=0.730 total time=   0.0s\n",
      "[CV 2/3] END .................var_smoothing=0.1;, score=0.740 total time=   0.0s\n",
      "[CV 3/3] END .................var_smoothing=0.1;, score=0.741 total time=   0.0s\n",
      "[CV 2/3] END .................var_smoothing=0.5;, score=0.741 total time=   0.0s\n",
      "[CV 1/3] END .................var_smoothing=0.5;, score=0.730 total time=   0.0s\n",
      "[CV 3/3] END .................var_smoothing=0.5;, score=0.741 total time=   0.0s\n",
      "[CV 1/3] END .................var_smoothing=1.0;, score=0.731 total time=   0.0s\n",
      "[CV 2/3] END .................var_smoothing=1.0;, score=0.740 total time=   0.0s\n",
      "[CV 3/3] END .................var_smoothing=1.0;, score=0.740 total time=   0.0s\n",
      "===> 2024-10-28 10:13:19.257872 | FINALIZADO FOLD 2 | TEMPO TOTAL 0:00:00.124088\n",
      "\n",
      "====> 2024-10-28 10:13:19.258296 | EXECUTANDO FOLD 3 \n",
      "Fitting 3 folds for each of 5 candidates, totalling 15 fits\n",
      "[CV 1/3] END .................var_smoothing=0.0;, score=0.737 total time=   0.0s\n",
      "[CV 2/3] END .................var_smoothing=0.0;, score=0.737 total time=   0.0s\n",
      "[CV 3/3] END .................var_smoothing=0.0;, score=0.741 total time=   0.0s\n",
      "[CV 1/3] END ................var_smoothing=0.01;, score=0.737 total time=   0.0s\n",
      "[CV 2/3] END ................var_smoothing=0.01;, score=0.738 total time=   0.0s\n",
      "[CV 3/3] END ................var_smoothing=0.01;, score=0.741 total time=   0.0s\n",
      "[CV 1/3] END .................var_smoothing=0.1;, score=0.740 total time=   0.0s\n",
      "[CV 2/3] END .................var_smoothing=0.1;, score=0.743 total time=   0.0s\n",
      "[CV 3/3] END .................var_smoothing=0.1;, score=0.742 total time=   0.0s\n",
      "[CV 1/3] END .................var_smoothing=0.5;, score=0.735 total time=   0.0s\n",
      "[CV 2/3] END .................var_smoothing=0.5;, score=0.743 total time=   0.0s\n",
      "[CV 3/3] END .................var_smoothing=0.5;, score=0.743 total time=   0.0s\n",
      "[CV 1/3] END .................var_smoothing=1.0;, score=0.737 total time=   0.0s\n",
      "[CV 2/3] END .................var_smoothing=1.0;, score=0.741 total time=   0.0s\n",
      "[CV 3/3] END .................var_smoothing=1.0;, score=0.741 total time=   0.0s\n",
      "===> 2024-10-28 10:13:19.375671 | FINALIZADO FOLD 3 | TEMPO TOTAL 0:00:00.117375\n",
      "\n",
      "====> 2024-10-28 10:13:19.375751 | EXECUTANDO FOLD 4 \n",
      "Fitting 3 folds for each of 5 candidates, totalling 15 fits\n",
      "[CV 1/3] END .................var_smoothing=0.0;, score=0.734 total time=   0.0s\n",
      "[CV 2/3] END .................var_smoothing=0.0;, score=0.737 total time=   0.0s\n",
      "[CV 3/3] END .................var_smoothing=0.0;, score=0.739 total time=   0.0s\n",
      "[CV 1/3] END ................var_smoothing=0.01;, score=0.734 total time=   0.0s\n",
      "[CV 2/3] END ................var_smoothing=0.01;, score=0.737 total time=   0.0s\n",
      "[CV 3/3] END ................var_smoothing=0.01;, score=0.740 total time=   0.0s\n",
      "[CV 1/3] END .................var_smoothing=0.1;, score=0.736 total time=   0.0s\n",
      "[CV 3/3] END .................var_smoothing=0.1;, score=0.741 total time=   0.0s\n",
      "[CV 2/3] END .................var_smoothing=0.1;, score=0.740 total time=   0.0s\n",
      "[CV 2/3] END .................var_smoothing=0.5;, score=0.741 total time=   0.0s\n",
      "[CV 3/3] END .................var_smoothing=0.5;, score=0.741 total time=   0.0s[CV 1/3] END .................var_smoothing=0.5;, score=0.734 total time=   0.0s\n",
      "\n",
      "[CV 1/3] END .................var_smoothing=1.0;, score=0.737 total time=   0.0s\n",
      "[CV 2/3] END .................var_smoothing=1.0;, score=0.740 total time=   0.0s\n",
      "[CV 3/3] END .................var_smoothing=1.0;, score=0.741 total time=   0.0s\n",
      "===> 2024-10-28 10:13:19.484977 | FINALIZADO FOLD 4 | TEMPO TOTAL 0:00:00.109226\n",
      "\n",
      "====> 2024-10-28 10:13:19.485572 | EXECUTANDO FOLD 5 \n",
      "Fitting 3 folds for each of 5 candidates, totalling 15 fits\n",
      "[CV 1/3] END .................var_smoothing=0.0;, score=0.735 total time=   0.0s\n",
      "[CV 2/3] END .................var_smoothing=0.0;, score=0.731 total time=   0.0s\n",
      "[CV 3/3] END .................var_smoothing=0.0;, score=0.740 total time=   0.0s\n",
      "[CV 1/3] END ................var_smoothing=0.01;, score=0.735 total time=   0.0s\n",
      "[CV 2/3] END ................var_smoothing=0.01;, score=0.731 total time=   0.0s\n",
      "[CV 3/3] END ................var_smoothing=0.01;, score=0.739 total time=   0.0s\n",
      "[CV 1/3] END .................var_smoothing=0.1;, score=0.738 total time=   0.0s\n",
      "[CV 2/3] END .................var_smoothing=0.1;, score=0.732 total time=   0.0s\n",
      "[CV 3/3] END .................var_smoothing=0.1;, score=0.741 total time=   0.0s\n",
      "[CV 1/3] END .................var_smoothing=0.5;, score=0.735 total time=   0.0s\n",
      "[CV 2/3] END .................var_smoothing=0.5;, score=0.734 total time=   0.0s\n",
      "[CV 1/3] END .................var_smoothing=1.0;, score=0.736 total time=   0.0s\n",
      "[CV 3/3] END .................var_smoothing=0.5;, score=0.741 total time=   0.0s\n",
      "[CV 3/3] END .................var_smoothing=1.0;, score=0.741 total time=   0.0s\n",
      "[CV 2/3] END .................var_smoothing=1.0;, score=0.734 total time=   0.0s\n",
      "===> 2024-10-28 10:13:19.589861 | FINALIZADO FOLD 5 | TEMPO TOTAL 0:00:00.104289\n",
      "\n",
      "====> 2024-10-28 10:13:19.589981 | EXECUTANDO FOLD 6 \n",
      "Fitting 3 folds for each of 5 candidates, totalling 15 fits\n",
      "[CV 1/3] END .................var_smoothing=0.0;, score=0.731 total time=   0.0s\n",
      "[CV 2/3] END .................var_smoothing=0.0;, score=0.743 total time=   0.0s\n",
      "[CV 3/3] END .................var_smoothing=0.0;, score=0.738 total time=   0.0s\n",
      "[CV 1/3] END ................var_smoothing=0.01;, score=0.732 total time=   0.0s\n",
      "[CV 2/3] END ................var_smoothing=0.01;, score=0.743 total time=   0.0s\n",
      "[CV 3/3] END ................var_smoothing=0.01;, score=0.738 total time=   0.0s\n",
      "[CV 1/3] END .................var_smoothing=0.1;, score=0.736 total time=   0.0s\n",
      "[CV 2/3] END .................var_smoothing=0.1;, score=0.744 total time=   0.0s\n",
      "[CV 3/3] END .................var_smoothing=0.1;, score=0.739 total time=   0.0s\n",
      "[CV 1/3] END .................var_smoothing=0.5;, score=0.731 total time=   0.0s\n",
      "[CV 2/3] END .................var_smoothing=0.5;, score=0.744 total time=   0.0s\n",
      "[CV 3/3] END .................var_smoothing=0.5;, score=0.738 total time=   0.0s\n",
      "[CV 1/3] END .................var_smoothing=1.0;, score=0.730 total time=   0.0s\n",
      "[CV 2/3] END .................var_smoothing=1.0;, score=0.745 total time=   0.0s\n",
      "[CV 3/3] END .................var_smoothing=1.0;, score=0.736 total time=   0.0s\n",
      "===> 2024-10-28 10:13:19.706533 | FINALIZADO FOLD 6 | TEMPO TOTAL 0:00:00.116552\n",
      "\n",
      "====> 2024-10-28 10:13:19.707000 | EXECUTANDO FOLD 7 \n",
      "Fitting 3 folds for each of 5 candidates, totalling 15 fits\n",
      "[CV 1/3] END .................var_smoothing=0.0;, score=0.738 total time=   0.0s\n",
      "[CV 2/3] END .................var_smoothing=0.0;, score=0.733 total time=   0.0s\n",
      "[CV 3/3] END .................var_smoothing=0.0;, score=0.746 total time=   0.0s\n",
      "[CV 1/3] END ................var_smoothing=0.01;, score=0.738 total time=   0.0s\n",
      "[CV 2/3] END ................var_smoothing=0.01;, score=0.732 total time=   0.0s\n",
      "[CV 3/3] END ................var_smoothing=0.01;, score=0.745 total time=   0.0s\n",
      "[CV 1/3] END .................var_smoothing=0.1;, score=0.739 total time=   0.0s\n",
      "[CV 2/3] END .................var_smoothing=0.1;, score=0.733 total time=   0.0s\n",
      "[CV 1/3] END .................var_smoothing=0.5;, score=0.740 total time=   0.0s\n",
      "[CV 3/3] END .................var_smoothing=0.1;, score=0.745 total time=   0.0s\n",
      "[CV 2/3] END .................var_smoothing=0.5;, score=0.735 total time=   0.0s\n",
      "[CV 3/3] END .................var_smoothing=0.5;, score=0.747 total time=   0.0s\n",
      "[CV 1/3] END .................var_smoothing=1.0;, score=0.739 total time=   0.0s\n",
      "[CV 2/3] END .................var_smoothing=1.0;, score=0.735 total time=   0.0s\n",
      "[CV 3/3] END .................var_smoothing=1.0;, score=0.745 total time=   0.0s\n",
      "===> 2024-10-28 10:13:19.811378 | FINALIZADO FOLD 7 | TEMPO TOTAL 0:00:00.104378\n",
      "\n",
      "====> 2024-10-28 10:13:19.811465 | EXECUTANDO FOLD 8 \n",
      "Fitting 3 folds for each of 5 candidates, totalling 15 fits\n",
      "[CV 1/3] END .................var_smoothing=0.0;, score=0.735 total time=   0.0s\n",
      "[CV 3/3] END .................var_smoothing=0.0;, score=0.751 total time=   0.0s\n",
      "[CV 2/3] END .................var_smoothing=0.0;, score=0.729 total time=   0.0s\n",
      "[CV 1/3] END ................var_smoothing=0.01;, score=0.735 total time=   0.0s\n",
      "[CV 2/3] END ................var_smoothing=0.01;, score=0.730 total time=   0.0s\n",
      "[CV 3/3] END ................var_smoothing=0.01;, score=0.751 total time=   0.0s\n",
      "[CV 1/3] END .................var_smoothing=0.1;, score=0.738 total time=   0.0s\n",
      "[CV 2/3] END .................var_smoothing=0.1;, score=0.730 total time=   0.0s\n",
      "[CV 3/3] END .................var_smoothing=0.1;, score=0.751 total time=   0.0s\n",
      "[CV 1/3] END .................var_smoothing=0.5;, score=0.737 total time=   0.0s\n",
      "[CV 2/3] END .................var_smoothing=0.5;, score=0.733 total time=   0.0s\n",
      "[CV 3/3] END .................var_smoothing=0.5;, score=0.754 total time=   0.0s\n",
      "[CV 1/3] END .................var_smoothing=1.0;, score=0.737 total time=   0.0s\n",
      "[CV 2/3] END .................var_smoothing=1.0;, score=0.731 total time=   0.0s\n",
      "[CV 3/3] END .................var_smoothing=1.0;, score=0.752 total time=   0.0s\n",
      "===> 2024-10-28 10:13:19.929525 | FINALIZADO FOLD 8 | TEMPO TOTAL 0:00:00.118060\n",
      "\n",
      "====> 2024-10-28 10:13:19.930143 | EXECUTANDO FOLD 9 \n",
      "Fitting 3 folds for each of 5 candidates, totalling 15 fits\n",
      "[CV 1/3] END .................var_smoothing=0.0;, score=0.735 total time=   0.0s\n",
      "[CV 2/3] END .................var_smoothing=0.0;, score=0.730 total time=   0.0s\n",
      "[CV 3/3] END .................var_smoothing=0.0;, score=0.741 total time=   0.0s\n",
      "[CV 1/3] END ................var_smoothing=0.01;, score=0.736 total time=   0.0s\n",
      "[CV 2/3] END ................var_smoothing=0.01;, score=0.731 total time=   0.0s\n",
      "[CV 3/3] END ................var_smoothing=0.01;, score=0.740 total time=   0.0s\n",
      "[CV 1/3] END .................var_smoothing=0.1;, score=0.738 total time=   0.0s\n",
      "[CV 2/3] END .................var_smoothing=0.1;, score=0.730 total time=   0.0s\n",
      "[CV 3/3] END .................var_smoothing=0.1;, score=0.741 total time=   0.0s\n",
      "[CV 1/3] END .................var_smoothing=0.5;, score=0.735 total time=   0.0s\n",
      "[CV 2/3] END .................var_smoothing=0.5;, score=0.733 total time=   0.0s\n",
      "[CV 3/3] END .................var_smoothing=0.5;, score=0.741 total time=   0.0s\n",
      "[CV 1/3] END .................var_smoothing=1.0;, score=0.737 total time=   0.0s\n",
      "[CV 2/3] END .................var_smoothing=1.0;, score=0.730 total time=   0.0s\n",
      "[CV 3/3] END .................var_smoothing=1.0;, score=0.738 total time=   0.0s\n",
      "===> 2024-10-28 10:13:20.032570 | FINALIZADO FOLD 9 | TEMPO TOTAL 0:00:00.102427\n",
      "\n",
      "====> 2024-10-28 10:13:20.032648 | EXECUTANDO FOLD 10 \n",
      "Fitting 3 folds for each of 5 candidates, totalling 15 fits\n",
      "[CV 1/3] END .................var_smoothing=0.0;, score=0.736 total time=   0.0s\n",
      "[CV 2/3] END .................var_smoothing=0.0;, score=0.732 total time=   0.0s\n",
      "[CV 3/3] END .................var_smoothing=0.0;, score=0.753 total time=   0.0s\n",
      "[CV 1/3] END ................var_smoothing=0.01;, score=0.737 total time=   0.0s\n",
      "[CV 2/3] END ................var_smoothing=0.01;, score=0.731 total time=   0.0s\n",
      "[CV 3/3] END ................var_smoothing=0.01;, score=0.752 total time=   0.0s\n",
      "[CV 1/3] END .................var_smoothing=0.1;, score=0.737 total time=   0.0s\n",
      "[CV 2/3] END .................var_smoothing=0.1;, score=0.732 total time=   0.0s\n",
      "[CV 3/3] END .................var_smoothing=0.1;, score=0.753 total time=   0.0s\n",
      "[CV 1/3] END .................var_smoothing=0.5;, score=0.735 total time=   0.0s[CV 2/3] END .................var_smoothing=0.5;, score=0.732 total time=   0.0s\n",
      "\n",
      "[CV 3/3] END .................var_smoothing=0.5;, score=0.755 total time=   0.0s\n",
      "[CV 1/3] END .................var_smoothing=1.0;, score=0.736 total time=   0.0s\n",
      "[CV 2/3] END .................var_smoothing=1.0;, score=0.730 total time=   0.0s\n",
      "[CV 3/3] END .................var_smoothing=1.0;, score=0.753 total time=   0.0s\n",
      "===> 2024-10-28 10:13:20.150618 | FINALIZADO FOLD 10 | TEMPO TOTAL 0:00:00.117970\n",
      "\n",
      "Resultados na validação cruzada: {'f1': 0.7554784501010483, 'accuracy': 0.7567398104059248, 'precision': 0.7620574059216418, 'recall': 0.7567392799005086}\n",
      "Resultados na base de teste: {'f1': 0.7300096477173985, 'accuracy': 0.7955689471818503, 'precision': 0.7156817098519122, 'recall': 0.7567316388386004}\n",
      "Melhores parâmetros escolhidos: {'var_smoothing': 0.1}\n"
     ]
    }
   ],
   "source": [
    "# Parâmetros do modelo\n",
    "param_grid_categorical = {\"var_smoothing\": [0.0, 0.01, 0.1, 0.5, 1.0]}\n",
    "\n",
    "# Executar a função e obter os melhores parâmetros\n",
    "results_validation, results_test, best_params, results_list_pca = run_cross_validation(\n",
    "    df_train_pca.drop(columns=[\"RainTomorrow\"]),\n",
    "    df_train_pca[\"RainTomorrow\"],\n",
    "    df_test_pca.drop(columns=[\"RainTomorrow\"]),\n",
    "    df_test_pca[\"RainTomorrow\"],\n",
    "    GaussianNB(),\n",
    "    param_grid_categorical,\n",
    "    k_folds=10,\n",
    ")\n",
    "\n",
    "print(\"Resultados na validação cruzada:\", results_validation)\n",
    "print(\"Resultados na base de teste:\", results_test)\n",
    "print(\"Melhores parâmetros escolhidos:\", best_params)"
   ]
  },
  {
   "cell_type": "code",
   "execution_count": 31,
   "metadata": {
    "colab": {
     "base_uri": "https://localhost:8080/",
     "height": 677
    },
    "executionInfo": {
     "elapsed": 338,
     "status": "ok",
     "timestamp": 1727154848787,
     "user": {
      "displayName": "Guilherme Lourenço",
      "userId": "06971887765221303175"
     },
     "user_tz": 180
    },
    "id": "Z16QvPe5c3pk",
    "outputId": "7f98f222-3b5a-483f-e5db-d8de74b6cf2c"
   },
   "outputs": [
    {
     "data": {
      "text/html": [
       "<div>\n",
       "<style scoped>\n",
       "    .dataframe tbody tr th:only-of-type {\n",
       "        vertical-align: middle;\n",
       "    }\n",
       "\n",
       "    .dataframe tbody tr th {\n",
       "        vertical-align: top;\n",
       "    }\n",
       "\n",
       "    .dataframe thead th {\n",
       "        text-align: right;\n",
       "    }\n",
       "</style>\n",
       "<table border=\"1\" class=\"dataframe\">\n",
       "  <thead>\n",
       "    <tr style=\"text-align: right;\">\n",
       "      <th></th>\n",
       "      <th>f1</th>\n",
       "      <th>accuracy</th>\n",
       "      <th>precision</th>\n",
       "      <th>recall</th>\n",
       "      <th>dataset</th>\n",
       "    </tr>\n",
       "  </thead>\n",
       "  <tbody>\n",
       "    <tr>\n",
       "      <th>0</th>\n",
       "      <td>0.747317</td>\n",
       "      <td>0.749120</td>\n",
       "      <td>0.756350</td>\n",
       "      <td>0.749078</td>\n",
       "      <td>Validação Cruzada</td>\n",
       "    </tr>\n",
       "    <tr>\n",
       "      <th>1</th>\n",
       "      <td>0.768115</td>\n",
       "      <td>0.769231</td>\n",
       "      <td>0.774442</td>\n",
       "      <td>0.769196</td>\n",
       "      <td>Validação Cruzada</td>\n",
       "    </tr>\n",
       "    <tr>\n",
       "      <th>2</th>\n",
       "      <td>0.740130</td>\n",
       "      <td>0.741076</td>\n",
       "      <td>0.744699</td>\n",
       "      <td>0.741106</td>\n",
       "      <td>Validação Cruzada</td>\n",
       "    </tr>\n",
       "    <tr>\n",
       "      <th>3</th>\n",
       "      <td>0.751494</td>\n",
       "      <td>0.753142</td>\n",
       "      <td>0.760129</td>\n",
       "      <td>0.753183</td>\n",
       "      <td>Validação Cruzada</td>\n",
       "    </tr>\n",
       "    <tr>\n",
       "      <th>4</th>\n",
       "      <td>0.768803</td>\n",
       "      <td>0.769618</td>\n",
       "      <td>0.773472</td>\n",
       "      <td>0.769618</td>\n",
       "      <td>Validação Cruzada</td>\n",
       "    </tr>\n",
       "    <tr>\n",
       "      <th>5</th>\n",
       "      <td>0.736283</td>\n",
       "      <td>0.737928</td>\n",
       "      <td>0.744015</td>\n",
       "      <td>0.737928</td>\n",
       "      <td>Validação Cruzada</td>\n",
       "    </tr>\n",
       "    <tr>\n",
       "      <th>6</th>\n",
       "      <td>0.770981</td>\n",
       "      <td>0.772133</td>\n",
       "      <td>0.777721</td>\n",
       "      <td>0.772133</td>\n",
       "      <td>Validação Cruzada</td>\n",
       "    </tr>\n",
       "    <tr>\n",
       "      <th>7</th>\n",
       "      <td>0.750124</td>\n",
       "      <td>0.751509</td>\n",
       "      <td>0.757211</td>\n",
       "      <td>0.751509</td>\n",
       "      <td>Validação Cruzada</td>\n",
       "    </tr>\n",
       "    <tr>\n",
       "      <th>8</th>\n",
       "      <td>0.775172</td>\n",
       "      <td>0.775654</td>\n",
       "      <td>0.778036</td>\n",
       "      <td>0.775654</td>\n",
       "      <td>Validação Cruzada</td>\n",
       "    </tr>\n",
       "    <tr>\n",
       "      <th>9</th>\n",
       "      <td>0.746365</td>\n",
       "      <td>0.747988</td>\n",
       "      <td>0.754500</td>\n",
       "      <td>0.747988</td>\n",
       "      <td>Validação Cruzada</td>\n",
       "    </tr>\n",
       "    <tr>\n",
       "      <th>0</th>\n",
       "      <td>0.734508</td>\n",
       "      <td>0.801755</td>\n",
       "      <td>0.720815</td>\n",
       "      <td>0.757233</td>\n",
       "      <td>Teste</td>\n",
       "    </tr>\n",
       "    <tr>\n",
       "      <th>1</th>\n",
       "      <td>0.735014</td>\n",
       "      <td>0.802464</td>\n",
       "      <td>0.721449</td>\n",
       "      <td>0.757254</td>\n",
       "      <td>Teste</td>\n",
       "    </tr>\n",
       "    <tr>\n",
       "      <th>2</th>\n",
       "      <td>0.724925</td>\n",
       "      <td>0.788905</td>\n",
       "      <td>0.710048</td>\n",
       "      <td>0.755635</td>\n",
       "      <td>Teste</td>\n",
       "    </tr>\n",
       "    <tr>\n",
       "      <th>3</th>\n",
       "      <td>0.725760</td>\n",
       "      <td>0.789968</td>\n",
       "      <td>0.710907</td>\n",
       "      <td>0.755884</td>\n",
       "      <td>Teste</td>\n",
       "    </tr>\n",
       "    <tr>\n",
       "      <th>4</th>\n",
       "      <td>0.725288</td>\n",
       "      <td>0.789348</td>\n",
       "      <td>0.710417</td>\n",
       "      <td>0.755775</td>\n",
       "      <td>Teste</td>\n",
       "    </tr>\n",
       "    <tr>\n",
       "      <th>5</th>\n",
       "      <td>0.725722</td>\n",
       "      <td>0.790057</td>\n",
       "      <td>0.710900</td>\n",
       "      <td>0.755652</td>\n",
       "      <td>Teste</td>\n",
       "    </tr>\n",
       "    <tr>\n",
       "      <th>6</th>\n",
       "      <td>0.733805</td>\n",
       "      <td>0.800071</td>\n",
       "      <td>0.719637</td>\n",
       "      <td>0.758319</td>\n",
       "      <td>Teste</td>\n",
       "    </tr>\n",
       "    <tr>\n",
       "      <th>7</th>\n",
       "      <td>0.735386</td>\n",
       "      <td>0.802198</td>\n",
       "      <td>0.721532</td>\n",
       "      <td>0.758528</td>\n",
       "      <td>Teste</td>\n",
       "    </tr>\n",
       "    <tr>\n",
       "      <th>8</th>\n",
       "      <td>0.725180</td>\n",
       "      <td>0.789171</td>\n",
       "      <td>0.710297</td>\n",
       "      <td>0.755805</td>\n",
       "      <td>Teste</td>\n",
       "    </tr>\n",
       "    <tr>\n",
       "      <th>9</th>\n",
       "      <td>0.734508</td>\n",
       "      <td>0.801755</td>\n",
       "      <td>0.720815</td>\n",
       "      <td>0.757233</td>\n",
       "      <td>Teste</td>\n",
       "    </tr>\n",
       "  </tbody>\n",
       "</table>\n",
       "</div>"
      ],
      "text/plain": [
       "         f1  accuracy  precision    recall            dataset\n",
       "0  0.747317  0.749120   0.756350  0.749078  Validação Cruzada\n",
       "1  0.768115  0.769231   0.774442  0.769196  Validação Cruzada\n",
       "2  0.740130  0.741076   0.744699  0.741106  Validação Cruzada\n",
       "3  0.751494  0.753142   0.760129  0.753183  Validação Cruzada\n",
       "4  0.768803  0.769618   0.773472  0.769618  Validação Cruzada\n",
       "5  0.736283  0.737928   0.744015  0.737928  Validação Cruzada\n",
       "6  0.770981  0.772133   0.777721  0.772133  Validação Cruzada\n",
       "7  0.750124  0.751509   0.757211  0.751509  Validação Cruzada\n",
       "8  0.775172  0.775654   0.778036  0.775654  Validação Cruzada\n",
       "9  0.746365  0.747988   0.754500  0.747988  Validação Cruzada\n",
       "0  0.734508  0.801755   0.720815  0.757233              Teste\n",
       "1  0.735014  0.802464   0.721449  0.757254              Teste\n",
       "2  0.724925  0.788905   0.710048  0.755635              Teste\n",
       "3  0.725760  0.789968   0.710907  0.755884              Teste\n",
       "4  0.725288  0.789348   0.710417  0.755775              Teste\n",
       "5  0.725722  0.790057   0.710900  0.755652              Teste\n",
       "6  0.733805  0.800071   0.719637  0.758319              Teste\n",
       "7  0.735386  0.802198   0.721532  0.758528              Teste\n",
       "8  0.725180  0.789171   0.710297  0.755805              Teste\n",
       "9  0.734508  0.801755   0.720815  0.757233              Teste"
      ]
     },
     "execution_count": 31,
     "metadata": {},
     "output_type": "execute_result"
    }
   ],
   "source": [
    "results_list_pca"
   ]
  },
  {
   "cell_type": "markdown",
   "metadata": {
    "id": "on7txRvAci7i"
   },
   "source": [
    "### CORRELAÇÃO"
   ]
  },
  {
   "cell_type": "code",
   "execution_count": 32,
   "metadata": {
    "id": "wp6hltHLEu1D",
    "outputId": "bc38a59c-c26c-41b7-9265-cd705cc75ccb"
   },
   "outputs": [
    {
     "name": "stdout",
     "output_type": "stream",
     "text": [
      "Resultados na validação cruzada: {'f1': 0.7650615761752781, 'accuracy': 0.7650878878095118, 'precision': 0.7652060471037525, 'recall': 0.765088066084952}\n",
      "Resultados na base de teste: {'f1': 0.7186782855596372, 'accuracy': 0.7718628146047501, 'precision': 0.7048073457757813, 'recall': 0.7694979583147253}\n",
      "Melhores parâmetros escolhidos: 0.0\n"
     ]
    }
   ],
   "source": [
    "# Parâmetros do modelo\n",
    "alphas = [0.0, 0.01, 0.1, 0.5, 1.0]\n",
    "\n",
    "filtro_correlacao = [\n",
    "    \"MinTemp\",\n",
    "    \"MaxTemp\",\n",
    "    \"Rainfall\",\n",
    "    \"Evaporation\",\n",
    "    \"Sunshine\",\n",
    "    \"WindGustSpeed\",\n",
    "    \"WindSpeed3pm\",\n",
    "    \"Humidity9am\",\n",
    "    \"Humidity3pm\",\n",
    "    \"Pressure3pm\",\n",
    "    \"Cloud9am\",\n",
    "    \"Cloud3pm\",\n",
    "    \"RangeTemp\",\n",
    "    \"Rainfall_Discretized\",\n",
    "]\n",
    "\n",
    "# Executar para diferentes modelos e conjuntos de dados\n",
    "results_validation, best_params, results_test, results_list_corr = (\n",
    "    run_cross_mix(\n",
    "        df_train[filtro_correlacao],\n",
    "        df_train[\"RainTomorrow\"],\n",
    "        df_test[filtro_correlacao],\n",
    "        df_test[\"RainTomorrow\"],\n",
    "        alphas,\n",
    "        k_folds=10,\n",
    "        categorical_features=[13],\n",
    "    )\n",
    ")\n",
    "\n",
    "print(\"Resultados na validação cruzada:\", results_validation)\n",
    "print(\"Resultados na base de teste:\", results_test)\n",
    "print(\"Melhores parâmetros escolhidos:\", best_params)"
   ]
  },
  {
   "cell_type": "code",
   "execution_count": 33,
   "metadata": {
    "colab": {
     "base_uri": "https://localhost:8080/",
     "height": 677
    },
    "executionInfo": {
     "elapsed": 342,
     "status": "ok",
     "timestamp": 1727154952574,
     "user": {
      "displayName": "Guilherme Lourenço",
      "userId": "06971887765221303175"
     },
     "user_tz": 180
    },
    "id": "z-8yRmlXdRDC",
    "outputId": "3e7cfbfb-b2d7-48a9-a0fb-9ce812116470"
   },
   "outputs": [
    {
     "data": {
      "text/html": [
       "<div>\n",
       "<style scoped>\n",
       "    .dataframe tbody tr th:only-of-type {\n",
       "        vertical-align: middle;\n",
       "    }\n",
       "\n",
       "    .dataframe tbody tr th {\n",
       "        vertical-align: top;\n",
       "    }\n",
       "\n",
       "    .dataframe thead th {\n",
       "        text-align: right;\n",
       "    }\n",
       "</style>\n",
       "<table border=\"1\" class=\"dataframe\">\n",
       "  <thead>\n",
       "    <tr style=\"text-align: right;\">\n",
       "      <th></th>\n",
       "      <th>f1</th>\n",
       "      <th>accuracy</th>\n",
       "      <th>precision</th>\n",
       "      <th>recall</th>\n",
       "      <th>dataset</th>\n",
       "    </tr>\n",
       "  </thead>\n",
       "  <tbody>\n",
       "    <tr>\n",
       "      <th>0</th>\n",
       "      <td>0.750568</td>\n",
       "      <td>0.750628</td>\n",
       "      <td>0.750857</td>\n",
       "      <td>0.750621</td>\n",
       "      <td>Validação Cruzada</td>\n",
       "    </tr>\n",
       "    <tr>\n",
       "      <th>1</th>\n",
       "      <td>0.763197</td>\n",
       "      <td>0.763198</td>\n",
       "      <td>0.763204</td>\n",
       "      <td>0.763199</td>\n",
       "      <td>Validação Cruzada</td>\n",
       "    </tr>\n",
       "    <tr>\n",
       "      <th>2</th>\n",
       "      <td>0.763700</td>\n",
       "      <td>0.763700</td>\n",
       "      <td>0.763701</td>\n",
       "      <td>0.763700</td>\n",
       "      <td>Validação Cruzada</td>\n",
       "    </tr>\n",
       "    <tr>\n",
       "      <th>3</th>\n",
       "      <td>0.775198</td>\n",
       "      <td>0.775264</td>\n",
       "      <td>0.775604</td>\n",
       "      <td>0.775273</td>\n",
       "      <td>Validação Cruzada</td>\n",
       "    </tr>\n",
       "    <tr>\n",
       "      <th>4</th>\n",
       "      <td>0.777662</td>\n",
       "      <td>0.777666</td>\n",
       "      <td>0.777684</td>\n",
       "      <td>0.777666</td>\n",
       "      <td>Validação Cruzada</td>\n",
       "    </tr>\n",
       "    <tr>\n",
       "      <th>5</th>\n",
       "      <td>0.755462</td>\n",
       "      <td>0.755533</td>\n",
       "      <td>0.755833</td>\n",
       "      <td>0.755533</td>\n",
       "      <td>Validação Cruzada</td>\n",
       "    </tr>\n",
       "    <tr>\n",
       "      <th>6</th>\n",
       "      <td>0.766588</td>\n",
       "      <td>0.766600</td>\n",
       "      <td>0.766652</td>\n",
       "      <td>0.766600</td>\n",
       "      <td>Validação Cruzada</td>\n",
       "    </tr>\n",
       "    <tr>\n",
       "      <th>7</th>\n",
       "      <td>0.749989</td>\n",
       "      <td>0.750000</td>\n",
       "      <td>0.750043</td>\n",
       "      <td>0.750000</td>\n",
       "      <td>Validação Cruzada</td>\n",
       "    </tr>\n",
       "    <tr>\n",
       "      <th>8</th>\n",
       "      <td>0.786694</td>\n",
       "      <td>0.786720</td>\n",
       "      <td>0.786861</td>\n",
       "      <td>0.786720</td>\n",
       "      <td>Validação Cruzada</td>\n",
       "    </tr>\n",
       "    <tr>\n",
       "      <th>9</th>\n",
       "      <td>0.761558</td>\n",
       "      <td>0.761569</td>\n",
       "      <td>0.761621</td>\n",
       "      <td>0.761569</td>\n",
       "      <td>Validação Cruzada</td>\n",
       "    </tr>\n",
       "    <tr>\n",
       "      <th>0</th>\n",
       "      <td>0.718773</td>\n",
       "      <td>0.771889</td>\n",
       "      <td>0.704905</td>\n",
       "      <td>0.769703</td>\n",
       "      <td>Teste</td>\n",
       "    </tr>\n",
       "    <tr>\n",
       "      <th>1</th>\n",
       "      <td>0.718637</td>\n",
       "      <td>0.771801</td>\n",
       "      <td>0.704777</td>\n",
       "      <td>0.769501</td>\n",
       "      <td>Teste</td>\n",
       "    </tr>\n",
       "    <tr>\n",
       "      <th>2</th>\n",
       "      <td>0.718806</td>\n",
       "      <td>0.772155</td>\n",
       "      <td>0.704870</td>\n",
       "      <td>0.769296</td>\n",
       "      <td>Teste</td>\n",
       "    </tr>\n",
       "    <tr>\n",
       "      <th>3</th>\n",
       "      <td>0.719438</td>\n",
       "      <td>0.772776</td>\n",
       "      <td>0.705408</td>\n",
       "      <td>0.769838</td>\n",
       "      <td>Teste</td>\n",
       "    </tr>\n",
       "    <tr>\n",
       "      <th>4</th>\n",
       "      <td>0.718418</td>\n",
       "      <td>0.771624</td>\n",
       "      <td>0.704581</td>\n",
       "      <td>0.769243</td>\n",
       "      <td>Teste</td>\n",
       "    </tr>\n",
       "    <tr>\n",
       "      <th>5</th>\n",
       "      <td>0.718864</td>\n",
       "      <td>0.772333</td>\n",
       "      <td>0.704887</td>\n",
       "      <td>0.769121</td>\n",
       "      <td>Teste</td>\n",
       "    </tr>\n",
       "    <tr>\n",
       "      <th>6</th>\n",
       "      <td>0.718078</td>\n",
       "      <td>0.770915</td>\n",
       "      <td>0.704400</td>\n",
       "      <td>0.769655</td>\n",
       "      <td>Teste</td>\n",
       "    </tr>\n",
       "    <tr>\n",
       "      <th>7</th>\n",
       "      <td>0.718525</td>\n",
       "      <td>0.771624</td>\n",
       "      <td>0.704701</td>\n",
       "      <td>0.769532</td>\n",
       "      <td>Teste</td>\n",
       "    </tr>\n",
       "    <tr>\n",
       "      <th>8</th>\n",
       "      <td>0.718496</td>\n",
       "      <td>0.771535</td>\n",
       "      <td>0.704693</td>\n",
       "      <td>0.769620</td>\n",
       "      <td>Teste</td>\n",
       "    </tr>\n",
       "    <tr>\n",
       "      <th>9</th>\n",
       "      <td>0.718748</td>\n",
       "      <td>0.771978</td>\n",
       "      <td>0.704853</td>\n",
       "      <td>0.769471</td>\n",
       "      <td>Teste</td>\n",
       "    </tr>\n",
       "  </tbody>\n",
       "</table>\n",
       "</div>"
      ],
      "text/plain": [
       "         f1  accuracy  precision    recall            dataset\n",
       "0  0.750568  0.750628   0.750857  0.750621  Validação Cruzada\n",
       "1  0.763197  0.763198   0.763204  0.763199  Validação Cruzada\n",
       "2  0.763700  0.763700   0.763701  0.763700  Validação Cruzada\n",
       "3  0.775198  0.775264   0.775604  0.775273  Validação Cruzada\n",
       "4  0.777662  0.777666   0.777684  0.777666  Validação Cruzada\n",
       "5  0.755462  0.755533   0.755833  0.755533  Validação Cruzada\n",
       "6  0.766588  0.766600   0.766652  0.766600  Validação Cruzada\n",
       "7  0.749989  0.750000   0.750043  0.750000  Validação Cruzada\n",
       "8  0.786694  0.786720   0.786861  0.786720  Validação Cruzada\n",
       "9  0.761558  0.761569   0.761621  0.761569  Validação Cruzada\n",
       "0  0.718773  0.771889   0.704905  0.769703              Teste\n",
       "1  0.718637  0.771801   0.704777  0.769501              Teste\n",
       "2  0.718806  0.772155   0.704870  0.769296              Teste\n",
       "3  0.719438  0.772776   0.705408  0.769838              Teste\n",
       "4  0.718418  0.771624   0.704581  0.769243              Teste\n",
       "5  0.718864  0.772333   0.704887  0.769121              Teste\n",
       "6  0.718078  0.770915   0.704400  0.769655              Teste\n",
       "7  0.718525  0.771624   0.704701  0.769532              Teste\n",
       "8  0.718496  0.771535   0.704693  0.769620              Teste\n",
       "9  0.718748  0.771978   0.704853  0.769471              Teste"
      ]
     },
     "execution_count": 33,
     "metadata": {},
     "output_type": "execute_result"
    }
   ],
   "source": [
    "results_list_corr"
   ]
  },
  {
   "cell_type": "markdown",
   "metadata": {
    "id": "iVzPA11bPdwr"
   },
   "source": [
    "### RANDOM FOREST - FEATURE IMPORTANCE"
   ]
  },
  {
   "cell_type": "code",
   "execution_count": 34,
   "metadata": {
    "colab": {
     "base_uri": "https://localhost:8080/"
    },
    "executionInfo": {
     "elapsed": 8171,
     "status": "ok",
     "timestamp": 1727154866656,
     "user": {
      "displayName": "Guilherme Lourenço",
      "userId": "06971887765221303175"
     },
     "user_tz": 180
    },
    "id": "nYywKaA8GKrX",
    "outputId": "9ebd5684-8226-4a8f-b113-e31792136496"
   },
   "outputs": [
    {
     "name": "stdout",
     "output_type": "stream",
     "text": [
      "====> INICIANDO PROCESSAMENTO: 2024-10-28 10:13:53.181204 <====\n",
      "====> 2024-10-28 10:13:53.184798 | EXECUTANDO FOLD 1 \n",
      "Fitting 3 folds for each of 5 candidates, totalling 15 fits\n",
      "[CV 1/3] END .................var_smoothing=0.0;, score=0.768 total time=   0.0s\n",
      "[CV 2/3] END .................var_smoothing=0.0;, score=0.765 total time=   0.0s\n",
      "[CV 3/3] END .................var_smoothing=0.0;, score=0.765 total time=   0.0s\n",
      "[CV 1/3] END ................var_smoothing=0.01;, score=0.768 total time=   0.0s\n",
      "[CV 2/3] END ................var_smoothing=0.01;, score=0.765 total time=   0.0s\n",
      "[CV 3/3] END ................var_smoothing=0.01;, score=0.765 total time=   0.0s\n",
      "[CV 1/3] END .................var_smoothing=0.1;, score=0.769 total time=   0.0s[CV 2/3] END .................var_smoothing=0.1;, score=0.766 total time=   0.0s\n",
      "\n",
      "[CV 3/3] END .................var_smoothing=0.1;, score=0.766 total time=   0.0s\n",
      "[CV 1/3] END .................var_smoothing=0.5;, score=0.773 total time=   0.0s\n",
      "[CV 2/3] END .................var_smoothing=0.5;, score=0.765 total time=   0.0s\n",
      "[CV 3/3] END .................var_smoothing=0.5;, score=0.770 total time=   0.0s\n",
      "[CV 1/3] END .................var_smoothing=1.0;, score=0.774 total time=   0.0s\n",
      "[CV 2/3] END .................var_smoothing=1.0;, score=0.765 total time=   0.0s\n",
      "[CV 3/3] END .................var_smoothing=1.0;, score=0.772 total time=   0.0s\n",
      "===> 2024-10-28 10:13:53.417635 | FINALIZADO FOLD 1 | TEMPO TOTAL 0:00:00.232837\n",
      "\n",
      "====> 2024-10-28 10:13:53.418273 | EXECUTANDO FOLD 2 \n",
      "Fitting 3 folds for each of 5 candidates, totalling 15 fits\n",
      "[CV 2/3] END .................var_smoothing=0.0;, score=0.765 total time=   0.0s\n",
      "[CV 1/3] END .................var_smoothing=0.0;, score=0.764 total time=   0.0s\n",
      "[CV 3/3] END .................var_smoothing=0.0;, score=0.765 total time=   0.0s\n",
      "[CV 1/3] END ................var_smoothing=0.01;, score=0.764 total time=   0.0s\n",
      "[CV 2/3] END ................var_smoothing=0.01;, score=0.765 total time=   0.0s\n",
      "[CV 3/3] END ................var_smoothing=0.01;, score=0.766 total time=   0.0s\n",
      "[CV 1/3] END .................var_smoothing=0.1;, score=0.765 total time=   0.0s\n",
      "[CV 2/3] END .................var_smoothing=0.1;, score=0.766 total time=   0.0s\n",
      "[CV 3/3] END .................var_smoothing=0.1;, score=0.766 total time=   0.0s\n",
      "[CV 1/3] END .................var_smoothing=0.5;, score=0.769 total time=   0.0s\n",
      "[CV 2/3] END .................var_smoothing=0.5;, score=0.766 total time=   0.0s\n",
      "[CV 3/3] END .................var_smoothing=0.5;, score=0.770 total time=   0.0s\n",
      "[CV 1/3] END .................var_smoothing=1.0;, score=0.770 total time=   0.0s\n",
      "[CV 3/3] END .................var_smoothing=1.0;, score=0.771 total time=   0.0s\n",
      "[CV 2/3] END .................var_smoothing=1.0;, score=0.766 total time=   0.0s\n",
      "===> 2024-10-28 10:13:53.645296 | FINALIZADO FOLD 2 | TEMPO TOTAL 0:00:00.227023\n",
      "\n",
      "====> 2024-10-28 10:13:53.645860 | EXECUTANDO FOLD 3 \n",
      "Fitting 3 folds for each of 5 candidates, totalling 15 fits\n",
      "[CV 1/3] END .................var_smoothing=0.0;, score=0.765 total time=   0.0s\n",
      "[CV 2/3] END .................var_smoothing=0.0;, score=0.765 total time=   0.0s\n",
      "[CV 3/3] END .................var_smoothing=0.0;, score=0.765 total time=   0.0s\n",
      "[CV 2/3] END ................var_smoothing=0.01;, score=0.765 total time=   0.0s\n",
      "[CV 1/3] END ................var_smoothing=0.01;, score=0.764 total time=   0.0s\n",
      "[CV 3/3] END ................var_smoothing=0.01;, score=0.765 total time=   0.0s\n",
      "[CV 1/3] END .................var_smoothing=0.1;, score=0.765 total time=   0.0s\n",
      "[CV 2/3] END .................var_smoothing=0.1;, score=0.766 total time=   0.0s\n",
      "[CV 3/3] END .................var_smoothing=0.1;, score=0.766 total time=   0.0s\n",
      "[CV 1/3] END .................var_smoothing=0.5;, score=0.769 total time=   0.0s\n",
      "[CV 2/3] END .................var_smoothing=0.5;, score=0.766 total time=   0.0s\n",
      "[CV 3/3] END .................var_smoothing=0.5;, score=0.770 total time=   0.0s\n",
      "[CV 2/3] END .................var_smoothing=1.0;, score=0.766 total time=   0.0s\n",
      "[CV 1/3] END .................var_smoothing=1.0;, score=0.770 total time=   0.0s\n",
      "[CV 3/3] END .................var_smoothing=1.0;, score=0.772 total time=   0.0s\n",
      "===> 2024-10-28 10:13:53.864604 | FINALIZADO FOLD 3 | TEMPO TOTAL 0:00:00.218744\n",
      "\n",
      "====> 2024-10-28 10:13:53.865081 | EXECUTANDO FOLD 4 \n",
      "Fitting 3 folds for each of 5 candidates, totalling 15 fits\n",
      "[CV 1/3] END .................var_smoothing=0.0;, score=0.761 total time=   0.0s\n",
      "[CV 2/3] END .................var_smoothing=0.0;, score=0.765 total time=   0.0s\n",
      "[CV 3/3] END .................var_smoothing=0.0;, score=0.765 total time=   0.0s\n",
      "[CV 1/3] END ................var_smoothing=0.01;, score=0.761 total time=   0.0s\n",
      "[CV 2/3] END ................var_smoothing=0.01;, score=0.765 total time=   0.0s\n",
      "[CV 3/3] END ................var_smoothing=0.01;, score=0.765 total time=   0.0s\n",
      "[CV 1/3] END .................var_smoothing=0.1;, score=0.762 total time=   0.0s\n",
      "[CV 2/3] END .................var_smoothing=0.1;, score=0.766 total time=   0.0s\n",
      "[CV 3/3] END .................var_smoothing=0.1;, score=0.766 total time=   0.0s\n",
      "[CV 1/3] END .................var_smoothing=0.5;, score=0.765 total time=   0.0s\n",
      "[CV 2/3] END .................var_smoothing=0.5;, score=0.765 total time=   0.0s\n",
      "[CV 3/3] END .................var_smoothing=0.5;, score=0.769 total time=   0.0s\n",
      "[CV 1/3] END .................var_smoothing=1.0;, score=0.767 total time=   0.0s\n",
      "[CV 2/3] END .................var_smoothing=1.0;, score=0.764 total time=   0.0s\n",
      "[CV 3/3] END .................var_smoothing=1.0;, score=0.771 total time=   0.0s\n",
      "===> 2024-10-28 10:13:54.097579 | FINALIZADO FOLD 4 | TEMPO TOTAL 0:00:00.232498\n",
      "\n",
      "====> 2024-10-28 10:13:54.097972 | EXECUTANDO FOLD 5 \n",
      "Fitting 3 folds for each of 5 candidates, totalling 15 fits\n",
      "[CV 1/3] END .................var_smoothing=0.0;, score=0.762 total time=   0.0s\n",
      "[CV 2/3] END .................var_smoothing=0.0;, score=0.765 total time=   0.0s\n",
      "[CV 1/3] END ................var_smoothing=0.01;, score=0.762 total time=   0.0s\n",
      "[CV 3/3] END .................var_smoothing=0.0;, score=0.766 total time=   0.0s\n",
      "[CV 2/3] END ................var_smoothing=0.01;, score=0.765 total time=   0.0s\n",
      "[CV 3/3] END ................var_smoothing=0.01;, score=0.766 total time=   0.0s\n",
      "[CV 1/3] END .................var_smoothing=0.1;, score=0.763 total time=   0.0s\n",
      "[CV 3/3] END .................var_smoothing=0.1;, score=0.767 total time=   0.0s\n",
      "[CV 2/3] END .................var_smoothing=0.1;, score=0.766 total time=   0.0s\n",
      "[CV 1/3] END .................var_smoothing=0.5;, score=0.765 total time=   0.0s\n",
      "[CV 3/3] END .................var_smoothing=0.5;, score=0.770 total time=   0.0s\n",
      "[CV 2/3] END .................var_smoothing=0.5;, score=0.767 total time=   0.0s\n",
      "[CV 2/3] END .................var_smoothing=1.0;, score=0.766 total time=   0.0s\n",
      "[CV 1/3] END .................var_smoothing=1.0;, score=0.767 total time=   0.0s\n",
      "[CV 3/3] END .................var_smoothing=1.0;, score=0.771 total time=   0.0s\n",
      "===> 2024-10-28 10:13:54.321896 | FINALIZADO FOLD 5 | TEMPO TOTAL 0:00:00.223924\n",
      "\n",
      "====> 2024-10-28 10:13:54.322502 | EXECUTANDO FOLD 6 \n",
      "Fitting 3 folds for each of 5 candidates, totalling 15 fits\n",
      "[CV 1/3] END .................var_smoothing=0.0;, score=0.761 total time=   0.0s\n",
      "[CV 2/3] END .................var_smoothing=0.0;, score=0.774 total time=   0.0s\n",
      "[CV 3/3] END .................var_smoothing=0.0;, score=0.765 total time=   0.0s\n",
      "[CV 1/3] END ................var_smoothing=0.01;, score=0.761 total time=   0.0s\n",
      "[CV 3/3] END ................var_smoothing=0.01;, score=0.765 total time=   0.0s\n",
      "[CV 2/3] END ................var_smoothing=0.01;, score=0.774 total time=   0.0s\n",
      "[CV 1/3] END .................var_smoothing=0.1;, score=0.762 total time=   0.0s\n",
      "[CV 2/3] END .................var_smoothing=0.1;, score=0.775 total time=   0.0s\n",
      "[CV 3/3] END .................var_smoothing=0.1;, score=0.766 total time=   0.0s\n",
      "[CV 1/3] END .................var_smoothing=0.5;, score=0.764 total time=   0.0s\n",
      "[CV 2/3] END .................var_smoothing=0.5;, score=0.776 total time=   0.0s\n",
      "[CV 1/3] END .................var_smoothing=1.0;, score=0.767 total time=   0.0s\n",
      "[CV 3/3] END .................var_smoothing=0.5;, score=0.769 total time=   0.0s\n",
      "[CV 2/3] END .................var_smoothing=1.0;, score=0.776 total time=   0.0s\n",
      "[CV 3/3] END .................var_smoothing=1.0;, score=0.771 total time=   0.0s\n",
      "===> 2024-10-28 10:13:54.556962 | FINALIZADO FOLD 6 | TEMPO TOTAL 0:00:00.234460\n",
      "\n",
      "====> 2024-10-28 10:13:54.557433 | EXECUTANDO FOLD 7 \n",
      "Fitting 3 folds for each of 5 candidates, totalling 15 fits\n",
      "[CV 1/3] END .................var_smoothing=0.0;, score=0.763 total time=   0.0s\n",
      "[CV 2/3] END .................var_smoothing=0.0;, score=0.765 total time=   0.0s\n",
      "[CV 3/3] END .................var_smoothing=0.0;, score=0.767 total time=   0.0s\n",
      "[CV 1/3] END ................var_smoothing=0.01;, score=0.763 total time=   0.0s\n",
      "[CV 2/3] END ................var_smoothing=0.01;, score=0.766 total time=   0.0s\n",
      "[CV 3/3] END ................var_smoothing=0.01;, score=0.767 total time=   0.0s\n",
      "[CV 1/3] END .................var_smoothing=0.1;, score=0.763 total time=   0.0s\n",
      "[CV 2/3] END .................var_smoothing=0.1;, score=0.766 total time=   0.0s\n",
      "[CV 3/3] END .................var_smoothing=0.1;, score=0.768 total time=   0.0s\n",
      "[CV 1/3] END .................var_smoothing=0.5;, score=0.767 total time=   0.0s\n",
      "[CV 2/3] END .................var_smoothing=0.5;, score=0.768 total time=   0.0s\n",
      "[CV 2/3] END .................var_smoothing=1.0;, score=0.766 total time=   0.0s\n",
      "[CV 3/3] END .................var_smoothing=1.0;, score=0.773 total time=   0.0s\n",
      "[CV 3/3] END .................var_smoothing=0.5;, score=0.771 total time=   0.0s\n",
      "[CV 1/3] END .................var_smoothing=1.0;, score=0.768 total time=   0.0s\n",
      "===> 2024-10-28 10:13:54.777722 | FINALIZADO FOLD 7 | TEMPO TOTAL 0:00:00.220289\n",
      "\n",
      "====> 2024-10-28 10:13:54.778337 | EXECUTANDO FOLD 8 \n",
      "Fitting 3 folds for each of 5 candidates, totalling 15 fits\n",
      "[CV 1/3] END .................var_smoothing=0.0;, score=0.762 total time=   0.0s\n",
      "[CV 2/3] END .................var_smoothing=0.0;, score=0.764 total time=   0.0s\n",
      "[CV 3/3] END .................var_smoothing=0.0;, score=0.774 total time=   0.0s\n",
      "[CV 2/3] END ................var_smoothing=0.01;, score=0.764 total time=   0.0s\n",
      "[CV 1/3] END ................var_smoothing=0.01;, score=0.761 total time=   0.0s\n",
      "[CV 3/3] END ................var_smoothing=0.01;, score=0.774 total time=   0.0s\n",
      "[CV 1/3] END .................var_smoothing=0.1;, score=0.763 total time=   0.0s\n",
      "[CV 2/3] END .................var_smoothing=0.1;, score=0.764 total time=   0.0s\n",
      "[CV 3/3] END .................var_smoothing=0.1;, score=0.776 total time=   0.0s\n",
      "[CV 1/3] END .................var_smoothing=0.5;, score=0.766 total time=   0.0s\n",
      "[CV 2/3] END .................var_smoothing=0.5;, score=0.765 total time=   0.0s\n",
      "[CV 3/3] END .................var_smoothing=0.5;, score=0.777 total time=   0.0s\n",
      "[CV 1/3] END .................var_smoothing=1.0;, score=0.767 total time=   0.0s\n",
      "[CV 2/3] END .................var_smoothing=1.0;, score=0.765 total time=   0.0s\n",
      "[CV 3/3] END .................var_smoothing=1.0;, score=0.779 total time=   0.0s\n",
      "===> 2024-10-28 10:13:54.993333 | FINALIZADO FOLD 8 | TEMPO TOTAL 0:00:00.214996\n",
      "\n",
      "====> 2024-10-28 10:13:54.994074 | EXECUTANDO FOLD 9 \n",
      "Fitting 3 folds for each of 5 candidates, totalling 15 fits\n",
      "[CV 1/3] END .................var_smoothing=0.0;, score=0.762 total time=   0.0s\n",
      "[CV 2/3] END .................var_smoothing=0.0;, score=0.764 total time=   0.0s\n",
      "[CV 3/3] END .................var_smoothing=0.0;, score=0.764 total time=   0.0s\n",
      "[CV 1/3] END ................var_smoothing=0.01;, score=0.762 total time=   0.0s\n",
      "[CV 2/3] END ................var_smoothing=0.01;, score=0.764 total time=   0.0s\n",
      "[CV 3/3] END ................var_smoothing=0.01;, score=0.764 total time=   0.0s\n",
      "[CV 1/3] END .................var_smoothing=0.1;, score=0.763 total time=   0.0s\n",
      "[CV 2/3] END .................var_smoothing=0.1;, score=0.764 total time=   0.0s\n",
      "[CV 1/3] END .................var_smoothing=0.5;, score=0.765 total time=   0.0s\n",
      "[CV 3/3] END .................var_smoothing=0.1;, score=0.765 total time=   0.0s\n",
      "[CV 2/3] END .................var_smoothing=0.5;, score=0.765 total time=   0.0s\n",
      "[CV 3/3] END .................var_smoothing=0.5;, score=0.765 total time=   0.0s\n",
      "[CV 2/3] END .................var_smoothing=1.0;, score=0.765 total time=   0.0s\n",
      "[CV 1/3] END .................var_smoothing=1.0;, score=0.767 total time=   0.0s\n",
      "[CV 3/3] END .................var_smoothing=1.0;, score=0.767 total time=   0.0s\n",
      "===> 2024-10-28 10:13:55.224043 | FINALIZADO FOLD 9 | TEMPO TOTAL 0:00:00.229969\n",
      "\n",
      "====> 2024-10-28 10:13:55.224396 | EXECUTANDO FOLD 10 \n",
      "Fitting 3 folds for each of 5 candidates, totalling 15 fits\n",
      "[CV 1/3] END .................var_smoothing=0.0;, score=0.762 total time=   0.0s\n",
      "[CV 2/3] END .................var_smoothing=0.0;, score=0.764 total time=   0.0s\n",
      "[CV 3/3] END .................var_smoothing=0.0;, score=0.769 total time=   0.0s\n",
      "[CV 1/3] END ................var_smoothing=0.01;, score=0.762 total time=   0.0s\n",
      "[CV 2/3] END ................var_smoothing=0.01;, score=0.765 total time=   0.0s\n",
      "[CV 3/3] END ................var_smoothing=0.01;, score=0.769 total time=   0.0s\n",
      "[CV 1/3] END .................var_smoothing=0.1;, score=0.763 total time=   0.0s\n",
      "[CV 3/3] END .................var_smoothing=0.1;, score=0.770 total time=   0.0s\n",
      "[CV 2/3] END .................var_smoothing=0.1;, score=0.765 total time=   0.0s\n",
      "[CV 1/3] END .................var_smoothing=0.5;, score=0.766 total time=   0.0s\n",
      "[CV 3/3] END .................var_smoothing=0.5;, score=0.771 total time=   0.0s\n",
      "[CV 1/3] END .................var_smoothing=1.0;, score=0.767 total time=   0.0s\n",
      "[CV 2/3] END .................var_smoothing=0.5;, score=0.765 total time=   0.0s\n",
      "[CV 3/3] END .................var_smoothing=1.0;, score=0.773 total time=   0.0s\n",
      "[CV 2/3] END .................var_smoothing=1.0;, score=0.765 total time=   0.0s\n",
      "===> 2024-10-28 10:13:55.444622 | FINALIZADO FOLD 10 | TEMPO TOTAL 0:00:00.220226\n",
      "\n",
      "Resultados na validação cruzada: {'f1': 0.7683411861749918, 'accuracy': 0.7683564180457303, 'precision': 0.7684254658301828, 'recall': 0.7683567232540975}\n",
      "Resultados na base de teste: {'f1': 0.7182007053554946, 'accuracy': 0.7696561503013115, 'precision': 0.7049468678991373, 'recall': 0.7723856264076103}\n",
      "Melhores parâmetros escolhidos: {'var_smoothing': 1.0}\n"
     ]
    }
   ],
   "source": [
    "# Parâmetros do modelo\n",
    "param_grid_categorical = {\"var_smoothing\": [0.0, 0.01, 0.1, 0.5, 1.0]}\n",
    "\n",
    "caracteristicas_filtro = [\n",
    "    \"Humidity3pm\",\n",
    "    \"Cloud3pm\",\n",
    "    \"Sunshine\",\n",
    "    \"Rainfall\",\n",
    "    \"Pressure3pm\",\n",
    "    \"Cloud9am\",\n",
    "    \"WindGustSpeed\",\n",
    "    \"RangeTemp\",\n",
    "    \"Humidity9am\",\n",
    "    \"MinTemp\",\n",
    "]\n",
    "\n",
    "# Executar a função e obter os melhores parâmetros\n",
    "results_validation, results_test, best_params, results_list_rd = run_cross_validation(\n",
    "    df_train[caracteristicas_filtro],\n",
    "    df_train[\"RainTomorrow\"],\n",
    "    df_test[caracteristicas_filtro],\n",
    "    df_test[\"RainTomorrow\"],\n",
    "    GaussianNB(),\n",
    "    param_grid_categorical,\n",
    "    k_folds=10,\n",
    ")\n",
    "\n",
    "print(\"Resultados na validação cruzada:\", results_validation)\n",
    "print(\"Resultados na base de teste:\", results_test)\n",
    "print(\"Melhores parâmetros escolhidos:\", best_params)"
   ]
  },
  {
   "cell_type": "code",
   "execution_count": 35,
   "metadata": {
    "colab": {
     "base_uri": "https://localhost:8080/",
     "height": 677
    },
    "executionInfo": {
     "elapsed": 5,
     "status": "ok",
     "timestamp": 1727154866656,
     "user": {
      "displayName": "Guilherme Lourenço",
      "userId": "06971887765221303175"
     },
     "user_tz": 180
    },
    "id": "Wn_0adKFc7bB",
    "outputId": "751ebc39-078b-49df-96b0-d47f2690e0f6"
   },
   "outputs": [
    {
     "data": {
      "text/html": [
       "<div>\n",
       "<style scoped>\n",
       "    .dataframe tbody tr th:only-of-type {\n",
       "        vertical-align: middle;\n",
       "    }\n",
       "\n",
       "    .dataframe tbody tr th {\n",
       "        vertical-align: top;\n",
       "    }\n",
       "\n",
       "    .dataframe thead th {\n",
       "        text-align: right;\n",
       "    }\n",
       "</style>\n",
       "<table border=\"1\" class=\"dataframe\">\n",
       "  <thead>\n",
       "    <tr style=\"text-align: right;\">\n",
       "      <th></th>\n",
       "      <th>f1</th>\n",
       "      <th>accuracy</th>\n",
       "      <th>precision</th>\n",
       "      <th>recall</th>\n",
       "      <th>dataset</th>\n",
       "    </tr>\n",
       "  </thead>\n",
       "  <tbody>\n",
       "    <tr>\n",
       "      <th>0</th>\n",
       "      <td>0.756661</td>\n",
       "      <td>0.756662</td>\n",
       "      <td>0.756666</td>\n",
       "      <td>0.756663</td>\n",
       "      <td>Validação Cruzada</td>\n",
       "    </tr>\n",
       "    <tr>\n",
       "      <th>1</th>\n",
       "      <td>0.769178</td>\n",
       "      <td>0.769231</td>\n",
       "      <td>0.769492</td>\n",
       "      <td>0.769239</td>\n",
       "      <td>Validação Cruzada</td>\n",
       "    </tr>\n",
       "    <tr>\n",
       "      <th>2</th>\n",
       "      <td>0.767666</td>\n",
       "      <td>0.767722</td>\n",
       "      <td>0.767967</td>\n",
       "      <td>0.767715</td>\n",
       "      <td>Validação Cruzada</td>\n",
       "    </tr>\n",
       "    <tr>\n",
       "      <th>3</th>\n",
       "      <td>0.780792</td>\n",
       "      <td>0.780794</td>\n",
       "      <td>0.780812</td>\n",
       "      <td>0.780796</td>\n",
       "      <td>Validação Cruzada</td>\n",
       "    </tr>\n",
       "    <tr>\n",
       "      <th>4</th>\n",
       "      <td>0.775150</td>\n",
       "      <td>0.775151</td>\n",
       "      <td>0.775153</td>\n",
       "      <td>0.775151</td>\n",
       "      <td>Validação Cruzada</td>\n",
       "    </tr>\n",
       "    <tr>\n",
       "      <th>5</th>\n",
       "      <td>0.746470</td>\n",
       "      <td>0.746479</td>\n",
       "      <td>0.746515</td>\n",
       "      <td>0.746479</td>\n",
       "      <td>Validação Cruzada</td>\n",
       "    </tr>\n",
       "    <tr>\n",
       "      <th>6</th>\n",
       "      <td>0.774143</td>\n",
       "      <td>0.774145</td>\n",
       "      <td>0.774152</td>\n",
       "      <td>0.774145</td>\n",
       "      <td>Validação Cruzada</td>\n",
       "    </tr>\n",
       "    <tr>\n",
       "      <th>7</th>\n",
       "      <td>0.750978</td>\n",
       "      <td>0.751006</td>\n",
       "      <td>0.751118</td>\n",
       "      <td>0.751006</td>\n",
       "      <td>Validação Cruzada</td>\n",
       "    </tr>\n",
       "    <tr>\n",
       "      <th>8</th>\n",
       "      <td>0.790744</td>\n",
       "      <td>0.790744</td>\n",
       "      <td>0.790746</td>\n",
       "      <td>0.790744</td>\n",
       "      <td>Validação Cruzada</td>\n",
       "    </tr>\n",
       "    <tr>\n",
       "      <th>9</th>\n",
       "      <td>0.771629</td>\n",
       "      <td>0.771630</td>\n",
       "      <td>0.771634</td>\n",
       "      <td>0.771630</td>\n",
       "      <td>Validação Cruzada</td>\n",
       "    </tr>\n",
       "    <tr>\n",
       "      <th>0</th>\n",
       "      <td>0.717727</td>\n",
       "      <td>0.769231</td>\n",
       "      <td>0.704536</td>\n",
       "      <td>0.771896</td>\n",
       "      <td>Teste</td>\n",
       "    </tr>\n",
       "    <tr>\n",
       "      <th>1</th>\n",
       "      <td>0.718109</td>\n",
       "      <td>0.769585</td>\n",
       "      <td>0.704862</td>\n",
       "      <td>0.772268</td>\n",
       "      <td>Teste</td>\n",
       "    </tr>\n",
       "    <tr>\n",
       "      <th>2</th>\n",
       "      <td>0.718048</td>\n",
       "      <td>0.769408</td>\n",
       "      <td>0.704853</td>\n",
       "      <td>0.772443</td>\n",
       "      <td>Teste</td>\n",
       "    </tr>\n",
       "    <tr>\n",
       "      <th>3</th>\n",
       "      <td>0.719075</td>\n",
       "      <td>0.770737</td>\n",
       "      <td>0.705603</td>\n",
       "      <td>0.772718</td>\n",
       "      <td>Teste</td>\n",
       "    </tr>\n",
       "    <tr>\n",
       "      <th>4</th>\n",
       "      <td>0.718183</td>\n",
       "      <td>0.769497</td>\n",
       "      <td>0.704981</td>\n",
       "      <td>0.772644</td>\n",
       "      <td>Teste</td>\n",
       "    </tr>\n",
       "    <tr>\n",
       "      <th>5</th>\n",
       "      <td>0.718663</td>\n",
       "      <td>0.770294</td>\n",
       "      <td>0.705270</td>\n",
       "      <td>0.772434</td>\n",
       "      <td>Teste</td>\n",
       "    </tr>\n",
       "    <tr>\n",
       "      <th>6</th>\n",
       "      <td>0.717495</td>\n",
       "      <td>0.768699</td>\n",
       "      <td>0.704450</td>\n",
       "      <td>0.772277</td>\n",
       "      <td>Teste</td>\n",
       "    </tr>\n",
       "    <tr>\n",
       "      <th>7</th>\n",
       "      <td>0.717914</td>\n",
       "      <td>0.769319</td>\n",
       "      <td>0.704725</td>\n",
       "      <td>0.772242</td>\n",
       "      <td>Teste</td>\n",
       "    </tr>\n",
       "    <tr>\n",
       "      <th>8</th>\n",
       "      <td>0.718191</td>\n",
       "      <td>0.769674</td>\n",
       "      <td>0.704928</td>\n",
       "      <td>0.772325</td>\n",
       "      <td>Teste</td>\n",
       "    </tr>\n",
       "    <tr>\n",
       "      <th>9</th>\n",
       "      <td>0.718603</td>\n",
       "      <td>0.770117</td>\n",
       "      <td>0.705260</td>\n",
       "      <td>0.772609</td>\n",
       "      <td>Teste</td>\n",
       "    </tr>\n",
       "  </tbody>\n",
       "</table>\n",
       "</div>"
      ],
      "text/plain": [
       "         f1  accuracy  precision    recall            dataset\n",
       "0  0.756661  0.756662   0.756666  0.756663  Validação Cruzada\n",
       "1  0.769178  0.769231   0.769492  0.769239  Validação Cruzada\n",
       "2  0.767666  0.767722   0.767967  0.767715  Validação Cruzada\n",
       "3  0.780792  0.780794   0.780812  0.780796  Validação Cruzada\n",
       "4  0.775150  0.775151   0.775153  0.775151  Validação Cruzada\n",
       "5  0.746470  0.746479   0.746515  0.746479  Validação Cruzada\n",
       "6  0.774143  0.774145   0.774152  0.774145  Validação Cruzada\n",
       "7  0.750978  0.751006   0.751118  0.751006  Validação Cruzada\n",
       "8  0.790744  0.790744   0.790746  0.790744  Validação Cruzada\n",
       "9  0.771629  0.771630   0.771634  0.771630  Validação Cruzada\n",
       "0  0.717727  0.769231   0.704536  0.771896              Teste\n",
       "1  0.718109  0.769585   0.704862  0.772268              Teste\n",
       "2  0.718048  0.769408   0.704853  0.772443              Teste\n",
       "3  0.719075  0.770737   0.705603  0.772718              Teste\n",
       "4  0.718183  0.769497   0.704981  0.772644              Teste\n",
       "5  0.718663  0.770294   0.705270  0.772434              Teste\n",
       "6  0.717495  0.768699   0.704450  0.772277              Teste\n",
       "7  0.717914  0.769319   0.704725  0.772242              Teste\n",
       "8  0.718191  0.769674   0.704928  0.772325              Teste\n",
       "9  0.718603  0.770117   0.705260  0.772609              Teste"
      ]
     },
     "execution_count": 35,
     "metadata": {},
     "output_type": "execute_result"
    }
   ],
   "source": [
    "results_list_rd"
   ]
  },
  {
   "cell_type": "markdown",
   "metadata": {
    "id": "BVwyNAgNEu1F"
   },
   "source": [
    "## RANDOM FOREST - CLASSIFIER"
   ]
  },
  {
   "cell_type": "markdown",
   "metadata": {
    "id": "p-LXZtXEEu1F"
   },
   "source": [
    "### TODAS AS CARACTERÍSTICAS"
   ]
  },
  {
   "cell_type": "code",
   "execution_count": 36,
   "metadata": {
    "id": "xEbPAZW1Eu1F",
    "outputId": "b0a41bfd-6a8d-4aaf-f5f0-1ca25dce5f22"
   },
   "outputs": [
    {
     "name": "stdout",
     "output_type": "stream",
     "text": [
      "====> INICIANDO PROCESSAMENTO: 2024-10-28 10:14:06.357736 <====\n",
      "====> 2024-10-28 10:14:06.360048 | EXECUTANDO FOLD 1 \n",
      "Fitting 3 folds for each of 12 candidates, totalling 36 fits\n",
      "[CV 3/3] END max_features=log2, n_estimators=500;, score=0.814 total time=  19.9s\n",
      "[CV 2/3] END max_features=log2, n_estimators=500;, score=0.812 total time=  20.2s\n",
      "[CV 2/3] END max_features=sqrt, n_estimators=500;, score=0.815 total time=  20.6s\n",
      "[CV 3/3] END max_features=sqrt, n_estimators=500;, score=0.813 total time=  21.1s\n",
      "[CV 1/3] END max_features=log2, n_estimators=500;, score=0.810 total time=  21.3s\n",
      "[CV 1/3] END max_features=sqrt, n_estimators=500;, score=0.812 total time=  21.7s\n",
      "[CV 3/3] END max_features=sqrt, n_estimators=700;, score=0.813 total time=  26.3s\n",
      "[CV 1/3] END max_features=sqrt, n_estimators=700;, score=0.812 total time=  26.9s\n",
      "[CV 2/3] END max_features=sqrt, n_estimators=700;, score=0.814 total time=  27.0s\n",
      "[CV 3/3] END max_features=sqrt, n_estimators=1000;, score=0.814 total time=  36.8s\n",
      "[CV 1/3] END max_features=sqrt, n_estimators=1000;, score=0.812 total time=  38.1s\n",
      "[CV 2/3] END max_features=sqrt, n_estimators=1000;, score=0.813 total time=  40.7s\n",
      "[CV 1/3] END max_features=log2, n_estimators=700;, score=0.811 total time=  26.3s\n",
      "[CV 3/3] END max_features=log2, n_estimators=700;, score=0.814 total time=  25.6s\n",
      "[CV 2/3] END max_features=log2, n_estimators=700;, score=0.811 total time=  28.4s\n",
      "[CV 3/3] END .max_features=10, n_estimators=500;, score=0.814 total time=  27.0s\n",
      "[CV 1/3] END .max_features=10, n_estimators=500;, score=0.814 total time=  28.5s\n",
      "[CV 2/3] END .max_features=10, n_estimators=500;, score=0.811 total time=  28.9s\n",
      "[CV 3/3] END max_features=log2, n_estimators=1000;, score=0.812 total time=  36.4s\n",
      "[CV 2/3] END max_features=log2, n_estimators=1000;, score=0.813 total time=  37.9s\n",
      "[CV 1/3] END max_features=log2, n_estimators=1000;, score=0.811 total time=  38.5s\n",
      "[CV 1/3] END .max_features=10, n_estimators=700;, score=0.814 total time=  35.3s\n",
      "[CV 2/3] END .max_features=10, n_estimators=700;, score=0.812 total time=  37.0s\n",
      "[CV 3/3] END .max_features=10, n_estimators=700;, score=0.815 total time=  38.6s\n",
      "[CV 1/3] END max_features=10, n_estimators=1000;, score=0.813 total time=  54.3s\n",
      "[CV 2/3] END max_features=10, n_estimators=1000;, score=0.811 total time=  56.1s\n",
      "[CV 3/3] END max_features=10, n_estimators=1000;, score=0.817 total time=  59.2s\n",
      "[CV 2/3] END max_features=None, n_estimators=500;, score=0.809 total time= 1.4min\n",
      "[CV 1/3] END max_features=None, n_estimators=500;, score=0.809 total time= 1.4min\n",
      "[CV 3/3] END max_features=None, n_estimators=500;, score=0.815 total time= 1.4min\n",
      "[CV 1/3] END max_features=None, n_estimators=700;, score=0.810 total time= 1.8min\n",
      "[CV 2/3] END max_features=None, n_estimators=700;, score=0.810 total time= 1.8min\n",
      "[CV 3/3] END max_features=None, n_estimators=700;, score=0.816 total time= 1.8min\n",
      "[CV 1/3] END max_features=None, n_estimators=1000;, score=0.810 total time= 1.8min\n",
      "[CV 3/3] END max_features=None, n_estimators=1000;, score=0.814 total time= 1.7min\n",
      "[CV 2/3] END max_features=None, n_estimators=1000;, score=0.810 total time= 1.8min\n",
      "===> 2024-10-28 10:17:25.385457 | FINALIZADO FOLD 1 | TEMPO TOTAL 0:03:19.025409\n",
      "\n",
      "====> 2024-10-28 10:17:25.386016 | EXECUTANDO FOLD 2 \n",
      "Fitting 3 folds for each of 12 candidates, totalling 36 fits\n",
      "[CV 1/3] END max_features=log2, n_estimators=500;, score=0.802 total time=  23.7s\n",
      "[CV 2/3] END max_features=sqrt, n_estimators=500;, score=0.811 total time=  24.2s\n",
      "[CV 2/3] END max_features=log2, n_estimators=500;, score=0.812 total time=  25.5s\n",
      "[CV 1/3] END max_features=sqrt, n_estimators=500;, score=0.804 total time=  26.6s\n",
      "[CV 3/3] END max_features=sqrt, n_estimators=500;, score=0.814 total time=  26.6s\n",
      "[CV 2/3] END max_features=sqrt, n_estimators=700;, score=0.812 total time=  32.7s\n",
      "[CV 3/3] END max_features=sqrt, n_estimators=700;, score=0.813 total time=  33.4s\n",
      "[CV 1/3] END max_features=sqrt, n_estimators=700;, score=0.804 total time=  34.7s\n",
      "[CV 1/3] END max_features=sqrt, n_estimators=1000;, score=0.804 total time=  44.0s\n",
      "[CV 3/3] END max_features=sqrt, n_estimators=1000;, score=0.812 total time=  44.0s\n",
      "[CV 2/3] END max_features=sqrt, n_estimators=1000;, score=0.813 total time=  44.9s\n",
      "[CV 3/3] END max_features=log2, n_estimators=500;, score=0.811 total time=  23.3s\n",
      "[CV 1/3] END max_features=log2, n_estimators=700;, score=0.804 total time=  28.9s\n",
      "[CV 2/3] END max_features=log2, n_estimators=700;, score=0.813 total time=  31.4s\n",
      "[CV 3/3] END max_features=log2, n_estimators=700;, score=0.811 total time=  34.3s\n",
      "[CV 1/3] END .max_features=10, n_estimators=500;, score=0.807 total time=  30.7s\n",
      "[CV 2/3] END .max_features=10, n_estimators=500;, score=0.813 total time=  29.9s\n",
      "[CV 1/3] END max_features=log2, n_estimators=1000;, score=0.804 total time=  41.1s\n",
      "[CV 2/3] END max_features=log2, n_estimators=1000;, score=0.813 total time=  41.3s\n",
      "[CV 3/3] END .max_features=10, n_estimators=500;, score=0.813 total time=  24.6s\n",
      "[CV 3/3] END max_features=log2, n_estimators=1000;, score=0.811 total time=  38.7s\n",
      "[CV 2/3] END .max_features=10, n_estimators=700;, score=0.812 total time=  29.3s\n",
      "[CV 3/3] END .max_features=10, n_estimators=700;, score=0.814 total time=  33.1s\n",
      "[CV 1/3] END .max_features=10, n_estimators=700;, score=0.807 total time=  35.7s\n",
      "[CV 3/3] END max_features=10, n_estimators=1000;, score=0.813 total time=  55.6s\n",
      "[CV 1/3] END max_features=10, n_estimators=1000;, score=0.806 total time=  59.9s\n",
      "[CV 2/3] END max_features=10, n_estimators=1000;, score=0.813 total time=  59.1s\n",
      "[CV 1/3] END max_features=None, n_estimators=500;, score=0.799 total time= 1.5min\n",
      "[CV 3/3] END max_features=None, n_estimators=500;, score=0.809 total time= 1.5min\n",
      "[CV 2/3] END max_features=None, n_estimators=500;, score=0.811 total time= 1.5min\n",
      "[CV 1/3] END max_features=None, n_estimators=700;, score=0.801 total time= 1.9min\n",
      "[CV 2/3] END max_features=None, n_estimators=700;, score=0.811 total time= 1.8min\n",
      "[CV 3/3] END max_features=None, n_estimators=700;, score=0.810 total time= 1.8min\n",
      "[CV 1/3] END max_features=None, n_estimators=1000;, score=0.801 total time= 2.2min\n",
      "[CV 2/3] END max_features=None, n_estimators=1000;, score=0.811 total time= 2.0min\n",
      "[CV 3/3] END max_features=None, n_estimators=1000;, score=0.809 total time= 1.9min\n",
      "===> 2024-10-28 10:21:14.072608 | FINALIZADO FOLD 2 | TEMPO TOTAL 0:03:48.686592\n",
      "\n",
      "====> 2024-10-28 10:21:14.073121 | EXECUTANDO FOLD 3 \n",
      "Fitting 3 folds for each of 12 candidates, totalling 36 fits\n",
      "[CV 1/3] END max_features=log2, n_estimators=500;, score=0.812 total time=  18.5s\n",
      "[CV 2/3] END max_features=log2, n_estimators=500;, score=0.814 total time=  19.4s\n",
      "[CV 3/3] END max_features=sqrt, n_estimators=500;, score=0.808 total time=  19.6s\n",
      "[CV 3/3] END max_features=log2, n_estimators=500;, score=0.811 total time=  20.1s\n",
      "[CV 2/3] END max_features=sqrt, n_estimators=500;, score=0.813 total time=  20.5s\n",
      "[CV 1/3] END max_features=sqrt, n_estimators=500;, score=0.811 total time=  20.7s\n",
      "[CV 1/3] END max_features=sqrt, n_estimators=700;, score=0.811 total time=  25.0s\n",
      "[CV 2/3] END max_features=sqrt, n_estimators=700;, score=0.815 total time=  25.5s\n",
      "[CV 3/3] END max_features=sqrt, n_estimators=700;, score=0.810 total time=  26.0s\n",
      "[CV 1/3] END max_features=sqrt, n_estimators=1000;, score=0.812 total time=  41.7s\n",
      "[CV 3/3] END max_features=sqrt, n_estimators=1000;, score=0.810 total time=  42.7s\n",
      "[CV 2/3] END max_features=sqrt, n_estimators=1000;, score=0.813 total time=  44.4s\n",
      "[CV 2/3] END max_features=log2, n_estimators=700;, score=0.816 total time=  30.6s\n",
      "[CV 1/3] END max_features=log2, n_estimators=700;, score=0.809 total time=  31.9s\n",
      "[CV 3/3] END max_features=log2, n_estimators=700;, score=0.810 total time=  31.6s\n",
      "[CV 1/3] END .max_features=10, n_estimators=500;, score=0.810 total time=  31.1s\n",
      "[CV 2/3] END .max_features=10, n_estimators=500;, score=0.815 total time=  32.4s\n",
      "[CV 3/3] END .max_features=10, n_estimators=500;, score=0.811 total time=  31.9s\n",
      "[CV 1/3] END max_features=log2, n_estimators=1000;, score=0.810 total time=  39.7s\n",
      "[CV 2/3] END max_features=log2, n_estimators=1000;, score=0.815 total time=  39.9s\n",
      "[CV 3/3] END max_features=log2, n_estimators=1000;, score=0.809 total time=  40.1s\n",
      "[CV 1/3] END .max_features=10, n_estimators=700;, score=0.810 total time=  42.1s\n",
      "[CV 3/3] END .max_features=10, n_estimators=700;, score=0.811 total time=  40.4s\n",
      "[CV 2/3] END .max_features=10, n_estimators=700;, score=0.813 total time=  43.5s\n",
      "[CV 2/3] END max_features=10, n_estimators=1000;, score=0.814 total time= 1.0min\n",
      "[CV 1/3] END max_features=10, n_estimators=1000;, score=0.810 total time= 1.1min\n",
      "[CV 3/3] END max_features=10, n_estimators=1000;, score=0.811 total time= 1.0min\n",
      "[CV 2/3] END max_features=None, n_estimators=500;, score=0.812 total time= 1.5min\n",
      "[CV 1/3] END max_features=None, n_estimators=500;, score=0.804 total time= 1.6min\n",
      "[CV 3/3] END max_features=None, n_estimators=500;, score=0.810 total time= 1.6min\n",
      "[CV 1/3] END max_features=None, n_estimators=700;, score=0.804 total time= 1.9min\n",
      "[CV 2/3] END max_features=None, n_estimators=700;, score=0.811 total time= 2.0min\n",
      "[CV 3/3] END max_features=None, n_estimators=700;, score=0.811 total time= 1.7min\n",
      "[CV 1/3] END max_features=None, n_estimators=1000;, score=0.806 total time= 1.9min\n",
      "[CV 2/3] END max_features=None, n_estimators=1000;, score=0.812 total time= 1.9min\n",
      "[CV 3/3] END max_features=None, n_estimators=1000;, score=0.810 total time= 1.9min\n",
      "===> 2024-10-28 10:24:41.261473 | FINALIZADO FOLD 3 | TEMPO TOTAL 0:03:27.188352\n",
      "\n",
      "====> 2024-10-28 10:24:41.261968 | EXECUTANDO FOLD 4 \n",
      "Fitting 3 folds for each of 12 candidates, totalling 36 fits\n",
      "[CV 1/3] END max_features=log2, n_estimators=500;, score=0.809 total time=  19.8s\n",
      "[CV 2/3] END max_features=log2, n_estimators=500;, score=0.813 total time=  19.8s\n",
      "[CV 3/3] END max_features=log2, n_estimators=500;, score=0.811 total time=  20.0s\n",
      "[CV 3/3] END max_features=sqrt, n_estimators=500;, score=0.813 total time=  20.2s\n",
      "[CV 1/3] END max_features=sqrt, n_estimators=500;, score=0.810 total time=  20.7s\n",
      "[CV 2/3] END max_features=sqrt, n_estimators=500;, score=0.816 total time=  21.4s\n",
      "[CV 3/3] END max_features=sqrt, n_estimators=700;, score=0.813 total time=  26.0s\n",
      "[CV 2/3] END max_features=sqrt, n_estimators=700;, score=0.816 total time=  26.3s\n",
      "[CV 1/3] END max_features=sqrt, n_estimators=700;, score=0.811 total time=  30.4s\n",
      "[CV 1/3] END max_features=sqrt, n_estimators=1000;, score=0.810 total time=  40.3s\n",
      "[CV 3/3] END max_features=sqrt, n_estimators=1000;, score=0.816 total time=  40.5s\n",
      "[CV 2/3] END max_features=sqrt, n_estimators=1000;, score=0.816 total time=  44.9s\n",
      "[CV 1/3] END max_features=log2, n_estimators=700;, score=0.809 total time=  27.9s\n",
      "[CV 2/3] END max_features=log2, n_estimators=700;, score=0.812 total time=  28.8s\n",
      "[CV 3/3] END max_features=log2, n_estimators=700;, score=0.812 total time=  30.2s\n",
      "[CV 1/3] END .max_features=10, n_estimators=500;, score=0.811 total time=  30.4s\n",
      "[CV 2/3] END .max_features=10, n_estimators=500;, score=0.814 total time=  30.4s\n",
      "[CV 3/3] END .max_features=10, n_estimators=500;, score=0.813 total time=  29.1s\n",
      "[CV 1/3] END max_features=log2, n_estimators=1000;, score=0.809 total time=  40.6s\n",
      "[CV 2/3] END max_features=log2, n_estimators=1000;, score=0.813 total time=  43.1s\n",
      "[CV 3/3] END max_features=log2, n_estimators=1000;, score=0.812 total time=  44.4s\n",
      "[CV 1/3] END .max_features=10, n_estimators=700;, score=0.811 total time=  39.7s\n",
      "[CV 2/3] END .max_features=10, n_estimators=700;, score=0.813 total time=  41.5s\n",
      "[CV 3/3] END .max_features=10, n_estimators=700;, score=0.814 total time=  40.4s\n",
      "[CV 1/3] END max_features=10, n_estimators=1000;, score=0.812 total time= 1.1min\n",
      "[CV 2/3] END max_features=10, n_estimators=1000;, score=0.813 total time= 1.1min\n",
      "[CV 3/3] END max_features=10, n_estimators=1000;, score=0.814 total time= 1.1min\n",
      "[CV 1/3] END max_features=None, n_estimators=500;, score=0.804 total time= 1.5min\n",
      "[CV 2/3] END max_features=None, n_estimators=500;, score=0.811 total time= 1.6min\n",
      "[CV 3/3] END max_features=None, n_estimators=500;, score=0.812 total time= 1.6min\n",
      "[CV 2/3] END max_features=None, n_estimators=700;, score=0.808 total time= 1.9min\n",
      "[CV 1/3] END max_features=None, n_estimators=700;, score=0.804 total time= 2.0min\n",
      "[CV 3/3] END max_features=None, n_estimators=700;, score=0.813 total time= 1.9min\n",
      "[CV 2/3] END max_features=None, n_estimators=1000;, score=0.809 total time= 2.0min\n",
      "[CV 3/3] END max_features=None, n_estimators=1000;, score=0.812 total time= 1.9min\n",
      "[CV 1/3] END max_features=None, n_estimators=1000;, score=0.805 total time= 2.0min\n",
      "===> 2024-10-28 10:28:08.498341 | FINALIZADO FOLD 4 | TEMPO TOTAL 0:03:27.236373\n",
      "\n",
      "====> 2024-10-28 10:28:08.498804 | EXECUTANDO FOLD 5 \n",
      "Fitting 3 folds for each of 12 candidates, totalling 36 fits\n",
      "[CV 3/3] END max_features=log2, n_estimators=500;, score=0.813 total time=  18.1s\n",
      "[CV 2/3] END max_features=log2, n_estimators=500;, score=0.807 total time=  18.2s\n",
      "[CV 1/3] END max_features=sqrt, n_estimators=500;, score=0.812 total time=  19.0s\n",
      "[CV 1/3] END max_features=log2, n_estimators=500;, score=0.810 total time=  20.1s\n",
      "[CV 3/3] END max_features=sqrt, n_estimators=500;, score=0.813 total time=  20.6s\n",
      "[CV 2/3] END max_features=sqrt, n_estimators=500;, score=0.808 total time=  21.1s\n",
      "[CV 2/3] END max_features=sqrt, n_estimators=700;, score=0.807 total time=  27.4s\n",
      "[CV 3/3] END max_features=sqrt, n_estimators=700;, score=0.812 total time=  28.5s\n",
      "[CV 1/3] END max_features=sqrt, n_estimators=700;, score=0.811 total time=  29.6s\n",
      "[CV 3/3] END max_features=sqrt, n_estimators=1000;, score=0.813 total time=  43.7s\n",
      "[CV 1/3] END max_features=sqrt, n_estimators=1000;, score=0.812 total time=  45.4s\n",
      "[CV 2/3] END max_features=sqrt, n_estimators=1000;, score=0.807 total time=  45.5s\n",
      "[CV 1/3] END max_features=log2, n_estimators=700;, score=0.811 total time=  30.0s\n",
      "[CV 2/3] END max_features=log2, n_estimators=700;, score=0.810 total time=  31.4s\n",
      "[CV 3/3] END max_features=log2, n_estimators=700;, score=0.812 total time=  31.0s\n",
      "[CV 1/3] END .max_features=10, n_estimators=500;, score=0.813 total time=  28.2s\n",
      "[CV 2/3] END .max_features=10, n_estimators=500;, score=0.808 total time=  27.3s\n",
      "[CV 3/3] END .max_features=10, n_estimators=500;, score=0.811 total time=  28.7s\n",
      "[CV 2/3] END max_features=log2, n_estimators=1000;, score=0.809 total time=  41.8s\n",
      "[CV 1/3] END max_features=log2, n_estimators=1000;, score=0.811 total time=  42.3s\n",
      "[CV 3/3] END max_features=log2, n_estimators=1000;, score=0.812 total time=  46.4s\n",
      "[CV 2/3] END .max_features=10, n_estimators=700;, score=0.808 total time=  40.6s\n",
      "[CV 1/3] END .max_features=10, n_estimators=700;, score=0.812 total time=  42.5s\n",
      "[CV 3/3] END .max_features=10, n_estimators=700;, score=0.810 total time=  44.9s\n",
      "[CV 2/3] END max_features=10, n_estimators=1000;, score=0.807 total time= 1.0min\n",
      "[CV 1/3] END max_features=10, n_estimators=1000;, score=0.813 total time= 1.1min\n",
      "[CV 3/3] END max_features=10, n_estimators=1000;, score=0.812 total time= 1.1min\n",
      "[CV 1/3] END max_features=None, n_estimators=500;, score=0.804 total time= 1.5min\n",
      "[CV 3/3] END max_features=None, n_estimators=500;, score=0.808 total time= 1.5min\n",
      "[CV 2/3] END max_features=None, n_estimators=500;, score=0.802 total time= 1.6min\n",
      "[CV 2/3] END max_features=None, n_estimators=700;, score=0.802 total time= 1.9min\n",
      "[CV 1/3] END max_features=None, n_estimators=700;, score=0.807 total time= 1.9min\n",
      "[CV 3/3] END max_features=None, n_estimators=700;, score=0.808 total time= 1.9min\n",
      "[CV 1/3] END max_features=None, n_estimators=1000;, score=0.807 total time= 1.9min\n",
      "[CV 2/3] END max_features=None, n_estimators=1000;, score=0.802 total time= 1.9min\n",
      "[CV 3/3] END max_features=None, n_estimators=1000;, score=0.808 total time= 1.8min\n",
      "===> 2024-10-28 10:31:32.389227 | FINALIZADO FOLD 5 | TEMPO TOTAL 0:03:23.890423\n",
      "\n",
      "====> 2024-10-28 10:31:32.389642 | EXECUTANDO FOLD 6 \n",
      "Fitting 3 folds for each of 12 candidates, totalling 36 fits\n",
      "[CV 2/3] END max_features=log2, n_estimators=500;, score=0.816 total time=  19.1s\n",
      "[CV 1/3] END max_features=log2, n_estimators=500;, score=0.812 total time=  19.9s\n",
      "[CV 3/3] END max_features=log2, n_estimators=500;, score=0.812 total time=  21.5s\n",
      "[CV 2/3] END max_features=sqrt, n_estimators=500;, score=0.816 total time=  21.7s\n",
      "[CV 3/3] END max_features=sqrt, n_estimators=500;, score=0.811 total time=  22.6s\n",
      "[CV 1/3] END max_features=sqrt, n_estimators=500;, score=0.811 total time=  22.9s\n",
      "[CV 3/3] END max_features=sqrt, n_estimators=700;, score=0.811 total time=  27.3s\n",
      "[CV 2/3] END max_features=sqrt, n_estimators=700;, score=0.817 total time=  28.5s\n",
      "[CV 1/3] END max_features=sqrt, n_estimators=700;, score=0.811 total time=  29.0s\n",
      "[CV 3/3] END max_features=sqrt, n_estimators=1000;, score=0.809 total time=  37.3s\n",
      "[CV 2/3] END max_features=sqrt, n_estimators=1000;, score=0.817 total time=  39.8s\n",
      "[CV 1/3] END max_features=sqrt, n_estimators=1000;, score=0.811 total time=  41.8s\n",
      "[CV 1/3] END max_features=log2, n_estimators=700;, score=0.810 total time=  28.6s\n",
      "[CV 2/3] END max_features=log2, n_estimators=700;, score=0.819 total time=  30.7s\n",
      "[CV 3/3] END max_features=log2, n_estimators=700;, score=0.811 total time=  30.8s\n",
      "[CV 1/3] END .max_features=10, n_estimators=500;, score=0.810 total time=  30.4s\n",
      "[CV 2/3] END .max_features=10, n_estimators=500;, score=0.817 total time=  29.9s\n",
      "[CV 3/3] END .max_features=10, n_estimators=500;, score=0.812 total time=  32.4s\n",
      "[CV 1/3] END max_features=log2, n_estimators=1000;, score=0.810 total time=  41.3s\n",
      "[CV 2/3] END max_features=log2, n_estimators=1000;, score=0.818 total time=  43.5s\n",
      "[CV 3/3] END max_features=log2, n_estimators=1000;, score=0.812 total time=  45.3s\n",
      "[CV 1/3] END .max_features=10, n_estimators=700;, score=0.810 total time=  43.9s\n",
      "[CV 2/3] END .max_features=10, n_estimators=700;, score=0.817 total time=  42.0s\n",
      "[CV 3/3] END .max_features=10, n_estimators=700;, score=0.813 total time=  42.3s\n",
      "[CV 2/3] END max_features=10, n_estimators=1000;, score=0.817 total time= 1.0min\n",
      "[CV 3/3] END max_features=10, n_estimators=1000;, score=0.815 total time= 1.0min\n",
      "[CV 1/3] END max_features=10, n_estimators=1000;, score=0.811 total time= 1.2min\n",
      "[CV 1/3] END max_features=None, n_estimators=500;, score=0.804 total time= 1.6min\n",
      "[CV 2/3] END max_features=None, n_estimators=500;, score=0.810 total time= 1.6min\n",
      "[CV 3/3] END max_features=None, n_estimators=500;, score=0.808 total time= 1.6min\n",
      "[CV 1/3] END max_features=None, n_estimators=700;, score=0.807 total time= 1.9min\n",
      "[CV 2/3] END max_features=None, n_estimators=700;, score=0.810 total time= 1.9min\n",
      "[CV 3/3] END max_features=None, n_estimators=700;, score=0.809 total time= 1.9min\n",
      "[CV 3/3] END max_features=None, n_estimators=1000;, score=0.809 total time= 1.9min\n",
      "[CV 1/3] END max_features=None, n_estimators=1000;, score=0.808 total time= 2.0min\n",
      "[CV 2/3] END max_features=None, n_estimators=1000;, score=0.810 total time= 1.9min\n",
      "===> 2024-10-28 10:35:01.418223 | FINALIZADO FOLD 6 | TEMPO TOTAL 0:03:29.028581\n",
      "\n",
      "====> 2024-10-28 10:35:01.418871 | EXECUTANDO FOLD 7 \n",
      "Fitting 3 folds for each of 12 candidates, totalling 36 fits\n",
      "[CV 2/3] END max_features=log2, n_estimators=500;, score=0.811 total time=  23.7s\n",
      "[CV 3/3] END max_features=log2, n_estimators=500;, score=0.813 total time=  23.7s\n",
      "[CV 1/3] END max_features=sqrt, n_estimators=500;, score=0.809 total time=  23.8s\n",
      "[CV 2/3] END max_features=sqrt, n_estimators=500;, score=0.813 total time=  24.9s\n",
      "[CV 1/3] END max_features=log2, n_estimators=500;, score=0.808 total time=  25.3s\n",
      "[CV 3/3] END max_features=sqrt, n_estimators=500;, score=0.814 total time=  25.7s\n",
      "[CV 3/3] END max_features=sqrt, n_estimators=700;, score=0.815 total time=  32.2s\n",
      "[CV 2/3] END max_features=sqrt, n_estimators=700;, score=0.813 total time=  32.3s\n",
      "[CV 1/3] END max_features=sqrt, n_estimators=700;, score=0.809 total time=  32.6s\n",
      "[CV 1/3] END max_features=sqrt, n_estimators=1000;, score=0.807 total time=  45.5s\n",
      "[CV 2/3] END max_features=sqrt, n_estimators=1000;, score=0.810 total time=  47.8s\n",
      "[CV 3/3] END max_features=sqrt, n_estimators=1000;, score=0.814 total time=  48.8s\n",
      "[CV 1/3] END max_features=log2, n_estimators=700;, score=0.807 total time=  30.0s\n",
      "[CV 3/3] END max_features=log2, n_estimators=700;, score=0.813 total time=  30.3s\n",
      "[CV 2/3] END max_features=log2, n_estimators=700;, score=0.811 total time=  31.1s\n",
      "[CV 2/3] END .max_features=10, n_estimators=500;, score=0.811 total time=  29.9s\n",
      "[CV 1/3] END .max_features=10, n_estimators=500;, score=0.809 total time=  30.9s\n",
      "[CV 3/3] END .max_features=10, n_estimators=500;, score=0.812 total time=  32.0s\n",
      "[CV 1/3] END max_features=log2, n_estimators=1000;, score=0.807 total time=  42.0s\n",
      "[CV 2/3] END max_features=log2, n_estimators=1000;, score=0.811 total time=  43.0s\n",
      "[CV 3/3] END max_features=log2, n_estimators=1000;, score=0.813 total time=  45.3s\n",
      "[CV 1/3] END .max_features=10, n_estimators=700;, score=0.810 total time=  43.5s\n",
      "[CV 3/3] END .max_features=10, n_estimators=700;, score=0.812 total time=  42.9s\n",
      "[CV 2/3] END .max_features=10, n_estimators=700;, score=0.811 total time=  46.4s\n",
      "[CV 3/3] END max_features=10, n_estimators=1000;, score=0.812 total time= 1.1min\n",
      "[CV 1/3] END max_features=10, n_estimators=1000;, score=0.810 total time= 1.1min\n",
      "[CV 2/3] END max_features=10, n_estimators=1000;, score=0.810 total time= 1.1min\n",
      "[CV 2/3] END max_features=None, n_estimators=500;, score=0.805 total time= 1.6min\n",
      "[CV 1/3] END max_features=None, n_estimators=500;, score=0.806 total time= 1.6min\n",
      "[CV 3/3] END max_features=None, n_estimators=500;, score=0.812 total time= 1.6min\n",
      "[CV 2/3] END max_features=None, n_estimators=700;, score=0.806 total time= 2.0min\n",
      "[CV 1/3] END max_features=None, n_estimators=700;, score=0.808 total time= 2.0min\n",
      "[CV 3/3] END max_features=None, n_estimators=700;, score=0.811 total time= 2.0min\n",
      "[CV 1/3] END max_features=None, n_estimators=1000;, score=0.808 total time= 2.0min\n",
      "[CV 2/3] END max_features=None, n_estimators=1000;, score=0.805 total time= 1.9min\n",
      "[CV 3/3] END max_features=None, n_estimators=1000;, score=0.810 total time= 1.9min\n",
      "===> 2024-10-28 10:38:35.049836 | FINALIZADO FOLD 7 | TEMPO TOTAL 0:03:33.630965\n",
      "\n",
      "====> 2024-10-28 10:38:35.050313 | EXECUTANDO FOLD 8 \n",
      "Fitting 3 folds for each of 12 candidates, totalling 36 fits\n",
      "[CV 1/3] END max_features=log2, n_estimators=500;, score=0.808 total time=  19.1s\n",
      "[CV 2/3] END max_features=log2, n_estimators=500;, score=0.811 total time=  19.4s\n",
      "[CV 3/3] END max_features=log2, n_estimators=500;, score=0.819 total time=  19.7s\n",
      "[CV 2/3] END max_features=sqrt, n_estimators=500;, score=0.809 total time=  20.1s\n",
      "[CV 3/3] END max_features=sqrt, n_estimators=500;, score=0.819 total time=  20.8s\n",
      "[CV 1/3] END max_features=sqrt, n_estimators=500;, score=0.807 total time=  21.0s\n",
      "[CV 3/3] END max_features=sqrt, n_estimators=700;, score=0.819 total time=  27.1s\n",
      "[CV 1/3] END max_features=sqrt, n_estimators=700;, score=0.810 total time=  28.1s\n",
      "[CV 2/3] END max_features=sqrt, n_estimators=700;, score=0.809 total time=  28.7s\n",
      "[CV 3/3] END max_features=sqrt, n_estimators=1000;, score=0.817 total time=  42.3s\n",
      "[CV 2/3] END max_features=sqrt, n_estimators=1000;, score=0.810 total time=  43.2s\n",
      "[CV 1/3] END max_features=sqrt, n_estimators=1000;, score=0.808 total time=  43.4s\n",
      "[CV 1/3] END max_features=log2, n_estimators=700;, score=0.806 total time=  30.5s\n",
      "[CV 3/3] END max_features=log2, n_estimators=700;, score=0.818 total time=  31.1s\n",
      "[CV 2/3] END max_features=log2, n_estimators=700;, score=0.812 total time=  31.5s\n",
      "[CV 1/3] END .max_features=10, n_estimators=500;, score=0.810 total time=  29.1s\n",
      "[CV 2/3] END .max_features=10, n_estimators=500;, score=0.808 total time=  30.3s\n",
      "[CV 2/3] END max_features=log2, n_estimators=1000;, score=0.811 total time=  40.0s\n",
      "[CV 3/3] END .max_features=10, n_estimators=500;, score=0.815 total time=  32.5s\n",
      "[CV 1/3] END max_features=log2, n_estimators=1000;, score=0.807 total time=  41.6s\n",
      "[CV 3/3] END max_features=log2, n_estimators=1000;, score=0.818 total time=  41.7s\n",
      "[CV 1/3] END .max_features=10, n_estimators=700;, score=0.810 total time=  42.9s\n",
      "[CV 3/3] END .max_features=10, n_estimators=700;, score=0.816 total time=  44.0s\n",
      "[CV 2/3] END .max_features=10, n_estimators=700;, score=0.809 total time=  44.6s\n",
      "[CV 1/3] END max_features=10, n_estimators=1000;, score=0.810 total time=  58.6s\n",
      "[CV 2/3] END max_features=10, n_estimators=1000;, score=0.809 total time= 1.1min\n",
      "[CV 3/3] END max_features=10, n_estimators=1000;, score=0.815 total time= 1.1min\n",
      "[CV 1/3] END max_features=None, n_estimators=500;, score=0.812 total time= 1.6min\n",
      "[CV 3/3] END max_features=None, n_estimators=500;, score=0.813 total time= 1.5min\n",
      "[CV 2/3] END max_features=None, n_estimators=500;, score=0.807 total time= 1.6min\n",
      "[CV 1/3] END max_features=None, n_estimators=700;, score=0.812 total time= 1.9min\n",
      "[CV 2/3] END max_features=None, n_estimators=700;, score=0.806 total time= 1.9min\n",
      "[CV 3/3] END max_features=None, n_estimators=700;, score=0.813 total time= 1.9min\n",
      "[CV 2/3] END max_features=None, n_estimators=1000;, score=0.808 total time= 1.8min\n",
      "[CV 1/3] END max_features=None, n_estimators=1000;, score=0.814 total time= 1.9min\n",
      "[CV 3/3] END max_features=None, n_estimators=1000;, score=0.812 total time= 1.8min\n",
      "===> 2024-10-28 10:41:59.433309 | FINALIZADO FOLD 8 | TEMPO TOTAL 0:03:24.382996\n",
      "\n",
      "====> 2024-10-28 10:41:59.433772 | EXECUTANDO FOLD 9 \n",
      "Fitting 3 folds for each of 12 candidates, totalling 36 fits\n",
      "[CV 1/3] END max_features=log2, n_estimators=500;, score=0.809 total time=  18.5s\n",
      "[CV 2/3] END max_features=sqrt, n_estimators=500;, score=0.814 total time=  19.0s\n",
      "[CV 3/3] END max_features=sqrt, n_estimators=500;, score=0.807 total time=  19.2s\n",
      "[CV 3/3] END max_features=log2, n_estimators=500;, score=0.805 total time=  19.5s\n",
      "[CV 1/3] END max_features=sqrt, n_estimators=500;, score=0.809 total time=  20.1s\n",
      "[CV 2/3] END max_features=log2, n_estimators=500;, score=0.814 total time=  20.1s\n",
      "[CV 3/3] END max_features=sqrt, n_estimators=700;, score=0.808 total time=  28.0s\n",
      "[CV 1/3] END max_features=sqrt, n_estimators=700;, score=0.809 total time=  28.7s\n",
      "[CV 2/3] END max_features=sqrt, n_estimators=700;, score=0.814 total time=  29.4s\n",
      "[CV 2/3] END max_features=sqrt, n_estimators=1000;, score=0.812 total time=  40.0s\n",
      "[CV 1/3] END max_features=sqrt, n_estimators=1000;, score=0.810 total time=  42.2s\n",
      "[CV 3/3] END max_features=sqrt, n_estimators=1000;, score=0.808 total time=  45.3s\n",
      "[CV 2/3] END max_features=log2, n_estimators=700;, score=0.814 total time=  29.3s\n",
      "[CV 1/3] END max_features=log2, n_estimators=700;, score=0.810 total time=  30.7s\n",
      "[CV 3/3] END max_features=log2, n_estimators=700;, score=0.805 total time=  30.4s\n",
      "[CV 2/3] END .max_features=10, n_estimators=500;, score=0.814 total time=  29.2s\n",
      "[CV 1/3] END .max_features=10, n_estimators=500;, score=0.809 total time=  31.1s\n",
      "[CV 3/3] END .max_features=10, n_estimators=500;, score=0.805 total time=  30.0s\n",
      "[CV 1/3] END max_features=log2, n_estimators=1000;, score=0.809 total time=  42.2s\n",
      "[CV 3/3] END max_features=log2, n_estimators=1000;, score=0.806 total time=  43.8s\n",
      "[CV 2/3] END max_features=log2, n_estimators=1000;, score=0.813 total time=  45.0s\n",
      "[CV 2/3] END .max_features=10, n_estimators=700;, score=0.815 total time=  42.2s\n",
      "[CV 1/3] END .max_features=10, n_estimators=700;, score=0.809 total time=  44.9s\n",
      "[CV 3/3] END .max_features=10, n_estimators=700;, score=0.806 total time=  45.1s\n",
      "[CV 2/3] END max_features=10, n_estimators=1000;, score=0.816 total time= 1.0min\n",
      "[CV 3/3] END max_features=10, n_estimators=1000;, score=0.806 total time= 1.1min\n",
      "[CV 1/3] END max_features=10, n_estimators=1000;, score=0.810 total time= 1.1min\n",
      "[CV 3/3] END max_features=None, n_estimators=500;, score=0.803 total time= 1.4min\n",
      "[CV 1/3] END max_features=None, n_estimators=500;, score=0.805 total time= 1.5min\n",
      "[CV 2/3] END max_features=None, n_estimators=500;, score=0.808 total time= 1.5min\n",
      "[CV 2/3] END max_features=None, n_estimators=700;, score=0.805 total time= 1.8min\n",
      "[CV 1/3] END max_features=None, n_estimators=700;, score=0.807 total time= 1.8min\n",
      "[CV 3/3] END max_features=None, n_estimators=700;, score=0.803 total time= 1.8min\n",
      "[CV 2/3] END max_features=None, n_estimators=1000;, score=0.806 total time= 1.8min\n",
      "[CV 1/3] END max_features=None, n_estimators=1000;, score=0.806 total time= 1.8min\n",
      "[CV 3/3] END max_features=None, n_estimators=1000;, score=0.801 total time= 1.7min\n",
      "===> 2024-10-28 10:45:24.011783 | FINALIZADO FOLD 9 | TEMPO TOTAL 0:03:24.578011\n",
      "\n",
      "====> 2024-10-28 10:45:24.012286 | EXECUTANDO FOLD 10 \n",
      "Fitting 3 folds for each of 12 candidates, totalling 36 fits\n",
      "[CV 1/3] END max_features=log2, n_estimators=500;, score=0.807 total time=  16.9s\n",
      "[CV 2/3] END max_features=log2, n_estimators=500;, score=0.809 total time=  17.6s\n",
      "[CV 3/3] END max_features=log2, n_estimators=500;, score=0.814 total time=  18.5s\n",
      "[CV 3/3] END max_features=sqrt, n_estimators=500;, score=0.816 total time=  18.6s\n",
      "[CV 1/3] END max_features=sqrt, n_estimators=500;, score=0.811 total time=  18.7s\n",
      "[CV 2/3] END max_features=sqrt, n_estimators=500;, score=0.809 total time=  19.0s\n",
      "[CV 1/3] END max_features=sqrt, n_estimators=700;, score=0.810 total time=  23.8s\n",
      "[CV 2/3] END max_features=sqrt, n_estimators=700;, score=0.810 total time=  24.0s\n",
      "[CV 3/3] END max_features=sqrt, n_estimators=700;, score=0.815 total time=  24.2s\n",
      "[CV 3/3] END max_features=sqrt, n_estimators=1000;, score=0.816 total time=  37.1s\n",
      "[CV 1/3] END max_features=sqrt, n_estimators=1000;, score=0.810 total time=  37.7s\n",
      "[CV 2/3] END max_features=sqrt, n_estimators=1000;, score=0.810 total time=  39.2s\n",
      "[CV 1/3] END max_features=log2, n_estimators=700;, score=0.809 total time=  27.1s\n",
      "[CV 2/3] END max_features=log2, n_estimators=700;, score=0.809 total time=  26.8s\n",
      "[CV 3/3] END max_features=log2, n_estimators=700;, score=0.815 total time=  27.7s\n",
      "[CV 2/3] END .max_features=10, n_estimators=500;, score=0.809 total time=  26.8s\n",
      "[CV 1/3] END .max_features=10, n_estimators=500;, score=0.810 total time=  27.6s\n",
      "[CV 3/3] END .max_features=10, n_estimators=500;, score=0.813 total time=  28.1s\n",
      "[CV 2/3] END max_features=log2, n_estimators=1000;, score=0.809 total time=  35.4s\n",
      "[CV 3/3] END max_features=log2, n_estimators=1000;, score=0.815 total time=  36.4s\n",
      "[CV 1/3] END max_features=log2, n_estimators=1000;, score=0.808 total time=  38.4s\n",
      "[CV 1/3] END .max_features=10, n_estimators=700;, score=0.810 total time=  38.4s\n",
      "[CV 2/3] END .max_features=10, n_estimators=700;, score=0.808 total time=  38.7s\n",
      "[CV 3/3] END .max_features=10, n_estimators=700;, score=0.813 total time=  37.9s\n",
      "[CV 1/3] END max_features=10, n_estimators=1000;, score=0.810 total time=  58.9s\n",
      "[CV 2/3] END max_features=10, n_estimators=1000;, score=0.810 total time=  59.6s\n",
      "[CV 3/3] END max_features=10, n_estimators=1000;, score=0.813 total time= 1.0min\n",
      "[CV 2/3] END max_features=None, n_estimators=500;, score=0.807 total time= 1.4min\n",
      "[CV 1/3] END max_features=None, n_estimators=500;, score=0.808 total time= 1.4min\n",
      "[CV 3/3] END max_features=None, n_estimators=500;, score=0.810 total time= 1.4min\n",
      "[CV 1/3] END max_features=None, n_estimators=700;, score=0.806 total time= 1.8min\n",
      "[CV 2/3] END max_features=None, n_estimators=700;, score=0.805 total time= 1.8min\n",
      "[CV 3/3] END max_features=None, n_estimators=700;, score=0.810 total time= 1.7min\n",
      "[CV 3/3] END max_features=None, n_estimators=1000;, score=0.809 total time= 1.8min\n",
      "[CV 1/3] END max_features=None, n_estimators=1000;, score=0.806 total time= 1.8min\n",
      "[CV 2/3] END max_features=None, n_estimators=1000;, score=0.807 total time= 1.8min\n",
      "===> 2024-10-28 10:48:30.647080 | FINALIZADO FOLD 10 | TEMPO TOTAL 0:03:06.634794\n",
      "\n",
      "Resultados na validação cruzada: {'f1': 0.8109781259937969, 'accuracy': 0.8110040838292703, 'precision': 0.8111806135579606, 'recall': 0.8110053284531309}\n",
      "Resultados na base de teste: {'f1': 0.7573769340794334, 'accuracy': 0.8047323644097837, 'precision': 0.739191655171431, 'recall': 0.8116540772078773}\n",
      "Melhores parâmetros escolhidos: {'max_features': 'sqrt', 'n_estimators': 1000}\n"
     ]
    }
   ],
   "source": [
    "param_grid_categorical = {\n",
    "    \"n_estimators\": [500, 700, 1000],\n",
    "    \"max_features\": [\"sqrt\", \"log2\", 10, None],\n",
    "}\n",
    "\n",
    "# Executar a função e obter os melhores parâmetros\n",
    "results_validation, results_test, best_params, results_list_full = run_cross_validation(\n",
    "    df_train.drop(columns=[\"RainTomorrow\"]),\n",
    "    df_train[\"RainTomorrow\"],\n",
    "    df_test.drop(columns=[\"RainTomorrow\"]),\n",
    "    df_test[\"RainTomorrow\"],\n",
    "    RandomForestClassifier(n_jobs=-1, random_state=42, max_depth=None),\n",
    "    param_grid_categorical,\n",
    "    k_folds=10,\n",
    ")\n",
    "\n",
    "print(\"Resultados na validação cruzada:\", results_validation)\n",
    "print(\"Resultados na base de teste:\", results_test)\n",
    "print(\"Melhores parâmetros escolhidos:\", best_params)"
   ]
  },
  {
   "cell_type": "code",
   "execution_count": 37,
   "metadata": {
    "id": "wLDQKqhuEu1G",
    "outputId": "d3c94edd-d9e7-4167-e47e-c6faef0ea932"
   },
   "outputs": [
    {
     "data": {
      "text/html": [
       "<div>\n",
       "<style scoped>\n",
       "    .dataframe tbody tr th:only-of-type {\n",
       "        vertical-align: middle;\n",
       "    }\n",
       "\n",
       "    .dataframe tbody tr th {\n",
       "        vertical-align: top;\n",
       "    }\n",
       "\n",
       "    .dataframe thead th {\n",
       "        text-align: right;\n",
       "    }\n",
       "</style>\n",
       "<table border=\"1\" class=\"dataframe\">\n",
       "  <thead>\n",
       "    <tr style=\"text-align: right;\">\n",
       "      <th></th>\n",
       "      <th>f1</th>\n",
       "      <th>accuracy</th>\n",
       "      <th>precision</th>\n",
       "      <th>recall</th>\n",
       "      <th>dataset</th>\n",
       "    </tr>\n",
       "  </thead>\n",
       "  <tbody>\n",
       "    <tr>\n",
       "      <th>0</th>\n",
       "      <td>0.800386</td>\n",
       "      <td>0.800402</td>\n",
       "      <td>0.800511</td>\n",
       "      <td>0.800407</td>\n",
       "      <td>Validação Cruzada</td>\n",
       "    </tr>\n",
       "    <tr>\n",
       "      <th>1</th>\n",
       "      <td>0.820954</td>\n",
       "      <td>0.821016</td>\n",
       "      <td>0.821482</td>\n",
       "      <td>0.821025</td>\n",
       "      <td>Validação Cruzada</td>\n",
       "    </tr>\n",
       "    <tr>\n",
       "      <th>2</th>\n",
       "      <td>0.807935</td>\n",
       "      <td>0.807944</td>\n",
       "      <td>0.807989</td>\n",
       "      <td>0.807941</td>\n",
       "      <td>Validação Cruzada</td>\n",
       "    </tr>\n",
       "    <tr>\n",
       "      <th>3</th>\n",
       "      <td>0.809451</td>\n",
       "      <td>0.809452</td>\n",
       "      <td>0.809459</td>\n",
       "      <td>0.809453</td>\n",
       "      <td>Validação Cruzada</td>\n",
       "    </tr>\n",
       "    <tr>\n",
       "      <th>4</th>\n",
       "      <td>0.820409</td>\n",
       "      <td>0.820423</td>\n",
       "      <td>0.820516</td>\n",
       "      <td>0.820423</td>\n",
       "      <td>Validação Cruzada</td>\n",
       "    </tr>\n",
       "    <tr>\n",
       "      <th>5</th>\n",
       "      <td>0.806817</td>\n",
       "      <td>0.806841</td>\n",
       "      <td>0.806991</td>\n",
       "      <td>0.806841</td>\n",
       "      <td>Validação Cruzada</td>\n",
       "    </tr>\n",
       "    <tr>\n",
       "      <th>6</th>\n",
       "      <td>0.817904</td>\n",
       "      <td>0.817907</td>\n",
       "      <td>0.817928</td>\n",
       "      <td>0.817907</td>\n",
       "      <td>Validação Cruzada</td>\n",
       "    </tr>\n",
       "    <tr>\n",
       "      <th>7</th>\n",
       "      <td>0.795700</td>\n",
       "      <td>0.795775</td>\n",
       "      <td>0.796208</td>\n",
       "      <td>0.795775</td>\n",
       "      <td>Validação Cruzada</td>\n",
       "    </tr>\n",
       "    <tr>\n",
       "      <th>8</th>\n",
       "      <td>0.829424</td>\n",
       "      <td>0.829477</td>\n",
       "      <td>0.829886</td>\n",
       "      <td>0.829477</td>\n",
       "      <td>Validação Cruzada</td>\n",
       "    </tr>\n",
       "    <tr>\n",
       "      <th>9</th>\n",
       "      <td>0.800800</td>\n",
       "      <td>0.800805</td>\n",
       "      <td>0.800835</td>\n",
       "      <td>0.800805</td>\n",
       "      <td>Validação Cruzada</td>\n",
       "    </tr>\n",
       "    <tr>\n",
       "      <th>0</th>\n",
       "      <td>0.759151</td>\n",
       "      <td>0.806629</td>\n",
       "      <td>0.740706</td>\n",
       "      <td>0.812625</td>\n",
       "      <td>Teste</td>\n",
       "    </tr>\n",
       "    <tr>\n",
       "      <th>1</th>\n",
       "      <td>0.758306</td>\n",
       "      <td>0.805477</td>\n",
       "      <td>0.740026</td>\n",
       "      <td>0.812752</td>\n",
       "      <td>Teste</td>\n",
       "    </tr>\n",
       "    <tr>\n",
       "      <th>2</th>\n",
       "      <td>0.757701</td>\n",
       "      <td>0.804856</td>\n",
       "      <td>0.739506</td>\n",
       "      <td>0.812354</td>\n",
       "      <td>Teste</td>\n",
       "    </tr>\n",
       "    <tr>\n",
       "      <th>3</th>\n",
       "      <td>0.756396</td>\n",
       "      <td>0.803616</td>\n",
       "      <td>0.738371</td>\n",
       "      <td>0.811270</td>\n",
       "      <td>Teste</td>\n",
       "    </tr>\n",
       "    <tr>\n",
       "      <th>4</th>\n",
       "      <td>0.755202</td>\n",
       "      <td>0.802730</td>\n",
       "      <td>0.737283</td>\n",
       "      <td>0.809691</td>\n",
       "      <td>Teste</td>\n",
       "    </tr>\n",
       "    <tr>\n",
       "      <th>5</th>\n",
       "      <td>0.757795</td>\n",
       "      <td>0.804856</td>\n",
       "      <td>0.739605</td>\n",
       "      <td>0.812643</td>\n",
       "      <td>Teste</td>\n",
       "    </tr>\n",
       "    <tr>\n",
       "      <th>6</th>\n",
       "      <td>0.757386</td>\n",
       "      <td>0.804679</td>\n",
       "      <td>0.739209</td>\n",
       "      <td>0.811808</td>\n",
       "      <td>Teste</td>\n",
       "    </tr>\n",
       "    <tr>\n",
       "      <th>7</th>\n",
       "      <td>0.757284</td>\n",
       "      <td>0.804768</td>\n",
       "      <td>0.739086</td>\n",
       "      <td>0.811287</td>\n",
       "      <td>Teste</td>\n",
       "    </tr>\n",
       "    <tr>\n",
       "      <th>8</th>\n",
       "      <td>0.758566</td>\n",
       "      <td>0.805743</td>\n",
       "      <td>0.740250</td>\n",
       "      <td>0.812923</td>\n",
       "      <td>Teste</td>\n",
       "    </tr>\n",
       "    <tr>\n",
       "      <th>9</th>\n",
       "      <td>0.755983</td>\n",
       "      <td>0.803970</td>\n",
       "      <td>0.737873</td>\n",
       "      <td>0.809187</td>\n",
       "      <td>Teste</td>\n",
       "    </tr>\n",
       "  </tbody>\n",
       "</table>\n",
       "</div>"
      ],
      "text/plain": [
       "         f1  accuracy  precision    recall            dataset\n",
       "0  0.800386  0.800402   0.800511  0.800407  Validação Cruzada\n",
       "1  0.820954  0.821016   0.821482  0.821025  Validação Cruzada\n",
       "2  0.807935  0.807944   0.807989  0.807941  Validação Cruzada\n",
       "3  0.809451  0.809452   0.809459  0.809453  Validação Cruzada\n",
       "4  0.820409  0.820423   0.820516  0.820423  Validação Cruzada\n",
       "5  0.806817  0.806841   0.806991  0.806841  Validação Cruzada\n",
       "6  0.817904  0.817907   0.817928  0.817907  Validação Cruzada\n",
       "7  0.795700  0.795775   0.796208  0.795775  Validação Cruzada\n",
       "8  0.829424  0.829477   0.829886  0.829477  Validação Cruzada\n",
       "9  0.800800  0.800805   0.800835  0.800805  Validação Cruzada\n",
       "0  0.759151  0.806629   0.740706  0.812625              Teste\n",
       "1  0.758306  0.805477   0.740026  0.812752              Teste\n",
       "2  0.757701  0.804856   0.739506  0.812354              Teste\n",
       "3  0.756396  0.803616   0.738371  0.811270              Teste\n",
       "4  0.755202  0.802730   0.737283  0.809691              Teste\n",
       "5  0.757795  0.804856   0.739605  0.812643              Teste\n",
       "6  0.757386  0.804679   0.739209  0.811808              Teste\n",
       "7  0.757284  0.804768   0.739086  0.811287              Teste\n",
       "8  0.758566  0.805743   0.740250  0.812923              Teste\n",
       "9  0.755983  0.803970   0.737873  0.809187              Teste"
      ]
     },
     "execution_count": 37,
     "metadata": {},
     "output_type": "execute_result"
    }
   ],
   "source": [
    "results_list_full"
   ]
  },
  {
   "cell_type": "markdown",
   "metadata": {
    "id": "koUEpODwEu1G"
   },
   "source": [
    "### PCA"
   ]
  },
  {
   "cell_type": "code",
   "execution_count": 38,
   "metadata": {
    "id": "Y5QUx4xFEu1G",
    "outputId": "712209ac-7e54-4f81-d7f0-bad568e1335b"
   },
   "outputs": [
    {
     "name": "stdout",
     "output_type": "stream",
     "text": [
      "====> INICIANDO PROCESSAMENTO: 2024-10-28 10:48:30.846006 <====\n",
      "====> 2024-10-28 10:48:30.848553 | EXECUTANDO FOLD 1 \n",
      "Fitting 3 folds for each of 9 candidates, totalling 27 fits\n",
      "[CV 1/3] END max_features=sqrt, n_estimators=500;, score=0.771 total time=  28.7s\n",
      "[CV 2/3] END max_features=log2, n_estimators=500;, score=0.766 total time=  29.4s\n",
      "[CV 3/3] END max_features=sqrt, n_estimators=500;, score=0.771 total time=  29.6s\n",
      "[CV 1/3] END max_features=log2, n_estimators=500;, score=0.771 total time=  30.2s\n",
      "[CV 2/3] END max_features=sqrt, n_estimators=500;, score=0.766 total time=  31.1s\n",
      "[CV 3/3] END max_features=log2, n_estimators=500;, score=0.771 total time=  32.4s\n",
      "[CV 3/3] END max_features=sqrt, n_estimators=700;, score=0.772 total time=  38.0s\n",
      "[CV 1/3] END max_features=sqrt, n_estimators=700;, score=0.770 total time=  39.3s\n",
      "[CV 2/3] END max_features=sqrt, n_estimators=700;, score=0.767 total time=  39.8s\n",
      "[CV 2/3] END max_features=sqrt, n_estimators=1000;, score=0.766 total time=  57.8s\n",
      "[CV 3/3] END max_features=sqrt, n_estimators=1000;, score=0.772 total time=  58.7s\n",
      "[CV 1/3] END max_features=sqrt, n_estimators=1000;, score=0.771 total time= 1.1min\n",
      "[CV 3/3] END max_features=log2, n_estimators=700;, score=0.772 total time=  42.6s\n",
      "[CV 1/3] END max_features=log2, n_estimators=700;, score=0.770 total time=  44.1s\n",
      "[CV 2/3] END max_features=log2, n_estimators=700;, score=0.767 total time=  43.7s\n",
      "[CV 1/3] END max_features=log2, n_estimators=1000;, score=0.771 total time= 1.0min\n",
      "[CV 2/3] END max_features=log2, n_estimators=1000;, score=0.766 total time= 1.1min\n",
      "[CV 3/3] END max_features=log2, n_estimators=1000;, score=0.772 total time= 1.1min\n",
      "[CV 1/3] END max_features=None, n_estimators=500;, score=0.766 total time= 1.1min\n",
      "[CV 3/3] END max_features=None, n_estimators=500;, score=0.771 total time= 1.0min\n",
      "[CV 2/3] END max_features=None, n_estimators=500;, score=0.762 total time= 1.1min\n",
      "[CV 2/3] END max_features=None, n_estimators=700;, score=0.761 total time= 1.1min\n",
      "[CV 1/3] END max_features=None, n_estimators=700;, score=0.767 total time= 1.2min\n",
      "[CV 3/3] END max_features=None, n_estimators=700;, score=0.772 total time= 1.1min\n",
      "[CV 2/3] END max_features=None, n_estimators=1000;, score=0.761 total time= 1.1min\n",
      "[CV 1/3] END max_features=None, n_estimators=1000;, score=0.767 total time= 1.2min\n",
      "[CV 3/3] END max_features=None, n_estimators=1000;, score=0.771 total time= 1.1min\n",
      "===> 2024-10-28 10:51:01.379591 | FINALIZADO FOLD 1 | TEMPO TOTAL 0:02:30.531038\n",
      "\n",
      "====> 2024-10-28 10:51:01.380029 | EXECUTANDO FOLD 2 \n",
      "Fitting 3 folds for each of 9 candidates, totalling 27 fits\n",
      "[CV 1/3] END max_features=sqrt, n_estimators=500;, score=0.764 total time=  27.8s\n",
      "[CV 2/3] END max_features=sqrt, n_estimators=500;, score=0.769 total time=  27.9s\n",
      "[CV 3/3] END max_features=sqrt, n_estimators=500;, score=0.772 total time=  28.5s\n",
      "[CV 2/3] END max_features=log2, n_estimators=500;, score=0.769 total time=  28.5s\n",
      "[CV 1/3] END max_features=log2, n_estimators=500;, score=0.764 total time=  28.5s\n",
      "[CV 3/3] END max_features=log2, n_estimators=500;, score=0.772 total time=  28.6s\n",
      "[CV 1/3] END max_features=sqrt, n_estimators=700;, score=0.762 total time=  36.0s\n",
      "[CV 2/3] END max_features=sqrt, n_estimators=700;, score=0.768 total time=  36.1s\n",
      "[CV 3/3] END max_features=sqrt, n_estimators=700;, score=0.772 total time=  36.3s\n",
      "[CV 1/3] END max_features=sqrt, n_estimators=1000;, score=0.762 total time=  55.5s\n",
      "[CV 3/3] END max_features=sqrt, n_estimators=1000;, score=0.772 total time=  55.7s\n",
      "[CV 2/3] END max_features=sqrt, n_estimators=1000;, score=0.767 total time=  55.8s\n",
      "[CV 2/3] END max_features=log2, n_estimators=700;, score=0.768 total time=  40.1s\n",
      "[CV 1/3] END max_features=log2, n_estimators=700;, score=0.762 total time=  40.2s\n",
      "[CV 3/3] END max_features=log2, n_estimators=700;, score=0.772 total time=  40.2s\n",
      "[CV 2/3] END max_features=log2, n_estimators=1000;, score=0.767 total time=  58.4s\n",
      "[CV 3/3] END max_features=log2, n_estimators=1000;, score=0.772 total time=  58.5s\n",
      "[CV 1/3] END max_features=log2, n_estimators=1000;, score=0.762 total time=  60.0s\n",
      "[CV 1/3] END max_features=None, n_estimators=500;, score=0.758 total time=  58.0s\n",
      "[CV 3/3] END max_features=None, n_estimators=500;, score=0.771 total time=  58.3s\n",
      "[CV 2/3] END max_features=None, n_estimators=500;, score=0.761 total time=  58.7s\n",
      "[CV 3/3] END max_features=None, n_estimators=700;, score=0.771 total time= 1.0min\n",
      "[CV 1/3] END max_features=None, n_estimators=700;, score=0.758 total time= 1.0min\n",
      "[CV 2/3] END max_features=None, n_estimators=700;, score=0.762 total time= 1.0min\n",
      "[CV 1/3] END max_features=None, n_estimators=1000;, score=0.759 total time= 1.1min\n",
      "[CV 3/3] END max_features=None, n_estimators=1000;, score=0.772 total time= 1.0min\n",
      "[CV 2/3] END max_features=None, n_estimators=1000;, score=0.764 total time= 1.1min\n",
      "===> 2024-10-28 10:53:17.845579 | FINALIZADO FOLD 2 | TEMPO TOTAL 0:02:16.465550\n",
      "\n",
      "====> 2024-10-28 10:53:17.846058 | EXECUTANDO FOLD 3 \n",
      "Fitting 3 folds for each of 9 candidates, totalling 27 fits\n",
      "[CV 1/3] END max_features=sqrt, n_estimators=500;, score=0.767 total time=  27.6s\n",
      "[CV 2/3] END max_features=sqrt, n_estimators=500;, score=0.771 total time=  28.3s\n",
      "[CV 1/3] END max_features=log2, n_estimators=500;, score=0.767 total time=  28.3s\n",
      "[CV 3/3] END max_features=log2, n_estimators=500;, score=0.772 total time=  28.4s\n",
      "[CV 2/3] END max_features=log2, n_estimators=500;, score=0.771 total time=  28.5s\n",
      "[CV 3/3] END max_features=sqrt, n_estimators=500;, score=0.772 total time=  29.3s\n",
      "[CV 1/3] END max_features=sqrt, n_estimators=700;, score=0.766 total time=  35.3s\n",
      "[CV 3/3] END max_features=sqrt, n_estimators=700;, score=0.773 total time=  35.4s\n",
      "[CV 2/3] END max_features=sqrt, n_estimators=700;, score=0.773 total time=  36.6s\n",
      "[CV 1/3] END max_features=sqrt, n_estimators=1000;, score=0.766 total time=  54.9s\n",
      "[CV 3/3] END max_features=sqrt, n_estimators=1000;, score=0.773 total time=  56.1s\n",
      "[CV 2/3] END max_features=sqrt, n_estimators=1000;, score=0.770 total time=  56.3s\n",
      "[CV 2/3] END max_features=log2, n_estimators=700;, score=0.773 total time=  40.1s\n",
      "[CV 1/3] END max_features=log2, n_estimators=700;, score=0.766 total time=  40.8s\n",
      "[CV 3/3] END max_features=log2, n_estimators=700;, score=0.773 total time=  41.1s\n",
      "[CV 1/3] END max_features=log2, n_estimators=1000;, score=0.766 total time=  59.6s\n",
      "[CV 3/3] END max_features=log2, n_estimators=1000;, score=0.773 total time=  58.9s\n",
      "[CV 2/3] END max_features=log2, n_estimators=1000;, score=0.770 total time= 1.0min\n",
      "[CV 1/3] END max_features=None, n_estimators=500;, score=0.761 total time=  59.4s\n",
      "[CV 2/3] END max_features=None, n_estimators=500;, score=0.766 total time=  59.5s\n",
      "[CV 3/3] END max_features=None, n_estimators=500;, score=0.773 total time=  58.6s\n",
      "[CV 1/3] END max_features=None, n_estimators=700;, score=0.763 total time= 1.1min\n",
      "[CV 3/3] END max_features=None, n_estimators=700;, score=0.772 total time= 1.0min\n",
      "[CV 2/3] END max_features=None, n_estimators=700;, score=0.766 total time= 1.0min\n",
      "[CV 3/3] END max_features=None, n_estimators=1000;, score=0.772 total time= 1.1min\n",
      "[CV 2/3] END max_features=None, n_estimators=1000;, score=0.764 total time= 1.1min\n",
      "[CV 1/3] END max_features=None, n_estimators=1000;, score=0.762 total time= 1.1min\n",
      "===> 2024-10-28 10:55:37.694071 | FINALIZADO FOLD 3 | TEMPO TOTAL 0:02:19.848013\n",
      "\n",
      "====> 2024-10-28 10:55:37.694598 | EXECUTANDO FOLD 4 \n",
      "Fitting 3 folds for each of 9 candidates, totalling 27 fits\n",
      "[CV 1/3] END max_features=sqrt, n_estimators=500;, score=0.768 total time=  27.7s\n",
      "[CV 3/3] END max_features=sqrt, n_estimators=500;, score=0.775 total time=  28.0s\n",
      "[CV 1/3] END max_features=log2, n_estimators=500;, score=0.768 total time=  28.3s\n",
      "[CV 2/3] END max_features=sqrt, n_estimators=500;, score=0.767 total time=  28.4s\n",
      "[CV 3/3] END max_features=log2, n_estimators=500;, score=0.775 total time=  28.8s\n",
      "[CV 2/3] END max_features=log2, n_estimators=500;, score=0.767 total time=  28.8s\n",
      "[CV 1/3] END max_features=sqrt, n_estimators=700;, score=0.767 total time=  34.9s\n",
      "[CV 2/3] END max_features=sqrt, n_estimators=700;, score=0.767 total time=  36.3s\n",
      "[CV 3/3] END max_features=sqrt, n_estimators=700;, score=0.774 total time=  36.3s\n",
      "[CV 3/3] END max_features=sqrt, n_estimators=1000;, score=0.776 total time=  56.1s\n",
      "[CV 1/3] END max_features=sqrt, n_estimators=1000;, score=0.765 total time=  56.4s\n",
      "[CV 2/3] END max_features=sqrt, n_estimators=1000;, score=0.769 total time=  56.6s\n",
      "[CV 1/3] END max_features=log2, n_estimators=700;, score=0.767 total time=  40.0s\n",
      "[CV 3/3] END max_features=log2, n_estimators=700;, score=0.774 total time=  40.7s\n",
      "[CV 2/3] END max_features=log2, n_estimators=700;, score=0.767 total time=  41.1s\n",
      "[CV 1/3] END max_features=log2, n_estimators=1000;, score=0.765 total time=  59.0s\n",
      "[CV 2/3] END max_features=log2, n_estimators=1000;, score=0.769 total time=  58.9s\n",
      "[CV 3/3] END max_features=log2, n_estimators=1000;, score=0.776 total time=  59.1s\n",
      "[CV 1/3] END max_features=None, n_estimators=500;, score=0.760 total time=  58.4s\n",
      "[CV 3/3] END max_features=None, n_estimators=500;, score=0.774 total time=  57.4s\n",
      "[CV 2/3] END max_features=None, n_estimators=500;, score=0.767 total time=  58.2s\n",
      "[CV 3/3] END max_features=None, n_estimators=700;, score=0.774 total time= 1.0min\n",
      "[CV 1/3] END max_features=None, n_estimators=700;, score=0.761 total time= 1.0min\n",
      "[CV 2/3] END max_features=None, n_estimators=700;, score=0.765 total time= 1.0min\n",
      "[CV 3/3] END max_features=None, n_estimators=1000;, score=0.773 total time= 1.0min\n",
      "[CV 1/3] END max_features=None, n_estimators=1000;, score=0.762 total time= 1.0min\n",
      "[CV 2/3] END max_features=None, n_estimators=1000;, score=0.766 total time= 1.0min\n",
      "===> 2024-10-28 10:57:56.709865 | FINALIZADO FOLD 4 | TEMPO TOTAL 0:02:19.015267\n",
      "\n",
      "====> 2024-10-28 10:57:56.710507 | EXECUTANDO FOLD 5 \n",
      "Fitting 3 folds for each of 9 candidates, totalling 27 fits\n",
      "[CV 3/3] END max_features=sqrt, n_estimators=500;, score=0.772 total time=  27.9s\n",
      "[CV 1/3] END max_features=sqrt, n_estimators=500;, score=0.767 total time=  28.1s\n",
      "[CV 1/3] END max_features=log2, n_estimators=500;, score=0.767 total time=  28.6s\n",
      "[CV 2/3] END max_features=sqrt, n_estimators=500;, score=0.760 total time=  28.9s\n",
      "[CV 2/3] END max_features=log2, n_estimators=500;, score=0.760 total time=  29.0s\n",
      "[CV 3/3] END max_features=log2, n_estimators=500;, score=0.772 total time=  29.5s\n",
      "[CV 3/3] END max_features=sqrt, n_estimators=700;, score=0.772 total time=  35.7s\n",
      "[CV 1/3] END max_features=sqrt, n_estimators=700;, score=0.767 total time=  36.0s\n",
      "[CV 2/3] END max_features=sqrt, n_estimators=700;, score=0.760 total time=  36.1s\n",
      "[CV 3/3] END max_features=sqrt, n_estimators=1000;, score=0.772 total time=  55.1s\n",
      "[CV 1/3] END max_features=sqrt, n_estimators=1000;, score=0.767 total time=  56.3s\n",
      "[CV 2/3] END max_features=sqrt, n_estimators=1000;, score=0.760 total time=  56.7s\n",
      "[CV 1/3] END max_features=log2, n_estimators=700;, score=0.767 total time=  39.5s\n",
      "[CV 3/3] END max_features=log2, n_estimators=700;, score=0.772 total time=  39.1s\n",
      "[CV 2/3] END max_features=log2, n_estimators=700;, score=0.760 total time=  40.7s\n",
      "[CV 1/3] END max_features=log2, n_estimators=1000;, score=0.767 total time=  58.8s\n",
      "[CV 2/3] END max_features=log2, n_estimators=1000;, score=0.760 total time=  59.3s\n",
      "[CV 3/3] END max_features=log2, n_estimators=1000;, score=0.772 total time=  59.8s\n",
      "[CV 3/3] END max_features=None, n_estimators=500;, score=0.771 total time=  57.9s\n",
      "[CV 1/3] END max_features=None, n_estimators=500;, score=0.764 total time=  58.2s\n",
      "[CV 2/3] END max_features=None, n_estimators=500;, score=0.759 total time=  58.4s\n",
      "[CV 1/3] END max_features=None, n_estimators=700;, score=0.765 total time= 1.0min\n",
      "[CV 3/3] END max_features=None, n_estimators=700;, score=0.771 total time= 1.0min\n",
      "[CV 2/3] END max_features=None, n_estimators=700;, score=0.757 total time= 1.0min\n",
      "[CV 1/3] END max_features=None, n_estimators=1000;, score=0.766 total time= 1.0min\n",
      "[CV 3/3] END max_features=None, n_estimators=1000;, score=0.772 total time= 1.0min\n",
      "[CV 2/3] END max_features=None, n_estimators=1000;, score=0.759 total time= 1.0min\n",
      "===> 2024-10-28 11:00:11.843684 | FINALIZADO FOLD 5 | TEMPO TOTAL 0:02:15.133177\n",
      "\n",
      "====> 2024-10-28 11:00:11.845845 | EXECUTANDO FOLD 6 \n",
      "Fitting 3 folds for each of 9 candidates, totalling 27 fits\n",
      "[CV 1/3] END max_features=sqrt, n_estimators=500;, score=0.768 total time=  29.5s\n",
      "[CV 2/3] END max_features=sqrt, n_estimators=500;, score=0.773 total time=  30.1s\n",
      "[CV 3/3] END max_features=log2, n_estimators=500;, score=0.771 total time=  30.5s\n",
      "[CV 2/3] END max_features=log2, n_estimators=500;, score=0.773 total time=  30.6s\n",
      "[CV 1/3] END max_features=log2, n_estimators=500;, score=0.768 total time=  30.9s\n",
      "[CV 3/3] END max_features=sqrt, n_estimators=500;, score=0.771 total time=  31.5s\n",
      "[CV 3/3] END max_features=sqrt, n_estimators=700;, score=0.769 total time=  37.1s\n",
      "[CV 2/3] END max_features=sqrt, n_estimators=700;, score=0.773 total time=  38.3s\n",
      "[CV 1/3] END max_features=sqrt, n_estimators=700;, score=0.768 total time=  38.5s\n",
      "[CV 2/3] END max_features=sqrt, n_estimators=1000;, score=0.773 total time=  59.9s\n",
      "[CV 1/3] END max_features=sqrt, n_estimators=1000;, score=0.768 total time= 1.0min\n",
      "[CV 3/3] END max_features=sqrt, n_estimators=1000;, score=0.769 total time= 1.1min\n",
      "[CV 3/3] END max_features=log2, n_estimators=700;, score=0.769 total time=  42.0s\n",
      "[CV 1/3] END max_features=log2, n_estimators=700;, score=0.768 total time=  44.1s\n",
      "[CV 2/3] END max_features=log2, n_estimators=700;, score=0.773 total time=  46.5s\n",
      "[CV 2/3] END max_features=log2, n_estimators=1000;, score=0.773 total time= 1.1min\n",
      "[CV 3/3] END max_features=log2, n_estimators=1000;, score=0.769 total time= 1.1min\n",
      "[CV 1/3] END max_features=log2, n_estimators=1000;, score=0.768 total time= 1.1min\n",
      "[CV 3/3] END max_features=None, n_estimators=500;, score=0.771 total time= 1.0min\n",
      "[CV 1/3] END max_features=None, n_estimators=500;, score=0.762 total time= 1.1min\n",
      "[CV 2/3] END max_features=None, n_estimators=500;, score=0.769 total time= 1.1min\n",
      "[CV 2/3] END max_features=None, n_estimators=700;, score=0.766 total time= 1.1min\n",
      "[CV 1/3] END max_features=None, n_estimators=700;, score=0.764 total time= 1.1min\n",
      "[CV 3/3] END max_features=None, n_estimators=700;, score=0.770 total time= 1.1min\n",
      "[CV 2/3] END max_features=None, n_estimators=1000;, score=0.767 total time= 1.1min\n",
      "[CV 3/3] END max_features=None, n_estimators=1000;, score=0.771 total time= 1.1min\n",
      "[CV 1/3] END max_features=None, n_estimators=1000;, score=0.764 total time= 1.1min\n",
      "===> 2024-10-28 11:02:38.894304 | FINALIZADO FOLD 6 | TEMPO TOTAL 0:02:27.048459\n",
      "\n",
      "====> 2024-10-28 11:02:38.894793 | EXECUTANDO FOLD 7 \n",
      "Fitting 3 folds for each of 9 candidates, totalling 27 fits\n",
      "[CV 1/3] END max_features=sqrt, n_estimators=500;, score=0.769 total time=  27.3s\n",
      "[CV 2/3] END max_features=sqrt, n_estimators=500;, score=0.762 total time=  27.4s\n",
      "[CV 2/3] END max_features=log2, n_estimators=500;, score=0.762 total time=  27.4s\n",
      "[CV 1/3] END max_features=log2, n_estimators=500;, score=0.769 total time=  28.3s\n",
      "[CV 3/3] END max_features=log2, n_estimators=500;, score=0.769 total time=  28.7s\n",
      "[CV 3/3] END max_features=sqrt, n_estimators=500;, score=0.769 total time=  28.9s\n",
      "[CV 3/3] END max_features=sqrt, n_estimators=700;, score=0.769 total time=  37.6s\n",
      "[CV 1/3] END max_features=sqrt, n_estimators=700;, score=0.769 total time=  39.8s\n",
      "[CV 2/3] END max_features=sqrt, n_estimators=700;, score=0.762 total time=  41.8s\n",
      "[CV 1/3] END max_features=sqrt, n_estimators=1000;, score=0.769 total time=  58.3s\n",
      "[CV 2/3] END max_features=sqrt, n_estimators=1000;, score=0.762 total time=  58.9s\n",
      "[CV 3/3] END max_features=sqrt, n_estimators=1000;, score=0.770 total time= 1.0min\n",
      "[CV 1/3] END max_features=log2, n_estimators=700;, score=0.769 total time=  46.0s\n",
      "[CV 3/3] END max_features=log2, n_estimators=700;, score=0.769 total time=  46.1s\n",
      "[CV 2/3] END max_features=log2, n_estimators=700;, score=0.762 total time=  46.9s\n",
      "[CV 1/3] END max_features=log2, n_estimators=1000;, score=0.769 total time= 1.0min\n",
      "[CV 2/3] END max_features=log2, n_estimators=1000;, score=0.762 total time= 1.1min\n",
      "[CV 3/3] END max_features=log2, n_estimators=1000;, score=0.770 total time= 1.1min\n",
      "[CV 2/3] END max_features=None, n_estimators=500;, score=0.757 total time= 1.0min\n",
      "[CV 1/3] END max_features=None, n_estimators=500;, score=0.763 total time= 1.1min\n",
      "[CV 3/3] END max_features=None, n_estimators=500;, score=0.770 total time= 1.0min\n",
      "[CV 1/3] END max_features=None, n_estimators=700;, score=0.762 total time= 1.1min\n",
      "[CV 3/3] END max_features=None, n_estimators=700;, score=0.769 total time= 1.1min\n",
      "[CV 2/3] END max_features=None, n_estimators=700;, score=0.755 total time= 1.1min\n",
      "[CV 2/3] END max_features=None, n_estimators=1000;, score=0.757 total time= 1.1min\n",
      "[CV 1/3] END max_features=None, n_estimators=1000;, score=0.762 total time= 1.1min\n",
      "[CV 3/3] END max_features=None, n_estimators=1000;, score=0.772 total time= 1.1min\n",
      "===> 2024-10-28 11:05:09.839953 | FINALIZADO FOLD 7 | TEMPO TOTAL 0:02:30.945160\n",
      "\n",
      "====> 2024-10-28 11:05:09.840626 | EXECUTANDO FOLD 8 \n",
      "Fitting 3 folds for each of 9 candidates, totalling 27 fits\n",
      "[CV 2/3] END max_features=sqrt, n_estimators=500;, score=0.763 total time=  29.0s\n",
      "[CV 1/3] END max_features=log2, n_estimators=500;, score=0.768 total time=  30.5s\n",
      "[CV 3/3] END max_features=log2, n_estimators=500;, score=0.774 total time=  30.7s\n",
      "[CV 1/3] END max_features=sqrt, n_estimators=500;, score=0.768 total time=  31.5s\n",
      "[CV 3/3] END max_features=sqrt, n_estimators=500;, score=0.774 total time=  31.7s\n",
      "[CV 2/3] END max_features=log2, n_estimators=500;, score=0.763 total time=  32.1s\n",
      "[CV 1/3] END max_features=sqrt, n_estimators=700;, score=0.767 total time=  41.2s\n",
      "[CV 2/3] END max_features=sqrt, n_estimators=700;, score=0.763 total time=  41.6s\n",
      "[CV 3/3] END max_features=sqrt, n_estimators=700;, score=0.774 total time=  43.7s\n",
      "[CV 1/3] END max_features=sqrt, n_estimators=1000;, score=0.768 total time= 1.0min\n",
      "[CV 2/3] END max_features=sqrt, n_estimators=1000;, score=0.763 total time= 1.1min\n",
      "[CV 3/3] END max_features=sqrt, n_estimators=1000;, score=0.774 total time= 1.1min\n",
      "[CV 1/3] END max_features=log2, n_estimators=700;, score=0.767 total time=  44.4s\n",
      "[CV 3/3] END max_features=log2, n_estimators=700;, score=0.774 total time=  44.7s\n",
      "[CV 2/3] END max_features=log2, n_estimators=700;, score=0.763 total time=  46.0s\n",
      "[CV 2/3] END max_features=log2, n_estimators=1000;, score=0.763 total time= 1.0min\n",
      "[CV 1/3] END max_features=log2, n_estimators=1000;, score=0.768 total time= 1.1min\n",
      "[CV 3/3] END max_features=log2, n_estimators=1000;, score=0.774 total time= 1.1min\n",
      "[CV 2/3] END max_features=None, n_estimators=500;, score=0.762 total time= 1.1min\n",
      "[CV 1/3] END max_features=None, n_estimators=500;, score=0.761 total time= 1.1min\n",
      "[CV 3/3] END max_features=None, n_estimators=500;, score=0.773 total time= 1.1min\n",
      "[CV 1/3] END max_features=None, n_estimators=700;, score=0.762 total time= 1.1min\n",
      "[CV 2/3] END max_features=None, n_estimators=700;, score=0.762 total time= 1.1min\n",
      "[CV 3/3] END max_features=None, n_estimators=700;, score=0.772 total time= 1.0min\n",
      "[CV 1/3] END max_features=None, n_estimators=1000;, score=0.762 total time= 1.2min\n",
      "[CV 2/3] END max_features=None, n_estimators=1000;, score=0.762 total time= 1.1min\n",
      "[CV 3/3] END max_features=None, n_estimators=1000;, score=0.773 total time= 1.1min\n",
      "===> 2024-10-28 11:07:42.698713 | FINALIZADO FOLD 8 | TEMPO TOTAL 0:02:32.858087\n",
      "\n",
      "====> 2024-10-28 11:07:42.699516 | EXECUTANDO FOLD 9 \n",
      "Fitting 3 folds for each of 9 candidates, totalling 27 fits\n",
      "[CV 2/3] END max_features=sqrt, n_estimators=500;, score=0.759 total time=  30.3s\n",
      "[CV 1/3] END max_features=sqrt, n_estimators=500;, score=0.764 total time=  30.3s\n",
      "[CV 1/3] END max_features=log2, n_estimators=500;, score=0.764 total time=  30.8s\n",
      "[CV 2/3] END max_features=log2, n_estimators=500;, score=0.759 total time=  30.9s\n",
      "[CV 3/3] END max_features=sqrt, n_estimators=500;, score=0.760 total time=  31.2s\n",
      "[CV 3/3] END max_features=log2, n_estimators=500;, score=0.760 total time=  31.4s\n",
      "[CV 2/3] END max_features=sqrt, n_estimators=700;, score=0.759 total time=  38.3s\n",
      "[CV 3/3] END max_features=sqrt, n_estimators=700;, score=0.761 total time=  38.7s\n",
      "[CV 1/3] END max_features=sqrt, n_estimators=700;, score=0.765 total time=  40.0s\n",
      "[CV 1/3] END max_features=sqrt, n_estimators=1000;, score=0.765 total time=  57.7s\n",
      "[CV 3/3] END max_features=sqrt, n_estimators=1000;, score=0.762 total time= 1.0min\n",
      "[CV 2/3] END max_features=sqrt, n_estimators=1000;, score=0.761 total time= 1.0min\n",
      "[CV 2/3] END max_features=log2, n_estimators=700;, score=0.759 total time=  41.1s\n",
      "[CV 1/3] END max_features=log2, n_estimators=700;, score=0.765 total time=  42.8s\n",
      "[CV 3/3] END max_features=log2, n_estimators=700;, score=0.761 total time=  43.6s\n",
      "[CV 1/3] END max_features=log2, n_estimators=1000;, score=0.765 total time= 1.0min\n",
      "[CV 2/3] END max_features=log2, n_estimators=1000;, score=0.761 total time= 1.1min\n",
      "[CV 3/3] END max_features=log2, n_estimators=1000;, score=0.762 total time= 1.1min\n",
      "[CV 2/3] END max_features=None, n_estimators=500;, score=0.755 total time= 1.1min\n",
      "[CV 1/3] END max_features=None, n_estimators=500;, score=0.763 total time= 1.1min\n",
      "[CV 3/3] END max_features=None, n_estimators=500;, score=0.761 total time= 1.0min\n",
      "[CV 1/3] END max_features=None, n_estimators=700;, score=0.762 total time= 1.1min\n",
      "[CV 3/3] END max_features=None, n_estimators=700;, score=0.760 total time= 1.1min\n",
      "[CV 2/3] END max_features=None, n_estimators=700;, score=0.755 total time= 1.1min\n",
      "[CV 2/3] END max_features=None, n_estimators=1000;, score=0.755 total time= 1.1min\n",
      "[CV 1/3] END max_features=None, n_estimators=1000;, score=0.765 total time= 1.1min\n",
      "[CV 3/3] END max_features=None, n_estimators=1000;, score=0.761 total time= 1.1min\n",
      "===> 2024-10-28 11:10:12.586880 | FINALIZADO FOLD 9 | TEMPO TOTAL 0:02:29.887364\n",
      "\n",
      "====> 2024-10-28 11:10:12.587508 | EXECUTANDO FOLD 10 \n",
      "Fitting 3 folds for each of 9 candidates, totalling 27 fits\n",
      "[CV 2/3] END max_features=sqrt, n_estimators=500;, score=0.763 total time=  28.7s\n",
      "[CV 1/3] END max_features=sqrt, n_estimators=500;, score=0.764 total time=  30.0s\n",
      "[CV 1/3] END max_features=log2, n_estimators=500;, score=0.764 total time=  31.0s\n",
      "[CV 3/3] END max_features=sqrt, n_estimators=500;, score=0.773 total time=  31.3s\n",
      "[CV 2/3] END max_features=log2, n_estimators=500;, score=0.763 total time=  33.0s\n",
      "[CV 3/3] END max_features=log2, n_estimators=500;, score=0.773 total time=  33.1s\n",
      "[CV 1/3] END max_features=sqrt, n_estimators=700;, score=0.765 total time=  41.4s\n",
      "[CV 3/3] END max_features=sqrt, n_estimators=700;, score=0.774 total time=  42.1s\n",
      "[CV 2/3] END max_features=sqrt, n_estimators=700;, score=0.762 total time=  43.3s\n",
      "[CV 3/3] END max_features=sqrt, n_estimators=1000;, score=0.775 total time=  58.7s\n",
      "[CV 2/3] END max_features=sqrt, n_estimators=1000;, score=0.761 total time= 1.0min\n",
      "[CV 1/3] END max_features=sqrt, n_estimators=1000;, score=0.765 total time= 1.0min\n",
      "[CV 1/3] END max_features=log2, n_estimators=700;, score=0.765 total time=  44.0s\n",
      "[CV 2/3] END max_features=log2, n_estimators=700;, score=0.762 total time=  44.6s\n",
      "[CV 3/3] END max_features=log2, n_estimators=700;, score=0.774 total time=  44.6s\n",
      "[CV 1/3] END max_features=log2, n_estimators=1000;, score=0.765 total time= 1.1min\n",
      "[CV 3/3] END max_features=log2, n_estimators=1000;, score=0.775 total time= 1.0min\n",
      "[CV 2/3] END max_features=log2, n_estimators=1000;, score=0.761 total time= 1.1min\n",
      "[CV 1/3] END max_features=None, n_estimators=500;, score=0.762 total time=  59.9s\n",
      "[CV 3/3] END max_features=None, n_estimators=500;, score=0.773 total time= 1.0min\n",
      "[CV 2/3] END max_features=None, n_estimators=500;, score=0.757 total time= 1.0min\n",
      "[CV 2/3] END max_features=None, n_estimators=700;, score=0.756 total time= 1.1min\n",
      "[CV 1/3] END max_features=None, n_estimators=700;, score=0.763 total time= 1.1min\n",
      "[CV 3/3] END max_features=None, n_estimators=700;, score=0.773 total time= 1.1min\n",
      "[CV 1/3] END max_features=None, n_estimators=1000;, score=0.761 total time= 1.1min\n",
      "[CV 2/3] END max_features=None, n_estimators=1000;, score=0.757 total time= 1.1min\n",
      "[CV 3/3] END max_features=None, n_estimators=1000;, score=0.773 total time= 1.1min\n",
      "===> 2024-10-28 11:12:40.907413 | FINALIZADO FOLD 10 | TEMPO TOTAL 0:02:28.319905\n",
      "\n",
      "Resultados na validação cruzada: {'f1': 0.7718425937406976, 'accuracy': 0.7718775195162932, 'precision': 0.7720430962628368, 'recall': 0.7718784566696664}\n",
      "Resultados na base de teste: {'f1': 0.7177389872881559, 'accuracy': 0.7716855724920242, 'precision': 0.703814150502069, 'recall': 0.7673051995345181}\n",
      "Melhores parâmetros escolhidos: {'max_features': 'sqrt', 'n_estimators': 500}\n"
     ]
    }
   ],
   "source": [
    "param_grid_categorical = {\n",
    "    \"n_estimators\": [500, 700, 1000],\n",
    "    \"max_features\": [\"sqrt\", \"log2\", None],\n",
    "}\n",
    "\n",
    "# Executar a função e obter os melhores parâmetros\n",
    "results_validation, results_test, best_params, results_list_pca = run_cross_validation(\n",
    "    df_train_pca.drop(columns=[\"RainTomorrow\"]),\n",
    "    df_train_pca[\"RainTomorrow\"],\n",
    "    df_test_pca.drop(columns=[\"RainTomorrow\"]),\n",
    "    df_test_pca[\"RainTomorrow\"],\n",
    "    RandomForestClassifier(n_jobs=-1, random_state=42, max_depth=None),\n",
    "    param_grid_categorical,\n",
    "    k_folds=10,\n",
    ")\n",
    "\n",
    "print(\"Resultados na validação cruzada:\", results_validation)\n",
    "print(\"Resultados na base de teste:\", results_test)\n",
    "print(\"Melhores parâmetros escolhidos:\", best_params)"
   ]
  },
  {
   "cell_type": "code",
   "execution_count": 39,
   "metadata": {
    "id": "ARxqF4-qEu1G",
    "outputId": "216c826a-7a48-4a60-9a9c-5177ebb4b069"
   },
   "outputs": [
    {
     "data": {
      "text/html": [
       "<div>\n",
       "<style scoped>\n",
       "    .dataframe tbody tr th:only-of-type {\n",
       "        vertical-align: middle;\n",
       "    }\n",
       "\n",
       "    .dataframe tbody tr th {\n",
       "        vertical-align: top;\n",
       "    }\n",
       "\n",
       "    .dataframe thead th {\n",
       "        text-align: right;\n",
       "    }\n",
       "</style>\n",
       "<table border=\"1\" class=\"dataframe\">\n",
       "  <thead>\n",
       "    <tr style=\"text-align: right;\">\n",
       "      <th></th>\n",
       "      <th>f1</th>\n",
       "      <th>accuracy</th>\n",
       "      <th>precision</th>\n",
       "      <th>recall</th>\n",
       "      <th>dataset</th>\n",
       "    </tr>\n",
       "  </thead>\n",
       "  <tbody>\n",
       "    <tr>\n",
       "      <th>0</th>\n",
       "      <td>0.756651</td>\n",
       "      <td>0.756662</td>\n",
       "      <td>0.756699</td>\n",
       "      <td>0.756659</td>\n",
       "      <td>Validação Cruzada</td>\n",
       "    </tr>\n",
       "    <tr>\n",
       "      <th>1</th>\n",
       "      <td>0.774761</td>\n",
       "      <td>0.774761</td>\n",
       "      <td>0.774762</td>\n",
       "      <td>0.774762</td>\n",
       "      <td>Validação Cruzada</td>\n",
       "    </tr>\n",
       "    <tr>\n",
       "      <th>2</th>\n",
       "      <td>0.777264</td>\n",
       "      <td>0.777275</td>\n",
       "      <td>0.777338</td>\n",
       "      <td>0.777279</td>\n",
       "      <td>Validação Cruzada</td>\n",
       "    </tr>\n",
       "    <tr>\n",
       "      <th>3</th>\n",
       "      <td>0.766154</td>\n",
       "      <td>0.766214</td>\n",
       "      <td>0.766507</td>\n",
       "      <td>0.766222</td>\n",
       "      <td>Validação Cruzada</td>\n",
       "    </tr>\n",
       "    <tr>\n",
       "      <th>4</th>\n",
       "      <td>0.780684</td>\n",
       "      <td>0.780684</td>\n",
       "      <td>0.780685</td>\n",
       "      <td>0.780684</td>\n",
       "      <td>Validação Cruzada</td>\n",
       "    </tr>\n",
       "    <tr>\n",
       "      <th>5</th>\n",
       "      <td>0.761950</td>\n",
       "      <td>0.762072</td>\n",
       "      <td>0.762611</td>\n",
       "      <td>0.762072</td>\n",
       "      <td>Validação Cruzada</td>\n",
       "    </tr>\n",
       "    <tr>\n",
       "      <th>6</th>\n",
       "      <td>0.781640</td>\n",
       "      <td>0.781690</td>\n",
       "      <td>0.781947</td>\n",
       "      <td>0.781690</td>\n",
       "      <td>Validação Cruzada</td>\n",
       "    </tr>\n",
       "    <tr>\n",
       "      <th>7</th>\n",
       "      <td>0.753000</td>\n",
       "      <td>0.753018</td>\n",
       "      <td>0.753092</td>\n",
       "      <td>0.753018</td>\n",
       "      <td>Validação Cruzada</td>\n",
       "    </tr>\n",
       "    <tr>\n",
       "      <th>8</th>\n",
       "      <td>0.795750</td>\n",
       "      <td>0.795775</td>\n",
       "      <td>0.795920</td>\n",
       "      <td>0.795775</td>\n",
       "      <td>Validação Cruzada</td>\n",
       "    </tr>\n",
       "    <tr>\n",
       "      <th>9</th>\n",
       "      <td>0.770571</td>\n",
       "      <td>0.770624</td>\n",
       "      <td>0.770870</td>\n",
       "      <td>0.770624</td>\n",
       "      <td>Validação Cruzada</td>\n",
       "    </tr>\n",
       "    <tr>\n",
       "      <th>0</th>\n",
       "      <td>0.717884</td>\n",
       "      <td>0.771801</td>\n",
       "      <td>0.703940</td>\n",
       "      <td>0.767480</td>\n",
       "      <td>Teste</td>\n",
       "    </tr>\n",
       "    <tr>\n",
       "      <th>1</th>\n",
       "      <td>0.716634</td>\n",
       "      <td>0.769762</td>\n",
       "      <td>0.703098</td>\n",
       "      <td>0.767906</td>\n",
       "      <td>Teste</td>\n",
       "    </tr>\n",
       "    <tr>\n",
       "      <th>2</th>\n",
       "      <td>0.717118</td>\n",
       "      <td>0.771269</td>\n",
       "      <td>0.703230</td>\n",
       "      <td>0.766417</td>\n",
       "      <td>Teste</td>\n",
       "    </tr>\n",
       "    <tr>\n",
       "      <th>3</th>\n",
       "      <td>0.719020</td>\n",
       "      <td>0.772155</td>\n",
       "      <td>0.705109</td>\n",
       "      <td>0.769873</td>\n",
       "      <td>Teste</td>\n",
       "    </tr>\n",
       "    <tr>\n",
       "      <th>4</th>\n",
       "      <td>0.716105</td>\n",
       "      <td>0.770471</td>\n",
       "      <td>0.702315</td>\n",
       "      <td>0.765184</td>\n",
       "      <td>Teste</td>\n",
       "    </tr>\n",
       "    <tr>\n",
       "      <th>5</th>\n",
       "      <td>0.715116</td>\n",
       "      <td>0.769231</td>\n",
       "      <td>0.701540</td>\n",
       "      <td>0.764822</td>\n",
       "      <td>Teste</td>\n",
       "    </tr>\n",
       "    <tr>\n",
       "      <th>6</th>\n",
       "      <td>0.718220</td>\n",
       "      <td>0.772510</td>\n",
       "      <td>0.704135</td>\n",
       "      <td>0.767068</td>\n",
       "      <td>Teste</td>\n",
       "    </tr>\n",
       "    <tr>\n",
       "      <th>7</th>\n",
       "      <td>0.718826</td>\n",
       "      <td>0.773219</td>\n",
       "      <td>0.704629</td>\n",
       "      <td>0.767379</td>\n",
       "      <td>Teste</td>\n",
       "    </tr>\n",
       "    <tr>\n",
       "      <th>8</th>\n",
       "      <td>0.718023</td>\n",
       "      <td>0.772067</td>\n",
       "      <td>0.704027</td>\n",
       "      <td>0.767362</td>\n",
       "      <td>Teste</td>\n",
       "    </tr>\n",
       "    <tr>\n",
       "      <th>9</th>\n",
       "      <td>0.720444</td>\n",
       "      <td>0.774371</td>\n",
       "      <td>0.706118</td>\n",
       "      <td>0.769561</td>\n",
       "      <td>Teste</td>\n",
       "    </tr>\n",
       "  </tbody>\n",
       "</table>\n",
       "</div>"
      ],
      "text/plain": [
       "         f1  accuracy  precision    recall            dataset\n",
       "0  0.756651  0.756662   0.756699  0.756659  Validação Cruzada\n",
       "1  0.774761  0.774761   0.774762  0.774762  Validação Cruzada\n",
       "2  0.777264  0.777275   0.777338  0.777279  Validação Cruzada\n",
       "3  0.766154  0.766214   0.766507  0.766222  Validação Cruzada\n",
       "4  0.780684  0.780684   0.780685  0.780684  Validação Cruzada\n",
       "5  0.761950  0.762072   0.762611  0.762072  Validação Cruzada\n",
       "6  0.781640  0.781690   0.781947  0.781690  Validação Cruzada\n",
       "7  0.753000  0.753018   0.753092  0.753018  Validação Cruzada\n",
       "8  0.795750  0.795775   0.795920  0.795775  Validação Cruzada\n",
       "9  0.770571  0.770624   0.770870  0.770624  Validação Cruzada\n",
       "0  0.717884  0.771801   0.703940  0.767480              Teste\n",
       "1  0.716634  0.769762   0.703098  0.767906              Teste\n",
       "2  0.717118  0.771269   0.703230  0.766417              Teste\n",
       "3  0.719020  0.772155   0.705109  0.769873              Teste\n",
       "4  0.716105  0.770471   0.702315  0.765184              Teste\n",
       "5  0.715116  0.769231   0.701540  0.764822              Teste\n",
       "6  0.718220  0.772510   0.704135  0.767068              Teste\n",
       "7  0.718826  0.773219   0.704629  0.767379              Teste\n",
       "8  0.718023  0.772067   0.704027  0.767362              Teste\n",
       "9  0.720444  0.774371   0.706118  0.769561              Teste"
      ]
     },
     "execution_count": 39,
     "metadata": {},
     "output_type": "execute_result"
    }
   ],
   "source": [
    "results_list_pca"
   ]
  },
  {
   "cell_type": "markdown",
   "metadata": {
    "id": "rtC1_Mb9Eu1G"
   },
   "source": [
    "### CORRELAÇÃO"
   ]
  },
  {
   "cell_type": "code",
   "execution_count": 40,
   "metadata": {
    "id": "yUrTyJ2QEu1H",
    "outputId": "80e87a78-cc17-455e-fcd4-c2b1a89c56b4"
   },
   "outputs": [
    {
     "name": "stdout",
     "output_type": "stream",
     "text": [
      "====> INICIANDO PROCESSAMENTO: 2024-10-28 11:12:41.032080 <====\n",
      "====> 2024-10-28 11:12:41.036358 | EXECUTANDO FOLD 1 \n",
      "Fitting 3 folds for each of 12 candidates, totalling 36 fits\n",
      "[CV 3/3] END max_features=log2, n_estimators=500;, score=0.813 total time=  22.6s\n",
      "[CV 2/3] END max_features=sqrt, n_estimators=500;, score=0.806 total time=  23.1s\n",
      "[CV 2/3] END max_features=log2, n_estimators=500;, score=0.806 total time=  23.2s\n",
      "[CV 1/3] END max_features=sqrt, n_estimators=500;, score=0.810 total time=  23.6s\n",
      "[CV 1/3] END max_features=log2, n_estimators=500;, score=0.810 total time=  23.6s\n",
      "[CV 3/3] END max_features=sqrt, n_estimators=500;, score=0.813 total time=  24.3s\n",
      "[CV 1/3] END max_features=sqrt, n_estimators=700;, score=0.808 total time=  28.0s\n",
      "[CV 3/3] END max_features=sqrt, n_estimators=700;, score=0.813 total time=  29.3s\n",
      "[CV 2/3] END max_features=sqrt, n_estimators=700;, score=0.805 total time=  29.6s\n",
      "[CV 3/3] END max_features=sqrt, n_estimators=1000;, score=0.812 total time=  40.3s\n",
      "[CV 1/3] END max_features=sqrt, n_estimators=1000;, score=0.810 total time=  41.8s\n",
      "[CV 2/3] END max_features=sqrt, n_estimators=1000;, score=0.807 total time=  45.0s\n",
      "[CV 1/3] END max_features=log2, n_estimators=700;, score=0.808 total time=  28.6s\n",
      "[CV 2/3] END max_features=log2, n_estimators=700;, score=0.805 total time=  28.8s\n",
      "[CV 3/3] END max_features=log2, n_estimators=700;, score=0.813 total time=  28.7s\n",
      "[CV 2/3] END max_features=log2, n_estimators=1000;, score=0.807 total time=  39.8s\n",
      "[CV 1/3] END max_features=log2, n_estimators=1000;, score=0.810 total time=  43.6s\n",
      "[CV 3/3] END max_features=log2, n_estimators=1000;, score=0.812 total time=  43.9s\n",
      "[CV 2/3] END .max_features=10, n_estimators=500;, score=0.808 total time=  48.6s\n",
      "[CV 1/3] END .max_features=10, n_estimators=500;, score=0.811 total time=  51.1s\n",
      "[CV 3/3] END .max_features=10, n_estimators=500;, score=0.815 total time=  51.9s\n",
      "[CV 1/3] END .max_features=10, n_estimators=700;, score=0.808 total time= 1.2min\n",
      "[CV 3/3] END .max_features=10, n_estimators=700;, score=0.813 total time= 1.2min\n",
      "[CV 2/3] END .max_features=10, n_estimators=700;, score=0.809 total time= 1.3min\n",
      "[CV 1/3] END max_features=None, n_estimators=500;, score=0.809 total time= 1.2min\n",
      "[CV 2/3] END max_features=None, n_estimators=500;, score=0.806 total time= 1.2min\n",
      "[CV 3/3] END max_features=None, n_estimators=500;, score=0.814 total time= 1.2min\n",
      "[CV 1/3] END max_features=10, n_estimators=1000;, score=0.810 total time= 1.7min\n",
      "[CV 3/3] END max_features=10, n_estimators=1000;, score=0.814 total time= 1.7min\n",
      "[CV 2/3] END max_features=10, n_estimators=1000;, score=0.808 total time= 1.8min\n",
      "[CV 1/3] END max_features=None, n_estimators=700;, score=0.809 total time= 1.5min\n",
      "[CV 2/3] END max_features=None, n_estimators=700;, score=0.806 total time= 1.5min\n",
      "[CV 3/3] END max_features=None, n_estimators=700;, score=0.815 total time= 1.5min\n",
      "[CV 1/3] END max_features=None, n_estimators=1000;, score=0.809 total time= 1.2min\n",
      "[CV 3/3] END max_features=None, n_estimators=1000;, score=0.815 total time= 1.1min\n",
      "[CV 2/3] END max_features=None, n_estimators=1000;, score=0.807 total time= 1.2min\n",
      "===> 2024-10-28 11:15:57.003445 | FINALIZADO FOLD 1 | TEMPO TOTAL 0:03:15.967087\n",
      "\n",
      "====> 2024-10-28 11:15:57.004072 | EXECUTANDO FOLD 2 \n",
      "Fitting 3 folds for each of 12 candidates, totalling 36 fits\n",
      "[CV 2/3] END max_features=log2, n_estimators=500;, score=0.810 total time=  19.2s\n",
      "[CV 1/3] END max_features=log2, n_estimators=500;, score=0.804 total time=  19.7s\n",
      "[CV 1/3] END max_features=sqrt, n_estimators=500;, score=0.804 total time=  19.9s\n",
      "[CV 2/3] END max_features=sqrt, n_estimators=500;, score=0.810 total time=  20.5s\n",
      "[CV 3/3] END max_features=log2, n_estimators=500;, score=0.810 total time=  20.5s\n",
      "[CV 3/3] END max_features=sqrt, n_estimators=500;, score=0.810 total time=  20.6s\n",
      "[CV 1/3] END max_features=sqrt, n_estimators=700;, score=0.801 total time=  24.4s\n",
      "[CV 2/3] END max_features=sqrt, n_estimators=700;, score=0.809 total time=  25.0s\n",
      "[CV 3/3] END max_features=sqrt, n_estimators=700;, score=0.809 total time=  26.6s\n",
      "[CV 2/3] END max_features=sqrt, n_estimators=1000;, score=0.810 total time=  38.5s\n",
      "[CV 3/3] END max_features=sqrt, n_estimators=1000;, score=0.809 total time=  39.2s\n",
      "[CV 1/3] END max_features=sqrt, n_estimators=1000;, score=0.802 total time=  40.6s\n",
      "[CV 1/3] END max_features=log2, n_estimators=700;, score=0.801 total time=  29.6s\n",
      "[CV 3/3] END max_features=log2, n_estimators=700;, score=0.809 total time=  29.8s\n",
      "[CV 2/3] END max_features=log2, n_estimators=700;, score=0.809 total time=  30.3s\n",
      "[CV 1/3] END max_features=log2, n_estimators=1000;, score=0.802 total time=  42.9s\n",
      "[CV 2/3] END max_features=log2, n_estimators=1000;, score=0.810 total time=  43.1s\n",
      "[CV 3/3] END max_features=log2, n_estimators=1000;, score=0.809 total time=  44.9s\n",
      "[CV 2/3] END .max_features=10, n_estimators=500;, score=0.810 total time=  51.7s\n",
      "[CV 1/3] END .max_features=10, n_estimators=500;, score=0.802 total time=  52.9s\n",
      "[CV 3/3] END .max_features=10, n_estimators=500;, score=0.806 total time=  52.2s\n",
      "[CV 3/3] END .max_features=10, n_estimators=700;, score=0.807 total time= 1.2min\n",
      "[CV 2/3] END .max_features=10, n_estimators=700;, score=0.812 total time= 1.2min\n",
      "[CV 1/3] END .max_features=10, n_estimators=700;, score=0.801 total time= 1.3min\n",
      "[CV 2/3] END max_features=None, n_estimators=500;, score=0.808 total time= 1.2min\n",
      "[CV 3/3] END max_features=None, n_estimators=500;, score=0.806 total time= 1.2min\n",
      "[CV 1/3] END max_features=None, n_estimators=500;, score=0.797 total time= 1.2min\n",
      "[CV 1/3] END max_features=10, n_estimators=1000;, score=0.803 total time= 1.7min\n",
      "[CV 2/3] END max_features=10, n_estimators=1000;, score=0.812 total time= 1.7min\n",
      "[CV 3/3] END max_features=10, n_estimators=1000;, score=0.806 total time= 1.8min\n",
      "[CV 2/3] END max_features=None, n_estimators=700;, score=0.808 total time= 1.5min\n",
      "[CV 3/3] END max_features=None, n_estimators=700;, score=0.805 total time= 1.4min\n",
      "[CV 1/3] END max_features=None, n_estimators=700;, score=0.798 total time= 1.5min\n",
      "[CV 1/3] END max_features=None, n_estimators=1000;, score=0.799 total time= 1.2min\n",
      "[CV 2/3] END max_features=None, n_estimators=1000;, score=0.809 total time= 1.2min\n",
      "[CV 3/3] END max_features=None, n_estimators=1000;, score=0.806 total time= 1.2min\n",
      "===> 2024-10-28 11:19:06.395227 | FINALIZADO FOLD 2 | TEMPO TOTAL 0:03:09.391155\n",
      "\n",
      "====> 2024-10-28 11:19:06.395692 | EXECUTANDO FOLD 3 \n",
      "Fitting 3 folds for each of 12 candidates, totalling 36 fits\n",
      "[CV 2/3] END max_features=sqrt, n_estimators=500;, score=0.811 total time=  20.1s\n",
      "[CV 3/3] END max_features=sqrt, n_estimators=500;, score=0.811 total time=  20.3s\n",
      "[CV 1/3] END max_features=sqrt, n_estimators=500;, score=0.806 total time=  20.5s[CV 1/3] END max_features=log2, n_estimators=500;, score=0.806 total time=  20.5s\n",
      "\n",
      "[CV 2/3] END max_features=log2, n_estimators=500;, score=0.811 total time=  20.9s\n",
      "[CV 3/3] END max_features=log2, n_estimators=500;, score=0.811 total time=  21.9s\n",
      "[CV 3/3] END max_features=sqrt, n_estimators=700;, score=0.811 total time=  25.7s\n",
      "[CV 2/3] END max_features=sqrt, n_estimators=700;, score=0.809 total time=  26.2s\n",
      "[CV 1/3] END max_features=sqrt, n_estimators=700;, score=0.805 total time=  26.3s\n",
      "[CV 3/3] END max_features=sqrt, n_estimators=1000;, score=0.812 total time=  41.5s\n",
      "[CV 2/3] END max_features=sqrt, n_estimators=1000;, score=0.810 total time=  42.9s\n",
      "[CV 1/3] END max_features=sqrt, n_estimators=1000;, score=0.807 total time=  43.1s\n",
      "[CV 2/3] END max_features=log2, n_estimators=700;, score=0.809 total time=  28.7s\n",
      "[CV 1/3] END max_features=log2, n_estimators=700;, score=0.805 total time=  30.2s\n",
      "[CV 3/3] END max_features=log2, n_estimators=700;, score=0.811 total time=  31.2s\n",
      "[CV 1/3] END max_features=log2, n_estimators=1000;, score=0.807 total time=  43.1s\n",
      "[CV 2/3] END max_features=log2, n_estimators=1000;, score=0.810 total time=  43.2s\n",
      "[CV 3/3] END max_features=log2, n_estimators=1000;, score=0.812 total time=  45.3s\n",
      "[CV 3/3] END .max_features=10, n_estimators=500;, score=0.807 total time=  50.2s\n",
      "[CV 2/3] END .max_features=10, n_estimators=500;, score=0.812 total time=  51.0s\n",
      "[CV 1/3] END .max_features=10, n_estimators=500;, score=0.805 total time=  53.3s\n",
      "[CV 1/3] END .max_features=10, n_estimators=700;, score=0.807 total time= 1.2min\n",
      "[CV 3/3] END .max_features=10, n_estimators=700;, score=0.807 total time= 1.3min\n",
      "[CV 2/3] END .max_features=10, n_estimators=700;, score=0.811 total time= 1.3min\n",
      "[CV 1/3] END max_features=None, n_estimators=500;, score=0.800 total time= 1.2min\n",
      "[CV 2/3] END max_features=None, n_estimators=500;, score=0.810 total time= 1.3min\n",
      "[CV 3/3] END max_features=None, n_estimators=500;, score=0.807 total time= 1.3min\n",
      "[CV 1/3] END max_features=10, n_estimators=1000;, score=0.807 total time= 1.8min\n",
      "[CV 2/3] END max_features=10, n_estimators=1000;, score=0.810 total time= 1.8min\n",
      "[CV 3/3] END max_features=10, n_estimators=1000;, score=0.808 total time= 1.8min\n",
      "[CV 3/3] END max_features=None, n_estimators=700;, score=0.809 total time= 1.5min\n",
      "[CV 1/3] END max_features=None, n_estimators=700;, score=0.803 total time= 1.5min\n",
      "[CV 2/3] END max_features=None, n_estimators=700;, score=0.810 total time= 1.5min\n",
      "[CV 2/3] END max_features=None, n_estimators=1000;, score=0.810 total time= 1.2min\n",
      "[CV 1/3] END max_features=None, n_estimators=1000;, score=0.804 total time= 1.3min\n",
      "[CV 3/3] END max_features=None, n_estimators=1000;, score=0.810 total time= 1.2min\n",
      "===> 2024-10-28 11:22:25.916328 | FINALIZADO FOLD 3 | TEMPO TOTAL 0:03:19.520636\n",
      "\n",
      "====> 2024-10-28 11:22:25.916827 | EXECUTANDO FOLD 4 \n",
      "Fitting 3 folds for each of 12 candidates, totalling 36 fits\n",
      "[CV 1/3] END max_features=sqrt, n_estimators=500;, score=0.809 total time=  18.5s\n",
      "[CV 2/3] END max_features=sqrt, n_estimators=500;, score=0.812 total time=  19.2s\n",
      "[CV 1/3] END max_features=log2, n_estimators=500;, score=0.809 total time=  19.5s\n",
      "[CV 3/3] END max_features=log2, n_estimators=500;, score=0.812 total time=  19.9s\n",
      "[CV 2/3] END max_features=log2, n_estimators=500;, score=0.812 total time=  20.7s\n",
      "[CV 3/3] END max_features=sqrt, n_estimators=500;, score=0.812 total time=  20.8s\n",
      "[CV 1/3] END max_features=sqrt, n_estimators=700;, score=0.808 total time=  24.7s\n",
      "[CV 3/3] END max_features=sqrt, n_estimators=700;, score=0.813 total time=  25.1s\n",
      "[CV 2/3] END max_features=sqrt, n_estimators=700;, score=0.811 total time=  25.7s\n",
      "[CV 1/3] END max_features=sqrt, n_estimators=1000;, score=0.809 total time=  35.3s\n",
      "[CV 2/3] END max_features=sqrt, n_estimators=1000;, score=0.811 total time=  37.1s\n",
      "[CV 3/3] END max_features=sqrt, n_estimators=1000;, score=0.813 total time=  43.2s\n",
      "[CV 2/3] END max_features=log2, n_estimators=700;, score=0.811 total time=  29.3s\n",
      "[CV 1/3] END max_features=log2, n_estimators=700;, score=0.808 total time=  30.3s\n",
      "[CV 3/3] END max_features=log2, n_estimators=700;, score=0.813 total time=  30.3s\n",
      "[CV 3/3] END max_features=log2, n_estimators=1000;, score=0.813 total time=  42.1s\n",
      "[CV 1/3] END max_features=log2, n_estimators=1000;, score=0.809 total time=  46.2s\n",
      "[CV 2/3] END max_features=log2, n_estimators=1000;, score=0.811 total time=  46.5s\n",
      "[CV 1/3] END .max_features=10, n_estimators=500;, score=0.806 total time=  47.2s\n",
      "[CV 2/3] END .max_features=10, n_estimators=500;, score=0.809 total time=  52.2s\n",
      "[CV 3/3] END .max_features=10, n_estimators=500;, score=0.810 total time=  52.7s\n",
      "[CV 1/3] END .max_features=10, n_estimators=700;, score=0.805 total time= 1.2min\n",
      "[CV 3/3] END .max_features=10, n_estimators=700;, score=0.810 total time= 1.2min\n",
      "[CV 2/3] END .max_features=10, n_estimators=700;, score=0.809 total time= 1.3min\n",
      "[CV 1/3] END max_features=None, n_estimators=500;, score=0.804 total time= 1.2min\n",
      "[CV 2/3] END max_features=None, n_estimators=500;, score=0.810 total time= 1.2min\n",
      "[CV 3/3] END max_features=None, n_estimators=500;, score=0.807 total time= 1.3min\n",
      "[CV 1/3] END max_features=10, n_estimators=1000;, score=0.806 total time= 1.7min\n",
      "[CV 2/3] END max_features=10, n_estimators=1000;, score=0.810 total time= 1.7min\n",
      "[CV 3/3] END max_features=10, n_estimators=1000;, score=0.810 total time= 1.7min\n",
      "[CV 1/3] END max_features=None, n_estimators=700;, score=0.805 total time= 1.5min\n",
      "[CV 2/3] END max_features=None, n_estimators=700;, score=0.807 total time= 1.5min\n",
      "[CV 3/3] END max_features=None, n_estimators=700;, score=0.808 total time= 1.5min\n",
      "[CV 1/3] END max_features=None, n_estimators=1000;, score=0.808 total time= 1.4min\n",
      "[CV 3/3] END max_features=None, n_estimators=1000;, score=0.807 total time= 1.2min\n",
      "[CV 2/3] END max_features=None, n_estimators=1000;, score=0.809 total time= 1.3min\n",
      "===> 2024-10-28 11:25:40.806563 | FINALIZADO FOLD 4 | TEMPO TOTAL 0:03:14.889736\n",
      "\n",
      "====> 2024-10-28 11:25:40.807044 | EXECUTANDO FOLD 5 \n",
      "Fitting 3 folds for each of 12 candidates, totalling 36 fits\n",
      "[CV 2/3] END max_features=sqrt, n_estimators=500;, score=0.805 total time=  20.5s\n",
      "[CV 3/3] END max_features=log2, n_estimators=500;, score=0.810 total time=  20.8s\n",
      "[CV 1/3] END max_features=sqrt, n_estimators=500;, score=0.811 total time=  21.1s\n",
      "[CV 1/3] END max_features=log2, n_estimators=500;, score=0.811 total time=  21.2s\n",
      "[CV 3/3] END max_features=sqrt, n_estimators=500;, score=0.810 total time=  21.2s\n",
      "[CV 2/3] END max_features=log2, n_estimators=500;, score=0.805 total time=  21.3s\n",
      "[CV 3/3] END max_features=sqrt, n_estimators=700;, score=0.810 total time=  25.8s\n",
      "[CV 1/3] END max_features=sqrt, n_estimators=700;, score=0.811 total time=  26.0s\n",
      "[CV 2/3] END max_features=sqrt, n_estimators=700;, score=0.806 total time=  26.6s\n",
      "[CV 1/3] END max_features=sqrt, n_estimators=1000;, score=0.811 total time=  37.7s\n",
      "[CV 2/3] END max_features=sqrt, n_estimators=1000;, score=0.805 total time=  38.5s\n",
      "[CV 3/3] END max_features=sqrt, n_estimators=1000;, score=0.810 total time=  38.7s\n",
      "[CV 1/3] END max_features=log2, n_estimators=700;, score=0.811 total time=  24.6s\n",
      "[CV 3/3] END max_features=log2, n_estimators=700;, score=0.810 total time=  25.1s\n",
      "[CV 2/3] END max_features=log2, n_estimators=700;, score=0.806 total time=  28.0s\n",
      "[CV 1/3] END max_features=log2, n_estimators=1000;, score=0.811 total time=  38.9s\n",
      "[CV 3/3] END max_features=log2, n_estimators=1000;, score=0.810 total time=  39.1s\n",
      "[CV 2/3] END max_features=log2, n_estimators=1000;, score=0.805 total time=  39.3s\n",
      "[CV 1/3] END .max_features=10, n_estimators=500;, score=0.807 total time=  45.5s\n",
      "[CV 3/3] END .max_features=10, n_estimators=500;, score=0.807 total time=  45.0s\n",
      "[CV 2/3] END .max_features=10, n_estimators=500;, score=0.804 total time=  45.4s\n",
      "[CV 1/3] END .max_features=10, n_estimators=700;, score=0.808 total time= 1.1min\n",
      "[CV 3/3] END .max_features=10, n_estimators=700;, score=0.807 total time= 1.1min\n",
      "[CV 2/3] END .max_features=10, n_estimators=700;, score=0.805 total time= 1.2min\n",
      "[CV 1/3] END max_features=None, n_estimators=500;, score=0.804 total time= 1.1min\n",
      "[CV 2/3] END max_features=None, n_estimators=500;, score=0.802 total time= 1.1min\n",
      "[CV 3/3] END max_features=None, n_estimators=500;, score=0.805 total time= 1.1min\n",
      "[CV 1/3] END max_features=10, n_estimators=1000;, score=0.808 total time= 1.6min\n",
      "[CV 2/3] END max_features=10, n_estimators=1000;, score=0.804 total time= 1.6min\n",
      "[CV 3/3] END max_features=10, n_estimators=1000;, score=0.807 total time= 1.6min\n",
      "[CV 1/3] END max_features=None, n_estimators=700;, score=0.805 total time= 1.3min\n",
      "[CV 3/3] END max_features=None, n_estimators=700;, score=0.805 total time= 1.3min\n",
      "[CV 2/3] END max_features=None, n_estimators=700;, score=0.804 total time= 1.4min\n",
      "[CV 1/3] END max_features=None, n_estimators=1000;, score=0.805 total time= 1.1min\n",
      "[CV 3/3] END max_features=None, n_estimators=1000;, score=0.806 total time= 1.1min\n",
      "[CV 2/3] END max_features=None, n_estimators=1000;, score=0.803 total time= 1.1min\n",
      "===> 2024-10-28 11:28:36.826047 | FINALIZADO FOLD 5 | TEMPO TOTAL 0:02:56.019003\n",
      "\n",
      "====> 2024-10-28 11:28:36.826539 | EXECUTANDO FOLD 6 \n",
      "Fitting 3 folds for each of 12 candidates, totalling 36 fits\n",
      "[CV 3/3] END max_features=sqrt, n_estimators=500;, score=0.810 total time=  19.7s\n",
      "[CV 3/3] END max_features=log2, n_estimators=500;, score=0.810 total time=  20.5s\n",
      "[CV 2/3] END max_features=log2, n_estimators=500;, score=0.812 total time=  20.5s\n",
      "[CV 1/3] END max_features=sqrt, n_estimators=500;, score=0.810 total time=  20.6s\n",
      "[CV 2/3] END max_features=sqrt, n_estimators=500;, score=0.812 total time=  20.7s\n",
      "[CV 1/3] END max_features=log2, n_estimators=500;, score=0.810 total time=  20.7s\n",
      "[CV 1/3] END max_features=sqrt, n_estimators=700;, score=0.810 total time=  25.6s\n",
      "[CV 2/3] END max_features=sqrt, n_estimators=700;, score=0.814 total time=  25.8s\n",
      "[CV 3/3] END max_features=sqrt, n_estimators=700;, score=0.810 total time=  26.2s\n",
      "[CV 2/3] END max_features=sqrt, n_estimators=1000;, score=0.813 total time=  33.9s\n",
      "[CV 3/3] END max_features=sqrt, n_estimators=1000;, score=0.811 total time=  35.8s\n",
      "[CV 1/3] END max_features=sqrt, n_estimators=1000;, score=0.810 total time=  37.0s\n",
      "[CV 2/3] END max_features=log2, n_estimators=700;, score=0.814 total time=  27.0s\n",
      "[CV 1/3] END max_features=log2, n_estimators=700;, score=0.810 total time=  28.3s\n",
      "[CV 3/3] END max_features=log2, n_estimators=700;, score=0.810 total time=  27.5s\n",
      "[CV 2/3] END max_features=log2, n_estimators=1000;, score=0.813 total time=  37.5s\n",
      "[CV 1/3] END max_features=log2, n_estimators=1000;, score=0.810 total time=  38.5s\n",
      "[CV 3/3] END max_features=log2, n_estimators=1000;, score=0.811 total time=  39.1s\n",
      "[CV 2/3] END .max_features=10, n_estimators=500;, score=0.810 total time=  46.0s\n",
      "[CV 1/3] END .max_features=10, n_estimators=500;, score=0.809 total time=  46.8s\n",
      "[CV 3/3] END .max_features=10, n_estimators=500;, score=0.806 total time=  48.1s\n",
      "[CV 1/3] END .max_features=10, n_estimators=700;, score=0.808 total time= 1.2min\n",
      "[CV 2/3] END .max_features=10, n_estimators=700;, score=0.811 total time= 1.2min[CV 3/3] END .max_features=10, n_estimators=700;, score=0.805 total time= 1.1min\n",
      "\n",
      "[CV 1/3] END max_features=None, n_estimators=500;, score=0.805 total time= 1.1min\n",
      "[CV 2/3] END max_features=None, n_estimators=500;, score=0.805 total time= 1.1min\n",
      "[CV 3/3] END max_features=None, n_estimators=500;, score=0.805 total time= 1.1min\n",
      "[CV 1/3] END max_features=10, n_estimators=1000;, score=0.809 total time= 1.6min\n",
      "[CV 3/3] END max_features=10, n_estimators=1000;, score=0.807 total time= 1.6min\n",
      "[CV 2/3] END max_features=10, n_estimators=1000;, score=0.810 total time= 1.6min\n",
      "[CV 1/3] END max_features=None, n_estimators=700;, score=0.807 total time= 1.4min\n",
      "[CV 2/3] END max_features=None, n_estimators=700;, score=0.807 total time= 1.4min\n",
      "[CV 3/3] END max_features=None, n_estimators=700;, score=0.807 total time= 1.3min\n",
      "[CV 1/3] END max_features=None, n_estimators=1000;, score=0.808 total time= 1.2min\n",
      "[CV 3/3] END max_features=None, n_estimators=1000;, score=0.807 total time= 1.1min\n",
      "[CV 2/3] END max_features=None, n_estimators=1000;, score=0.807 total time= 1.1min\n",
      "===> 2024-10-28 11:31:37.445331 | FINALIZADO FOLD 6 | TEMPO TOTAL 0:03:00.618792\n",
      "\n",
      "====> 2024-10-28 11:31:37.445793 | EXECUTANDO FOLD 7 \n",
      "Fitting 3 folds for each of 12 candidates, totalling 36 fits\n",
      "[CV 1/3] END max_features=log2, n_estimators=500;, score=0.808 total time=  18.0s\n",
      "[CV 3/3] END max_features=sqrt, n_estimators=500;, score=0.809 total time=  18.4s\n",
      "[CV 1/3] END max_features=sqrt, n_estimators=500;, score=0.808 total time=  18.5s\n",
      "[CV 3/3] END max_features=log2, n_estimators=500;, score=0.809 total time=  18.5s\n",
      "[CV 2/3] END max_features=log2, n_estimators=500;, score=0.808 total time=  18.6s\n",
      "[CV 2/3] END max_features=sqrt, n_estimators=500;, score=0.808 total time=  18.9s\n",
      "[CV 1/3] END max_features=sqrt, n_estimators=700;, score=0.808 total time=  22.5s\n",
      "[CV 2/3] END max_features=sqrt, n_estimators=700;, score=0.809 total time=  22.9s\n",
      "[CV 3/3] END max_features=sqrt, n_estimators=700;, score=0.809 total time=  24.4s\n",
      "[CV 3/3] END max_features=sqrt, n_estimators=1000;, score=0.810 total time=  35.8s\n",
      "[CV 1/3] END max_features=sqrt, n_estimators=1000;, score=0.809 total time=  35.9s\n",
      "[CV 2/3] END max_features=sqrt, n_estimators=1000;, score=0.808 total time=  37.4s\n",
      "[CV 2/3] END max_features=log2, n_estimators=700;, score=0.809 total time=  26.9s\n",
      "[CV 3/3] END max_features=log2, n_estimators=700;, score=0.809 total time=  27.6s\n",
      "[CV 1/3] END max_features=log2, n_estimators=700;, score=0.808 total time=  29.7s\n",
      "[CV 2/3] END max_features=log2, n_estimators=1000;, score=0.808 total time=  40.6s\n",
      "[CV 1/3] END max_features=log2, n_estimators=1000;, score=0.809 total time=  41.4s\n",
      "[CV 3/3] END max_features=log2, n_estimators=1000;, score=0.810 total time=  42.9s\n",
      "[CV 1/3] END .max_features=10, n_estimators=500;, score=0.807 total time=  45.1s\n",
      "[CV 2/3] END .max_features=10, n_estimators=500;, score=0.806 total time=  48.6s\n",
      "[CV 3/3] END .max_features=10, n_estimators=500;, score=0.812 total time=  48.1s\n",
      "[CV 3/3] END .max_features=10, n_estimators=700;, score=0.812 total time= 1.1min\n",
      "[CV 1/3] END .max_features=10, n_estimators=700;, score=0.809 total time= 1.1min\n",
      "[CV 2/3] END .max_features=10, n_estimators=700;, score=0.806 total time= 1.2min\n",
      "[CV 1/3] END max_features=None, n_estimators=500;, score=0.806 total time= 1.1min\n",
      "[CV 2/3] END max_features=None, n_estimators=500;, score=0.804 total time= 1.1min\n",
      "[CV 3/3] END max_features=None, n_estimators=500;, score=0.810 total time= 1.0min\n",
      "[CV 2/3] END max_features=10, n_estimators=1000;, score=0.806 total time= 1.6min\n",
      "[CV 1/3] END max_features=10, n_estimators=1000;, score=0.809 total time= 1.6min\n",
      "[CV 3/3] END max_features=10, n_estimators=1000;, score=0.812 total time= 1.7min\n",
      "[CV 1/3] END max_features=None, n_estimators=700;, score=0.807 total time= 1.3min\n",
      "[CV 3/3] END max_features=None, n_estimators=700;, score=0.811 total time= 1.3min\n",
      "[CV 2/3] END max_features=None, n_estimators=700;, score=0.805 total time= 1.2min\n",
      "[CV 3/3] END max_features=None, n_estimators=1000;, score=0.811 total time= 1.1min\n",
      "[CV 2/3] END max_features=None, n_estimators=1000;, score=0.805 total time= 1.2min\n",
      "[CV 1/3] END max_features=None, n_estimators=1000;, score=0.807 total time= 1.2min\n",
      "===> 2024-10-28 11:34:45.144977 | FINALIZADO FOLD 7 | TEMPO TOTAL 0:03:07.699184\n",
      "\n",
      "====> 2024-10-28 11:34:45.145406 | EXECUTANDO FOLD 8 \n",
      "Fitting 3 folds for each of 12 candidates, totalling 36 fits\n",
      "[CV 2/3] END max_features=sqrt, n_estimators=500;, score=0.810 total time=  17.8s\n",
      "[CV 3/3] END max_features=log2, n_estimators=500;, score=0.813 total time=  17.8s\n",
      "[CV 2/3] END max_features=log2, n_estimators=500;, score=0.810 total time=  18.3s\n",
      "[CV 3/3] END max_features=sqrt, n_estimators=500;, score=0.813 total time=  18.5s\n",
      "[CV 1/3] END max_features=log2, n_estimators=500;, score=0.810 total time=  19.2s\n",
      "[CV 1/3] END max_features=sqrt, n_estimators=500;, score=0.810 total time=  19.9s\n",
      "[CV 3/3] END max_features=sqrt, n_estimators=700;, score=0.813 total time=  23.1s\n",
      "[CV 1/3] END max_features=sqrt, n_estimators=700;, score=0.813 total time=  23.8s\n",
      "[CV 2/3] END max_features=sqrt, n_estimators=700;, score=0.810 total time=  24.8s\n",
      "[CV 2/3] END max_features=sqrt, n_estimators=1000;, score=0.809 total time=  36.7s\n",
      "[CV 1/3] END max_features=sqrt, n_estimators=1000;, score=0.812 total time=  37.0s\n",
      "[CV 3/3] END max_features=sqrt, n_estimators=1000;, score=0.813 total time=  39.2s\n",
      "[CV 1/3] END max_features=log2, n_estimators=700;, score=0.813 total time=  28.9s\n",
      "[CV 2/3] END max_features=log2, n_estimators=700;, score=0.810 total time=  29.6s\n",
      "[CV 3/3] END max_features=log2, n_estimators=700;, score=0.813 total time=  29.4s\n",
      "[CV 3/3] END max_features=log2, n_estimators=1000;, score=0.813 total time=  40.0s\n",
      "[CV 2/3] END max_features=log2, n_estimators=1000;, score=0.809 total time=  42.2s\n",
      "[CV 1/3] END max_features=log2, n_estimators=1000;, score=0.812 total time=  43.0s\n",
      "[CV 2/3] END .max_features=10, n_estimators=500;, score=0.807 total time=  48.3s\n",
      "[CV 1/3] END .max_features=10, n_estimators=500;, score=0.810 total time=  50.2s\n",
      "[CV 3/3] END .max_features=10, n_estimators=500;, score=0.814 total time=  49.9s\n",
      "[CV 1/3] END .max_features=10, n_estimators=700;, score=0.811 total time= 1.2min\n",
      "[CV 2/3] END .max_features=10, n_estimators=700;, score=0.808 total time= 1.2min\n",
      "[CV 3/3] END .max_features=10, n_estimators=700;, score=0.814 total time= 1.2min\n",
      "[CV 1/3] END max_features=None, n_estimators=500;, score=0.807 total time= 1.1min\n",
      "[CV 2/3] END max_features=None, n_estimators=500;, score=0.802 total time= 1.2min\n",
      "[CV 3/3] END max_features=None, n_estimators=500;, score=0.812 total time= 1.2min\n",
      "[CV 3/3] END max_features=10, n_estimators=1000;, score=0.814 total time= 1.7min\n",
      "[CV 2/3] END max_features=10, n_estimators=1000;, score=0.808 total time= 1.7min\n",
      "[CV 1/3] END max_features=10, n_estimators=1000;, score=0.811 total time= 1.7min\n",
      "[CV 1/3] END max_features=None, n_estimators=700;, score=0.808 total time= 1.4min\n",
      "[CV 3/3] END max_features=None, n_estimators=700;, score=0.812 total time= 1.4min\n",
      "[CV 2/3] END max_features=None, n_estimators=700;, score=0.805 total time= 1.4min\n",
      "[CV 1/3] END max_features=None, n_estimators=1000;, score=0.810 total time= 1.1min\n",
      "[CV 2/3] END max_features=None, n_estimators=1000;, score=0.804 total time= 1.1min\n",
      "[CV 3/3] END max_features=None, n_estimators=1000;, score=0.812 total time= 1.1min\n",
      "===> 2024-10-28 11:37:47.177983 | FINALIZADO FOLD 8 | TEMPO TOTAL 0:03:02.032577\n",
      "\n",
      "====> 2024-10-28 11:37:47.178410 | EXECUTANDO FOLD 9 \n",
      "Fitting 3 folds for each of 12 candidates, totalling 36 fits\n",
      "[CV 2/3] END max_features=log2, n_estimators=500;, score=0.811 total time=  19.4s\n",
      "[CV 2/3] END max_features=sqrt, n_estimators=500;, score=0.811 total time=  19.5s\n",
      "[CV 1/3] END max_features=sqrt, n_estimators=500;, score=0.809 total time=  19.8s\n",
      "[CV 3/3] END max_features=log2, n_estimators=500;, score=0.805 total time=  20.3s\n",
      "[CV 3/3] END max_features=sqrt, n_estimators=500;, score=0.805 total time=  20.6s\n",
      "[CV 1/3] END max_features=log2, n_estimators=500;, score=0.809 total time=  20.9s\n",
      "[CV 1/3] END max_features=sqrt, n_estimators=700;, score=0.810 total time=  24.4s\n",
      "[CV 3/3] END max_features=sqrt, n_estimators=700;, score=0.805 total time=  25.7s\n",
      "[CV 2/3] END max_features=sqrt, n_estimators=700;, score=0.812 total time=  25.9s\n",
      "[CV 2/3] END max_features=sqrt, n_estimators=1000;, score=0.813 total time=  36.5s\n",
      "[CV 3/3] END max_features=sqrt, n_estimators=1000;, score=0.805 total time=  37.0s\n",
      "[CV 1/3] END max_features=sqrt, n_estimators=1000;, score=0.809 total time=  37.5s\n",
      "[CV 2/3] END max_features=log2, n_estimators=700;, score=0.812 total time=  26.2s\n",
      "[CV 1/3] END max_features=log2, n_estimators=700;, score=0.810 total time=  26.5s\n",
      "[CV 3/3] END max_features=log2, n_estimators=700;, score=0.805 total time=  27.5s\n",
      "[CV 1/3] END max_features=log2, n_estimators=1000;, score=0.809 total time=  37.1s\n",
      "[CV 3/3] END max_features=log2, n_estimators=1000;, score=0.805 total time=  38.1s\n",
      "[CV 2/3] END max_features=log2, n_estimators=1000;, score=0.813 total time=  41.1s\n",
      "[CV 3/3] END .max_features=10, n_estimators=500;, score=0.805 total time=  46.1s\n",
      "[CV 1/3] END .max_features=10, n_estimators=500;, score=0.803 total time=  47.9s\n",
      "[CV 2/3] END .max_features=10, n_estimators=500;, score=0.807 total time=  47.6s\n",
      "[CV 1/3] END .max_features=10, n_estimators=700;, score=0.803 total time= 1.1min\n",
      "[CV 3/3] END .max_features=10, n_estimators=700;, score=0.804 total time= 1.1min\n",
      "[CV 2/3] END .max_features=10, n_estimators=700;, score=0.807 total time= 1.2min\n",
      "[CV 1/3] END max_features=None, n_estimators=500;, score=0.804 total time= 1.1min\n",
      "[CV 2/3] END max_features=None, n_estimators=500;, score=0.805 total time= 1.1min\n",
      "[CV 3/3] END max_features=None, n_estimators=500;, score=0.801 total time= 1.2min\n",
      "[CV 2/3] END max_features=10, n_estimators=1000;, score=0.805 total time= 1.5min\n",
      "[CV 1/3] END max_features=10, n_estimators=1000;, score=0.805 total time= 1.6min\n",
      "[CV 3/3] END max_features=10, n_estimators=1000;, score=0.804 total time= 1.7min\n",
      "[CV 2/3] END max_features=None, n_estimators=700;, score=0.806 total time= 1.4min\n",
      "[CV 3/3] END max_features=None, n_estimators=700;, score=0.802 total time= 1.4min\n",
      "[CV 1/3] END max_features=None, n_estimators=700;, score=0.804 total time= 1.4min\n",
      "[CV 1/3] END max_features=None, n_estimators=1000;, score=0.803 total time= 1.1min\n",
      "[CV 2/3] END max_features=None, n_estimators=1000;, score=0.805 total time= 1.1min\n",
      "[CV 3/3] END max_features=None, n_estimators=1000;, score=0.801 total time= 1.1min\n",
      "===> 2024-10-28 11:40:45.473219 | FINALIZADO FOLD 9 | TEMPO TOTAL 0:02:58.294809\n",
      "\n",
      "====> 2024-10-28 11:40:45.473729 | EXECUTANDO FOLD 10 \n",
      "Fitting 3 folds for each of 12 candidates, totalling 36 fits\n",
      "[CV 2/3] END max_features=log2, n_estimators=500;, score=0.806 total time=  18.9s\n",
      "[CV 2/3] END max_features=sqrt, n_estimators=500;, score=0.806 total time=  19.2s\n",
      "[CV 3/3] END max_features=sqrt, n_estimators=500;, score=0.811 total time=  19.2s\n",
      "[CV 1/3] END max_features=log2, n_estimators=500;, score=0.810 total time=  20.3s\n",
      "[CV 1/3] END max_features=sqrt, n_estimators=500;, score=0.810 total time=  20.6s\n",
      "[CV 3/3] END max_features=log2, n_estimators=500;, score=0.811 total time=  21.0s\n",
      "[CV 1/3] END max_features=sqrt, n_estimators=700;, score=0.810 total time=  25.4s\n",
      "[CV 3/3] END max_features=sqrt, n_estimators=700;, score=0.812 total time=  25.6s\n",
      "[CV 2/3] END max_features=sqrt, n_estimators=700;, score=0.807 total time=  25.8s\n",
      "[CV 2/3] END max_features=sqrt, n_estimators=1000;, score=0.807 total time=  34.8s\n",
      "[CV 3/3] END max_features=sqrt, n_estimators=1000;, score=0.812 total time=  36.6s\n",
      "[CV 1/3] END max_features=sqrt, n_estimators=1000;, score=0.809 total time=  37.9s\n",
      "[CV 1/3] END max_features=log2, n_estimators=700;, score=0.810 total time=  24.9s\n",
      "[CV 2/3] END max_features=log2, n_estimators=700;, score=0.807 total time=  27.9s\n",
      "[CV 3/3] END max_features=log2, n_estimators=700;, score=0.812 total time=  28.3s\n",
      "[CV 3/3] END max_features=log2, n_estimators=1000;, score=0.812 total time=  38.8s\n",
      "[CV 1/3] END max_features=log2, n_estimators=1000;, score=0.809 total time=  40.5s\n",
      "[CV 2/3] END max_features=log2, n_estimators=1000;, score=0.807 total time=  40.9s\n",
      "[CV 1/3] END .max_features=10, n_estimators=500;, score=0.807 total time=  48.8s\n",
      "[CV 2/3] END .max_features=10, n_estimators=500;, score=0.805 total time=  48.9s\n",
      "[CV 3/3] END .max_features=10, n_estimators=500;, score=0.811 total time=  49.3s\n",
      "[CV 1/3] END .max_features=10, n_estimators=700;, score=0.808 total time= 1.2min\n",
      "[CV 3/3] END .max_features=10, n_estimators=700;, score=0.810 total time= 1.2min\n",
      "[CV 2/3] END .max_features=10, n_estimators=700;, score=0.804 total time= 1.3min\n",
      "[CV 1/3] END max_features=None, n_estimators=500;, score=0.806 total time= 1.1min\n",
      "[CV 3/3] END max_features=None, n_estimators=500;, score=0.806 total time= 1.1min\n",
      "[CV 2/3] END max_features=None, n_estimators=500;, score=0.805 total time= 1.1min\n",
      "[CV 3/3] END max_features=10, n_estimators=1000;, score=0.811 total time= 1.5min\n",
      "[CV 2/3] END max_features=10, n_estimators=1000;, score=0.806 total time= 1.6min\n",
      "[CV 1/3] END max_features=10, n_estimators=1000;, score=0.808 total time= 1.6min\n",
      "[CV 1/3] END max_features=None, n_estimators=700;, score=0.805 total time= 1.3min\n",
      "[CV 3/3] END max_features=None, n_estimators=700;, score=0.808 total time= 1.3min\n",
      "[CV 2/3] END max_features=None, n_estimators=700;, score=0.804 total time= 1.3min\n",
      "[CV 1/3] END max_features=None, n_estimators=1000;, score=0.805 total time= 1.1min\n",
      "[CV 2/3] END max_features=None, n_estimators=1000;, score=0.804 total time= 1.1min\n",
      "[CV 3/3] END max_features=None, n_estimators=1000;, score=0.808 total time= 1.0min\n",
      "===> 2024-10-28 11:43:45.711525 | FINALIZADO FOLD 10 | TEMPO TOTAL 0:03:00.237796\n",
      "\n",
      "Resultados na validação cruzada: {'f1': 0.80699949626025, 'accuracy': 0.8070307718609293, 'precision': 0.8072306476717488, 'recall': 0.8070318392768673}\n",
      "Resultados na base de teste: {'max_features': 'sqrt', 'n_estimators': 700}\n",
      "Melhores parâmetros escolhidos: {'f1': 0.7573962577898604, 'accuracy': 0.8044487770294222, 'precision': 0.7392668277020359, 'recall': 0.8123818487696266}\n"
     ]
    }
   ],
   "source": [
    "param_grid_categorical = {\n",
    "    \"n_estimators\": [500, 700, 1000],\n",
    "    \"max_features\": [\"sqrt\", \"log2\", 10, None],\n",
    "}\n",
    "\n",
    "filtro_correlacao = [\n",
    "    \"MinTemp\",\n",
    "    \"MaxTemp\",\n",
    "    \"Rainfall\",\n",
    "    \"Evaporation\",\n",
    "    \"Sunshine\",\n",
    "    \"WindGustSpeed\",\n",
    "    \"WindSpeed3pm\",\n",
    "    \"Humidity9am\",\n",
    "    \"Humidity3pm\",\n",
    "    \"Pressure3pm\",\n",
    "    \"Cloud9am\",\n",
    "    \"Cloud3pm\",\n",
    "    \"RangeTemp\",\n",
    "    \"Rainfall_Discretized\",\n",
    "]\n",
    "\n",
    "# Executar para diferentes modelos e conjuntos de dados\n",
    "results_validation, best_params, results_test, results_list_corr = (\n",
    "    run_cross_validation(\n",
    "        df_train[filtro_correlacao],\n",
    "        df_train[\"RainTomorrow\"],\n",
    "        df_test[filtro_correlacao],\n",
    "        df_test[\"RainTomorrow\"],\n",
    "        RandomForestClassifier(n_jobs=-1, random_state=42, max_depth=None),\n",
    "        param_grid_categorical,\n",
    "        k_folds=10,\n",
    "    )\n",
    ")\n",
    "\n",
    "print(\"Resultados na validação cruzada:\", results_validation)\n",
    "print(\"Resultados na base de teste:\", results_test)\n",
    "print(\"Melhores parâmetros escolhidos:\", best_params)"
   ]
  },
  {
   "cell_type": "code",
   "execution_count": 41,
   "metadata": {
    "id": "l9Bo_RLtEu1H",
    "outputId": "5fa4f98a-06e3-407c-b465-143aba33dffe"
   },
   "outputs": [
    {
     "data": {
      "text/html": [
       "<div>\n",
       "<style scoped>\n",
       "    .dataframe tbody tr th:only-of-type {\n",
       "        vertical-align: middle;\n",
       "    }\n",
       "\n",
       "    .dataframe tbody tr th {\n",
       "        vertical-align: top;\n",
       "    }\n",
       "\n",
       "    .dataframe thead th {\n",
       "        text-align: right;\n",
       "    }\n",
       "</style>\n",
       "<table border=\"1\" class=\"dataframe\">\n",
       "  <thead>\n",
       "    <tr style=\"text-align: right;\">\n",
       "      <th></th>\n",
       "      <th>f1</th>\n",
       "      <th>accuracy</th>\n",
       "      <th>precision</th>\n",
       "      <th>recall</th>\n",
       "      <th>dataset</th>\n",
       "    </tr>\n",
       "  </thead>\n",
       "  <tbody>\n",
       "    <tr>\n",
       "      <th>0</th>\n",
       "      <td>0.796345</td>\n",
       "      <td>0.796380</td>\n",
       "      <td>0.796597</td>\n",
       "      <td>0.796387</td>\n",
       "      <td>Validação Cruzada</td>\n",
       "    </tr>\n",
       "    <tr>\n",
       "      <th>1</th>\n",
       "      <td>0.822478</td>\n",
       "      <td>0.822524</td>\n",
       "      <td>0.822877</td>\n",
       "      <td>0.822532</td>\n",
       "      <td>Validação Cruzada</td>\n",
       "    </tr>\n",
       "    <tr>\n",
       "      <th>2</th>\n",
       "      <td>0.803395</td>\n",
       "      <td>0.803419</td>\n",
       "      <td>0.803555</td>\n",
       "      <td>0.803413</td>\n",
       "      <td>Validação Cruzada</td>\n",
       "    </tr>\n",
       "    <tr>\n",
       "      <th>3</th>\n",
       "      <td>0.805932</td>\n",
       "      <td>0.805933</td>\n",
       "      <td>0.805937</td>\n",
       "      <td>0.805934</td>\n",
       "      <td>Validação Cruzada</td>\n",
       "    </tr>\n",
       "    <tr>\n",
       "      <th>4</th>\n",
       "      <td>0.819406</td>\n",
       "      <td>0.819416</td>\n",
       "      <td>0.819489</td>\n",
       "      <td>0.819416</td>\n",
       "      <td>Validação Cruzada</td>\n",
       "    </tr>\n",
       "    <tr>\n",
       "      <th>5</th>\n",
       "      <td>0.799281</td>\n",
       "      <td>0.799296</td>\n",
       "      <td>0.799383</td>\n",
       "      <td>0.799296</td>\n",
       "      <td>Validação Cruzada</td>\n",
       "    </tr>\n",
       "    <tr>\n",
       "      <th>6</th>\n",
       "      <td>0.807338</td>\n",
       "      <td>0.807344</td>\n",
       "      <td>0.807382</td>\n",
       "      <td>0.807344</td>\n",
       "      <td>Validação Cruzada</td>\n",
       "    </tr>\n",
       "    <tr>\n",
       "      <th>7</th>\n",
       "      <td>0.796672</td>\n",
       "      <td>0.796781</td>\n",
       "      <td>0.797418</td>\n",
       "      <td>0.796781</td>\n",
       "      <td>Validação Cruzada</td>\n",
       "    </tr>\n",
       "    <tr>\n",
       "      <th>8</th>\n",
       "      <td>0.820885</td>\n",
       "      <td>0.820926</td>\n",
       "      <td>0.821218</td>\n",
       "      <td>0.820926</td>\n",
       "      <td>Validação Cruzada</td>\n",
       "    </tr>\n",
       "    <tr>\n",
       "      <th>9</th>\n",
       "      <td>0.798263</td>\n",
       "      <td>0.798290</td>\n",
       "      <td>0.798450</td>\n",
       "      <td>0.798290</td>\n",
       "      <td>Validação Cruzada</td>\n",
       "    </tr>\n",
       "    <tr>\n",
       "      <th>0</th>\n",
       "      <td>0.756230</td>\n",
       "      <td>0.803882</td>\n",
       "      <td>0.738145</td>\n",
       "      <td>0.810141</td>\n",
       "      <td>Teste</td>\n",
       "    </tr>\n",
       "    <tr>\n",
       "      <th>1</th>\n",
       "      <td>0.758346</td>\n",
       "      <td>0.805565</td>\n",
       "      <td>0.740052</td>\n",
       "      <td>0.812665</td>\n",
       "      <td>Teste</td>\n",
       "    </tr>\n",
       "    <tr>\n",
       "      <th>2</th>\n",
       "      <td>0.757896</td>\n",
       "      <td>0.804768</td>\n",
       "      <td>0.739730</td>\n",
       "      <td>0.813164</td>\n",
       "      <td>Teste</td>\n",
       "    </tr>\n",
       "    <tr>\n",
       "      <th>3</th>\n",
       "      <td>0.756812</td>\n",
       "      <td>0.803704</td>\n",
       "      <td>0.738796</td>\n",
       "      <td>0.812338</td>\n",
       "      <td>Teste</td>\n",
       "    </tr>\n",
       "    <tr>\n",
       "      <th>4</th>\n",
       "      <td>0.756866</td>\n",
       "      <td>0.803616</td>\n",
       "      <td>0.738874</td>\n",
       "      <td>0.812714</td>\n",
       "      <td>Teste</td>\n",
       "    </tr>\n",
       "    <tr>\n",
       "      <th>5</th>\n",
       "      <td>0.757770</td>\n",
       "      <td>0.804591</td>\n",
       "      <td>0.739633</td>\n",
       "      <td>0.813195</td>\n",
       "      <td>Teste</td>\n",
       "    </tr>\n",
       "    <tr>\n",
       "      <th>6</th>\n",
       "      <td>0.757315</td>\n",
       "      <td>0.804413</td>\n",
       "      <td>0.739186</td>\n",
       "      <td>0.812215</td>\n",
       "      <td>Teste</td>\n",
       "    </tr>\n",
       "    <tr>\n",
       "      <th>7</th>\n",
       "      <td>0.756530</td>\n",
       "      <td>0.803704</td>\n",
       "      <td>0.738495</td>\n",
       "      <td>0.811471</td>\n",
       "      <td>Teste</td>\n",
       "    </tr>\n",
       "    <tr>\n",
       "      <th>8</th>\n",
       "      <td>0.758608</td>\n",
       "      <td>0.805211</td>\n",
       "      <td>0.740398</td>\n",
       "      <td>0.814314</td>\n",
       "      <td>Teste</td>\n",
       "    </tr>\n",
       "    <tr>\n",
       "      <th>9</th>\n",
       "      <td>0.757591</td>\n",
       "      <td>0.805034</td>\n",
       "      <td>0.739359</td>\n",
       "      <td>0.811602</td>\n",
       "      <td>Teste</td>\n",
       "    </tr>\n",
       "  </tbody>\n",
       "</table>\n",
       "</div>"
      ],
      "text/plain": [
       "         f1  accuracy  precision    recall            dataset\n",
       "0  0.796345  0.796380   0.796597  0.796387  Validação Cruzada\n",
       "1  0.822478  0.822524   0.822877  0.822532  Validação Cruzada\n",
       "2  0.803395  0.803419   0.803555  0.803413  Validação Cruzada\n",
       "3  0.805932  0.805933   0.805937  0.805934  Validação Cruzada\n",
       "4  0.819406  0.819416   0.819489  0.819416  Validação Cruzada\n",
       "5  0.799281  0.799296   0.799383  0.799296  Validação Cruzada\n",
       "6  0.807338  0.807344   0.807382  0.807344  Validação Cruzada\n",
       "7  0.796672  0.796781   0.797418  0.796781  Validação Cruzada\n",
       "8  0.820885  0.820926   0.821218  0.820926  Validação Cruzada\n",
       "9  0.798263  0.798290   0.798450  0.798290  Validação Cruzada\n",
       "0  0.756230  0.803882   0.738145  0.810141              Teste\n",
       "1  0.758346  0.805565   0.740052  0.812665              Teste\n",
       "2  0.757896  0.804768   0.739730  0.813164              Teste\n",
       "3  0.756812  0.803704   0.738796  0.812338              Teste\n",
       "4  0.756866  0.803616   0.738874  0.812714              Teste\n",
       "5  0.757770  0.804591   0.739633  0.813195              Teste\n",
       "6  0.757315  0.804413   0.739186  0.812215              Teste\n",
       "7  0.756530  0.803704   0.738495  0.811471              Teste\n",
       "8  0.758608  0.805211   0.740398  0.814314              Teste\n",
       "9  0.757591  0.805034   0.739359  0.811602              Teste"
      ]
     },
     "execution_count": 41,
     "metadata": {},
     "output_type": "execute_result"
    }
   ],
   "source": [
    "results_list_corr"
   ]
  },
  {
   "cell_type": "code",
   "execution_count": null,
   "metadata": {
    "id": "YhsuzDJhEu1H"
   },
   "outputs": [],
   "source": []
  },
  {
   "cell_type": "markdown",
   "metadata": {
    "id": "oNS1WSMpEu1H"
   },
   "source": [
    "### RAIN FOREST - FEATURE IMPORTANCE"
   ]
  },
  {
   "cell_type": "code",
   "execution_count": 43,
   "metadata": {
    "id": "KUZ_q7I2Eu1I",
    "outputId": "c6286a8a-278e-4ece-8147-81e41b66c542"
   },
   "outputs": [
    {
     "name": "stdout",
     "output_type": "stream",
     "text": [
      "====> INICIANDO PROCESSAMENTO: 2024-10-28 11:46:31.672135 <====\n",
      "====> 2024-10-28 11:46:31.674359 | EXECUTANDO FOLD 1 \n",
      "Fitting 3 folds for each of 12 candidates, totalling 36 fits\n",
      "[CV 2/3] END max_features=sqrt, n_estimators=500;, score=0.807 total time=  18.1s\n",
      "[CV 3/3] END max_features=sqrt, n_estimators=500;, score=0.807 total time=  18.1s\n",
      "[CV 2/3] END max_features=log2, n_estimators=500;, score=0.807 total time=  18.1s\n",
      "[CV 1/3] END max_features=log2, n_estimators=500;, score=0.806 total time=  18.6s\n",
      "[CV 3/3] END max_features=log2, n_estimators=500;, score=0.807 total time=  19.0s\n",
      "[CV 1/3] END max_features=sqrt, n_estimators=500;, score=0.806 total time=  19.4s\n",
      "[CV 3/3] END max_features=sqrt, n_estimators=700;, score=0.809 total time=  22.6s\n",
      "[CV 1/3] END max_features=sqrt, n_estimators=700;, score=0.807 total time=  23.1s\n",
      "[CV 2/3] END max_features=sqrt, n_estimators=700;, score=0.807 total time=  24.1s\n",
      "[CV 3/3] END max_features=sqrt, n_estimators=1000;, score=0.809 total time=  35.3s\n",
      "[CV 2/3] END max_features=sqrt, n_estimators=1000;, score=0.806 total time=  35.4s\n",
      "[CV 1/3] END max_features=sqrt, n_estimators=1000;, score=0.806 total time=  38.9s\n",
      "[CV 3/3] END max_features=log2, n_estimators=700;, score=0.809 total time=  25.8s\n",
      "[CV 1/3] END max_features=log2, n_estimators=700;, score=0.807 total time=  26.0s\n",
      "[CV 2/3] END max_features=log2, n_estimators=700;, score=0.807 total time=  28.7s\n",
      "[CV 2/3] END max_features=log2, n_estimators=1000;, score=0.806 total time=  40.1s\n",
      "[CV 1/3] END max_features=log2, n_estimators=1000;, score=0.806 total time=  42.5s\n",
      "[CV 3/3] END max_features=log2, n_estimators=1000;, score=0.809 total time=  43.5s\n",
      "[CV 1/3] END .max_features=10, n_estimators=500;, score=0.806 total time=  47.5s\n",
      "[CV 3/3] END .max_features=10, n_estimators=500;, score=0.806 total time=  46.4s\n",
      "[CV 2/3] END .max_features=10, n_estimators=500;, score=0.804 total time=  48.0s\n",
      "[CV 1/3] END .max_features=10, n_estimators=700;, score=0.806 total time= 1.1min\n",
      "[CV 2/3] END .max_features=10, n_estimators=700;, score=0.804 total time= 1.2min\n",
      "[CV 3/3] END .max_features=10, n_estimators=700;, score=0.808 total time= 1.1min\n",
      "[CV 1/3] END max_features=None, n_estimators=500;, score=0.806 total time=  50.9s\n",
      "[CV 2/3] END max_features=None, n_estimators=500;, score=0.804 total time=  49.5s\n",
      "[CV 3/3] END max_features=None, n_estimators=500;, score=0.806 total time=  49.6s\n",
      "[CV 1/3] END max_features=None, n_estimators=700;, score=0.806 total time= 1.1min\n",
      "[CV 3/3] END max_features=None, n_estimators=700;, score=0.808 total time= 1.1min\n",
      "[CV 1/3] END max_features=10, n_estimators=1000;, score=0.804 total time= 1.5min\n",
      "[CV 2/3] END max_features=10, n_estimators=1000;, score=0.805 total time= 1.5min\n",
      "[CV 2/3] END max_features=None, n_estimators=700;, score=0.804 total time= 1.1min\n",
      "[CV 3/3] END max_features=10, n_estimators=1000;, score=0.809 total time= 1.5min\n",
      "[CV 2/3] END max_features=None, n_estimators=1000;, score=0.805 total time=  47.6s\n",
      "[CV 1/3] END max_features=None, n_estimators=1000;, score=0.804 total time=  48.0s\n",
      "[CV 3/3] END max_features=None, n_estimators=1000;, score=0.809 total time=  45.4s\n",
      "===> 2024-10-28 11:49:09.226913 | FINALIZADO FOLD 1 | TEMPO TOTAL 0:02:37.552554\n",
      "\n",
      "====> 2024-10-28 11:49:09.227330 | EXECUTANDO FOLD 2 \n",
      "Fitting 3 folds for each of 12 candidates, totalling 36 fits\n",
      "[CV 1/3] END max_features=log2, n_estimators=500;, score=0.798 total time=  18.6s\n",
      "[CV 2/3] END max_features=log2, n_estimators=500;, score=0.808 total time=  19.2s\n",
      "[CV 3/3] END max_features=sqrt, n_estimators=500;, score=0.805 total time=  19.6s\n",
      "[CV 3/3] END max_features=log2, n_estimators=500;, score=0.805 total time=  20.3s\n",
      "[CV 1/3] END max_features=sqrt, n_estimators=500;, score=0.798 total time=  20.5s\n",
      "[CV 2/3] END max_features=sqrt, n_estimators=500;, score=0.808 total time=  20.7s\n",
      "[CV 2/3] END max_features=sqrt, n_estimators=700;, score=0.808 total time=  24.1s\n",
      "[CV 3/3] END max_features=sqrt, n_estimators=700;, score=0.802 total time=  24.2s\n",
      "[CV 1/3] END max_features=sqrt, n_estimators=700;, score=0.797 total time=  25.5s\n",
      "[CV 3/3] END max_features=sqrt, n_estimators=1000;, score=0.802 total time=  36.1s\n",
      "[CV 2/3] END max_features=sqrt, n_estimators=1000;, score=0.808 total time=  36.6s\n",
      "[CV 1/3] END max_features=sqrt, n_estimators=1000;, score=0.799 total time=  39.5s\n",
      "[CV 1/3] END max_features=log2, n_estimators=700;, score=0.797 total time=  26.8s\n",
      "[CV 2/3] END max_features=log2, n_estimators=700;, score=0.808 total time=  26.3s\n",
      "[CV 3/3] END max_features=log2, n_estimators=700;, score=0.802 total time=  26.9s\n",
      "[CV 1/3] END max_features=log2, n_estimators=1000;, score=0.799 total time=  38.7s\n",
      "[CV 3/3] END max_features=log2, n_estimators=1000;, score=0.802 total time=  39.3s\n",
      "[CV 2/3] END max_features=log2, n_estimators=1000;, score=0.808 total time=  41.9s\n",
      "[CV 2/3] END .max_features=10, n_estimators=500;, score=0.806 total time=  44.8s\n",
      "[CV 1/3] END .max_features=10, n_estimators=500;, score=0.796 total time=  46.8s\n",
      "[CV 3/3] END .max_features=10, n_estimators=500;, score=0.801 total time=  47.3s\n",
      "[CV 1/3] END .max_features=10, n_estimators=700;, score=0.795 total time= 1.1min\n",
      "[CV 2/3] END .max_features=10, n_estimators=700;, score=0.805 total time= 1.1min\n",
      "[CV 3/3] END .max_features=10, n_estimators=700;, score=0.801 total time= 1.2min\n",
      "[CV 1/3] END max_features=None, n_estimators=500;, score=0.796 total time=  52.6s\n",
      "[CV 3/3] END max_features=None, n_estimators=500;, score=0.801 total time=  50.3s\n",
      "[CV 2/3] END max_features=None, n_estimators=500;, score=0.806 total time=  54.5s\n",
      "[CV 1/3] END max_features=None, n_estimators=700;, score=0.795 total time= 1.1min\n",
      "[CV 3/3] END max_features=None, n_estimators=700;, score=0.801 total time= 1.0min\n",
      "[CV 2/3] END max_features=10, n_estimators=1000;, score=0.806 total time= 1.5min\n",
      "[CV 2/3] END max_features=None, n_estimators=700;, score=0.805 total time= 1.1min\n",
      "[CV 1/3] END max_features=10, n_estimators=1000;, score=0.796 total time= 1.5min\n",
      "[CV 3/3] END max_features=10, n_estimators=1000;, score=0.800 total time= 1.5min\n",
      "[CV 1/3] END max_features=None, n_estimators=1000;, score=0.796 total time=  51.4s\n",
      "[CV 2/3] END max_features=None, n_estimators=1000;, score=0.806 total time=  51.0s\n",
      "[CV 3/3] END max_features=None, n_estimators=1000;, score=0.800 total time=  45.9s\n",
      "===> 2024-10-28 11:51:50.245937 | FINALIZADO FOLD 2 | TEMPO TOTAL 0:02:41.018607\n",
      "\n",
      "====> 2024-10-28 11:51:50.246286 | EXECUTANDO FOLD 3 \n",
      "Fitting 3 folds for each of 12 candidates, totalling 36 fits\n",
      "[CV 3/3] END max_features=sqrt, n_estimators=500;, score=0.808 total time=  18.4s\n",
      "[CV 2/3] END max_features=sqrt, n_estimators=500;, score=0.809 total time=  18.6s\n",
      "[CV 1/3] END max_features=log2, n_estimators=500;, score=0.805 total time=  19.0s\n",
      "[CV 1/3] END max_features=sqrt, n_estimators=500;, score=0.805 total time=  19.1s\n",
      "[CV 2/3] END max_features=log2, n_estimators=500;, score=0.809 total time=  19.1s\n",
      "[CV 3/3] END max_features=log2, n_estimators=500;, score=0.808 total time=  19.6s\n",
      "[CV 1/3] END max_features=sqrt, n_estimators=700;, score=0.805 total time=  24.7s\n",
      "[CV 2/3] END max_features=sqrt, n_estimators=700;, score=0.809 total time=  25.0s\n",
      "[CV 3/3] END max_features=sqrt, n_estimators=700;, score=0.806 total time=  27.2s\n",
      "[CV 1/3] END max_features=sqrt, n_estimators=1000;, score=0.806 total time=  34.4s\n",
      "[CV 3/3] END max_features=sqrt, n_estimators=1000;, score=0.805 total time=  36.2s\n",
      "[CV 2/3] END max_features=sqrt, n_estimators=1000;, score=0.810 total time=  38.9s\n",
      "[CV 2/3] END max_features=log2, n_estimators=700;, score=0.809 total time=  24.4s\n",
      "[CV 3/3] END max_features=log2, n_estimators=700;, score=0.806 total time=  25.8s\n",
      "[CV 1/3] END max_features=log2, n_estimators=700;, score=0.805 total time=  27.4s\n",
      "[CV 1/3] END max_features=log2, n_estimators=1000;, score=0.806 total time=  38.5s\n",
      "[CV 3/3] END max_features=log2, n_estimators=1000;, score=0.805 total time=  39.3s\n",
      "[CV 2/3] END max_features=log2, n_estimators=1000;, score=0.810 total time=  43.1s\n",
      "[CV 1/3] END .max_features=10, n_estimators=500;, score=0.799 total time=  45.2s\n",
      "[CV 2/3] END .max_features=10, n_estimators=500;, score=0.806 total time=  45.7s\n",
      "[CV 3/3] END .max_features=10, n_estimators=500;, score=0.808 total time=  49.1s\n",
      "[CV 1/3] END .max_features=10, n_estimators=700;, score=0.800 total time= 1.1min\n",
      "[CV 2/3] END .max_features=10, n_estimators=700;, score=0.806 total time= 1.2min\n",
      "[CV 1/3] END max_features=None, n_estimators=500;, score=0.799 total time=  48.9s\n",
      "[CV 3/3] END .max_features=10, n_estimators=700;, score=0.808 total time= 1.1min\n",
      "[CV 2/3] END max_features=None, n_estimators=500;, score=0.806 total time=  49.8s\n",
      "[CV 3/3] END max_features=None, n_estimators=500;, score=0.808 total time=  51.6s\n",
      "[CV 1/3] END max_features=10, n_estimators=1000;, score=0.800 total time= 1.5min\n",
      "[CV 1/3] END max_features=None, n_estimators=700;, score=0.800 total time= 1.0min\n",
      "[CV 2/3] END max_features=10, n_estimators=1000;, score=0.808 total time= 1.5min\n",
      "[CV 2/3] END max_features=None, n_estimators=700;, score=0.806 total time= 1.1min\n",
      "[CV 3/3] END max_features=None, n_estimators=700;, score=0.808 total time= 1.0min\n",
      "[CV 3/3] END max_features=10, n_estimators=1000;, score=0.808 total time= 1.5min\n",
      "[CV 1/3] END max_features=None, n_estimators=1000;, score=0.800 total time=  50.5s\n",
      "[CV 3/3] END max_features=None, n_estimators=1000;, score=0.808 total time=  47.4s\n",
      "[CV 2/3] END max_features=None, n_estimators=1000;, score=0.808 total time=  47.7s\n",
      "===> 2024-10-28 11:54:27.892758 | FINALIZADO FOLD 3 | TEMPO TOTAL 0:02:37.646472\n",
      "\n",
      "====> 2024-10-28 11:54:27.893178 | EXECUTANDO FOLD 4 \n",
      "Fitting 3 folds for each of 12 candidates, totalling 36 fits\n",
      "[CV 1/3] END max_features=sqrt, n_estimators=500;, score=0.807 total time=  17.0s\n",
      "[CV 1/3] END max_features=log2, n_estimators=500;, score=0.807 total time=  17.7s\n",
      "[CV 2/3] END max_features=sqrt, n_estimators=500;, score=0.808 total time=  17.9s\n",
      "[CV 3/3] END max_features=sqrt, n_estimators=500;, score=0.811 total time=  18.0s\n",
      "[CV 3/3] END max_features=log2, n_estimators=500;, score=0.811 total time=  18.4s\n",
      "[CV 2/3] END max_features=log2, n_estimators=500;, score=0.808 total time=  18.9s\n",
      "[CV 2/3] END max_features=sqrt, n_estimators=700;, score=0.810 total time=  22.7s\n",
      "[CV 1/3] END max_features=sqrt, n_estimators=700;, score=0.808 total time=  23.1s\n",
      "[CV 3/3] END max_features=sqrt, n_estimators=700;, score=0.810 total time=  24.4s\n",
      "[CV 1/3] END max_features=sqrt, n_estimators=1000;, score=0.808 total time=  35.3s\n",
      "[CV 3/3] END max_features=sqrt, n_estimators=1000;, score=0.808 total time=  36.4s\n",
      "[CV 2/3] END max_features=sqrt, n_estimators=1000;, score=0.809 total time=  36.8s\n",
      "[CV 2/3] END max_features=log2, n_estimators=700;, score=0.810 total time=  27.2s\n",
      "[CV 1/3] END max_features=log2, n_estimators=700;, score=0.808 total time=  28.6s\n",
      "[CV 3/3] END max_features=log2, n_estimators=700;, score=0.810 total time=  28.1s\n",
      "[CV 2/3] END max_features=log2, n_estimators=1000;, score=0.809 total time=  37.9s\n",
      "[CV 3/3] END max_features=log2, n_estimators=1000;, score=0.808 total time=  38.9s\n",
      "[CV 1/3] END max_features=log2, n_estimators=1000;, score=0.808 total time=  40.3s\n",
      "[CV 1/3] END .max_features=10, n_estimators=500;, score=0.801 total time=  46.3s\n",
      "[CV 2/3] END .max_features=10, n_estimators=500;, score=0.808 total time=  48.8s\n",
      "[CV 3/3] END .max_features=10, n_estimators=500;, score=0.805 total time=  50.5s\n",
      "[CV 2/3] END .max_features=10, n_estimators=700;, score=0.807 total time= 1.1min\n",
      "[CV 1/3] END .max_features=10, n_estimators=700;, score=0.800 total time= 1.2min\n",
      "[CV 3/3] END .max_features=10, n_estimators=700;, score=0.805 total time= 1.2min\n",
      "[CV 2/3] END max_features=None, n_estimators=500;, score=0.808 total time=  53.6s\n",
      "[CV 1/3] END max_features=None, n_estimators=500;, score=0.801 total time=  55.2s\n",
      "[CV 3/3] END max_features=None, n_estimators=500;, score=0.805 total time=  54.0s\n",
      "[CV 1/3] END max_features=None, n_estimators=700;, score=0.800 total time= 1.1min\n",
      "[CV 1/3] END max_features=10, n_estimators=1000;, score=0.802 total time= 1.6min\n",
      "[CV 2/3] END max_features=None, n_estimators=700;, score=0.807 total time= 1.1min\n",
      "[CV 3/3] END max_features=10, n_estimators=1000;, score=0.805 total time= 1.6min\n",
      "[CV 2/3] END max_features=10, n_estimators=1000;, score=0.808 total time= 1.6min\n",
      "[CV 3/3] END max_features=None, n_estimators=700;, score=0.805 total time= 1.1min\n",
      "[CV 1/3] END max_features=None, n_estimators=1000;, score=0.802 total time=  49.6s\n",
      "[CV 2/3] END max_features=None, n_estimators=1000;, score=0.808 total time=  45.4s\n",
      "[CV 3/3] END max_features=None, n_estimators=1000;, score=0.805 total time=  44.8s\n",
      "===> 2024-10-28 11:57:07.737722 | FINALIZADO FOLD 4 | TEMPO TOTAL 0:02:39.844544\n",
      "\n",
      "====> 2024-10-28 11:57:07.738431 | EXECUTANDO FOLD 5 \n",
      "Fitting 3 folds for each of 12 candidates, totalling 36 fits\n",
      "[CV 1/3] END max_features=sqrt, n_estimators=500;, score=0.810 total time=  18.3s\n",
      "[CV 3/3] END max_features=sqrt, n_estimators=500;, score=0.806 total time=  18.4s\n",
      "[CV 2/3] END max_features=sqrt, n_estimators=500;, score=0.806 total time=  18.8s\n",
      "[CV 3/3] END max_features=log2, n_estimators=500;, score=0.806 total time=  18.9s\n",
      "[CV 2/3] END max_features=log2, n_estimators=500;, score=0.806 total time=  19.6s\n",
      "[CV 1/3] END max_features=log2, n_estimators=500;, score=0.810 total time=  20.1s\n",
      "[CV 1/3] END max_features=sqrt, n_estimators=700;, score=0.810 total time=  22.9s\n",
      "[CV 2/3] END max_features=sqrt, n_estimators=700;, score=0.805 total time=  23.2s\n",
      "[CV 3/3] END max_features=sqrt, n_estimators=700;, score=0.806 total time=  23.4s\n",
      "[CV 3/3] END max_features=sqrt, n_estimators=1000;, score=0.805 total time=  32.2s\n",
      "[CV 1/3] END max_features=sqrt, n_estimators=1000;, score=0.810 total time=  34.2s\n",
      "[CV 2/3] END max_features=sqrt, n_estimators=1000;, score=0.804 total time=  34.2s\n",
      "[CV 3/3] END max_features=log2, n_estimators=700;, score=0.806 total time=  24.8s\n",
      "[CV 1/3] END max_features=log2, n_estimators=700;, score=0.810 total time=  26.0s\n",
      "[CV 2/3] END max_features=log2, n_estimators=700;, score=0.805 total time=  27.1s\n",
      "[CV 2/3] END max_features=log2, n_estimators=1000;, score=0.804 total time=  36.0s\n",
      "[CV 3/3] END max_features=log2, n_estimators=1000;, score=0.805 total time=  36.9s\n",
      "[CV 1/3] END max_features=log2, n_estimators=1000;, score=0.810 total time=  38.7s\n",
      "[CV 2/3] END .max_features=10, n_estimators=500;, score=0.801 total time=  42.1s\n",
      "[CV 3/3] END .max_features=10, n_estimators=500;, score=0.802 total time=  43.9s\n",
      "[CV 1/3] END .max_features=10, n_estimators=500;, score=0.802 total time=  44.7s\n",
      "[CV 1/3] END .max_features=10, n_estimators=700;, score=0.803 total time= 1.0min\n",
      "[CV 3/3] END .max_features=10, n_estimators=700;, score=0.802 total time= 1.1min\n",
      "[CV 2/3] END .max_features=10, n_estimators=700;, score=0.803 total time= 1.1min\n",
      "[CV 2/3] END max_features=None, n_estimators=500;, score=0.801 total time=  46.9s\n",
      "[CV 3/3] END max_features=None, n_estimators=500;, score=0.802 total time=  47.2s\n",
      "[CV 1/3] END max_features=None, n_estimators=500;, score=0.802 total time=  49.4s\n",
      "[CV 1/3] END max_features=None, n_estimators=700;, score=0.803 total time= 1.0min\n",
      "[CV 2/3] END max_features=None, n_estimators=700;, score=0.803 total time=  59.8s\n",
      "[CV 3/3] END max_features=10, n_estimators=1000;, score=0.803 total time= 1.4min\n",
      "[CV 3/3] END max_features=None, n_estimators=700;, score=0.802 total time= 1.0min\n",
      "[CV 2/3] END max_features=10, n_estimators=1000;, score=0.801 total time= 1.4min\n",
      "[CV 1/3] END max_features=10, n_estimators=1000;, score=0.803 total time= 1.4min\n",
      "[CV 1/3] END max_features=None, n_estimators=1000;, score=0.803 total time=  49.7s\n",
      "[CV 2/3] END max_features=None, n_estimators=1000;, score=0.801 total time=  46.2s\n",
      "[CV 3/3] END max_features=None, n_estimators=1000;, score=0.803 total time=  43.4s\n",
      "===> 2024-10-28 11:59:35.233443 | FINALIZADO FOLD 5 | TEMPO TOTAL 0:02:27.495012\n",
      "\n",
      "====> 2024-10-28 11:59:35.233968 | EXECUTANDO FOLD 6 \n",
      "Fitting 3 folds for each of 12 candidates, totalling 36 fits\n",
      "[CV 2/3] END max_features=log2, n_estimators=500;, score=0.813 total time=  15.4s\n",
      "[CV 3/3] END max_features=sqrt, n_estimators=500;, score=0.805 total time=  15.9s\n",
      "[CV 3/3] END max_features=log2, n_estimators=500;, score=0.805 total time=  16.1s\n",
      "[CV 2/3] END max_features=sqrt, n_estimators=500;, score=0.813 total time=  16.3s\n",
      "[CV 1/3] END max_features=log2, n_estimators=500;, score=0.809 total time=  16.3s\n",
      "[CV 1/3] END max_features=sqrt, n_estimators=500;, score=0.809 total time=  16.9s\n",
      "[CV 1/3] END max_features=sqrt, n_estimators=700;, score=0.809 total time=  20.7s\n",
      "[CV 2/3] END max_features=sqrt, n_estimators=700;, score=0.813 total time=  21.7s\n",
      "[CV 3/3] END max_features=sqrt, n_estimators=700;, score=0.805 total time=  22.5s\n",
      "[CV 1/3] END max_features=sqrt, n_estimators=1000;, score=0.809 total time=  32.2s\n",
      "[CV 3/3] END max_features=sqrt, n_estimators=1000;, score=0.805 total time=  34.5s\n",
      "[CV 2/3] END max_features=sqrt, n_estimators=1000;, score=0.812 total time=  34.6s\n",
      "[CV 2/3] END max_features=log2, n_estimators=700;, score=0.813 total time=  24.9s\n",
      "[CV 3/3] END max_features=log2, n_estimators=700;, score=0.805 total time=  25.7s\n",
      "[CV 1/3] END max_features=log2, n_estimators=700;, score=0.809 total time=  27.5s\n",
      "[CV 1/3] END max_features=log2, n_estimators=1000;, score=0.809 total time=  34.6s\n",
      "[CV 2/3] END max_features=log2, n_estimators=1000;, score=0.812 total time=  37.7s\n",
      "[CV 3/3] END max_features=log2, n_estimators=1000;, score=0.805 total time=  38.5s\n",
      "[CV 1/3] END .max_features=10, n_estimators=500;, score=0.802 total time=  46.8s\n",
      "[CV 3/3] END .max_features=10, n_estimators=500;, score=0.805 total time=  45.4s\n",
      "[CV 2/3] END .max_features=10, n_estimators=500;, score=0.804 total time=  48.7s\n",
      "[CV 1/3] END .max_features=10, n_estimators=700;, score=0.802 total time= 1.0min\n",
      "[CV 3/3] END .max_features=10, n_estimators=700;, score=0.805 total time= 1.1min\n",
      "[CV 2/3] END .max_features=10, n_estimators=700;, score=0.806 total time= 1.1min\n",
      "[CV 1/3] END max_features=None, n_estimators=500;, score=0.802 total time=  51.0s\n",
      "[CV 3/3] END max_features=None, n_estimators=500;, score=0.805 total time=  48.5s\n",
      "[CV 2/3] END max_features=None, n_estimators=500;, score=0.804 total time=  50.3s\n",
      "[CV 3/3] END max_features=10, n_estimators=1000;, score=0.804 total time= 1.4min\n",
      "[CV 2/3] END max_features=None, n_estimators=700;, score=0.806 total time=  59.5s\n",
      "[CV 2/3] END max_features=10, n_estimators=1000;, score=0.805 total time= 1.4min\n",
      "[CV 1/3] END max_features=None, n_estimators=700;, score=0.802 total time= 1.0min\n",
      "[CV 3/3] END max_features=None, n_estimators=700;, score=0.805 total time= 1.0min\n",
      "[CV 1/3] END max_features=10, n_estimators=1000;, score=0.803 total time= 1.5min\n",
      "[CV 1/3] END max_features=None, n_estimators=1000;, score=0.803 total time=  50.9s\n",
      "[CV 2/3] END max_features=None, n_estimators=1000;, score=0.805 total time=  46.1s\n",
      "[CV 3/3] END max_features=None, n_estimators=1000;, score=0.804 total time=  44.7s\n",
      "===> 2024-10-28 12:02:04.960602 | FINALIZADO FOLD 6 | TEMPO TOTAL 0:02:29.726634\n",
      "\n",
      "====> 2024-10-28 12:02:04.961102 | EXECUTANDO FOLD 7 \n",
      "Fitting 3 folds for each of 12 candidates, totalling 36 fits\n",
      "[CV 2/3] END max_features=log2, n_estimators=500;, score=0.808 total time=  19.4s\n",
      "[CV 1/3] END max_features=log2, n_estimators=500;, score=0.808 total time=  19.5s\n",
      "[CV 3/3] END max_features=sqrt, n_estimators=500;, score=0.806 total time=  19.8s\n",
      "[CV 3/3] END max_features=log2, n_estimators=500;, score=0.806 total time=  20.1s\n",
      "[CV 1/3] END max_features=sqrt, n_estimators=500;, score=0.808 total time=  20.5s\n",
      "[CV 2/3] END max_features=sqrt, n_estimators=500;, score=0.808 total time=  20.7s\n",
      "[CV 1/3] END max_features=sqrt, n_estimators=700;, score=0.807 total time=  23.8s\n",
      "[CV 2/3] END max_features=sqrt, n_estimators=700;, score=0.807 total time=  24.6s\n",
      "[CV 3/3] END max_features=sqrt, n_estimators=700;, score=0.806 total time=  25.1s\n",
      "[CV 1/3] END max_features=sqrt, n_estimators=1000;, score=0.807 total time=  36.2s\n",
      "[CV 3/3] END max_features=sqrt, n_estimators=1000;, score=0.808 total time=  38.6s\n",
      "[CV 2/3] END max_features=sqrt, n_estimators=1000;, score=0.808 total time=  38.7s\n",
      "[CV 3/3] END max_features=log2, n_estimators=700;, score=0.806 total time=  25.5s\n",
      "[CV 2/3] END max_features=log2, n_estimators=700;, score=0.807 total time=  29.5s\n",
      "[CV 1/3] END max_features=log2, n_estimators=700;, score=0.807 total time=  29.8s\n",
      "[CV 2/3] END max_features=log2, n_estimators=1000;, score=0.808 total time=  37.0s\n",
      "[CV 1/3] END max_features=log2, n_estimators=1000;, score=0.807 total time=  37.6s\n",
      "[CV 3/3] END max_features=log2, n_estimators=1000;, score=0.808 total time=  37.6s\n",
      "[CV 1/3] END .max_features=10, n_estimators=500;, score=0.803 total time=  44.7s\n",
      "[CV 2/3] END .max_features=10, n_estimators=500;, score=0.802 total time=  50.8s\n",
      "[CV 3/3] END .max_features=10, n_estimators=500;, score=0.803 total time=  51.4s\n",
      "[CV 1/3] END .max_features=10, n_estimators=700;, score=0.806 total time= 1.1min\n",
      "[CV 3/3] END .max_features=10, n_estimators=700;, score=0.805 total time= 1.1min\n",
      "[CV 2/3] END .max_features=10, n_estimators=700;, score=0.802 total time= 1.1min\n",
      "[CV 2/3] END max_features=None, n_estimators=500;, score=0.802 total time=  50.4s\n",
      "[CV 1/3] END max_features=None, n_estimators=500;, score=0.803 total time=  52.1s\n",
      "[CV 3/3] END max_features=None, n_estimators=500;, score=0.803 total time=  51.7s\n",
      "[CV 1/3] END max_features=None, n_estimators=700;, score=0.806 total time= 1.1min\n",
      "[CV 1/3] END max_features=10, n_estimators=1000;, score=0.805 total time= 1.5min\n",
      "[CV 2/3] END max_features=None, n_estimators=700;, score=0.802 total time= 1.1min\n",
      "[CV 3/3] END max_features=None, n_estimators=700;, score=0.805 total time= 1.0min\n",
      "[CV 2/3] END max_features=10, n_estimators=1000;, score=0.802 total time= 1.5min\n",
      "[CV 3/3] END max_features=10, n_estimators=1000;, score=0.806 total time= 1.5min\n",
      "[CV 1/3] END max_features=None, n_estimators=1000;, score=0.805 total time=  52.7s\n",
      "[CV 2/3] END max_features=None, n_estimators=1000;, score=0.802 total time=  50.2s\n",
      "[CV 3/3] END max_features=None, n_estimators=1000;, score=0.806 total time=  50.2s\n",
      "===> 2024-10-28 12:04:47.210329 | FINALIZADO FOLD 7 | TEMPO TOTAL 0:02:42.249227\n",
      "\n",
      "====> 2024-10-28 12:04:47.210789 | EXECUTANDO FOLD 8 \n",
      "Fitting 3 folds for each of 12 candidates, totalling 36 fits\n",
      "[CV 2/3] END max_features=log2, n_estimators=500;, score=0.806 total time=  17.8s\n",
      "[CV 2/3] END max_features=sqrt, n_estimators=500;, score=0.806 total time=  18.0s\n",
      "[CV 1/3] END max_features=sqrt, n_estimators=500;, score=0.809 total time=  18.1s\n",
      "[CV 1/3] END max_features=log2, n_estimators=500;, score=0.809 total time=  18.3s\n",
      "[CV 3/3] END max_features=log2, n_estimators=500;, score=0.812 total time=  19.0s\n",
      "[CV 3/3] END max_features=sqrt, n_estimators=500;, score=0.812 total time=  19.5s\n",
      "[CV 2/3] END max_features=sqrt, n_estimators=700;, score=0.806 total time=  24.0s\n",
      "[CV 3/3] END max_features=sqrt, n_estimators=700;, score=0.812 total time=  24.7s\n",
      "[CV 1/3] END max_features=sqrt, n_estimators=700;, score=0.809 total time=  24.7s\n",
      "[CV 3/3] END max_features=sqrt, n_estimators=1000;, score=0.813 total time=  37.8s\n",
      "[CV 1/3] END max_features=sqrt, n_estimators=1000;, score=0.810 total time=  38.8s\n",
      "[CV 2/3] END max_features=sqrt, n_estimators=1000;, score=0.807 total time=  40.2s\n",
      "[CV 1/3] END max_features=log2, n_estimators=700;, score=0.809 total time=  26.1s\n",
      "[CV 3/3] END max_features=log2, n_estimators=700;, score=0.812 total time=  27.0s\n",
      "[CV 2/3] END max_features=log2, n_estimators=700;, score=0.806 total time=  27.8s\n",
      "[CV 1/3] END max_features=log2, n_estimators=1000;, score=0.810 total time=  40.7s\n",
      "[CV 3/3] END max_features=log2, n_estimators=1000;, score=0.813 total time=  43.1s\n",
      "[CV 2/3] END max_features=log2, n_estimators=1000;, score=0.807 total time=  45.1s\n",
      "[CV 1/3] END .max_features=10, n_estimators=500;, score=0.805 total time=  45.6s\n",
      "[CV 2/3] END .max_features=10, n_estimators=500;, score=0.802 total time=  45.6s\n",
      "[CV 3/3] END .max_features=10, n_estimators=500;, score=0.806 total time=  49.9s\n",
      "[CV 1/3] END .max_features=10, n_estimators=700;, score=0.805 total time= 1.1min\n",
      "[CV 3/3] END .max_features=10, n_estimators=700;, score=0.808 total time= 1.2min\n",
      "[CV 2/3] END .max_features=10, n_estimators=700;, score=0.801 total time= 1.2min\n",
      "[CV 1/3] END max_features=None, n_estimators=500;, score=0.805 total time=  52.9s\n",
      "[CV 2/3] END max_features=None, n_estimators=500;, score=0.802 total time=  50.3s\n",
      "[CV 3/3] END max_features=None, n_estimators=500;, score=0.806 total time=  49.5s\n",
      "[CV 2/3] END max_features=10, n_estimators=1000;, score=0.802 total time= 1.6min\n",
      "[CV 1/3] END max_features=None, n_estimators=700;, score=0.805 total time= 1.2min\n",
      "[CV 2/3] END max_features=None, n_estimators=700;, score=0.801 total time= 1.2min\n",
      "[CV 1/3] END max_features=10, n_estimators=1000;, score=0.805 total time= 1.6min\n",
      "[CV 3/3] END max_features=None, n_estimators=700;, score=0.808 total time= 1.1min\n",
      "[CV 3/3] END max_features=10, n_estimators=1000;, score=0.809 total time= 1.6min\n",
      "[CV 1/3] END max_features=None, n_estimators=1000;, score=0.805 total time=  52.9s\n",
      "[CV 2/3] END max_features=None, n_estimators=1000;, score=0.802 total time=  49.0s\n",
      "[CV 3/3] END max_features=None, n_estimators=1000;, score=0.809 total time=  48.0s\n",
      "===> 2024-10-28 12:07:33.353640 | FINALIZADO FOLD 8 | TEMPO TOTAL 0:02:46.142851\n",
      "\n",
      "====> 2024-10-28 12:07:33.354066 | EXECUTANDO FOLD 9 \n",
      "Fitting 3 folds for each of 12 candidates, totalling 36 fits\n",
      "[CV 1/3] END max_features=sqrt, n_estimators=500;, score=0.807 total time=  17.2s\n",
      "[CV 3/3] END max_features=sqrt, n_estimators=500;, score=0.802 total time=  17.7s\n",
      "[CV 2/3] END max_features=sqrt, n_estimators=500;, score=0.808 total time=  17.8s\n",
      "[CV 3/3] END max_features=log2, n_estimators=500;, score=0.802 total time=  18.6s\n",
      "[CV 1/3] END max_features=log2, n_estimators=500;, score=0.807 total time=  19.0s\n",
      "[CV 2/3] END max_features=log2, n_estimators=500;, score=0.808 total time=  19.0s\n",
      "[CV 3/3] END max_features=sqrt, n_estimators=700;, score=0.804 total time=  22.5s\n",
      "[CV 2/3] END max_features=sqrt, n_estimators=700;, score=0.808 total time=  23.3s\n",
      "[CV 1/3] END max_features=sqrt, n_estimators=700;, score=0.807 total time=  24.2s\n",
      "[CV 1/3] END max_features=sqrt, n_estimators=1000;, score=0.807 total time=  36.3s\n",
      "[CV 2/3] END max_features=sqrt, n_estimators=1000;, score=0.808 total time=  36.6s\n",
      "[CV 3/3] END max_features=sqrt, n_estimators=1000;, score=0.805 total time=  37.0s\n",
      "[CV 1/3] END max_features=log2, n_estimators=700;, score=0.807 total time=  27.1s\n",
      "[CV 2/3] END max_features=log2, n_estimators=700;, score=0.808 total time=  26.9s\n",
      "[CV 3/3] END max_features=log2, n_estimators=700;, score=0.804 total time=  30.7s\n",
      "[CV 1/3] END max_features=log2, n_estimators=1000;, score=0.807 total time=  40.1s\n",
      "[CV 2/3] END max_features=log2, n_estimators=1000;, score=0.808 total time=  42.5s\n",
      "[CV 3/3] END max_features=log2, n_estimators=1000;, score=0.805 total time=  42.8s\n",
      "[CV 2/3] END .max_features=10, n_estimators=500;, score=0.801 total time=  48.8s\n",
      "[CV 3/3] END .max_features=10, n_estimators=500;, score=0.796 total time=  48.3s\n",
      "[CV 1/3] END .max_features=10, n_estimators=500;, score=0.801 total time=  52.1s\n",
      "[CV 1/3] END .max_features=10, n_estimators=700;, score=0.801 total time= 1.2min\n",
      "[CV 3/3] END .max_features=10, n_estimators=700;, score=0.798 total time= 1.2min\n",
      "[CV 2/3] END .max_features=10, n_estimators=700;, score=0.801 total time= 1.2min\n",
      "[CV 2/3] END max_features=None, n_estimators=500;, score=0.801 total time=  48.4s\n",
      "[CV 1/3] END max_features=None, n_estimators=500;, score=0.801 total time=  51.2s\n",
      "[CV 3/3] END max_features=None, n_estimators=500;, score=0.796 total time=  52.8s\n",
      "[CV 2/3] END max_features=10, n_estimators=1000;, score=0.801 total time= 1.5min\n",
      "[CV 1/3] END max_features=None, n_estimators=700;, score=0.801 total time= 1.1min\n",
      "[CV 3/3] END max_features=None, n_estimators=700;, score=0.798 total time= 1.1min\n",
      "[CV 2/3] END max_features=None, n_estimators=700;, score=0.801 total time= 1.1min\n",
      "[CV 1/3] END max_features=10, n_estimators=1000;, score=0.802 total time= 1.6min\n",
      "[CV 3/3] END max_features=10, n_estimators=1000;, score=0.798 total time= 1.5min\n",
      "[CV 1/3] END max_features=None, n_estimators=1000;, score=0.802 total time=  47.9s\n",
      "[CV 2/3] END max_features=None, n_estimators=1000;, score=0.801 total time=  46.9s\n",
      "[CV 3/3] END max_features=None, n_estimators=1000;, score=0.798 total time=  45.1s\n",
      "===> 2024-10-28 12:10:17.091934 | FINALIZADO FOLD 9 | TEMPO TOTAL 0:02:43.737868\n",
      "\n",
      "====> 2024-10-28 12:10:17.092403 | EXECUTANDO FOLD 10 \n",
      "Fitting 3 folds for each of 12 candidates, totalling 36 fits\n",
      "[CV 1/3] END max_features=log2, n_estimators=500;, score=0.807 total time=  17.4s\n",
      "[CV 2/3] END max_features=log2, n_estimators=500;, score=0.808 total time=  17.6s\n",
      "[CV 3/3] END max_features=sqrt, n_estimators=500;, score=0.808 total time=  18.1s\n",
      "[CV 3/3] END max_features=log2, n_estimators=500;, score=0.808 total time=  18.5s\n",
      "[CV 1/3] END max_features=sqrt, n_estimators=500;, score=0.807 total time=  19.3s\n",
      "[CV 2/3] END max_features=sqrt, n_estimators=500;, score=0.808 total time=  20.0s\n",
      "[CV 3/3] END max_features=sqrt, n_estimators=700;, score=0.808 total time=  22.8s\n",
      "[CV 2/3] END max_features=sqrt, n_estimators=700;, score=0.810 total time=  23.3s\n",
      "[CV 1/3] END max_features=sqrt, n_estimators=700;, score=0.806 total time=  23.4s\n",
      "[CV 1/3] END max_features=sqrt, n_estimators=1000;, score=0.808 total time=  35.2s\n",
      "[CV 3/3] END max_features=sqrt, n_estimators=1000;, score=0.809 total time=  36.2s\n",
      "[CV 2/3] END max_features=sqrt, n_estimators=1000;, score=0.809 total time=  37.4s\n",
      "[CV 3/3] END max_features=log2, n_estimators=700;, score=0.808 total time=  27.0s\n",
      "[CV 2/3] END max_features=log2, n_estimators=700;, score=0.810 total time=  28.8s\n",
      "[CV 1/3] END max_features=log2, n_estimators=700;, score=0.806 total time=  29.4s\n",
      "[CV 1/3] END max_features=log2, n_estimators=1000;, score=0.808 total time=  41.1s\n",
      "[CV 3/3] END max_features=log2, n_estimators=1000;, score=0.809 total time=  40.2s\n",
      "[CV 2/3] END max_features=log2, n_estimators=1000;, score=0.809 total time=  45.1s\n",
      "[CV 2/3] END .max_features=10, n_estimators=500;, score=0.804 total time=  47.5s\n",
      "[CV 1/3] END .max_features=10, n_estimators=500;, score=0.805 total time=  49.6s\n",
      "[CV 3/3] END .max_features=10, n_estimators=500;, score=0.803 total time=  49.9s\n",
      "[CV 1/3] END .max_features=10, n_estimators=700;, score=0.805 total time= 1.1min\n",
      "[CV 3/3] END .max_features=10, n_estimators=700;, score=0.802 total time= 1.2min\n",
      "[CV 2/3] END .max_features=10, n_estimators=700;, score=0.803 total time= 1.2min\n",
      "[CV 2/3] END max_features=None, n_estimators=500;, score=0.804 total time=  52.3s\n",
      "[CV 1/3] END max_features=None, n_estimators=500;, score=0.805 total time=  53.4s\n",
      "[CV 3/3] END max_features=None, n_estimators=500;, score=0.803 total time=  56.2s\n",
      "[CV 1/3] END max_features=10, n_estimators=1000;, score=0.806 total time= 1.5min\n",
      "[CV 2/3] END max_features=None, n_estimators=700;, score=0.803 total time= 1.1min\n",
      "[CV 1/3] END max_features=None, n_estimators=700;, score=0.805 total time= 1.1min\n",
      "[CV 3/3] END max_features=10, n_estimators=1000;, score=0.804 total time= 1.5min\n",
      "[CV 2/3] END max_features=10, n_estimators=1000;, score=0.806 total time= 1.6min\n",
      "[CV 3/3] END max_features=None, n_estimators=700;, score=0.802 total time= 1.1min\n",
      "[CV 1/3] END max_features=None, n_estimators=1000;, score=0.806 total time=  52.1s\n",
      "[CV 2/3] END max_features=None, n_estimators=1000;, score=0.806 total time=  47.8s\n",
      "[CV 3/3] END max_features=None, n_estimators=1000;, score=0.804 total time=  46.2s\n",
      "===> 2024-10-28 12:12:59.296094 | FINALIZADO FOLD 10 | TEMPO TOTAL 0:02:42.203691\n",
      "\n",
      "Resultados na validação cruzada: {'f1': 0.8069076623545349, 'accuracy': 0.8069301682391989, 'precision': 0.8070705081877373, 'recall': 0.8069311851005532}\n",
      "Resultados na base de teste: {'f1': 0.7565324934304587, 'accuracy': 0.8037929812123361, 'precision': 0.7384837407658967, 'recall': 0.8112683099391896}\n",
      "Melhores parâmetros escolhidos: {'max_features': 'sqrt', 'n_estimators': 1000}\n"
     ]
    }
   ],
   "source": [
    "param_grid_categorical = {\n",
    "    \"n_estimators\": [500, 700, 1000],\n",
    "    \"max_features\": [\"sqrt\", \"log2\", 10, None],\n",
    "}\n",
    "\n",
    "caracteristicas_filtro = [\n",
    "    \"Humidity3pm\",\n",
    "    \"Cloud3pm\",\n",
    "    \"Sunshine\",\n",
    "    \"Rainfall\",\n",
    "    \"Pressure3pm\",\n",
    "    \"Cloud9am\",\n",
    "    \"WindGustSpeed\",\n",
    "    \"RangeTemp\",\n",
    "    \"Humidity9am\",\n",
    "    \"MinTemp\",\n",
    "]\n",
    "\n",
    "# Executar a função e obter os melhores parâmetros\n",
    "results_validation, results_test, best_params, results_list_rd = run_cross_validation(\n",
    "    df_train[caracteristicas_filtro],\n",
    "    df_train[\"RainTomorrow\"],\n",
    "    df_test[caracteristicas_filtro],\n",
    "    df_test[\"RainTomorrow\"],\n",
    "    RandomForestClassifier(n_jobs=-1, random_state=42, max_depth=None),\n",
    "    param_grid_categorical,\n",
    "    k_folds=10,\n",
    ")\n",
    "\n",
    "print(\"Resultados na validação cruzada:\", results_validation)\n",
    "print(\"Resultados na base de teste:\", results_test)\n",
    "print(\"Melhores parâmetros escolhidos:\", best_params)"
   ]
  },
  {
   "cell_type": "code",
   "execution_count": 44,
   "metadata": {
    "id": "pG1bVt3ZEu1I",
    "outputId": "77a79bb5-b270-4c8e-eee2-6cef5f357c78"
   },
   "outputs": [
    {
     "data": {
      "text/html": [
       "<div>\n",
       "<style scoped>\n",
       "    .dataframe tbody tr th:only-of-type {\n",
       "        vertical-align: middle;\n",
       "    }\n",
       "\n",
       "    .dataframe tbody tr th {\n",
       "        vertical-align: top;\n",
       "    }\n",
       "\n",
       "    .dataframe thead th {\n",
       "        text-align: right;\n",
       "    }\n",
       "</style>\n",
       "<table border=\"1\" class=\"dataframe\">\n",
       "  <thead>\n",
       "    <tr style=\"text-align: right;\">\n",
       "      <th></th>\n",
       "      <th>f1</th>\n",
       "      <th>accuracy</th>\n",
       "      <th>precision</th>\n",
       "      <th>recall</th>\n",
       "      <th>dataset</th>\n",
       "    </tr>\n",
       "  </thead>\n",
       "  <tbody>\n",
       "    <tr>\n",
       "      <th>0</th>\n",
       "      <td>0.793347</td>\n",
       "      <td>0.793363</td>\n",
       "      <td>0.793470</td>\n",
       "      <td>0.793368</td>\n",
       "      <td>Validação Cruzada</td>\n",
       "    </tr>\n",
       "    <tr>\n",
       "      <th>1</th>\n",
       "      <td>0.819977</td>\n",
       "      <td>0.820010</td>\n",
       "      <td>0.820262</td>\n",
       "      <td>0.820017</td>\n",
       "      <td>Validação Cruzada</td>\n",
       "    </tr>\n",
       "    <tr>\n",
       "      <th>2</th>\n",
       "      <td>0.802393</td>\n",
       "      <td>0.802413</td>\n",
       "      <td>0.802525</td>\n",
       "      <td>0.802408</td>\n",
       "      <td>Validação Cruzada</td>\n",
       "    </tr>\n",
       "    <tr>\n",
       "      <th>3</th>\n",
       "      <td>0.812462</td>\n",
       "      <td>0.812469</td>\n",
       "      <td>0.812521</td>\n",
       "      <td>0.812472</td>\n",
       "      <td>Validação Cruzada</td>\n",
       "    </tr>\n",
       "    <tr>\n",
       "      <th>4</th>\n",
       "      <td>0.819409</td>\n",
       "      <td>0.819416</td>\n",
       "      <td>0.819471</td>\n",
       "      <td>0.819416</td>\n",
       "      <td>Validação Cruzada</td>\n",
       "    </tr>\n",
       "    <tr>\n",
       "      <th>5</th>\n",
       "      <td>0.802311</td>\n",
       "      <td>0.802314</td>\n",
       "      <td>0.802329</td>\n",
       "      <td>0.802314</td>\n",
       "      <td>Validação Cruzada</td>\n",
       "    </tr>\n",
       "    <tr>\n",
       "      <th>6</th>\n",
       "      <td>0.812858</td>\n",
       "      <td>0.812877</td>\n",
       "      <td>0.813004</td>\n",
       "      <td>0.812877</td>\n",
       "      <td>Validação Cruzada</td>\n",
       "    </tr>\n",
       "    <tr>\n",
       "      <th>7</th>\n",
       "      <td>0.791648</td>\n",
       "      <td>0.791751</td>\n",
       "      <td>0.792323</td>\n",
       "      <td>0.791751</td>\n",
       "      <td>Validação Cruzada</td>\n",
       "    </tr>\n",
       "    <tr>\n",
       "      <th>8</th>\n",
       "      <td>0.816890</td>\n",
       "      <td>0.816901</td>\n",
       "      <td>0.816984</td>\n",
       "      <td>0.816901</td>\n",
       "      <td>Validação Cruzada</td>\n",
       "    </tr>\n",
       "    <tr>\n",
       "      <th>9</th>\n",
       "      <td>0.797782</td>\n",
       "      <td>0.797787</td>\n",
       "      <td>0.797817</td>\n",
       "      <td>0.797787</td>\n",
       "      <td>Validação Cruzada</td>\n",
       "    </tr>\n",
       "    <tr>\n",
       "      <th>0</th>\n",
       "      <td>0.759079</td>\n",
       "      <td>0.806363</td>\n",
       "      <td>0.740675</td>\n",
       "      <td>0.813032</td>\n",
       "      <td>Teste</td>\n",
       "    </tr>\n",
       "    <tr>\n",
       "      <th>1</th>\n",
       "      <td>0.757331</td>\n",
       "      <td>0.804768</td>\n",
       "      <td>0.739135</td>\n",
       "      <td>0.811431</td>\n",
       "      <td>Teste</td>\n",
       "    </tr>\n",
       "    <tr>\n",
       "      <th>2</th>\n",
       "      <td>0.755698</td>\n",
       "      <td>0.802995</td>\n",
       "      <td>0.737755</td>\n",
       "      <td>0.810584</td>\n",
       "      <td>Teste</td>\n",
       "    </tr>\n",
       "    <tr>\n",
       "      <th>3</th>\n",
       "      <td>0.756207</td>\n",
       "      <td>0.803616</td>\n",
       "      <td>0.738171</td>\n",
       "      <td>0.810693</td>\n",
       "      <td>Teste</td>\n",
       "    </tr>\n",
       "    <tr>\n",
       "      <th>4</th>\n",
       "      <td>0.754078</td>\n",
       "      <td>0.801134</td>\n",
       "      <td>0.736423</td>\n",
       "      <td>0.809968</td>\n",
       "      <td>Teste</td>\n",
       "    </tr>\n",
       "    <tr>\n",
       "      <th>5</th>\n",
       "      <td>0.755808</td>\n",
       "      <td>0.802818</td>\n",
       "      <td>0.737911</td>\n",
       "      <td>0.811336</td>\n",
       "      <td>Teste</td>\n",
       "    </tr>\n",
       "    <tr>\n",
       "      <th>6</th>\n",
       "      <td>0.757205</td>\n",
       "      <td>0.804591</td>\n",
       "      <td>0.739036</td>\n",
       "      <td>0.811462</td>\n",
       "      <td>Teste</td>\n",
       "    </tr>\n",
       "    <tr>\n",
       "      <th>7</th>\n",
       "      <td>0.755926</td>\n",
       "      <td>0.803084</td>\n",
       "      <td>0.737980</td>\n",
       "      <td>0.811074</td>\n",
       "      <td>Teste</td>\n",
       "    </tr>\n",
       "    <tr>\n",
       "      <th>8</th>\n",
       "      <td>0.758015</td>\n",
       "      <td>0.805034</td>\n",
       "      <td>0.739803</td>\n",
       "      <td>0.812901</td>\n",
       "      <td>Teste</td>\n",
       "    </tr>\n",
       "    <tr>\n",
       "      <th>9</th>\n",
       "      <td>0.755979</td>\n",
       "      <td>0.803527</td>\n",
       "      <td>0.737948</td>\n",
       "      <td>0.810203</td>\n",
       "      <td>Teste</td>\n",
       "    </tr>\n",
       "  </tbody>\n",
       "</table>\n",
       "</div>"
      ],
      "text/plain": [
       "         f1  accuracy  precision    recall            dataset\n",
       "0  0.793347  0.793363   0.793470  0.793368  Validação Cruzada\n",
       "1  0.819977  0.820010   0.820262  0.820017  Validação Cruzada\n",
       "2  0.802393  0.802413   0.802525  0.802408  Validação Cruzada\n",
       "3  0.812462  0.812469   0.812521  0.812472  Validação Cruzada\n",
       "4  0.819409  0.819416   0.819471  0.819416  Validação Cruzada\n",
       "5  0.802311  0.802314   0.802329  0.802314  Validação Cruzada\n",
       "6  0.812858  0.812877   0.813004  0.812877  Validação Cruzada\n",
       "7  0.791648  0.791751   0.792323  0.791751  Validação Cruzada\n",
       "8  0.816890  0.816901   0.816984  0.816901  Validação Cruzada\n",
       "9  0.797782  0.797787   0.797817  0.797787  Validação Cruzada\n",
       "0  0.759079  0.806363   0.740675  0.813032              Teste\n",
       "1  0.757331  0.804768   0.739135  0.811431              Teste\n",
       "2  0.755698  0.802995   0.737755  0.810584              Teste\n",
       "3  0.756207  0.803616   0.738171  0.810693              Teste\n",
       "4  0.754078  0.801134   0.736423  0.809968              Teste\n",
       "5  0.755808  0.802818   0.737911  0.811336              Teste\n",
       "6  0.757205  0.804591   0.739036  0.811462              Teste\n",
       "7  0.755926  0.803084   0.737980  0.811074              Teste\n",
       "8  0.758015  0.805034   0.739803  0.812901              Teste\n",
       "9  0.755979  0.803527   0.737948  0.810203              Teste"
      ]
     },
     "execution_count": 44,
     "metadata": {},
     "output_type": "execute_result"
    }
   ],
   "source": [
    "results_list_rd"
   ]
  },
  {
   "cell_type": "markdown",
   "metadata": {},
   "source": [
    "## SVM"
   ]
  },
  {
   "cell_type": "markdown",
   "metadata": {},
   "source": [
    "### TODAS AS CARACTERÍSTICAS"
   ]
  },
  {
   "cell_type": "code",
   "execution_count": 45,
   "metadata": {},
   "outputs": [
    {
     "name": "stdout",
     "output_type": "stream",
     "text": [
      "====> INICIANDO PROCESSAMENTO: 2024-10-28 14:35:54.755771 <====\n",
      "====> 2024-10-28 14:35:54.759773 | EXECUTANDO FOLD 1 \n",
      "Fitting 3 folds for each of 8 candidates, totalling 24 fits\n"
     ]
    },
    {
     "name": "stdout",
     "output_type": "stream",
     "text": [
      "[CV 2/3] END ......C=10, gamma=0.01, kernel=rbf;, score=0.806 total time=  23.1s\n",
      "[CV 1/3] END ......C=10, gamma=0.01, kernel=rbf;, score=0.807 total time=  23.9s\n",
      "[CV 3/3] END ......C=10, gamma=0.01, kernel=rbf;, score=0.810 total time=  24.5s\n",
      "[CV 2/3] END .......C=10, gamma=0.1, kernel=rbf;, score=0.782 total time=  34.2s\n",
      "[CV 3/3] END .......C=10, gamma=0.1, kernel=rbf;, score=0.794 total time=  34.6s\n",
      "[CV 1/3] END .......C=10, gamma=0.1, kernel=rbf;, score=0.787 total time=  35.5s\n",
      "[CV 1/3] END .....C=100, gamma=0.01, kernel=rbf;, score=0.805 total time=  32.0s\n",
      "[CV 2/3] END .....C=100, gamma=0.01, kernel=rbf;, score=0.809 total time=  34.7s\n",
      "[CV 3/3] END .....C=100, gamma=0.01, kernel=rbf;, score=0.810 total time=  34.4s\n",
      "[CV 2/3] END ...C=10, gamma=0.01, kernel=linear;, score=0.798 total time=  59.7s\n",
      "[CV 2/3] END ....C=10, gamma=0.1, kernel=linear;, score=0.798 total time= 1.1min\n",
      "[CV 3/3] END ...C=10, gamma=0.01, kernel=linear;, score=0.800 total time= 1.1min\n",
      "[CV 3/3] END ....C=10, gamma=0.1, kernel=linear;, score=0.800 total time= 1.1min\n",
      "[CV 1/3] END ...C=10, gamma=0.01, kernel=linear;, score=0.796 total time= 1.1min\n",
      "[CV 1/3] END ....C=10, gamma=0.1, kernel=linear;, score=0.796 total time= 1.1min\n",
      "[CV 1/3] END ......C=100, gamma=0.1, kernel=rbf;, score=0.764 total time=  37.2s\n",
      "[CV 2/3] END ......C=100, gamma=0.1, kernel=rbf;, score=0.751 total time=  34.2s\n",
      "[CV 3/3] END ......C=100, gamma=0.1, kernel=rbf;, score=0.761 total time=  41.8s\n",
      "[CV 2/3] END ..C=100, gamma=0.01, kernel=linear;, score=0.798 total time= 3.4min\n",
      "[CV 3/3] END ..C=100, gamma=0.01, kernel=linear;, score=0.799 total time= 3.4min\n",
      "[CV 1/3] END ..C=100, gamma=0.01, kernel=linear;, score=0.796 total time= 3.5min\n",
      "[CV 1/3] END ...C=100, gamma=0.1, kernel=linear;, score=0.796 total time= 3.2min\n",
      "[CV 2/3] END ...C=100, gamma=0.1, kernel=linear;, score=0.798 total time= 3.2min\n",
      "[CV 3/3] END ...C=100, gamma=0.1, kernel=linear;, score=0.799 total time= 3.2min\n",
      "===> 2024-10-28 14:40:42.665083 | FINALIZADO FOLD 1 | TEMPO TOTAL 0:04:47.905310\n",
      "\n",
      "====> 2024-10-28 14:40:42.665589 | EXECUTANDO FOLD 2 \n",
      "Fitting 3 folds for each of 8 candidates, totalling 24 fits\n",
      "[CV 3/3] END ......C=10, gamma=0.01, kernel=rbf;, score=0.811 total time=  21.7s\n",
      "[CV 2/3] END ......C=10, gamma=0.01, kernel=rbf;, score=0.805 total time=  21.8s\n",
      "[CV 1/3] END ......C=10, gamma=0.01, kernel=rbf;, score=0.811 total time=  22.8s\n",
      "[CV 1/3] END .......C=10, gamma=0.1, kernel=rbf;, score=0.792 total time=  26.8s\n",
      "[CV 3/3] END .......C=10, gamma=0.1, kernel=rbf;, score=0.790 total time=  29.6s\n",
      "[CV 2/3] END .......C=10, gamma=0.1, kernel=rbf;, score=0.790 total time=  31.8s\n",
      "[CV 1/3] END .....C=100, gamma=0.01, kernel=rbf;, score=0.809 total time=  29.6s\n",
      "[CV 2/3] END .....C=100, gamma=0.01, kernel=rbf;, score=0.802 total time=  29.6s\n",
      "[CV 1/3] END ....C=10, gamma=0.1, kernel=linear;, score=0.801 total time=  52.7s\n",
      "[CV 2/3] END ....C=10, gamma=0.1, kernel=linear;, score=0.796 total time=  53.8s\n",
      "[CV 3/3] END ....C=10, gamma=0.1, kernel=linear;, score=0.797 total time=  54.2s\n",
      "[CV 3/3] END ...C=10, gamma=0.01, kernel=linear;, score=0.797 total time=  56.2s\n",
      "[CV 3/3] END .....C=100, gamma=0.01, kernel=rbf;, score=0.807 total time=  34.2s\n",
      "[CV 1/3] END ...C=10, gamma=0.01, kernel=linear;, score=0.801 total time= 1.0min\n",
      "[CV 2/3] END ...C=10, gamma=0.01, kernel=linear;, score=0.796 total time= 1.0min\n",
      "[CV 2/3] END ......C=100, gamma=0.1, kernel=rbf;, score=0.754 total time=  34.0s\n",
      "[CV 1/3] END ......C=100, gamma=0.1, kernel=rbf;, score=0.767 total time=  34.4s\n",
      "[CV 3/3] END ......C=100, gamma=0.1, kernel=rbf;, score=0.757 total time=  39.4s\n",
      "[CV 1/3] END ..C=100, gamma=0.01, kernel=linear;, score=0.801 total time= 3.3min\n",
      "[CV 3/3] END ..C=100, gamma=0.01, kernel=linear;, score=0.796 total time= 3.3min\n",
      "[CV 2/3] END ..C=100, gamma=0.01, kernel=linear;, score=0.796 total time= 3.4min\n",
      "[CV 3/3] END ...C=100, gamma=0.1, kernel=linear;, score=0.796 total time= 3.1min\n",
      "[CV 1/3] END ...C=100, gamma=0.1, kernel=linear;, score=0.801 total time= 3.1min\n",
      "[CV 2/3] END ...C=100, gamma=0.1, kernel=linear;, score=0.796 total time= 3.1min\n",
      "===> 2024-10-28 14:45:02.524840 | FINALIZADO FOLD 2 | TEMPO TOTAL 0:04:19.859251\n",
      "\n",
      "====> 2024-10-28 14:45:02.525236 | EXECUTANDO FOLD 3 \n",
      "Fitting 3 folds for each of 8 candidates, totalling 24 fits\n",
      "[CV 2/3] END ......C=10, gamma=0.01, kernel=rbf;, score=0.806 total time=  21.7s\n",
      "[CV 1/3] END ......C=10, gamma=0.01, kernel=rbf;, score=0.810 total time=  25.7s\n",
      "[CV 3/3] END ......C=10, gamma=0.01, kernel=rbf;, score=0.810 total time=  26.5s\n",
      "[CV 3/3] END .......C=10, gamma=0.1, kernel=rbf;, score=0.791 total time=  29.6s\n",
      "[CV 1/3] END .......C=10, gamma=0.1, kernel=rbf;, score=0.791 total time=  29.9s\n",
      "[CV 2/3] END .......C=10, gamma=0.1, kernel=rbf;, score=0.784 total time=  35.0s\n",
      "[CV 1/3] END .....C=100, gamma=0.01, kernel=rbf;, score=0.809 total time=  29.5s\n",
      "[CV 1/3] END ....C=10, gamma=0.1, kernel=linear;, score=0.799 total time=  53.9s\n",
      "[CV 2/3] END ...C=10, gamma=0.01, kernel=linear;, score=0.793 total time=  56.5s\n",
      "[CV 1/3] END ...C=10, gamma=0.01, kernel=linear;, score=0.799 total time=  56.9s\n",
      "[CV 3/3] END ...C=10, gamma=0.01, kernel=linear;, score=0.800 total time=  58.6s\n",
      "[CV 3/3] END ....C=10, gamma=0.1, kernel=linear;, score=0.800 total time= 1.0min\n",
      "[CV 2/3] END .....C=100, gamma=0.01, kernel=rbf;, score=0.812 total time=  36.1s\n",
      "[CV 3/3] END .....C=100, gamma=0.01, kernel=rbf;, score=0.810 total time=  36.8s\n",
      "[CV 2/3] END ....C=10, gamma=0.1, kernel=linear;, score=0.793 total time= 1.1min\n",
      "[CV 1/3] END ......C=100, gamma=0.1, kernel=rbf;, score=0.764 total time=  34.7s\n",
      "[CV 2/3] END ......C=100, gamma=0.1, kernel=rbf;, score=0.758 total time=  35.5s\n",
      "[CV 3/3] END ......C=100, gamma=0.1, kernel=rbf;, score=0.755 total time=  41.5s\n",
      "[CV 1/3] END ..C=100, gamma=0.01, kernel=linear;, score=0.799 total time= 3.3min\n",
      "[CV 3/3] END ..C=100, gamma=0.01, kernel=linear;, score=0.800 total time= 3.3min\n",
      "[CV 2/3] END ..C=100, gamma=0.01, kernel=linear;, score=0.793 total time= 3.4min\n",
      "[CV 1/3] END ...C=100, gamma=0.1, kernel=linear;, score=0.799 total time= 3.1min\n",
      "[CV 3/3] END ...C=100, gamma=0.1, kernel=linear;, score=0.800 total time= 3.0min\n",
      "[CV 2/3] END ...C=100, gamma=0.1, kernel=linear;, score=0.793 total time= 3.1min\n",
      "===> 2024-10-28 14:49:36.230095 | FINALIZADO FOLD 3 | TEMPO TOTAL 0:04:33.704859\n",
      "\n",
      "====> 2024-10-28 14:49:36.230740 | EXECUTANDO FOLD 4 \n",
      "Fitting 3 folds for each of 8 candidates, totalling 24 fits\n",
      "[CV 1/3] END ......C=10, gamma=0.01, kernel=rbf;, score=0.806 total time=  25.0s\n",
      "[CV 2/3] END ......C=10, gamma=0.01, kernel=rbf;, score=0.810 total time=  25.8s\n",
      "[CV 3/3] END ......C=10, gamma=0.01, kernel=rbf;, score=0.809 total time=  26.0s\n",
      "[CV 2/3] END .......C=10, gamma=0.1, kernel=rbf;, score=0.797 total time=  28.5s\n",
      "[CV 1/3] END .......C=10, gamma=0.1, kernel=rbf;, score=0.788 total time=  28.6s\n",
      "[CV 3/3] END .......C=10, gamma=0.1, kernel=rbf;, score=0.787 total time=  31.1s\n",
      "[CV 1/3] END ...C=10, gamma=0.01, kernel=linear;, score=0.801 total time=  54.3s\n",
      "[CV 2/3] END ....C=10, gamma=0.1, kernel=linear;, score=0.798 total time=  54.6s\n",
      "[CV 1/3] END ....C=10, gamma=0.1, kernel=linear;, score=0.801 total time=  58.4s\n",
      "[CV 2/3] END ...C=10, gamma=0.01, kernel=linear;, score=0.798 total time=  58.5s\n",
      "[CV 3/3] END ...C=10, gamma=0.01, kernel=linear;, score=0.799 total time=  59.3s\n",
      "[CV 1/3] END .....C=100, gamma=0.01, kernel=rbf;, score=0.805 total time=  36.3s\n",
      "[CV 2/3] END .....C=100, gamma=0.01, kernel=rbf;, score=0.811 total time=  37.2s\n",
      "[CV 3/3] END .....C=100, gamma=0.01, kernel=rbf;, score=0.805 total time=  37.0s\n",
      "[CV 3/3] END ....C=10, gamma=0.1, kernel=linear;, score=0.799 total time= 1.1min\n",
      "[CV 1/3] END ......C=100, gamma=0.1, kernel=rbf;, score=0.760 total time=  34.3s\n",
      "[CV 2/3] END ......C=100, gamma=0.1, kernel=rbf;, score=0.762 total time=  34.9s\n",
      "[CV 3/3] END ......C=100, gamma=0.1, kernel=rbf;, score=0.754 total time=  33.7s\n",
      "[CV 2/3] END ..C=100, gamma=0.01, kernel=linear;, score=0.798 total time= 3.3min\n",
      "[CV 1/3] END ..C=100, gamma=0.01, kernel=linear;, score=0.801 total time= 3.3min\n",
      "[CV 3/3] END ..C=100, gamma=0.01, kernel=linear;, score=0.799 total time= 3.3min\n",
      "[CV 2/3] END ...C=100, gamma=0.1, kernel=linear;, score=0.798 total time= 3.0min\n",
      "[CV 1/3] END ...C=100, gamma=0.1, kernel=linear;, score=0.801 total time= 3.0min\n",
      "[CV 3/3] END ...C=100, gamma=0.1, kernel=linear;, score=0.799 total time= 3.0min\n",
      "===> 2024-10-28 14:53:54.742279 | FINALIZADO FOLD 4 | TEMPO TOTAL 0:04:18.511539\n",
      "\n",
      "====> 2024-10-28 14:53:54.742942 | EXECUTANDO FOLD 5 \n",
      "Fitting 3 folds for each of 8 candidates, totalling 24 fits\n",
      "[CV 1/3] END ......C=10, gamma=0.01, kernel=rbf;, score=0.810 total time=  23.6s\n",
      "[CV 3/3] END ......C=10, gamma=0.01, kernel=rbf;, score=0.802 total time=  25.4s\n",
      "[CV 2/3] END ......C=10, gamma=0.01, kernel=rbf;, score=0.808 total time=  26.0s\n",
      "[CV 1/3] END .......C=10, gamma=0.1, kernel=rbf;, score=0.788 total time=  28.4s\n",
      "[CV 2/3] END .......C=10, gamma=0.1, kernel=rbf;, score=0.790 total time=  28.4s\n",
      "[CV 3/3] END .......C=10, gamma=0.1, kernel=rbf;, score=0.784 total time=  29.9s\n",
      "[CV 3/3] END ...C=10, gamma=0.01, kernel=linear;, score=0.793 total time=  50.8s\n",
      "[CV 1/3] END .....C=100, gamma=0.01, kernel=rbf;, score=0.805 total time=  29.9s\n",
      "[CV 2/3] END .....C=100, gamma=0.01, kernel=rbf;, score=0.807 total time=  28.4s\n",
      "[CV 2/3] END ...C=10, gamma=0.01, kernel=linear;, score=0.799 total time=  53.9s\n",
      "[CV 1/3] END ....C=10, gamma=0.1, kernel=linear;, score=0.798 total time=  55.1s\n",
      "[CV 1/3] END ...C=10, gamma=0.01, kernel=linear;, score=0.798 total time=  55.4s\n",
      "[CV 3/3] END .....C=100, gamma=0.01, kernel=rbf;, score=0.804 total time=  35.4s\n",
      "[CV 3/3] END ....C=10, gamma=0.1, kernel=linear;, score=0.793 total time= 1.0min\n",
      "[CV 2/3] END ....C=10, gamma=0.1, kernel=linear;, score=0.799 total time= 1.1min\n",
      "[CV 3/3] END ......C=100, gamma=0.1, kernel=rbf;, score=0.760 total time=  35.3s\n",
      "[CV 1/3] END ......C=100, gamma=0.1, kernel=rbf;, score=0.761 total time=  42.7s\n",
      "[CV 2/3] END ......C=100, gamma=0.1, kernel=rbf;, score=0.752 total time=  42.6s\n",
      "[CV 3/3] END ..C=100, gamma=0.01, kernel=linear;, score=0.792 total time= 3.2min\n",
      "[CV 1/3] END ..C=100, gamma=0.01, kernel=linear;, score=0.798 total time= 3.3min\n",
      "[CV 2/3] END ..C=100, gamma=0.01, kernel=linear;, score=0.799 total time= 3.5min\n",
      "[CV 3/3] END ...C=100, gamma=0.1, kernel=linear;, score=0.792 total time= 3.0min\n",
      "[CV 1/3] END ...C=100, gamma=0.1, kernel=linear;, score=0.798 total time= 3.1min\n",
      "[CV 2/3] END ...C=100, gamma=0.1, kernel=linear;, score=0.799 total time= 3.2min\n",
      "===> 2024-10-28 14:58:19.727498 | FINALIZADO FOLD 5 | TEMPO TOTAL 0:04:24.984556\n",
      "\n",
      "Resultados na validação cruzada: {'f1': 0.8065618951548922, 'accuracy': 0.8065784068251602, 'precision': 0.8066799525248574, 'recall': 0.80657790382314}\n",
      "Resultados na base de teste: {'f1': 0.7577626229555716, 'accuracy': 0.8057426444523219, 'precision': 0.7394264787672356, 'recall': 0.810468219019767}\n",
      "Melhores parâmetros escolhidos: {'C': 100, 'gamma': 0.01, 'kernel': 'rbf'}\n"
     ]
    }
   ],
   "source": [
    "param_grid_categorical = {\n",
    "    'C': [10, 100],\n",
    "    'kernel': ['rbf', 'linear'],\n",
    "    'gamma': [0.01, 0.1]\n",
    "}\n",
    "\n",
    "# Executar a função e obter os melhores parâmetros\n",
    "results_validation, results_test, best_params, results_list_full = run_cross_validation(\n",
    "    df_train.drop(columns=[\"RainTomorrow\"]),\n",
    "    df_train[\"RainTomorrow\"],\n",
    "    df_test.drop(columns=[\"RainTomorrow\"]),\n",
    "    df_test[\"RainTomorrow\"],\n",
    "    SVC(random_state=42),\n",
    "    param_grid_categorical,\n",
    "    k_folds=5,\n",
    ")\n",
    "\n",
    "print(\"Resultados na validação cruzada:\", results_validation)\n",
    "print(\"Resultados na base de teste:\", results_test)\n",
    "print(\"Melhores parâmetros escolhidos:\", best_params)"
   ]
  },
  {
   "cell_type": "code",
   "execution_count": 46,
   "metadata": {},
   "outputs": [
    {
     "data": {
      "text/html": [
       "<div>\n",
       "<style scoped>\n",
       "    .dataframe tbody tr th:only-of-type {\n",
       "        vertical-align: middle;\n",
       "    }\n",
       "\n",
       "    .dataframe tbody tr th {\n",
       "        vertical-align: top;\n",
       "    }\n",
       "\n",
       "    .dataframe thead th {\n",
       "        text-align: right;\n",
       "    }\n",
       "</style>\n",
       "<table border=\"1\" class=\"dataframe\">\n",
       "  <thead>\n",
       "    <tr style=\"text-align: right;\">\n",
       "      <th></th>\n",
       "      <th>f1</th>\n",
       "      <th>accuracy</th>\n",
       "      <th>precision</th>\n",
       "      <th>recall</th>\n",
       "      <th>dataset</th>\n",
       "    </tr>\n",
       "  </thead>\n",
       "  <tbody>\n",
       "    <tr>\n",
       "      <th>0</th>\n",
       "      <td>0.807125</td>\n",
       "      <td>0.807141</td>\n",
       "      <td>0.807247</td>\n",
       "      <td>0.807143</td>\n",
       "      <td>Validação Cruzada</td>\n",
       "    </tr>\n",
       "    <tr>\n",
       "      <th>1</th>\n",
       "      <td>0.807392</td>\n",
       "      <td>0.807393</td>\n",
       "      <td>0.807395</td>\n",
       "      <td>0.807393</td>\n",
       "      <td>Validação Cruzada</td>\n",
       "    </tr>\n",
       "    <tr>\n",
       "      <th>2</th>\n",
       "      <td>0.803869</td>\n",
       "      <td>0.803872</td>\n",
       "      <td>0.803888</td>\n",
       "      <td>0.803871</td>\n",
       "      <td>Validação Cruzada</td>\n",
       "    </tr>\n",
       "    <tr>\n",
       "      <th>3</th>\n",
       "      <td>0.802807</td>\n",
       "      <td>0.802866</td>\n",
       "      <td>0.803222</td>\n",
       "      <td>0.802862</td>\n",
       "      <td>Validação Cruzada</td>\n",
       "    </tr>\n",
       "    <tr>\n",
       "      <th>4</th>\n",
       "      <td>0.811615</td>\n",
       "      <td>0.811620</td>\n",
       "      <td>0.811648</td>\n",
       "      <td>0.811620</td>\n",
       "      <td>Validação Cruzada</td>\n",
       "    </tr>\n",
       "    <tr>\n",
       "      <th>0</th>\n",
       "      <td>0.757397</td>\n",
       "      <td>0.805565</td>\n",
       "      <td>0.739078</td>\n",
       "      <td>0.809777</td>\n",
       "      <td>Teste</td>\n",
       "    </tr>\n",
       "    <tr>\n",
       "      <th>1</th>\n",
       "      <td>0.756865</td>\n",
       "      <td>0.804679</td>\n",
       "      <td>0.738667</td>\n",
       "      <td>0.810219</td>\n",
       "      <td>Teste</td>\n",
       "    </tr>\n",
       "    <tr>\n",
       "      <th>2</th>\n",
       "      <td>0.757158</td>\n",
       "      <td>0.805565</td>\n",
       "      <td>0.738837</td>\n",
       "      <td>0.809055</td>\n",
       "      <td>Teste</td>\n",
       "    </tr>\n",
       "    <tr>\n",
       "      <th>3</th>\n",
       "      <td>0.756567</td>\n",
       "      <td>0.804325</td>\n",
       "      <td>0.738418</td>\n",
       "      <td>0.810137</td>\n",
       "      <td>Teste</td>\n",
       "    </tr>\n",
       "    <tr>\n",
       "      <th>4</th>\n",
       "      <td>0.760826</td>\n",
       "      <td>0.808579</td>\n",
       "      <td>0.742132</td>\n",
       "      <td>0.813153</td>\n",
       "      <td>Teste</td>\n",
       "    </tr>\n",
       "  </tbody>\n",
       "</table>\n",
       "</div>"
      ],
      "text/plain": [
       "         f1  accuracy  precision    recall            dataset\n",
       "0  0.807125  0.807141   0.807247  0.807143  Validação Cruzada\n",
       "1  0.807392  0.807393   0.807395  0.807393  Validação Cruzada\n",
       "2  0.803869  0.803872   0.803888  0.803871  Validação Cruzada\n",
       "3  0.802807  0.802866   0.803222  0.802862  Validação Cruzada\n",
       "4  0.811615  0.811620   0.811648  0.811620  Validação Cruzada\n",
       "0  0.757397  0.805565   0.739078  0.809777              Teste\n",
       "1  0.756865  0.804679   0.738667  0.810219              Teste\n",
       "2  0.757158  0.805565   0.738837  0.809055              Teste\n",
       "3  0.756567  0.804325   0.738418  0.810137              Teste\n",
       "4  0.760826  0.808579   0.742132  0.813153              Teste"
      ]
     },
     "execution_count": 46,
     "metadata": {},
     "output_type": "execute_result"
    }
   ],
   "source": [
    "results_list_full"
   ]
  },
  {
   "cell_type": "markdown",
   "metadata": {},
   "source": [
    "### PCA"
   ]
  },
  {
   "cell_type": "code",
   "execution_count": 47,
   "metadata": {
    "execution": {
     "iopub.execute_input": "2024-10-07T19:02:04.045531Z",
     "iopub.status.busy": "2024-10-07T19:02:04.045232Z",
     "iopub.status.idle": "2024-10-07T19:16:09.848295Z",
     "shell.execute_reply": "2024-10-07T19:16:09.847414Z",
     "shell.execute_reply.started": "2024-10-07T19:02:04.045506Z"
    },
    "tags": []
   },
   "outputs": [
    {
     "name": "stdout",
     "output_type": "stream",
     "text": [
      "====> INICIANDO PROCESSAMENTO: 2024-10-28 14:58:19.790197 <====\n",
      "====> 2024-10-28 14:58:19.795546 | EXECUTANDO FOLD 1 \n",
      "Fitting 3 folds for each of 8 candidates, totalling 24 fits\n"
     ]
    },
    {
     "name": "stdout",
     "output_type": "stream",
     "text": [
      "[CV 3/3] END ......C=10, gamma=0.01, kernel=rbf;, score=0.772 total time=  10.3s\n",
      "[CV 1/3] END ......C=10, gamma=0.01, kernel=rbf;, score=0.768 total time=  11.0s\n",
      "[CV 2/3] END ......C=10, gamma=0.01, kernel=rbf;, score=0.767 total time=  11.6s\n",
      "[CV 2/3] END .......C=10, gamma=0.1, kernel=rbf;, score=0.769 total time=  11.6s\n",
      "[CV 1/3] END .......C=10, gamma=0.1, kernel=rbf;, score=0.776 total time=  12.9s\n",
      "[CV 1/3] END ...C=10, gamma=0.01, kernel=linear;, score=0.767 total time=  15.5s\n",
      "[CV 1/3] END ....C=10, gamma=0.1, kernel=linear;, score=0.767 total time=  19.6s\n",
      "[CV 2/3] END ...C=10, gamma=0.01, kernel=linear;, score=0.769 total time=  22.8s\n",
      "[CV 3/3] END .......C=10, gamma=0.1, kernel=rbf;, score=0.779 total time=  22.9s\n",
      "[CV 1/3] END .....C=100, gamma=0.01, kernel=rbf;, score=0.772 total time=  17.1s\n",
      "[CV 1/3] END ..C=100, gamma=0.01, kernel=linear;, score=0.764 total time=  19.6s\n",
      "[CV 2/3] END ..C=100, gamma=0.01, kernel=linear;, score=0.767 total time=  18.9s\n",
      "[CV 3/3] END ....C=10, gamma=0.1, kernel=linear;, score=0.770 total time=  33.9s\n",
      "[CV 2/3] END .....C=100, gamma=0.01, kernel=rbf;, score=0.769 total time=  23.3s\n",
      "[CV 2/3] END ....C=10, gamma=0.1, kernel=linear;, score=0.769 total time=  34.4s\n",
      "[CV 3/3] END ...C=10, gamma=0.01, kernel=linear;, score=0.770 total time=  34.5s\n",
      "[CV 3/3] END .....C=100, gamma=0.01, kernel=rbf;, score=0.777 total time=  23.1s\n",
      "[CV 3/3] END ..C=100, gamma=0.01, kernel=linear;, score=0.771 total time=  22.8s\n",
      "[CV 3/3] END ...C=100, gamma=0.1, kernel=linear;, score=0.771 total time=   9.8s\n",
      "[CV 2/3] END ...C=100, gamma=0.1, kernel=linear;, score=0.767 total time=  10.5s\n",
      "[CV 1/3] END ...C=100, gamma=0.1, kernel=linear;, score=0.764 total time=  17.0s\n",
      "[CV 1/3] END ......C=100, gamma=0.1, kernel=rbf;, score=0.777 total time=  26.4s\n",
      "[CV 3/3] END ......C=100, gamma=0.1, kernel=rbf;, score=0.777 total time=  23.6s\n",
      "[CV 2/3] END ......C=100, gamma=0.1, kernel=rbf;, score=0.767 total time=  24.0s\n",
      "===> 2024-10-28 14:59:17.234523 | FINALIZADO FOLD 1 | TEMPO TOTAL 0:00:57.438977\n",
      "\n",
      "====> 2024-10-28 14:59:17.235231 | EXECUTANDO FOLD 2 \n",
      "Fitting 3 folds for each of 8 candidates, totalling 24 fits\n",
      "[CV 2/3] END ......C=10, gamma=0.01, kernel=rbf;, score=0.763 total time=  15.1s\n",
      "[CV 2/3] END .......C=10, gamma=0.1, kernel=rbf;, score=0.773 total time=  15.3s\n",
      "[CV 1/3] END ......C=10, gamma=0.01, kernel=rbf;, score=0.775 total time=  15.4s\n",
      "[CV 1/3] END .......C=10, gamma=0.1, kernel=rbf;, score=0.780 total time=  15.6s\n",
      "[CV 3/3] END ......C=10, gamma=0.01, kernel=rbf;, score=0.768 total time=  15.8s\n",
      "[CV 1/3] END ...C=10, gamma=0.01, kernel=linear;, score=0.769 total time=  21.0s\n",
      "[CV 3/3] END .......C=10, gamma=0.1, kernel=rbf;, score=0.779 total time=  22.7s\n",
      "[CV 3/3] END ....C=10, gamma=0.1, kernel=linear;, score=0.773 total time=  25.3s\n",
      "[CV 1/3] END ....C=10, gamma=0.1, kernel=linear;, score=0.769 total time=  27.3s\n",
      "[CV 2/3] END .....C=100, gamma=0.01, kernel=rbf;, score=0.769 total time=  12.1s\n",
      "[CV 3/3] END ...C=10, gamma=0.01, kernel=linear;, score=0.773 total time=  28.4s\n",
      "[CV 2/3] END ....C=10, gamma=0.1, kernel=linear;, score=0.764 total time=  30.1s\n",
      "[CV 2/3] END ...C=10, gamma=0.01, kernel=linear;, score=0.764 total time=  30.9s\n",
      "[CV 1/3] END ..C=100, gamma=0.01, kernel=linear;, score=0.771 total time=  15.5s\n",
      "[CV 1/3] END .....C=100, gamma=0.01, kernel=rbf;, score=0.778 total time=  17.7s\n",
      "[CV 3/3] END .....C=100, gamma=0.01, kernel=rbf;, score=0.775 total time=  19.0s\n",
      "[CV 2/3] END ..C=100, gamma=0.01, kernel=linear;, score=0.765 total time=  27.9s\n",
      "[CV 1/3] END ...C=100, gamma=0.1, kernel=linear;, score=0.771 total time=  16.6s\n",
      "[CV 3/3] END ..C=100, gamma=0.01, kernel=linear;, score=0.772 total time=  23.3s\n",
      "[CV 2/3] END ...C=100, gamma=0.1, kernel=linear;, score=0.765 total time=  19.4s\n",
      "[CV 3/3] END ...C=100, gamma=0.1, kernel=linear;, score=0.772 total time=  17.7s\n",
      "[CV 2/3] END ......C=100, gamma=0.1, kernel=rbf;, score=0.768 total time=  24.0s\n",
      "[CV 1/3] END ......C=100, gamma=0.1, kernel=rbf;, score=0.781 total time=  27.3s\n",
      "[CV 3/3] END ......C=100, gamma=0.1, kernel=rbf;, score=0.778 total time=  23.3s\n",
      "===> 2024-10-28 15:00:18.442735 | FINALIZADO FOLD 2 | TEMPO TOTAL 0:01:01.207504\n",
      "\n",
      "====> 2024-10-28 15:00:18.443338 | EXECUTANDO FOLD 3 \n",
      "Fitting 3 folds for each of 8 candidates, totalling 24 fits\n",
      "[CV 2/3] END ......C=10, gamma=0.01, kernel=rbf;, score=0.771 total time=   9.1s\n",
      "[CV 3/3] END ......C=10, gamma=0.01, kernel=rbf;, score=0.771 total time=  12.2s\n",
      "[CV 1/3] END ......C=10, gamma=0.01, kernel=rbf;, score=0.773 total time=  13.0s\n",
      "[CV 3/3] END ...C=10, gamma=0.01, kernel=linear;, score=0.772 total time=  16.8s\n",
      "[CV 2/3] END .......C=10, gamma=0.1, kernel=rbf;, score=0.775 total time=  19.2s\n",
      "[CV 3/3] END .......C=10, gamma=0.1, kernel=rbf;, score=0.779 total time=  21.8s\n",
      "[CV 2/3] END ...C=10, gamma=0.01, kernel=linear;, score=0.769 total time=  23.4s\n",
      "[CV 1/3] END ....C=10, gamma=0.1, kernel=linear;, score=0.766 total time=  24.0s\n",
      "[CV 1/3] END .....C=100, gamma=0.01, kernel=rbf;, score=0.773 total time=  15.3s\n",
      "[CV 1/3] END .......C=10, gamma=0.1, kernel=rbf;, score=0.776 total time=  24.9s\n",
      "[CV 1/3] END ...C=10, gamma=0.01, kernel=linear;, score=0.766 total time=  29.5s\n",
      "[CV 3/3] END ....C=10, gamma=0.1, kernel=linear;, score=0.772 total time=  30.6s\n",
      "[CV 1/3] END ..C=100, gamma=0.01, kernel=linear;, score=0.766 total time=  14.4s\n",
      "[CV 2/3] END ....C=10, gamma=0.1, kernel=linear;, score=0.769 total time=  31.4s\n",
      "[CV 2/3] END .....C=100, gamma=0.01, kernel=rbf;, score=0.773 total time=  20.0s\n",
      "[CV 3/3] END .....C=100, gamma=0.01, kernel=rbf;, score=0.773 total time=  21.4s\n",
      "[CV 2/3] END ..C=100, gamma=0.01, kernel=linear;, score=0.767 total time=  20.8s\n",
      "[CV 3/3] END ..C=100, gamma=0.01, kernel=linear;, score=0.769 total time=  20.6s\n",
      "[CV 1/3] END ...C=100, gamma=0.1, kernel=linear;, score=0.766 total time=  19.6s\n",
      "[CV 3/3] END ......C=100, gamma=0.1, kernel=rbf;, score=0.778 total time=  20.2s\n",
      "[CV 2/3] END ......C=100, gamma=0.1, kernel=rbf;, score=0.773 total time=  20.8s\n",
      "[CV 2/3] END ...C=100, gamma=0.1, kernel=linear;, score=0.767 total time=  15.6s\n",
      "[CV 3/3] END ...C=100, gamma=0.1, kernel=linear;, score=0.769 total time=  14.8s\n",
      "[CV 1/3] END ......C=100, gamma=0.1, kernel=rbf;, score=0.776 total time=  22.6s\n",
      "===> 2024-10-28 15:01:18.144924 | FINALIZADO FOLD 3 | TEMPO TOTAL 0:00:59.701586\n",
      "\n",
      "====> 2024-10-28 15:01:18.145345 | EXECUTANDO FOLD 4 \n",
      "Fitting 3 folds for each of 8 candidates, totalling 24 fits\n",
      "[CV 1/3] END ......C=10, gamma=0.01, kernel=rbf;, score=0.770 total time=  10.0s\n",
      "[CV 3/3] END ......C=10, gamma=0.01, kernel=rbf;, score=0.770 total time=  10.8s\n",
      "[CV 2/3] END .......C=10, gamma=0.1, kernel=rbf;, score=0.775 total time=  11.5s\n",
      "[CV 2/3] END ......C=10, gamma=0.01, kernel=rbf;, score=0.768 total time=  12.0s\n",
      "[CV 3/3] END .......C=10, gamma=0.1, kernel=rbf;, score=0.778 total time=  13.4s\n",
      "[CV 1/3] END ....C=10, gamma=0.1, kernel=linear;, score=0.765 total time=  17.8s\n",
      "[CV 1/3] END .......C=10, gamma=0.1, kernel=rbf;, score=0.774 total time=  20.2s\n",
      "[CV 1/3] END ...C=10, gamma=0.01, kernel=linear;, score=0.765 total time=  25.9s\n",
      "[CV 2/3] END ...C=10, gamma=0.01, kernel=linear;, score=0.769 total time=  25.9s\n",
      "[CV 3/3] END .....C=100, gamma=0.01, kernel=rbf;, score=0.774 total time=  14.6s\n",
      "[CV 3/3] END ...C=10, gamma=0.01, kernel=linear;, score=0.772 total time=  26.6s\n",
      "[CV 1/3] END .....C=100, gamma=0.01, kernel=rbf;, score=0.773 total time=  16.7s\n",
      "[CV 3/3] END ....C=10, gamma=0.1, kernel=linear;, score=0.772 total time=  27.0s\n",
      "[CV 2/3] END ..C=100, gamma=0.01, kernel=linear;, score=0.766 total time=  16.5s\n",
      "[CV 2/3] END .....C=100, gamma=0.01, kernel=rbf;, score=0.769 total time=  20.1s\n",
      "[CV 2/3] END ....C=10, gamma=0.1, kernel=linear;, score=0.769 total time=  32.4s\n",
      "[CV 3/3] END ..C=100, gamma=0.01, kernel=linear;, score=0.771 total time=  20.9s\n",
      "[CV 3/3] END ...C=100, gamma=0.1, kernel=linear;, score=0.771 total time=  12.1s\n",
      "[CV 1/3] END ..C=100, gamma=0.01, kernel=linear;, score=0.765 total time=  27.0s\n",
      "[CV 1/3] END ...C=100, gamma=0.1, kernel=linear;, score=0.765 total time=  13.0s\n",
      "[CV 2/3] END ...C=100, gamma=0.1, kernel=linear;, score=0.766 total time=  15.1s\n",
      "[CV 1/3] END ......C=100, gamma=0.1, kernel=rbf;, score=0.775 total time=  24.3s\n",
      "[CV 2/3] END ......C=100, gamma=0.1, kernel=rbf;, score=0.772 total time=  18.6s\n",
      "[CV 3/3] END ......C=100, gamma=0.1, kernel=rbf;, score=0.778 total time=  19.0s\n",
      "===> 2024-10-28 15:02:13.930491 | FINALIZADO FOLD 4 | TEMPO TOTAL 0:00:55.785146\n",
      "\n",
      "====> 2024-10-28 15:02:13.931167 | EXECUTANDO FOLD 5 \n",
      "Fitting 3 folds for each of 8 candidates, totalling 24 fits\n",
      "[CV 2/3] END ......C=10, gamma=0.01, kernel=rbf;, score=0.765 total time=  12.1s\n",
      "[CV 3/3] END ......C=10, gamma=0.01, kernel=rbf;, score=0.760 total time=  14.1s\n",
      "[CV 2/3] END .......C=10, gamma=0.1, kernel=rbf;, score=0.772 total time=  14.7s\n",
      "[CV 1/3] END ......C=10, gamma=0.01, kernel=rbf;, score=0.768 total time=  15.1s\n",
      "[CV 1/3] END .......C=10, gamma=0.1, kernel=rbf;, score=0.772 total time=  19.0s\n",
      "[CV 3/3] END ...C=10, gamma=0.01, kernel=linear;, score=0.762 total time=  22.5s\n",
      "[CV 2/3] END ...C=10, gamma=0.01, kernel=linear;, score=0.769 total time=  25.4s\n",
      "[CV 1/3] END .....C=100, gamma=0.01, kernel=rbf;, score=0.772 total time=  13.6s\n",
      "[CV 3/3] END .......C=10, gamma=0.1, kernel=rbf;, score=0.766 total time=  25.7s\n",
      "[CV 1/3] END ....C=10, gamma=0.1, kernel=linear;, score=0.769 total time=  26.1s\n",
      "[CV 3/3] END .....C=100, gamma=0.01, kernel=rbf;, score=0.767 total time=  12.8s\n",
      "[CV 1/3] END ...C=10, gamma=0.01, kernel=linear;, score=0.769 total time=  29.0s\n",
      "[CV 3/3] END ....C=10, gamma=0.1, kernel=linear;, score=0.762 total time=  32.1s\n",
      "[CV 2/3] END .....C=100, gamma=0.01, kernel=rbf;, score=0.770 total time=  18.8s\n",
      "[CV 2/3] END ....C=10, gamma=0.1, kernel=linear;, score=0.769 total time=  34.3s\n",
      "[CV 3/3] END ..C=100, gamma=0.01, kernel=linear;, score=0.761 total time=  16.7s\n",
      "[CV 1/3] END ..C=100, gamma=0.01, kernel=linear;, score=0.769 total time=  24.3s\n",
      "[CV 2/3] END ..C=100, gamma=0.01, kernel=linear;, score=0.772 total time=  22.8s\n",
      "[CV 2/3] END ...C=100, gamma=0.1, kernel=linear;, score=0.772 total time=  14.5s\n",
      "[CV 1/3] END ...C=100, gamma=0.1, kernel=linear;, score=0.769 total time=  18.1s\n",
      "[CV 2/3] END ......C=100, gamma=0.1, kernel=rbf;, score=0.773 total time=  20.1s\n",
      "[CV 3/3] END ...C=100, gamma=0.1, kernel=linear;, score=0.761 total time=  16.9s\n",
      "[CV 1/3] END ......C=100, gamma=0.1, kernel=rbf;, score=0.771 total time=  22.5s\n",
      "[CV 3/3] END ......C=100, gamma=0.1, kernel=rbf;, score=0.767 total time=  23.0s\n",
      "===> 2024-10-28 15:03:28.858052 | FINALIZADO FOLD 5 | TEMPO TOTAL 0:01:14.926885\n",
      "\n",
      "Resultados na validação cruzada: {'f1': 0.7798492953056598, 'accuracy': 0.7799239743211597, 'precision': 0.7803079466049936, 'recall': 0.7799232296746796}\n",
      "Resultados na base de teste: {'f1': 0.7312927916922844, 'accuracy': 0.785785182559376, 'precision': 0.7154279389179017, 'recall': 0.7771112274282128}\n",
      "Melhores parâmetros escolhidos: {'C': 10, 'gamma': 0.1, 'kernel': 'rbf'}\n"
     ]
    }
   ],
   "source": [
    "param_grid_categorical = {\n",
    "    'C': [10, 100],\n",
    "    'kernel': ['rbf', 'linear'],\n",
    "    'gamma': [0.01, 0.1]\n",
    "}\n",
    "\n",
    "# Executar a função e obter os melhores parâmetros\n",
    "results_validation, results_test, best_params, results_list_pca_linear = run_cross_validation(\n",
    "    df_train_pca.drop(columns=[\"RainTomorrow\"]),\n",
    "    df_train_pca[\"RainTomorrow\"],\n",
    "    df_test_pca.drop(columns=[\"RainTomorrow\"]),\n",
    "    df_test_pca[\"RainTomorrow\"],\n",
    "    SVC(random_state=42),\n",
    "    param_grid_categorical,\n",
    "    k_folds=5,\n",
    ")\n",
    "\n",
    "print(\"Resultados na validação cruzada:\", results_validation)\n",
    "print(\"Resultados na base de teste:\", results_test)\n",
    "print(\"Melhores parâmetros escolhidos:\", best_params)"
   ]
  },
  {
   "cell_type": "code",
   "execution_count": 48,
   "metadata": {
    "execution": {
     "iopub.execute_input": "2024-10-07T19:41:55.520239Z",
     "iopub.status.busy": "2024-10-07T19:41:55.519901Z",
     "iopub.status.idle": "2024-10-07T19:41:55.533698Z",
     "shell.execute_reply": "2024-10-07T19:41:55.533028Z",
     "shell.execute_reply.started": "2024-10-07T19:41:55.520209Z"
    },
    "tags": []
   },
   "outputs": [
    {
     "data": {
      "text/html": [
       "<div>\n",
       "<style scoped>\n",
       "    .dataframe tbody tr th:only-of-type {\n",
       "        vertical-align: middle;\n",
       "    }\n",
       "\n",
       "    .dataframe tbody tr th {\n",
       "        vertical-align: top;\n",
       "    }\n",
       "\n",
       "    .dataframe thead th {\n",
       "        text-align: right;\n",
       "    }\n",
       "</style>\n",
       "<table border=\"1\" class=\"dataframe\">\n",
       "  <thead>\n",
       "    <tr style=\"text-align: right;\">\n",
       "      <th></th>\n",
       "      <th>f1</th>\n",
       "      <th>accuracy</th>\n",
       "      <th>precision</th>\n",
       "      <th>recall</th>\n",
       "      <th>dataset</th>\n",
       "    </tr>\n",
       "  </thead>\n",
       "  <tbody>\n",
       "    <tr>\n",
       "      <th>0</th>\n",
       "      <td>0.782453</td>\n",
       "      <td>0.782499</td>\n",
       "      <td>0.782732</td>\n",
       "      <td>0.782496</td>\n",
       "      <td>Validação Cruzada</td>\n",
       "    </tr>\n",
       "    <tr>\n",
       "      <th>1</th>\n",
       "      <td>0.779834</td>\n",
       "      <td>0.779985</td>\n",
       "      <td>0.780739</td>\n",
       "      <td>0.779978</td>\n",
       "      <td>Validação Cruzada</td>\n",
       "    </tr>\n",
       "    <tr>\n",
       "      <th>2</th>\n",
       "      <td>0.775181</td>\n",
       "      <td>0.775207</td>\n",
       "      <td>0.775342</td>\n",
       "      <td>0.775210</td>\n",
       "      <td>Validação Cruzada</td>\n",
       "    </tr>\n",
       "    <tr>\n",
       "      <th>3</th>\n",
       "      <td>0.773652</td>\n",
       "      <td>0.773699</td>\n",
       "      <td>0.773931</td>\n",
       "      <td>0.773702</td>\n",
       "      <td>Validação Cruzada</td>\n",
       "    </tr>\n",
       "    <tr>\n",
       "      <th>4</th>\n",
       "      <td>0.788126</td>\n",
       "      <td>0.788229</td>\n",
       "      <td>0.788795</td>\n",
       "      <td>0.788229</td>\n",
       "      <td>Validação Cruzada</td>\n",
       "    </tr>\n",
       "    <tr>\n",
       "      <th>0</th>\n",
       "      <td>0.730869</td>\n",
       "      <td>0.785094</td>\n",
       "      <td>0.715077</td>\n",
       "      <td>0.777303</td>\n",
       "      <td>Teste</td>\n",
       "    </tr>\n",
       "    <tr>\n",
       "      <th>1</th>\n",
       "      <td>0.731290</td>\n",
       "      <td>0.785537</td>\n",
       "      <td>0.715443</td>\n",
       "      <td>0.777587</td>\n",
       "      <td>Teste</td>\n",
       "    </tr>\n",
       "    <tr>\n",
       "      <th>2</th>\n",
       "      <td>0.729104</td>\n",
       "      <td>0.783233</td>\n",
       "      <td>0.713548</td>\n",
       "      <td>0.776110</td>\n",
       "      <td>Teste</td>\n",
       "    </tr>\n",
       "    <tr>\n",
       "      <th>3</th>\n",
       "      <td>0.730337</td>\n",
       "      <td>0.785271</td>\n",
       "      <td>0.714528</td>\n",
       "      <td>0.775540</td>\n",
       "      <td>Teste</td>\n",
       "    </tr>\n",
       "    <tr>\n",
       "      <th>4</th>\n",
       "      <td>0.734863</td>\n",
       "      <td>0.789791</td>\n",
       "      <td>0.718544</td>\n",
       "      <td>0.779016</td>\n",
       "      <td>Teste</td>\n",
       "    </tr>\n",
       "  </tbody>\n",
       "</table>\n",
       "</div>"
      ],
      "text/plain": [
       "         f1  accuracy  precision    recall            dataset\n",
       "0  0.782453  0.782499   0.782732  0.782496  Validação Cruzada\n",
       "1  0.779834  0.779985   0.780739  0.779978  Validação Cruzada\n",
       "2  0.775181  0.775207   0.775342  0.775210  Validação Cruzada\n",
       "3  0.773652  0.773699   0.773931  0.773702  Validação Cruzada\n",
       "4  0.788126  0.788229   0.788795  0.788229  Validação Cruzada\n",
       "0  0.730869  0.785094   0.715077  0.777303              Teste\n",
       "1  0.731290  0.785537   0.715443  0.777587              Teste\n",
       "2  0.729104  0.783233   0.713548  0.776110              Teste\n",
       "3  0.730337  0.785271   0.714528  0.775540              Teste\n",
       "4  0.734863  0.789791   0.718544  0.779016              Teste"
      ]
     },
     "execution_count": 48,
     "metadata": {},
     "output_type": "execute_result"
    }
   ],
   "source": [
    "results_list_pca_linear"
   ]
  },
  {
   "cell_type": "code",
   "execution_count": null,
   "metadata": {},
   "outputs": [],
   "source": []
  },
  {
   "cell_type": "markdown",
   "metadata": {},
   "source": [
    "### CORRELAÇÃO"
   ]
  },
  {
   "cell_type": "code",
   "execution_count": 49,
   "metadata": {},
   "outputs": [
    {
     "name": "stdout",
     "output_type": "stream",
     "text": [
      "====> INICIANDO PROCESSAMENTO: 2024-10-28 15:03:28.900399 <====\n",
      "====> 2024-10-28 15:03:28.902337 | EXECUTANDO FOLD 1 \n",
      "Fitting 3 folds for each of 8 candidates, totalling 24 fits\n",
      "[CV 2/3] END ......C=10, gamma=0.01, kernel=rbf;, score=0.800 total time=  13.7s\n",
      "[CV 3/3] END ......C=10, gamma=0.01, kernel=rbf;, score=0.809 total time=  14.0s\n",
      "[CV 1/3] END .......C=10, gamma=0.1, kernel=rbf;, score=0.801 total time=  15.0s\n",
      "[CV 1/3] END ......C=10, gamma=0.01, kernel=rbf;, score=0.804 total time=  15.5s\n",
      "[CV 3/3] END .......C=10, gamma=0.1, kernel=rbf;, score=0.803 total time=  16.7s\n",
      "[CV 2/3] END .......C=10, gamma=0.1, kernel=rbf;, score=0.804 total time=  17.6s\n",
      "[CV 3/3] END .....C=100, gamma=0.01, kernel=rbf;, score=0.813 total time=  14.2s\n",
      "[CV 1/3] END .....C=100, gamma=0.01, kernel=rbf;, score=0.804 total time=  16.0s\n",
      "[CV 2/3] END .....C=100, gamma=0.01, kernel=rbf;, score=0.801 total time=  17.5s\n",
      "[CV 2/3] END ....C=10, gamma=0.1, kernel=linear;, score=0.793 total time=  31.5s\n",
      "[CV 1/3] END ...C=10, gamma=0.01, kernel=linear;, score=0.793 total time=  32.8s\n",
      "[CV 3/3] END ...C=10, gamma=0.01, kernel=linear;, score=0.797 total time=  33.1s\n",
      "[CV 2/3] END ...C=10, gamma=0.01, kernel=linear;, score=0.793 total time=  34.4s\n",
      "[CV 3/3] END ....C=10, gamma=0.1, kernel=linear;, score=0.797 total time=  35.5s\n",
      "[CV 1/3] END ....C=10, gamma=0.1, kernel=linear;, score=0.793 total time=  37.2s\n",
      "[CV 1/3] END ......C=100, gamma=0.1, kernel=rbf;, score=0.771 total time=  30.0s\n",
      "[CV 2/3] END ......C=100, gamma=0.1, kernel=rbf;, score=0.772 total time=  30.6s\n",
      "[CV 3/3] END ......C=100, gamma=0.1, kernel=rbf;, score=0.782 total time=  31.6s\n",
      "[CV 2/3] END ..C=100, gamma=0.01, kernel=linear;, score=0.792 total time= 1.8min\n",
      "[CV 1/3] END ..C=100, gamma=0.01, kernel=linear;, score=0.793 total time= 1.9min\n",
      "[CV 3/3] END ..C=100, gamma=0.01, kernel=linear;, score=0.797 total time= 1.9min\n",
      "[CV 2/3] END ...C=100, gamma=0.1, kernel=linear;, score=0.792 total time= 1.7min\n",
      "[CV 1/3] END ...C=100, gamma=0.1, kernel=linear;, score=0.793 total time= 1.8min\n",
      "[CV 3/3] END ...C=100, gamma=0.1, kernel=linear;, score=0.797 total time= 1.8min\n",
      "===> 2024-10-28 15:06:05.445761 | FINALIZADO FOLD 1 | TEMPO TOTAL 0:02:36.543424\n",
      "\n",
      "====> 2024-10-28 15:06:05.446331 | EXECUTANDO FOLD 2 \n",
      "Fitting 3 folds for each of 8 candidates, totalling 24 fits\n",
      "[CV 3/3] END ......C=10, gamma=0.01, kernel=rbf;, score=0.812 total time=  12.9s\n",
      "[CV 2/3] END ......C=10, gamma=0.01, kernel=rbf;, score=0.802 total time=  14.4s\n",
      "[CV 1/3] END ......C=10, gamma=0.01, kernel=rbf;, score=0.811 total time=  14.8s\n",
      "[CV 1/3] END .......C=10, gamma=0.1, kernel=rbf;, score=0.805 total time=  16.9s\n",
      "[CV 3/3] END .......C=10, gamma=0.1, kernel=rbf;, score=0.807 total time=  19.4s\n",
      "[CV 2/3] END .......C=10, gamma=0.1, kernel=rbf;, score=0.794 total time=  19.9s\n",
      "[CV 1/3] END ...C=10, gamma=0.01, kernel=linear;, score=0.799 total time=  28.1s\n",
      "[CV 1/3] END .....C=100, gamma=0.01, kernel=rbf;, score=0.811 total time=  16.1s\n",
      "[CV 2/3] END .....C=100, gamma=0.01, kernel=rbf;, score=0.805 total time=  16.8s\n",
      "[CV 3/3] END .....C=100, gamma=0.01, kernel=rbf;, score=0.812 total time=  17.1s\n",
      "[CV 2/3] END ....C=10, gamma=0.1, kernel=linear;, score=0.791 total time=  32.7s\n",
      "[CV 1/3] END ....C=10, gamma=0.1, kernel=linear;, score=0.799 total time=  32.7s\n",
      "[CV 3/3] END ...C=10, gamma=0.01, kernel=linear;, score=0.795 total time=  33.9s\n",
      "[CV 3/3] END ....C=10, gamma=0.1, kernel=linear;, score=0.795 total time=  33.9s\n",
      "[CV 2/3] END ...C=10, gamma=0.01, kernel=linear;, score=0.791 total time=  34.3s\n",
      "[CV 1/3] END ......C=100, gamma=0.1, kernel=rbf;, score=0.785 total time=  29.0s\n",
      "[CV 2/3] END ......C=100, gamma=0.1, kernel=rbf;, score=0.776 total time=  30.1s\n",
      "[CV 3/3] END ......C=100, gamma=0.1, kernel=rbf;, score=0.779 total time=  29.0s\n",
      "[CV 1/3] END ..C=100, gamma=0.01, kernel=linear;, score=0.800 total time= 1.8min\n",
      "[CV 2/3] END ..C=100, gamma=0.01, kernel=linear;, score=0.790 total time= 1.8min\n",
      "[CV 3/3] END ..C=100, gamma=0.01, kernel=linear;, score=0.795 total time= 1.9min\n",
      "[CV 2/3] END ...C=100, gamma=0.1, kernel=linear;, score=0.790 total time= 1.7min\n",
      "[CV 3/3] END ...C=100, gamma=0.1, kernel=linear;, score=0.795 total time= 1.7min\n",
      "[CV 1/3] END ...C=100, gamma=0.1, kernel=linear;, score=0.800 total time= 1.8min\n",
      "===> 2024-10-28 15:08:42.797149 | FINALIZADO FOLD 2 | TEMPO TOTAL 0:02:37.350818\n",
      "\n",
      "====> 2024-10-28 15:08:42.797582 | EXECUTANDO FOLD 3 \n",
      "Fitting 3 folds for each of 8 candidates, totalling 24 fits\n",
      "[CV 3/3] END ......C=10, gamma=0.01, kernel=rbf;, score=0.809 total time=  10.3s\n",
      "[CV 2/3] END ......C=10, gamma=0.01, kernel=rbf;, score=0.800 total time=  11.5s\n",
      "[CV 1/3] END ......C=10, gamma=0.01, kernel=rbf;, score=0.810 total time=  11.6s\n",
      "[CV 1/3] END .......C=10, gamma=0.1, kernel=rbf;, score=0.805 total time=  17.5s\n",
      "[CV 2/3] END .......C=10, gamma=0.1, kernel=rbf;, score=0.794 total time=  17.7s\n",
      "[CV 3/3] END .......C=10, gamma=0.1, kernel=rbf;, score=0.807 total time=  20.7s\n",
      "[CV 1/3] END .....C=100, gamma=0.01, kernel=rbf;, score=0.809 total time=  17.5s\n",
      "[CV 1/3] END ....C=10, gamma=0.1, kernel=linear;, score=0.801 total time=  30.0s\n",
      "[CV 1/3] END ...C=10, gamma=0.01, kernel=linear;, score=0.801 total time=  30.1s\n",
      "[CV 2/3] END .....C=100, gamma=0.01, kernel=rbf;, score=0.801 total time=  20.1s\n",
      "[CV 2/3] END ....C=10, gamma=0.1, kernel=linear;, score=0.791 total time=  32.7s\n",
      "[CV 3/3] END .....C=100, gamma=0.01, kernel=rbf;, score=0.810 total time=  21.5s\n",
      "[CV 3/3] END ....C=10, gamma=0.1, kernel=linear;, score=0.800 total time=  34.5s\n",
      "[CV 2/3] END ...C=10, gamma=0.01, kernel=linear;, score=0.791 total time=  36.0s\n",
      "[CV 3/3] END ...C=10, gamma=0.01, kernel=linear;, score=0.800 total time=  37.0s\n",
      "[CV 1/3] END ......C=100, gamma=0.1, kernel=rbf;, score=0.778 total time=  28.5s\n",
      "[CV 2/3] END ......C=100, gamma=0.1, kernel=rbf;, score=0.766 total time=  29.1s\n",
      "[CV 3/3] END ......C=100, gamma=0.1, kernel=rbf;, score=0.778 total time=  29.5s\n",
      "[CV 1/3] END ..C=100, gamma=0.01, kernel=linear;, score=0.801 total time= 1.8min\n",
      "[CV 2/3] END ..C=100, gamma=0.01, kernel=linear;, score=0.791 total time= 1.9min\n",
      "[CV 3/3] END ..C=100, gamma=0.01, kernel=linear;, score=0.800 total time= 1.9min\n",
      "[CV 1/3] END ...C=100, gamma=0.1, kernel=linear;, score=0.801 total time= 1.7min\n",
      "[CV 3/3] END ...C=100, gamma=0.1, kernel=linear;, score=0.800 total time= 1.7min\n",
      "[CV 2/3] END ...C=100, gamma=0.1, kernel=linear;, score=0.791 total time= 1.7min\n",
      "===> 2024-10-28 15:11:16.307198 | FINALIZADO FOLD 3 | TEMPO TOTAL 0:02:33.509616\n",
      "\n",
      "====> 2024-10-28 15:11:16.307635 | EXECUTANDO FOLD 4 \n",
      "Fitting 3 folds for each of 8 candidates, totalling 24 fits\n",
      "[CV 2/3] END ......C=10, gamma=0.01, kernel=rbf;, score=0.804 total time=  11.0s\n",
      "[CV 1/3] END ......C=10, gamma=0.01, kernel=rbf;, score=0.810 total time=  11.9s\n",
      "[CV 3/3] END ......C=10, gamma=0.01, kernel=rbf;, score=0.810 total time=  13.4s\n",
      "[CV 1/3] END .......C=10, gamma=0.1, kernel=rbf;, score=0.800 total time=  14.0s\n",
      "[CV 2/3] END .......C=10, gamma=0.1, kernel=rbf;, score=0.808 total time=  15.8s\n",
      "[CV 3/3] END .......C=10, gamma=0.1, kernel=rbf;, score=0.807 total time=  17.6s\n",
      "[CV 1/3] END ...C=10, gamma=0.01, kernel=linear;, score=0.801 total time=  27.2s\n",
      "[CV 3/3] END ....C=10, gamma=0.1, kernel=linear;, score=0.799 total time=  27.3s\n",
      "[CV 1/3] END .....C=100, gamma=0.01, kernel=rbf;, score=0.807 total time=  16.5s\n",
      "[CV 2/3] END ...C=10, gamma=0.01, kernel=linear;, score=0.795 total time=  27.6s\n",
      "[CV 2/3] END .....C=100, gamma=0.01, kernel=rbf;, score=0.807 total time=  16.7s\n",
      "[CV 2/3] END ....C=10, gamma=0.1, kernel=linear;, score=0.795 total time=  28.7s\n",
      "[CV 3/3] END ...C=10, gamma=0.01, kernel=linear;, score=0.799 total time=  30.6s\n",
      "[CV 1/3] END ....C=10, gamma=0.1, kernel=linear;, score=0.801 total time=  31.3s\n",
      "[CV 3/3] END .....C=100, gamma=0.01, kernel=rbf;, score=0.811 total time=  20.5s\n",
      "[CV 1/3] END ......C=100, gamma=0.1, kernel=rbf;, score=0.776 total time=  28.4s\n",
      "[CV 2/3] END ......C=100, gamma=0.1, kernel=rbf;, score=0.789 total time=  29.4s\n",
      "[CV 3/3] END ......C=100, gamma=0.1, kernel=rbf;, score=0.777 total time=  30.4s\n",
      "[CV 1/3] END ..C=100, gamma=0.01, kernel=linear;, score=0.801 total time= 1.8min\n",
      "[CV 2/3] END ..C=100, gamma=0.01, kernel=linear;, score=0.795 total time= 1.8min\n",
      "[CV 3/3] END ..C=100, gamma=0.01, kernel=linear;, score=0.800 total time= 1.8min\n",
      "[CV 1/3] END ...C=100, gamma=0.1, kernel=linear;, score=0.801 total time= 1.7min\n",
      "[CV 3/3] END ...C=100, gamma=0.1, kernel=linear;, score=0.800 total time= 1.7min\n",
      "[CV 2/3] END ...C=100, gamma=0.1, kernel=linear;, score=0.795 total time= 1.7min\n",
      "===> 2024-10-28 15:13:46.686242 | FINALIZADO FOLD 4 | TEMPO TOTAL 0:02:30.378607\n",
      "\n",
      "====> 2024-10-28 15:13:46.686840 | EXECUTANDO FOLD 5 \n",
      "Fitting 3 folds for each of 8 candidates, totalling 24 fits\n",
      "[CV 1/3] END ......C=10, gamma=0.01, kernel=rbf;, score=0.808 total time=  11.3s\n",
      "[CV 2/3] END ......C=10, gamma=0.01, kernel=rbf;, score=0.804 total time=  11.4s\n",
      "[CV 3/3] END ......C=10, gamma=0.01, kernel=rbf;, score=0.798 total time=  12.1s\n",
      "[CV 1/3] END .......C=10, gamma=0.1, kernel=rbf;, score=0.805 total time=  15.1s\n",
      "[CV 2/3] END .......C=10, gamma=0.1, kernel=rbf;, score=0.803 total time=  16.8s\n",
      "[CV 3/3] END .......C=10, gamma=0.1, kernel=rbf;, score=0.796 total time=  17.2s\n",
      "[CV 1/3] END ...C=10, gamma=0.01, kernel=linear;, score=0.800 total time=  28.8s\n",
      "[CV 2/3] END ...C=10, gamma=0.01, kernel=linear;, score=0.794 total time=  29.1s\n",
      "[CV 2/3] END ....C=10, gamma=0.1, kernel=linear;, score=0.794 total time=  29.6s\n",
      "[CV 2/3] END .....C=100, gamma=0.01, kernel=rbf;, score=0.810 total time=  18.2s\n",
      "[CV 1/3] END .....C=100, gamma=0.01, kernel=rbf;, score=0.807 total time=  18.4s\n",
      "[CV 3/3] END .....C=100, gamma=0.01, kernel=rbf;, score=0.801 total time=  19.6s\n",
      "[CV 3/3] END ....C=10, gamma=0.1, kernel=linear;, score=0.787 total time=  31.8s\n",
      "[CV 1/3] END ....C=10, gamma=0.1, kernel=linear;, score=0.800 total time=  33.8s\n",
      "[CV 3/3] END ...C=10, gamma=0.01, kernel=linear;, score=0.787 total time=  35.2s\n",
      "[CV 2/3] END ......C=100, gamma=0.1, kernel=rbf;, score=0.775 total time=  28.4s\n",
      "[CV 1/3] END ......C=100, gamma=0.1, kernel=rbf;, score=0.778 total time=  29.0s\n",
      "[CV 3/3] END ......C=100, gamma=0.1, kernel=rbf;, score=0.768 total time=  28.7s\n",
      "[CV 1/3] END ..C=100, gamma=0.01, kernel=linear;, score=0.800 total time= 1.9min\n",
      "[CV 3/3] END ..C=100, gamma=0.01, kernel=linear;, score=0.787 total time= 1.9min\n",
      "[CV 2/3] END ..C=100, gamma=0.01, kernel=linear;, score=0.794 total time= 1.9min\n",
      "[CV 1/3] END ...C=100, gamma=0.1, kernel=linear;, score=0.800 total time= 1.8min\n",
      "[CV 2/3] END ...C=100, gamma=0.1, kernel=linear;, score=0.794 total time= 1.8min\n",
      "[CV 3/3] END ...C=100, gamma=0.1, kernel=linear;, score=0.787 total time= 1.8min\n",
      "===> 2024-10-28 15:16:20.032539 | FINALIZADO FOLD 5 | TEMPO TOTAL 0:02:33.345699\n",
      "\n",
      "Resultados na validação cruzada: {'f1': 0.8051885884979665, 'accuracy': 0.8052205614881138, 'precision': 0.8054212131406018, 'recall': 0.8052204883397923}\n",
      "Resultados na base de teste: {'C': 100, 'gamma': 0.01, 'kernel': 'rbf'}\n",
      "Melhores parâmetros escolhidos: {'f1': 0.7517360620178258, 'accuracy': 0.799432825239277, 'precision': 0.7342979736324678, 'recall': 0.8067688229616362}\n"
     ]
    }
   ],
   "source": [
    "param_grid_categorical = {\n",
    "    'C': [10, 100],\n",
    "    'kernel': ['rbf', 'linear'],\n",
    "    'gamma': [0.01, 0.1]\n",
    "}\n",
    "\n",
    "\n",
    "filtro_correlacao = [\n",
    "    \"MinTemp\",\n",
    "    \"MaxTemp\",\n",
    "    \"Rainfall\",\n",
    "    \"Evaporation\",\n",
    "    \"Sunshine\",\n",
    "    \"WindGustSpeed\",\n",
    "    \"WindSpeed3pm\",\n",
    "    \"Humidity9am\",\n",
    "    \"Humidity3pm\",\n",
    "    \"Pressure3pm\",\n",
    "    \"Cloud9am\",\n",
    "    \"Cloud3pm\",\n",
    "    \"RangeTemp\",\n",
    "    \"Rainfall_Discretized\",\n",
    "]\n",
    "\n",
    "# Executar para diferentes modelos e conjuntos de dados\n",
    "results_validation, best_params, results_test, results_list_corr = (\n",
    "    run_cross_validation(\n",
    "        df_train[filtro_correlacao],\n",
    "        df_train[\"RainTomorrow\"],\n",
    "        df_test[filtro_correlacao],\n",
    "        df_test[\"RainTomorrow\"],\n",
    "        SVC(random_state=42),\n",
    "        param_grid_categorical,\n",
    "        k_folds=5,\n",
    "    )\n",
    ")\n",
    "\n",
    "print(\"Resultados na validação cruzada:\", results_validation)\n",
    "print(\"Resultados na base de teste:\", results_test)\n",
    "print(\"Melhores parâmetros escolhidos:\", best_params)"
   ]
  },
  {
   "cell_type": "code",
   "execution_count": 50,
   "metadata": {},
   "outputs": [
    {
     "data": {
      "text/html": [
       "<div>\n",
       "<style scoped>\n",
       "    .dataframe tbody tr th:only-of-type {\n",
       "        vertical-align: middle;\n",
       "    }\n",
       "\n",
       "    .dataframe tbody tr th {\n",
       "        vertical-align: top;\n",
       "    }\n",
       "\n",
       "    .dataframe thead th {\n",
       "        text-align: right;\n",
       "    }\n",
       "</style>\n",
       "<table border=\"1\" class=\"dataframe\">\n",
       "  <thead>\n",
       "    <tr style=\"text-align: right;\">\n",
       "      <th></th>\n",
       "      <th>f1</th>\n",
       "      <th>accuracy</th>\n",
       "      <th>precision</th>\n",
       "      <th>recall</th>\n",
       "      <th>dataset</th>\n",
       "    </tr>\n",
       "  </thead>\n",
       "  <tbody>\n",
       "    <tr>\n",
       "      <th>0</th>\n",
       "      <td>0.807309</td>\n",
       "      <td>0.807393</td>\n",
       "      <td>0.807941</td>\n",
       "      <td>0.807398</td>\n",
       "      <td>Validação Cruzada</td>\n",
       "    </tr>\n",
       "    <tr>\n",
       "      <th>1</th>\n",
       "      <td>0.801858</td>\n",
       "      <td>0.801861</td>\n",
       "      <td>0.801880</td>\n",
       "      <td>0.801862</td>\n",
       "      <td>Validação Cruzada</td>\n",
       "    </tr>\n",
       "    <tr>\n",
       "      <th>2</th>\n",
       "      <td>0.804090</td>\n",
       "      <td>0.804124</td>\n",
       "      <td>0.804325</td>\n",
       "      <td>0.804120</td>\n",
       "      <td>Validação Cruzada</td>\n",
       "    </tr>\n",
       "    <tr>\n",
       "      <th>3</th>\n",
       "      <td>0.801823</td>\n",
       "      <td>0.801861</td>\n",
       "      <td>0.802084</td>\n",
       "      <td>0.801857</td>\n",
       "      <td>Validação Cruzada</td>\n",
       "    </tr>\n",
       "    <tr>\n",
       "      <th>4</th>\n",
       "      <td>0.810863</td>\n",
       "      <td>0.810865</td>\n",
       "      <td>0.810877</td>\n",
       "      <td>0.810865</td>\n",
       "      <td>Validação Cruzada</td>\n",
       "    </tr>\n",
       "    <tr>\n",
       "      <th>0</th>\n",
       "      <td>0.749639</td>\n",
       "      <td>0.797235</td>\n",
       "      <td>0.732514</td>\n",
       "      <td>0.805446</td>\n",
       "      <td>Teste</td>\n",
       "    </tr>\n",
       "    <tr>\n",
       "      <th>1</th>\n",
       "      <td>0.751647</td>\n",
       "      <td>0.799362</td>\n",
       "      <td>0.734195</td>\n",
       "      <td>0.806666</td>\n",
       "      <td>Teste</td>\n",
       "    </tr>\n",
       "    <tr>\n",
       "      <th>2</th>\n",
       "      <td>0.750502</td>\n",
       "      <td>0.797146</td>\n",
       "      <td>0.733508</td>\n",
       "      <td>0.808277</td>\n",
       "      <td>Teste</td>\n",
       "    </tr>\n",
       "    <tr>\n",
       "      <th>3</th>\n",
       "      <td>0.753012</td>\n",
       "      <td>0.800868</td>\n",
       "      <td>0.735334</td>\n",
       "      <td>0.807343</td>\n",
       "      <td>Teste</td>\n",
       "    </tr>\n",
       "    <tr>\n",
       "      <th>4</th>\n",
       "      <td>0.753880</td>\n",
       "      <td>0.802552</td>\n",
       "      <td>0.735939</td>\n",
       "      <td>0.806112</td>\n",
       "      <td>Teste</td>\n",
       "    </tr>\n",
       "  </tbody>\n",
       "</table>\n",
       "</div>"
      ],
      "text/plain": [
       "         f1  accuracy  precision    recall            dataset\n",
       "0  0.807309  0.807393   0.807941  0.807398  Validação Cruzada\n",
       "1  0.801858  0.801861   0.801880  0.801862  Validação Cruzada\n",
       "2  0.804090  0.804124   0.804325  0.804120  Validação Cruzada\n",
       "3  0.801823  0.801861   0.802084  0.801857  Validação Cruzada\n",
       "4  0.810863  0.810865   0.810877  0.810865  Validação Cruzada\n",
       "0  0.749639  0.797235   0.732514  0.805446              Teste\n",
       "1  0.751647  0.799362   0.734195  0.806666              Teste\n",
       "2  0.750502  0.797146   0.733508  0.808277              Teste\n",
       "3  0.753012  0.800868   0.735334  0.807343              Teste\n",
       "4  0.753880  0.802552   0.735939  0.806112              Teste"
      ]
     },
     "execution_count": 50,
     "metadata": {},
     "output_type": "execute_result"
    }
   ],
   "source": [
    "results_list_corr"
   ]
  },
  {
   "cell_type": "markdown",
   "metadata": {},
   "source": [
    "### RANDOM FOREST - FEATURE IMPORTANDCE"
   ]
  },
  {
   "cell_type": "code",
   "execution_count": 51,
   "metadata": {},
   "outputs": [
    {
     "name": "stdout",
     "output_type": "stream",
     "text": [
      "====> INICIANDO PROCESSAMENTO: 2024-10-28 15:16:20.077953 <====\n",
      "====> 2024-10-28 15:16:20.081035 | EXECUTANDO FOLD 1 \n",
      "Fitting 3 folds for each of 8 candidates, totalling 24 fits\n",
      "[CV 2/3] END ......C=10, gamma=0.01, kernel=rbf;, score=0.796 total time=   8.4s\n",
      "[CV 3/3] END ......C=10, gamma=0.01, kernel=rbf;, score=0.807 total time=  11.8s\n",
      "[CV 1/3] END ......C=10, gamma=0.01, kernel=rbf;, score=0.802 total time=  11.9s\n",
      "[CV 1/3] END .......C=10, gamma=0.1, kernel=rbf;, score=0.800 total time=  16.1s\n",
      "[CV 3/3] END .......C=10, gamma=0.1, kernel=rbf;, score=0.805 total time=  19.0s\n",
      "[CV 2/3] END .......C=10, gamma=0.1, kernel=rbf;, score=0.804 total time=  19.7s\n",
      "[CV 1/3] END .....C=100, gamma=0.01, kernel=rbf;, score=0.804 total time=  15.1s\n",
      "[CV 1/3] END ...C=10, gamma=0.01, kernel=linear;, score=0.792 total time=  24.2s\n",
      "[CV 3/3] END ...C=10, gamma=0.01, kernel=linear;, score=0.798 total time=  25.0s\n",
      "[CV 3/3] END ....C=10, gamma=0.1, kernel=linear;, score=0.798 total time=  25.3s\n",
      "[CV 2/3] END ....C=10, gamma=0.1, kernel=linear;, score=0.792 total time=  26.9s\n",
      "[CV 1/3] END ....C=10, gamma=0.1, kernel=linear;, score=0.792 total time=  28.4s\n",
      "[CV 2/3] END ...C=10, gamma=0.01, kernel=linear;, score=0.792 total time=  28.9s\n",
      "[CV 3/3] END .....C=100, gamma=0.01, kernel=rbf;, score=0.811 total time=  18.9s\n",
      "[CV 2/3] END .....C=100, gamma=0.01, kernel=rbf;, score=0.798 total time=  19.7s\n",
      "[CV 1/3] END ......C=100, gamma=0.1, kernel=rbf;, score=0.790 total time=  22.6s\n",
      "[CV 2/3] END ......C=100, gamma=0.1, kernel=rbf;, score=0.790 total time=  24.6s\n",
      "[CV 3/3] END ......C=100, gamma=0.1, kernel=rbf;, score=0.798 total time=  23.8s\n",
      "[CV 1/3] END ..C=100, gamma=0.01, kernel=linear;, score=0.791 total time= 1.3min\n",
      "[CV 2/3] END ..C=100, gamma=0.01, kernel=linear;, score=0.792 total time= 1.3min\n",
      "[CV 2/3] END ...C=100, gamma=0.1, kernel=linear;, score=0.792 total time= 1.2min\n",
      "[CV 1/3] END ...C=100, gamma=0.1, kernel=linear;, score=0.791 total time= 1.2min\n",
      "[CV 3/3] END ..C=100, gamma=0.01, kernel=linear;, score=0.798 total time= 1.3min\n",
      "[CV 3/3] END ...C=100, gamma=0.1, kernel=linear;, score=0.798 total time= 1.2min\n",
      "===> 2024-10-28 15:18:11.967228 | FINALIZADO FOLD 1 | TEMPO TOTAL 0:01:51.886193\n",
      "\n",
      "====> 2024-10-28 15:18:11.968013 | EXECUTANDO FOLD 2 \n",
      "Fitting 3 folds for each of 8 candidates, totalling 24 fits\n",
      "[CV 2/3] END ......C=10, gamma=0.01, kernel=rbf;, score=0.799 total time=  11.6s\n",
      "[CV 1/3] END ......C=10, gamma=0.01, kernel=rbf;, score=0.808 total time=  12.4s\n",
      "[CV 3/3] END ......C=10, gamma=0.01, kernel=rbf;, score=0.808 total time=  14.0s\n",
      "[CV 3/3] END .......C=10, gamma=0.1, kernel=rbf;, score=0.809 total time=  14.5s\n",
      "[CV 1/3] END .......C=10, gamma=0.1, kernel=rbf;, score=0.806 total time=  15.6s\n",
      "[CV 2/3] END .......C=10, gamma=0.1, kernel=rbf;, score=0.800 total time=  16.0s\n",
      "[CV 1/3] END ...C=10, gamma=0.01, kernel=linear;, score=0.798 total time=  22.4s\n",
      "[CV 2/3] END ...C=10, gamma=0.01, kernel=linear;, score=0.789 total time=  22.5s\n",
      "[CV 1/3] END ....C=10, gamma=0.1, kernel=linear;, score=0.798 total time=  22.6s\n",
      "[CV 3/3] END ...C=10, gamma=0.01, kernel=linear;, score=0.796 total time=  24.3s\n",
      "[CV 1/3] END .....C=100, gamma=0.01, kernel=rbf;, score=0.810 total time=  13.9s\n",
      "[CV 2/3] END ....C=10, gamma=0.1, kernel=linear;, score=0.789 total time=  25.8s\n",
      "[CV 3/3] END ....C=10, gamma=0.1, kernel=linear;, score=0.796 total time=  26.2s\n",
      "[CV 2/3] END .....C=100, gamma=0.01, kernel=rbf;, score=0.801 total time=  14.1s\n",
      "[CV 3/3] END .....C=100, gamma=0.01, kernel=rbf;, score=0.811 total time=  15.4s\n",
      "[CV 1/3] END ......C=100, gamma=0.1, kernel=rbf;, score=0.801 total time=  23.7s\n",
      "[CV 3/3] END ......C=100, gamma=0.1, kernel=rbf;, score=0.794 total time=  24.0s\n",
      "[CV 2/3] END ......C=100, gamma=0.1, kernel=rbf;, score=0.791 total time=  24.4s\n",
      "[CV 1/3] END ..C=100, gamma=0.01, kernel=linear;, score=0.798 total time= 1.3min\n",
      "[CV 2/3] END ..C=100, gamma=0.01, kernel=linear;, score=0.789 total time= 1.3min\n",
      "[CV 3/3] END ..C=100, gamma=0.01, kernel=linear;, score=0.796 total time= 1.3min\n",
      "[CV 1/3] END ...C=100, gamma=0.1, kernel=linear;, score=0.798 total time= 1.2min\n",
      "[CV 2/3] END ...C=100, gamma=0.1, kernel=linear;, score=0.789 total time= 1.2min\n",
      "[CV 3/3] END ...C=100, gamma=0.1, kernel=linear;, score=0.796 total time= 1.2min\n",
      "===> 2024-10-28 15:20:05.335700 | FINALIZADO FOLD 2 | TEMPO TOTAL 0:01:53.367687\n",
      "\n",
      "====> 2024-10-28 15:20:05.336102 | EXECUTANDO FOLD 3 \n",
      "Fitting 3 folds for each of 8 candidates, totalling 24 fits\n",
      "[CV 1/3] END ......C=10, gamma=0.01, kernel=rbf;, score=0.806 total time=  11.6s\n",
      "[CV 2/3] END ......C=10, gamma=0.01, kernel=rbf;, score=0.798 total time=  11.6s\n",
      "[CV 1/3] END .......C=10, gamma=0.1, kernel=rbf;, score=0.806 total time=  12.0s\n",
      "[CV 3/3] END ......C=10, gamma=0.01, kernel=rbf;, score=0.809 total time=  13.2s\n",
      "[CV 2/3] END .......C=10, gamma=0.1, kernel=rbf;, score=0.798 total time=  14.7s\n",
      "[CV 3/3] END .......C=10, gamma=0.1, kernel=rbf;, score=0.806 total time=  15.2s\n",
      "[CV 2/3] END ....C=10, gamma=0.1, kernel=linear;, score=0.789 total time=  21.1s\n",
      "[CV 1/3] END ...C=10, gamma=0.01, kernel=linear;, score=0.800 total time=  21.4s\n",
      "[CV 2/3] END ...C=10, gamma=0.01, kernel=linear;, score=0.789 total time=  22.4s\n",
      "[CV 3/3] END ...C=10, gamma=0.01, kernel=linear;, score=0.801 total time=  22.5s\n",
      "[CV 1/3] END ....C=10, gamma=0.1, kernel=linear;, score=0.800 total time=  23.4s\n",
      "[CV 3/3] END ....C=10, gamma=0.1, kernel=linear;, score=0.801 total time=  25.9s\n",
      "[CV 3/3] END .....C=100, gamma=0.01, kernel=rbf;, score=0.810 total time=  14.0s\n",
      "[CV 1/3] END .....C=100, gamma=0.01, kernel=rbf;, score=0.805 total time=  15.3s\n",
      "[CV 2/3] END .....C=100, gamma=0.01, kernel=rbf;, score=0.798 total time=  15.3s\n",
      "[CV 1/3] END ......C=100, gamma=0.1, kernel=rbf;, score=0.796 total time=  23.2s\n",
      "[CV 2/3] END ......C=100, gamma=0.1, kernel=rbf;, score=0.781 total time=  23.5s\n",
      "[CV 3/3] END ......C=100, gamma=0.1, kernel=rbf;, score=0.790 total time=  22.9s\n",
      "[CV 2/3] END ..C=100, gamma=0.01, kernel=linear;, score=0.789 total time= 1.2min\n",
      "[CV 1/3] END ..C=100, gamma=0.01, kernel=linear;, score=0.800 total time= 1.3min\n",
      "[CV 1/3] END ...C=100, gamma=0.1, kernel=linear;, score=0.800 total time= 1.2min\n",
      "[CV 3/3] END ..C=100, gamma=0.01, kernel=linear;, score=0.801 total time= 1.3min\n",
      "[CV 2/3] END ...C=100, gamma=0.1, kernel=linear;, score=0.789 total time= 1.2min\n",
      "[CV 3/3] END ...C=100, gamma=0.1, kernel=linear;, score=0.801 total time= 1.2min\n",
      "===> 2024-10-28 15:21:55.897489 | FINALIZADO FOLD 3 | TEMPO TOTAL 0:01:50.561387\n",
      "\n",
      "====> 2024-10-28 15:21:55.897912 | EXECUTANDO FOLD 4 \n",
      "Fitting 3 folds for each of 8 candidates, totalling 24 fits\n",
      "[CV 1/3] END ......C=10, gamma=0.01, kernel=rbf;, score=0.806 total time=   8.8s\n",
      "[CV 2/3] END ......C=10, gamma=0.01, kernel=rbf;, score=0.803 total time=  10.0s\n",
      "[CV 3/3] END ......C=10, gamma=0.01, kernel=rbf;, score=0.806 total time=  10.3s\n",
      "[CV 1/3] END .......C=10, gamma=0.1, kernel=rbf;, score=0.805 total time=  12.4s\n",
      "[CV 3/3] END .......C=10, gamma=0.1, kernel=rbf;, score=0.805 total time=  12.7s\n",
      "[CV 2/3] END .......C=10, gamma=0.1, kernel=rbf;, score=0.806 total time=  17.2s\n",
      "[CV 1/3] END .....C=100, gamma=0.01, kernel=rbf;, score=0.804 total time=  13.7s\n",
      "[CV 2/3] END ...C=10, gamma=0.01, kernel=linear;, score=0.793 total time=  22.9s\n",
      "[CV 2/3] END ....C=10, gamma=0.1, kernel=linear;, score=0.793 total time=  23.3s\n",
      "[CV 3/3] END ....C=10, gamma=0.1, kernel=linear;, score=0.800 total time=  24.2s\n",
      "[CV 3/3] END ...C=10, gamma=0.01, kernel=linear;, score=0.800 total time=  24.2s\n",
      "[CV 1/3] END ...C=10, gamma=0.01, kernel=linear;, score=0.798 total time=  25.2s\n",
      "[CV 2/3] END .....C=100, gamma=0.01, kernel=rbf;, score=0.803 total time=  15.1s\n",
      "[CV 3/3] END .....C=100, gamma=0.01, kernel=rbf;, score=0.810 total time=  15.7s\n",
      "[CV 1/3] END ....C=10, gamma=0.1, kernel=linear;, score=0.798 total time=  26.2s\n",
      "[CV 1/3] END ......C=100, gamma=0.1, kernel=rbf;, score=0.793 total time=  22.1s\n",
      "[CV 2/3] END ......C=100, gamma=0.1, kernel=rbf;, score=0.796 total time=  22.5s\n",
      "[CV 3/3] END ......C=100, gamma=0.1, kernel=rbf;, score=0.792 total time=  22.2s\n",
      "[CV 1/3] END ..C=100, gamma=0.01, kernel=linear;, score=0.798 total time= 1.3min\n",
      "[CV 2/3] END ..C=100, gamma=0.01, kernel=linear;, score=0.793 total time= 1.3min\n",
      "[CV 1/3] END ...C=100, gamma=0.1, kernel=linear;, score=0.798 total time= 1.2min\n",
      "[CV 3/3] END ..C=100, gamma=0.01, kernel=linear;, score=0.800 total time= 1.3min\n",
      "[CV 2/3] END ...C=100, gamma=0.1, kernel=linear;, score=0.793 total time= 1.2min\n",
      "[CV 3/3] END ...C=100, gamma=0.1, kernel=linear;, score=0.800 total time= 1.2min\n",
      "===> 2024-10-28 15:23:45.250356 | FINALIZADO FOLD 4 | TEMPO TOTAL 0:01:49.352444\n",
      "\n",
      "====> 2024-10-28 15:23:45.251250 | EXECUTANDO FOLD 5 \n",
      "Fitting 3 folds for each of 8 candidates, totalling 24 fits\n",
      "[CV 3/3] END ......C=10, gamma=0.01, kernel=rbf;, score=0.795 total time=  12.7s\n",
      "[CV 2/3] END ......C=10, gamma=0.01, kernel=rbf;, score=0.800 total time=  13.3s\n",
      "[CV 1/3] END ......C=10, gamma=0.01, kernel=rbf;, score=0.805 total time=  13.3s\n",
      "[CV 1/3] END .......C=10, gamma=0.1, kernel=rbf;, score=0.802 total time=  13.5s\n",
      "[CV 3/3] END .......C=10, gamma=0.1, kernel=rbf;, score=0.798 total time=  14.9s\n",
      "[CV 2/3] END .......C=10, gamma=0.1, kernel=rbf;, score=0.804 total time=  15.1s\n",
      "[CV 1/3] END ...C=10, gamma=0.01, kernel=linear;, score=0.796 total time=  22.8s\n",
      "[CV 2/3] END ...C=10, gamma=0.01, kernel=linear;, score=0.789 total time=  23.1s\n",
      "[CV 1/3] END ....C=10, gamma=0.1, kernel=linear;, score=0.796 total time=  24.6s\n",
      "[CV 3/3] END ...C=10, gamma=0.01, kernel=linear;, score=0.787 total time=  25.0s\n",
      "[CV 1/3] END .....C=100, gamma=0.01, kernel=rbf;, score=0.803 total time=  14.5s\n",
      "[CV 3/3] END ....C=10, gamma=0.1, kernel=linear;, score=0.787 total time=  27.8s\n",
      "[CV 2/3] END ....C=10, gamma=0.1, kernel=linear;, score=0.789 total time=  27.8s\n",
      "[CV 3/3] END .....C=100, gamma=0.01, kernel=rbf;, score=0.799 total time=  14.7s\n",
      "[CV 2/3] END .....C=100, gamma=0.01, kernel=rbf;, score=0.802 total time=  14.9s\n",
      "[CV 1/3] END ......C=100, gamma=0.1, kernel=rbf;, score=0.792 total time=  24.8s\n",
      "[CV 2/3] END ......C=100, gamma=0.1, kernel=rbf;, score=0.790 total time=  25.3s\n",
      "[CV 3/3] END ......C=100, gamma=0.1, kernel=rbf;, score=0.788 total time=  24.4s\n",
      "[CV 3/3] END ..C=100, gamma=0.01, kernel=linear;, score=0.788 total time= 1.2min\n",
      "[CV 1/3] END ..C=100, gamma=0.01, kernel=linear;, score=0.796 total time= 1.3min\n",
      "[CV 2/3] END ..C=100, gamma=0.01, kernel=linear;, score=0.789 total time= 1.3min\n",
      "[CV 3/3] END ...C=100, gamma=0.1, kernel=linear;, score=0.788 total time= 1.1min\n",
      "[CV 1/3] END ...C=100, gamma=0.1, kernel=linear;, score=0.796 total time= 1.2min\n",
      "[CV 2/3] END ...C=100, gamma=0.1, kernel=linear;, score=0.789 total time= 1.2min\n",
      "===> 2024-10-28 15:25:38.339369 | FINALIZADO FOLD 5 | TEMPO TOTAL 0:01:53.088119\n",
      "\n",
      "Resultados na validação cruzada: {'f1': 0.8029166127376863, 'accuracy': 0.8029576503527072, 'precision': 0.8032106265868075, 'recall': 0.8029574379408679}\n",
      "Resultados na base de teste: {'f1': 0.7493594007187637, 'accuracy': 0.7969159872385679, 'precision': 0.7323015245522072, 'recall': 0.8053282623345484}\n",
      "Melhores parâmetros escolhidos: {'C': 100, 'gamma': 0.01, 'kernel': 'rbf'}\n"
     ]
    }
   ],
   "source": [
    "param_grid_categorical = {\n",
    "    'C': [10, 100],\n",
    "    'kernel': ['rbf', 'linear'],\n",
    "    'gamma': [0.01, 0.1]\n",
    "}\n",
    "\n",
    "caracteristicas_filtro = [\n",
    "    \"Humidity3pm\",\n",
    "    \"Cloud3pm\",\n",
    "    \"Sunshine\",\n",
    "    \"Rainfall\",\n",
    "    \"Pressure3pm\",\n",
    "    \"Cloud9am\",\n",
    "    \"WindGustSpeed\",\n",
    "    \"RangeTemp\",\n",
    "    \"Humidity9am\",\n",
    "    \"MinTemp\",\n",
    "]\n",
    "\n",
    "# Executar a função e obter os melhores parâmetros\n",
    "results_validation, results_test, best_params, results_list_rd = run_cross_validation(\n",
    "    df_train[caracteristicas_filtro],\n",
    "    df_train[\"RainTomorrow\"],\n",
    "    df_test[caracteristicas_filtro],\n",
    "    df_test[\"RainTomorrow\"],\n",
    "    SVC(random_state=42),\n",
    "    param_grid_categorical,\n",
    "    k_folds=5,\n",
    ")\n",
    "\n",
    "print(\"Resultados na validação cruzada:\", results_validation)\n",
    "print(\"Resultados na base de teste:\", results_test)\n",
    "print(\"Melhores parâmetros escolhidos:\", best_params)"
   ]
  },
  {
   "cell_type": "code",
   "execution_count": 52,
   "metadata": {},
   "outputs": [
    {
     "data": {
      "text/html": [
       "<div>\n",
       "<style scoped>\n",
       "    .dataframe tbody tr th:only-of-type {\n",
       "        vertical-align: middle;\n",
       "    }\n",
       "\n",
       "    .dataframe tbody tr th {\n",
       "        vertical-align: top;\n",
       "    }\n",
       "\n",
       "    .dataframe thead th {\n",
       "        text-align: right;\n",
       "    }\n",
       "</style>\n",
       "<table border=\"1\" class=\"dataframe\">\n",
       "  <thead>\n",
       "    <tr style=\"text-align: right;\">\n",
       "      <th></th>\n",
       "      <th>f1</th>\n",
       "      <th>accuracy</th>\n",
       "      <th>precision</th>\n",
       "      <th>recall</th>\n",
       "      <th>dataset</th>\n",
       "    </tr>\n",
       "  </thead>\n",
       "  <tbody>\n",
       "    <tr>\n",
       "      <th>0</th>\n",
       "      <td>0.804544</td>\n",
       "      <td>0.804627</td>\n",
       "      <td>0.805157</td>\n",
       "      <td>0.804632</td>\n",
       "      <td>Validação Cruzada</td>\n",
       "    </tr>\n",
       "    <tr>\n",
       "      <th>1</th>\n",
       "      <td>0.800349</td>\n",
       "      <td>0.800352</td>\n",
       "      <td>0.800371</td>\n",
       "      <td>0.800353</td>\n",
       "      <td>Validação Cruzada</td>\n",
       "    </tr>\n",
       "    <tr>\n",
       "      <th>2</th>\n",
       "      <td>0.799052</td>\n",
       "      <td>0.799095</td>\n",
       "      <td>0.799341</td>\n",
       "      <td>0.799091</td>\n",
       "      <td>Validação Cruzada</td>\n",
       "    </tr>\n",
       "    <tr>\n",
       "      <th>3</th>\n",
       "      <td>0.797793</td>\n",
       "      <td>0.797838</td>\n",
       "      <td>0.798092</td>\n",
       "      <td>0.797834</td>\n",
       "      <td>Validação Cruzada</td>\n",
       "    </tr>\n",
       "    <tr>\n",
       "      <th>4</th>\n",
       "      <td>0.812845</td>\n",
       "      <td>0.812877</td>\n",
       "      <td>0.813091</td>\n",
       "      <td>0.812877</td>\n",
       "      <td>Validação Cruzada</td>\n",
       "    </tr>\n",
       "    <tr>\n",
       "      <th>0</th>\n",
       "      <td>0.747668</td>\n",
       "      <td>0.794842</td>\n",
       "      <td>0.730967</td>\n",
       "      <td>0.804923</td>\n",
       "      <td>Teste</td>\n",
       "    </tr>\n",
       "    <tr>\n",
       "      <th>1</th>\n",
       "      <td>0.749587</td>\n",
       "      <td>0.797678</td>\n",
       "      <td>0.732350</td>\n",
       "      <td>0.804286</td>\n",
       "      <td>Teste</td>\n",
       "    </tr>\n",
       "    <tr>\n",
       "      <th>2</th>\n",
       "      <td>0.749771</td>\n",
       "      <td>0.796437</td>\n",
       "      <td>0.732887</td>\n",
       "      <td>0.807678</td>\n",
       "      <td>Teste</td>\n",
       "    </tr>\n",
       "    <tr>\n",
       "      <th>3</th>\n",
       "      <td>0.748566</td>\n",
       "      <td>0.796172</td>\n",
       "      <td>0.731602</td>\n",
       "      <td>0.804620</td>\n",
       "      <td>Teste</td>\n",
       "    </tr>\n",
       "    <tr>\n",
       "      <th>4</th>\n",
       "      <td>0.751206</td>\n",
       "      <td>0.799451</td>\n",
       "      <td>0.733702</td>\n",
       "      <td>0.805134</td>\n",
       "      <td>Teste</td>\n",
       "    </tr>\n",
       "  </tbody>\n",
       "</table>\n",
       "</div>"
      ],
      "text/plain": [
       "         f1  accuracy  precision    recall            dataset\n",
       "0  0.804544  0.804627   0.805157  0.804632  Validação Cruzada\n",
       "1  0.800349  0.800352   0.800371  0.800353  Validação Cruzada\n",
       "2  0.799052  0.799095   0.799341  0.799091  Validação Cruzada\n",
       "3  0.797793  0.797838   0.798092  0.797834  Validação Cruzada\n",
       "4  0.812845  0.812877   0.813091  0.812877  Validação Cruzada\n",
       "0  0.747668  0.794842   0.730967  0.804923              Teste\n",
       "1  0.749587  0.797678   0.732350  0.804286              Teste\n",
       "2  0.749771  0.796437   0.732887  0.807678              Teste\n",
       "3  0.748566  0.796172   0.731602  0.804620              Teste\n",
       "4  0.751206  0.799451   0.733702  0.805134              Teste"
      ]
     },
     "execution_count": 52,
     "metadata": {},
     "output_type": "execute_result"
    }
   ],
   "source": [
    "results_list_rd"
   ]
  },
  {
   "cell_type": "code",
   "execution_count": null,
   "metadata": {},
   "outputs": [],
   "source": []
  },
  {
   "cell_type": "markdown",
   "metadata": {},
   "source": [
    "## MLP"
   ]
  },
  {
   "cell_type": "markdown",
   "metadata": {},
   "source": [
    "### TODAS AS CARACTERÍSTICAS"
   ]
  },
  {
   "cell_type": "code",
   "execution_count": 44,
   "metadata": {},
   "outputs": [],
   "source": [
    "df_train.to_csv(\"../DATA/df_train.csv\", sep='|', index=False)\n",
    "df_test.to_csv(\"../DATA/df_test.csv\", sep='|', index=False)\n",
    "\n",
    "df_train_pca.to_csv(\"../DATA/df_train_pca.csv\", sep='|', index=False)\n",
    "df_test_pca.to_csv(\"../DATA/df_test_pca.csv\", sep='|', index=False)"
   ]
  },
  {
   "cell_type": "code",
   "execution_count": null,
   "metadata": {},
   "outputs": [],
   "source": []
  },
  {
   "cell_type": "code",
   "execution_count": 53,
   "metadata": {},
   "outputs": [
    {
     "name": "stdout",
     "output_type": "stream",
     "text": [
      "====> INICIANDO PROCESSAMENTO: 2024-10-28 15:25:38.447860 <====\n",
      "====> 2024-10-28 15:25:38.451327 | EXECUTANDO FOLD 1 \n",
      "Fitting 3 folds for each of 24 candidates, totalling 72 fits\n"
     ]
    },
    {
     "name": "stdout",
     "output_type": "stream",
     "text": [
      "[CV 3/3] END activation=logistic, hidden_layer_sizes=5, learning_rate_init=0.05;, score=0.799 total time=   3.7s\n",
      "[CV 2/3] END activation=logistic, hidden_layer_sizes=5, learning_rate_init=0.05;, score=0.798 total time=   3.9s\n",
      "[CV 1/3] END activation=logistic, hidden_layer_sizes=5, learning_rate_init=0.1;, score=0.799 total time=   4.6s\n",
      "[CV 3/3] END activation=logistic, hidden_layer_sizes=5, learning_rate_init=0.01;, score=0.805 total time=   4.9s\n",
      "[CV 1/3] END activation=logistic, hidden_layer_sizes=5, learning_rate_init=0.05;, score=0.804 total time=   5.0s\n",
      "[CV 3/3] END activation=logistic, hidden_layer_sizes=5, learning_rate_init=0.1;, score=0.806 total time=   5.0s\n",
      "[CV 2/3] END activation=logistic, hidden_layer_sizes=5, learning_rate_init=0.1;, score=0.804 total time=   5.8s\n",
      "[CV 1/3] END activation=logistic, hidden_layer_sizes=5, learning_rate_init=0.01;, score=0.803 total time=   8.3s\n",
      "[CV 2/3] END activation=logistic, hidden_layer_sizes=5, learning_rate_init=0.01;, score=0.805 total time=   8.4s\n",
      "[CV 3/3] END activation=logistic, hidden_layer_sizes=5, learning_rate_init=0.001;, score=0.804 total time=  11.3s\n",
      "[CV 2/3] END activation=logistic, hidden_layer_sizes=5, learning_rate_init=0.001;, score=0.804 total time=  12.0s\n",
      "[CV 1/3] END activation=logistic, hidden_layer_sizes=5, learning_rate_init=0.001;, score=0.808 total time=  12.1s\n"
     ]
    },
    {
     "name": "stderr",
     "output_type": "stream",
     "text": [
      "/root/.cache/pypoetry/virtualenvs/sin5007-lcGWJnmY-py3.11/lib/python3.11/site-packages/sklearn/neural_network/_multilayer_perceptron.py:690: ConvergenceWarning: Stochastic Optimizer: Maximum iterations (200) reached and the optimization hasn't converged yet.\n",
      "  warnings.warn(\n"
     ]
    },
    {
     "name": "stdout",
     "output_type": "stream",
     "text": [
      "[CV 2/3] END activation=logistic, hidden_layer_sizes=10, learning_rate_init=0.05;, score=0.790 total time=   6.4s\n",
      "[CV 1/3] END activation=logistic, hidden_layer_sizes=10, learning_rate_init=0.05;, score=0.802 total time=   9.3s\n"
     ]
    },
    {
     "name": "stderr",
     "output_type": "stream",
     "text": [
      "/root/.cache/pypoetry/virtualenvs/sin5007-lcGWJnmY-py3.11/lib/python3.11/site-packages/sklearn/neural_network/_multilayer_perceptron.py:690: ConvergenceWarning: Stochastic Optimizer: Maximum iterations (200) reached and the optimization hasn't converged yet.\n",
      "  warnings.warn(\n",
      "/root/.cache/pypoetry/virtualenvs/sin5007-lcGWJnmY-py3.11/lib/python3.11/site-packages/sklearn/neural_network/_multilayer_perceptron.py:690: ConvergenceWarning: Stochastic Optimizer: Maximum iterations (200) reached and the optimization hasn't converged yet.\n",
      "  warnings.warn(\n"
     ]
    },
    {
     "name": "stdout",
     "output_type": "stream",
     "text": [
      "[CV 1/3] END activation=logistic, hidden_layer_sizes=10, learning_rate_init=0.001;, score=0.810 total time=  12.7s\n",
      "[CV 2/3] END activation=logistic, hidden_layer_sizes=10, learning_rate_init=0.001;, score=0.807 total time=  12.6s\n",
      "[CV 3/3] END activation=logistic, hidden_layer_sizes=10, learning_rate_init=0.05;, score=0.791 total time=   8.2s\n",
      "[CV 3/3] END activation=logistic, hidden_layer_sizes=10, learning_rate_init=0.1;, score=0.794 total time=   4.5s\n",
      "[CV 2/3] END activation=logistic, hidden_layer_sizes=10, learning_rate_init=0.01;, score=0.798 total time=  11.7s\n",
      "[CV 1/3] END activation=logistic, hidden_layer_sizes=10, learning_rate_init=0.1;, score=0.792 total time=   5.5s\n",
      "[CV 1/3] END activation=logistic, hidden_layer_sizes=10, learning_rate_init=0.01;, score=0.803 total time=  12.3s\n"
     ]
    },
    {
     "name": "stderr",
     "output_type": "stream",
     "text": [
      "/root/.cache/pypoetry/virtualenvs/sin5007-lcGWJnmY-py3.11/lib/python3.11/site-packages/sklearn/neural_network/_multilayer_perceptron.py:690: ConvergenceWarning: Stochastic Optimizer: Maximum iterations (200) reached and the optimization hasn't converged yet.\n",
      "  warnings.warn(\n"
     ]
    },
    {
     "name": "stdout",
     "output_type": "stream",
     "text": [
      "[CV 3/3] END activation=logistic, hidden_layer_sizes=10, learning_rate_init=0.01;, score=0.794 total time=  12.8s\n",
      "[CV 2/3] END activation=logistic, hidden_layer_sizes=10, learning_rate_init=0.1;, score=0.795 total time=   6.2s\n"
     ]
    },
    {
     "name": "stderr",
     "output_type": "stream",
     "text": [
      "/root/.cache/pypoetry/virtualenvs/sin5007-lcGWJnmY-py3.11/lib/python3.11/site-packages/sklearn/neural_network/_multilayer_perceptron.py:690: ConvergenceWarning: Stochastic Optimizer: Maximum iterations (200) reached and the optimization hasn't converged yet.\n",
      "  warnings.warn(\n"
     ]
    },
    {
     "name": "stdout",
     "output_type": "stream",
     "text": [
      "[CV 3/3] END activation=logistic, hidden_layer_sizes=10, learning_rate_init=0.001;, score=0.805 total time=  14.3s\n",
      "[CV 2/3] END activation=logistic, hidden_layer_sizes=15, learning_rate_init=0.05;, score=0.790 total time=   6.3s\n",
      "[CV 3/3] END activation=logistic, hidden_layer_sizes=15, learning_rate_init=0.1;, score=0.797 total time=   5.1s\n",
      "[CV 1/3] END activation=logistic, hidden_layer_sizes=15, learning_rate_init=0.1;, score=0.788 total time=   6.2s\n",
      "[CV 1/3] END activation=logistic, hidden_layer_sizes=15, learning_rate_init=0.05;, score=0.790 total time=   7.6s\n",
      "[CV 3/3] END activation=logistic, hidden_layer_sizes=15, learning_rate_init=0.05;, score=0.782 total time=   8.7s\n",
      "[CV 2/3] END activation=logistic, hidden_layer_sizes=15, learning_rate_init=0.1;, score=0.795 total time=   7.8s\n"
     ]
    },
    {
     "name": "stderr",
     "output_type": "stream",
     "text": [
      "/root/.cache/pypoetry/virtualenvs/sin5007-lcGWJnmY-py3.11/lib/python3.11/site-packages/sklearn/neural_network/_multilayer_perceptron.py:690: ConvergenceWarning: Stochastic Optimizer: Maximum iterations (200) reached and the optimization hasn't converged yet.\n",
      "  warnings.warn(\n",
      "/root/.cache/pypoetry/virtualenvs/sin5007-lcGWJnmY-py3.11/lib/python3.11/site-packages/sklearn/neural_network/_multilayer_perceptron.py:690: ConvergenceWarning: Stochastic Optimizer: Maximum iterations (200) reached and the optimization hasn't converged yet.\n",
      "  warnings.warn(\n"
     ]
    },
    {
     "name": "stdout",
     "output_type": "stream",
     "text": [
      "[CV 1/3] END activation=logistic, hidden_layer_sizes=15, learning_rate_init=0.001;, score=0.807 total time=  16.5s\n",
      "[CV 2/3] END activation=logistic, hidden_layer_sizes=15, learning_rate_init=0.01;, score=0.788 total time=  14.7s\n"
     ]
    },
    {
     "name": "stderr",
     "output_type": "stream",
     "text": [
      "/root/.cache/pypoetry/virtualenvs/sin5007-lcGWJnmY-py3.11/lib/python3.11/site-packages/sklearn/neural_network/_multilayer_perceptron.py:690: ConvergenceWarning: Stochastic Optimizer: Maximum iterations (200) reached and the optimization hasn't converged yet.\n",
      "  warnings.warn(\n",
      "/root/.cache/pypoetry/virtualenvs/sin5007-lcGWJnmY-py3.11/lib/python3.11/site-packages/sklearn/neural_network/_multilayer_perceptron.py:690: ConvergenceWarning: Stochastic Optimizer: Maximum iterations (200) reached and the optimization hasn't converged yet.\n",
      "  warnings.warn(\n"
     ]
    },
    {
     "name": "stdout",
     "output_type": "stream",
     "text": [
      "[CV 1/3] END activation=logistic, hidden_layer_sizes=15, learning_rate_init=0.01;, score=0.784 total time=  14.9s\n",
      "[CV 3/3] END activation=logistic, hidden_layer_sizes=15, learning_rate_init=0.001;, score=0.805 total time=  15.1s\n",
      "[CV 2/3] END activation=relu, hidden_layer_sizes=5, learning_rate_init=0.01;, score=0.801 total time=   5.8s\n",
      "[CV 3/3] END activation=logistic, hidden_layer_sizes=15, learning_rate_init=0.01;, score=0.791 total time=  15.3s\n"
     ]
    },
    {
     "name": "stderr",
     "output_type": "stream",
     "text": [
      "/root/.cache/pypoetry/virtualenvs/sin5007-lcGWJnmY-py3.11/lib/python3.11/site-packages/sklearn/neural_network/_multilayer_perceptron.py:690: ConvergenceWarning: Stochastic Optimizer: Maximum iterations (200) reached and the optimization hasn't converged yet.\n",
      "  warnings.warn(\n",
      "/root/.cache/pypoetry/virtualenvs/sin5007-lcGWJnmY-py3.11/lib/python3.11/site-packages/sklearn/neural_network/_multilayer_perceptron.py:690: ConvergenceWarning: Stochastic Optimizer: Maximum iterations (200) reached and the optimization hasn't converged yet.\n",
      "  warnings.warn(\n"
     ]
    },
    {
     "name": "stdout",
     "output_type": "stream",
     "text": [
      "[CV 2/3] END activation=logistic, hidden_layer_sizes=15, learning_rate_init=0.001;, score=0.804 total time=  16.8s\n",
      "[CV 1/3] END activation=relu, hidden_layer_sizes=5, learning_rate_init=0.01;, score=0.801 total time=   7.9s\n",
      "[CV 1/3] END activation=relu, hidden_layer_sizes=5, learning_rate_init=0.1;, score=0.802 total time=   1.9s\n",
      "[CV 2/3] END activation=relu, hidden_layer_sizes=5, learning_rate_init=0.1;, score=0.804 total time=   2.3s\n",
      "[CV 1/3] END activation=relu, hidden_layer_sizes=5, learning_rate_init=0.05;, score=0.810 total time=   3.0s\n",
      "[CV 1/3] END activation=relu, hidden_layer_sizes=5, learning_rate_init=0.001;, score=0.804 total time=  11.2s\n",
      "[CV 3/3] END activation=relu, hidden_layer_sizes=5, learning_rate_init=0.05;, score=0.803 total time=   3.4s\n",
      "[CV 2/3] END activation=relu, hidden_layer_sizes=5, learning_rate_init=0.05;, score=0.801 total time=   3.9s\n",
      "[CV 3/3] END activation=relu, hidden_layer_sizes=5, learning_rate_init=0.1;, score=0.807 total time=   3.5s\n",
      "[CV 3/3] END activation=relu, hidden_layer_sizes=5, learning_rate_init=0.01;, score=0.801 total time=  10.4s\n",
      "[CV 3/3] END activation=relu, hidden_layer_sizes=5, learning_rate_init=0.001;, score=0.804 total time=  12.9s\n",
      "[CV 2/3] END activation=relu, hidden_layer_sizes=5, learning_rate_init=0.001;, score=0.799 total time=  13.5s\n",
      "[CV 1/3] END activation=relu, hidden_layer_sizes=10, learning_rate_init=0.05;, score=0.796 total time=   3.1s\n",
      "[CV 2/3] END activation=relu, hidden_layer_sizes=10, learning_rate_init=0.05;, score=0.796 total time=   3.5s\n",
      "[CV 1/3] END activation=relu, hidden_layer_sizes=10, learning_rate_init=0.01;, score=0.803 total time=   5.3s\n",
      "[CV 3/3] END activation=relu, hidden_layer_sizes=10, learning_rate_init=0.05;, score=0.802 total time=   4.3s\n",
      "[CV 2/3] END activation=relu, hidden_layer_sizes=10, learning_rate_init=0.1;, score=0.808 total time=   3.6s\n",
      "[CV 2/3] END activation=relu, hidden_layer_sizes=10, learning_rate_init=0.01;, score=0.799 total time=   6.5s\n",
      "[CV 1/3] END activation=relu, hidden_layer_sizes=10, learning_rate_init=0.1;, score=0.810 total time=   4.5s\n",
      "[CV 3/3] END activation=relu, hidden_layer_sizes=10, learning_rate_init=0.01;, score=0.804 total time=   7.3s\n",
      "[CV 3/3] END activation=relu, hidden_layer_sizes=10, learning_rate_init=0.1;, score=0.810 total time=   4.6s\n"
     ]
    },
    {
     "name": "stderr",
     "output_type": "stream",
     "text": [
      "/root/.cache/pypoetry/virtualenvs/sin5007-lcGWJnmY-py3.11/lib/python3.11/site-packages/sklearn/neural_network/_multilayer_perceptron.py:690: ConvergenceWarning: Stochastic Optimizer: Maximum iterations (200) reached and the optimization hasn't converged yet.\n",
      "  warnings.warn(\n"
     ]
    },
    {
     "name": "stdout",
     "output_type": "stream",
     "text": [
      "[CV 2/3] END activation=relu, hidden_layer_sizes=10, learning_rate_init=0.001;, score=0.803 total time=  12.0s\n"
     ]
    },
    {
     "name": "stderr",
     "output_type": "stream",
     "text": [
      "/root/.cache/pypoetry/virtualenvs/sin5007-lcGWJnmY-py3.11/lib/python3.11/site-packages/sklearn/neural_network/_multilayer_perceptron.py:690: ConvergenceWarning: Stochastic Optimizer: Maximum iterations (200) reached and the optimization hasn't converged yet.\n",
      "  warnings.warn(\n",
      "/root/.cache/pypoetry/virtualenvs/sin5007-lcGWJnmY-py3.11/lib/python3.11/site-packages/sklearn/neural_network/_multilayer_perceptron.py:690: ConvergenceWarning: Stochastic Optimizer: Maximum iterations (200) reached and the optimization hasn't converged yet.\n",
      "  warnings.warn(\n"
     ]
    },
    {
     "name": "stdout",
     "output_type": "stream",
     "text": [
      "[CV 1/3] END activation=relu, hidden_layer_sizes=10, learning_rate_init=0.001;, score=0.808 total time=  13.7s\n",
      "[CV 3/3] END activation=relu, hidden_layer_sizes=10, learning_rate_init=0.001;, score=0.800 total time=  12.3s\n",
      "[CV 2/3] END activation=relu, hidden_layer_sizes=15, learning_rate_init=0.05;, score=0.798 total time=   4.4s\n",
      "[CV 2/3] END activation=relu, hidden_layer_sizes=15, learning_rate_init=0.01;, score=0.806 total time=   5.9s\n",
      "[CV 1/3] END activation=relu, hidden_layer_sizes=15, learning_rate_init=0.05;, score=0.798 total time=   6.0s\n",
      "[CV 1/3] END activation=relu, hidden_layer_sizes=15, learning_rate_init=0.1;, score=0.804 total time=   3.0s\n",
      "[CV 3/3] END activation=relu, hidden_layer_sizes=15, learning_rate_init=0.01;, score=0.801 total time=   7.2s\n",
      "[CV 3/3] END activation=relu, hidden_layer_sizes=15, learning_rate_init=0.1;, score=0.798 total time=   2.3s\n",
      "[CV 1/3] END activation=relu, hidden_layer_sizes=15, learning_rate_init=0.01;, score=0.802 total time=   8.4s\n",
      "[CV 3/3] END activation=relu, hidden_layer_sizes=15, learning_rate_init=0.05;, score=0.803 total time=   5.9s\n",
      "[CV 2/3] END activation=relu, hidden_layer_sizes=15, learning_rate_init=0.1;, score=0.804 total time=   3.5s\n"
     ]
    },
    {
     "name": "stderr",
     "output_type": "stream",
     "text": [
      "/root/.cache/pypoetry/virtualenvs/sin5007-lcGWJnmY-py3.11/lib/python3.11/site-packages/sklearn/neural_network/_multilayer_perceptron.py:690: ConvergenceWarning: Stochastic Optimizer: Maximum iterations (200) reached and the optimization hasn't converged yet.\n",
      "  warnings.warn(\n",
      "/root/.cache/pypoetry/virtualenvs/sin5007-lcGWJnmY-py3.11/lib/python3.11/site-packages/sklearn/neural_network/_multilayer_perceptron.py:690: ConvergenceWarning: Stochastic Optimizer: Maximum iterations (200) reached and the optimization hasn't converged yet.\n",
      "  warnings.warn(\n"
     ]
    },
    {
     "name": "stdout",
     "output_type": "stream",
     "text": [
      "[CV 1/3] END activation=relu, hidden_layer_sizes=15, learning_rate_init=0.001;, score=0.808 total time=  11.5s\n",
      "[CV 2/3] END activation=relu, hidden_layer_sizes=15, learning_rate_init=0.001;, score=0.803 total time=  11.0s\n"
     ]
    },
    {
     "name": "stderr",
     "output_type": "stream",
     "text": [
      "/root/.cache/pypoetry/virtualenvs/sin5007-lcGWJnmY-py3.11/lib/python3.11/site-packages/sklearn/neural_network/_multilayer_perceptron.py:690: ConvergenceWarning: Stochastic Optimizer: Maximum iterations (200) reached and the optimization hasn't converged yet.\n",
      "  warnings.warn(\n"
     ]
    },
    {
     "name": "stdout",
     "output_type": "stream",
     "text": [
      "[CV 3/3] END activation=relu, hidden_layer_sizes=15, learning_rate_init=0.001;, score=0.806 total time=  10.6s\n",
      "===> 2024-10-28 15:26:30.055950 | FINALIZADO FOLD 1 | TEMPO TOTAL 0:00:51.604623\n",
      "\n",
      "====> 2024-10-28 15:26:30.056482 | EXECUTANDO FOLD 2 \n",
      "Fitting 3 folds for each of 24 candidates, totalling 72 fits\n",
      "[CV 3/3] END activation=logistic, hidden_layer_sizes=5, learning_rate_init=0.1;, score=0.801 total time=   2.7s\n",
      "[CV 2/3] END activation=logistic, hidden_layer_sizes=5, learning_rate_init=0.1;, score=0.802 total time=   3.9s\n",
      "[CV 1/3] END activation=logistic, hidden_layer_sizes=5, learning_rate_init=0.1;, score=0.797 total time=   4.2s\n",
      "[CV 3/3] END activation=logistic, hidden_layer_sizes=5, learning_rate_init=0.05;, score=0.796 total time=   5.0s\n",
      "[CV 1/3] END activation=logistic, hidden_layer_sizes=5, learning_rate_init=0.05;, score=0.797 total time=   5.2s\n",
      "[CV 2/3] END activation=logistic, hidden_layer_sizes=5, learning_rate_init=0.05;, score=0.801 total time=   5.8s\n",
      "[CV 1/3] END activation=logistic, hidden_layer_sizes=5, learning_rate_init=0.01;, score=0.796 total time=   6.9s\n",
      "[CV 2/3] END activation=logistic, hidden_layer_sizes=5, learning_rate_init=0.01;, score=0.802 total time=   7.1s\n",
      "[CV 3/3] END activation=logistic, hidden_layer_sizes=5, learning_rate_init=0.01;, score=0.797 total time=   7.5s\n"
     ]
    },
    {
     "name": "stderr",
     "output_type": "stream",
     "text": [
      "/root/.cache/pypoetry/virtualenvs/sin5007-lcGWJnmY-py3.11/lib/python3.11/site-packages/sklearn/neural_network/_multilayer_perceptron.py:690: ConvergenceWarning: Stochastic Optimizer: Maximum iterations (200) reached and the optimization hasn't converged yet.\n",
      "  warnings.warn(\n"
     ]
    },
    {
     "name": "stdout",
     "output_type": "stream",
     "text": [
      "[CV 1/3] END activation=logistic, hidden_layer_sizes=5, learning_rate_init=0.001;, score=0.796 total time=  11.5s\n"
     ]
    },
    {
     "name": "stderr",
     "output_type": "stream",
     "text": [
      "/root/.cache/pypoetry/virtualenvs/sin5007-lcGWJnmY-py3.11/lib/python3.11/site-packages/sklearn/neural_network/_multilayer_perceptron.py:690: ConvergenceWarning: Stochastic Optimizer: Maximum iterations (200) reached and the optimization hasn't converged yet.\n",
      "  warnings.warn(\n"
     ]
    },
    {
     "name": "stdout",
     "output_type": "stream",
     "text": [
      "[CV 2/3] END activation=logistic, hidden_layer_sizes=5, learning_rate_init=0.001;, score=0.806 total time=  13.5s\n"
     ]
    },
    {
     "name": "stderr",
     "output_type": "stream",
     "text": [
      "/root/.cache/pypoetry/virtualenvs/sin5007-lcGWJnmY-py3.11/lib/python3.11/site-packages/sklearn/neural_network/_multilayer_perceptron.py:690: ConvergenceWarning: Stochastic Optimizer: Maximum iterations (200) reached and the optimization hasn't converged yet.\n",
      "  warnings.warn(\n"
     ]
    },
    {
     "name": "stdout",
     "output_type": "stream",
     "text": [
      "[CV 3/3] END activation=logistic, hidden_layer_sizes=5, learning_rate_init=0.001;, score=0.805 total time=  14.2s\n",
      "[CV 3/3] END activation=logistic, hidden_layer_sizes=10, learning_rate_init=0.05;, score=0.798 total time=   7.8s\n"
     ]
    },
    {
     "name": "stderr",
     "output_type": "stream",
     "text": [
      "/root/.cache/pypoetry/virtualenvs/sin5007-lcGWJnmY-py3.11/lib/python3.11/site-packages/sklearn/neural_network/_multilayer_perceptron.py:690: ConvergenceWarning: Stochastic Optimizer: Maximum iterations (200) reached and the optimization hasn't converged yet.\n",
      "  warnings.warn(\n"
     ]
    },
    {
     "name": "stdout",
     "output_type": "stream",
     "text": [
      "[CV 1/3] END activation=logistic, hidden_layer_sizes=10, learning_rate_init=0.001;, score=0.798 total time=  14.0s\n",
      "[CV 1/3] END activation=logistic, hidden_layer_sizes=10, learning_rate_init=0.05;, score=0.796 total time=   9.9s\n",
      "[CV 2/3] END activation=logistic, hidden_layer_sizes=10, learning_rate_init=0.05;, score=0.789 total time=  10.8s\n",
      "[CV 2/3] END activation=logistic, hidden_layer_sizes=10, learning_rate_init=0.001;, score=0.807 total time=  14.1s\n"
     ]
    },
    {
     "name": "stderr",
     "output_type": "stream",
     "text": [
      "/root/.cache/pypoetry/virtualenvs/sin5007-lcGWJnmY-py3.11/lib/python3.11/site-packages/sklearn/neural_network/_multilayer_perceptron.py:690: ConvergenceWarning: Stochastic Optimizer: Maximum iterations (200) reached and the optimization hasn't converged yet.\n",
      "  warnings.warn(\n"
     ]
    },
    {
     "name": "stdout",
     "output_type": "stream",
     "text": [
      "[CV 1/3] END activation=logistic, hidden_layer_sizes=10, learning_rate_init=0.1;, score=0.784 total time=   7.2s\n"
     ]
    },
    {
     "name": "stderr",
     "output_type": "stream",
     "text": [
      "/root/.cache/pypoetry/virtualenvs/sin5007-lcGWJnmY-py3.11/lib/python3.11/site-packages/sklearn/neural_network/_multilayer_perceptron.py:690: ConvergenceWarning: Stochastic Optimizer: Maximum iterations (200) reached and the optimization hasn't converged yet.\n",
      "  warnings.warn(\n"
     ]
    },
    {
     "name": "stdout",
     "output_type": "stream",
     "text": [
      "[CV 3/3] END activation=logistic, hidden_layer_sizes=10, learning_rate_init=0.01;, score=0.803 total time=  13.9s\n"
     ]
    },
    {
     "name": "stderr",
     "output_type": "stream",
     "text": [
      "/root/.cache/pypoetry/virtualenvs/sin5007-lcGWJnmY-py3.11/lib/python3.11/site-packages/sklearn/neural_network/_multilayer_perceptron.py:690: ConvergenceWarning: Stochastic Optimizer: Maximum iterations (200) reached and the optimization hasn't converged yet.\n",
      "  warnings.warn(\n"
     ]
    },
    {
     "name": "stdout",
     "output_type": "stream",
     "text": [
      "[CV 3/3] END activation=logistic, hidden_layer_sizes=10, learning_rate_init=0.001;, score=0.803 total time=  15.7s\n",
      "[CV 2/3] END activation=logistic, hidden_layer_sizes=10, learning_rate_init=0.01;, score=0.792 total time=  14.7s\n",
      "[CV 2/3] END activation=logistic, hidden_layer_sizes=10, learning_rate_init=0.1;, score=0.798 total time=   6.5s\n",
      "[CV 3/3] END activation=logistic, hidden_layer_sizes=10, learning_rate_init=0.1;, score=0.790 total time=   6.1s\n",
      "[CV 1/3] END activation=logistic, hidden_layer_sizes=10, learning_rate_init=0.01;, score=0.795 total time=  15.5s\n",
      "[CV 1/3] END activation=logistic, hidden_layer_sizes=15, learning_rate_init=0.1;, score=0.780 total time=   6.2s\n",
      "[CV 3/3] END activation=logistic, hidden_layer_sizes=15, learning_rate_init=0.1;, score=0.794 total time=   6.4s\n",
      "[CV 1/3] END activation=logistic, hidden_layer_sizes=15, learning_rate_init=0.05;, score=0.781 total time=   7.3s\n",
      "[CV 2/3] END activation=logistic, hidden_layer_sizes=15, learning_rate_init=0.1;, score=0.794 total time=   7.8s\n"
     ]
    },
    {
     "name": "stderr",
     "output_type": "stream",
     "text": [
      "/root/.cache/pypoetry/virtualenvs/sin5007-lcGWJnmY-py3.11/lib/python3.11/site-packages/sklearn/neural_network/_multilayer_perceptron.py:690: ConvergenceWarning: Stochastic Optimizer: Maximum iterations (200) reached and the optimization hasn't converged yet.\n",
      "  warnings.warn(\n"
     ]
    },
    {
     "name": "stdout",
     "output_type": "stream",
     "text": [
      "[CV 1/3] END activation=logistic, hidden_layer_sizes=15, learning_rate_init=0.001;, score=0.797 total time=  13.7s\n",
      "[CV 2/3] END activation=logistic, hidden_layer_sizes=15, learning_rate_init=0.05;, score=0.789 total time=   9.8s\n"
     ]
    },
    {
     "name": "stderr",
     "output_type": "stream",
     "text": [
      "/root/.cache/pypoetry/virtualenvs/sin5007-lcGWJnmY-py3.11/lib/python3.11/site-packages/sklearn/neural_network/_multilayer_perceptron.py:690: ConvergenceWarning: Stochastic Optimizer: Maximum iterations (200) reached and the optimization hasn't converged yet.\n",
      "  warnings.warn(\n",
      "/root/.cache/pypoetry/virtualenvs/sin5007-lcGWJnmY-py3.11/lib/python3.11/site-packages/sklearn/neural_network/_multilayer_perceptron.py:690: ConvergenceWarning: Stochastic Optimizer: Maximum iterations (200) reached and the optimization hasn't converged yet.\n",
      "  warnings.warn(\n"
     ]
    },
    {
     "name": "stdout",
     "output_type": "stream",
     "text": [
      "[CV 2/3] END activation=logistic, hidden_layer_sizes=15, learning_rate_init=0.001;, score=0.808 total time=  13.6s\n",
      "[CV 3/3] END activation=logistic, hidden_layer_sizes=15, learning_rate_init=0.001;, score=0.805 total time=  13.5s\n",
      "[CV 3/3] END activation=logistic, hidden_layer_sizes=15, learning_rate_init=0.05;, score=0.792 total time=  10.8s\n"
     ]
    },
    {
     "name": "stderr",
     "output_type": "stream",
     "text": [
      "/root/.cache/pypoetry/virtualenvs/sin5007-lcGWJnmY-py3.11/lib/python3.11/site-packages/sklearn/neural_network/_multilayer_perceptron.py:690: ConvergenceWarning: Stochastic Optimizer: Maximum iterations (200) reached and the optimization hasn't converged yet.\n",
      "  warnings.warn(\n",
      "/root/.cache/pypoetry/virtualenvs/sin5007-lcGWJnmY-py3.11/lib/python3.11/site-packages/sklearn/neural_network/_multilayer_perceptron.py:690: ConvergenceWarning: Stochastic Optimizer: Maximum iterations (200) reached and the optimization hasn't converged yet.\n",
      "  warnings.warn(\n"
     ]
    },
    {
     "name": "stdout",
     "output_type": "stream",
     "text": [
      "[CV 2/3] END activation=logistic, hidden_layer_sizes=15, learning_rate_init=0.01;, score=0.798 total time=  13.6s\n",
      "[CV 3/3] END activation=logistic, hidden_layer_sizes=15, learning_rate_init=0.01;, score=0.787 total time=  12.9s\n",
      "[CV 1/3] END activation=logistic, hidden_layer_sizes=15, learning_rate_init=0.01;, score=0.777 total time=  13.7s\n",
      "[CV 1/3] END activation=relu, hidden_layer_sizes=5, learning_rate_init=0.05;, score=0.801 total time=   2.6s\n",
      "[CV 3/3] END activation=relu, hidden_layer_sizes=5, learning_rate_init=0.05;, score=0.801 total time=   2.6s\n",
      "[CV 1/3] END activation=relu, hidden_layer_sizes=5, learning_rate_init=0.1;, score=0.793 total time=   1.9s\n",
      "[CV 2/3] END activation=relu, hidden_layer_sizes=5, learning_rate_init=0.05;, score=0.805 total time=   3.3s\n",
      "[CV 2/3] END activation=relu, hidden_layer_sizes=5, learning_rate_init=0.1;, score=0.810 total time=   2.1s\n",
      "[CV 3/3] END activation=relu, hidden_layer_sizes=5, learning_rate_init=0.1;, score=0.805 total time=   2.1s\n",
      "[CV 3/3] END activation=relu, hidden_layer_sizes=5, learning_rate_init=0.01;, score=0.809 total time=   4.4s\n",
      "[CV 2/3] END activation=relu, hidden_layer_sizes=5, learning_rate_init=0.01;, score=0.806 total time=   6.2s\n",
      "[CV 1/3] END activation=relu, hidden_layer_sizes=5, learning_rate_init=0.01;, score=0.791 total time=   7.5s\n",
      "[CV 1/3] END activation=relu, hidden_layer_sizes=5, learning_rate_init=0.001;, score=0.792 total time=  10.2s\n",
      "[CV 3/3] END activation=relu, hidden_layer_sizes=5, learning_rate_init=0.001;, score=0.807 total time=   9.7s\n",
      "[CV 2/3] END activation=relu, hidden_layer_sizes=5, learning_rate_init=0.001;, score=0.802 total time=  10.0s\n",
      "[CV 1/3] END activation=relu, hidden_layer_sizes=10, learning_rate_init=0.05;, score=0.790 total time=   3.7s\n",
      "[CV 3/3] END activation=relu, hidden_layer_sizes=10, learning_rate_init=0.05;, score=0.802 total time=   2.9s\n",
      "[CV 2/3] END activation=relu, hidden_layer_sizes=10, learning_rate_init=0.05;, score=0.802 total time=   3.5s\n",
      "[CV 1/3] END activation=relu, hidden_layer_sizes=10, learning_rate_init=0.01;, score=0.794 total time=   5.4s\n",
      "[CV 3/3] END activation=relu, hidden_layer_sizes=10, learning_rate_init=0.01;, score=0.807 total time=   5.8s\n",
      "[CV 2/3] END activation=relu, hidden_layer_sizes=10, learning_rate_init=0.1;, score=0.805 total time=   3.3s\n",
      "[CV 3/3] END activation=relu, hidden_layer_sizes=10, learning_rate_init=0.1;, score=0.808 total time=   3.4s\n",
      "[CV 1/3] END activation=relu, hidden_layer_sizes=10, learning_rate_init=0.1;, score=0.797 total time=   4.3s\n",
      "[CV 2/3] END activation=relu, hidden_layer_sizes=10, learning_rate_init=0.01;, score=0.793 total time=   8.8s\n",
      "[CV 2/3] END activation=relu, hidden_layer_sizes=15, learning_rate_init=0.01;, score=0.804 total time=   5.3s\n"
     ]
    },
    {
     "name": "stderr",
     "output_type": "stream",
     "text": [
      "/root/.cache/pypoetry/virtualenvs/sin5007-lcGWJnmY-py3.11/lib/python3.11/site-packages/sklearn/neural_network/_multilayer_perceptron.py:690: ConvergenceWarning: Stochastic Optimizer: Maximum iterations (200) reached and the optimization hasn't converged yet.\n",
      "  warnings.warn(\n"
     ]
    },
    {
     "name": "stdout",
     "output_type": "stream",
     "text": [
      "[CV 1/3] END activation=relu, hidden_layer_sizes=10, learning_rate_init=0.001;, score=0.795 total time=  12.6s\n",
      "[CV 2/3] END activation=relu, hidden_layer_sizes=15, learning_rate_init=0.05;, score=0.797 total time=   6.7s\n",
      "[CV 2/3] END activation=relu, hidden_layer_sizes=10, learning_rate_init=0.001;, score=0.802 total time=  14.3s\n"
     ]
    },
    {
     "name": "stderr",
     "output_type": "stream",
     "text": [
      "/root/.cache/pypoetry/virtualenvs/sin5007-lcGWJnmY-py3.11/lib/python3.11/site-packages/sklearn/neural_network/_multilayer_perceptron.py:690: ConvergenceWarning: Stochastic Optimizer: Maximum iterations (200) reached and the optimization hasn't converged yet.\n",
      "  warnings.warn(\n"
     ]
    },
    {
     "name": "stdout",
     "output_type": "stream",
     "text": [
      "[CV 3/3] END activation=relu, hidden_layer_sizes=10, learning_rate_init=0.001;, score=0.805 total time=  14.5s\n",
      "[CV 1/3] END activation=relu, hidden_layer_sizes=15, learning_rate_init=0.05;, score=0.787 total time=   8.0s\n",
      "[CV 1/3] END activation=relu, hidden_layer_sizes=15, learning_rate_init=0.01;, score=0.796 total time=  10.0s\n",
      "[CV 1/3] END activation=relu, hidden_layer_sizes=15, learning_rate_init=0.1;, score=0.794 total time=   4.5s\n",
      "[CV 3/3] END activation=relu, hidden_layer_sizes=15, learning_rate_init=0.05;, score=0.798 total time=   7.1s\n",
      "[CV 3/3] END activation=relu, hidden_layer_sizes=15, learning_rate_init=0.1;, score=0.803 total time=   2.6s\n",
      "[CV 2/3] END activation=relu, hidden_layer_sizes=15, learning_rate_init=0.1;, score=0.806 total time=   4.8s\n",
      "[CV 3/3] END activation=relu, hidden_layer_sizes=15, learning_rate_init=0.01;, score=0.806 total time=  11.2s\n",
      "[CV 1/3] END activation=relu, hidden_layer_sizes=15, learning_rate_init=0.001;, score=0.797 total time=  13.5s\n"
     ]
    },
    {
     "name": "stderr",
     "output_type": "stream",
     "text": [
      "/root/.cache/pypoetry/virtualenvs/sin5007-lcGWJnmY-py3.11/lib/python3.11/site-packages/sklearn/neural_network/_multilayer_perceptron.py:690: ConvergenceWarning: Stochastic Optimizer: Maximum iterations (200) reached and the optimization hasn't converged yet.\n",
      "  warnings.warn(\n",
      "/root/.cache/pypoetry/virtualenvs/sin5007-lcGWJnmY-py3.11/lib/python3.11/site-packages/sklearn/neural_network/_multilayer_perceptron.py:690: ConvergenceWarning: Stochastic Optimizer: Maximum iterations (200) reached and the optimization hasn't converged yet.\n",
      "  warnings.warn(\n",
      "/root/.cache/pypoetry/virtualenvs/sin5007-lcGWJnmY-py3.11/lib/python3.11/site-packages/sklearn/neural_network/_multilayer_perceptron.py:690: ConvergenceWarning: Stochastic Optimizer: Maximum iterations (200) reached and the optimization hasn't converged yet.\n",
      "  warnings.warn(\n"
     ]
    },
    {
     "name": "stdout",
     "output_type": "stream",
     "text": [
      "[CV 3/3] END activation=relu, hidden_layer_sizes=15, learning_rate_init=0.001;, score=0.806 total time=  12.9s\n",
      "[CV 2/3] END activation=relu, hidden_layer_sizes=15, learning_rate_init=0.001;, score=0.800 total time=  13.4s\n",
      "===> 2024-10-28 15:27:29.138352 | FINALIZADO FOLD 2 | TEMPO TOTAL 0:00:59.081870\n",
      "\n",
      "====> 2024-10-28 15:27:29.139125 | EXECUTANDO FOLD 3 \n",
      "Fitting 3 folds for each of 24 candidates, totalling 72 fits\n",
      "[CV 2/3] END activation=logistic, hidden_layer_sizes=5, learning_rate_init=0.1;, score=0.799 total time=   3.6s\n",
      "[CV 1/3] END activation=logistic, hidden_layer_sizes=5, learning_rate_init=0.1;, score=0.800 total time=   3.8s\n",
      "[CV 3/3] END activation=logistic, hidden_layer_sizes=5, learning_rate_init=0.1;, score=0.807 total time=   4.1s\n",
      "[CV 1/3] END activation=logistic, hidden_layer_sizes=5, learning_rate_init=0.05;, score=0.795 total time=   5.1s\n",
      "[CV 2/3] END activation=logistic, hidden_layer_sizes=5, learning_rate_init=0.05;, score=0.801 total time=   5.7s\n",
      "[CV 2/3] END activation=logistic, hidden_layer_sizes=5, learning_rate_init=0.01;, score=0.796 total time=   6.0s\n",
      "[CV 3/3] END activation=logistic, hidden_layer_sizes=5, learning_rate_init=0.05;, score=0.798 total time=   6.0s\n",
      "[CV 1/3] END activation=logistic, hidden_layer_sizes=5, learning_rate_init=0.01;, score=0.803 total time=   7.9s\n",
      "[CV 3/3] END activation=logistic, hidden_layer_sizes=5, learning_rate_init=0.01;, score=0.798 total time=  10.2s\n"
     ]
    },
    {
     "name": "stderr",
     "output_type": "stream",
     "text": [
      "/root/.cache/pypoetry/virtualenvs/sin5007-lcGWJnmY-py3.11/lib/python3.11/site-packages/sklearn/neural_network/_multilayer_perceptron.py:690: ConvergenceWarning: Stochastic Optimizer: Maximum iterations (200) reached and the optimization hasn't converged yet.\n",
      "  warnings.warn(\n",
      "/root/.cache/pypoetry/virtualenvs/sin5007-lcGWJnmY-py3.11/lib/python3.11/site-packages/sklearn/neural_network/_multilayer_perceptron.py:690: ConvergenceWarning: Stochastic Optimizer: Maximum iterations (200) reached and the optimization hasn't converged yet.\n",
      "  warnings.warn(\n"
     ]
    },
    {
     "name": "stdout",
     "output_type": "stream",
     "text": [
      "[CV 2/3] END activation=logistic, hidden_layer_sizes=5, learning_rate_init=0.001;, score=0.805 total time=  12.1s\n",
      "[CV 3/3] END activation=logistic, hidden_layer_sizes=5, learning_rate_init=0.001;, score=0.804 total time=  12.1s\n"
     ]
    },
    {
     "name": "stderr",
     "output_type": "stream",
     "text": [
      "/root/.cache/pypoetry/virtualenvs/sin5007-lcGWJnmY-py3.11/lib/python3.11/site-packages/sklearn/neural_network/_multilayer_perceptron.py:690: ConvergenceWarning: Stochastic Optimizer: Maximum iterations (200) reached and the optimization hasn't converged yet.\n",
      "  warnings.warn(\n"
     ]
    },
    {
     "name": "stdout",
     "output_type": "stream",
     "text": [
      "[CV 1/3] END activation=logistic, hidden_layer_sizes=5, learning_rate_init=0.001;, score=0.805 total time=  13.2s\n",
      "[CV 2/3] END activation=logistic, hidden_layer_sizes=10, learning_rate_init=0.05;, score=0.796 total time=   5.8s\n"
     ]
    },
    {
     "name": "stderr",
     "output_type": "stream",
     "text": [
      "/root/.cache/pypoetry/virtualenvs/sin5007-lcGWJnmY-py3.11/lib/python3.11/site-packages/sklearn/neural_network/_multilayer_perceptron.py:690: ConvergenceWarning: Stochastic Optimizer: Maximum iterations (200) reached and the optimization hasn't converged yet.\n",
      "  warnings.warn(\n",
      "/root/.cache/pypoetry/virtualenvs/sin5007-lcGWJnmY-py3.11/lib/python3.11/site-packages/sklearn/neural_network/_multilayer_perceptron.py:690: ConvergenceWarning: Stochastic Optimizer: Maximum iterations (200) reached and the optimization hasn't converged yet.\n",
      "  warnings.warn(\n"
     ]
    },
    {
     "name": "stdout",
     "output_type": "stream",
     "text": [
      "[CV 1/3] END activation=logistic, hidden_layer_sizes=10, learning_rate_init=0.001;, score=0.807 total time=  12.4s\n",
      "[CV 3/3] END activation=logistic, hidden_layer_sizes=10, learning_rate_init=0.001;, score=0.802 total time=  12.1s\n",
      "[CV 2/3] END activation=logistic, hidden_layer_sizes=10, learning_rate_init=0.1;, score=0.793 total time=   4.6s\n",
      "[CV 2/3] END activation=logistic, hidden_layer_sizes=10, learning_rate_init=0.01;, score=0.800 total time=  11.1s\n",
      "[CV 1/3] END activation=logistic, hidden_layer_sizes=10, learning_rate_init=0.05;, score=0.791 total time=  11.6s\n"
     ]
    },
    {
     "name": "stderr",
     "output_type": "stream",
     "text": [
      "/root/.cache/pypoetry/virtualenvs/sin5007-lcGWJnmY-py3.11/lib/python3.11/site-packages/sklearn/neural_network/_multilayer_perceptron.py:690: ConvergenceWarning: Stochastic Optimizer: Maximum iterations (200) reached and the optimization hasn't converged yet.\n",
      "  warnings.warn(\n",
      "/root/.cache/pypoetry/virtualenvs/sin5007-lcGWJnmY-py3.11/lib/python3.11/site-packages/sklearn/neural_network/_multilayer_perceptron.py:690: ConvergenceWarning: Stochastic Optimizer: Maximum iterations (200) reached and the optimization hasn't converged yet.\n",
      "  warnings.warn(\n"
     ]
    },
    {
     "name": "stdout",
     "output_type": "stream",
     "text": [
      "[CV 3/3] END activation=logistic, hidden_layer_sizes=10, learning_rate_init=0.01;, score=0.804 total time=  12.0s\n",
      "[CV 2/3] END activation=logistic, hidden_layer_sizes=10, learning_rate_init=0.001;, score=0.808 total time=  14.3s\n"
     ]
    },
    {
     "name": "stderr",
     "output_type": "stream",
     "text": [
      "/root/.cache/pypoetry/virtualenvs/sin5007-lcGWJnmY-py3.11/lib/python3.11/site-packages/sklearn/neural_network/_multilayer_perceptron.py:690: ConvergenceWarning: Stochastic Optimizer: Maximum iterations (200) reached and the optimization hasn't converged yet.\n",
      "  warnings.warn(\n"
     ]
    },
    {
     "name": "stdout",
     "output_type": "stream",
     "text": [
      "[CV 1/3] END activation=logistic, hidden_layer_sizes=10, learning_rate_init=0.01;, score=0.797 total time=  13.1s\n",
      "[CV 1/3] END activation=logistic, hidden_layer_sizes=10, learning_rate_init=0.1;, score=0.800 total time=   6.3s\n",
      "[CV 3/3] END activation=logistic, hidden_layer_sizes=10, learning_rate_init=0.1;, score=0.784 total time=   5.8s\n",
      "[CV 3/3] END activation=logistic, hidden_layer_sizes=10, learning_rate_init=0.05;, score=0.797 total time=   9.9s\n",
      "[CV 1/3] END activation=logistic, hidden_layer_sizes=15, learning_rate_init=0.1;, score=0.786 total time=   5.7s\n",
      "[CV 2/3] END activation=logistic, hidden_layer_sizes=15, learning_rate_init=0.1;, score=0.794 total time=   8.1s\n",
      "[CV 3/3] END activation=logistic, hidden_layer_sizes=15, learning_rate_init=0.05;, score=0.790 total time=   9.2s\n",
      "[CV 3/3] END activation=logistic, hidden_layer_sizes=15, learning_rate_init=0.1;, score=0.795 total time=   7.7s\n",
      "[CV 1/3] END activation=logistic, hidden_layer_sizes=15, learning_rate_init=0.05;, score=0.782 total time=   9.9s\n",
      "[CV 2/3] END activation=logistic, hidden_layer_sizes=15, learning_rate_init=0.05;, score=0.795 total time=  12.0s\n"
     ]
    },
    {
     "name": "stderr",
     "output_type": "stream",
     "text": [
      "/root/.cache/pypoetry/virtualenvs/sin5007-lcGWJnmY-py3.11/lib/python3.11/site-packages/sklearn/neural_network/_multilayer_perceptron.py:690: ConvergenceWarning: Stochastic Optimizer: Maximum iterations (200) reached and the optimization hasn't converged yet.\n",
      "  warnings.warn(\n"
     ]
    },
    {
     "name": "stdout",
     "output_type": "stream",
     "text": [
      "[CV 1/3] END activation=logistic, hidden_layer_sizes=15, learning_rate_init=0.001;, score=0.809 total time=  16.7s\n"
     ]
    },
    {
     "name": "stderr",
     "output_type": "stream",
     "text": [
      "/root/.cache/pypoetry/virtualenvs/sin5007-lcGWJnmY-py3.11/lib/python3.11/site-packages/sklearn/neural_network/_multilayer_perceptron.py:690: ConvergenceWarning: Stochastic Optimizer: Maximum iterations (200) reached and the optimization hasn't converged yet.\n",
      "  warnings.warn(\n"
     ]
    },
    {
     "name": "stdout",
     "output_type": "stream",
     "text": [
      "[CV 3/3] END activation=logistic, hidden_layer_sizes=15, learning_rate_init=0.001;, score=0.804 total time=  14.5s\n"
     ]
    },
    {
     "name": "stderr",
     "output_type": "stream",
     "text": [
      "/root/.cache/pypoetry/virtualenvs/sin5007-lcGWJnmY-py3.11/lib/python3.11/site-packages/sklearn/neural_network/_multilayer_perceptron.py:690: ConvergenceWarning: Stochastic Optimizer: Maximum iterations (200) reached and the optimization hasn't converged yet.\n",
      "  warnings.warn(\n"
     ]
    },
    {
     "name": "stdout",
     "output_type": "stream",
     "text": [
      "[CV 2/3] END activation=logistic, hidden_layer_sizes=15, learning_rate_init=0.001;, score=0.809 total time=  15.0s\n"
     ]
    },
    {
     "name": "stderr",
     "output_type": "stream",
     "text": [
      "/root/.cache/pypoetry/virtualenvs/sin5007-lcGWJnmY-py3.11/lib/python3.11/site-packages/sklearn/neural_network/_multilayer_perceptron.py:690: ConvergenceWarning: Stochastic Optimizer: Maximum iterations (200) reached and the optimization hasn't converged yet.\n",
      "  warnings.warn(\n"
     ]
    },
    {
     "name": "stdout",
     "output_type": "stream",
     "text": [
      "[CV 2/3] END activation=logistic, hidden_layer_sizes=15, learning_rate_init=0.01;, score=0.794 total time=  14.9s\n",
      "[CV 1/3] END activation=relu, hidden_layer_sizes=5, learning_rate_init=0.01;, score=0.796 total time=   4.4s\n"
     ]
    },
    {
     "name": "stderr",
     "output_type": "stream",
     "text": [
      "/root/.cache/pypoetry/virtualenvs/sin5007-lcGWJnmY-py3.11/lib/python3.11/site-packages/sklearn/neural_network/_multilayer_perceptron.py:690: ConvergenceWarning: Stochastic Optimizer: Maximum iterations (200) reached and the optimization hasn't converged yet.\n",
      "  warnings.warn(\n"
     ]
    },
    {
     "name": "stdout",
     "output_type": "stream",
     "text": [
      "[CV 1/3] END activation=logistic, hidden_layer_sizes=15, learning_rate_init=0.01;, score=0.783 total time=  15.8s\n",
      "[CV 1/3] END activation=relu, hidden_layer_sizes=5, learning_rate_init=0.001;, score=0.801 total time=   8.7s\n",
      "[CV 1/3] END activation=relu, hidden_layer_sizes=5, learning_rate_init=0.05;, score=0.804 total time=   2.8s[CV 3/3] END activation=relu, hidden_layer_sizes=5, learning_rate_init=0.01;, score=0.806 total time=   3.1s\n",
      "\n",
      "[CV 2/3] END activation=relu, hidden_layer_sizes=5, learning_rate_init=0.01;, score=0.808 total time=   5.5s\n",
      "[CV 3/3] END activation=relu, hidden_layer_sizes=5, learning_rate_init=0.05;, score=0.800 total time=   2.4s\n",
      "[CV 3/3] END activation=relu, hidden_layer_sizes=5, learning_rate_init=0.1;, score=0.801 total time=   1.2s\n",
      "[CV 1/3] END activation=relu, hidden_layer_sizes=5, learning_rate_init=0.1;, score=0.799 total time=   2.6s\n",
      "[CV 2/3] END activation=relu, hidden_layer_sizes=5, learning_rate_init=0.1;, score=0.795 total time=   2.0s\n",
      "[CV 2/3] END activation=relu, hidden_layer_sizes=5, learning_rate_init=0.05;, score=0.792 total time=   3.7s\n"
     ]
    },
    {
     "name": "stderr",
     "output_type": "stream",
     "text": [
      "/root/.cache/pypoetry/virtualenvs/sin5007-lcGWJnmY-py3.11/lib/python3.11/site-packages/sklearn/neural_network/_multilayer_perceptron.py:690: ConvergenceWarning: Stochastic Optimizer: Maximum iterations (200) reached and the optimization hasn't converged yet.\n",
      "  warnings.warn(\n"
     ]
    },
    {
     "name": "stdout",
     "output_type": "stream",
     "text": [
      "[CV 3/3] END activation=logistic, hidden_layer_sizes=15, learning_rate_init=0.01;, score=0.785 total time=  16.8s\n",
      "[CV 2/3] END activation=relu, hidden_layer_sizes=5, learning_rate_init=0.001;, score=0.803 total time=   8.2s\n",
      "[CV 1/3] END activation=relu, hidden_layer_sizes=10, learning_rate_init=0.1;, score=0.809 total time=   2.8s\n",
      "[CV 2/3] END activation=relu, hidden_layer_sizes=10, learning_rate_init=0.01;, score=0.801 total time=   5.4s\n",
      "[CV 2/3] END activation=relu, hidden_layer_sizes=10, learning_rate_init=0.05;, score=0.799 total time=   4.9s\n",
      "[CV 3/3] END activation=relu, hidden_layer_sizes=10, learning_rate_init=0.05;, score=0.787 total time=   5.8s\n",
      "[CV 1/3] END activation=relu, hidden_layer_sizes=10, learning_rate_init=0.01;, score=0.799 total time=   7.3s\n",
      "[CV 2/3] END activation=relu, hidden_layer_sizes=10, learning_rate_init=0.1;, score=0.803 total time=   5.5s\n",
      "[CV 1/3] END activation=relu, hidden_layer_sizes=10, learning_rate_init=0.05;, score=0.784 total time=   6.7s\n",
      "[CV 3/3] END activation=relu, hidden_layer_sizes=5, learning_rate_init=0.001;, score=0.809 total time=  13.6s\n",
      "[CV 3/3] END activation=relu, hidden_layer_sizes=10, learning_rate_init=0.1;, score=0.795 total time=   5.0s\n",
      "[CV 3/3] END activation=relu, hidden_layer_sizes=10, learning_rate_init=0.01;, score=0.805 total time=  10.5s\n",
      "[CV 3/3] END activation=relu, hidden_layer_sizes=15, learning_rate_init=0.01;, score=0.800 total time=   7.8s\n",
      "[CV 1/3] END activation=relu, hidden_layer_sizes=15, learning_rate_init=0.01;, score=0.801 total time=   8.6s\n",
      "[CV 1/3] END activation=relu, hidden_layer_sizes=15, learning_rate_init=0.05;, score=0.798 total time=   9.4s\n",
      "[CV 3/3] END activation=relu, hidden_layer_sizes=10, learning_rate_init=0.001;, score=0.803 total time=  17.5s\n"
     ]
    },
    {
     "name": "stderr",
     "output_type": "stream",
     "text": [
      "/root/.cache/pypoetry/virtualenvs/sin5007-lcGWJnmY-py3.11/lib/python3.11/site-packages/sklearn/neural_network/_multilayer_perceptron.py:690: ConvergenceWarning: Stochastic Optimizer: Maximum iterations (200) reached and the optimization hasn't converged yet.\n",
      "  warnings.warn(\n",
      "/root/.cache/pypoetry/virtualenvs/sin5007-lcGWJnmY-py3.11/lib/python3.11/site-packages/sklearn/neural_network/_multilayer_perceptron.py:690: ConvergenceWarning: Stochastic Optimizer: Maximum iterations (200) reached and the optimization hasn't converged yet.\n",
      "  warnings.warn(\n"
     ]
    },
    {
     "name": "stdout",
     "output_type": "stream",
     "text": [
      "[CV 1/3] END activation=relu, hidden_layer_sizes=10, learning_rate_init=0.001;, score=0.804 total time=  18.5s\n",
      "[CV 2/3] END activation=relu, hidden_layer_sizes=10, learning_rate_init=0.001;, score=0.801 total time=  18.1s\n",
      "[CV 2/3] END activation=relu, hidden_layer_sizes=15, learning_rate_init=0.05;, score=0.799 total time=   9.0s\n",
      "[CV 3/3] END activation=relu, hidden_layer_sizes=15, learning_rate_init=0.05;, score=0.797 total time=   7.9s\n",
      "[CV 3/3] END activation=relu, hidden_layer_sizes=15, learning_rate_init=0.1;, score=0.807 total time=   1.6s\n",
      "[CV 2/3] END activation=relu, hidden_layer_sizes=15, learning_rate_init=0.01;, score=0.803 total time=  11.7s\n",
      "[CV 2/3] END activation=relu, hidden_layer_sizes=15, learning_rate_init=0.1;, score=0.796 total time=   3.7s\n",
      "[CV 1/3] END activation=relu, hidden_layer_sizes=15, learning_rate_init=0.1;, score=0.803 total time=   4.3s\n"
     ]
    },
    {
     "name": "stderr",
     "output_type": "stream",
     "text": [
      "/root/.cache/pypoetry/virtualenvs/sin5007-lcGWJnmY-py3.11/lib/python3.11/site-packages/sklearn/neural_network/_multilayer_perceptron.py:690: ConvergenceWarning: Stochastic Optimizer: Maximum iterations (200) reached and the optimization hasn't converged yet.\n",
      "  warnings.warn(\n"
     ]
    },
    {
     "name": "stdout",
     "output_type": "stream",
     "text": [
      "[CV 3/3] END activation=relu, hidden_layer_sizes=15, learning_rate_init=0.001;, score=0.804 total time=  13.7s\n"
     ]
    },
    {
     "name": "stderr",
     "output_type": "stream",
     "text": [
      "/root/.cache/pypoetry/virtualenvs/sin5007-lcGWJnmY-py3.11/lib/python3.11/site-packages/sklearn/neural_network/_multilayer_perceptron.py:690: ConvergenceWarning: Stochastic Optimizer: Maximum iterations (200) reached and the optimization hasn't converged yet.\n",
      "  warnings.warn(\n"
     ]
    },
    {
     "name": "stdout",
     "output_type": "stream",
     "text": [
      "[CV 1/3] END activation=relu, hidden_layer_sizes=15, learning_rate_init=0.001;, score=0.800 total time=  17.2s\n"
     ]
    },
    {
     "name": "stderr",
     "output_type": "stream",
     "text": [
      "/root/.cache/pypoetry/virtualenvs/sin5007-lcGWJnmY-py3.11/lib/python3.11/site-packages/sklearn/neural_network/_multilayer_perceptron.py:690: ConvergenceWarning: Stochastic Optimizer: Maximum iterations (200) reached and the optimization hasn't converged yet.\n",
      "  warnings.warn(\n"
     ]
    },
    {
     "name": "stdout",
     "output_type": "stream",
     "text": [
      "[CV 2/3] END activation=relu, hidden_layer_sizes=15, learning_rate_init=0.001;, score=0.806 total time=  17.2s\n",
      "===> 2024-10-28 15:28:34.219581 | FINALIZADO FOLD 3 | TEMPO TOTAL 0:01:05.080456\n",
      "\n",
      "====> 2024-10-28 15:28:34.220701 | EXECUTANDO FOLD 4 \n",
      "Fitting 3 folds for each of 24 candidates, totalling 72 fits\n",
      "[CV 2/3] END activation=logistic, hidden_layer_sizes=5, learning_rate_init=0.05;, score=0.807 total time=   3.1s\n",
      "[CV 3/3] END activation=logistic, hidden_layer_sizes=5, learning_rate_init=0.1;, score=0.804 total time=   3.2s\n",
      "[CV 2/3] END activation=logistic, hidden_layer_sizes=5, learning_rate_init=0.1;, score=0.797 total time=   3.3s\n",
      "[CV 1/3] END activation=logistic, hidden_layer_sizes=5, learning_rate_init=0.1;, score=0.797 total time=   3.8s\n",
      "[CV 3/3] END activation=logistic, hidden_layer_sizes=5, learning_rate_init=0.05;, score=0.801 total time=   5.0s\n",
      "[CV 1/3] END activation=logistic, hidden_layer_sizes=5, learning_rate_init=0.05;, score=0.793 total time=   5.2s\n",
      "[CV 2/3] END activation=logistic, hidden_layer_sizes=5, learning_rate_init=0.01;, score=0.796 total time=   6.5s\n",
      "[CV 1/3] END activation=logistic, hidden_layer_sizes=5, learning_rate_init=0.01;, score=0.801 total time=   8.0s\n",
      "[CV 3/3] END activation=logistic, hidden_layer_sizes=5, learning_rate_init=0.01;, score=0.800 total time=   9.9s\n"
     ]
    },
    {
     "name": "stderr",
     "output_type": "stream",
     "text": [
      "/root/.cache/pypoetry/virtualenvs/sin5007-lcGWJnmY-py3.11/lib/python3.11/site-packages/sklearn/neural_network/_multilayer_perceptron.py:690: ConvergenceWarning: Stochastic Optimizer: Maximum iterations (200) reached and the optimization hasn't converged yet.\n",
      "  warnings.warn(\n",
      "/root/.cache/pypoetry/virtualenvs/sin5007-lcGWJnmY-py3.11/lib/python3.11/site-packages/sklearn/neural_network/_multilayer_perceptron.py:690: ConvergenceWarning: Stochastic Optimizer: Maximum iterations (200) reached and the optimization hasn't converged yet.\n",
      "  warnings.warn(\n"
     ]
    },
    {
     "name": "stdout",
     "output_type": "stream",
     "text": [
      "[CV 1/3] END activation=logistic, hidden_layer_sizes=5, learning_rate_init=0.001;, score=0.804 total time=  12.5s\n",
      "[CV 2/3] END activation=logistic, hidden_layer_sizes=5, learning_rate_init=0.001;, score=0.805 total time=  12.5s\n"
     ]
    },
    {
     "name": "stderr",
     "output_type": "stream",
     "text": [
      "/root/.cache/pypoetry/virtualenvs/sin5007-lcGWJnmY-py3.11/lib/python3.11/site-packages/sklearn/neural_network/_multilayer_perceptron.py:690: ConvergenceWarning: Stochastic Optimizer: Maximum iterations (200) reached and the optimization hasn't converged yet.\n",
      "  warnings.warn(\n"
     ]
    },
    {
     "name": "stdout",
     "output_type": "stream",
     "text": [
      "[CV 3/3] END activation=logistic, hidden_layer_sizes=5, learning_rate_init=0.001;, score=0.805 total time=  13.3s\n",
      "[CV 1/3] END activation=logistic, hidden_layer_sizes=10, learning_rate_init=0.05;, score=0.788 total time=   8.5s\n"
     ]
    },
    {
     "name": "stderr",
     "output_type": "stream",
     "text": [
      "/root/.cache/pypoetry/virtualenvs/sin5007-lcGWJnmY-py3.11/lib/python3.11/site-packages/sklearn/neural_network/_multilayer_perceptron.py:690: ConvergenceWarning: Stochastic Optimizer: Maximum iterations (200) reached and the optimization hasn't converged yet.\n",
      "  warnings.warn(\n",
      "/root/.cache/pypoetry/virtualenvs/sin5007-lcGWJnmY-py3.11/lib/python3.11/site-packages/sklearn/neural_network/_multilayer_perceptron.py:690: ConvergenceWarning: Stochastic Optimizer: Maximum iterations (200) reached and the optimization hasn't converged yet.\n",
      "  warnings.warn(\n"
     ]
    },
    {
     "name": "stdout",
     "output_type": "stream",
     "text": [
      "[CV 2/3] END activation=logistic, hidden_layer_sizes=10, learning_rate_init=0.001;, score=0.807 total time=  12.6s\n",
      "[CV 1/3] END activation=logistic, hidden_layer_sizes=10, learning_rate_init=0.001;, score=0.806 total time=  12.7s\n",
      "[CV 1/3] END activation=logistic, hidden_layer_sizes=10, learning_rate_init=0.01;, score=0.794 total time=  13.2s\n",
      "[CV 3/3] END activation=logistic, hidden_layer_sizes=10, learning_rate_init=0.001;, score=0.803 total time=  13.8s\n"
     ]
    },
    {
     "name": "stderr",
     "output_type": "stream",
     "text": [
      "/root/.cache/pypoetry/virtualenvs/sin5007-lcGWJnmY-py3.11/lib/python3.11/site-packages/sklearn/neural_network/_multilayer_perceptron.py:690: ConvergenceWarning: Stochastic Optimizer: Maximum iterations (200) reached and the optimization hasn't converged yet.\n",
      "  warnings.warn(\n",
      "/root/.cache/pypoetry/virtualenvs/sin5007-lcGWJnmY-py3.11/lib/python3.11/site-packages/sklearn/neural_network/_multilayer_perceptron.py:690: ConvergenceWarning: Stochastic Optimizer: Maximum iterations (200) reached and the optimization hasn't converged yet.\n",
      "  warnings.warn(\n"
     ]
    },
    {
     "name": "stdout",
     "output_type": "stream",
     "text": [
      "[CV 2/3] END activation=logistic, hidden_layer_sizes=10, learning_rate_init=0.01;, score=0.794 total time=  12.9s\n",
      "[CV 2/3] END activation=logistic, hidden_layer_sizes=10, learning_rate_init=0.05;, score=0.800 total time=  10.0s\n",
      "[CV 3/3] END activation=logistic, hidden_layer_sizes=10, learning_rate_init=0.05;, score=0.795 total time=   8.5s\n",
      "[CV 2/3] END activation=logistic, hidden_layer_sizes=10, learning_rate_init=0.1;, score=0.795 total time=   6.3s\n",
      "[CV 3/3] END activation=logistic, hidden_layer_sizes=10, learning_rate_init=0.1;, score=0.784 total time=   5.7s\n",
      "[CV 1/3] END activation=logistic, hidden_layer_sizes=10, learning_rate_init=0.1;, score=0.797 total time=   6.5s\n"
     ]
    },
    {
     "name": "stderr",
     "output_type": "stream",
     "text": [
      "/root/.cache/pypoetry/virtualenvs/sin5007-lcGWJnmY-py3.11/lib/python3.11/site-packages/sklearn/neural_network/_multilayer_perceptron.py:690: ConvergenceWarning: Stochastic Optimizer: Maximum iterations (200) reached and the optimization hasn't converged yet.\n",
      "  warnings.warn(\n"
     ]
    },
    {
     "name": "stdout",
     "output_type": "stream",
     "text": [
      "[CV 3/3] END activation=logistic, hidden_layer_sizes=10, learning_rate_init=0.01;, score=0.805 total time=  14.9s\n",
      "[CV 3/3] END activation=logistic, hidden_layer_sizes=15, learning_rate_init=0.1;, score=0.797 total time=   7.6s\n",
      "[CV 1/3] END activation=logistic, hidden_layer_sizes=15, learning_rate_init=0.1;, score=0.790 total time=   9.0s\n",
      "[CV 2/3] END activation=logistic, hidden_layer_sizes=15, learning_rate_init=0.1;, score=0.800 total time=   9.0s\n",
      "[CV 2/3] END activation=logistic, hidden_layer_sizes=15, learning_rate_init=0.05;, score=0.791 total time=  10.9s\n",
      "[CV 3/3] END activation=logistic, hidden_layer_sizes=15, learning_rate_init=0.05;, score=0.792 total time=  11.6s\n"
     ]
    },
    {
     "name": "stderr",
     "output_type": "stream",
     "text": [
      "/root/.cache/pypoetry/virtualenvs/sin5007-lcGWJnmY-py3.11/lib/python3.11/site-packages/sklearn/neural_network/_multilayer_perceptron.py:690: ConvergenceWarning: Stochastic Optimizer: Maximum iterations (200) reached and the optimization hasn't converged yet.\n",
      "  warnings.warn(\n",
      "/root/.cache/pypoetry/virtualenvs/sin5007-lcGWJnmY-py3.11/lib/python3.11/site-packages/sklearn/neural_network/_multilayer_perceptron.py:690: ConvergenceWarning: Stochastic Optimizer: Maximum iterations (200) reached and the optimization hasn't converged yet.\n",
      "  warnings.warn(\n"
     ]
    },
    {
     "name": "stdout",
     "output_type": "stream",
     "text": [
      "[CV 2/3] END activation=logistic, hidden_layer_sizes=15, learning_rate_init=0.001;, score=0.806 total time=  15.3s\n",
      "[CV 3/3] END activation=logistic, hidden_layer_sizes=15, learning_rate_init=0.001;, score=0.804 total time=  15.4s\n",
      "[CV 1/3] END activation=logistic, hidden_layer_sizes=15, learning_rate_init=0.05;, score=0.788 total time=  13.4s\n"
     ]
    },
    {
     "name": "stderr",
     "output_type": "stream",
     "text": [
      "/root/.cache/pypoetry/virtualenvs/sin5007-lcGWJnmY-py3.11/lib/python3.11/site-packages/sklearn/neural_network/_multilayer_perceptron.py:690: ConvergenceWarning: Stochastic Optimizer: Maximum iterations (200) reached and the optimization hasn't converged yet.\n",
      "  warnings.warn(\n"
     ]
    },
    {
     "name": "stdout",
     "output_type": "stream",
     "text": [
      "[CV 1/3] END activation=logistic, hidden_layer_sizes=15, learning_rate_init=0.001;, score=0.807 total time=  16.6s\n",
      "[CV 2/3] END activation=relu, hidden_layer_sizes=5, learning_rate_init=0.01;, score=0.802 total time=   2.8s\n",
      "[CV 1/3] END activation=relu, hidden_layer_sizes=5, learning_rate_init=0.05;, score=0.806 total time=   2.0s\n"
     ]
    },
    {
     "name": "stderr",
     "output_type": "stream",
     "text": [
      "/root/.cache/pypoetry/virtualenvs/sin5007-lcGWJnmY-py3.11/lib/python3.11/site-packages/sklearn/neural_network/_multilayer_perceptron.py:690: ConvergenceWarning: Stochastic Optimizer: Maximum iterations (200) reached and the optimization hasn't converged yet.\n",
      "  warnings.warn(\n"
     ]
    },
    {
     "name": "stdout",
     "output_type": "stream",
     "text": [
      "[CV 3/3] END activation=logistic, hidden_layer_sizes=15, learning_rate_init=0.01;, score=0.791 total time=  15.6s\n"
     ]
    },
    {
     "name": "stderr",
     "output_type": "stream",
     "text": [
      "/root/.cache/pypoetry/virtualenvs/sin5007-lcGWJnmY-py3.11/lib/python3.11/site-packages/sklearn/neural_network/_multilayer_perceptron.py:690: ConvergenceWarning: Stochastic Optimizer: Maximum iterations (200) reached and the optimization hasn't converged yet.\n",
      "  warnings.warn(\n"
     ]
    },
    {
     "name": "stdout",
     "output_type": "stream",
     "text": [
      "[CV 2/3] END activation=logistic, hidden_layer_sizes=15, learning_rate_init=0.01;, score=0.791 total time=  16.8s\n",
      "[CV 3/3] END activation=relu, hidden_layer_sizes=5, learning_rate_init=0.05;, score=0.799 total time=   2.8s\n"
     ]
    },
    {
     "name": "stderr",
     "output_type": "stream",
     "text": [
      "/root/.cache/pypoetry/virtualenvs/sin5007-lcGWJnmY-py3.11/lib/python3.11/site-packages/sklearn/neural_network/_multilayer_perceptron.py:690: ConvergenceWarning: Stochastic Optimizer: Maximum iterations (200) reached and the optimization hasn't converged yet.\n",
      "  warnings.warn(\n"
     ]
    },
    {
     "name": "stdout",
     "output_type": "stream",
     "text": [
      "[CV 1/3] END activation=logistic, hidden_layer_sizes=15, learning_rate_init=0.01;, score=0.789 total time=  17.8s\n",
      "[CV 1/3] END activation=relu, hidden_layer_sizes=5, learning_rate_init=0.1;, score=0.800 total time=   1.6s\n",
      "[CV 2/3] END activation=relu, hidden_layer_sizes=5, learning_rate_init=0.05;, score=0.807 total time=   4.0s\n",
      "[CV 3/3] END activation=relu, hidden_layer_sizes=5, learning_rate_init=0.1;, score=0.800 total time=   2.1s\n",
      "[CV 2/3] END activation=relu, hidden_layer_sizes=5, learning_rate_init=0.1;, score=0.801 total time=   2.4s\n",
      "[CV 3/3] END activation=relu, hidden_layer_sizes=5, learning_rate_init=0.01;, score=0.805 total time=   5.3s\n",
      "[CV 3/3] END activation=relu, hidden_layer_sizes=5, learning_rate_init=0.001;, score=0.805 total time=   8.4s\n",
      "[CV 1/3] END activation=relu, hidden_layer_sizes=5, learning_rate_init=0.01;, score=0.802 total time=   7.8s\n",
      "[CV 1/3] END activation=relu, hidden_layer_sizes=5, learning_rate_init=0.001;, score=0.801 total time=   9.9s\n",
      "[CV 2/3] END activation=relu, hidden_layer_sizes=5, learning_rate_init=0.001;, score=0.798 total time=   9.7s\n",
      "[CV 1/3] END activation=relu, hidden_layer_sizes=10, learning_rate_init=0.1;, score=0.802 total time=   2.0s\n",
      "[CV 2/3] END activation=relu, hidden_layer_sizes=10, learning_rate_init=0.1;, score=0.807 total time=   1.8s\n",
      "[CV 2/3] END activation=relu, hidden_layer_sizes=10, learning_rate_init=0.05;, score=0.791 total time=   3.3s\n",
      "[CV 3/3] END activation=relu, hidden_layer_sizes=10, learning_rate_init=0.05;, score=0.792 total time=   3.5s\n",
      "[CV 1/3] END activation=relu, hidden_layer_sizes=10, learning_rate_init=0.05;, score=0.805 total time=   5.3s\n",
      "[CV 3/3] END activation=relu, hidden_layer_sizes=10, learning_rate_init=0.1;, score=0.808 total time=   3.5s\n",
      "[CV 3/3] END activation=relu, hidden_layer_sizes=10, learning_rate_init=0.01;, score=0.806 total time=   6.4s\n",
      "[CV 1/3] END activation=relu, hidden_layer_sizes=10, learning_rate_init=0.01;, score=0.800 total time=   7.3s\n",
      "[CV 1/3] END activation=relu, hidden_layer_sizes=15, learning_rate_init=0.05;, score=0.788 total time=   5.3s\n",
      "[CV 2/3] END activation=relu, hidden_layer_sizes=10, learning_rate_init=0.01;, score=0.802 total time=  12.1s\n"
     ]
    },
    {
     "name": "stderr",
     "output_type": "stream",
     "text": [
      "/root/.cache/pypoetry/virtualenvs/sin5007-lcGWJnmY-py3.11/lib/python3.11/site-packages/sklearn/neural_network/_multilayer_perceptron.py:690: ConvergenceWarning: Stochastic Optimizer: Maximum iterations (200) reached and the optimization hasn't converged yet.\n",
      "  warnings.warn(\n"
     ]
    },
    {
     "name": "stdout",
     "output_type": "stream",
     "text": [
      "[CV 1/3] END activation=relu, hidden_layer_sizes=10, learning_rate_init=0.001;, score=0.804 total time=  14.9s\n"
     ]
    },
    {
     "name": "stderr",
     "output_type": "stream",
     "text": [
      "/root/.cache/pypoetry/virtualenvs/sin5007-lcGWJnmY-py3.11/lib/python3.11/site-packages/sklearn/neural_network/_multilayer_perceptron.py:690: ConvergenceWarning: Stochastic Optimizer: Maximum iterations (200) reached and the optimization hasn't converged yet.\n",
      "  warnings.warn(\n"
     ]
    },
    {
     "name": "stdout",
     "output_type": "stream",
     "text": [
      "[CV 2/3] END activation=relu, hidden_layer_sizes=10, learning_rate_init=0.001;, score=0.804 total time=  14.8s\n",
      "[CV 1/3] END activation=relu, hidden_layer_sizes=15, learning_rate_init=0.01;, score=0.795 total time=   9.5s\n",
      "[CV 3/3] END activation=relu, hidden_layer_sizes=10, learning_rate_init=0.001;, score=0.806 total time=  14.9s\n",
      "[CV 2/3] END activation=relu, hidden_layer_sizes=15, learning_rate_init=0.05;, score=0.795 total time=   7.5s\n",
      "[CV 1/3] END activation=relu, hidden_layer_sizes=15, learning_rate_init=0.1;, score=0.798 total time=   2.7s\n",
      "[CV 3/3] END activation=relu, hidden_layer_sizes=15, learning_rate_init=0.01;, score=0.802 total time=   9.0s\n",
      "[CV 2/3] END activation=relu, hidden_layer_sizes=15, learning_rate_init=0.01;, score=0.802 total time=   9.3s\n",
      "[CV 3/3] END activation=relu, hidden_layer_sizes=15, learning_rate_init=0.05;, score=0.795 total time=   3.9s\n",
      "[CV 2/3] END activation=relu, hidden_layer_sizes=15, learning_rate_init=0.1;, score=0.803 total time=   2.7s\n",
      "[CV 3/3] END activation=relu, hidden_layer_sizes=15, learning_rate_init=0.1;, score=0.805 total time=   2.4s\n"
     ]
    },
    {
     "name": "stderr",
     "output_type": "stream",
     "text": [
      "/root/.cache/pypoetry/virtualenvs/sin5007-lcGWJnmY-py3.11/lib/python3.11/site-packages/sklearn/neural_network/_multilayer_perceptron.py:690: ConvergenceWarning: Stochastic Optimizer: Maximum iterations (200) reached and the optimization hasn't converged yet.\n",
      "  warnings.warn(\n",
      "/root/.cache/pypoetry/virtualenvs/sin5007-lcGWJnmY-py3.11/lib/python3.11/site-packages/sklearn/neural_network/_multilayer_perceptron.py:690: ConvergenceWarning: Stochastic Optimizer: Maximum iterations (200) reached and the optimization hasn't converged yet.\n",
      "  warnings.warn(\n"
     ]
    },
    {
     "name": "stdout",
     "output_type": "stream",
     "text": [
      "[CV 1/3] END activation=relu, hidden_layer_sizes=15, learning_rate_init=0.001;, score=0.802 total time=  12.9s\n",
      "[CV 3/3] END activation=relu, hidden_layer_sizes=15, learning_rate_init=0.001;, score=0.804 total time=  12.5s\n"
     ]
    },
    {
     "name": "stderr",
     "output_type": "stream",
     "text": [
      "/root/.cache/pypoetry/virtualenvs/sin5007-lcGWJnmY-py3.11/lib/python3.11/site-packages/sklearn/neural_network/_multilayer_perceptron.py:690: ConvergenceWarning: Stochastic Optimizer: Maximum iterations (200) reached and the optimization hasn't converged yet.\n",
      "  warnings.warn(\n"
     ]
    },
    {
     "name": "stdout",
     "output_type": "stream",
     "text": [
      "[CV 2/3] END activation=relu, hidden_layer_sizes=15, learning_rate_init=0.001;, score=0.800 total time=  13.5s\n",
      "===> 2024-10-28 15:29:30.161478 | FINALIZADO FOLD 4 | TEMPO TOTAL 0:00:55.940777\n",
      "\n",
      "====> 2024-10-28 15:29:30.162856 | EXECUTANDO FOLD 5 \n",
      "Fitting 3 folds for each of 24 candidates, totalling 72 fits\n",
      "[CV 1/3] END activation=logistic, hidden_layer_sizes=5, learning_rate_init=0.05;, score=0.796 total time=   5.7s\n",
      "[CV 3/3] END activation=logistic, hidden_layer_sizes=5, learning_rate_init=0.1;, score=0.793 total time=   6.0s\n",
      "[CV 2/3] END activation=logistic, hidden_layer_sizes=5, learning_rate_init=0.1;, score=0.796 total time=   6.3s\n",
      "[CV 1/3] END activation=logistic, hidden_layer_sizes=5, learning_rate_init=0.1;, score=0.797 total time=   6.5s\n",
      "[CV 3/3] END activation=logistic, hidden_layer_sizes=5, learning_rate_init=0.05;, score=0.790 total time=   6.7s\n",
      "[CV 2/3] END activation=logistic, hidden_layer_sizes=5, learning_rate_init=0.05;, score=0.803 total time=   7.4s\n",
      "[CV 1/3] END activation=logistic, hidden_layer_sizes=5, learning_rate_init=0.01;, score=0.798 total time=   7.7s\n",
      "[CV 3/3] END activation=logistic, hidden_layer_sizes=5, learning_rate_init=0.01;, score=0.802 total time=   8.0s\n",
      "[CV 2/3] END activation=logistic, hidden_layer_sizes=5, learning_rate_init=0.01;, score=0.802 total time=   9.6s\n",
      "[CV 2/3] END activation=logistic, hidden_layer_sizes=10, learning_rate_init=0.05;, score=0.779 total time=   7.9s\n",
      "[CV 2/3] END activation=logistic, hidden_layer_sizes=5, learning_rate_init=0.001;, score=0.799 total time=  16.0s\n",
      "[CV 1/3] END activation=logistic, hidden_layer_sizes=10, learning_rate_init=0.05;, score=0.787 total time=   9.3s\n",
      "[CV 3/3] END activation=logistic, hidden_layer_sizes=10, learning_rate_init=0.05;, score=0.797 total time=   7.5s\n",
      "[CV 3/3] END activation=logistic, hidden_layer_sizes=5, learning_rate_init=0.001;, score=0.804 total time=  17.2s\n"
     ]
    },
    {
     "name": "stderr",
     "output_type": "stream",
     "text": [
      "/root/.cache/pypoetry/virtualenvs/sin5007-lcGWJnmY-py3.11/lib/python3.11/site-packages/sklearn/neural_network/_multilayer_perceptron.py:690: ConvergenceWarning: Stochastic Optimizer: Maximum iterations (200) reached and the optimization hasn't converged yet.\n",
      "  warnings.warn(\n"
     ]
    },
    {
     "name": "stdout",
     "output_type": "stream",
     "text": [
      "[CV 1/3] END activation=logistic, hidden_layer_sizes=5, learning_rate_init=0.001;, score=0.805 total time=  17.5s\n"
     ]
    },
    {
     "name": "stderr",
     "output_type": "stream",
     "text": [
      "/root/.cache/pypoetry/virtualenvs/sin5007-lcGWJnmY-py3.11/lib/python3.11/site-packages/sklearn/neural_network/_multilayer_perceptron.py:690: ConvergenceWarning: Stochastic Optimizer: Maximum iterations (200) reached and the optimization hasn't converged yet.\n",
      "  warnings.warn(\n"
     ]
    },
    {
     "name": "stdout",
     "output_type": "stream",
     "text": [
      "[CV 1/3] END activation=logistic, hidden_layer_sizes=10, learning_rate_init=0.001;, score=0.806 total time=  13.9s\n"
     ]
    },
    {
     "name": "stderr",
     "output_type": "stream",
     "text": [
      "/root/.cache/pypoetry/virtualenvs/sin5007-lcGWJnmY-py3.11/lib/python3.11/site-packages/sklearn/neural_network/_multilayer_perceptron.py:690: ConvergenceWarning: Stochastic Optimizer: Maximum iterations (200) reached and the optimization hasn't converged yet.\n",
      "  warnings.warn(\n"
     ]
    },
    {
     "name": "stdout",
     "output_type": "stream",
     "text": [
      "[CV 2/3] END activation=logistic, hidden_layer_sizes=10, learning_rate_init=0.001;, score=0.800 total time=  13.9s\n"
     ]
    },
    {
     "name": "stderr",
     "output_type": "stream",
     "text": [
      "/root/.cache/pypoetry/virtualenvs/sin5007-lcGWJnmY-py3.11/lib/python3.11/site-packages/sklearn/neural_network/_multilayer_perceptron.py:690: ConvergenceWarning: Stochastic Optimizer: Maximum iterations (200) reached and the optimization hasn't converged yet.\n",
      "  warnings.warn(\n"
     ]
    },
    {
     "name": "stdout",
     "output_type": "stream",
     "text": [
      "[CV 3/3] END activation=logistic, hidden_layer_sizes=10, learning_rate_init=0.001;, score=0.802 total time=  13.9s\n",
      "[CV 1/3] END activation=logistic, hidden_layer_sizes=10, learning_rate_init=0.1;, score=0.797 total time=   5.9s\n",
      "[CV 3/3] END activation=logistic, hidden_layer_sizes=10, learning_rate_init=0.1;, score=0.799 total time=   6.2s\n"
     ]
    },
    {
     "name": "stderr",
     "output_type": "stream",
     "text": [
      "/root/.cache/pypoetry/virtualenvs/sin5007-lcGWJnmY-py3.11/lib/python3.11/site-packages/sklearn/neural_network/_multilayer_perceptron.py:690: ConvergenceWarning: Stochastic Optimizer: Maximum iterations (200) reached and the optimization hasn't converged yet.\n",
      "  warnings.warn(\n"
     ]
    },
    {
     "name": "stdout",
     "output_type": "stream",
     "text": [
      "[CV 2/3] END activation=logistic, hidden_layer_sizes=10, learning_rate_init=0.01;, score=0.789 total time=  16.9s\n",
      "[CV 2/3] END activation=logistic, hidden_layer_sizes=10, learning_rate_init=0.1;, score=0.774 total time=   8.3s\n",
      "[CV 3/3] END activation=logistic, hidden_layer_sizes=10, learning_rate_init=0.01;, score=0.796 total time=  17.0s\n"
     ]
    },
    {
     "name": "stderr",
     "output_type": "stream",
     "text": [
      "/root/.cache/pypoetry/virtualenvs/sin5007-lcGWJnmY-py3.11/lib/python3.11/site-packages/sklearn/neural_network/_multilayer_perceptron.py:690: ConvergenceWarning: Stochastic Optimizer: Maximum iterations (200) reached and the optimization hasn't converged yet.\n",
      "  warnings.warn(\n",
      "/root/.cache/pypoetry/virtualenvs/sin5007-lcGWJnmY-py3.11/lib/python3.11/site-packages/sklearn/neural_network/_multilayer_perceptron.py:690: ConvergenceWarning: Stochastic Optimizer: Maximum iterations (200) reached and the optimization hasn't converged yet.\n",
      "  warnings.warn(\n"
     ]
    },
    {
     "name": "stdout",
     "output_type": "stream",
     "text": [
      "[CV 1/3] END activation=logistic, hidden_layer_sizes=10, learning_rate_init=0.01;, score=0.797 total time=  18.2s\n",
      "[CV 3/3] END activation=logistic, hidden_layer_sizes=15, learning_rate_init=0.05;, score=0.789 total time=   6.3s\n",
      "[CV 1/3] END activation=logistic, hidden_layer_sizes=15, learning_rate_init=0.1;, score=0.795 total time=   6.9s\n",
      "[CV 3/3] END activation=logistic, hidden_layer_sizes=15, learning_rate_init=0.1;, score=0.796 total time=   6.8s\n",
      "[CV 2/3] END activation=logistic, hidden_layer_sizes=15, learning_rate_init=0.1;, score=0.785 total time=   7.6s\n",
      "[CV 1/3] END activation=logistic, hidden_layer_sizes=15, learning_rate_init=0.05;, score=0.789 total time=  10.3s\n"
     ]
    },
    {
     "name": "stderr",
     "output_type": "stream",
     "text": [
      "/root/.cache/pypoetry/virtualenvs/sin5007-lcGWJnmY-py3.11/lib/python3.11/site-packages/sklearn/neural_network/_multilayer_perceptron.py:690: ConvergenceWarning: Stochastic Optimizer: Maximum iterations (200) reached and the optimization hasn't converged yet.\n",
      "  warnings.warn(\n"
     ]
    },
    {
     "name": "stdout",
     "output_type": "stream",
     "text": [
      "[CV 2/3] END activation=logistic, hidden_layer_sizes=15, learning_rate_init=0.001;, score=0.802 total time=  15.7s\n",
      "[CV 2/3] END activation=logistic, hidden_layer_sizes=15, learning_rate_init=0.05;, score=0.787 total time=  10.4s\n",
      "[CV 1/3] END activation=logistic, hidden_layer_sizes=15, learning_rate_init=0.01;, score=0.784 total time=  14.0s\n",
      "[CV 3/3] END activation=logistic, hidden_layer_sizes=15, learning_rate_init=0.001;, score=0.802 total time=  16.3s\n"
     ]
    },
    {
     "name": "stderr",
     "output_type": "stream",
     "text": [
      "/root/.cache/pypoetry/virtualenvs/sin5007-lcGWJnmY-py3.11/lib/python3.11/site-packages/sklearn/neural_network/_multilayer_perceptron.py:690: ConvergenceWarning: Stochastic Optimizer: Maximum iterations (200) reached and the optimization hasn't converged yet.\n",
      "  warnings.warn(\n",
      "/root/.cache/pypoetry/virtualenvs/sin5007-lcGWJnmY-py3.11/lib/python3.11/site-packages/sklearn/neural_network/_multilayer_perceptron.py:690: ConvergenceWarning: Stochastic Optimizer: Maximum iterations (200) reached and the optimization hasn't converged yet.\n",
      "  warnings.warn(\n",
      "/root/.cache/pypoetry/virtualenvs/sin5007-lcGWJnmY-py3.11/lib/python3.11/site-packages/sklearn/neural_network/_multilayer_perceptron.py:690: ConvergenceWarning: Stochastic Optimizer: Maximum iterations (200) reached and the optimization hasn't converged yet.\n",
      "  warnings.warn(\n",
      "/root/.cache/pypoetry/virtualenvs/sin5007-lcGWJnmY-py3.11/lib/python3.11/site-packages/sklearn/neural_network/_multilayer_perceptron.py:690: ConvergenceWarning: Stochastic Optimizer: Maximum iterations (200) reached and the optimization hasn't converged yet.\n",
      "  warnings.warn(\n"
     ]
    },
    {
     "name": "stdout",
     "output_type": "stream",
     "text": [
      "[CV 3/3] END activation=logistic, hidden_layer_sizes=15, learning_rate_init=0.01;, score=0.793 total time=  13.7s\n",
      "[CV 2/3] END activation=logistic, hidden_layer_sizes=15, learning_rate_init=0.01;, score=0.782 total time=  14.0s\n"
     ]
    },
    {
     "name": "stderr",
     "output_type": "stream",
     "text": [
      "/root/.cache/pypoetry/virtualenvs/sin5007-lcGWJnmY-py3.11/lib/python3.11/site-packages/sklearn/neural_network/_multilayer_perceptron.py:690: ConvergenceWarning: Stochastic Optimizer: Maximum iterations (200) reached and the optimization hasn't converged yet.\n",
      "  warnings.warn(\n"
     ]
    },
    {
     "name": "stdout",
     "output_type": "stream",
     "text": [
      "[CV 1/3] END activation=logistic, hidden_layer_sizes=15, learning_rate_init=0.001;, score=0.813 total time=  17.2s\n",
      "[CV 2/3] END activation=relu, hidden_layer_sizes=5, learning_rate_init=0.05;, score=0.793 total time=   4.1s\n",
      "[CV 2/3] END activation=relu, hidden_layer_sizes=5, learning_rate_init=0.1;, score=0.795 total time=   4.0s\n",
      "[CV 1/3] END activation=relu, hidden_layer_sizes=5, learning_rate_init=0.1;, score=0.802 total time=   4.2s\n",
      "[CV 3/3] END activation=relu, hidden_layer_sizes=5, learning_rate_init=0.05;, score=0.805 total time=   5.0s\n",
      "[CV 2/3] END activation=relu, hidden_layer_sizes=5, learning_rate_init=0.01;, score=0.795 total time=   7.1s\n",
      "[CV 3/3] END activation=relu, hidden_layer_sizes=5, learning_rate_init=0.1;, score=0.798 total time=   5.0s\n",
      "[CV 3/3] END activation=relu, hidden_layer_sizes=5, learning_rate_init=0.01;, score=0.803 total time=   6.8s\n",
      "[CV 1/3] END activation=relu, hidden_layer_sizes=5, learning_rate_init=0.01;, score=0.801 total time=   8.3s\n",
      "[CV 1/3] END activation=relu, hidden_layer_sizes=5, learning_rate_init=0.05;, score=0.801 total time=   7.3s\n",
      "[CV 1/3] END activation=relu, hidden_layer_sizes=5, learning_rate_init=0.001;, score=0.805 total time=  11.0s\n",
      "[CV 3/3] END activation=relu, hidden_layer_sizes=5, learning_rate_init=0.001;, score=0.806 total time=  10.2s\n",
      "[CV 2/3] END activation=relu, hidden_layer_sizes=5, learning_rate_init=0.001;, score=0.793 total time=  12.3s\n",
      "[CV 1/3] END activation=relu, hidden_layer_sizes=10, learning_rate_init=0.1;, score=0.801 total time=   3.1s\n",
      "[CV 2/3] END activation=relu, hidden_layer_sizes=10, learning_rate_init=0.05;, score=0.804 total time=   4.0s\n",
      "[CV 1/3] END activation=relu, hidden_layer_sizes=10, learning_rate_init=0.01;, score=0.799 total time=   6.0s\n",
      "[CV 3/3] END activation=relu, hidden_layer_sizes=10, learning_rate_init=0.05;, score=0.805 total time=   4.8s\n",
      "[CV 1/3] END activation=relu, hidden_layer_sizes=10, learning_rate_init=0.05;, score=0.796 total time=   6.1s\n",
      "[CV 2/3] END activation=relu, hidden_layer_sizes=10, learning_rate_init=0.1;, score=0.805 total time=   5.3s\n",
      "[CV 3/3] END activation=relu, hidden_layer_sizes=10, learning_rate_init=0.01;, score=0.797 total time=   8.0s\n",
      "[CV 3/3] END activation=relu, hidden_layer_sizes=10, learning_rate_init=0.1;, score=0.810 total time=   4.6s\n",
      "[CV 2/3] END activation=relu, hidden_layer_sizes=10, learning_rate_init=0.01;, score=0.798 total time=   9.0s\n"
     ]
    },
    {
     "name": "stderr",
     "output_type": "stream",
     "text": [
      "/root/.cache/pypoetry/virtualenvs/sin5007-lcGWJnmY-py3.11/lib/python3.11/site-packages/sklearn/neural_network/_multilayer_perceptron.py:690: ConvergenceWarning: Stochastic Optimizer: Maximum iterations (200) reached and the optimization hasn't converged yet.\n",
      "  warnings.warn(\n",
      "/root/.cache/pypoetry/virtualenvs/sin5007-lcGWJnmY-py3.11/lib/python3.11/site-packages/sklearn/neural_network/_multilayer_perceptron.py:690: ConvergenceWarning: Stochastic Optimizer: Maximum iterations (200) reached and the optimization hasn't converged yet.\n",
      "  warnings.warn(\n"
     ]
    },
    {
     "name": "stdout",
     "output_type": "stream",
     "text": [
      "[CV 1/3] END activation=relu, hidden_layer_sizes=10, learning_rate_init=0.001;, score=0.805 total time=  12.5s\n",
      "[CV 2/3] END activation=relu, hidden_layer_sizes=10, learning_rate_init=0.001;, score=0.801 total time=  12.5s\n"
     ]
    },
    {
     "name": "stderr",
     "output_type": "stream",
     "text": [
      "/root/.cache/pypoetry/virtualenvs/sin5007-lcGWJnmY-py3.11/lib/python3.11/site-packages/sklearn/neural_network/_multilayer_perceptron.py:690: ConvergenceWarning: Stochastic Optimizer: Maximum iterations (200) reached and the optimization hasn't converged yet.\n",
      "  warnings.warn(\n"
     ]
    },
    {
     "name": "stdout",
     "output_type": "stream",
     "text": [
      "[CV 3/3] END activation=relu, hidden_layer_sizes=10, learning_rate_init=0.001;, score=0.801 total time=  12.6s\n",
      "[CV 3/3] END activation=relu, hidden_layer_sizes=15, learning_rate_init=0.05;, score=0.801 total time=   4.7s\n",
      "[CV 2/3] END activation=relu, hidden_layer_sizes=15, learning_rate_init=0.1;, score=0.804 total time=   3.1s\n",
      "[CV 3/3] END activation=relu, hidden_layer_sizes=15, learning_rate_init=0.01;, score=0.802 total time=   6.7s\n",
      "[CV 3/3] END activation=relu, hidden_layer_sizes=15, learning_rate_init=0.1;, score=0.799 total time=   3.2s\n",
      "[CV 1/3] END activation=relu, hidden_layer_sizes=15, learning_rate_init=0.05;, score=0.794 total time=   7.3s\n",
      "[CV 1/3] END activation=relu, hidden_layer_sizes=15, learning_rate_init=0.1;, score=0.799 total time=   4.5s\n",
      "[CV 2/3] END activation=relu, hidden_layer_sizes=15, learning_rate_init=0.01;, score=0.792 total time=   9.5s\n",
      "[CV 2/3] END activation=relu, hidden_layer_sizes=15, learning_rate_init=0.05;, score=0.787 total time=   7.6s\n"
     ]
    },
    {
     "name": "stderr",
     "output_type": "stream",
     "text": [
      "/root/.cache/pypoetry/virtualenvs/sin5007-lcGWJnmY-py3.11/lib/python3.11/site-packages/sklearn/neural_network/_multilayer_perceptron.py:690: ConvergenceWarning: Stochastic Optimizer: Maximum iterations (200) reached and the optimization hasn't converged yet.\n",
      "  warnings.warn(\n"
     ]
    },
    {
     "name": "stdout",
     "output_type": "stream",
     "text": [
      "[CV 1/3] END activation=relu, hidden_layer_sizes=15, learning_rate_init=0.001;, score=0.809 total time=  12.2s\n"
     ]
    },
    {
     "name": "stderr",
     "output_type": "stream",
     "text": [
      "/root/.cache/pypoetry/virtualenvs/sin5007-lcGWJnmY-py3.11/lib/python3.11/site-packages/sklearn/neural_network/_multilayer_perceptron.py:690: ConvergenceWarning: Stochastic Optimizer: Maximum iterations (200) reached and the optimization hasn't converged yet.\n",
      "  warnings.warn(\n"
     ]
    },
    {
     "name": "stdout",
     "output_type": "stream",
     "text": [
      "[CV 2/3] END activation=relu, hidden_layer_sizes=15, learning_rate_init=0.001;, score=0.799 total time=  12.1s\n",
      "[CV 1/3] END activation=relu, hidden_layer_sizes=15, learning_rate_init=0.01;, score=0.794 total time=  11.0s\n",
      "[CV 3/3] END activation=relu, hidden_layer_sizes=15, learning_rate_init=0.001;, score=0.810 total time=  11.9s\n"
     ]
    },
    {
     "name": "stderr",
     "output_type": "stream",
     "text": [
      "/root/.cache/pypoetry/virtualenvs/sin5007-lcGWJnmY-py3.11/lib/python3.11/site-packages/sklearn/neural_network/_multilayer_perceptron.py:690: ConvergenceWarning: Stochastic Optimizer: Maximum iterations (200) reached and the optimization hasn't converged yet.\n",
      "  warnings.warn(\n"
     ]
    },
    {
     "name": "stdout",
     "output_type": "stream",
     "text": [
      "===> 2024-10-28 15:30:34.303028 | FINALIZADO FOLD 5 | TEMPO TOTAL 0:01:04.140172\n",
      "\n",
      "====> 2024-10-28 15:30:34.304129 | EXECUTANDO FOLD 6 \n",
      "Fitting 3 folds for each of 24 candidates, totalling 72 fits\n",
      "[CV 1/3] END activation=logistic, hidden_layer_sizes=5, learning_rate_init=0.1;, score=0.794 total time=   2.2s\n",
      "[CV 1/3] END activation=logistic, hidden_layer_sizes=5, learning_rate_init=0.05;, score=0.803 total time=   3.8s\n",
      "[CV 3/3] END activation=logistic, hidden_layer_sizes=5, learning_rate_init=0.1;, score=0.794 total time=   4.0s\n",
      "[CV 3/3] END activation=logistic, hidden_layer_sizes=5, learning_rate_init=0.05;, score=0.799 total time=   6.6s\n",
      "[CV 2/3] END activation=logistic, hidden_layer_sizes=5, learning_rate_init=0.1;, score=0.804 total time=   6.6s\n",
      "[CV 2/3] END activation=logistic, hidden_layer_sizes=5, learning_rate_init=0.05;, score=0.810 total time=   6.7s\n",
      "[CV 1/3] END activation=logistic, hidden_layer_sizes=5, learning_rate_init=0.01;, score=0.801 total time=   7.9s\n",
      "[CV 2/3] END activation=logistic, hidden_layer_sizes=5, learning_rate_init=0.01;, score=0.808 total time=   8.6s\n",
      "[CV 3/3] END activation=logistic, hidden_layer_sizes=5, learning_rate_init=0.01;, score=0.802 total time=   9.1s\n",
      "[CV 2/3] END activation=logistic, hidden_layer_sizes=5, learning_rate_init=0.001;, score=0.805 total time=  12.0s\n"
     ]
    },
    {
     "name": "stderr",
     "output_type": "stream",
     "text": [
      "/root/.cache/pypoetry/virtualenvs/sin5007-lcGWJnmY-py3.11/lib/python3.11/site-packages/sklearn/neural_network/_multilayer_perceptron.py:690: ConvergenceWarning: Stochastic Optimizer: Maximum iterations (200) reached and the optimization hasn't converged yet.\n",
      "  warnings.warn(\n"
     ]
    },
    {
     "name": "stdout",
     "output_type": "stream",
     "text": [
      "[CV 1/3] END activation=logistic, hidden_layer_sizes=5, learning_rate_init=0.001;, score=0.810 total time=  13.3s\n",
      "[CV 3/3] END activation=logistic, hidden_layer_sizes=5, learning_rate_init=0.001;, score=0.803 total time=  13.5s\n",
      "[CV 1/3] END activation=logistic, hidden_layer_sizes=10, learning_rate_init=0.05;, score=0.784 total time=   8.3s\n",
      "[CV 1/3] END activation=logistic, hidden_layer_sizes=10, learning_rate_init=0.1;, score=0.794 total time=   5.0s\n",
      "[CV 2/3] END activation=logistic, hidden_layer_sizes=10, learning_rate_init=0.05;, score=0.787 total time=   8.5s\n",
      "[CV 3/3] END activation=logistic, hidden_layer_sizes=10, learning_rate_init=0.01;, score=0.795 total time=  10.5s\n",
      "[CV 3/3] END activation=logistic, hidden_layer_sizes=10, learning_rate_init=0.05;, score=0.796 total time=   8.6s\n"
     ]
    },
    {
     "name": "stderr",
     "output_type": "stream",
     "text": [
      "/root/.cache/pypoetry/virtualenvs/sin5007-lcGWJnmY-py3.11/lib/python3.11/site-packages/sklearn/neural_network/_multilayer_perceptron.py:690: ConvergenceWarning: Stochastic Optimizer: Maximum iterations (200) reached and the optimization hasn't converged yet.\n",
      "  warnings.warn(\n"
     ]
    },
    {
     "name": "stdout",
     "output_type": "stream",
     "text": [
      "[CV 1/3] END activation=logistic, hidden_layer_sizes=10, learning_rate_init=0.001;, score=0.808 total time=  15.7s\n",
      "[CV 3/3] END activation=logistic, hidden_layer_sizes=10, learning_rate_init=0.1;, score=0.796 total time=   5.2s\n",
      "[CV 2/3] END activation=logistic, hidden_layer_sizes=10, learning_rate_init=0.1;, score=0.786 total time=   5.6s\n"
     ]
    },
    {
     "name": "stderr",
     "output_type": "stream",
     "text": [
      "/root/.cache/pypoetry/virtualenvs/sin5007-lcGWJnmY-py3.11/lib/python3.11/site-packages/sklearn/neural_network/_multilayer_perceptron.py:690: ConvergenceWarning: Stochastic Optimizer: Maximum iterations (200) reached and the optimization hasn't converged yet.\n",
      "  warnings.warn(\n"
     ]
    },
    {
     "name": "stdout",
     "output_type": "stream",
     "text": [
      "[CV 2/3] END activation=logistic, hidden_layer_sizes=10, learning_rate_init=0.001;, score=0.807 total time=  15.3s\n"
     ]
    },
    {
     "name": "stderr",
     "output_type": "stream",
     "text": [
      "/root/.cache/pypoetry/virtualenvs/sin5007-lcGWJnmY-py3.11/lib/python3.11/site-packages/sklearn/neural_network/_multilayer_perceptron.py:690: ConvergenceWarning: Stochastic Optimizer: Maximum iterations (200) reached and the optimization hasn't converged yet.\n",
      "  warnings.warn(\n"
     ]
    },
    {
     "name": "stdout",
     "output_type": "stream",
     "text": [
      "[CV 1/3] END activation=logistic, hidden_layer_sizes=10, learning_rate_init=0.01;, score=0.793 total time=  13.5s\n"
     ]
    },
    {
     "name": "stderr",
     "output_type": "stream",
     "text": [
      "/root/.cache/pypoetry/virtualenvs/sin5007-lcGWJnmY-py3.11/lib/python3.11/site-packages/sklearn/neural_network/_multilayer_perceptron.py:690: ConvergenceWarning: Stochastic Optimizer: Maximum iterations (200) reached and the optimization hasn't converged yet.\n",
      "  warnings.warn(\n"
     ]
    },
    {
     "name": "stdout",
     "output_type": "stream",
     "text": [
      "[CV 3/3] END activation=logistic, hidden_layer_sizes=10, learning_rate_init=0.001;, score=0.804 total time=  16.6s\n"
     ]
    },
    {
     "name": "stderr",
     "output_type": "stream",
     "text": [
      "/root/.cache/pypoetry/virtualenvs/sin5007-lcGWJnmY-py3.11/lib/python3.11/site-packages/sklearn/neural_network/_multilayer_perceptron.py:690: ConvergenceWarning: Stochastic Optimizer: Maximum iterations (200) reached and the optimization hasn't converged yet.\n",
      "  warnings.warn(\n"
     ]
    },
    {
     "name": "stdout",
     "output_type": "stream",
     "text": [
      "[CV 2/3] END activation=logistic, hidden_layer_sizes=10, learning_rate_init=0.01;, score=0.795 total time=  15.1s\n",
      "[CV 1/3] END activation=logistic, hidden_layer_sizes=15, learning_rate_init=0.1;, score=0.786 total time=   7.5s\n",
      "[CV 3/3] END activation=logistic, hidden_layer_sizes=15, learning_rate_init=0.1;, score=0.798 total time=   6.3s\n",
      "[CV 2/3] END activation=logistic, hidden_layer_sizes=15, learning_rate_init=0.05;, score=0.800 total time=   9.2s\n",
      "[CV 1/3] END activation=logistic, hidden_layer_sizes=15, learning_rate_init=0.05;, score=0.785 total time=   9.4s\n",
      "[CV 3/3] END activation=logistic, hidden_layer_sizes=15, learning_rate_init=0.05;, score=0.782 total time=   9.9s\n",
      "[CV 2/3] END activation=logistic, hidden_layer_sizes=15, learning_rate_init=0.1;, score=0.791 total time=   8.5s\n"
     ]
    },
    {
     "name": "stderr",
     "output_type": "stream",
     "text": [
      "/root/.cache/pypoetry/virtualenvs/sin5007-lcGWJnmY-py3.11/lib/python3.11/site-packages/sklearn/neural_network/_multilayer_perceptron.py:690: ConvergenceWarning: Stochastic Optimizer: Maximum iterations (200) reached and the optimization hasn't converged yet.\n",
      "  warnings.warn(\n"
     ]
    },
    {
     "name": "stdout",
     "output_type": "stream",
     "text": [
      "[CV 1/3] END activation=logistic, hidden_layer_sizes=15, learning_rate_init=0.001;, score=0.808 total time=  13.3s\n"
     ]
    },
    {
     "name": "stderr",
     "output_type": "stream",
     "text": [
      "/root/.cache/pypoetry/virtualenvs/sin5007-lcGWJnmY-py3.11/lib/python3.11/site-packages/sklearn/neural_network/_multilayer_perceptron.py:690: ConvergenceWarning: Stochastic Optimizer: Maximum iterations (200) reached and the optimization hasn't converged yet.\n",
      "  warnings.warn(\n"
     ]
    },
    {
     "name": "stdout",
     "output_type": "stream",
     "text": [
      "[CV 2/3] END activation=logistic, hidden_layer_sizes=15, learning_rate_init=0.001;, score=0.810 total time=  13.9s\n",
      "[CV 1/3] END activation=relu, hidden_layer_sizes=5, learning_rate_init=0.05;, score=0.805 total time=   1.9s\n",
      "[CV 1/3] END activation=relu, hidden_layer_sizes=5, learning_rate_init=0.01;, score=0.800 total time=   4.5s\n",
      "[CV 3/3] END activation=logistic, hidden_layer_sizes=15, learning_rate_init=0.001;, score=0.804 total time=  15.6s\n",
      "[CV 2/3] END activation=logistic, hidden_layer_sizes=15, learning_rate_init=0.01;, score=0.791 total time=  15.2s\n"
     ]
    },
    {
     "name": "stderr",
     "output_type": "stream",
     "text": [
      "/root/.cache/pypoetry/virtualenvs/sin5007-lcGWJnmY-py3.11/lib/python3.11/site-packages/sklearn/neural_network/_multilayer_perceptron.py:690: ConvergenceWarning: Stochastic Optimizer: Maximum iterations (200) reached and the optimization hasn't converged yet.\n",
      "  warnings.warn(\n",
      "/root/.cache/pypoetry/virtualenvs/sin5007-lcGWJnmY-py3.11/lib/python3.11/site-packages/sklearn/neural_network/_multilayer_perceptron.py:690: ConvergenceWarning: Stochastic Optimizer: Maximum iterations (200) reached and the optimization hasn't converged yet.\n",
      "  warnings.warn(\n",
      "/root/.cache/pypoetry/virtualenvs/sin5007-lcGWJnmY-py3.11/lib/python3.11/site-packages/sklearn/neural_network/_multilayer_perceptron.py:690: ConvergenceWarning: Stochastic Optimizer: Maximum iterations (200) reached and the optimization hasn't converged yet.\n",
      "  warnings.warn(\n",
      "/root/.cache/pypoetry/virtualenvs/sin5007-lcGWJnmY-py3.11/lib/python3.11/site-packages/sklearn/neural_network/_multilayer_perceptron.py:690: ConvergenceWarning: Stochastic Optimizer: Maximum iterations (200) reached and the optimization hasn't converged yet.\n",
      "  warnings.warn(\n"
     ]
    },
    {
     "name": "stdout",
     "output_type": "stream",
     "text": [
      "[CV 1/3] END activation=logistic, hidden_layer_sizes=15, learning_rate_init=0.01;, score=0.787 total time=  15.7s\n",
      "[CV 3/3] END activation=logistic, hidden_layer_sizes=15, learning_rate_init=0.01;, score=0.799 total time=  15.1s\n",
      "[CV 3/3] END activation=relu, hidden_layer_sizes=5, learning_rate_init=0.05;, score=0.804 total time=   1.6s\n",
      "[CV 2/3] END activation=relu, hidden_layer_sizes=5, learning_rate_init=0.05;, score=0.797 total time=   2.2s\n",
      "[CV 1/3] END activation=relu, hidden_layer_sizes=5, learning_rate_init=0.1;, score=0.806 total time=   1.4s\n",
      "[CV 2/3] END activation=relu, hidden_layer_sizes=5, learning_rate_init=0.01;, score=0.803 total time=   5.8s\n",
      "[CV 3/3] END activation=relu, hidden_layer_sizes=5, learning_rate_init=0.1;, score=0.797 total time=   2.0s\n",
      "[CV 2/3] END activation=relu, hidden_layer_sizes=5, learning_rate_init=0.1;, score=0.802 total time=   2.3s\n",
      "[CV 3/3] END activation=relu, hidden_layer_sizes=5, learning_rate_init=0.01;, score=0.807 total time=   6.3s\n",
      "[CV 3/3] END activation=relu, hidden_layer_sizes=5, learning_rate_init=0.001;, score=0.809 total time=   9.4s\n",
      "[CV 2/3] END activation=relu, hidden_layer_sizes=5, learning_rate_init=0.001;, score=0.803 total time=  10.1s\n",
      "[CV 2/3] END activation=relu, hidden_layer_sizes=10, learning_rate_init=0.05;, score=0.812 total time=   6.1s\n",
      "[CV 3/3] END activation=relu, hidden_layer_sizes=10, learning_rate_init=0.05;, score=0.789 total time=   5.9s\n",
      "[CV 1/3] END activation=relu, hidden_layer_sizes=10, learning_rate_init=0.01;, score=0.799 total time=   8.3s\n",
      "[CV 1/3] END activation=relu, hidden_layer_sizes=10, learning_rate_init=0.05;, score=0.807 total time=   6.9s\n"
     ]
    },
    {
     "name": "stderr",
     "output_type": "stream",
     "text": [
      "/root/.cache/pypoetry/virtualenvs/sin5007-lcGWJnmY-py3.11/lib/python3.11/site-packages/sklearn/neural_network/_multilayer_perceptron.py:690: ConvergenceWarning: Stochastic Optimizer: Maximum iterations (200) reached and the optimization hasn't converged yet.\n",
      "  warnings.warn(\n"
     ]
    },
    {
     "name": "stdout",
     "output_type": "stream",
     "text": [
      "[CV 1/3] END activation=relu, hidden_layer_sizes=5, learning_rate_init=0.001;, score=0.805 total time=  14.8s\n",
      "[CV 1/3] END activation=relu, hidden_layer_sizes=10, learning_rate_init=0.1;, score=0.799 total time=   5.3s\n",
      "[CV 3/3] END activation=relu, hidden_layer_sizes=10, learning_rate_init=0.1;, score=0.806 total time=   3.6s\n",
      "[CV 2/3] END activation=relu, hidden_layer_sizes=10, learning_rate_init=0.01;, score=0.806 total time=  11.1s\n",
      "[CV 2/3] END activation=relu, hidden_layer_sizes=10, learning_rate_init=0.1;, score=0.808 total time=   7.0s\n",
      "[CV 3/3] END activation=relu, hidden_layer_sizes=10, learning_rate_init=0.01;, score=0.793 total time=  11.2s\n",
      "[CV 3/3] END activation=relu, hidden_layer_sizes=10, learning_rate_init=0.001;, score=0.802 total time=  13.2s\n",
      "[CV 1/3] END activation=relu, hidden_layer_sizes=15, learning_rate_init=0.05;, score=0.799 total time=   3.5s\n"
     ]
    },
    {
     "name": "stderr",
     "output_type": "stream",
     "text": [
      "/root/.cache/pypoetry/virtualenvs/sin5007-lcGWJnmY-py3.11/lib/python3.11/site-packages/sklearn/neural_network/_multilayer_perceptron.py:690: ConvergenceWarning: Stochastic Optimizer: Maximum iterations (200) reached and the optimization hasn't converged yet.\n",
      "  warnings.warn(\n"
     ]
    },
    {
     "name": "stdout",
     "output_type": "stream",
     "text": [
      "[CV 2/3] END activation=relu, hidden_layer_sizes=10, learning_rate_init=0.001;, score=0.806 total time=  15.8s\n"
     ]
    },
    {
     "name": "stderr",
     "output_type": "stream",
     "text": [
      "/root/.cache/pypoetry/virtualenvs/sin5007-lcGWJnmY-py3.11/lib/python3.11/site-packages/sklearn/neural_network/_multilayer_perceptron.py:690: ConvergenceWarning: Stochastic Optimizer: Maximum iterations (200) reached and the optimization hasn't converged yet.\n",
      "  warnings.warn(\n"
     ]
    },
    {
     "name": "stdout",
     "output_type": "stream",
     "text": [
      "[CV 1/3] END activation=relu, hidden_layer_sizes=10, learning_rate_init=0.001;, score=0.807 total time=  16.6s\n",
      "[CV 1/3] END activation=relu, hidden_layer_sizes=15, learning_rate_init=0.01;, score=0.803 total time=   7.8s\n",
      "[CV 3/3] END activation=relu, hidden_layer_sizes=15, learning_rate_init=0.05;, score=0.802 total time=   4.8s\n",
      "[CV 1/3] END activation=relu, hidden_layer_sizes=15, learning_rate_init=0.1;, score=0.798 total time=   4.4s\n",
      "[CV 2/3] END activation=relu, hidden_layer_sizes=15, learning_rate_init=0.1;, score=0.809 total time=   2.6s\n",
      "[CV 3/3] END activation=relu, hidden_layer_sizes=15, learning_rate_init=0.1;, score=0.805 total time=   2.7s\n",
      "[CV 3/3] END activation=relu, hidden_layer_sizes=15, learning_rate_init=0.01;, score=0.806 total time=   7.1s\n",
      "[CV 2/3] END activation=relu, hidden_layer_sizes=15, learning_rate_init=0.01;, score=0.802 total time=   9.0s\n",
      "[CV 2/3] END activation=relu, hidden_layer_sizes=15, learning_rate_init=0.05;, score=0.796 total time=   7.3s\n"
     ]
    },
    {
     "name": "stderr",
     "output_type": "stream",
     "text": [
      "/root/.cache/pypoetry/virtualenvs/sin5007-lcGWJnmY-py3.11/lib/python3.11/site-packages/sklearn/neural_network/_multilayer_perceptron.py:690: ConvergenceWarning: Stochastic Optimizer: Maximum iterations (200) reached and the optimization hasn't converged yet.\n",
      "  warnings.warn(\n"
     ]
    },
    {
     "name": "stdout",
     "output_type": "stream",
     "text": [
      "[CV 2/3] END activation=relu, hidden_layer_sizes=15, learning_rate_init=0.001;, score=0.811 total time=  11.6s\n"
     ]
    },
    {
     "name": "stderr",
     "output_type": "stream",
     "text": [
      "/root/.cache/pypoetry/virtualenvs/sin5007-lcGWJnmY-py3.11/lib/python3.11/site-packages/sklearn/neural_network/_multilayer_perceptron.py:690: ConvergenceWarning: Stochastic Optimizer: Maximum iterations (200) reached and the optimization hasn't converged yet.\n",
      "  warnings.warn(\n",
      "/root/.cache/pypoetry/virtualenvs/sin5007-lcGWJnmY-py3.11/lib/python3.11/site-packages/sklearn/neural_network/_multilayer_perceptron.py:690: ConvergenceWarning: Stochastic Optimizer: Maximum iterations (200) reached and the optimization hasn't converged yet.\n",
      "  warnings.warn(\n"
     ]
    },
    {
     "name": "stdout",
     "output_type": "stream",
     "text": [
      "[CV 1/3] END activation=relu, hidden_layer_sizes=15, learning_rate_init=0.001;, score=0.805 total time=  12.1s\n",
      "[CV 3/3] END activation=relu, hidden_layer_sizes=15, learning_rate_init=0.001;, score=0.811 total time=  11.7s\n",
      "===> 2024-10-28 15:31:35.093462 | FINALIZADO FOLD 6 | TEMPO TOTAL 0:01:00.789333\n",
      "\n",
      "====> 2024-10-28 15:31:35.093867 | EXECUTANDO FOLD 7 \n",
      "Fitting 3 folds for each of 24 candidates, totalling 72 fits\n",
      "[CV 2/3] END activation=logistic, hidden_layer_sizes=5, learning_rate_init=0.05;, score=0.802 total time=   2.7s\n",
      "[CV 1/3] END activation=logistic, hidden_layer_sizes=5, learning_rate_init=0.1;, score=0.792 total time=   3.9s\n",
      "[CV 1/3] END activation=logistic, hidden_layer_sizes=5, learning_rate_init=0.05;, score=0.797 total time=   4.0s\n",
      "[CV 3/3] END activation=logistic, hidden_layer_sizes=5, learning_rate_init=0.01;, score=0.802 total time=   4.6s\n",
      "[CV 3/3] END activation=logistic, hidden_layer_sizes=5, learning_rate_init=0.05;, score=0.799 total time=   5.1s\n",
      "[CV 1/3] END activation=logistic, hidden_layer_sizes=5, learning_rate_init=0.01;, score=0.802 total time=   6.0s\n",
      "[CV 2/3] END activation=logistic, hidden_layer_sizes=5, learning_rate_init=0.01;, score=0.804 total time=   6.1s\n",
      "[CV 3/3] END activation=logistic, hidden_layer_sizes=5, learning_rate_init=0.1;, score=0.803 total time=   6.0s\n",
      "[CV 2/3] END activation=logistic, hidden_layer_sizes=5, learning_rate_init=0.1;, score=0.800 total time=   6.0s\n",
      "[CV 2/3] END activation=logistic, hidden_layer_sizes=5, learning_rate_init=0.001;, score=0.804 total time=  10.7s\n",
      "[CV 3/3] END activation=logistic, hidden_layer_sizes=10, learning_rate_init=0.05;, score=0.798 total time=   7.4s\n"
     ]
    },
    {
     "name": "stderr",
     "output_type": "stream",
     "text": [
      "/root/.cache/pypoetry/virtualenvs/sin5007-lcGWJnmY-py3.11/lib/python3.11/site-packages/sklearn/neural_network/_multilayer_perceptron.py:690: ConvergenceWarning: Stochastic Optimizer: Maximum iterations (200) reached and the optimization hasn't converged yet.\n",
      "  warnings.warn(\n"
     ]
    },
    {
     "name": "stdout",
     "output_type": "stream",
     "text": [
      "[CV 3/3] END activation=logistic, hidden_layer_sizes=5, learning_rate_init=0.001;, score=0.803 total time=  14.1s\n"
     ]
    },
    {
     "name": "stderr",
     "output_type": "stream",
     "text": [
      "/root/.cache/pypoetry/virtualenvs/sin5007-lcGWJnmY-py3.11/lib/python3.11/site-packages/sklearn/neural_network/_multilayer_perceptron.py:690: ConvergenceWarning: Stochastic Optimizer: Maximum iterations (200) reached and the optimization hasn't converged yet.\n",
      "  warnings.warn(\n"
     ]
    },
    {
     "name": "stdout",
     "output_type": "stream",
     "text": [
      "[CV 1/3] END activation=logistic, hidden_layer_sizes=5, learning_rate_init=0.001;, score=0.806 total time=  14.6s\n",
      "[CV 1/3] END activation=logistic, hidden_layer_sizes=10, learning_rate_init=0.05;, score=0.790 total time=   9.4s\n"
     ]
    },
    {
     "name": "stderr",
     "output_type": "stream",
     "text": [
      "/root/.cache/pypoetry/virtualenvs/sin5007-lcGWJnmY-py3.11/lib/python3.11/site-packages/sklearn/neural_network/_multilayer_perceptron.py:690: ConvergenceWarning: Stochastic Optimizer: Maximum iterations (200) reached and the optimization hasn't converged yet.\n",
      "  warnings.warn(\n"
     ]
    },
    {
     "name": "stdout",
     "output_type": "stream",
     "text": [
      "[CV 2/3] END activation=logistic, hidden_layer_sizes=10, learning_rate_init=0.05;, score=0.792 total time=  10.5s[CV 1/3] END activation=logistic, hidden_layer_sizes=10, learning_rate_init=0.001;, score=0.805 total time=  13.9s\n",
      "\n",
      "[CV 1/3] END activation=logistic, hidden_layer_sizes=10, learning_rate_init=0.1;, score=0.787 total time=   7.8s\n",
      "[CV 2/3] END activation=logistic, hidden_layer_sizes=10, learning_rate_init=0.1;, score=0.789 total time=   5.3s\n"
     ]
    },
    {
     "name": "stderr",
     "output_type": "stream",
     "text": [
      "/root/.cache/pypoetry/virtualenvs/sin5007-lcGWJnmY-py3.11/lib/python3.11/site-packages/sklearn/neural_network/_multilayer_perceptron.py:690: ConvergenceWarning: Stochastic Optimizer: Maximum iterations (200) reached and the optimization hasn't converged yet.\n",
      "  warnings.warn(\n",
      "/root/.cache/pypoetry/virtualenvs/sin5007-lcGWJnmY-py3.11/lib/python3.11/site-packages/sklearn/neural_network/_multilayer_perceptron.py:690: ConvergenceWarning: Stochastic Optimizer: Maximum iterations (200) reached and the optimization hasn't converged yet.\n",
      "  warnings.warn(\n"
     ]
    },
    {
     "name": "stdout",
     "output_type": "stream",
     "text": [
      "[CV 2/3] END activation=logistic, hidden_layer_sizes=10, learning_rate_init=0.001;, score=0.805 total time=  15.8s\n",
      "[CV 1/3] END activation=logistic, hidden_layer_sizes=10, learning_rate_init=0.01;, score=0.792 total time=  15.2s\n"
     ]
    },
    {
     "name": "stderr",
     "output_type": "stream",
     "text": [
      "/root/.cache/pypoetry/virtualenvs/sin5007-lcGWJnmY-py3.11/lib/python3.11/site-packages/sklearn/neural_network/_multilayer_perceptron.py:690: ConvergenceWarning: Stochastic Optimizer: Maximum iterations (200) reached and the optimization hasn't converged yet.\n",
      "  warnings.warn(\n"
     ]
    },
    {
     "name": "stdout",
     "output_type": "stream",
     "text": [
      "[CV 3/3] END activation=logistic, hidden_layer_sizes=10, learning_rate_init=0.001;, score=0.801 total time=  16.0s\n"
     ]
    },
    {
     "name": "stderr",
     "output_type": "stream",
     "text": [
      "/root/.cache/pypoetry/virtualenvs/sin5007-lcGWJnmY-py3.11/lib/python3.11/site-packages/sklearn/neural_network/_multilayer_perceptron.py:690: ConvergenceWarning: Stochastic Optimizer: Maximum iterations (200) reached and the optimization hasn't converged yet.\n",
      "  warnings.warn(\n"
     ]
    },
    {
     "name": "stdout",
     "output_type": "stream",
     "text": [
      "[CV 3/3] END activation=logistic, hidden_layer_sizes=10, learning_rate_init=0.01;, score=0.798 total time=  14.9s\n"
     ]
    },
    {
     "name": "stderr",
     "output_type": "stream",
     "text": [
      "/root/.cache/pypoetry/virtualenvs/sin5007-lcGWJnmY-py3.11/lib/python3.11/site-packages/sklearn/neural_network/_multilayer_perceptron.py:690: ConvergenceWarning: Stochastic Optimizer: Maximum iterations (200) reached and the optimization hasn't converged yet.\n",
      "  warnings.warn(\n"
     ]
    },
    {
     "name": "stdout",
     "output_type": "stream",
     "text": [
      "[CV 2/3] END activation=logistic, hidden_layer_sizes=10, learning_rate_init=0.01;, score=0.790 total time=  16.6s\n",
      "[CV 3/3] END activation=logistic, hidden_layer_sizes=10, learning_rate_init=0.1;, score=0.788 total time=   7.9s\n",
      "[CV 1/3] END activation=logistic, hidden_layer_sizes=15, learning_rate_init=0.1;, score=0.796 total time=   5.1s\n",
      "[CV 1/3] END activation=logistic, hidden_layer_sizes=15, learning_rate_init=0.05;, score=0.792 total time=   7.7s\n"
     ]
    },
    {
     "name": "stderr",
     "output_type": "stream",
     "text": [
      "/root/.cache/pypoetry/virtualenvs/sin5007-lcGWJnmY-py3.11/lib/python3.11/site-packages/sklearn/neural_network/_multilayer_perceptron.py:690: ConvergenceWarning: Stochastic Optimizer: Maximum iterations (200) reached and the optimization hasn't converged yet.\n",
      "  warnings.warn(\n"
     ]
    },
    {
     "name": "stdout",
     "output_type": "stream",
     "text": [
      "[CV 1/3] END activation=logistic, hidden_layer_sizes=15, learning_rate_init=0.001;, score=0.807 total time=  13.1s\n",
      "[CV 3/3] END activation=logistic, hidden_layer_sizes=15, learning_rate_init=0.1;, score=0.800 total time=   5.9s\n",
      "[CV 2/3] END activation=logistic, hidden_layer_sizes=15, learning_rate_init=0.1;, score=0.783 total time=   6.6s\n"
     ]
    },
    {
     "name": "stderr",
     "output_type": "stream",
     "text": [
      "/root/.cache/pypoetry/virtualenvs/sin5007-lcGWJnmY-py3.11/lib/python3.11/site-packages/sklearn/neural_network/_multilayer_perceptron.py:690: ConvergenceWarning: Stochastic Optimizer: Maximum iterations (200) reached and the optimization hasn't converged yet.\n",
      "  warnings.warn(\n"
     ]
    },
    {
     "name": "stdout",
     "output_type": "stream",
     "text": [
      "[CV 2/3] END activation=logistic, hidden_layer_sizes=15, learning_rate_init=0.001;, score=0.807 total time=  13.5s\n"
     ]
    },
    {
     "name": "stderr",
     "output_type": "stream",
     "text": [
      "/root/.cache/pypoetry/virtualenvs/sin5007-lcGWJnmY-py3.11/lib/python3.11/site-packages/sklearn/neural_network/_multilayer_perceptron.py:690: ConvergenceWarning: Stochastic Optimizer: Maximum iterations (200) reached and the optimization hasn't converged yet.\n",
      "  warnings.warn(\n"
     ]
    },
    {
     "name": "stdout",
     "output_type": "stream",
     "text": [
      "[CV 1/3] END activation=logistic, hidden_layer_sizes=15, learning_rate_init=0.01;, score=0.787 total time=  13.6s\n",
      "[CV 3/3] END activation=logistic, hidden_layer_sizes=15, learning_rate_init=0.05;, score=0.788 total time=  10.6s\n",
      "[CV 2/3] END activation=logistic, hidden_layer_sizes=15, learning_rate_init=0.05;, score=0.780 total time=  12.3s\n",
      "[CV 3/3] END activation=logistic, hidden_layer_sizes=15, learning_rate_init=0.01;, score=0.792 total time=  13.4s\n"
     ]
    },
    {
     "name": "stderr",
     "output_type": "stream",
     "text": [
      "/root/.cache/pypoetry/virtualenvs/sin5007-lcGWJnmY-py3.11/lib/python3.11/site-packages/sklearn/neural_network/_multilayer_perceptron.py:690: ConvergenceWarning: Stochastic Optimizer: Maximum iterations (200) reached and the optimization hasn't converged yet.\n",
      "  warnings.warn(\n"
     ]
    },
    {
     "name": "stdout",
     "output_type": "stream",
     "text": [
      "[CV 3/3] END activation=relu, hidden_layer_sizes=5, learning_rate_init=0.01;, score=0.802 total time=   3.8s\n",
      "[CV 3/3] END activation=logistic, hidden_layer_sizes=15, learning_rate_init=0.001;, score=0.804 total time=  16.3s\n"
     ]
    },
    {
     "name": "stderr",
     "output_type": "stream",
     "text": [
      "/root/.cache/pypoetry/virtualenvs/sin5007-lcGWJnmY-py3.11/lib/python3.11/site-packages/sklearn/neural_network/_multilayer_perceptron.py:690: ConvergenceWarning: Stochastic Optimizer: Maximum iterations (200) reached and the optimization hasn't converged yet.\n",
      "  warnings.warn(\n"
     ]
    },
    {
     "name": "stdout",
     "output_type": "stream",
     "text": [
      "[CV 2/3] END activation=relu, hidden_layer_sizes=5, learning_rate_init=0.05;, score=0.805 total time=   2.9s\n",
      "[CV 2/3] END activation=logistic, hidden_layer_sizes=15, learning_rate_init=0.01;, score=0.790 total time=  15.3s\n"
     ]
    },
    {
     "name": "stderr",
     "output_type": "stream",
     "text": [
      "/root/.cache/pypoetry/virtualenvs/sin5007-lcGWJnmY-py3.11/lib/python3.11/site-packages/sklearn/neural_network/_multilayer_perceptron.py:690: ConvergenceWarning: Stochastic Optimizer: Maximum iterations (200) reached and the optimization hasn't converged yet.\n",
      "  warnings.warn(\n"
     ]
    },
    {
     "name": "stdout",
     "output_type": "stream",
     "text": [
      "[CV 1/3] END activation=relu, hidden_layer_sizes=5, learning_rate_init=0.01;, score=0.795 total time=   6.4s\n",
      "[CV 3/3] END activation=relu, hidden_layer_sizes=5, learning_rate_init=0.05;, score=0.800 total time=   2.3s\n",
      "[CV 2/3] END activation=relu, hidden_layer_sizes=5, learning_rate_init=0.1;, score=0.804 total time=   2.0s\n",
      "[CV 1/3] END activation=relu, hidden_layer_sizes=5, learning_rate_init=0.05;, score=0.804 total time=   4.7s\n",
      "[CV 2/3] END activation=relu, hidden_layer_sizes=5, learning_rate_init=0.01;, score=0.804 total time=   6.7s\n",
      "[CV 3/3] END activation=relu, hidden_layer_sizes=5, learning_rate_init=0.1;, score=0.795 total time=   2.3s\n",
      "[CV 1/3] END activation=relu, hidden_layer_sizes=5, learning_rate_init=0.1;, score=0.803 total time=   4.1s\n",
      "[CV 2/3] END activation=relu, hidden_layer_sizes=5, learning_rate_init=0.001;, score=0.799 total time=  10.7s\n",
      "[CV 3/3] END activation=relu, hidden_layer_sizes=5, learning_rate_init=0.001;, score=0.807 total time=  10.5s\n"
     ]
    },
    {
     "name": "stderr",
     "output_type": "stream",
     "text": [
      "/root/.cache/pypoetry/virtualenvs/sin5007-lcGWJnmY-py3.11/lib/python3.11/site-packages/sklearn/neural_network/_multilayer_perceptron.py:690: ConvergenceWarning: Stochastic Optimizer: Maximum iterations (200) reached and the optimization hasn't converged yet.\n",
      "  warnings.warn(\n"
     ]
    },
    {
     "name": "stdout",
     "output_type": "stream",
     "text": [
      "[CV 1/3] END activation=relu, hidden_layer_sizes=5, learning_rate_init=0.001;, score=0.803 total time=  13.0s\n",
      "[CV 2/3] END activation=relu, hidden_layer_sizes=10, learning_rate_init=0.05;, score=0.798 total time=   4.7s\n",
      "[CV 2/3] END activation=relu, hidden_layer_sizes=10, learning_rate_init=0.01;, score=0.801 total time=   5.4s\n",
      "[CV 1/3] END activation=relu, hidden_layer_sizes=10, learning_rate_init=0.05;, score=0.795 total time=   5.1s\n",
      "[CV 2/3] END activation=relu, hidden_layer_sizes=10, learning_rate_init=0.1;, score=0.808 total time=   2.5s\n",
      "[CV 3/3] END activation=relu, hidden_layer_sizes=10, learning_rate_init=0.05;, score=0.794 total time=   5.2s\n",
      "[CV 3/3] END activation=relu, hidden_layer_sizes=10, learning_rate_init=0.1;, score=0.802 total time=   2.7s\n",
      "[CV 1/3] END activation=relu, hidden_layer_sizes=10, learning_rate_init=0.1;, score=0.803 total time=   4.2s\n",
      "[CV 3/3] END activation=relu, hidden_layer_sizes=10, learning_rate_init=0.01;, score=0.799 total time=   7.4s\n",
      "[CV 1/3] END activation=relu, hidden_layer_sizes=10, learning_rate_init=0.01;, score=0.797 total time=   8.0s\n",
      "[CV 3/3] END activation=relu, hidden_layer_sizes=15, learning_rate_init=0.05;, score=0.794 total time=   5.4s\n",
      "[CV 1/3] END activation=relu, hidden_layer_sizes=15, learning_rate_init=0.05;, score=0.800 total time=   7.0s\n",
      "[CV 1/3] END activation=relu, hidden_layer_sizes=15, learning_rate_init=0.01;, score=0.804 total time=   8.7s\n"
     ]
    },
    {
     "name": "stderr",
     "output_type": "stream",
     "text": [
      "/root/.cache/pypoetry/virtualenvs/sin5007-lcGWJnmY-py3.11/lib/python3.11/site-packages/sklearn/neural_network/_multilayer_perceptron.py:690: ConvergenceWarning: Stochastic Optimizer: Maximum iterations (200) reached and the optimization hasn't converged yet.\n",
      "  warnings.warn(\n"
     ]
    },
    {
     "name": "stdout",
     "output_type": "stream",
     "text": [
      "[CV 2/3] END activation=relu, hidden_layer_sizes=10, learning_rate_init=0.001;, score=0.804 total time=  15.8s\n"
     ]
    },
    {
     "name": "stderr",
     "output_type": "stream",
     "text": [
      "/root/.cache/pypoetry/virtualenvs/sin5007-lcGWJnmY-py3.11/lib/python3.11/site-packages/sklearn/neural_network/_multilayer_perceptron.py:690: ConvergenceWarning: Stochastic Optimizer: Maximum iterations (200) reached and the optimization hasn't converged yet.\n",
      "  warnings.warn(\n"
     ]
    },
    {
     "name": "stdout",
     "output_type": "stream",
     "text": [
      "[CV 3/3] END activation=relu, hidden_layer_sizes=10, learning_rate_init=0.001;, score=0.802 total time=  15.7s\n"
     ]
    },
    {
     "name": "stderr",
     "output_type": "stream",
     "text": [
      "/root/.cache/pypoetry/virtualenvs/sin5007-lcGWJnmY-py3.11/lib/python3.11/site-packages/sklearn/neural_network/_multilayer_perceptron.py:690: ConvergenceWarning: Stochastic Optimizer: Maximum iterations (200) reached and the optimization hasn't converged yet.\n",
      "  warnings.warn(\n"
     ]
    },
    {
     "name": "stdout",
     "output_type": "stream",
     "text": [
      "[CV 1/3] END activation=relu, hidden_layer_sizes=10, learning_rate_init=0.001;, score=0.803 total time=  16.7s\n",
      "[CV 2/3] END activation=relu, hidden_layer_sizes=15, learning_rate_init=0.05;, score=0.791 total time=   8.5s\n",
      "[CV 1/3] END activation=relu, hidden_layer_sizes=15, learning_rate_init=0.1;, score=0.795 total time=   3.6s\n",
      "[CV 3/3] END activation=relu, hidden_layer_sizes=15, learning_rate_init=0.1;, score=0.808 total time=   2.2s\n",
      "[CV 2/3] END activation=relu, hidden_layer_sizes=15, learning_rate_init=0.01;, score=0.799 total time=  10.1s\n",
      "[CV 2/3] END activation=relu, hidden_layer_sizes=15, learning_rate_init=0.1;, score=0.800 total time=   3.1s\n",
      "[CV 3/3] END activation=relu, hidden_layer_sizes=15, learning_rate_init=0.01;, score=0.800 total time=  10.7s\n"
     ]
    },
    {
     "name": "stderr",
     "output_type": "stream",
     "text": [
      "/root/.cache/pypoetry/virtualenvs/sin5007-lcGWJnmY-py3.11/lib/python3.11/site-packages/sklearn/neural_network/_multilayer_perceptron.py:690: ConvergenceWarning: Stochastic Optimizer: Maximum iterations (200) reached and the optimization hasn't converged yet.\n",
      "  warnings.warn(\n"
     ]
    },
    {
     "name": "stdout",
     "output_type": "stream",
     "text": [
      "[CV 2/3] END activation=relu, hidden_layer_sizes=15, learning_rate_init=0.001;, score=0.804 total time=  13.4s\n"
     ]
    },
    {
     "name": "stderr",
     "output_type": "stream",
     "text": [
      "/root/.cache/pypoetry/virtualenvs/sin5007-lcGWJnmY-py3.11/lib/python3.11/site-packages/sklearn/neural_network/_multilayer_perceptron.py:690: ConvergenceWarning: Stochastic Optimizer: Maximum iterations (200) reached and the optimization hasn't converged yet.\n",
      "  warnings.warn(\n",
      "/root/.cache/pypoetry/virtualenvs/sin5007-lcGWJnmY-py3.11/lib/python3.11/site-packages/sklearn/neural_network/_multilayer_perceptron.py:690: ConvergenceWarning: Stochastic Optimizer: Maximum iterations (200) reached and the optimization hasn't converged yet.\n",
      "  warnings.warn(\n"
     ]
    },
    {
     "name": "stdout",
     "output_type": "stream",
     "text": [
      "[CV 1/3] END activation=relu, hidden_layer_sizes=15, learning_rate_init=0.001;, score=0.804 total time=  14.1s\n",
      "[CV 3/3] END activation=relu, hidden_layer_sizes=15, learning_rate_init=0.001;, score=0.806 total time=  13.9s\n",
      "===> 2024-10-28 15:32:36.248157 | FINALIZADO FOLD 7 | TEMPO TOTAL 0:01:01.154290\n",
      "\n",
      "====> 2024-10-28 15:32:36.249127 | EXECUTANDO FOLD 8 \n",
      "Fitting 3 folds for each of 24 candidates, totalling 72 fits\n",
      "[CV 1/3] END activation=logistic, hidden_layer_sizes=5, learning_rate_init=0.05;, score=0.803 total time=   4.1s\n",
      "[CV 3/3] END activation=logistic, hidden_layer_sizes=5, learning_rate_init=0.05;, score=0.805 total time=   4.5s\n",
      "[CV 3/3] END activation=logistic, hidden_layer_sizes=5, learning_rate_init=0.01;, score=0.806 total time=   5.2s\n",
      "[CV 3/3] END activation=logistic, hidden_layer_sizes=5, learning_rate_init=0.1;, score=0.807 total time=   5.8s\n",
      "[CV 2/3] END activation=logistic, hidden_layer_sizes=5, learning_rate_init=0.01;, score=0.798 total time=   6.0s\n",
      "[CV 2/3] END activation=logistic, hidden_layer_sizes=5, learning_rate_init=0.1;, score=0.800 total time=   6.1s\n",
      "[CV 1/3] END activation=logistic, hidden_layer_sizes=5, learning_rate_init=0.1;, score=0.801 total time=   6.2s\n",
      "[CV 2/3] END activation=logistic, hidden_layer_sizes=5, learning_rate_init=0.05;, score=0.802 total time=   6.8s\n",
      "[CV 1/3] END activation=logistic, hidden_layer_sizes=5, learning_rate_init=0.01;, score=0.802 total time=   7.8s\n"
     ]
    },
    {
     "name": "stderr",
     "output_type": "stream",
     "text": [
      "/root/.cache/pypoetry/virtualenvs/sin5007-lcGWJnmY-py3.11/lib/python3.11/site-packages/sklearn/neural_network/_multilayer_perceptron.py:690: ConvergenceWarning: Stochastic Optimizer: Maximum iterations (200) reached and the optimization hasn't converged yet.\n",
      "  warnings.warn(\n",
      "/root/.cache/pypoetry/virtualenvs/sin5007-lcGWJnmY-py3.11/lib/python3.11/site-packages/sklearn/neural_network/_multilayer_perceptron.py:690: ConvergenceWarning: Stochastic Optimizer: Maximum iterations (200) reached and the optimization hasn't converged yet.\n",
      "  warnings.warn(\n"
     ]
    },
    {
     "name": "stdout",
     "output_type": "stream",
     "text": [
      "[CV 1/3] END activation=logistic, hidden_layer_sizes=5, learning_rate_init=0.001;, score=0.808 total time=  11.7s\n",
      "[CV 2/3] END activation=logistic, hidden_layer_sizes=5, learning_rate_init=0.001;, score=0.804 total time=  11.8s\n"
     ]
    },
    {
     "name": "stderr",
     "output_type": "stream",
     "text": [
      "/root/.cache/pypoetry/virtualenvs/sin5007-lcGWJnmY-py3.11/lib/python3.11/site-packages/sklearn/neural_network/_multilayer_perceptron.py:690: ConvergenceWarning: Stochastic Optimizer: Maximum iterations (200) reached and the optimization hasn't converged yet.\n",
      "  warnings.warn(\n"
     ]
    },
    {
     "name": "stdout",
     "output_type": "stream",
     "text": [
      "[CV 3/3] END activation=logistic, hidden_layer_sizes=5, learning_rate_init=0.001;, score=0.805 total time=  13.1s\n",
      "[CV 3/3] END activation=logistic, hidden_layer_sizes=10, learning_rate_init=0.05;, score=0.801 total time=   5.7s\n",
      "[CV 2/3] END activation=logistic, hidden_layer_sizes=10, learning_rate_init=0.05;, score=0.798 total time=   6.8s\n",
      "[CV 1/3] END activation=logistic, hidden_layer_sizes=10, learning_rate_init=0.05;, score=0.790 total time=   8.2s\n",
      "[CV 2/3] END activation=logistic, hidden_layer_sizes=10, learning_rate_init=0.01;, score=0.790 total time=  10.0s\n",
      "[CV 2/3] END activation=logistic, hidden_layer_sizes=10, learning_rate_init=0.1;, score=0.798 total time=   4.4s\n",
      "[CV 1/3] END activation=logistic, hidden_layer_sizes=10, learning_rate_init=0.001;, score=0.806 total time=  12.1s\n"
     ]
    },
    {
     "name": "stderr",
     "output_type": "stream",
     "text": [
      "/root/.cache/pypoetry/virtualenvs/sin5007-lcGWJnmY-py3.11/lib/python3.11/site-packages/sklearn/neural_network/_multilayer_perceptron.py:690: ConvergenceWarning: Stochastic Optimizer: Maximum iterations (200) reached and the optimization hasn't converged yet.\n",
      "  warnings.warn(\n",
      "/root/.cache/pypoetry/virtualenvs/sin5007-lcGWJnmY-py3.11/lib/python3.11/site-packages/sklearn/neural_network/_multilayer_perceptron.py:690: ConvergenceWarning: Stochastic Optimizer: Maximum iterations (200) reached and the optimization hasn't converged yet.\n",
      "  warnings.warn(\n"
     ]
    },
    {
     "name": "stdout",
     "output_type": "stream",
     "text": [
      "[CV 2/3] END activation=logistic, hidden_layer_sizes=10, learning_rate_init=0.001;, score=0.805 total time=  12.8s\n"
     ]
    },
    {
     "name": "stderr",
     "output_type": "stream",
     "text": [
      "/root/.cache/pypoetry/virtualenvs/sin5007-lcGWJnmY-py3.11/lib/python3.11/site-packages/sklearn/neural_network/_multilayer_perceptron.py:690: ConvergenceWarning: Stochastic Optimizer: Maximum iterations (200) reached and the optimization hasn't converged yet.\n",
      "  warnings.warn(\n"
     ]
    },
    {
     "name": "stdout",
     "output_type": "stream",
     "text": [
      "[CV 1/3] END activation=logistic, hidden_layer_sizes=10, learning_rate_init=0.01;, score=0.796 total time=  12.1s\n",
      "[CV 1/3] END activation=logistic, hidden_layer_sizes=10, learning_rate_init=0.1;, score=0.801 total time=   6.9s\n"
     ]
    },
    {
     "name": "stderr",
     "output_type": "stream",
     "text": [
      "/root/.cache/pypoetry/virtualenvs/sin5007-lcGWJnmY-py3.11/lib/python3.11/site-packages/sklearn/neural_network/_multilayer_perceptron.py:690: ConvergenceWarning: Stochastic Optimizer: Maximum iterations (200) reached and the optimization hasn't converged yet.\n",
      "  warnings.warn(\n"
     ]
    },
    {
     "name": "stdout",
     "output_type": "stream",
     "text": [
      "[CV 3/3] END activation=logistic, hidden_layer_sizes=10, learning_rate_init=0.001;, score=0.806 total time=  17.0s\n"
     ]
    },
    {
     "name": "stderr",
     "output_type": "stream",
     "text": [
      "/root/.cache/pypoetry/virtualenvs/sin5007-lcGWJnmY-py3.11/lib/python3.11/site-packages/sklearn/neural_network/_multilayer_perceptron.py:690: ConvergenceWarning: Stochastic Optimizer: Maximum iterations (200) reached and the optimization hasn't converged yet.\n",
      "  warnings.warn(\n"
     ]
    },
    {
     "name": "stdout",
     "output_type": "stream",
     "text": [
      "[CV 3/3] END activation=logistic, hidden_layer_sizes=10, learning_rate_init=0.01;, score=0.797 total time=  17.0s\n",
      "[CV 3/3] END activation=logistic, hidden_layer_sizes=10, learning_rate_init=0.1;, score=0.793 total time=  10.5s\n",
      "[CV 2/3] END activation=logistic, hidden_layer_sizes=15, learning_rate_init=0.05;, score=0.786 total time=   9.3s\n",
      "[CV 1/3] END activation=logistic, hidden_layer_sizes=15, learning_rate_init=0.1;, score=0.797 total time=   6.8s\n"
     ]
    },
    {
     "name": "stderr",
     "output_type": "stream",
     "text": [
      "/root/.cache/pypoetry/virtualenvs/sin5007-lcGWJnmY-py3.11/lib/python3.11/site-packages/sklearn/neural_network/_multilayer_perceptron.py:690: ConvergenceWarning: Stochastic Optimizer: Maximum iterations (200) reached and the optimization hasn't converged yet.\n",
      "  warnings.warn(\n"
     ]
    },
    {
     "name": "stdout",
     "output_type": "stream",
     "text": [
      "[CV 1/3] END activation=logistic, hidden_layer_sizes=15, learning_rate_init=0.001;, score=0.807 total time=  16.1s\n",
      "[CV 3/3] END activation=logistic, hidden_layer_sizes=15, learning_rate_init=0.1;, score=0.803 total time=   6.6s\n"
     ]
    },
    {
     "name": "stderr",
     "output_type": "stream",
     "text": [
      "/root/.cache/pypoetry/virtualenvs/sin5007-lcGWJnmY-py3.11/lib/python3.11/site-packages/sklearn/neural_network/_multilayer_perceptron.py:690: ConvergenceWarning: Stochastic Optimizer: Maximum iterations (200) reached and the optimization hasn't converged yet.\n",
      "  warnings.warn(\n"
     ]
    },
    {
     "name": "stdout",
     "output_type": "stream",
     "text": [
      "[CV 3/3] END activation=logistic, hidden_layer_sizes=15, learning_rate_init=0.001;, score=0.807 total time=  16.4s\n",
      "[CV 1/3] END activation=logistic, hidden_layer_sizes=15, learning_rate_init=0.05;, score=0.790 total time=  14.0s\n",
      "[CV 3/3] END activation=logistic, hidden_layer_sizes=15, learning_rate_init=0.05;, score=0.794 total time=  13.0s\n",
      "[CV 2/3] END activation=logistic, hidden_layer_sizes=15, learning_rate_init=0.1;, score=0.788 total time=   8.7s\n",
      "[CV 2/3] END activation=logistic, hidden_layer_sizes=15, learning_rate_init=0.001;, score=0.807 total time=  18.2s\n"
     ]
    },
    {
     "name": "stderr",
     "output_type": "stream",
     "text": [
      "/root/.cache/pypoetry/virtualenvs/sin5007-lcGWJnmY-py3.11/lib/python3.11/site-packages/sklearn/neural_network/_multilayer_perceptron.py:690: ConvergenceWarning: Stochastic Optimizer: Maximum iterations (200) reached and the optimization hasn't converged yet.\n",
      "  warnings.warn(\n",
      "/root/.cache/pypoetry/virtualenvs/sin5007-lcGWJnmY-py3.11/lib/python3.11/site-packages/sklearn/neural_network/_multilayer_perceptron.py:690: ConvergenceWarning: Stochastic Optimizer: Maximum iterations (200) reached and the optimization hasn't converged yet.\n",
      "  warnings.warn(\n"
     ]
    },
    {
     "name": "stdout",
     "output_type": "stream",
     "text": [
      "[CV 3/3] END activation=logistic, hidden_layer_sizes=15, learning_rate_init=0.01;, score=0.800 total time=  16.0s\n"
     ]
    },
    {
     "name": "stderr",
     "output_type": "stream",
     "text": [
      "/root/.cache/pypoetry/virtualenvs/sin5007-lcGWJnmY-py3.11/lib/python3.11/site-packages/sklearn/neural_network/_multilayer_perceptron.py:690: ConvergenceWarning: Stochastic Optimizer: Maximum iterations (200) reached and the optimization hasn't converged yet.\n",
      "  warnings.warn(\n",
      "/root/.cache/pypoetry/virtualenvs/sin5007-lcGWJnmY-py3.11/lib/python3.11/site-packages/sklearn/neural_network/_multilayer_perceptron.py:690: ConvergenceWarning: Stochastic Optimizer: Maximum iterations (200) reached and the optimization hasn't converged yet.\n",
      "  warnings.warn(\n"
     ]
    },
    {
     "name": "stdout",
     "output_type": "stream",
     "text": [
      "[CV 1/3] END activation=logistic, hidden_layer_sizes=15, learning_rate_init=0.01;, score=0.784 total time=  17.1s\n",
      "[CV 2/3] END activation=logistic, hidden_layer_sizes=15, learning_rate_init=0.01;, score=0.794 total time=  17.0s\n",
      "[CV 1/3] END activation=relu, hidden_layer_sizes=5, learning_rate_init=0.1;, score=0.805 total time=   1.7s\n",
      "[CV 2/3] END activation=relu, hidden_layer_sizes=5, learning_rate_init=0.01;, score=0.805 total time=   3.2s\n",
      "[CV 3/3] END activation=relu, hidden_layer_sizes=5, learning_rate_init=0.05;, score=0.802 total time=   2.2s\n",
      "[CV 1/3] END activation=relu, hidden_layer_sizes=5, learning_rate_init=0.05;, score=0.804 total time=   2.4s\n",
      "[CV 3/3] END activation=relu, hidden_layer_sizes=5, learning_rate_init=0.01;, score=0.803 total time=   3.6s\n",
      "[CV 2/3] END activation=relu, hidden_layer_sizes=5, learning_rate_init=0.1;, score=0.803 total time=   1.9s\n",
      "[CV 3/3] END activation=relu, hidden_layer_sizes=5, learning_rate_init=0.1;, score=0.796 total time=   2.0s\n",
      "[CV 2/3] END activation=relu, hidden_layer_sizes=5, learning_rate_init=0.001;, score=0.804 total time=   7.8s\n",
      "[CV 2/3] END activation=relu, hidden_layer_sizes=5, learning_rate_init=0.05;, score=0.796 total time=   5.2s\n",
      "[CV 1/3] END activation=relu, hidden_layer_sizes=5, learning_rate_init=0.01;, score=0.804 total time=   7.1s\n",
      "[CV 2/3] END activation=relu, hidden_layer_sizes=10, learning_rate_init=0.01;, score=0.802 total time=   4.1s\n",
      "[CV 1/3] END activation=relu, hidden_layer_sizes=5, learning_rate_init=0.001;, score=0.804 total time=  11.7s\n",
      "[CV 3/3] END activation=relu, hidden_layer_sizes=5, learning_rate_init=0.001;, score=0.811 total time=  10.2s\n",
      "[CV 1/3] END activation=relu, hidden_layer_sizes=10, learning_rate_init=0.01;, score=0.804 total time=   6.2s\n",
      "[CV 1/3] END activation=relu, hidden_layer_sizes=10, learning_rate_init=0.1;, score=0.807 total time=   3.3s\n",
      "[CV 2/3] END activation=relu, hidden_layer_sizes=10, learning_rate_init=0.05;, score=0.801 total time=   4.1s\n",
      "[CV 1/3] END activation=relu, hidden_layer_sizes=10, learning_rate_init=0.05;, score=0.804 total time=   5.8s\n",
      "[CV 3/3] END activation=relu, hidden_layer_sizes=10, learning_rate_init=0.1;, score=0.802 total time=   2.4s\n",
      "[CV 3/3] END activation=relu, hidden_layer_sizes=10, learning_rate_init=0.01;, score=0.803 total time=   7.6s\n",
      "[CV 3/3] END activation=relu, hidden_layer_sizes=10, learning_rate_init=0.05;, score=0.798 total time=   6.0s\n",
      "[CV 2/3] END activation=relu, hidden_layer_sizes=10, learning_rate_init=0.1;, score=0.802 total time=   4.5s\n"
     ]
    },
    {
     "name": "stderr",
     "output_type": "stream",
     "text": [
      "/root/.cache/pypoetry/virtualenvs/sin5007-lcGWJnmY-py3.11/lib/python3.11/site-packages/sklearn/neural_network/_multilayer_perceptron.py:690: ConvergenceWarning: Stochastic Optimizer: Maximum iterations (200) reached and the optimization hasn't converged yet.\n",
      "  warnings.warn(\n"
     ]
    },
    {
     "name": "stdout",
     "output_type": "stream",
     "text": [
      "[CV 1/3] END activation=relu, hidden_layer_sizes=10, learning_rate_init=0.001;, score=0.808 total time=  12.3s\n",
      "[CV 1/3] END activation=relu, hidden_layer_sizes=15, learning_rate_init=0.05;, score=0.805 total time=   3.9s\n",
      "[CV 3/3] END activation=relu, hidden_layer_sizes=10, learning_rate_init=0.001;, score=0.805 total time=  12.6s\n"
     ]
    },
    {
     "name": "stderr",
     "output_type": "stream",
     "text": [
      "/root/.cache/pypoetry/virtualenvs/sin5007-lcGWJnmY-py3.11/lib/python3.11/site-packages/sklearn/neural_network/_multilayer_perceptron.py:690: ConvergenceWarning: Stochastic Optimizer: Maximum iterations (200) reached and the optimization hasn't converged yet.\n",
      "  warnings.warn(\n"
     ]
    },
    {
     "name": "stdout",
     "output_type": "stream",
     "text": [
      "[CV 3/3] END activation=relu, hidden_layer_sizes=15, learning_rate_init=0.05;, score=0.797 total time=   3.3s\n",
      "[CV 1/3] END activation=relu, hidden_layer_sizes=15, learning_rate_init=0.01;, score=0.795 total time=   7.9s\n",
      "[CV 2/3] END activation=relu, hidden_layer_sizes=10, learning_rate_init=0.001;, score=0.804 total time=  14.8s\n"
     ]
    },
    {
     "name": "stderr",
     "output_type": "stream",
     "text": [
      "/root/.cache/pypoetry/virtualenvs/sin5007-lcGWJnmY-py3.11/lib/python3.11/site-packages/sklearn/neural_network/_multilayer_perceptron.py:690: ConvergenceWarning: Stochastic Optimizer: Maximum iterations (200) reached and the optimization hasn't converged yet.\n",
      "  warnings.warn(\n"
     ]
    },
    {
     "name": "stdout",
     "output_type": "stream",
     "text": [
      "[CV 2/3] END activation=relu, hidden_layer_sizes=15, learning_rate_init=0.1;, score=0.798 total time=   2.6s\n",
      "[CV 3/3] END activation=relu, hidden_layer_sizes=15, learning_rate_init=0.1;, score=0.809 total time=   2.5s\n",
      "[CV 3/3] END activation=relu, hidden_layer_sizes=15, learning_rate_init=0.01;, score=0.804 total time=   8.8s\n",
      "[CV 1/3] END activation=relu, hidden_layer_sizes=15, learning_rate_init=0.1;, score=0.800 total time=   4.5s\n",
      "[CV 2/3] END activation=relu, hidden_layer_sizes=15, learning_rate_init=0.05;, score=0.794 total time=   8.3s\n",
      "[CV 2/3] END activation=relu, hidden_layer_sizes=15, learning_rate_init=0.01;, score=0.794 total time=  10.5s\n"
     ]
    },
    {
     "name": "stderr",
     "output_type": "stream",
     "text": [
      "/root/.cache/pypoetry/virtualenvs/sin5007-lcGWJnmY-py3.11/lib/python3.11/site-packages/sklearn/neural_network/_multilayer_perceptron.py:690: ConvergenceWarning: Stochastic Optimizer: Maximum iterations (200) reached and the optimization hasn't converged yet.\n",
      "  warnings.warn(\n"
     ]
    },
    {
     "name": "stdout",
     "output_type": "stream",
     "text": [
      "[CV 1/3] END activation=relu, hidden_layer_sizes=15, learning_rate_init=0.001;, score=0.806 total time=  12.0s\n"
     ]
    },
    {
     "name": "stderr",
     "output_type": "stream",
     "text": [
      "/root/.cache/pypoetry/virtualenvs/sin5007-lcGWJnmY-py3.11/lib/python3.11/site-packages/sklearn/neural_network/_multilayer_perceptron.py:690: ConvergenceWarning: Stochastic Optimizer: Maximum iterations (200) reached and the optimization hasn't converged yet.\n",
      "  warnings.warn(\n",
      "/root/.cache/pypoetry/virtualenvs/sin5007-lcGWJnmY-py3.11/lib/python3.11/site-packages/sklearn/neural_network/_multilayer_perceptron.py:690: ConvergenceWarning: Stochastic Optimizer: Maximum iterations (200) reached and the optimization hasn't converged yet.\n",
      "  warnings.warn(\n"
     ]
    },
    {
     "name": "stdout",
     "output_type": "stream",
     "text": [
      "[CV 2/3] END activation=relu, hidden_layer_sizes=15, learning_rate_init=0.001;, score=0.806 total time=  12.1s\n",
      "[CV 3/3] END activation=relu, hidden_layer_sizes=15, learning_rate_init=0.001;, score=0.809 total time=  11.8s\n",
      "===> 2024-10-28 15:33:38.286160 | FINALIZADO FOLD 8 | TEMPO TOTAL 0:01:02.037033\n",
      "\n",
      "====> 2024-10-28 15:33:38.287028 | EXECUTANDO FOLD 9 \n",
      "Fitting 3 folds for each of 24 candidates, totalling 72 fits\n",
      "[CV 2/3] END activation=logistic, hidden_layer_sizes=5, learning_rate_init=0.1;, score=0.785 total time=   3.2s\n",
      "[CV 1/3] END activation=logistic, hidden_layer_sizes=5, learning_rate_init=0.01;, score=0.806 total time=   3.7s\n",
      "[CV 2/3] END activation=logistic, hidden_layer_sizes=5, learning_rate_init=0.05;, score=0.803 total time=   3.7s\n",
      "[CV 1/3] END activation=logistic, hidden_layer_sizes=5, learning_rate_init=0.1;, score=0.794 total time=   3.9s\n",
      "[CV 3/3] END activation=logistic, hidden_layer_sizes=5, learning_rate_init=0.01;, score=0.798 total time=   4.2s\n",
      "[CV 3/3] END activation=logistic, hidden_layer_sizes=5, learning_rate_init=0.05;, score=0.795 total time=   4.4s\n",
      "[CV 1/3] END activation=logistic, hidden_layer_sizes=5, learning_rate_init=0.05;, score=0.802 total time=   4.5s\n",
      "[CV 3/3] END activation=logistic, hidden_layer_sizes=5, learning_rate_init=0.1;, score=0.795 total time=   6.7s\n",
      "[CV 2/3] END activation=logistic, hidden_layer_sizes=5, learning_rate_init=0.01;, score=0.799 total time=   9.9s\n",
      "[CV 2/3] END activation=logistic, hidden_layer_sizes=5, learning_rate_init=0.001;, score=0.803 total time=  11.2s\n",
      "[CV 2/3] END activation=logistic, hidden_layer_sizes=10, learning_rate_init=0.01;, score=0.792 total time=   7.5s\n",
      "[CV 1/3] END activation=logistic, hidden_layer_sizes=10, learning_rate_init=0.05;, score=0.789 total time=   7.3s\n",
      "[CV 1/3] END activation=logistic, hidden_layer_sizes=5, learning_rate_init=0.001;, score=0.806 total time=  11.8s\n"
     ]
    },
    {
     "name": "stderr",
     "output_type": "stream",
     "text": [
      "/root/.cache/pypoetry/virtualenvs/sin5007-lcGWJnmY-py3.11/lib/python3.11/site-packages/sklearn/neural_network/_multilayer_perceptron.py:690: ConvergenceWarning: Stochastic Optimizer: Maximum iterations (200) reached and the optimization hasn't converged yet.\n",
      "  warnings.warn(\n",
      "/root/.cache/pypoetry/virtualenvs/sin5007-lcGWJnmY-py3.11/lib/python3.11/site-packages/sklearn/neural_network/_multilayer_perceptron.py:690: ConvergenceWarning: Stochastic Optimizer: Maximum iterations (200) reached and the optimization hasn't converged yet.\n",
      "  warnings.warn(\n"
     ]
    },
    {
     "name": "stdout",
     "output_type": "stream",
     "text": [
      "[CV 3/3] END activation=logistic, hidden_layer_sizes=5, learning_rate_init=0.001;, score=0.793 total time=  13.3s\n",
      "[CV 2/3] END activation=logistic, hidden_layer_sizes=10, learning_rate_init=0.05;, score=0.794 total time=   7.9s\n",
      "[CV 1/3] END activation=logistic, hidden_layer_sizes=10, learning_rate_init=0.1;, score=0.789 total time=   4.1s\n"
     ]
    },
    {
     "name": "stderr",
     "output_type": "stream",
     "text": [
      "/root/.cache/pypoetry/virtualenvs/sin5007-lcGWJnmY-py3.11/lib/python3.11/site-packages/sklearn/neural_network/_multilayer_perceptron.py:690: ConvergenceWarning: Stochastic Optimizer: Maximum iterations (200) reached and the optimization hasn't converged yet.\n",
      "  warnings.warn(\n"
     ]
    },
    {
     "name": "stdout",
     "output_type": "stream",
     "text": [
      "[CV 1/3] END activation=logistic, hidden_layer_sizes=10, learning_rate_init=0.001;, score=0.804 total time=  12.3s\n"
     ]
    },
    {
     "name": "stderr",
     "output_type": "stream",
     "text": [
      "/root/.cache/pypoetry/virtualenvs/sin5007-lcGWJnmY-py3.11/lib/python3.11/site-packages/sklearn/neural_network/_multilayer_perceptron.py:690: ConvergenceWarning: Stochastic Optimizer: Maximum iterations (200) reached and the optimization hasn't converged yet.\n",
      "  warnings.warn(\n"
     ]
    },
    {
     "name": "stdout",
     "output_type": "stream",
     "text": [
      "[CV 2/3] END activation=logistic, hidden_layer_sizes=10, learning_rate_init=0.001;, score=0.802 total time=  12.5s\n",
      "[CV 3/3] END activation=logistic, hidden_layer_sizes=10, learning_rate_init=0.05;, score=0.792 total time=   6.9s\n",
      "[CV 2/3] END activation=logistic, hidden_layer_sizes=10, learning_rate_init=0.1;, score=0.793 total time=   5.1s\n",
      "[CV 1/3] END activation=logistic, hidden_layer_sizes=10, learning_rate_init=0.01;, score=0.795 total time=  13.2s\n"
     ]
    },
    {
     "name": "stderr",
     "output_type": "stream",
     "text": [
      "/root/.cache/pypoetry/virtualenvs/sin5007-lcGWJnmY-py3.11/lib/python3.11/site-packages/sklearn/neural_network/_multilayer_perceptron.py:690: ConvergenceWarning: Stochastic Optimizer: Maximum iterations (200) reached and the optimization hasn't converged yet.\n",
      "  warnings.warn(\n"
     ]
    },
    {
     "name": "stdout",
     "output_type": "stream",
     "text": [
      "[CV 3/3] END activation=logistic, hidden_layer_sizes=10, learning_rate_init=0.01;, score=0.790 total time=  13.1s\n"
     ]
    },
    {
     "name": "stderr",
     "output_type": "stream",
     "text": [
      "/root/.cache/pypoetry/virtualenvs/sin5007-lcGWJnmY-py3.11/lib/python3.11/site-packages/sklearn/neural_network/_multilayer_perceptron.py:690: ConvergenceWarning: Stochastic Optimizer: Maximum iterations (200) reached and the optimization hasn't converged yet.\n",
      "  warnings.warn(\n"
     ]
    },
    {
     "name": "stdout",
     "output_type": "stream",
     "text": [
      "[CV 3/3] END activation=logistic, hidden_layer_sizes=10, learning_rate_init=0.001;, score=0.793 total time=  14.5s\n",
      "[CV 3/3] END activation=logistic, hidden_layer_sizes=10, learning_rate_init=0.1;, score=0.786 total time=   6.5s\n",
      "[CV 1/3] END activation=logistic, hidden_layer_sizes=15, learning_rate_init=0.1;, score=0.798 total time=   5.5s\n",
      "[CV 2/3] END activation=logistic, hidden_layer_sizes=15, learning_rate_init=0.05;, score=0.803 total time=   6.8s\n",
      "[CV 3/3] END activation=logistic, hidden_layer_sizes=15, learning_rate_init=0.1;, score=0.794 total time=   6.0s\n",
      "[CV 2/3] END activation=logistic, hidden_layer_sizes=15, learning_rate_init=0.1;, score=0.789 total time=   9.6s\n"
     ]
    },
    {
     "name": "stderr",
     "output_type": "stream",
     "text": [
      "/root/.cache/pypoetry/virtualenvs/sin5007-lcGWJnmY-py3.11/lib/python3.11/site-packages/sklearn/neural_network/_multilayer_perceptron.py:690: ConvergenceWarning: Stochastic Optimizer: Maximum iterations (200) reached and the optimization hasn't converged yet.\n",
      "  warnings.warn(\n"
     ]
    },
    {
     "name": "stdout",
     "output_type": "stream",
     "text": [
      "[CV 1/3] END activation=logistic, hidden_layer_sizes=15, learning_rate_init=0.001;, score=0.810 total time=  16.2s\n",
      "[CV 3/3] END activation=logistic, hidden_layer_sizes=15, learning_rate_init=0.05;, score=0.785 total time=  12.2s\n",
      "[CV 1/3] END activation=logistic, hidden_layer_sizes=15, learning_rate_init=0.01;, score=0.793 total time=  15.3s\n",
      "[CV 1/3] END activation=logistic, hidden_layer_sizes=15, learning_rate_init=0.05;, score=0.798 total time=  13.9s\n"
     ]
    },
    {
     "name": "stderr",
     "output_type": "stream",
     "text": [
      "/root/.cache/pypoetry/virtualenvs/sin5007-lcGWJnmY-py3.11/lib/python3.11/site-packages/sklearn/neural_network/_multilayer_perceptron.py:690: ConvergenceWarning: Stochastic Optimizer: Maximum iterations (200) reached and the optimization hasn't converged yet.\n",
      "  warnings.warn(\n"
     ]
    },
    {
     "name": "stdout",
     "output_type": "stream",
     "text": [
      "[CV 2/3] END activation=logistic, hidden_layer_sizes=15, learning_rate_init=0.001;, score=0.806 total time=  18.0s\n",
      "[CV 2/3] END activation=relu, hidden_layer_sizes=5, learning_rate_init=0.01;, score=0.800 total time=   3.3s\n"
     ]
    },
    {
     "name": "stderr",
     "output_type": "stream",
     "text": [
      "/root/.cache/pypoetry/virtualenvs/sin5007-lcGWJnmY-py3.11/lib/python3.11/site-packages/sklearn/neural_network/_multilayer_perceptron.py:690: ConvergenceWarning: Stochastic Optimizer: Maximum iterations (200) reached and the optimization hasn't converged yet.\n",
      "  warnings.warn(\n"
     ]
    },
    {
     "name": "stdout",
     "output_type": "stream",
     "text": [
      "[CV 2/3] END activation=logistic, hidden_layer_sizes=15, learning_rate_init=0.01;, score=0.790 total time=  15.9s\n"
     ]
    },
    {
     "name": "stderr",
     "output_type": "stream",
     "text": [
      "/root/.cache/pypoetry/virtualenvs/sin5007-lcGWJnmY-py3.11/lib/python3.11/site-packages/sklearn/neural_network/_multilayer_perceptron.py:690: ConvergenceWarning: Stochastic Optimizer: Maximum iterations (200) reached and the optimization hasn't converged yet.\n",
      "  warnings.warn(\n",
      "/root/.cache/pypoetry/virtualenvs/sin5007-lcGWJnmY-py3.11/lib/python3.11/site-packages/sklearn/neural_network/_multilayer_perceptron.py:690: ConvergenceWarning: Stochastic Optimizer: Maximum iterations (200) reached and the optimization hasn't converged yet.\n",
      "  warnings.warn(\n"
     ]
    },
    {
     "name": "stdout",
     "output_type": "stream",
     "text": [
      "[CV 3/3] END activation=logistic, hidden_layer_sizes=15, learning_rate_init=0.01;, score=0.790 total time=  16.2s\n",
      "[CV 3/3] END activation=logistic, hidden_layer_sizes=15, learning_rate_init=0.001;, score=0.796 total time=  17.8s\n",
      "[CV 1/3] END activation=relu, hidden_layer_sizes=5, learning_rate_init=0.05;, score=0.809 total time=   2.3s\n",
      "[CV 3/3] END activation=relu, hidden_layer_sizes=5, learning_rate_init=0.01;, score=0.794 total time=   3.9s\n",
      "[CV 2/3] END activation=relu, hidden_layer_sizes=5, learning_rate_init=0.05;, score=0.802 total time=   2.6s\n",
      "[CV 3/3] END activation=relu, hidden_layer_sizes=5, learning_rate_init=0.05;, score=0.795 total time=   2.3s\n",
      "[CV 1/3] END activation=relu, hidden_layer_sizes=5, learning_rate_init=0.01;, score=0.802 total time=   6.0s\n",
      "[CV 1/3] END activation=relu, hidden_layer_sizes=5, learning_rate_init=0.1;, score=0.802 total time=   2.6s\n",
      "[CV 3/3] END activation=relu, hidden_layer_sizes=5, learning_rate_init=0.1;, score=0.789 total time=   2.0s\n",
      "[CV 2/3] END activation=relu, hidden_layer_sizes=5, learning_rate_init=0.1;, score=0.807 total time=   3.2s\n",
      "[CV 2/3] END activation=relu, hidden_layer_sizes=5, learning_rate_init=0.001;, score=0.801 total time=  11.4s\n",
      "[CV 3/3] END activation=relu, hidden_layer_sizes=5, learning_rate_init=0.001;, score=0.800 total time=  12.9s\n",
      "[CV 1/3] END activation=relu, hidden_layer_sizes=5, learning_rate_init=0.001;, score=0.802 total time=  14.3s\n",
      "[CV 2/3] END activation=relu, hidden_layer_sizes=10, learning_rate_init=0.05;, score=0.806 total time=   4.2s\n",
      "[CV 1/3] END activation=relu, hidden_layer_sizes=10, learning_rate_init=0.1;, score=0.801 total time=   3.7s\n",
      "[CV 3/3] END activation=relu, hidden_layer_sizes=10, learning_rate_init=0.05;, score=0.791 total time=   5.1s\n",
      "[CV 3/3] END activation=relu, hidden_layer_sizes=10, learning_rate_init=0.1;, score=0.798 total time=   2.6s\n",
      "[CV 1/3] END activation=relu, hidden_layer_sizes=10, learning_rate_init=0.05;, score=0.789 total time=   6.7s\n",
      "[CV 2/3] END activation=relu, hidden_layer_sizes=10, learning_rate_init=0.1;, score=0.810 total time=   3.5s\n",
      "[CV 2/3] END activation=relu, hidden_layer_sizes=10, learning_rate_init=0.01;, score=0.801 total time=   8.4s\n",
      "[CV 3/3] END activation=relu, hidden_layer_sizes=10, learning_rate_init=0.01;, score=0.791 total time=   8.8s\n",
      "[CV 1/3] END activation=relu, hidden_layer_sizes=10, learning_rate_init=0.01;, score=0.796 total time=  11.5s\n"
     ]
    },
    {
     "name": "stderr",
     "output_type": "stream",
     "text": [
      "/root/.cache/pypoetry/virtualenvs/sin5007-lcGWJnmY-py3.11/lib/python3.11/site-packages/sklearn/neural_network/_multilayer_perceptron.py:690: ConvergenceWarning: Stochastic Optimizer: Maximum iterations (200) reached and the optimization hasn't converged yet.\n",
      "  warnings.warn(\n"
     ]
    },
    {
     "name": "stdout",
     "output_type": "stream",
     "text": [
      "[CV 2/3] END activation=relu, hidden_layer_sizes=10, learning_rate_init=0.001;, score=0.803 total time=  12.8s\n"
     ]
    },
    {
     "name": "stderr",
     "output_type": "stream",
     "text": [
      "/root/.cache/pypoetry/virtualenvs/sin5007-lcGWJnmY-py3.11/lib/python3.11/site-packages/sklearn/neural_network/_multilayer_perceptron.py:690: ConvergenceWarning: Stochastic Optimizer: Maximum iterations (200) reached and the optimization hasn't converged yet.\n",
      "  warnings.warn(\n"
     ]
    },
    {
     "name": "stdout",
     "output_type": "stream",
     "text": [
      "[CV 3/3] END activation=relu, hidden_layer_sizes=10, learning_rate_init=0.001;, score=0.797 total time=  13.2s\n",
      "[CV 2/3] END activation=relu, hidden_layer_sizes=15, learning_rate_init=0.05;, score=0.801 total time=   3.9s\n",
      "[CV 1/3] END activation=relu, hidden_layer_sizes=15, learning_rate_init=0.01;, score=0.806 total time=   6.9s\n",
      "[CV 1/3] END activation=relu, hidden_layer_sizes=10, learning_rate_init=0.001;, score=0.808 total time=  14.4s\n"
     ]
    },
    {
     "name": "stderr",
     "output_type": "stream",
     "text": [
      "/root/.cache/pypoetry/virtualenvs/sin5007-lcGWJnmY-py3.11/lib/python3.11/site-packages/sklearn/neural_network/_multilayer_perceptron.py:690: ConvergenceWarning: Stochastic Optimizer: Maximum iterations (200) reached and the optimization hasn't converged yet.\n",
      "  warnings.warn(\n"
     ]
    },
    {
     "name": "stdout",
     "output_type": "stream",
     "text": [
      "[CV 2/3] END activation=relu, hidden_layer_sizes=15, learning_rate_init=0.01;, score=0.796 total time=   6.5s\n",
      "[CV 1/3] END activation=relu, hidden_layer_sizes=15, learning_rate_init=0.05;, score=0.796 total time=   5.7s\n",
      "[CV 3/3] END activation=relu, hidden_layer_sizes=15, learning_rate_init=0.05;, score=0.785 total time=   3.2s\n",
      "[CV 3/3] END activation=relu, hidden_layer_sizes=15, learning_rate_init=0.1;, score=0.800 total time=   1.9s\n",
      "[CV 3/3] END activation=relu, hidden_layer_sizes=15, learning_rate_init=0.01;, score=0.794 total time=   8.3s\n",
      "[CV 1/3] END activation=relu, hidden_layer_sizes=15, learning_rate_init=0.1;, score=0.802 total time=   3.4s\n",
      "[CV 2/3] END activation=relu, hidden_layer_sizes=15, learning_rate_init=0.1;, score=0.786 total time=   3.6s\n",
      "[CV 1/3] END activation=relu, hidden_layer_sizes=15, learning_rate_init=0.001;, score=0.802 total time=  11.7s\n",
      "[CV 2/3] END activation=relu, hidden_layer_sizes=15, learning_rate_init=0.001;, score=0.803 total time=  11.4s\n"
     ]
    },
    {
     "name": "stderr",
     "output_type": "stream",
     "text": [
      "/root/.cache/pypoetry/virtualenvs/sin5007-lcGWJnmY-py3.11/lib/python3.11/site-packages/sklearn/neural_network/_multilayer_perceptron.py:690: ConvergenceWarning: Stochastic Optimizer: Maximum iterations (200) reached and the optimization hasn't converged yet.\n",
      "  warnings.warn(\n",
      "/root/.cache/pypoetry/virtualenvs/sin5007-lcGWJnmY-py3.11/lib/python3.11/site-packages/sklearn/neural_network/_multilayer_perceptron.py:690: ConvergenceWarning: Stochastic Optimizer: Maximum iterations (200) reached and the optimization hasn't converged yet.\n",
      "  warnings.warn(\n",
      "/root/.cache/pypoetry/virtualenvs/sin5007-lcGWJnmY-py3.11/lib/python3.11/site-packages/sklearn/neural_network/_multilayer_perceptron.py:690: ConvergenceWarning: Stochastic Optimizer: Maximum iterations (200) reached and the optimization hasn't converged yet.\n",
      "  warnings.warn(\n"
     ]
    },
    {
     "name": "stdout",
     "output_type": "stream",
     "text": [
      "[CV 3/3] END activation=relu, hidden_layer_sizes=15, learning_rate_init=0.001;, score=0.797 total time=  10.7s\n",
      "===> 2024-10-28 15:34:36.266019 | FINALIZADO FOLD 9 | TEMPO TOTAL 0:00:57.978991\n",
      "\n",
      "====> 2024-10-28 15:34:36.266725 | EXECUTANDO FOLD 10 \n",
      "Fitting 3 folds for each of 24 candidates, totalling 72 fits\n",
      "[CV 2/3] END activation=logistic, hidden_layer_sizes=5, learning_rate_init=0.05;, score=0.798 total time=   5.0s\n",
      "[CV 2/3] END activation=logistic, hidden_layer_sizes=5, learning_rate_init=0.1;, score=0.788 total time=   6.2s\n",
      "[CV 1/3] END activation=logistic, hidden_layer_sizes=5, learning_rate_init=0.05;, score=0.799 total time=   6.7s\n",
      "[CV 1/3] END activation=logistic, hidden_layer_sizes=5, learning_rate_init=0.1;, score=0.791 total time=   7.0s\n",
      "[CV 3/3] END activation=logistic, hidden_layer_sizes=5, learning_rate_init=0.05;, score=0.803 total time=   7.4s\n",
      "[CV 3/3] END activation=logistic, hidden_layer_sizes=5, learning_rate_init=0.01;, score=0.804 total time=   8.1s\n",
      "[CV 1/3] END activation=logistic, hidden_layer_sizes=5, learning_rate_init=0.01;, score=0.800 total time=   9.4s\n",
      "[CV 3/3] END activation=logistic, hidden_layer_sizes=5, learning_rate_init=0.1;, score=0.804 total time=   9.4s\n",
      "[CV 2/3] END activation=logistic, hidden_layer_sizes=5, learning_rate_init=0.01;, score=0.797 total time=  11.8s\n"
     ]
    },
    {
     "name": "stderr",
     "output_type": "stream",
     "text": [
      "/root/.cache/pypoetry/virtualenvs/sin5007-lcGWJnmY-py3.11/lib/python3.11/site-packages/sklearn/neural_network/_multilayer_perceptron.py:690: ConvergenceWarning: Stochastic Optimizer: Maximum iterations (200) reached and the optimization hasn't converged yet.\n",
      "  warnings.warn(\n",
      "/root/.cache/pypoetry/virtualenvs/sin5007-lcGWJnmY-py3.11/lib/python3.11/site-packages/sklearn/neural_network/_multilayer_perceptron.py:690: ConvergenceWarning: Stochastic Optimizer: Maximum iterations (200) reached and the optimization hasn't converged yet.\n",
      "  warnings.warn(\n"
     ]
    },
    {
     "name": "stdout",
     "output_type": "stream",
     "text": [
      "[CV 3/3] END activation=logistic, hidden_layer_sizes=5, learning_rate_init=0.001;, score=0.803 total time=  15.0s\n",
      "[CV 1/3] END activation=logistic, hidden_layer_sizes=5, learning_rate_init=0.001;, score=0.807 total time=  15.0s\n"
     ]
    },
    {
     "name": "stderr",
     "output_type": "stream",
     "text": [
      "/root/.cache/pypoetry/virtualenvs/sin5007-lcGWJnmY-py3.11/lib/python3.11/site-packages/sklearn/neural_network/_multilayer_perceptron.py:690: ConvergenceWarning: Stochastic Optimizer: Maximum iterations (200) reached and the optimization hasn't converged yet.\n",
      "  warnings.warn(\n"
     ]
    },
    {
     "name": "stdout",
     "output_type": "stream",
     "text": [
      "[CV 2/3] END activation=logistic, hidden_layer_sizes=5, learning_rate_init=0.001;, score=0.805 total time=  15.7s\n",
      "[CV 2/3] END activation=logistic, hidden_layer_sizes=10, learning_rate_init=0.05;, score=0.786 total time=   7.4s\n",
      "[CV 2/3] END activation=logistic, hidden_layer_sizes=10, learning_rate_init=0.01;, score=0.796 total time=   9.8s\n",
      "[CV 1/3] END activation=logistic, hidden_layer_sizes=10, learning_rate_init=0.05;, score=0.797 total time=   7.9s\n"
     ]
    },
    {
     "name": "stderr",
     "output_type": "stream",
     "text": [
      "/root/.cache/pypoetry/virtualenvs/sin5007-lcGWJnmY-py3.11/lib/python3.11/site-packages/sklearn/neural_network/_multilayer_perceptron.py:690: ConvergenceWarning: Stochastic Optimizer: Maximum iterations (200) reached and the optimization hasn't converged yet.\n",
      "  warnings.warn(\n",
      "/root/.cache/pypoetry/virtualenvs/sin5007-lcGWJnmY-py3.11/lib/python3.11/site-packages/sklearn/neural_network/_multilayer_perceptron.py:690: ConvergenceWarning: Stochastic Optimizer: Maximum iterations (200) reached and the optimization hasn't converged yet.\n",
      "  warnings.warn(\n"
     ]
    },
    {
     "name": "stdout",
     "output_type": "stream",
     "text": [
      "[CV 1/3] END activation=logistic, hidden_layer_sizes=10, learning_rate_init=0.001;, score=0.805 total time=  13.2s\n",
      "[CV 2/3] END activation=logistic, hidden_layer_sizes=10, learning_rate_init=0.001;, score=0.806 total time=  12.1s\n",
      "[CV 3/3] END activation=logistic, hidden_layer_sizes=10, learning_rate_init=0.05;, score=0.799 total time=   6.6s\n"
     ]
    },
    {
     "name": "stderr",
     "output_type": "stream",
     "text": [
      "/root/.cache/pypoetry/virtualenvs/sin5007-lcGWJnmY-py3.11/lib/python3.11/site-packages/sklearn/neural_network/_multilayer_perceptron.py:690: ConvergenceWarning: Stochastic Optimizer: Maximum iterations (200) reached and the optimization hasn't converged yet.\n",
      "  warnings.warn(\n"
     ]
    },
    {
     "name": "stdout",
     "output_type": "stream",
     "text": [
      "[CV 3/3] END activation=logistic, hidden_layer_sizes=10, learning_rate_init=0.001;, score=0.805 total time=  12.3s\n"
     ]
    },
    {
     "name": "stderr",
     "output_type": "stream",
     "text": [
      "/root/.cache/pypoetry/virtualenvs/sin5007-lcGWJnmY-py3.11/lib/python3.11/site-packages/sklearn/neural_network/_multilayer_perceptron.py:690: ConvergenceWarning: Stochastic Optimizer: Maximum iterations (200) reached and the optimization hasn't converged yet.\n",
      "  warnings.warn(\n"
     ]
    },
    {
     "name": "stdout",
     "output_type": "stream",
     "text": [
      "[CV 1/3] END activation=logistic, hidden_layer_sizes=10, learning_rate_init=0.01;, score=0.802 total time=  12.3s\n",
      "[CV 1/3] END activation=logistic, hidden_layer_sizes=10, learning_rate_init=0.1;, score=0.784 total time=   5.9s\n",
      "[CV 2/3] END activation=logistic, hidden_layer_sizes=10, learning_rate_init=0.1;, score=0.785 total time=   6.4s\n"
     ]
    },
    {
     "name": "stderr",
     "output_type": "stream",
     "text": [
      "/root/.cache/pypoetry/virtualenvs/sin5007-lcGWJnmY-py3.11/lib/python3.11/site-packages/sklearn/neural_network/_multilayer_perceptron.py:690: ConvergenceWarning: Stochastic Optimizer: Maximum iterations (200) reached and the optimization hasn't converged yet.\n",
      "  warnings.warn(\n"
     ]
    },
    {
     "name": "stdout",
     "output_type": "stream",
     "text": [
      "[CV 3/3] END activation=logistic, hidden_layer_sizes=10, learning_rate_init=0.01;, score=0.799 total time=  14.1s\n",
      "[CV 3/3] END activation=logistic, hidden_layer_sizes=10, learning_rate_init=0.1;, score=0.792 total time=   7.6s\n",
      "[CV 2/3] END activation=logistic, hidden_layer_sizes=15, learning_rate_init=0.05;, score=0.791 total time=   5.8s\n",
      "[CV 1/3] END activation=logistic, hidden_layer_sizes=15, learning_rate_init=0.05;, score=0.796 total time=   8.2s\n",
      "[CV 1/3] END activation=logistic, hidden_layer_sizes=15, learning_rate_init=0.1;, score=0.786 total time=   6.3s\n",
      "[CV 2/3] END activation=logistic, hidden_layer_sizes=15, learning_rate_init=0.1;, score=0.775 total time=   6.6s\n",
      "[CV 3/3] END activation=logistic, hidden_layer_sizes=15, learning_rate_init=0.1;, score=0.803 total time=   6.3s\n",
      "[CV 3/3] END activation=logistic, hidden_layer_sizes=15, learning_rate_init=0.05;, score=0.790 total time=   9.6s\n",
      "[CV 2/3] END activation=logistic, hidden_layer_sizes=15, learning_rate_init=0.001;, score=0.805 total time=  13.4s\n"
     ]
    },
    {
     "name": "stderr",
     "output_type": "stream",
     "text": [
      "/root/.cache/pypoetry/virtualenvs/sin5007-lcGWJnmY-py3.11/lib/python3.11/site-packages/sklearn/neural_network/_multilayer_perceptron.py:690: ConvergenceWarning: Stochastic Optimizer: Maximum iterations (200) reached and the optimization hasn't converged yet.\n",
      "  warnings.warn(\n",
      "/root/.cache/pypoetry/virtualenvs/sin5007-lcGWJnmY-py3.11/lib/python3.11/site-packages/sklearn/neural_network/_multilayer_perceptron.py:690: ConvergenceWarning: Stochastic Optimizer: Maximum iterations (200) reached and the optimization hasn't converged yet.\n",
      "  warnings.warn(\n",
      "/root/.cache/pypoetry/virtualenvs/sin5007-lcGWJnmY-py3.11/lib/python3.11/site-packages/sklearn/neural_network/_multilayer_perceptron.py:690: ConvergenceWarning: Stochastic Optimizer: Maximum iterations (200) reached and the optimization hasn't converged yet.\n",
      "  warnings.warn(\n"
     ]
    },
    {
     "name": "stdout",
     "output_type": "stream",
     "text": [
      "[CV 2/3] END activation=logistic, hidden_layer_sizes=15, learning_rate_init=0.01;, score=0.793 total time=  13.4s\n",
      "[CV 1/3] END activation=logistic, hidden_layer_sizes=15, learning_rate_init=0.001;, score=0.808 total time=  14.9s\n"
     ]
    },
    {
     "name": "stderr",
     "output_type": "stream",
     "text": [
      "/root/.cache/pypoetry/virtualenvs/sin5007-lcGWJnmY-py3.11/lib/python3.11/site-packages/sklearn/neural_network/_multilayer_perceptron.py:690: ConvergenceWarning: Stochastic Optimizer: Maximum iterations (200) reached and the optimization hasn't converged yet.\n",
      "  warnings.warn(\n"
     ]
    },
    {
     "name": "stdout",
     "output_type": "stream",
     "text": [
      "[CV 1/3] END activation=logistic, hidden_layer_sizes=15, learning_rate_init=0.01;, score=0.786 total time=  14.4s\n",
      "[CV 1/3] END activation=relu, hidden_layer_sizes=5, learning_rate_init=0.05;, score=0.801 total time=   2.1s\n"
     ]
    },
    {
     "name": "stderr",
     "output_type": "stream",
     "text": [
      "/root/.cache/pypoetry/virtualenvs/sin5007-lcGWJnmY-py3.11/lib/python3.11/site-packages/sklearn/neural_network/_multilayer_perceptron.py:690: ConvergenceWarning: Stochastic Optimizer: Maximum iterations (200) reached and the optimization hasn't converged yet.\n",
      "  warnings.warn(\n"
     ]
    },
    {
     "name": "stdout",
     "output_type": "stream",
     "text": [
      "[CV 3/3] END activation=logistic, hidden_layer_sizes=15, learning_rate_init=0.001;, score=0.807 total time=  15.7s\n",
      "[CV 1/3] END activation=relu, hidden_layer_sizes=5, learning_rate_init=0.001;, score=0.802 total time=   8.3s\n",
      "[CV 2/3] END activation=relu, hidden_layer_sizes=5, learning_rate_init=0.01;, score=0.800 total time=   4.2s\n",
      "[CV 2/3] END activation=relu, hidden_layer_sizes=5, learning_rate_init=0.1;, score=0.806 total time=   1.3s\n"
     ]
    },
    {
     "name": "stderr",
     "output_type": "stream",
     "text": [
      "/root/.cache/pypoetry/virtualenvs/sin5007-lcGWJnmY-py3.11/lib/python3.11/site-packages/sklearn/neural_network/_multilayer_perceptron.py:690: ConvergenceWarning: Stochastic Optimizer: Maximum iterations (200) reached and the optimization hasn't converged yet.\n",
      "  warnings.warn(\n"
     ]
    },
    {
     "name": "stdout",
     "output_type": "stream",
     "text": [
      "[CV 3/3] END activation=logistic, hidden_layer_sizes=15, learning_rate_init=0.01;, score=0.798 total time=  15.6s\n",
      "[CV 3/3] END activation=relu, hidden_layer_sizes=5, learning_rate_init=0.05;, score=0.801 total time=   2.4s\n",
      "[CV 1/3] END activation=relu, hidden_layer_sizes=5, learning_rate_init=0.01;, score=0.808 total time=   5.9s\n",
      "[CV 3/3] END activation=relu, hidden_layer_sizes=5, learning_rate_init=0.01;, score=0.802 total time=   4.2s\n",
      "[CV 1/3] END activation=relu, hidden_layer_sizes=5, learning_rate_init=0.1;, score=0.809 total time=   2.5s\n",
      "[CV 2/3] END activation=relu, hidden_layer_sizes=5, learning_rate_init=0.05;, score=0.806 total time=   3.6s\n",
      "[CV 3/3] END activation=relu, hidden_layer_sizes=5, learning_rate_init=0.1;, score=0.795 total time=   2.5s\n",
      "[CV 2/3] END activation=relu, hidden_layer_sizes=5, learning_rate_init=0.001;, score=0.804 total time=  11.8s\n",
      "[CV 1/3] END activation=relu, hidden_layer_sizes=10, learning_rate_init=0.05;, score=0.794 total time=   5.6s\n",
      "[CV 1/3] END activation=relu, hidden_layer_sizes=10, learning_rate_init=0.1;, score=0.804 total time=   5.3s\n",
      "[CV 2/3] END activation=relu, hidden_layer_sizes=10, learning_rate_init=0.05;, score=0.810 total time=   6.2s\n",
      "[CV 3/3] END activation=relu, hidden_layer_sizes=5, learning_rate_init=0.001;, score=0.808 total time=  14.1s\n",
      "[CV 2/3] END activation=relu, hidden_layer_sizes=10, learning_rate_init=0.01;, score=0.799 total time=   8.3s\n",
      "[CV 2/3] END activation=relu, hidden_layer_sizes=10, learning_rate_init=0.1;, score=0.803 total time=   3.7s\n",
      "[CV 3/3] END activation=relu, hidden_layer_sizes=10, learning_rate_init=0.1;, score=0.801 total time=   2.8s\n",
      "[CV 3/3] END activation=relu, hidden_layer_sizes=10, learning_rate_init=0.05;, score=0.797 total time=   7.8s\n",
      "[CV 1/3] END activation=relu, hidden_layer_sizes=10, learning_rate_init=0.01;, score=0.802 total time=  11.5s\n",
      "[CV 3/3] END activation=relu, hidden_layer_sizes=10, learning_rate_init=0.01;, score=0.800 total time=  11.0s\n",
      "[CV 1/3] END activation=relu, hidden_layer_sizes=15, learning_rate_init=0.05;, score=0.799 total time=   5.1s\n",
      "[CV 2/3] END activation=relu, hidden_layer_sizes=15, learning_rate_init=0.01;, score=0.805 total time=   5.6s\n"
     ]
    },
    {
     "name": "stderr",
     "output_type": "stream",
     "text": [
      "/root/.cache/pypoetry/virtualenvs/sin5007-lcGWJnmY-py3.11/lib/python3.11/site-packages/sklearn/neural_network/_multilayer_perceptron.py:690: ConvergenceWarning: Stochastic Optimizer: Maximum iterations (200) reached and the optimization hasn't converged yet.\n",
      "  warnings.warn(\n"
     ]
    },
    {
     "name": "stdout",
     "output_type": "stream",
     "text": [
      "[CV 1/3] END activation=relu, hidden_layer_sizes=10, learning_rate_init=0.001;, score=0.804 total time=  15.4s\n",
      "[CV 3/3] END activation=relu, hidden_layer_sizes=15, learning_rate_init=0.05;, score=0.792 total time=   3.5s\n",
      "[CV 3/3] END activation=relu, hidden_layer_sizes=10, learning_rate_init=0.001;, score=0.806 total time=  15.3s\n",
      "[CV 2/3] END activation=relu, hidden_layer_sizes=15, learning_rate_init=0.05;, score=0.799 total time=   3.8s\n"
     ]
    },
    {
     "name": "stderr",
     "output_type": "stream",
     "text": [
      "/root/.cache/pypoetry/virtualenvs/sin5007-lcGWJnmY-py3.11/lib/python3.11/site-packages/sklearn/neural_network/_multilayer_perceptron.py:690: ConvergenceWarning: Stochastic Optimizer: Maximum iterations (200) reached and the optimization hasn't converged yet.\n",
      "  warnings.warn(\n"
     ]
    },
    {
     "name": "stdout",
     "output_type": "stream",
     "text": [
      "[CV 2/3] END activation=relu, hidden_layer_sizes=10, learning_rate_init=0.001;, score=0.801 total time=  15.7s\n",
      "[CV 1/3] END activation=relu, hidden_layer_sizes=15, learning_rate_init=0.1;, score=0.799 total time=   2.5s\n",
      "[CV 3/3] END activation=relu, hidden_layer_sizes=15, learning_rate_init=0.1;, score=0.809 total time=   2.0s\n",
      "[CV 2/3] END activation=relu, hidden_layer_sizes=15, learning_rate_init=0.1;, score=0.805 total time=   2.4s\n",
      "[CV 3/3] END activation=relu, hidden_layer_sizes=15, learning_rate_init=0.01;, score=0.804 total time=   8.3s\n",
      "[CV 1/3] END activation=relu, hidden_layer_sizes=15, learning_rate_init=0.01;, score=0.797 total time=   9.5s\n"
     ]
    },
    {
     "name": "stderr",
     "output_type": "stream",
     "text": [
      "/root/.cache/pypoetry/virtualenvs/sin5007-lcGWJnmY-py3.11/lib/python3.11/site-packages/sklearn/neural_network/_multilayer_perceptron.py:690: ConvergenceWarning: Stochastic Optimizer: Maximum iterations (200) reached and the optimization hasn't converged yet.\n",
      "  warnings.warn(\n",
      "/root/.cache/pypoetry/virtualenvs/sin5007-lcGWJnmY-py3.11/lib/python3.11/site-packages/sklearn/neural_network/_multilayer_perceptron.py:690: ConvergenceWarning: Stochastic Optimizer: Maximum iterations (200) reached and the optimization hasn't converged yet.\n",
      "  warnings.warn(\n",
      "/root/.cache/pypoetry/virtualenvs/sin5007-lcGWJnmY-py3.11/lib/python3.11/site-packages/sklearn/neural_network/_multilayer_perceptron.py:690: ConvergenceWarning: Stochastic Optimizer: Maximum iterations (200) reached and the optimization hasn't converged yet.\n",
      "  warnings.warn(\n"
     ]
    },
    {
     "name": "stdout",
     "output_type": "stream",
     "text": [
      "[CV 1/3] END activation=relu, hidden_layer_sizes=15, learning_rate_init=0.001;, score=0.805 total time=  11.7s\n",
      "[CV 2/3] END activation=relu, hidden_layer_sizes=15, learning_rate_init=0.001;, score=0.804 total time=  11.3s\n",
      "[CV 3/3] END activation=relu, hidden_layer_sizes=15, learning_rate_init=0.001;, score=0.807 total time=  11.1s\n",
      "===> 2024-10-28 15:35:35.901680 | FINALIZADO FOLD 10 | TEMPO TOTAL 0:00:59.634955\n",
      "\n",
      "Resultados na validação cruzada: {'f1': 0.8067255386672649, 'accuracy': 0.8067790604866, 'precision': 0.8071045261285498, 'recall': 0.8067816951963035}\n",
      "Resultados na base de teste: {'f1': 0.7522287570291228, 'accuracy': 0.7999379652605458, 'precision': 0.7348358185633106, 'recall': 0.8070205321027197}\n",
      "Melhores parâmetros escolhidos: {'activation': 'relu', 'hidden_layer_sizes': 10, 'learning_rate_init': 0.1}\n"
     ]
    }
   ],
   "source": [
    "param_grid_categorical = {\n",
    "    \"hidden_layer_sizes\": [5, 10, 15],\n",
    "    \"activation\": [\"logistic\", \"relu\"],\n",
    "    \"learning_rate_init\": [0.001, 0.01, 0.05, 0.1]\n",
    "}\n",
    "\n",
    "# Executar a função e obter os melhores parâmetros\n",
    "results_validation, results_test, best_params, results_list_full = run_cross_validation(\n",
    "    df_train.drop(columns=[\"RainTomorrow\"]),\n",
    "    df_train[\"RainTomorrow\"],\n",
    "    df_test.drop(columns=[\"RainTomorrow\"]),\n",
    "    df_test[\"RainTomorrow\"],\n",
    "    MLPClassifier(random_state=42),\n",
    "    param_grid_categorical,\n",
    "    k_folds=10,\n",
    ")\n",
    "\n",
    "print(\"Resultados na validação cruzada:\", results_validation)\n",
    "print(\"Resultados na base de teste:\", results_test)\n",
    "print(\"Melhores parâmetros escolhidos:\", best_params)"
   ]
  },
  {
   "cell_type": "code",
   "execution_count": 54,
   "metadata": {},
   "outputs": [
    {
     "data": {
      "text/html": [
       "<div>\n",
       "<style scoped>\n",
       "    .dataframe tbody tr th:only-of-type {\n",
       "        vertical-align: middle;\n",
       "    }\n",
       "\n",
       "    .dataframe tbody tr th {\n",
       "        vertical-align: top;\n",
       "    }\n",
       "\n",
       "    .dataframe thead th {\n",
       "        text-align: right;\n",
       "    }\n",
       "</style>\n",
       "<table border=\"1\" class=\"dataframe\">\n",
       "  <thead>\n",
       "    <tr style=\"text-align: right;\">\n",
       "      <th></th>\n",
       "      <th>f1</th>\n",
       "      <th>accuracy</th>\n",
       "      <th>precision</th>\n",
       "      <th>recall</th>\n",
       "      <th>dataset</th>\n",
       "    </tr>\n",
       "  </thead>\n",
       "  <tbody>\n",
       "    <tr>\n",
       "      <th>0</th>\n",
       "      <td>0.792086</td>\n",
       "      <td>0.792358</td>\n",
       "      <td>0.793938</td>\n",
       "      <td>0.792376</td>\n",
       "      <td>Validação Cruzada</td>\n",
       "    </tr>\n",
       "    <tr>\n",
       "      <th>1</th>\n",
       "      <td>0.831048</td>\n",
       "      <td>0.831071</td>\n",
       "      <td>0.831262</td>\n",
       "      <td>0.831077</td>\n",
       "      <td>Validação Cruzada</td>\n",
       "    </tr>\n",
       "    <tr>\n",
       "      <th>2</th>\n",
       "      <td>0.806428</td>\n",
       "      <td>0.806435</td>\n",
       "      <td>0.806473</td>\n",
       "      <td>0.806433</td>\n",
       "      <td>Validação Cruzada</td>\n",
       "    </tr>\n",
       "    <tr>\n",
       "      <th>3</th>\n",
       "      <td>0.802397</td>\n",
       "      <td>0.802413</td>\n",
       "      <td>0.802523</td>\n",
       "      <td>0.802418</td>\n",
       "      <td>Validação Cruzada</td>\n",
       "    </tr>\n",
       "    <tr>\n",
       "      <th>4</th>\n",
       "      <td>0.822897</td>\n",
       "      <td>0.822938</td>\n",
       "      <td>0.823232</td>\n",
       "      <td>0.822938</td>\n",
       "      <td>Validação Cruzada</td>\n",
       "    </tr>\n",
       "    <tr>\n",
       "      <th>5</th>\n",
       "      <td>0.795771</td>\n",
       "      <td>0.795775</td>\n",
       "      <td>0.795794</td>\n",
       "      <td>0.795775</td>\n",
       "      <td>Validação Cruzada</td>\n",
       "    </tr>\n",
       "    <tr>\n",
       "      <th>6</th>\n",
       "      <td>0.808297</td>\n",
       "      <td>0.808350</td>\n",
       "      <td>0.808690</td>\n",
       "      <td>0.808350</td>\n",
       "      <td>Validação Cruzada</td>\n",
       "    </tr>\n",
       "    <tr>\n",
       "      <th>7</th>\n",
       "      <td>0.787133</td>\n",
       "      <td>0.787223</td>\n",
       "      <td>0.787713</td>\n",
       "      <td>0.787223</td>\n",
       "      <td>Validação Cruzada</td>\n",
       "    </tr>\n",
       "    <tr>\n",
       "      <th>8</th>\n",
       "      <td>0.824938</td>\n",
       "      <td>0.824950</td>\n",
       "      <td>0.825034</td>\n",
       "      <td>0.824950</td>\n",
       "      <td>Validação Cruzada</td>\n",
       "    </tr>\n",
       "    <tr>\n",
       "      <th>9</th>\n",
       "      <td>0.796259</td>\n",
       "      <td>0.796278</td>\n",
       "      <td>0.796386</td>\n",
       "      <td>0.796278</td>\n",
       "      <td>Validação Cruzada</td>\n",
       "    </tr>\n",
       "    <tr>\n",
       "      <th>0</th>\n",
       "      <td>0.738543</td>\n",
       "      <td>0.782524</td>\n",
       "      <td>0.724865</td>\n",
       "      <td>0.805109</td>\n",
       "      <td>Teste</td>\n",
       "    </tr>\n",
       "    <tr>\n",
       "      <th>1</th>\n",
       "      <td>0.758624</td>\n",
       "      <td>0.807161</td>\n",
       "      <td>0.740111</td>\n",
       "      <td>0.809789</td>\n",
       "      <td>Teste</td>\n",
       "    </tr>\n",
       "    <tr>\n",
       "      <th>2</th>\n",
       "      <td>0.756176</td>\n",
       "      <td>0.804413</td>\n",
       "      <td>0.738002</td>\n",
       "      <td>0.808750</td>\n",
       "      <td>Teste</td>\n",
       "    </tr>\n",
       "    <tr>\n",
       "      <th>3</th>\n",
       "      <td>0.742747</td>\n",
       "      <td>0.791475</td>\n",
       "      <td>0.726376</td>\n",
       "      <td>0.797710</td>\n",
       "      <td>Teste</td>\n",
       "    </tr>\n",
       "    <tr>\n",
       "      <th>4</th>\n",
       "      <td>0.753975</td>\n",
       "      <td>0.801223</td>\n",
       "      <td>0.736290</td>\n",
       "      <td>0.809447</td>\n",
       "      <td>Teste</td>\n",
       "    </tr>\n",
       "    <tr>\n",
       "      <th>5</th>\n",
       "      <td>0.751437</td>\n",
       "      <td>0.798653</td>\n",
       "      <td>0.734138</td>\n",
       "      <td>0.807655</td>\n",
       "      <td>Teste</td>\n",
       "    </tr>\n",
       "    <tr>\n",
       "      <th>6</th>\n",
       "      <td>0.755359</td>\n",
       "      <td>0.803527</td>\n",
       "      <td>0.737303</td>\n",
       "      <td>0.808326</td>\n",
       "      <td>Teste</td>\n",
       "    </tr>\n",
       "    <tr>\n",
       "      <th>7</th>\n",
       "      <td>0.754275</td>\n",
       "      <td>0.802464</td>\n",
       "      <td>0.736360</td>\n",
       "      <td>0.807499</td>\n",
       "      <td>Teste</td>\n",
       "    </tr>\n",
       "    <tr>\n",
       "      <th>8</th>\n",
       "      <td>0.755590</td>\n",
       "      <td>0.804059</td>\n",
       "      <td>0.737458</td>\n",
       "      <td>0.807800</td>\n",
       "      <td>Teste</td>\n",
       "    </tr>\n",
       "    <tr>\n",
       "      <th>9</th>\n",
       "      <td>0.755561</td>\n",
       "      <td>0.803882</td>\n",
       "      <td>0.737455</td>\n",
       "      <td>0.808120</td>\n",
       "      <td>Teste</td>\n",
       "    </tr>\n",
       "  </tbody>\n",
       "</table>\n",
       "</div>"
      ],
      "text/plain": [
       "         f1  accuracy  precision    recall            dataset\n",
       "0  0.792086  0.792358   0.793938  0.792376  Validação Cruzada\n",
       "1  0.831048  0.831071   0.831262  0.831077  Validação Cruzada\n",
       "2  0.806428  0.806435   0.806473  0.806433  Validação Cruzada\n",
       "3  0.802397  0.802413   0.802523  0.802418  Validação Cruzada\n",
       "4  0.822897  0.822938   0.823232  0.822938  Validação Cruzada\n",
       "5  0.795771  0.795775   0.795794  0.795775  Validação Cruzada\n",
       "6  0.808297  0.808350   0.808690  0.808350  Validação Cruzada\n",
       "7  0.787133  0.787223   0.787713  0.787223  Validação Cruzada\n",
       "8  0.824938  0.824950   0.825034  0.824950  Validação Cruzada\n",
       "9  0.796259  0.796278   0.796386  0.796278  Validação Cruzada\n",
       "0  0.738543  0.782524   0.724865  0.805109              Teste\n",
       "1  0.758624  0.807161   0.740111  0.809789              Teste\n",
       "2  0.756176  0.804413   0.738002  0.808750              Teste\n",
       "3  0.742747  0.791475   0.726376  0.797710              Teste\n",
       "4  0.753975  0.801223   0.736290  0.809447              Teste\n",
       "5  0.751437  0.798653   0.734138  0.807655              Teste\n",
       "6  0.755359  0.803527   0.737303  0.808326              Teste\n",
       "7  0.754275  0.802464   0.736360  0.807499              Teste\n",
       "8  0.755590  0.804059   0.737458  0.807800              Teste\n",
       "9  0.755561  0.803882   0.737455  0.808120              Teste"
      ]
     },
     "execution_count": 54,
     "metadata": {},
     "output_type": "execute_result"
    }
   ],
   "source": [
    "results_list_full"
   ]
  },
  {
   "cell_type": "markdown",
   "metadata": {},
   "source": [
    "### PCA"
   ]
  },
  {
   "cell_type": "code",
   "execution_count": 55,
   "metadata": {},
   "outputs": [
    {
     "name": "stdout",
     "output_type": "stream",
     "text": [
      "====> INICIANDO PROCESSAMENTO: 2024-10-28 15:35:35.983112 <====\n",
      "====> 2024-10-28 15:35:35.986215 | EXECUTANDO FOLD 1 \n",
      "Fitting 3 folds for each of 24 candidates, totalling 72 fits\n",
      "[CV 1/3] END activation=logistic, hidden_layer_sizes=5, learning_rate_init=0.01;, score=0.667 total time=   0.6s\n",
      "[CV 2/3] END activation=logistic, hidden_layer_sizes=5, learning_rate_init=0.01;, score=0.667 total time=   0.7s\n",
      "[CV 3/3] END activation=logistic, hidden_layer_sizes=5, learning_rate_init=0.05;, score=0.667 total time=   0.8s\n",
      "[CV 2/3] END activation=logistic, hidden_layer_sizes=5, learning_rate_init=0.1;, score=0.667 total time=   0.8s\n",
      "[CV 1/3] END activation=logistic, hidden_layer_sizes=5, learning_rate_init=0.1;, score=0.667 total time=   0.8s\n",
      "[CV 2/3] END activation=logistic, hidden_layer_sizes=5, learning_rate_init=0.001;, score=0.000 total time=   0.9s\n",
      "[CV 1/3] END activation=logistic, hidden_layer_sizes=5, learning_rate_init=0.001;, score=0.000 total time=   1.0s\n",
      "[CV 3/3] END activation=logistic, hidden_layer_sizes=5, learning_rate_init=0.001;, score=0.000 total time=   1.0s\n",
      "[CV 2/3] END activation=logistic, hidden_layer_sizes=5, learning_rate_init=0.05;, score=0.667 total time=   1.0s\n",
      "[CV 3/3] END activation=logistic, hidden_layer_sizes=5, learning_rate_init=0.01;, score=0.667 total time=   1.1s\n",
      "[CV 1/3] END activation=logistic, hidden_layer_sizes=5, learning_rate_init=0.05;, score=0.667 total time=   1.1s\n",
      "[CV 3/3] END activation=logistic, hidden_layer_sizes=5, learning_rate_init=0.1;, score=0.667 total time=   1.2s\n",
      "[CV 1/3] END activation=logistic, hidden_layer_sizes=10, learning_rate_init=0.01;, score=0.000 total time=   0.5s\n",
      "[CV 1/3] END activation=logistic, hidden_layer_sizes=10, learning_rate_init=0.05;, score=0.000 total time=   0.6s\n",
      "[CV 3/3] END activation=logistic, hidden_layer_sizes=10, learning_rate_init=0.05;, score=0.000 total time=   0.6s\n",
      "[CV 1/3] END activation=logistic, hidden_layer_sizes=10, learning_rate_init=0.1;, score=0.667 total time=   0.6s\n",
      "[CV 2/3] END activation=logistic, hidden_layer_sizes=10, learning_rate_init=0.01;, score=0.000 total time=   0.8s\n",
      "[CV 2/3] END activation=logistic, hidden_layer_sizes=10, learning_rate_init=0.1;, score=0.667 total time=   0.6s\n",
      "[CV 3/3] END activation=logistic, hidden_layer_sizes=10, learning_rate_init=0.01;, score=0.000 total time=   0.9s\n",
      "[CV 3/3] END activation=logistic, hidden_layer_sizes=10, learning_rate_init=0.1;, score=0.667 total time=   0.6s\n",
      "[CV 2/3] END activation=logistic, hidden_layer_sizes=10, learning_rate_init=0.05;, score=0.667 total time=   1.0s\n",
      "[CV 1/3] END activation=logistic, hidden_layer_sizes=15, learning_rate_init=0.001;, score=0.000 total time=   0.7s\n",
      "[CV 2/3] END activation=logistic, hidden_layer_sizes=15, learning_rate_init=0.001;, score=0.000 total time=   0.7s\n",
      "[CV 3/3] END activation=logistic, hidden_layer_sizes=15, learning_rate_init=0.001;, score=0.000 total time=   0.7s\n",
      "[CV 1/3] END activation=logistic, hidden_layer_sizes=15, learning_rate_init=0.01;, score=0.667 total time=   0.6s\n",
      "[CV 2/3] END activation=logistic, hidden_layer_sizes=15, learning_rate_init=0.01;, score=0.667 total time=   0.7s\n",
      "[CV 3/3] END activation=logistic, hidden_layer_sizes=15, learning_rate_init=0.01;, score=0.667 total time=   0.7s\n",
      "[CV 2/3] END activation=logistic, hidden_layer_sizes=15, learning_rate_init=0.05;, score=0.667 total time=   1.0s\n",
      "[CV 1/3] END activation=logistic, hidden_layer_sizes=15, learning_rate_init=0.05;, score=0.667 total time=   1.1s\n",
      "[CV 3/3] END activation=logistic, hidden_layer_sizes=15, learning_rate_init=0.05;, score=0.667 total time=   1.1s\n",
      "[CV 1/3] END activation=logistic, hidden_layer_sizes=15, learning_rate_init=0.1;, score=0.667 total time=   1.1s\n",
      "[CV 3/3] END activation=logistic, hidden_layer_sizes=15, learning_rate_init=0.1;, score=0.667 total time=   1.0s\n",
      "[CV 2/3] END activation=logistic, hidden_layer_sizes=15, learning_rate_init=0.1;, score=0.667 total time=   1.2s\n",
      "[CV 3/3] END activation=relu, hidden_layer_sizes=5, learning_rate_init=0.05;, score=0.678 total time=   0.8s\n",
      "[CV 1/3] END activation=relu, hidden_layer_sizes=5, learning_rate_init=0.05;, score=0.000 total time=   1.0s\n",
      "[CV 2/3] END activation=relu, hidden_layer_sizes=5, learning_rate_init=0.05;, score=0.000 total time=   1.2s\n",
      "[CV 1/3] END activation=relu, hidden_layer_sizes=5, learning_rate_init=0.1;, score=0.000 total time=   0.5s\n",
      "[CV 2/3] END activation=relu, hidden_layer_sizes=5, learning_rate_init=0.1;, score=0.000 total time=   0.5s\n",
      "[CV 1/3] END activation=relu, hidden_layer_sizes=5, learning_rate_init=0.01;, score=0.644 total time=   2.1s\n",
      "[CV 3/3] END activation=relu, hidden_layer_sizes=5, learning_rate_init=0.1;, score=0.000 total time=   0.5s\n",
      "[CV 3/3] END activation=relu, hidden_layer_sizes=5, learning_rate_init=0.01;, score=0.723 total time=   2.5s\n",
      "[CV 1/3] END activation=relu, hidden_layer_sizes=10, learning_rate_init=0.01;, score=0.767 total time=   1.1s\n",
      "[CV 2/3] END activation=relu, hidden_layer_sizes=5, learning_rate_init=0.01;, score=0.743 total time=   3.3s\n",
      "[CV 1/3] END activation=logistic, hidden_layer_sizes=10, learning_rate_init=0.001;, score=0.748 total time=   5.9s\n",
      "[CV 2/3] END activation=relu, hidden_layer_sizes=10, learning_rate_init=0.01;, score=0.757 total time=   1.2s\n",
      "[CV 3/3] END activation=relu, hidden_layer_sizes=10, learning_rate_init=0.01;, score=0.770 total time=   1.0s\n",
      "[CV 2/3] END activation=logistic, hidden_layer_sizes=10, learning_rate_init=0.001;, score=0.769 total time=   6.6s\n",
      "[CV 2/3] END activation=relu, hidden_layer_sizes=10, learning_rate_init=0.05;, score=0.753 total time=   1.0s\n",
      "[CV 3/3] END activation=logistic, hidden_layer_sizes=10, learning_rate_init=0.001;, score=0.771 total time=   6.7s\n",
      "[CV 1/3] END activation=relu, hidden_layer_sizes=10, learning_rate_init=0.1;, score=0.667 total time=   0.7s\n",
      "[CV 2/3] END activation=relu, hidden_layer_sizes=10, learning_rate_init=0.1;, score=0.667 total time=   0.7s\n",
      "[CV 3/3] END activation=relu, hidden_layer_sizes=10, learning_rate_init=0.1;, score=0.667 total time=   0.6s\n",
      "[CV 1/3] END activation=relu, hidden_layer_sizes=10, learning_rate_init=0.05;, score=0.667 total time=   1.9s\n",
      "[CV 3/3] END activation=relu, hidden_layer_sizes=10, learning_rate_init=0.05;, score=0.667 total time=   2.1s\n",
      "[CV 2/3] END activation=relu, hidden_layer_sizes=10, learning_rate_init=0.001;, score=0.762 total time=   4.1s\n",
      "[CV 1/3] END activation=relu, hidden_layer_sizes=5, learning_rate_init=0.001;, score=0.711 total time=   6.5s\n",
      "[CV 1/3] END activation=relu, hidden_layer_sizes=10, learning_rate_init=0.001;, score=0.700 total time=   4.2s\n",
      "[CV 3/3] END activation=relu, hidden_layer_sizes=10, learning_rate_init=0.001;, score=0.770 total time=   4.3s\n",
      "[CV 2/3] END activation=relu, hidden_layer_sizes=15, learning_rate_init=0.05;, score=0.000 total time=   0.9s\n",
      "[CV 1/3] END activation=relu, hidden_layer_sizes=15, learning_rate_init=0.05;, score=0.000 total time=   1.0s\n",
      "[CV 3/3] END activation=relu, hidden_layer_sizes=15, learning_rate_init=0.05;, score=0.000 total time=   0.9s\n"
     ]
    },
    {
     "name": "stderr",
     "output_type": "stream",
     "text": [
      "/root/.cache/pypoetry/virtualenvs/sin5007-lcGWJnmY-py3.11/lib/python3.11/site-packages/sklearn/neural_network/_multilayer_perceptron.py:690: ConvergenceWarning: Stochastic Optimizer: Maximum iterations (200) reached and the optimization hasn't converged yet.\n",
      "  warnings.warn(\n",
      "/root/.cache/pypoetry/virtualenvs/sin5007-lcGWJnmY-py3.11/lib/python3.11/site-packages/sklearn/neural_network/_multilayer_perceptron.py:690: ConvergenceWarning: Stochastic Optimizer: Maximum iterations (200) reached and the optimization hasn't converged yet.\n",
      "  warnings.warn(\n"
     ]
    },
    {
     "name": "stdout",
     "output_type": "stream",
     "text": [
      "[CV 3/3] END activation=relu, hidden_layer_sizes=5, learning_rate_init=0.001;, score=0.757 total time=   7.8s\n",
      "[CV 2/3] END activation=relu, hidden_layer_sizes=5, learning_rate_init=0.001;, score=0.751 total time=   8.0s\n",
      "[CV 2/3] END activation=relu, hidden_layer_sizes=15, learning_rate_init=0.1;, score=0.000 total time=   0.7s\n",
      "[CV 3/3] END activation=relu, hidden_layer_sizes=15, learning_rate_init=0.1;, score=0.000 total time=   0.7s\n",
      "[CV 1/3] END activation=relu, hidden_layer_sizes=15, learning_rate_init=0.1;, score=0.667 total time=   1.2s\n",
      "[CV 3/3] END activation=relu, hidden_layer_sizes=15, learning_rate_init=0.01;, score=0.740 total time=   4.7s\n",
      "[CV 1/3] END activation=relu, hidden_layer_sizes=15, learning_rate_init=0.001;, score=0.755 total time=   6.0s\n",
      "[CV 2/3] END activation=relu, hidden_layer_sizes=15, learning_rate_init=0.01;, score=0.758 total time=   5.6s\n",
      "[CV 1/3] END activation=relu, hidden_layer_sizes=15, learning_rate_init=0.01;, score=0.758 total time=   5.7s\n",
      "[CV 2/3] END activation=relu, hidden_layer_sizes=15, learning_rate_init=0.001;, score=0.715 total time=   6.4s\n",
      "[CV 3/3] END activation=relu, hidden_layer_sizes=15, learning_rate_init=0.001;, score=0.749 total time=   6.3s\n",
      "===> 2024-10-28 15:35:51.039490 | FINALIZADO FOLD 1 | TEMPO TOTAL 0:00:15.053275\n",
      "\n",
      "====> 2024-10-28 15:35:51.040238 | EXECUTANDO FOLD 2 \n",
      "Fitting 3 folds for each of 24 candidates, totalling 72 fits\n",
      "[CV 1/3] END activation=logistic, hidden_layer_sizes=5, learning_rate_init=0.01;, score=0.667 total time=   0.5s\n",
      "[CV 3/3] END activation=logistic, hidden_layer_sizes=5, learning_rate_init=0.01;, score=0.667 total time=   0.5s\n",
      "[CV 2/3] END activation=logistic, hidden_layer_sizes=5, learning_rate_init=0.01;, score=0.000 total time=   0.6s\n",
      "[CV 1/3] END activation=logistic, hidden_layer_sizes=5, learning_rate_init=0.001;, score=0.000 total time=   0.7s\n",
      "[CV 2/3] END activation=logistic, hidden_layer_sizes=5, learning_rate_init=0.001;, score=0.000 total time=   0.7s\n",
      "[CV 3/3] END activation=logistic, hidden_layer_sizes=5, learning_rate_init=0.001;, score=0.000 total time=   0.8s\n",
      "[CV 1/3] END activation=logistic, hidden_layer_sizes=5, learning_rate_init=0.1;, score=0.667 total time=   0.7s\n",
      "[CV 3/3] END activation=logistic, hidden_layer_sizes=5, learning_rate_init=0.05;, score=0.667 total time=   0.8s\n",
      "[CV 3/3] END activation=logistic, hidden_layer_sizes=5, learning_rate_init=0.1;, score=0.667 total time=   0.8s\n",
      "[CV 2/3] END activation=logistic, hidden_layer_sizes=5, learning_rate_init=0.1;, score=0.667 total time=   0.9s\n",
      "[CV 1/3] END activation=logistic, hidden_layer_sizes=5, learning_rate_init=0.05;, score=0.667 total time=   0.9s\n",
      "[CV 2/3] END activation=logistic, hidden_layer_sizes=5, learning_rate_init=0.05;, score=0.667 total time=   0.9s\n",
      "[CV 1/3] END activation=logistic, hidden_layer_sizes=10, learning_rate_init=0.01;, score=0.000 total time=   0.5s\n",
      "[CV 1/3] END activation=logistic, hidden_layer_sizes=10, learning_rate_init=0.05;, score=0.000 total time=   0.6s\n",
      "[CV 3/3] END activation=logistic, hidden_layer_sizes=10, learning_rate_init=0.05;, score=0.000 total time=   0.6s\n",
      "[CV 2/3] END activation=logistic, hidden_layer_sizes=10, learning_rate_init=0.05;, score=0.000 total time=   0.7s\n",
      "[CV 1/3] END activation=logistic, hidden_layer_sizes=10, learning_rate_init=0.1;, score=0.667 total time=   0.6s\n",
      "[CV 2/3] END activation=logistic, hidden_layer_sizes=10, learning_rate_init=0.1;, score=0.667 total time=   0.6s\n",
      "[CV 2/3] END activation=logistic, hidden_layer_sizes=10, learning_rate_init=0.01;, score=0.000 total time=   0.9s\n",
      "[CV 3/3] END activation=logistic, hidden_layer_sizes=10, learning_rate_init=0.01;, score=0.000 total time=   0.9s\n",
      "[CV 3/3] END activation=logistic, hidden_layer_sizes=10, learning_rate_init=0.1;, score=0.667 total time=   0.8s\n",
      "[CV 1/3] END activation=logistic, hidden_layer_sizes=15, learning_rate_init=0.001;, score=0.000 total time=   0.7s\n",
      "[CV 2/3] END activation=logistic, hidden_layer_sizes=15, learning_rate_init=0.001;, score=0.000 total time=   0.7s\n",
      "[CV 3/3] END activation=logistic, hidden_layer_sizes=15, learning_rate_init=0.001;, score=0.000 total time=   0.7s\n",
      "[CV 1/3] END activation=logistic, hidden_layer_sizes=15, learning_rate_init=0.01;, score=0.667 total time=   0.7s\n",
      "[CV 2/3] END activation=logistic, hidden_layer_sizes=15, learning_rate_init=0.01;, score=0.667 total time=   0.7s\n",
      "[CV 3/3] END activation=logistic, hidden_layer_sizes=15, learning_rate_init=0.01;, score=0.667 total time=   0.7s\n",
      "[CV 1/3] END activation=logistic, hidden_layer_sizes=15, learning_rate_init=0.05;, score=0.667 total time=   1.0s\n",
      "[CV 2/3] END activation=logistic, hidden_layer_sizes=15, learning_rate_init=0.05;, score=0.667 total time=   1.1s\n",
      "[CV 3/3] END activation=logistic, hidden_layer_sizes=15, learning_rate_init=0.1;, score=0.000 total time=   0.8s\n",
      "[CV 1/3] END activation=logistic, hidden_layer_sizes=15, learning_rate_init=0.1;, score=0.667 total time=   1.1s\n",
      "[CV 3/3] END activation=logistic, hidden_layer_sizes=15, learning_rate_init=0.05;, score=0.667 total time=   1.4s\n",
      "[CV 2/3] END activation=logistic, hidden_layer_sizes=15, learning_rate_init=0.1;, score=0.667 total time=   1.2s\n",
      "[CV 2/3] END activation=relu, hidden_layer_sizes=5, learning_rate_init=0.05;, score=0.667 total time=   0.8s\n",
      "[CV 1/3] END activation=relu, hidden_layer_sizes=5, learning_rate_init=0.05;, score=0.000 total time=   1.1s\n",
      "[CV 3/3] END activation=relu, hidden_layer_sizes=5, learning_rate_init=0.05;, score=0.000 total time=   1.1s\n",
      "[CV 1/3] END activation=relu, hidden_layer_sizes=5, learning_rate_init=0.1;, score=0.000 total time=   0.6s\n",
      "[CV 2/3] END activation=relu, hidden_layer_sizes=5, learning_rate_init=0.1;, score=0.000 total time=   0.5s\n",
      "[CV 1/3] END activation=relu, hidden_layer_sizes=5, learning_rate_init=0.01;, score=0.637 total time=   2.2s\n",
      "[CV 2/3] END activation=relu, hidden_layer_sizes=5, learning_rate_init=0.01;, score=0.674 total time=   2.2s\n",
      "[CV 3/3] END activation=relu, hidden_layer_sizes=5, learning_rate_init=0.1;, score=0.000 total time=   0.5s\n",
      "[CV 3/3] END activation=relu, hidden_layer_sizes=5, learning_rate_init=0.01;, score=0.731 total time=   2.1s\n",
      "[CV 2/3] END activation=logistic, hidden_layer_sizes=10, learning_rate_init=0.001;, score=0.767 total time=   4.7s\n",
      "[CV 2/3] END activation=relu, hidden_layer_sizes=10, learning_rate_init=0.01;, score=0.759 total time=   1.0s\n",
      "[CV 3/3] END activation=relu, hidden_layer_sizes=10, learning_rate_init=0.01;, score=0.764 total time=   0.9s\n",
      "[CV 1/3] END activation=relu, hidden_layer_sizes=10, learning_rate_init=0.01;, score=0.763 total time=   1.1s\n",
      "[CV 3/3] END activation=logistic, hidden_layer_sizes=10, learning_rate_init=0.001;, score=0.765 total time=   5.7s\n",
      "[CV 1/3] END activation=logistic, hidden_layer_sizes=10, learning_rate_init=0.001;, score=0.744 total time=   6.1s\n",
      "[CV 1/3] END activation=relu, hidden_layer_sizes=10, learning_rate_init=0.1;, score=0.667 total time=   0.5s\n",
      "[CV 1/3] END activation=relu, hidden_layer_sizes=10, learning_rate_init=0.05;, score=0.667 total time=   1.6s\n",
      "[CV 2/3] END activation=relu, hidden_layer_sizes=10, learning_rate_init=0.1;, score=0.667 total time=   0.6s\n",
      "[CV 2/3] END activation=relu, hidden_layer_sizes=10, learning_rate_init=0.001;, score=0.619 total time=   2.4s\n",
      "[CV 3/3] END activation=relu, hidden_layer_sizes=10, learning_rate_init=0.05;, score=0.667 total time=   1.2s\n",
      "[CV 3/3] END activation=relu, hidden_layer_sizes=10, learning_rate_init=0.1;, score=0.000 total time=   0.6s\n",
      "[CV 2/3] END activation=relu, hidden_layer_sizes=10, learning_rate_init=0.05;, score=0.667 total time=   1.5s\n",
      "[CV 1/3] END activation=relu, hidden_layer_sizes=15, learning_rate_init=0.05;, score=0.000 total time=   0.8s\n",
      "[CV 1/3] END activation=relu, hidden_layer_sizes=10, learning_rate_init=0.001;, score=0.694 total time=   4.1s\n",
      "[CV 1/3] END activation=relu, hidden_layer_sizes=5, learning_rate_init=0.001;, score=0.706 total time=   6.5s\n",
      "[CV 3/3] END activation=relu, hidden_layer_sizes=10, learning_rate_init=0.001;, score=0.771 total time=   3.9s\n",
      "[CV 2/3] END activation=relu, hidden_layer_sizes=15, learning_rate_init=0.01;, score=0.666 total time=   1.8s\n",
      "[CV 2/3] END activation=relu, hidden_layer_sizes=15, learning_rate_init=0.05;, score=0.000 total time=   0.8s\n",
      "[CV 3/3] END activation=relu, hidden_layer_sizes=15, learning_rate_init=0.05;, score=0.000 total time=   0.8s\n",
      "[CV 2/3] END activation=relu, hidden_layer_sizes=15, learning_rate_init=0.1;, score=0.000 total time=   0.7s\n",
      "[CV 3/3] END activation=relu, hidden_layer_sizes=15, learning_rate_init=0.01;, score=0.774 total time=   2.4s\n",
      "[CV 2/3] END activation=relu, hidden_layer_sizes=5, learning_rate_init=0.001;, score=0.750 total time=   7.3s\n",
      "[CV 3/3] END activation=relu, hidden_layer_sizes=15, learning_rate_init=0.1;, score=0.000 total time=   0.7s\n"
     ]
    },
    {
     "name": "stderr",
     "output_type": "stream",
     "text": [
      "/root/.cache/pypoetry/virtualenvs/sin5007-lcGWJnmY-py3.11/lib/python3.11/site-packages/sklearn/neural_network/_multilayer_perceptron.py:690: ConvergenceWarning: Stochastic Optimizer: Maximum iterations (200) reached and the optimization hasn't converged yet.\n",
      "  warnings.warn(\n"
     ]
    },
    {
     "name": "stdout",
     "output_type": "stream",
     "text": [
      "[CV 1/3] END activation=relu, hidden_layer_sizes=15, learning_rate_init=0.001;, score=0.754 total time=   3.2s\n",
      "[CV 1/3] END activation=relu, hidden_layer_sizes=15, learning_rate_init=0.1;, score=0.667 total time=   1.1s\n",
      "[CV 1/3] END activation=relu, hidden_layer_sizes=15, learning_rate_init=0.01;, score=0.756 total time=   2.9s\n",
      "[CV 3/3] END activation=relu, hidden_layer_sizes=5, learning_rate_init=0.001;, score=0.756 total time=   7.6s\n"
     ]
    },
    {
     "name": "stderr",
     "output_type": "stream",
     "text": [
      "/root/.cache/pypoetry/virtualenvs/sin5007-lcGWJnmY-py3.11/lib/python3.11/site-packages/sklearn/neural_network/_multilayer_perceptron.py:690: ConvergenceWarning: Stochastic Optimizer: Maximum iterations (200) reached and the optimization hasn't converged yet.\n",
      "  warnings.warn(\n"
     ]
    },
    {
     "name": "stdout",
     "output_type": "stream",
     "text": [
      "[CV 2/3] END activation=relu, hidden_layer_sizes=15, learning_rate_init=0.001;, score=0.736 total time=   3.8s\n",
      "[CV 3/3] END activation=relu, hidden_layer_sizes=15, learning_rate_init=0.001;, score=0.731 total time=   3.9s\n",
      "===> 2024-10-28 15:36:02.481657 | FINALIZADO FOLD 2 | TEMPO TOTAL 0:00:11.441419\n",
      "\n",
      "====> 2024-10-28 15:36:02.482423 | EXECUTANDO FOLD 3 \n",
      "Fitting 3 folds for each of 24 candidates, totalling 72 fits\n",
      "[CV 3/3] END activation=logistic, hidden_layer_sizes=5, learning_rate_init=0.01;, score=0.000 total time=   0.5s\n",
      "[CV 2/3] END activation=logistic, hidden_layer_sizes=5, learning_rate_init=0.05;, score=0.000 total time=   0.5s\n",
      "[CV 1/3] END activation=logistic, hidden_layer_sizes=5, learning_rate_init=0.05;, score=0.667 total time=   0.6s\n",
      "[CV 1/3] END activation=logistic, hidden_layer_sizes=5, learning_rate_init=0.001;, score=0.000 total time=   0.7s\n",
      "[CV 3/3] END activation=logistic, hidden_layer_sizes=5, learning_rate_init=0.05;, score=0.000 total time=   0.6s[CV 3/3] END activation=logistic, hidden_layer_sizes=5, learning_rate_init=0.001;, score=0.000 total time=   0.7s\n",
      "\n",
      "[CV 2/3] END activation=logistic, hidden_layer_sizes=5, learning_rate_init=0.001;, score=0.000 total time=   0.7s\n",
      "[CV 2/3] END activation=logistic, hidden_layer_sizes=5, learning_rate_init=0.01;, score=0.667 total time=   0.7s\n",
      "[CV 3/3] END activation=logistic, hidden_layer_sizes=5, learning_rate_init=0.1;, score=0.000 total time=   0.7s\n",
      "[CV 1/3] END activation=logistic, hidden_layer_sizes=5, learning_rate_init=0.01;, score=0.667 total time=   0.8s\n",
      "[CV 2/3] END activation=logistic, hidden_layer_sizes=5, learning_rate_init=0.1;, score=0.000 total time=   0.8s\n",
      "[CV 1/3] END activation=logistic, hidden_layer_sizes=5, learning_rate_init=0.1;, score=0.667 total time=   1.0s\n",
      "[CV 2/3] END activation=logistic, hidden_layer_sizes=10, learning_rate_init=0.05;, score=0.000 total time=   0.5s\n",
      "[CV 1/3] END activation=logistic, hidden_layer_sizes=10, learning_rate_init=0.05;, score=0.000 total time=   0.6s\n",
      "[CV 3/3] END activation=logistic, hidden_layer_sizes=10, learning_rate_init=0.05;, score=0.000 total time=   0.6s\n",
      "[CV 2/3] END activation=logistic, hidden_layer_sizes=10, learning_rate_init=0.1;, score=0.667 total time=   0.6s[CV 3/3] END activation=logistic, hidden_layer_sizes=10, learning_rate_init=0.01;, score=0.000 total time=   0.7s\n",
      "\n",
      "[CV 1/3] END activation=logistic, hidden_layer_sizes=10, learning_rate_init=0.01;, score=0.000 total time=   0.8s\n",
      "[CV 2/3] END activation=logistic, hidden_layer_sizes=10, learning_rate_init=0.01;, score=0.000 total time=   0.8s\n",
      "[CV 3/3] END activation=logistic, hidden_layer_sizes=10, learning_rate_init=0.1;, score=0.000 total time=   0.6s\n",
      "[CV 1/3] END activation=logistic, hidden_layer_sizes=10, learning_rate_init=0.1;, score=0.000 total time=   0.9s\n",
      "[CV 1/3] END activation=logistic, hidden_layer_sizes=15, learning_rate_init=0.001;, score=0.000 total time=   0.6s\n",
      "[CV 2/3] END activation=logistic, hidden_layer_sizes=15, learning_rate_init=0.001;, score=0.000 total time=   0.6s\n",
      "[CV 2/3] END activation=logistic, hidden_layer_sizes=15, learning_rate_init=0.01;, score=0.667 total time=   0.6s\n",
      "[CV 1/3] END activation=logistic, hidden_layer_sizes=15, learning_rate_init=0.01;, score=0.667 total time=   0.6s\n",
      "[CV 3/3] END activation=logistic, hidden_layer_sizes=15, learning_rate_init=0.001;, score=0.000 total time=   0.7s\n",
      "[CV 3/3] END activation=logistic, hidden_layer_sizes=15, learning_rate_init=0.01;, score=0.667 total time=   0.6s\n",
      "[CV 1/3] END activation=logistic, hidden_layer_sizes=15, learning_rate_init=0.05;, score=0.667 total time=   0.6s\n",
      "[CV 1/3] END activation=logistic, hidden_layer_sizes=15, learning_rate_init=0.1;, score=0.000 total time=   0.7s\n",
      "[CV 2/3] END activation=logistic, hidden_layer_sizes=15, learning_rate_init=0.1;, score=0.000 total time=   0.7s\n",
      "[CV 3/3] END activation=logistic, hidden_layer_sizes=15, learning_rate_init=0.1;, score=0.000 total time=   0.7s\n",
      "[CV 2/3] END activation=logistic, hidden_layer_sizes=15, learning_rate_init=0.05;, score=0.667 total time=   1.0s\n",
      "[CV 3/3] END activation=logistic, hidden_layer_sizes=15, learning_rate_init=0.05;, score=0.667 total time=   1.2s\n",
      "[CV 1/3] END activation=relu, hidden_layer_sizes=5, learning_rate_init=0.05;, score=0.000 total time=   1.0s\n",
      "[CV 2/3] END activation=relu, hidden_layer_sizes=5, learning_rate_init=0.05;, score=0.000 total time=   1.0s\n",
      "[CV 3/3] END activation=relu, hidden_layer_sizes=5, learning_rate_init=0.05;, score=0.667 total time=   0.8s\n",
      "[CV 1/3] END activation=relu, hidden_layer_sizes=5, learning_rate_init=0.01;, score=0.491 total time=   2.1s\n",
      "[CV 1/3] END activation=relu, hidden_layer_sizes=5, learning_rate_init=0.1;, score=0.000 total time=   0.5s\n",
      "[CV 2/3] END activation=relu, hidden_layer_sizes=5, learning_rate_init=0.1;, score=0.000 total time=   0.6s\n",
      "[CV 3/3] END activation=relu, hidden_layer_sizes=5, learning_rate_init=0.1;, score=0.000 total time=   0.6s\n",
      "[CV 2/3] END activation=relu, hidden_layer_sizes=5, learning_rate_init=0.01;, score=0.751 total time=   2.1s\n",
      "[CV 1/3] END activation=logistic, hidden_layer_sizes=10, learning_rate_init=0.001;, score=0.750 total time=   4.4s\n",
      "[CV 3/3] END activation=relu, hidden_layer_sizes=5, learning_rate_init=0.01;, score=0.724 total time=   2.3s\n",
      "[CV 3/3] END activation=logistic, hidden_layer_sizes=10, learning_rate_init=0.001;, score=0.765 total time=   4.7s\n",
      "[CV 1/3] END activation=relu, hidden_layer_sizes=10, learning_rate_init=0.01;, score=0.726 total time=   1.1s\n",
      "[CV 2/3] END activation=relu, hidden_layer_sizes=10, learning_rate_init=0.01;, score=0.707 total time=   0.8s\n",
      "[CV 2/3] END activation=logistic, hidden_layer_sizes=10, learning_rate_init=0.001;, score=0.766 total time=   5.2s\n",
      "[CV 3/3] END activation=relu, hidden_layer_sizes=10, learning_rate_init=0.01;, score=0.765 total time=   0.9s\n",
      "[CV 1/3] END activation=relu, hidden_layer_sizes=10, learning_rate_init=0.1;, score=0.667 total time=   0.5s\n",
      "[CV 3/3] END activation=relu, hidden_layer_sizes=10, learning_rate_init=0.1;, score=0.667 total time=   0.5s\n",
      "[CV 2/3] END activation=relu, hidden_layer_sizes=10, learning_rate_init=0.1;, score=0.667 total time=   0.6s\n",
      "[CV 1/3] END activation=relu, hidden_layer_sizes=10, learning_rate_init=0.05;, score=0.667 total time=   1.6s\n",
      "[CV 1/3] END activation=relu, hidden_layer_sizes=10, learning_rate_init=0.001;, score=0.756 total time=   2.5s\n",
      "[CV 2/3] END activation=relu, hidden_layer_sizes=10, learning_rate_init=0.05;, score=0.667 total time=   1.6s\n",
      "[CV 3/3] END activation=relu, hidden_layer_sizes=10, learning_rate_init=0.05;, score=0.000 total time=   1.5s\n",
      "[CV 1/3] END activation=relu, hidden_layer_sizes=5, learning_rate_init=0.001;, score=0.737 total time=   5.0s\n",
      "[CV 1/3] END activation=relu, hidden_layer_sizes=15, learning_rate_init=0.01;, score=0.748 total time=   1.3s\n",
      "[CV 2/3] END activation=relu, hidden_layer_sizes=15, learning_rate_init=0.05;, score=0.000 total time=   0.7s\n",
      "[CV 1/3] END activation=relu, hidden_layer_sizes=15, learning_rate_init=0.05;, score=0.000 total time=   1.1s\n",
      "[CV 1/3] END activation=relu, hidden_layer_sizes=15, learning_rate_init=0.1;, score=0.000 total time=   0.7s\n",
      "[CV 3/3] END activation=relu, hidden_layer_sizes=15, learning_rate_init=0.05;, score=0.000 total time=   0.7s\n",
      "[CV 2/3] END activation=relu, hidden_layer_sizes=15, learning_rate_init=0.1;, score=0.000 total time=   0.8s\n",
      "[CV 2/3] END activation=relu, hidden_layer_sizes=10, learning_rate_init=0.001;, score=0.762 total time=   4.6s\n"
     ]
    },
    {
     "name": "stderr",
     "output_type": "stream",
     "text": [
      "/root/.cache/pypoetry/virtualenvs/sin5007-lcGWJnmY-py3.11/lib/python3.11/site-packages/sklearn/neural_network/_multilayer_perceptron.py:690: ConvergenceWarning: Stochastic Optimizer: Maximum iterations (200) reached and the optimization hasn't converged yet.\n",
      "  warnings.warn(\n"
     ]
    },
    {
     "name": "stdout",
     "output_type": "stream",
     "text": [
      "[CV 3/3] END activation=relu, hidden_layer_sizes=5, learning_rate_init=0.001;, score=0.753 total time=   7.0s\n",
      "[CV 3/3] END activation=relu, hidden_layer_sizes=10, learning_rate_init=0.001;, score=0.757 total time=   4.8s\n"
     ]
    },
    {
     "name": "stderr",
     "output_type": "stream",
     "text": [
      "/root/.cache/pypoetry/virtualenvs/sin5007-lcGWJnmY-py3.11/lib/python3.11/site-packages/sklearn/neural_network/_multilayer_perceptron.py:690: ConvergenceWarning: Stochastic Optimizer: Maximum iterations (200) reached and the optimization hasn't converged yet.\n",
      "  warnings.warn(\n"
     ]
    },
    {
     "name": "stdout",
     "output_type": "stream",
     "text": [
      "[CV 2/3] END activation=relu, hidden_layer_sizes=5, learning_rate_init=0.001;, score=0.754 total time=   7.4s\n",
      "[CV 2/3] END activation=relu, hidden_layer_sizes=15, learning_rate_init=0.01;, score=0.755 total time=   2.8s\n",
      "[CV 3/3] END activation=relu, hidden_layer_sizes=15, learning_rate_init=0.1;, score=0.667 total time=   1.1s\n",
      "[CV 3/3] END activation=relu, hidden_layer_sizes=15, learning_rate_init=0.01;, score=0.724 total time=   2.7s\n",
      "[CV 1/3] END activation=relu, hidden_layer_sizes=15, learning_rate_init=0.001;, score=0.745 total time=   4.1s\n",
      "[CV 2/3] END activation=relu, hidden_layer_sizes=15, learning_rate_init=0.001;, score=0.737 total time=   3.9s\n",
      "[CV 3/3] END activation=relu, hidden_layer_sizes=15, learning_rate_init=0.001;, score=0.652 total time=   4.2s\n",
      "===> 2024-10-28 15:36:15.060728 | FINALIZADO FOLD 3 | TEMPO TOTAL 0:00:12.578305\n",
      "\n",
      "====> 2024-10-28 15:36:15.061468 | EXECUTANDO FOLD 4 \n",
      "Fitting 3 folds for each of 24 candidates, totalling 72 fits\n",
      "[CV 1/3] END activation=logistic, hidden_layer_sizes=5, learning_rate_init=0.01;, score=0.000 total time=   0.5s\n",
      "[CV 2/3] END activation=logistic, hidden_layer_sizes=5, learning_rate_init=0.05;, score=0.667 total time=   0.6s\n",
      "[CV 3/3] END activation=logistic, hidden_layer_sizes=5, learning_rate_init=0.05;, score=0.000 total time=   0.6s\n",
      "[CV 1/3] END activation=logistic, hidden_layer_sizes=5, learning_rate_init=0.001;, score=0.000 total time=   0.7s\n",
      "[CV 3/3] END activation=logistic, hidden_layer_sizes=5, learning_rate_init=0.1;, score=0.000 total time=   0.7s\n",
      "[CV 1/3] END activation=logistic, hidden_layer_sizes=5, learning_rate_init=0.1;, score=0.667 total time=   0.7s\n",
      "[CV 3/3] END activation=logistic, hidden_layer_sizes=5, learning_rate_init=0.01;, score=0.667 total time=   0.8s\n",
      "[CV 2/3] END activation=logistic, hidden_layer_sizes=5, learning_rate_init=0.001;, score=0.000 total time=   0.8s\n",
      "[CV 3/3] END activation=logistic, hidden_layer_sizes=5, learning_rate_init=0.001;, score=0.000 total time=   0.8s\n",
      "[CV 1/3] END activation=logistic, hidden_layer_sizes=5, learning_rate_init=0.05;, score=0.667 total time=   0.8s\n",
      "[CV 2/3] END activation=logistic, hidden_layer_sizes=5, learning_rate_init=0.01;, score=0.667 total time=   0.9s\n",
      "[CV 2/3] END activation=logistic, hidden_layer_sizes=5, learning_rate_init=0.1;, score=0.000 total time=   1.0s\n",
      "[CV 1/3] END activation=logistic, hidden_layer_sizes=10, learning_rate_init=0.05;, score=0.000 total time=   0.6s\n",
      "[CV 1/3] END activation=logistic, hidden_layer_sizes=10, learning_rate_init=0.1;, score=0.000 total time=   0.6s\n",
      "[CV 3/3] END activation=logistic, hidden_layer_sizes=10, learning_rate_init=0.05;, score=0.000 total time=   0.6s\n",
      "[CV 2/3] END activation=logistic, hidden_layer_sizes=10, learning_rate_init=0.05;, score=0.667 total time=   0.7s\n",
      "[CV 1/3] END activation=logistic, hidden_layer_sizes=10, learning_rate_init=0.01;, score=0.000 total time=   0.8s\n",
      "[CV 2/3] END activation=logistic, hidden_layer_sizes=10, learning_rate_init=0.01;, score=0.000 total time=   0.8s\n",
      "[CV 3/3] END activation=logistic, hidden_layer_sizes=10, learning_rate_init=0.01;, score=0.000 total time=   0.8s\n",
      "[CV 2/3] END activation=logistic, hidden_layer_sizes=10, learning_rate_init=0.1;, score=0.000 total time=   0.7s\n",
      "[CV 3/3] END activation=logistic, hidden_layer_sizes=10, learning_rate_init=0.1;, score=0.000 total time=   0.7s\n",
      "[CV 1/3] END activation=logistic, hidden_layer_sizes=15, learning_rate_init=0.001;, score=0.000 total time=   0.7s\n",
      "[CV 2/3] END activation=logistic, hidden_layer_sizes=15, learning_rate_init=0.001;, score=0.000 total time=   0.6s\n",
      "[CV 2/3] END activation=logistic, hidden_layer_sizes=15, learning_rate_init=0.01;, score=0.667 total time=   0.6s\n",
      "[CV 1/3] END activation=logistic, hidden_layer_sizes=15, learning_rate_init=0.01;, score=0.667 total time=   0.7s\n",
      "[CV 3/3] END activation=logistic, hidden_layer_sizes=15, learning_rate_init=0.01;, score=0.667 total time=   0.6s\n",
      "[CV 3/3] END activation=logistic, hidden_layer_sizes=15, learning_rate_init=0.001;, score=0.000 total time=   0.7s\n",
      "[CV 2/3] END activation=logistic, hidden_layer_sizes=15, learning_rate_init=0.05;, score=0.667 total time=   1.1s\n",
      "[CV 1/3] END activation=logistic, hidden_layer_sizes=15, learning_rate_init=0.05;, score=0.667 total time=   1.1s\n",
      "[CV 3/3] END activation=logistic, hidden_layer_sizes=15, learning_rate_init=0.1;, score=0.000 total time=   0.6s\n",
      "[CV 1/3] END activation=logistic, hidden_layer_sizes=15, learning_rate_init=0.1;, score=0.000 total time=   0.8s\n",
      "[CV 2/3] END activation=logistic, hidden_layer_sizes=15, learning_rate_init=0.1;, score=0.000 total time=   0.8s\n",
      "[CV 3/3] END activation=logistic, hidden_layer_sizes=15, learning_rate_init=0.05;, score=0.667 total time=   1.3s\n",
      "[CV 2/3] END activation=relu, hidden_layer_sizes=5, learning_rate_init=0.05;, score=0.000 total time=   1.0s\n",
      "[CV 1/3] END activation=relu, hidden_layer_sizes=5, learning_rate_init=0.05;, score=0.000 total time=   1.1s\n",
      "[CV 3/3] END activation=relu, hidden_layer_sizes=5, learning_rate_init=0.05;, score=0.000 total time=   1.1s\n",
      "[CV 1/3] END activation=relu, hidden_layer_sizes=5, learning_rate_init=0.1;, score=0.000 total time=   0.5s\n",
      "[CV 2/3] END activation=relu, hidden_layer_sizes=5, learning_rate_init=0.1;, score=0.000 total time=   0.5s\n",
      "[CV 2/3] END activation=logistic, hidden_layer_sizes=10, learning_rate_init=0.001;, score=0.764 total time=   4.0s\n",
      "[CV 3/3] END activation=relu, hidden_layer_sizes=5, learning_rate_init=0.1;, score=0.000 total time=   0.6s\n",
      "[CV 2/3] END activation=relu, hidden_layer_sizes=5, learning_rate_init=0.01;, score=0.600 total time=   2.0s\n",
      "[CV 3/3] END activation=relu, hidden_layer_sizes=5, learning_rate_init=0.01;, score=0.722 total time=   2.2s\n",
      "[CV 1/3] END activation=relu, hidden_layer_sizes=5, learning_rate_init=0.01;, score=0.497 total time=   2.5s\n",
      "[CV 1/3] END activation=logistic, hidden_layer_sizes=10, learning_rate_init=0.001;, score=0.752 total time=   4.8s\n",
      "[CV 3/3] END activation=logistic, hidden_layer_sizes=10, learning_rate_init=0.001;, score=0.763 total time=   4.8s\n",
      "[CV 2/3] END activation=relu, hidden_layer_sizes=10, learning_rate_init=0.01;, score=0.760 total time=   1.0s\n",
      "[CV 1/3] END activation=relu, hidden_layer_sizes=10, learning_rate_init=0.01;, score=0.732 total time=   1.2s\n",
      "[CV 3/3] END activation=relu, hidden_layer_sizes=10, learning_rate_init=0.01;, score=0.765 total time=   1.0s\n",
      "[CV 1/3] END activation=relu, hidden_layer_sizes=10, learning_rate_init=0.1;, score=0.667 total time=   0.5s\n",
      "[CV 3/3] END activation=relu, hidden_layer_sizes=10, learning_rate_init=0.1;, score=0.667 total time=   0.5s\n",
      "[CV 2/3] END activation=relu, hidden_layer_sizes=10, learning_rate_init=0.1;, score=0.667 total time=   0.7s\n",
      "[CV 2/3] END activation=relu, hidden_layer_sizes=10, learning_rate_init=0.05;, score=0.667 total time=   3.8s\n",
      "[CV 1/3] END activation=relu, hidden_layer_sizes=10, learning_rate_init=0.05;, score=0.667 total time=   4.1s\n",
      "[CV 1/3] END activation=relu, hidden_layer_sizes=10, learning_rate_init=0.001;, score=0.761 total time=   4.9s\n",
      "[CV 3/3] END activation=relu, hidden_layer_sizes=10, learning_rate_init=0.05;, score=0.667 total time=   4.0s\n",
      "[CV 2/3] END activation=relu, hidden_layer_sizes=10, learning_rate_init=0.001;, score=0.670 total time=   5.0s\n",
      "[CV 2/3] END activation=relu, hidden_layer_sizes=15, learning_rate_init=0.05;, score=0.000 total time=   0.8s\n",
      "[CV 1/3] END activation=relu, hidden_layer_sizes=15, learning_rate_init=0.05;, score=0.000 total time=   0.9s\n",
      "[CV 1/3] END activation=relu, hidden_layer_sizes=15, learning_rate_init=0.01;, score=0.748 total time=   1.3s\n",
      "[CV 2/3] END activation=relu, hidden_layer_sizes=15, learning_rate_init=0.01;, score=0.709 total time=   1.6s\n",
      "[CV 1/3] END activation=relu, hidden_layer_sizes=5, learning_rate_init=0.001;, score=0.738 total time=   8.7s\n",
      "[CV 3/3] END activation=relu, hidden_layer_sizes=10, learning_rate_init=0.001;, score=0.760 total time=   6.3s\n",
      "[CV 3/3] END activation=relu, hidden_layer_sizes=15, learning_rate_init=0.05;, score=0.000 total time=   0.8s\n",
      "[CV 1/3] END activation=relu, hidden_layer_sizes=15, learning_rate_init=0.1;, score=0.000 total time=   0.8s\n",
      "[CV 2/3] END activation=relu, hidden_layer_sizes=15, learning_rate_init=0.1;, score=0.000 total time=   0.7s\n"
     ]
    },
    {
     "name": "stderr",
     "output_type": "stream",
     "text": [
      "/root/.cache/pypoetry/virtualenvs/sin5007-lcGWJnmY-py3.11/lib/python3.11/site-packages/sklearn/neural_network/_multilayer_perceptron.py:690: ConvergenceWarning: Stochastic Optimizer: Maximum iterations (200) reached and the optimization hasn't converged yet.\n",
      "  warnings.warn(\n"
     ]
    },
    {
     "name": "stdout",
     "output_type": "stream",
     "text": [
      "[CV 2/3] END activation=relu, hidden_layer_sizes=5, learning_rate_init=0.001;, score=0.753 total time=   9.4s\n",
      "[CV 3/3] END activation=relu, hidden_layer_sizes=15, learning_rate_init=0.01;, score=0.768 total time=   2.4s\n",
      "[CV 2/3] END activation=relu, hidden_layer_sizes=15, learning_rate_init=0.001;, score=0.767 total time=   5.4s\n",
      "[CV 3/3] END activation=relu, hidden_layer_sizes=15, learning_rate_init=0.1;, score=0.667 total time=   1.1s\n"
     ]
    },
    {
     "name": "stderr",
     "output_type": "stream",
     "text": [
      "/root/.cache/pypoetry/virtualenvs/sin5007-lcGWJnmY-py3.11/lib/python3.11/site-packages/sklearn/neural_network/_multilayer_perceptron.py:690: ConvergenceWarning: Stochastic Optimizer: Maximum iterations (200) reached and the optimization hasn't converged yet.\n",
      "  warnings.warn(\n"
     ]
    },
    {
     "name": "stdout",
     "output_type": "stream",
     "text": [
      "[CV 3/3] END activation=relu, hidden_layer_sizes=5, learning_rate_init=0.001;, score=0.758 total time=   9.9s\n",
      "[CV 3/3] END activation=relu, hidden_layer_sizes=15, learning_rate_init=0.001;, score=0.764 total time=   5.7s\n",
      "[CV 1/3] END activation=relu, hidden_layer_sizes=15, learning_rate_init=0.001;, score=0.744 total time=   6.3s\n",
      "===> 2024-10-28 15:36:29.770034 | FINALIZADO FOLD 4 | TEMPO TOTAL 0:00:14.708566\n",
      "\n",
      "====> 2024-10-28 15:36:29.770784 | EXECUTANDO FOLD 5 \n",
      "Fitting 3 folds for each of 24 candidates, totalling 72 fits\n",
      "[CV 3/3] END activation=logistic, hidden_layer_sizes=5, learning_rate_init=0.01;, score=0.000 total time=   0.5s\n",
      "[CV 1/3] END activation=logistic, hidden_layer_sizes=5, learning_rate_init=0.05;, score=0.000 total time=   0.7s\n",
      "[CV 3/3] END activation=logistic, hidden_layer_sizes=5, learning_rate_init=0.05;, score=0.667 total time=   0.6s\n",
      "[CV 2/3] END activation=logistic, hidden_layer_sizes=5, learning_rate_init=0.001;, score=0.000 total time=   0.7s\n",
      "[CV 2/3] END activation=logistic, hidden_layer_sizes=5, learning_rate_init=0.1;, score=0.000 total time=   0.7s\n",
      "[CV 1/3] END activation=logistic, hidden_layer_sizes=5, learning_rate_init=0.1;, score=0.667 total time=   0.7s\n",
      "[CV 1/3] END activation=logistic, hidden_layer_sizes=5, learning_rate_init=0.001;, score=0.000 total time=   0.8s\n",
      "[CV 1/3] END activation=logistic, hidden_layer_sizes=5, learning_rate_init=0.01;, score=0.667 total time=   0.8s\n",
      "[CV 2/3] END activation=logistic, hidden_layer_sizes=5, learning_rate_init=0.01;, score=0.000 total time=   0.9s\n",
      "[CV 2/3] END activation=logistic, hidden_layer_sizes=5, learning_rate_init=0.05;, score=0.000 total time=   1.0s\n",
      "[CV 3/3] END activation=logistic, hidden_layer_sizes=5, learning_rate_init=0.1;, score=0.667 total time=   1.0s\n",
      "[CV 2/3] END activation=logistic, hidden_layer_sizes=10, learning_rate_init=0.01;, score=0.667 total time=   0.6s\n",
      "[CV 1/3] END activation=logistic, hidden_layer_sizes=10, learning_rate_init=0.05;, score=0.000 total time=   0.6s\n",
      "[CV 1/3] END activation=logistic, hidden_layer_sizes=10, learning_rate_init=0.01;, score=0.667 total time=   0.7s\n",
      "[CV 1/3] END activation=logistic, hidden_layer_sizes=10, learning_rate_init=0.1;, score=0.667 total time=   0.6s\n",
      "[CV 3/3] END activation=logistic, hidden_layer_sizes=10, learning_rate_init=0.01;, score=0.000 total time=   0.9s\n",
      "[CV 2/3] END activation=logistic, hidden_layer_sizes=10, learning_rate_init=0.05;, score=0.000 total time=   1.0s\n",
      "[CV 3/3] END activation=logistic, hidden_layer_sizes=10, learning_rate_init=0.05;, score=0.667 total time=   0.8s\n",
      "[CV 3/3] END activation=logistic, hidden_layer_sizes=10, learning_rate_init=0.1;, score=0.667 total time=   0.6s\n",
      "[CV 1/3] END activation=logistic, hidden_layer_sizes=15, learning_rate_init=0.001;, score=0.000 total time=   0.7s\n",
      "[CV 2/3] END activation=logistic, hidden_layer_sizes=10, learning_rate_init=0.1;, score=0.000 total time=   1.0s\n",
      "[CV 2/3] END activation=logistic, hidden_layer_sizes=15, learning_rate_init=0.001;, score=0.000 total time=   0.8s\n",
      "[CV 3/3] END activation=logistic, hidden_layer_sizes=15, learning_rate_init=0.001;, score=0.000 total time=   0.6s\n",
      "[CV 1/3] END activation=logistic, hidden_layer_sizes=15, learning_rate_init=0.01;, score=0.000 total time=   0.7s\n",
      "[CV 2/3] END activation=logistic, hidden_layer_sizes=15, learning_rate_init=0.01;, score=0.667 total time=   0.7s\n",
      "[CV 3/3] END activation=logistic, hidden_layer_sizes=15, learning_rate_init=0.01;, score=0.667 total time=   0.7s\n",
      "[CV 3/3] END activation=logistic, hidden_layer_sizes=15, learning_rate_init=0.05;, score=0.000 total time=   0.7s\n",
      "[CV 1/3] END activation=logistic, hidden_layer_sizes=15, learning_rate_init=0.1;, score=0.000 total time=   0.7s\n",
      "[CV 1/3] END activation=logistic, hidden_layer_sizes=15, learning_rate_init=0.05;, score=0.667 total time=   1.4s\n",
      "[CV 3/3] END activation=logistic, hidden_layer_sizes=15, learning_rate_init=0.1;, score=0.000 total time=   1.0s\n",
      "[CV 2/3] END activation=logistic, hidden_layer_sizes=15, learning_rate_init=0.1;, score=0.667 total time=   1.2s\n",
      "[CV 2/3] END activation=logistic, hidden_layer_sizes=15, learning_rate_init=0.05;, score=0.667 total time=   1.7s\n",
      "[CV 1/3] END activation=relu, hidden_layer_sizes=5, learning_rate_init=0.05;, score=0.000 total time=   1.1s\n",
      "[CV 2/3] END activation=relu, hidden_layer_sizes=5, learning_rate_init=0.05;, score=0.000 total time=   0.9s\n",
      "[CV 1/3] END activation=relu, hidden_layer_sizes=5, learning_rate_init=0.1;, score=0.000 total time=   0.6s\n",
      "[CV 1/3] END activation=relu, hidden_layer_sizes=5, learning_rate_init=0.01;, score=0.545 total time=   2.4s\n",
      "[CV 3/3] END activation=relu, hidden_layer_sizes=5, learning_rate_init=0.05;, score=0.667 total time=   0.9s\n",
      "[CV 2/3] END activation=logistic, hidden_layer_sizes=10, learning_rate_init=0.001;, score=0.757 total time=   5.0s\n",
      "[CV 2/3] END activation=relu, hidden_layer_sizes=5, learning_rate_init=0.01;, score=0.754 total time=   2.4s\n",
      "[CV 2/3] END activation=relu, hidden_layer_sizes=5, learning_rate_init=0.1;, score=0.000 total time=   0.9s\n",
      "[CV 3/3] END activation=logistic, hidden_layer_sizes=10, learning_rate_init=0.001;, score=0.760 total time=   5.6s\n",
      "[CV 3/3] END activation=relu, hidden_layer_sizes=5, learning_rate_init=0.1;, score=0.000 total time=   1.0s\n",
      "[CV 1/3] END activation=logistic, hidden_layer_sizes=10, learning_rate_init=0.001;, score=0.745 total time=   6.0s\n",
      "[CV 3/3] END activation=relu, hidden_layer_sizes=5, learning_rate_init=0.01;, score=0.604 total time=   3.2s\n",
      "[CV 3/3] END activation=logistic, hidden_layer_sizes=5, learning_rate_init=0.001;, score=0.772 total time=   6.8s\n",
      "[CV 1/3] END activation=relu, hidden_layer_sizes=10, learning_rate_init=0.01;, score=0.728 total time=   1.0s\n",
      "[CV 2/3] END activation=relu, hidden_layer_sizes=10, learning_rate_init=0.01;, score=0.739 total time=   0.9s\n",
      "[CV 3/3] END activation=relu, hidden_layer_sizes=10, learning_rate_init=0.01;, score=0.764 total time=   0.9s\n",
      "[CV 1/3] END activation=relu, hidden_layer_sizes=10, learning_rate_init=0.1;, score=0.667 total time=   0.5s\n",
      "[CV 2/3] END activation=relu, hidden_layer_sizes=10, learning_rate_init=0.1;, score=0.667 total time=   0.5s\n",
      "[CV 1/3] END activation=relu, hidden_layer_sizes=10, learning_rate_init=0.05;, score=0.667 total time=   1.3s\n",
      "[CV 3/3] END activation=relu, hidden_layer_sizes=10, learning_rate_init=0.05;, score=0.667 total time=   1.1s\n",
      "[CV 3/3] END activation=relu, hidden_layer_sizes=10, learning_rate_init=0.1;, score=0.667 total time=   0.6s\n",
      "[CV 1/3] END activation=relu, hidden_layer_sizes=10, learning_rate_init=0.001;, score=0.695 total time=   2.5s\n",
      "[CV 3/3] END activation=relu, hidden_layer_sizes=5, learning_rate_init=0.001;, score=0.771 total time=   5.3s\n",
      "[CV 3/3] END activation=relu, hidden_layer_sizes=10, learning_rate_init=0.001;, score=0.702 total time=   2.5s\n",
      "[CV 2/3] END activation=relu, hidden_layer_sizes=10, learning_rate_init=0.05;, score=0.000 total time=   1.6s\n",
      "[CV 1/3] END activation=relu, hidden_layer_sizes=15, learning_rate_init=0.05;, score=0.000 total time=   0.8s\n",
      "[CV 2/3] END activation=relu, hidden_layer_sizes=15, learning_rate_init=0.05;, score=0.667 total time=   1.0s\n",
      "[CV 3/3] END activation=relu, hidden_layer_sizes=15, learning_rate_init=0.05;, score=0.667 total time=   1.1s\n",
      "[CV 1/3] END activation=relu, hidden_layer_sizes=15, learning_rate_init=0.01;, score=0.757 total time=   1.8s\n",
      "[CV 1/3] END activation=relu, hidden_layer_sizes=15, learning_rate_init=0.1;, score=0.000 total time=   0.9s\n",
      "[CV 2/3] END activation=relu, hidden_layer_sizes=5, learning_rate_init=0.001;, score=0.746 total time=   7.3s\n"
     ]
    },
    {
     "name": "stderr",
     "output_type": "stream",
     "text": [
      "/root/.cache/pypoetry/virtualenvs/sin5007-lcGWJnmY-py3.11/lib/python3.11/site-packages/sklearn/neural_network/_multilayer_perceptron.py:690: ConvergenceWarning: Stochastic Optimizer: Maximum iterations (200) reached and the optimization hasn't converged yet.\n",
      "  warnings.warn(\n"
     ]
    },
    {
     "name": "stdout",
     "output_type": "stream",
     "text": [
      "[CV 2/3] END activation=relu, hidden_layer_sizes=15, learning_rate_init=0.1;, score=0.000 total time=   0.7s\n",
      "[CV 2/3] END activation=relu, hidden_layer_sizes=10, learning_rate_init=0.001;, score=0.757 total time=   4.3s\n",
      "[CV 1/3] END activation=relu, hidden_layer_sizes=5, learning_rate_init=0.001;, score=0.751 total time=   7.5s\n"
     ]
    },
    {
     "name": "stderr",
     "output_type": "stream",
     "text": [
      "/root/.cache/pypoetry/virtualenvs/sin5007-lcGWJnmY-py3.11/lib/python3.11/site-packages/sklearn/neural_network/_multilayer_perceptron.py:690: ConvergenceWarning: Stochastic Optimizer: Maximum iterations (200) reached and the optimization hasn't converged yet.\n",
      "  warnings.warn(\n"
     ]
    },
    {
     "name": "stdout",
     "output_type": "stream",
     "text": [
      "[CV 3/3] END activation=relu, hidden_layer_sizes=15, learning_rate_init=0.1;, score=0.000 total time=   0.8s\n",
      "[CV 3/3] END activation=relu, hidden_layer_sizes=15, learning_rate_init=0.01;, score=0.759 total time=   2.4s\n",
      "[CV 2/3] END activation=relu, hidden_layer_sizes=15, learning_rate_init=0.01;, score=0.748 total time=   2.5s\n",
      "[CV 2/3] END activation=relu, hidden_layer_sizes=15, learning_rate_init=0.001;, score=0.757 total time=   3.3s\n",
      "[CV 3/3] END activation=relu, hidden_layer_sizes=15, learning_rate_init=0.001;, score=0.764 total time=   4.5s\n",
      "[CV 1/3] END activation=relu, hidden_layer_sizes=15, learning_rate_init=0.001;, score=0.764 total time=   4.8s\n",
      "===> 2024-10-28 15:36:45.074299 | FINALIZADO FOLD 5 | TEMPO TOTAL 0:00:15.303515\n",
      "\n",
      "====> 2024-10-28 15:36:45.075006 | EXECUTANDO FOLD 6 \n",
      "Fitting 3 folds for each of 24 candidates, totalling 72 fits\n",
      "[CV 1/3] END activation=logistic, hidden_layer_sizes=5, learning_rate_init=0.01;, score=0.667 total time=   0.5s\n",
      "[CV 1/3] END activation=logistic, hidden_layer_sizes=5, learning_rate_init=0.05;, score=0.667 total time=   0.5s\n",
      "[CV 2/3] END activation=logistic, hidden_layer_sizes=5, learning_rate_init=0.1;, score=0.000 total time=   0.6s\n",
      "[CV 3/3] END activation=logistic, hidden_layer_sizes=5, learning_rate_init=0.05;, score=0.000 total time=   0.6s\n",
      "[CV 1/3] END activation=logistic, hidden_layer_sizes=5, learning_rate_init=0.001;, score=0.000 total time=   0.7s\n",
      "[CV 2/3] END activation=logistic, hidden_layer_sizes=5, learning_rate_init=0.001;, score=0.000 total time=   0.7s\n",
      "[CV 3/3] END activation=logistic, hidden_layer_sizes=5, learning_rate_init=0.001;, score=0.000 total time=   0.8s\n",
      "[CV 2/3] END activation=logistic, hidden_layer_sizes=5, learning_rate_init=0.05;, score=0.000 total time=   0.9s\n",
      "[CV 2/3] END activation=logistic, hidden_layer_sizes=5, learning_rate_init=0.01;, score=0.000 total time=   0.9s\n",
      "[CV 3/3] END activation=logistic, hidden_layer_sizes=5, learning_rate_init=0.01;, score=0.000 total time=   0.9s\n",
      "[CV 3/3] END activation=logistic, hidden_layer_sizes=5, learning_rate_init=0.1;, score=0.667 total time=   1.0s\n",
      "[CV 1/3] END activation=logistic, hidden_layer_sizes=5, learning_rate_init=0.1;, score=0.000 total time=   1.1s\n",
      "[CV 3/3] END activation=logistic, hidden_layer_sizes=10, learning_rate_init=0.01;, score=0.667 total time=   0.5s\n",
      "[CV 2/3] END activation=logistic, hidden_layer_sizes=10, learning_rate_init=0.01;, score=0.667 total time=   0.5s\n",
      "[CV 1/3] END activation=logistic, hidden_layer_sizes=10, learning_rate_init=0.05;, score=0.000 total time=   0.6s\n",
      "[CV 1/3] END activation=logistic, hidden_layer_sizes=10, learning_rate_init=0.01;, score=0.000 total time=   0.8s\n",
      "[CV 3/3] END activation=logistic, hidden_layer_sizes=10, learning_rate_init=0.05;, score=0.000 total time=   0.6s\n",
      "[CV 1/3] END activation=logistic, hidden_layer_sizes=10, learning_rate_init=0.1;, score=0.667 total time=   0.7s\n",
      "[CV 3/3] END activation=logistic, hidden_layer_sizes=10, learning_rate_init=0.1;, score=0.667 total time=   0.6s\n",
      "[CV 2/3] END activation=logistic, hidden_layer_sizes=10, learning_rate_init=0.05;, score=0.000 total time=   0.9s\n",
      "[CV 2/3] END activation=logistic, hidden_layer_sizes=15, learning_rate_init=0.001;, score=0.000 total time=   0.7s\n",
      "[CV 2/3] END activation=logistic, hidden_layer_sizes=10, learning_rate_init=0.1;, score=0.000 total time=   0.9s\n",
      "[CV 1/3] END activation=logistic, hidden_layer_sizes=15, learning_rate_init=0.001;, score=0.000 total time=   0.7s\n",
      "[CV 3/3] END activation=logistic, hidden_layer_sizes=15, learning_rate_init=0.001;, score=0.000 total time=   0.7s\n",
      "[CV 1/3] END activation=logistic, hidden_layer_sizes=15, learning_rate_init=0.01;, score=0.667 total time=   0.6s\n",
      "[CV 3/3] END activation=logistic, hidden_layer_sizes=15, learning_rate_init=0.01;, score=0.000 total time=   0.6s\n",
      "[CV 2/3] END activation=logistic, hidden_layer_sizes=15, learning_rate_init=0.01;, score=0.667 total time=   0.7s\n",
      "[CV 1/3] END activation=logistic, hidden_layer_sizes=15, learning_rate_init=0.1;, score=0.000 total time=   0.6s\n",
      "[CV 1/3] END activation=logistic, hidden_layer_sizes=15, learning_rate_init=0.05;, score=0.667 total time=   0.9s\n",
      "[CV 2/3] END activation=logistic, hidden_layer_sizes=15, learning_rate_init=0.1;, score=0.667 total time=   1.3s\n",
      "[CV 3/3] END activation=logistic, hidden_layer_sizes=15, learning_rate_init=0.1;, score=0.000 total time=   1.3s\n",
      "[CV 2/3] END activation=logistic, hidden_layer_sizes=15, learning_rate_init=0.05;, score=0.667 total time=   1.7s\n",
      "[CV 3/3] END activation=logistic, hidden_layer_sizes=15, learning_rate_init=0.05;, score=0.667 total time=   1.8s\n",
      "[CV 2/3] END activation=relu, hidden_layer_sizes=5, learning_rate_init=0.05;, score=0.000 total time=   0.8s\n",
      "[CV 3/3] END activation=relu, hidden_layer_sizes=5, learning_rate_init=0.05;, score=0.000 total time=   0.8s\n",
      "[CV 1/3] END activation=relu, hidden_layer_sizes=5, learning_rate_init=0.05;, score=0.667 total time=   1.3s\n",
      "[CV 1/3] END activation=relu, hidden_layer_sizes=5, learning_rate_init=0.1;, score=0.000 total time=   0.5s\n",
      "[CV 2/3] END activation=relu, hidden_layer_sizes=5, learning_rate_init=0.01;, score=0.765 total time=   2.3s\n",
      "[CV 2/3] END activation=logistic, hidden_layer_sizes=10, learning_rate_init=0.001;, score=0.768 total time=   4.8s\n",
      "[CV 2/3] END activation=relu, hidden_layer_sizes=5, learning_rate_init=0.1;, score=0.000 total time=   0.9s\n",
      "[CV 1/3] END activation=relu, hidden_layer_sizes=5, learning_rate_init=0.01;, score=0.731 total time=   3.0s\n",
      "[CV 3/3] END activation=relu, hidden_layer_sizes=5, learning_rate_init=0.1;, score=0.000 total time=   1.0s\n",
      "[CV 3/3] END activation=relu, hidden_layer_sizes=5, learning_rate_init=0.01;, score=0.756 total time=   2.6s\n",
      "[CV 3/3] END activation=logistic, hidden_layer_sizes=10, learning_rate_init=0.001;, score=0.753 total time=   5.3s\n",
      "[CV 2/3] END activation=relu, hidden_layer_sizes=10, learning_rate_init=0.01;, score=0.744 total time=   0.9s\n",
      "[CV 1/3] END activation=relu, hidden_layer_sizes=10, learning_rate_init=0.01;, score=0.745 total time=   1.1s\n",
      "[CV 3/3] END activation=relu, hidden_layer_sizes=10, learning_rate_init=0.01;, score=0.760 total time=   1.0s\n",
      "[CV 1/3] END activation=relu, hidden_layer_sizes=10, learning_rate_init=0.05;, score=0.000 total time=   1.1s\n",
      "[CV 1/3] END activation=relu, hidden_layer_sizes=10, learning_rate_init=0.1;, score=0.667 total time=   0.6s\n",
      "[CV 2/3] END activation=relu, hidden_layer_sizes=10, learning_rate_init=0.1;, score=0.667 total time=   0.5s\n",
      "[CV 2/3] END activation=relu, hidden_layer_sizes=10, learning_rate_init=0.05;, score=0.000 total time=   1.4s\n",
      "[CV 1/3] END activation=logistic, hidden_layer_sizes=10, learning_rate_init=0.001;, score=0.750 total time=   6.8s\n",
      "[CV 1/3] END activation=relu, hidden_layer_sizes=10, learning_rate_init=0.001;, score=0.682 total time=   2.5s\n",
      "[CV 3/3] END activation=relu, hidden_layer_sizes=10, learning_rate_init=0.001;, score=0.711 total time=   2.1s\n",
      "[CV 3/3] END activation=relu, hidden_layer_sizes=10, learning_rate_init=0.1;, score=0.667 total time=   0.6s\n",
      "[CV 3/3] END activation=relu, hidden_layer_sizes=10, learning_rate_init=0.05;, score=0.667 total time=   1.1s\n",
      "[CV 1/3] END activation=relu, hidden_layer_sizes=15, learning_rate_init=0.05;, score=0.000 total time=   0.9s\n",
      "[CV 2/3] END activation=relu, hidden_layer_sizes=15, learning_rate_init=0.05;, score=0.667 total time=   0.9s\n",
      "[CV 2/3] END activation=relu, hidden_layer_sizes=10, learning_rate_init=0.001;, score=0.766 total time=   4.1s\n",
      "[CV 1/3] END activation=relu, hidden_layer_sizes=15, learning_rate_init=0.1;, score=0.000 total time=   0.8s\n",
      "[CV 3/3] END activation=relu, hidden_layer_sizes=15, learning_rate_init=0.05;, score=0.667 total time=   1.0s\n"
     ]
    },
    {
     "name": "stderr",
     "output_type": "stream",
     "text": [
      "/root/.cache/pypoetry/virtualenvs/sin5007-lcGWJnmY-py3.11/lib/python3.11/site-packages/sklearn/neural_network/_multilayer_perceptron.py:690: ConvergenceWarning: Stochastic Optimizer: Maximum iterations (200) reached and the optimization hasn't converged yet.\n",
      "  warnings.warn(\n",
      "/root/.cache/pypoetry/virtualenvs/sin5007-lcGWJnmY-py3.11/lib/python3.11/site-packages/sklearn/neural_network/_multilayer_perceptron.py:690: ConvergenceWarning: Stochastic Optimizer: Maximum iterations (200) reached and the optimization hasn't converged yet.\n",
      "  warnings.warn(\n"
     ]
    },
    {
     "name": "stdout",
     "output_type": "stream",
     "text": [
      "[CV 2/3] END activation=relu, hidden_layer_sizes=15, learning_rate_init=0.1;, score=0.000 total time=   0.6s\n",
      "[CV 2/3] END activation=relu, hidden_layer_sizes=5, learning_rate_init=0.001;, score=0.752 total time=   7.5s\n",
      "[CV 3/3] END activation=relu, hidden_layer_sizes=5, learning_rate_init=0.001;, score=0.757 total time=   7.5s\n",
      "[CV 2/3] END activation=relu, hidden_layer_sizes=15, learning_rate_init=0.01;, score=0.755 total time=   2.5s\n",
      "[CV 3/3] END activation=relu, hidden_layer_sizes=15, learning_rate_init=0.01;, score=0.766 total time=   2.5s\n",
      "[CV 3/3] END activation=relu, hidden_layer_sizes=15, learning_rate_init=0.1;, score=0.000 total time=   0.7s\n",
      "[CV 1/3] END activation=relu, hidden_layer_sizes=5, learning_rate_init=0.001;, score=0.751 total time=   7.9s\n"
     ]
    },
    {
     "name": "stderr",
     "output_type": "stream",
     "text": [
      "/root/.cache/pypoetry/virtualenvs/sin5007-lcGWJnmY-py3.11/lib/python3.11/site-packages/sklearn/neural_network/_multilayer_perceptron.py:690: ConvergenceWarning: Stochastic Optimizer: Maximum iterations (200) reached and the optimization hasn't converged yet.\n",
      "  warnings.warn(\n"
     ]
    },
    {
     "name": "stdout",
     "output_type": "stream",
     "text": [
      "[CV 1/3] END activation=relu, hidden_layer_sizes=15, learning_rate_init=0.001;, score=0.757 total time=   3.1s\n",
      "[CV 1/3] END activation=relu, hidden_layer_sizes=15, learning_rate_init=0.01;, score=0.753 total time=   3.0s\n",
      "[CV 2/3] END activation=relu, hidden_layer_sizes=15, learning_rate_init=0.001;, score=0.767 total time=   3.7s\n",
      "[CV 3/3] END activation=relu, hidden_layer_sizes=15, learning_rate_init=0.001;, score=0.764 total time=   6.4s\n",
      "===> 2024-10-28 15:37:01.646423 | FINALIZADO FOLD 6 | TEMPO TOTAL 0:00:16.571417\n",
      "\n",
      "====> 2024-10-28 15:37:01.647139 | EXECUTANDO FOLD 7 \n",
      "Fitting 3 folds for each of 24 candidates, totalling 72 fits\n",
      "[CV 2/3] END activation=logistic, hidden_layer_sizes=5, learning_rate_init=0.001;, score=0.000 total time=   0.7s\n",
      "[CV 1/3] END activation=logistic, hidden_layer_sizes=5, learning_rate_init=0.001;, score=0.000 total time=   0.7s\n",
      "[CV 1/3] END activation=logistic, hidden_layer_sizes=5, learning_rate_init=0.05;, score=0.000 total time=   0.7s\n",
      "[CV 3/3] END activation=logistic, hidden_layer_sizes=5, learning_rate_init=0.001;, score=0.000 total time=   0.8s\n",
      "[CV 1/3] END activation=logistic, hidden_layer_sizes=5, learning_rate_init=0.01;, score=0.667 total time=   0.8s\n",
      "[CV 1/3] END activation=logistic, hidden_layer_sizes=5, learning_rate_init=0.1;, score=0.667 total time=   0.8s\n",
      "[CV 3/3] END activation=logistic, hidden_layer_sizes=5, learning_rate_init=0.01;, score=0.000 total time=   0.9s\n",
      "[CV 2/3] END activation=logistic, hidden_layer_sizes=5, learning_rate_init=0.01;, score=0.000 total time=   0.9s\n",
      "[CV 3/3] END activation=logistic, hidden_layer_sizes=5, learning_rate_init=0.05;, score=0.000 total time=   0.9s\n",
      "[CV 3/3] END activation=logistic, hidden_layer_sizes=5, learning_rate_init=0.1;, score=0.667 total time=   0.9s\n",
      "[CV 2/3] END activation=logistic, hidden_layer_sizes=5, learning_rate_init=0.05;, score=0.000 total time=   1.0s\n",
      "[CV 2/3] END activation=logistic, hidden_layer_sizes=5, learning_rate_init=0.1;, score=0.000 total time=   1.0s\n",
      "[CV 2/3] END activation=logistic, hidden_layer_sizes=10, learning_rate_init=0.01;, score=0.667 total time=   0.5s\n",
      "[CV 3/3] END activation=logistic, hidden_layer_sizes=10, learning_rate_init=0.01;, score=0.667 total time=   0.5s\n",
      "[CV 1/3] END activation=logistic, hidden_layer_sizes=10, learning_rate_init=0.05;, score=0.000 total time=   0.5s\n",
      "[CV 3/3] END activation=logistic, hidden_layer_sizes=10, learning_rate_init=0.1;, score=0.667 total time=   0.5s\n",
      "[CV 1/3] END activation=logistic, hidden_layer_sizes=10, learning_rate_init=0.01;, score=0.000 total time=   0.9s\n",
      "[CV 1/3] END activation=logistic, hidden_layer_sizes=10, learning_rate_init=0.1;, score=0.667 total time=   0.7s\n",
      "[CV 2/3] END activation=logistic, hidden_layer_sizes=10, learning_rate_init=0.05;, score=0.000 total time=   0.9s\n",
      "[CV 2/3] END activation=logistic, hidden_layer_sizes=10, learning_rate_init=0.1;, score=0.667 total time=   0.9s\n",
      "[CV 3/3] END activation=logistic, hidden_layer_sizes=10, learning_rate_init=0.05;, score=0.000 total time=   1.0s\n",
      "[CV 1/3] END activation=logistic, hidden_layer_sizes=15, learning_rate_init=0.001;, score=0.000 total time=   0.7s\n",
      "[CV 2/3] END activation=logistic, hidden_layer_sizes=15, learning_rate_init=0.001;, score=0.000 total time=   0.7s\n",
      "[CV 3/3] END activation=logistic, hidden_layer_sizes=15, learning_rate_init=0.001;, score=0.000 total time=   0.6s\n",
      "[CV 1/3] END activation=logistic, hidden_layer_sizes=15, learning_rate_init=0.01;, score=0.667 total time=   0.6s\n",
      "[CV 2/3] END activation=logistic, hidden_layer_sizes=15, learning_rate_init=0.01;, score=0.667 total time=   0.6s\n",
      "[CV 3/3] END activation=logistic, hidden_layer_sizes=15, learning_rate_init=0.01;, score=0.667 total time=   0.6s\n",
      "[CV 3/3] END activation=logistic, hidden_layer_sizes=15, learning_rate_init=0.1;, score=0.000 total time=   0.5s\n",
      "[CV 1/3] END activation=logistic, hidden_layer_sizes=15, learning_rate_init=0.05;, score=0.667 total time=   0.9s\n",
      "[CV 2/3] END activation=logistic, hidden_layer_sizes=15, learning_rate_init=0.1;, score=0.000 total time=   1.0s\n",
      "[CV 1/3] END activation=logistic, hidden_layer_sizes=15, learning_rate_init=0.1;, score=0.667 total time=   1.1s\n",
      "[CV 3/3] END activation=logistic, hidden_layer_sizes=15, learning_rate_init=0.05;, score=0.667 total time=   1.8s\n",
      "[CV 2/3] END activation=logistic, hidden_layer_sizes=15, learning_rate_init=0.05;, score=0.667 total time=   1.9s\n",
      "[CV 1/3] END activation=relu, hidden_layer_sizes=5, learning_rate_init=0.05;, score=0.000 total time=   1.2s\n",
      "[CV 2/3] END activation=relu, hidden_layer_sizes=5, learning_rate_init=0.05;, score=0.000 total time=   0.9s\n",
      "[CV 3/3] END activation=relu, hidden_layer_sizes=5, learning_rate_init=0.05;, score=0.000 total time=   0.9s\n",
      "[CV 1/3] END activation=relu, hidden_layer_sizes=5, learning_rate_init=0.1;, score=0.000 total time=   0.5s\n",
      "[CV 2/3] END activation=relu, hidden_layer_sizes=5, learning_rate_init=0.01;, score=0.756 total time=   2.1s\n",
      "[CV 1/3] END activation=relu, hidden_layer_sizes=5, learning_rate_init=0.01;, score=0.687 total time=   2.9s\n",
      "[CV 2/3] END activation=relu, hidden_layer_sizes=5, learning_rate_init=0.1;, score=0.000 total time=   1.0s\n",
      "[CV 2/3] END activation=logistic, hidden_layer_sizes=10, learning_rate_init=0.001;, score=0.765 total time=   5.0s\n",
      "[CV 3/3] END activation=relu, hidden_layer_sizes=5, learning_rate_init=0.1;, score=0.000 total time=   1.0s\n",
      "[CV 3/3] END activation=logistic, hidden_layer_sizes=10, learning_rate_init=0.001;, score=0.731 total time=   5.2s\n",
      "[CV 1/3] END activation=logistic, hidden_layer_sizes=10, learning_rate_init=0.001;, score=0.756 total time=   5.4s\n",
      "[CV 1/3] END activation=relu, hidden_layer_sizes=10, learning_rate_init=0.01;, score=0.742 total time=   1.0s\n",
      "[CV 2/3] END activation=relu, hidden_layer_sizes=10, learning_rate_init=0.01;, score=0.741 total time=   0.9s\n",
      "[CV 1/3] END activation=relu, hidden_layer_sizes=10, learning_rate_init=0.05;, score=0.000 total time=   1.1s\n",
      "[CV 1/3] END activation=relu, hidden_layer_sizes=10, learning_rate_init=0.1;, score=0.667 total time=   0.5s\n",
      "[CV 3/3] END activation=relu, hidden_layer_sizes=5, learning_rate_init=0.01;, score=0.764 total time=   4.2s\n",
      "[CV 3/3] END activation=relu, hidden_layer_sizes=10, learning_rate_init=0.01;, score=0.715 total time=   1.6s\n",
      "[CV 2/3] END activation=relu, hidden_layer_sizes=10, learning_rate_init=0.05;, score=0.000 total time=   1.5s\n",
      "[CV 2/3] END activation=relu, hidden_layer_sizes=10, learning_rate_init=0.1;, score=0.667 total time=   0.6s\n",
      "[CV 3/3] END activation=relu, hidden_layer_sizes=10, learning_rate_init=0.001;, score=0.718 total time=   2.2s\n",
      "[CV 3/3] END activation=relu, hidden_layer_sizes=10, learning_rate_init=0.1;, score=0.667 total time=   0.5s\n",
      "[CV 3/3] END activation=relu, hidden_layer_sizes=10, learning_rate_init=0.05;, score=0.000 total time=   1.4s\n",
      "[CV 3/3] END activation=relu, hidden_layer_sizes=5, learning_rate_init=0.001;, score=0.724 total time=   6.3s\n",
      "[CV 1/3] END activation=relu, hidden_layer_sizes=15, learning_rate_init=0.05;, score=0.000 total time=   0.8s\n",
      "[CV 2/3] END activation=relu, hidden_layer_sizes=10, learning_rate_init=0.001;, score=0.763 total time=   4.0s\n",
      "[CV 1/3] END activation=relu, hidden_layer_sizes=10, learning_rate_init=0.001;, score=0.761 total time=   4.5s\n",
      "[CV 2/3] END activation=relu, hidden_layer_sizes=5, learning_rate_init=0.001;, score=0.748 total time=   7.2s\n"
     ]
    },
    {
     "name": "stderr",
     "output_type": "stream",
     "text": [
      "/root/.cache/pypoetry/virtualenvs/sin5007-lcGWJnmY-py3.11/lib/python3.11/site-packages/sklearn/neural_network/_multilayer_perceptron.py:690: ConvergenceWarning: Stochastic Optimizer: Maximum iterations (200) reached and the optimization hasn't converged yet.\n",
      "  warnings.warn(\n"
     ]
    },
    {
     "name": "stdout",
     "output_type": "stream",
     "text": [
      "[CV 2/3] END activation=relu, hidden_layer_sizes=15, learning_rate_init=0.05;, score=0.667 total time=   0.9s\n",
      "[CV 1/3] END activation=relu, hidden_layer_sizes=15, learning_rate_init=0.1;, score=0.000 total time=   0.7s\n",
      "[CV 2/3] END activation=relu, hidden_layer_sizes=15, learning_rate_init=0.1;, score=0.000 total time=   0.6s\n",
      "[CV 3/3] END activation=relu, hidden_layer_sizes=15, learning_rate_init=0.05;, score=0.000 total time=   1.1s\n",
      "[CV 1/3] END activation=relu, hidden_layer_sizes=5, learning_rate_init=0.001;, score=0.750 total time=   7.8s\n"
     ]
    },
    {
     "name": "stderr",
     "output_type": "stream",
     "text": [
      "/root/.cache/pypoetry/virtualenvs/sin5007-lcGWJnmY-py3.11/lib/python3.11/site-packages/sklearn/neural_network/_multilayer_perceptron.py:690: ConvergenceWarning: Stochastic Optimizer: Maximum iterations (200) reached and the optimization hasn't converged yet.\n",
      "  warnings.warn(\n"
     ]
    },
    {
     "name": "stdout",
     "output_type": "stream",
     "text": [
      "[CV 2/3] END activation=relu, hidden_layer_sizes=15, learning_rate_init=0.01;, score=0.750 total time=   2.5s\n",
      "[CV 3/3] END activation=relu, hidden_layer_sizes=15, learning_rate_init=0.1;, score=0.000 total time=   0.7s\n",
      "[CV 1/3] END activation=relu, hidden_layer_sizes=15, learning_rate_init=0.001;, score=0.755 total time=   3.2s\n",
      "[CV 1/3] END activation=relu, hidden_layer_sizes=15, learning_rate_init=0.01;, score=0.735 total time=   2.9s\n",
      "[CV 3/3] END activation=relu, hidden_layer_sizes=15, learning_rate_init=0.01;, score=0.775 total time=   3.0s\n",
      "[CV 3/3] END activation=relu, hidden_layer_sizes=15, learning_rate_init=0.001;, score=0.719 total time=   4.0s\n",
      "[CV 2/3] END activation=relu, hidden_layer_sizes=15, learning_rate_init=0.001;, score=0.765 total time=   4.3s\n",
      "===> 2024-10-28 15:37:14.747759 | FINALIZADO FOLD 7 | TEMPO TOTAL 0:00:13.100620\n",
      "\n",
      "====> 2024-10-28 15:37:14.748460 | EXECUTANDO FOLD 8 \n",
      "Fitting 3 folds for each of 24 candidates, totalling 72 fits\n",
      "[CV 2/3] END activation=logistic, hidden_layer_sizes=5, learning_rate_init=0.01;, score=0.000 total time=   0.5s\n",
      "[CV 1/3] END activation=logistic, hidden_layer_sizes=5, learning_rate_init=0.01;, score=0.000 total time=   0.5s\n",
      "[CV 1/3] END activation=logistic, hidden_layer_sizes=5, learning_rate_init=0.001;, score=0.000 total time=   0.7s\n",
      "[CV 2/3] END activation=logistic, hidden_layer_sizes=5, learning_rate_init=0.001;, score=0.000 total time=   0.8s\n",
      "[CV 1/3] END activation=logistic, hidden_layer_sizes=5, learning_rate_init=0.05;, score=0.000 total time=   0.8s\n",
      "[CV 3/3] END activation=logistic, hidden_layer_sizes=5, learning_rate_init=0.001;, score=0.000 total time=   0.8s\n",
      "[CV 1/3] END activation=logistic, hidden_layer_sizes=5, learning_rate_init=0.1;, score=0.000 total time=   0.8s\n",
      "[CV 2/3] END activation=logistic, hidden_layer_sizes=5, learning_rate_init=0.05;, score=0.667 total time=   0.8s\n",
      "[CV 3/3] END activation=logistic, hidden_layer_sizes=5, learning_rate_init=0.01;, score=0.000 total time=   0.9s\n",
      "[CV 3/3] END activation=logistic, hidden_layer_sizes=5, learning_rate_init=0.05;, score=0.000 total time=   1.0s\n",
      "[CV 3/3] END activation=logistic, hidden_layer_sizes=5, learning_rate_init=0.1;, score=0.667 total time=   1.1s\n",
      "[CV 2/3] END activation=logistic, hidden_layer_sizes=5, learning_rate_init=0.1;, score=0.000 total time=   1.1s\n",
      "[CV 1/3] END activation=logistic, hidden_layer_sizes=10, learning_rate_init=0.01;, score=0.000 total time=   0.5s\n",
      "[CV 3/3] END activation=logistic, hidden_layer_sizes=10, learning_rate_init=0.01;, score=0.667 total time=   0.5s\n",
      "[CV 2/3] END activation=logistic, hidden_layer_sizes=10, learning_rate_init=0.01;, score=0.667 total time=   0.6s\n",
      "[CV 1/3] END activation=logistic, hidden_layer_sizes=10, learning_rate_init=0.05;, score=0.000 total time=   0.6s\n",
      "[CV 2/3] END activation=logistic, hidden_layer_sizes=10, learning_rate_init=0.05;, score=0.667 total time=   0.8s\n",
      "[CV 1/3] END activation=logistic, hidden_layer_sizes=10, learning_rate_init=0.1;, score=0.667 total time=   0.7s\n",
      "[CV 2/3] END activation=logistic, hidden_layer_sizes=10, learning_rate_init=0.1;, score=0.667 total time=   0.6s\n",
      "[CV 3/3] END activation=logistic, hidden_layer_sizes=10, learning_rate_init=0.1;, score=0.667 total time=   0.6s\n",
      "[CV 3/3] END activation=logistic, hidden_layer_sizes=10, learning_rate_init=0.05;, score=0.000 total time=   0.9s\n",
      "[CV 1/3] END activation=logistic, hidden_layer_sizes=15, learning_rate_init=0.001;, score=0.000 total time=   0.6s\n",
      "[CV 2/3] END activation=logistic, hidden_layer_sizes=15, learning_rate_init=0.001;, score=0.000 total time=   0.6s\n",
      "[CV 1/3] END activation=logistic, hidden_layer_sizes=15, learning_rate_init=0.01;, score=0.667 total time=   0.6s\n",
      "[CV 3/3] END activation=logistic, hidden_layer_sizes=15, learning_rate_init=0.001;, score=0.000 total time=   0.7s\n",
      "[CV 2/3] END activation=logistic, hidden_layer_sizes=15, learning_rate_init=0.01;, score=0.667 total time=   0.6s\n",
      "[CV 2/3] END activation=logistic, hidden_layer_sizes=15, learning_rate_init=0.05;, score=0.000 total time=   0.6s\n",
      "[CV 3/3] END activation=logistic, hidden_layer_sizes=15, learning_rate_init=0.01;, score=0.667 total time=   0.7s\n",
      "[CV 1/3] END activation=logistic, hidden_layer_sizes=15, learning_rate_init=0.1;, score=0.000 total time=   0.6s\n",
      "[CV 3/3] END activation=logistic, hidden_layer_sizes=15, learning_rate_init=0.1;, score=0.000 total time=   0.6s\n",
      "[CV 2/3] END activation=logistic, hidden_layer_sizes=15, learning_rate_init=0.1;, score=0.000 total time=   1.0s\n",
      "[CV 1/3] END activation=logistic, hidden_layer_sizes=15, learning_rate_init=0.05;, score=0.667 total time=   1.2s\n",
      "[CV 3/3] END activation=logistic, hidden_layer_sizes=15, learning_rate_init=0.05;, score=0.667 total time=   1.7s\n",
      "[CV 1/3] END activation=relu, hidden_layer_sizes=5, learning_rate_init=0.05;, score=0.490 total time=   0.9s\n",
      "[CV 2/3] END activation=relu, hidden_layer_sizes=5, learning_rate_init=0.05;, score=0.667 total time=   1.0s\n",
      "[CV 3/3] END activation=relu, hidden_layer_sizes=5, learning_rate_init=0.05;, score=0.000 total time=   0.8s\n",
      "[CV 1/3] END activation=relu, hidden_layer_sizes=5, learning_rate_init=0.1;, score=0.000 total time=   0.5s\n",
      "[CV 2/3] END activation=relu, hidden_layer_sizes=5, learning_rate_init=0.1;, score=0.000 total time=   1.0s\n",
      "[CV 1/3] END activation=logistic, hidden_layer_sizes=10, learning_rate_init=0.001;, score=0.764 total time=   4.6s\n",
      "[CV 3/3] END activation=logistic, hidden_layer_sizes=10, learning_rate_init=0.001;, score=0.734 total time=   4.5s\n",
      "[CV 3/3] END activation=relu, hidden_layer_sizes=5, learning_rate_init=0.1;, score=0.000 total time=   0.9s\n",
      "[CV 2/3] END activation=relu, hidden_layer_sizes=5, learning_rate_init=0.01;, score=0.762 total time=   3.0s\n",
      "[CV 1/3] END activation=relu, hidden_layer_sizes=5, learning_rate_init=0.01;, score=0.730 total time=   3.2s\n",
      "[CV 2/3] END activation=logistic, hidden_layer_sizes=10, learning_rate_init=0.001;, score=0.765 total time=   5.6s\n",
      "[CV 3/3] END activation=relu, hidden_layer_sizes=5, learning_rate_init=0.01;, score=0.765 total time=   3.9s\n",
      "[CV 2/3] END activation=relu, hidden_layer_sizes=10, learning_rate_init=0.01;, score=0.721 total time=   1.5s\n",
      "[CV 1/3] END activation=relu, hidden_layer_sizes=10, learning_rate_init=0.05;, score=0.000 total time=   1.1s\n",
      "[CV 1/3] END activation=relu, hidden_layer_sizes=10, learning_rate_init=0.01;, score=0.753 total time=   1.6s\n",
      "[CV 3/3] END activation=relu, hidden_layer_sizes=10, learning_rate_init=0.01;, score=0.720 total time=   1.4s\n",
      "[CV 1/3] END activation=relu, hidden_layer_sizes=10, learning_rate_init=0.1;, score=0.667 total time=   0.6s\n",
      "[CV 3/3] END activation=relu, hidden_layer_sizes=10, learning_rate_init=0.001;, score=0.721 total time=   2.2s\n",
      "[CV 2/3] END activation=relu, hidden_layer_sizes=10, learning_rate_init=0.1;, score=0.667 total time=   0.5s\n",
      "[CV 3/3] END activation=relu, hidden_layer_sizes=10, learning_rate_init=0.1;, score=0.667 total time=   0.5s\n",
      "[CV 2/3] END activation=relu, hidden_layer_sizes=10, learning_rate_init=0.05;, score=0.000 total time=   1.5s\n",
      "[CV 3/3] END activation=relu, hidden_layer_sizes=10, learning_rate_init=0.05;, score=0.000 total time=   1.4s\n",
      "[CV 1/3] END activation=relu, hidden_layer_sizes=10, learning_rate_init=0.001;, score=0.762 total time=   3.6s\n",
      "[CV 1/3] END activation=relu, hidden_layer_sizes=15, learning_rate_init=0.05;, score=0.000 total time=   0.8s\n",
      "[CV 2/3] END activation=relu, hidden_layer_sizes=15, learning_rate_init=0.05;, score=0.667 total time=   0.9s\n",
      "[CV 2/3] END activation=relu, hidden_layer_sizes=5, learning_rate_init=0.001;, score=0.744 total time=   6.7s\n",
      "[CV 3/3] END activation=relu, hidden_layer_sizes=5, learning_rate_init=0.001;, score=0.730 total time=   7.1s\n",
      "[CV 1/3] END activation=relu, hidden_layer_sizes=15, learning_rate_init=0.1;, score=0.000 total time=   0.8s\n",
      "[CV 2/3] END activation=relu, hidden_layer_sizes=15, learning_rate_init=0.1;, score=0.000 total time=   0.7s\n",
      "[CV 2/3] END activation=relu, hidden_layer_sizes=10, learning_rate_init=0.001;, score=0.763 total time=   4.8s\n",
      "[CV 3/3] END activation=relu, hidden_layer_sizes=15, learning_rate_init=0.05;, score=0.000 total time=   1.1s\n",
      "[CV 1/3] END activation=relu, hidden_layer_sizes=15, learning_rate_init=0.001;, score=0.755 total time=   3.2s\n",
      "[CV 3/3] END activation=relu, hidden_layer_sizes=15, learning_rate_init=0.1;, score=0.000 total time=   0.7s\n",
      "[CV 1/3] END activation=relu, hidden_layer_sizes=5, learning_rate_init=0.001;, score=0.750 total time=   8.1s\n"
     ]
    },
    {
     "name": "stderr",
     "output_type": "stream",
     "text": [
      "/root/.cache/pypoetry/virtualenvs/sin5007-lcGWJnmY-py3.11/lib/python3.11/site-packages/sklearn/neural_network/_multilayer_perceptron.py:690: ConvergenceWarning: Stochastic Optimizer: Maximum iterations (200) reached and the optimization hasn't converged yet.\n",
      "  warnings.warn(\n"
     ]
    },
    {
     "name": "stdout",
     "output_type": "stream",
     "text": [
      "[CV 1/3] END activation=relu, hidden_layer_sizes=15, learning_rate_init=0.01;, score=0.765 total time=   3.2s\n",
      "[CV 3/3] END activation=relu, hidden_layer_sizes=15, learning_rate_init=0.01;, score=0.777 total time=   3.0s\n",
      "[CV 2/3] END activation=relu, hidden_layer_sizes=15, learning_rate_init=0.01;, score=0.762 total time=   3.4s\n",
      "[CV 2/3] END activation=relu, hidden_layer_sizes=15, learning_rate_init=0.001;, score=0.712 total time=   3.9s\n",
      "[CV 3/3] END activation=relu, hidden_layer_sizes=15, learning_rate_init=0.001;, score=0.724 total time=   4.0s\n",
      "===> 2024-10-28 15:37:27.812091 | FINALIZADO FOLD 8 | TEMPO TOTAL 0:00:13.063631\n",
      "\n",
      "====> 2024-10-28 15:37:27.813168 | EXECUTANDO FOLD 9 \n",
      "Fitting 3 folds for each of 24 candidates, totalling 72 fits\n",
      "[CV 1/3] END activation=logistic, hidden_layer_sizes=5, learning_rate_init=0.01;, score=0.000 total time=   0.5s\n",
      "[CV 1/3] END activation=logistic, hidden_layer_sizes=5, learning_rate_init=0.05;, score=0.000 total time=   0.6s\n",
      "[CV 1/3] END activation=logistic, hidden_layer_sizes=5, learning_rate_init=0.1;, score=0.000 total time=   0.7s\n",
      "[CV 1/3] END activation=logistic, hidden_layer_sizes=5, learning_rate_init=0.001;, score=0.000 total time=   0.8s\n",
      "[CV 3/3] END activation=logistic, hidden_layer_sizes=5, learning_rate_init=0.001;, score=0.000 total time=   0.8s\n",
      "[CV 2/3] END activation=logistic, hidden_layer_sizes=5, learning_rate_init=0.01;, score=0.000 total time=   0.9s\n",
      "[CV 3/3] END activation=logistic, hidden_layer_sizes=5, learning_rate_init=0.1;, score=0.667 total time=   0.9s\n",
      "[CV 3/3] END activation=logistic, hidden_layer_sizes=5, learning_rate_init=0.05;, score=0.000 total time=   0.9s\n",
      "[CV 2/3] END activation=logistic, hidden_layer_sizes=5, learning_rate_init=0.1;, score=0.667 total time=   1.0s\n",
      "[CV 3/3] END activation=logistic, hidden_layer_sizes=5, learning_rate_init=0.01;, score=0.000 total time=   1.0s\n",
      "[CV 2/3] END activation=logistic, hidden_layer_sizes=5, learning_rate_init=0.05;, score=0.000 total time=   1.0s\n",
      "[CV 2/3] END activation=logistic, hidden_layer_sizes=10, learning_rate_init=0.01;, score=0.667 total time=   0.5s\n",
      "[CV 3/3] END activation=logistic, hidden_layer_sizes=10, learning_rate_init=0.01;, score=0.667 total time=   0.5s\n",
      "[CV 1/3] END activation=logistic, hidden_layer_sizes=10, learning_rate_init=0.05;, score=0.000 total time=   0.5s\n",
      "[CV 2/3] END activation=logistic, hidden_layer_sizes=10, learning_rate_init=0.05;, score=0.667 total time=   0.5s\n",
      "[CV 1/3] END activation=logistic, hidden_layer_sizes=10, learning_rate_init=0.1;, score=0.000 total time=   0.6s\n",
      "[CV 1/3] END activation=logistic, hidden_layer_sizes=10, learning_rate_init=0.01;, score=0.000 total time=   0.9s\n",
      "[CV 2/3] END activation=logistic, hidden_layer_sizes=10, learning_rate_init=0.1;, score=0.667 total time=   0.6s\n",
      "[CV 3/3] END activation=logistic, hidden_layer_sizes=10, learning_rate_init=0.1;, score=0.667 total time=   0.5s\n",
      "[CV 3/3] END activation=logistic, hidden_layer_sizes=10, learning_rate_init=0.05;, score=0.000 total time=   1.0s\n",
      "[CV 2/3] END activation=logistic, hidden_layer_sizes=15, learning_rate_init=0.001;, score=0.000 total time=   0.6s\n",
      "[CV 1/3] END activation=logistic, hidden_layer_sizes=15, learning_rate_init=0.001;, score=0.000 total time=   0.6s\n",
      "[CV 3/3] END activation=logistic, hidden_layer_sizes=15, learning_rate_init=0.001;, score=0.000 total time=   0.6s\n",
      "[CV 1/3] END activation=logistic, hidden_layer_sizes=15, learning_rate_init=0.01;, score=0.667 total time=   0.7s\n",
      "[CV 2/3] END activation=logistic, hidden_layer_sizes=15, learning_rate_init=0.01;, score=0.667 total time=   0.7s\n",
      "[CV 3/3] END activation=logistic, hidden_layer_sizes=15, learning_rate_init=0.01;, score=0.667 total time=   0.7s\n",
      "[CV 1/3] END activation=logistic, hidden_layer_sizes=15, learning_rate_init=0.05;, score=0.000 total time=   0.8s\n",
      "[CV 2/3] END activation=logistic, hidden_layer_sizes=15, learning_rate_init=0.05;, score=0.000 total time=   0.6s\n",
      "[CV 1/3] END activation=logistic, hidden_layer_sizes=15, learning_rate_init=0.1;, score=0.000 total time=   0.6s\n",
      "[CV 3/3] END activation=logistic, hidden_layer_sizes=15, learning_rate_init=0.1;, score=0.000 total time=   0.6s\n",
      "[CV 2/3] END activation=logistic, hidden_layer_sizes=15, learning_rate_init=0.1;, score=0.000 total time=   1.1s\n",
      "[CV 3/3] END activation=logistic, hidden_layer_sizes=15, learning_rate_init=0.05;, score=0.667 total time=   1.7s\n",
      "[CV 1/3] END activation=relu, hidden_layer_sizes=5, learning_rate_init=0.05;, score=0.000 total time=   1.2s\n",
      "[CV 2/3] END activation=relu, hidden_layer_sizes=5, learning_rate_init=0.05;, score=0.667 total time=   0.9s\n",
      "[CV 3/3] END activation=logistic, hidden_layer_sizes=10, learning_rate_init=0.001;, score=0.721 total time=   4.5s\n",
      "[CV 1/3] END activation=logistic, hidden_layer_sizes=10, learning_rate_init=0.001;, score=0.711 total time=   4.7s\n",
      "[CV 1/3] END activation=relu, hidden_layer_sizes=5, learning_rate_init=0.1;, score=0.000 total time=   0.6s\n",
      "[CV 3/3] END activation=relu, hidden_layer_sizes=5, learning_rate_init=0.05;, score=0.000 total time=   0.8s\n",
      "[CV 2/3] END activation=logistic, hidden_layer_sizes=10, learning_rate_init=0.001;, score=0.766 total time=   4.8s\n",
      "[CV 2/3] END activation=relu, hidden_layer_sizes=5, learning_rate_init=0.01;, score=0.759 total time=   3.1s\n",
      "[CV 1/3] END activation=relu, hidden_layer_sizes=5, learning_rate_init=0.01;, score=0.591 total time=   3.3s\n",
      "[CV 2/3] END activation=relu, hidden_layer_sizes=5, learning_rate_init=0.1;, score=0.000 total time=   0.9s\n",
      "[CV 3/3] END activation=relu, hidden_layer_sizes=5, learning_rate_init=0.1;, score=0.000 total time=   0.9s\n",
      "[CV 1/3] END activation=relu, hidden_layer_sizes=10, learning_rate_init=0.01;, score=0.764 total time=   1.0s\n",
      "[CV 1/3] END activation=relu, hidden_layer_sizes=10, learning_rate_init=0.05;, score=0.000 total time=   1.0s\n",
      "[CV 3/3] END activation=relu, hidden_layer_sizes=10, learning_rate_init=0.01;, score=0.709 total time=   1.3s\n",
      "[CV 3/3] END activation=relu, hidden_layer_sizes=5, learning_rate_init=0.01;, score=0.760 total time=   4.5s\n"
     ]
    },
    {
     "name": "stderr",
     "output_type": "stream",
     "text": [
      "/root/.cache/pypoetry/virtualenvs/sin5007-lcGWJnmY-py3.11/lib/python3.11/site-packages/sklearn/neural_network/_multilayer_perceptron.py:690: ConvergenceWarning: Stochastic Optimizer: Maximum iterations (200) reached and the optimization hasn't converged yet.\n",
      "  warnings.warn(\n"
     ]
    },
    {
     "name": "stdout",
     "output_type": "stream",
     "text": [
      "[CV 2/3] END activation=logistic, hidden_layer_sizes=5, learning_rate_init=0.001;, score=0.765 total time=   7.5s\n",
      "[CV 3/3] END activation=relu, hidden_layer_sizes=10, learning_rate_init=0.001;, score=0.707 total time=   2.3s\n",
      "[CV 2/3] END activation=relu, hidden_layer_sizes=10, learning_rate_init=0.05;, score=0.667 total time=   1.0s\n",
      "[CV 1/3] END activation=relu, hidden_layer_sizes=10, learning_rate_init=0.1;, score=0.667 total time=   0.6s\n",
      "[CV 2/3] END activation=relu, hidden_layer_sizes=10, learning_rate_init=0.01;, score=0.749 total time=   1.9s\n",
      "[CV 2/3] END activation=relu, hidden_layer_sizes=10, learning_rate_init=0.1;, score=0.667 total time=   0.6s\n",
      "[CV 3/3] END activation=relu, hidden_layer_sizes=10, learning_rate_init=0.1;, score=0.667 total time=   0.5s\n",
      "[CV 3/3] END activation=relu, hidden_layer_sizes=10, learning_rate_init=0.05;, score=0.000 total time=   1.4s\n",
      "[CV 3/3] END activation=relu, hidden_layer_sizes=5, learning_rate_init=0.001;, score=0.721 total time=   6.1s\n",
      "[CV 1/3] END activation=relu, hidden_layer_sizes=10, learning_rate_init=0.001;, score=0.761 total time=   3.5s\n",
      "[CV 1/3] END activation=relu, hidden_layer_sizes=15, learning_rate_init=0.05;, score=0.000 total time=   0.8s\n",
      "[CV 2/3] END activation=relu, hidden_layer_sizes=10, learning_rate_init=0.001;, score=0.763 total time=   4.1s\n",
      "[CV 3/3] END activation=relu, hidden_layer_sizes=15, learning_rate_init=0.05;, score=0.000 total time=   1.1s\n",
      "[CV 2/3] END activation=relu, hidden_layer_sizes=15, learning_rate_init=0.1;, score=0.000 total time=   0.6s\n",
      "[CV 2/3] END activation=relu, hidden_layer_sizes=15, learning_rate_init=0.05;, score=0.000 total time=   1.5s\n"
     ]
    },
    {
     "name": "stderr",
     "output_type": "stream",
     "text": [
      "/root/.cache/pypoetry/virtualenvs/sin5007-lcGWJnmY-py3.11/lib/python3.11/site-packages/sklearn/neural_network/_multilayer_perceptron.py:690: ConvergenceWarning: Stochastic Optimizer: Maximum iterations (200) reached and the optimization hasn't converged yet.\n",
      "  warnings.warn(\n",
      "/root/.cache/pypoetry/virtualenvs/sin5007-lcGWJnmY-py3.11/lib/python3.11/site-packages/sklearn/neural_network/_multilayer_perceptron.py:690: ConvergenceWarning: Stochastic Optimizer: Maximum iterations (200) reached and the optimization hasn't converged yet.\n",
      "  warnings.warn(\n"
     ]
    },
    {
     "name": "stdout",
     "output_type": "stream",
     "text": [
      "[CV 2/3] END activation=relu, hidden_layer_sizes=5, learning_rate_init=0.001;, score=0.751 total time=   8.1s\n",
      "[CV 1/3] END activation=relu, hidden_layer_sizes=5, learning_rate_init=0.001;, score=0.751 total time=   8.1s\n",
      "[CV 1/3] END activation=relu, hidden_layer_sizes=15, learning_rate_init=0.1;, score=0.667 total time=   1.1s\n",
      "[CV 3/3] END activation=relu, hidden_layer_sizes=15, learning_rate_init=0.1;, score=0.000 total time=   0.7s\n",
      "[CV 1/3] END activation=relu, hidden_layer_sizes=15, learning_rate_init=0.01;, score=0.764 total time=   2.8s\n",
      "[CV 2/3] END activation=relu, hidden_layer_sizes=15, learning_rate_init=0.01;, score=0.755 total time=   2.9s\n",
      "[CV 3/3] END activation=relu, hidden_layer_sizes=15, learning_rate_init=0.01;, score=0.766 total time=   3.1s\n",
      "[CV 1/3] END activation=relu, hidden_layer_sizes=15, learning_rate_init=0.001;, score=0.763 total time=   3.5s\n",
      "[CV 3/3] END activation=relu, hidden_layer_sizes=15, learning_rate_init=0.001;, score=0.713 total time=   3.8s\n",
      "[CV 2/3] END activation=relu, hidden_layer_sizes=15, learning_rate_init=0.001;, score=0.765 total time=   4.1s\n",
      "===> 2024-10-28 15:37:41.179270 | FINALIZADO FOLD 9 | TEMPO TOTAL 0:00:13.366102\n",
      "\n",
      "====> 2024-10-28 15:37:41.180001 | EXECUTANDO FOLD 10 \n",
      "Fitting 3 folds for each of 24 candidates, totalling 72 fits\n",
      "[CV 1/3] END activation=logistic, hidden_layer_sizes=5, learning_rate_init=0.001;, score=0.000 total time=   0.7s\n",
      "[CV 2/3] END activation=logistic, hidden_layer_sizes=5, learning_rate_init=0.001;, score=0.000 total time=   0.7s\n",
      "[CV 3/3] END activation=logistic, hidden_layer_sizes=5, learning_rate_init=0.001;, score=0.000 total time=   0.8s\n",
      "[CV 1/3] END activation=logistic, hidden_layer_sizes=5, learning_rate_init=0.1;, score=0.000 total time=   0.7s\n",
      "[CV 1/3] END activation=logistic, hidden_layer_sizes=5, learning_rate_init=0.05;, score=0.667 total time=   0.8s\n",
      "[CV 1/3] END activation=logistic, hidden_layer_sizes=5, learning_rate_init=0.01;, score=0.667 total time=   0.9s\n",
      "[CV 3/3] END activation=logistic, hidden_layer_sizes=5, learning_rate_init=0.01;, score=0.000 total time=   0.9s\n",
      "[CV 3/3] END activation=logistic, hidden_layer_sizes=5, learning_rate_init=0.1;, score=0.667 total time=   0.9s\n",
      "[CV 2/3] END activation=logistic, hidden_layer_sizes=5, learning_rate_init=0.1;, score=0.000 total time=   0.9s\n",
      "[CV 3/3] END activation=logistic, hidden_layer_sizes=5, learning_rate_init=0.05;, score=0.000 total time=   0.9s\n",
      "[CV 2/3] END activation=logistic, hidden_layer_sizes=5, learning_rate_init=0.01;, score=0.000 total time=   1.0s\n",
      "[CV 2/3] END activation=logistic, hidden_layer_sizes=5, learning_rate_init=0.05;, score=0.667 total time=   1.0s\n",
      "[CV 1/3] END activation=logistic, hidden_layer_sizes=10, learning_rate_init=0.01;, score=0.667 total time=   0.6s\n",
      "[CV 2/3] END activation=logistic, hidden_layer_sizes=10, learning_rate_init=0.01;, score=0.667 total time=   0.5s\n",
      "[CV 3/3] END activation=logistic, hidden_layer_sizes=10, learning_rate_init=0.01;, score=0.667 total time=   0.6s\n",
      "[CV 1/3] END activation=logistic, hidden_layer_sizes=10, learning_rate_init=0.05;, score=0.000 total time=   0.6s\n",
      "[CV 3/3] END activation=logistic, hidden_layer_sizes=10, learning_rate_init=0.1;, score=0.667 total time=   0.6s\n",
      "[CV 1/3] END activation=logistic, hidden_layer_sizes=10, learning_rate_init=0.1;, score=0.000 total time=   0.6s\n",
      "[CV 2/3] END activation=logistic, hidden_layer_sizes=10, learning_rate_init=0.05;, score=0.667 total time=   0.8s\n",
      "[CV 2/3] END activation=logistic, hidden_layer_sizes=10, learning_rate_init=0.1;, score=0.000 total time=   0.8s\n",
      "[CV 3/3] END activation=logistic, hidden_layer_sizes=10, learning_rate_init=0.05;, score=0.000 total time=   0.9s\n",
      "[CV 1/3] END activation=logistic, hidden_layer_sizes=15, learning_rate_init=0.01;, score=0.667 total time=   0.6s\n",
      "[CV 2/3] END activation=logistic, hidden_layer_sizes=15, learning_rate_init=0.001;, score=0.000 total time=   0.7s\n",
      "[CV 1/3] END activation=logistic, hidden_layer_sizes=15, learning_rate_init=0.001;, score=0.000 total time=   0.7s\n",
      "[CV 3/3] END activation=logistic, hidden_layer_sizes=15, learning_rate_init=0.01;, score=0.667 total time=   0.6s\n",
      "[CV 3/3] END activation=logistic, hidden_layer_sizes=15, learning_rate_init=0.001;, score=0.000 total time=   0.7s\n",
      "[CV 2/3] END activation=logistic, hidden_layer_sizes=15, learning_rate_init=0.01;, score=0.667 total time=   0.7s\n",
      "[CV 3/3] END activation=logistic, hidden_layer_sizes=15, learning_rate_init=0.1;, score=0.000 total time=   0.6s\n",
      "[CV 1/3] END activation=logistic, hidden_layer_sizes=15, learning_rate_init=0.05;, score=0.667 total time=   0.9s\n",
      "[CV 1/3] END activation=logistic, hidden_layer_sizes=15, learning_rate_init=0.1;, score=0.000 total time=   1.0s\n",
      "[CV 2/3] END activation=logistic, hidden_layer_sizes=15, learning_rate_init=0.1;, score=0.000 total time=   1.2s\n",
      "[CV 3/3] END activation=logistic, hidden_layer_sizes=15, learning_rate_init=0.05;, score=0.667 total time=   1.6s\n",
      "[CV 2/3] END activation=logistic, hidden_layer_sizes=15, learning_rate_init=0.05;, score=0.667 total time=   1.9s\n",
      "[CV 2/3] END activation=relu, hidden_layer_sizes=5, learning_rate_init=0.05;, score=0.667 total time=   0.7s\n",
      "[CV 1/3] END activation=relu, hidden_layer_sizes=5, learning_rate_init=0.05;, score=0.000 total time=   4.1s\n",
      "[CV 3/3] END activation=relu, hidden_layer_sizes=5, learning_rate_init=0.05;, score=0.000 total time=   3.9s\n",
      "[CV 1/3] END activation=relu, hidden_layer_sizes=5, learning_rate_init=0.1;, score=0.000 total time=   3.5s\n",
      "[CV 1/3] END activation=logistic, hidden_layer_sizes=10, learning_rate_init=0.001;, score=0.754 total time=   7.4s\n",
      "[CV 2/3] END activation=relu, hidden_layer_sizes=5, learning_rate_init=0.1;, score=0.000 total time=   1.1s\n",
      "[CV 3/3] END activation=logistic, hidden_layer_sizes=10, learning_rate_init=0.001;, score=0.732 total time=   7.8s\n",
      "[CV 3/3] END activation=relu, hidden_layer_sizes=5, learning_rate_init=0.1;, score=0.000 total time=   1.1s\n",
      "[CV 2/3] END activation=relu, hidden_layer_sizes=5, learning_rate_init=0.01;, score=0.759 total time=   6.1s\n",
      "[CV 1/3] END activation=relu, hidden_layer_sizes=5, learning_rate_init=0.01;, score=0.765 total time=   6.2s\n",
      "[CV 2/3] END activation=logistic, hidden_layer_sizes=10, learning_rate_init=0.001;, score=0.743 total time=   8.5s\n",
      "[CV 1/3] END activation=relu, hidden_layer_sizes=10, learning_rate_init=0.01;, score=0.764 total time=   1.1s\n",
      "[CV 3/3] END activation=relu, hidden_layer_sizes=5, learning_rate_init=0.01;, score=0.762 total time=   6.8s\n",
      "[CV 3/3] END activation=relu, hidden_layer_sizes=10, learning_rate_init=0.01;, score=0.721 total time=   1.3s\n",
      "[CV 2/3] END activation=relu, hidden_layer_sizes=10, learning_rate_init=0.01;, score=0.725 total time=   1.4s\n",
      "[CV 1/3] END activation=relu, hidden_layer_sizes=10, learning_rate_init=0.1;, score=0.667 total time=   0.6s\n",
      "[CV 2/3] END activation=relu, hidden_layer_sizes=10, learning_rate_init=0.05;, score=0.000 total time=   1.4s\n",
      "[CV 2/3] END activation=relu, hidden_layer_sizes=10, learning_rate_init=0.1;, score=0.667 total time=   0.5s\n",
      "[CV 3/3] END activation=relu, hidden_layer_sizes=10, learning_rate_init=0.1;, score=0.667 total time=   0.6s\n",
      "[CV 1/3] END activation=relu, hidden_layer_sizes=10, learning_rate_init=0.05;, score=0.667 total time=   1.8s\n",
      "[CV 3/3] END activation=relu, hidden_layer_sizes=10, learning_rate_init=0.001;, score=0.716 total time=   2.7s\n",
      "[CV 3/3] END activation=relu, hidden_layer_sizes=10, learning_rate_init=0.05;, score=0.000 total time=   1.6s\n",
      "[CV 2/3] END activation=relu, hidden_layer_sizes=10, learning_rate_init=0.001;, score=0.751 total time=   3.2s\n",
      "[CV 1/3] END activation=relu, hidden_layer_sizes=10, learning_rate_init=0.001;, score=0.760 total time=   3.7s\n",
      "[CV 3/3] END activation=relu, hidden_layer_sizes=5, learning_rate_init=0.001;, score=0.731 total time=   9.8s\n",
      "[CV 2/3] END activation=relu, hidden_layer_sizes=15, learning_rate_init=0.05;, score=0.667 total time=   0.9s\n",
      "[CV 1/3] END activation=relu, hidden_layer_sizes=15, learning_rate_init=0.05;, score=0.000 total time=   0.9s\n",
      "[CV 3/3] END activation=relu, hidden_layer_sizes=15, learning_rate_init=0.05;, score=0.000 total time=   1.1s\n",
      "[CV 2/3] END activation=relu, hidden_layer_sizes=15, learning_rate_init=0.1;, score=0.000 total time=   0.6s[CV 2/3] END activation=relu, hidden_layer_sizes=5, learning_rate_init=0.001;, score=0.721 total time=  10.6s\n",
      "\n",
      "[CV 1/3] END activation=relu, hidden_layer_sizes=15, learning_rate_init=0.1;, score=0.000 total time=   0.8s\n",
      "[CV 3/3] END activation=relu, hidden_layer_sizes=15, learning_rate_init=0.1;, score=0.000 total time=   0.8s\n",
      "[CV 1/3] END activation=relu, hidden_layer_sizes=5, learning_rate_init=0.001;, score=0.752 total time=  11.0s\n"
     ]
    },
    {
     "name": "stderr",
     "output_type": "stream",
     "text": [
      "/root/.cache/pypoetry/virtualenvs/sin5007-lcGWJnmY-py3.11/lib/python3.11/site-packages/sklearn/neural_network/_multilayer_perceptron.py:690: ConvergenceWarning: Stochastic Optimizer: Maximum iterations (200) reached and the optimization hasn't converged yet.\n",
      "  warnings.warn(\n"
     ]
    },
    {
     "name": "stdout",
     "output_type": "stream",
     "text": [
      "[CV 1/3] END activation=relu, hidden_layer_sizes=15, learning_rate_init=0.01;, score=0.760 total time=   2.7s\n",
      "[CV 2/3] END activation=relu, hidden_layer_sizes=15, learning_rate_init=0.01;, score=0.754 total time=   2.8s\n",
      "[CV 3/3] END activation=relu, hidden_layer_sizes=15, learning_rate_init=0.01;, score=0.775 total time=   2.8s\n",
      "[CV 2/3] END activation=relu, hidden_layer_sizes=15, learning_rate_init=0.001;, score=0.764 total time=   3.9s\n",
      "[CV 3/3] END activation=relu, hidden_layer_sizes=15, learning_rate_init=0.001;, score=0.725 total time=   4.0s\n"
     ]
    },
    {
     "name": "stderr",
     "output_type": "stream",
     "text": [
      "/root/.cache/pypoetry/virtualenvs/sin5007-lcGWJnmY-py3.11/lib/python3.11/site-packages/sklearn/neural_network/_multilayer_perceptron.py:690: ConvergenceWarning: Stochastic Optimizer: Maximum iterations (200) reached and the optimization hasn't converged yet.\n",
      "  warnings.warn(\n"
     ]
    },
    {
     "name": "stdout",
     "output_type": "stream",
     "text": [
      "[CV 1/3] END activation=relu, hidden_layer_sizes=15, learning_rate_init=0.001;, score=0.716 total time=   5.1s\n",
      "===> 2024-10-28 15:37:59.095817 | FINALIZADO FOLD 10 | TEMPO TOTAL 0:00:17.915816\n",
      "\n",
      "Resultados na validação cruzada: {'f1': 0.749943392319334, 'accuracy': 0.7525146100332513, 'precision': 0.7628760290364756, 'recall': 0.7525001769410432}\n",
      "Resultados na base de teste: {'f1': 0.7187215016093889, 'accuracy': 0.7823644097837646, 'precision': 0.7150085011172105, 'recall': 0.7512823640330448}\n",
      "Melhores parâmetros escolhidos: {'activation': 'relu', 'hidden_layer_sizes': 15, 'learning_rate_init': 0.01}\n"
     ]
    }
   ],
   "source": [
    "param_grid_categorical = {\n",
    "    \"hidden_layer_sizes\": [5, 10, 15],\n",
    "    \"activation\": [\"logistic\", \"relu\"],\n",
    "    \"learning_rate_init\": [0.001, 0.01, 0.05, 0.1]\n",
    "}\n",
    "\n",
    "# Executar a função e obter os melhores parâmetros\n",
    "results_validation, results_test, best_params, results_list_pca = run_cross_validation(\n",
    "    df_train_pca.drop(columns=[\"RainTomorrow\"]),\n",
    "    df_train_pca[\"RainTomorrow\"],\n",
    "    df_test_pca.drop(columns=[\"RainTomorrow\"]),\n",
    "    df_test_pca[\"RainTomorrow\"],\n",
    "    MLPClassifier(random_state=42),\n",
    "    param_grid_categorical,\n",
    "    k_folds=10,\n",
    ")\n",
    "\n",
    "print(\"Resultados na validação cruzada:\", results_validation)\n",
    "print(\"Resultados na base de teste:\", results_test)\n",
    "print(\"Melhores parâmetros escolhidos:\", best_params)"
   ]
  },
  {
   "cell_type": "code",
   "execution_count": 56,
   "metadata": {},
   "outputs": [
    {
     "data": {
      "text/html": [
       "<div>\n",
       "<style scoped>\n",
       "    .dataframe tbody tr th:only-of-type {\n",
       "        vertical-align: middle;\n",
       "    }\n",
       "\n",
       "    .dataframe tbody tr th {\n",
       "        vertical-align: top;\n",
       "    }\n",
       "\n",
       "    .dataframe thead th {\n",
       "        text-align: right;\n",
       "    }\n",
       "</style>\n",
       "<table border=\"1\" class=\"dataframe\">\n",
       "  <thead>\n",
       "    <tr style=\"text-align: right;\">\n",
       "      <th></th>\n",
       "      <th>f1</th>\n",
       "      <th>accuracy</th>\n",
       "      <th>precision</th>\n",
       "      <th>recall</th>\n",
       "      <th>dataset</th>\n",
       "    </tr>\n",
       "  </thead>\n",
       "  <tbody>\n",
       "    <tr>\n",
       "      <th>0</th>\n",
       "      <td>0.750857</td>\n",
       "      <td>0.751131</td>\n",
       "      <td>0.752209</td>\n",
       "      <td>0.751115</td>\n",
       "      <td>Validação Cruzada</td>\n",
       "    </tr>\n",
       "    <tr>\n",
       "      <th>1</th>\n",
       "      <td>0.741302</td>\n",
       "      <td>0.747109</td>\n",
       "      <td>0.771313</td>\n",
       "      <td>0.747034</td>\n",
       "      <td>Validação Cruzada</td>\n",
       "    </tr>\n",
       "    <tr>\n",
       "      <th>2</th>\n",
       "      <td>0.755175</td>\n",
       "      <td>0.756662</td>\n",
       "      <td>0.762969</td>\n",
       "      <td>0.756623</td>\n",
       "      <td>Validação Cruzada</td>\n",
       "    </tr>\n",
       "    <tr>\n",
       "      <th>3</th>\n",
       "      <td>0.754463</td>\n",
       "      <td>0.754651</td>\n",
       "      <td>0.755404</td>\n",
       "      <td>0.754637</td>\n",
       "      <td>Validação Cruzada</td>\n",
       "    </tr>\n",
       "    <tr>\n",
       "      <th>4</th>\n",
       "      <td>0.752579</td>\n",
       "      <td>0.757042</td>\n",
       "      <td>0.777031</td>\n",
       "      <td>0.757042</td>\n",
       "      <td>Validação Cruzada</td>\n",
       "    </tr>\n",
       "    <tr>\n",
       "      <th>5</th>\n",
       "      <td>0.733630</td>\n",
       "      <td>0.736922</td>\n",
       "      <td>0.749242</td>\n",
       "      <td>0.736922</td>\n",
       "      <td>Validação Cruzada</td>\n",
       "    </tr>\n",
       "    <tr>\n",
       "      <th>6</th>\n",
       "      <td>0.723295</td>\n",
       "      <td>0.731388</td>\n",
       "      <td>0.762048</td>\n",
       "      <td>0.731388</td>\n",
       "      <td>Validação Cruzada</td>\n",
       "    </tr>\n",
       "    <tr>\n",
       "      <th>7</th>\n",
       "      <td>0.743328</td>\n",
       "      <td>0.744970</td>\n",
       "      <td>0.751402</td>\n",
       "      <td>0.744970</td>\n",
       "      <td>Validação Cruzada</td>\n",
       "    </tr>\n",
       "    <tr>\n",
       "      <th>8</th>\n",
       "      <td>0.796271</td>\n",
       "      <td>0.796278</td>\n",
       "      <td>0.796314</td>\n",
       "      <td>0.796278</td>\n",
       "      <td>Validação Cruzada</td>\n",
       "    </tr>\n",
       "    <tr>\n",
       "      <th>9</th>\n",
       "      <td>0.748534</td>\n",
       "      <td>0.748994</td>\n",
       "      <td>0.750828</td>\n",
       "      <td>0.748994</td>\n",
       "      <td>Validação Cruzada</td>\n",
       "    </tr>\n",
       "    <tr>\n",
       "      <th>0</th>\n",
       "      <td>0.719800</td>\n",
       "      <td>0.778802</td>\n",
       "      <td>0.704871</td>\n",
       "      <td>0.759986</td>\n",
       "      <td>Teste</td>\n",
       "    </tr>\n",
       "    <tr>\n",
       "      <th>1</th>\n",
       "      <td>0.743880</td>\n",
       "      <td>0.827278</td>\n",
       "      <td>0.748678</td>\n",
       "      <td>0.739524</td>\n",
       "      <td>Teste</td>\n",
       "    </tr>\n",
       "    <tr>\n",
       "      <th>2</th>\n",
       "      <td>0.667927</td>\n",
       "      <td>0.706664</td>\n",
       "      <td>0.674769</td>\n",
       "      <td>0.750548</td>\n",
       "      <td>Teste</td>\n",
       "    </tr>\n",
       "    <tr>\n",
       "      <th>3</th>\n",
       "      <td>0.691097</td>\n",
       "      <td>0.738922</td>\n",
       "      <td>0.684860</td>\n",
       "      <td>0.755206</td>\n",
       "      <td>Teste</td>\n",
       "    </tr>\n",
       "    <tr>\n",
       "      <th>4</th>\n",
       "      <td>0.744364</td>\n",
       "      <td>0.823999</td>\n",
       "      <td>0.743806</td>\n",
       "      <td>0.744929</td>\n",
       "      <td>Teste</td>\n",
       "    </tr>\n",
       "    <tr>\n",
       "      <th>5</th>\n",
       "      <td>0.739677</td>\n",
       "      <td>0.812301</td>\n",
       "      <td>0.730097</td>\n",
       "      <td>0.752300</td>\n",
       "      <td>Teste</td>\n",
       "    </tr>\n",
       "    <tr>\n",
       "      <th>6</th>\n",
       "      <td>0.745007</td>\n",
       "      <td>0.832506</td>\n",
       "      <td>0.757865</td>\n",
       "      <td>0.734791</td>\n",
       "      <td>Teste</td>\n",
       "    </tr>\n",
       "    <tr>\n",
       "      <th>7</th>\n",
       "      <td>0.735789</td>\n",
       "      <td>0.803704</td>\n",
       "      <td>0.722515</td>\n",
       "      <td>0.757039</td>\n",
       "      <td>Teste</td>\n",
       "    </tr>\n",
       "    <tr>\n",
       "      <th>8</th>\n",
       "      <td>0.710743</td>\n",
       "      <td>0.765154</td>\n",
       "      <td>0.697764</td>\n",
       "      <td>0.760619</td>\n",
       "      <td>Teste</td>\n",
       "    </tr>\n",
       "    <tr>\n",
       "      <th>9</th>\n",
       "      <td>0.688932</td>\n",
       "      <td>0.734314</td>\n",
       "      <td>0.684859</td>\n",
       "      <td>0.757882</td>\n",
       "      <td>Teste</td>\n",
       "    </tr>\n",
       "  </tbody>\n",
       "</table>\n",
       "</div>"
      ],
      "text/plain": [
       "         f1  accuracy  precision    recall            dataset\n",
       "0  0.750857  0.751131   0.752209  0.751115  Validação Cruzada\n",
       "1  0.741302  0.747109   0.771313  0.747034  Validação Cruzada\n",
       "2  0.755175  0.756662   0.762969  0.756623  Validação Cruzada\n",
       "3  0.754463  0.754651   0.755404  0.754637  Validação Cruzada\n",
       "4  0.752579  0.757042   0.777031  0.757042  Validação Cruzada\n",
       "5  0.733630  0.736922   0.749242  0.736922  Validação Cruzada\n",
       "6  0.723295  0.731388   0.762048  0.731388  Validação Cruzada\n",
       "7  0.743328  0.744970   0.751402  0.744970  Validação Cruzada\n",
       "8  0.796271  0.796278   0.796314  0.796278  Validação Cruzada\n",
       "9  0.748534  0.748994   0.750828  0.748994  Validação Cruzada\n",
       "0  0.719800  0.778802   0.704871  0.759986              Teste\n",
       "1  0.743880  0.827278   0.748678  0.739524              Teste\n",
       "2  0.667927  0.706664   0.674769  0.750548              Teste\n",
       "3  0.691097  0.738922   0.684860  0.755206              Teste\n",
       "4  0.744364  0.823999   0.743806  0.744929              Teste\n",
       "5  0.739677  0.812301   0.730097  0.752300              Teste\n",
       "6  0.745007  0.832506   0.757865  0.734791              Teste\n",
       "7  0.735789  0.803704   0.722515  0.757039              Teste\n",
       "8  0.710743  0.765154   0.697764  0.760619              Teste\n",
       "9  0.688932  0.734314   0.684859  0.757882              Teste"
      ]
     },
     "execution_count": 56,
     "metadata": {},
     "output_type": "execute_result"
    }
   ],
   "source": [
    "results_list_pca"
   ]
  },
  {
   "cell_type": "markdown",
   "metadata": {},
   "source": [
    "### CORRELAÇÃO"
   ]
  },
  {
   "cell_type": "code",
   "execution_count": 57,
   "metadata": {},
   "outputs": [
    {
     "name": "stdout",
     "output_type": "stream",
     "text": [
      "====> INICIANDO PROCESSAMENTO: 2024-10-28 15:37:59.172012 <====\n",
      "====> 2024-10-28 15:37:59.176010 | EXECUTANDO FOLD 1 \n",
      "Fitting 3 folds for each of 24 candidates, totalling 72 fits\n",
      "[CV 3/3] END activation=logistic, hidden_layer_sizes=5, learning_rate_init=0.05;, score=0.809 total time=   1.5s\n",
      "[CV 2/3] END activation=logistic, hidden_layer_sizes=5, learning_rate_init=0.1;, score=0.799 total time=   1.5s\n",
      "[CV 3/3] END activation=logistic, hidden_layer_sizes=5, learning_rate_init=0.1;, score=0.805 total time=   1.8s\n",
      "[CV 1/3] END activation=logistic, hidden_layer_sizes=5, learning_rate_init=0.1;, score=0.806 total time=   2.4s\n",
      "[CV 1/3] END activation=logistic, hidden_layer_sizes=5, learning_rate_init=0.05;, score=0.810 total time=   2.5s\n",
      "[CV 2/3] END activation=logistic, hidden_layer_sizes=5, learning_rate_init=0.05;, score=0.803 total time=   3.3s\n",
      "[CV 2/3] END activation=logistic, hidden_layer_sizes=5, learning_rate_init=0.01;, score=0.797 total time=   3.6s\n",
      "[CV 3/3] END activation=logistic, hidden_layer_sizes=5, learning_rate_init=0.01;, score=0.801 total time=   3.9s\n",
      "[CV 1/3] END activation=logistic, hidden_layer_sizes=5, learning_rate_init=0.01;, score=0.811 total time=   4.9s\n",
      "[CV 1/3] END activation=logistic, hidden_layer_sizes=10, learning_rate_init=0.001;, score=0.801 total time=   4.2s\n",
      "[CV 2/3] END activation=logistic, hidden_layer_sizes=10, learning_rate_init=0.05;, score=0.807 total time=   2.0s\n",
      "[CV 3/3] END activation=logistic, hidden_layer_sizes=5, learning_rate_init=0.001;, score=0.801 total time=   6.2s\n",
      "[CV 1/3] END activation=logistic, hidden_layer_sizes=10, learning_rate_init=0.05;, score=0.801 total time=   2.9s\n",
      "[CV 1/3] END activation=logistic, hidden_layer_sizes=5, learning_rate_init=0.001;, score=0.802 total time=   7.4s\n",
      "[CV 1/3] END activation=logistic, hidden_layer_sizes=10, learning_rate_init=0.01;, score=0.802 total time=   5.2s\n",
      "[CV 2/3] END activation=logistic, hidden_layer_sizes=5, learning_rate_init=0.001;, score=0.801 total time=   7.7s\n",
      "[CV 3/3] END activation=logistic, hidden_layer_sizes=10, learning_rate_init=0.1;, score=0.804 total time=   1.7s\n",
      "[CV 2/3] END activation=logistic, hidden_layer_sizes=10, learning_rate_init=0.1;, score=0.800 total time=   2.3s\n",
      "[CV 1/3] END activation=logistic, hidden_layer_sizes=10, learning_rate_init=0.1;, score=0.797 total time=   3.1s\n",
      "[CV 3/3] END activation=logistic, hidden_layer_sizes=10, learning_rate_init=0.01;, score=0.801 total time=   6.0s\n",
      "[CV 3/3] END activation=logistic, hidden_layer_sizes=10, learning_rate_init=0.05;, score=0.803 total time=   4.6s\n"
     ]
    },
    {
     "name": "stderr",
     "output_type": "stream",
     "text": [
      "/root/.cache/pypoetry/virtualenvs/sin5007-lcGWJnmY-py3.11/lib/python3.11/site-packages/sklearn/neural_network/_multilayer_perceptron.py:690: ConvergenceWarning: Stochastic Optimizer: Maximum iterations (200) reached and the optimization hasn't converged yet.\n",
      "  warnings.warn(\n"
     ]
    },
    {
     "name": "stdout",
     "output_type": "stream",
     "text": [
      "[CV 3/3] END activation=logistic, hidden_layer_sizes=10, learning_rate_init=0.001;, score=0.804 total time=   8.6s\n",
      "[CV 2/3] END activation=logistic, hidden_layer_sizes=10, learning_rate_init=0.01;, score=0.804 total time=   8.6s\n"
     ]
    },
    {
     "name": "stderr",
     "output_type": "stream",
     "text": [
      "/root/.cache/pypoetry/virtualenvs/sin5007-lcGWJnmY-py3.11/lib/python3.11/site-packages/sklearn/neural_network/_multilayer_perceptron.py:690: ConvergenceWarning: Stochastic Optimizer: Maximum iterations (200) reached and the optimization hasn't converged yet.\n",
      "  warnings.warn(\n"
     ]
    },
    {
     "name": "stdout",
     "output_type": "stream",
     "text": [
      "[CV 2/3] END activation=logistic, hidden_layer_sizes=10, learning_rate_init=0.001;, score=0.802 total time=  10.2s\n",
      "[CV 1/3] END activation=logistic, hidden_layer_sizes=15, learning_rate_init=0.05;, score=0.805 total time=   3.4s\n",
      "[CV 1/3] END activation=logistic, hidden_layer_sizes=15, learning_rate_init=0.1;, score=0.804 total time=   2.2s\n",
      "[CV 1/3] END activation=logistic, hidden_layer_sizes=15, learning_rate_init=0.01;, score=0.805 total time=   5.4s\n",
      "[CV 2/3] END activation=logistic, hidden_layer_sizes=15, learning_rate_init=0.1;, score=0.807 total time=   2.3s\n",
      "[CV 3/3] END activation=logistic, hidden_layer_sizes=15, learning_rate_init=0.01;, score=0.805 total time=   5.7s\n",
      "[CV 2/3] END activation=logistic, hidden_layer_sizes=15, learning_rate_init=0.05;, score=0.790 total time=   5.0s\n",
      "[CV 3/3] END activation=logistic, hidden_layer_sizes=15, learning_rate_init=0.05;, score=0.794 total time=   5.0s\n",
      "[CV 2/3] END activation=logistic, hidden_layer_sizes=15, learning_rate_init=0.01;, score=0.793 total time=   7.0s\n",
      "[CV 3/3] END activation=logistic, hidden_layer_sizes=15, learning_rate_init=0.1;, score=0.794 total time=   3.5s\n",
      "[CV 1/3] END activation=relu, hidden_layer_sizes=5, learning_rate_init=0.01;, score=0.803 total time=   2.3s\n",
      "[CV 3/3] END activation=relu, hidden_layer_sizes=5, learning_rate_init=0.01;, score=0.804 total time=   1.6s\n",
      "[CV 1/3] END activation=relu, hidden_layer_sizes=5, learning_rate_init=0.05;, score=0.803 total time=   1.7s\n",
      "[CV 3/3] END activation=relu, hidden_layer_sizes=5, learning_rate_init=0.05;, score=0.801 total time=   1.1s\n",
      "[CV 1/3] END activation=logistic, hidden_layer_sizes=15, learning_rate_init=0.001;, score=0.802 total time=   9.9s\n",
      "[CV 1/3] END activation=relu, hidden_layer_sizes=5, learning_rate_init=0.001;, score=0.804 total time=   4.2s\n"
     ]
    },
    {
     "name": "stderr",
     "output_type": "stream",
     "text": [
      "/root/.cache/pypoetry/virtualenvs/sin5007-lcGWJnmY-py3.11/lib/python3.11/site-packages/sklearn/neural_network/_multilayer_perceptron.py:690: ConvergenceWarning: Stochastic Optimizer: Maximum iterations (200) reached and the optimization hasn't converged yet.\n",
      "  warnings.warn(\n"
     ]
    },
    {
     "name": "stdout",
     "output_type": "stream",
     "text": [
      "[CV 2/3] END activation=relu, hidden_layer_sizes=5, learning_rate_init=0.05;, score=0.805 total time=   1.8s\n",
      "[CV 2/3] END activation=logistic, hidden_layer_sizes=15, learning_rate_init=0.001;, score=0.804 total time=   9.3s\n"
     ]
    },
    {
     "name": "stderr",
     "output_type": "stream",
     "text": [
      "/root/.cache/pypoetry/virtualenvs/sin5007-lcGWJnmY-py3.11/lib/python3.11/site-packages/sklearn/neural_network/_multilayer_perceptron.py:690: ConvergenceWarning: Stochastic Optimizer: Maximum iterations (200) reached and the optimization hasn't converged yet.\n",
      "  warnings.warn(\n"
     ]
    },
    {
     "name": "stdout",
     "output_type": "stream",
     "text": [
      "[CV 2/3] END activation=relu, hidden_layer_sizes=5, learning_rate_init=0.1;, score=0.808 total time=   1.0s\n",
      "[CV 2/3] END activation=relu, hidden_layer_sizes=5, learning_rate_init=0.01;, score=0.805 total time=   3.3s\n",
      "[CV 2/3] END activation=relu, hidden_layer_sizes=5, learning_rate_init=0.001;, score=0.801 total time=   4.5s\n",
      "[CV 3/3] END activation=relu, hidden_layer_sizes=5, learning_rate_init=0.1;, score=0.789 total time=   1.1s\n",
      "[CV 3/3] END activation=relu, hidden_layer_sizes=5, learning_rate_init=0.001;, score=0.804 total time=   4.4s\n"
     ]
    },
    {
     "name": "stderr",
     "output_type": "stream",
     "text": [
      "/root/.cache/pypoetry/virtualenvs/sin5007-lcGWJnmY-py3.11/lib/python3.11/site-packages/sklearn/neural_network/_multilayer_perceptron.py:690: ConvergenceWarning: Stochastic Optimizer: Maximum iterations (200) reached and the optimization hasn't converged yet.\n",
      "  warnings.warn(\n"
     ]
    },
    {
     "name": "stdout",
     "output_type": "stream",
     "text": [
      "[CV 3/3] END activation=logistic, hidden_layer_sizes=15, learning_rate_init=0.001;, score=0.804 total time=  10.4s\n",
      "[CV 1/3] END activation=relu, hidden_layer_sizes=5, learning_rate_init=0.1;, score=0.807 total time=   2.4s\n",
      "[CV 3/3] END activation=relu, hidden_layer_sizes=10, learning_rate_init=0.05;, score=0.807 total time=   1.0s\n",
      "[CV 1/3] END activation=relu, hidden_layer_sizes=10, learning_rate_init=0.1;, score=0.812 total time=   1.2s\n",
      "[CV 2/3] END activation=relu, hidden_layer_sizes=10, learning_rate_init=0.05;, score=0.803 total time=   1.7s\n",
      "[CV 2/3] END activation=relu, hidden_layer_sizes=10, learning_rate_init=0.01;, score=0.802 total time=   2.5s\n",
      "[CV 1/3] END activation=relu, hidden_layer_sizes=10, learning_rate_init=0.05;, score=0.799 total time=   2.1s\n",
      "[CV 2/3] END activation=relu, hidden_layer_sizes=10, learning_rate_init=0.1;, score=0.802 total time=   1.4s\n",
      "[CV 3/3] END activation=relu, hidden_layer_sizes=10, learning_rate_init=0.01;, score=0.803 total time=   2.5s\n",
      "[CV 3/3] END activation=relu, hidden_layer_sizes=10, learning_rate_init=0.1;, score=0.799 total time=   1.5s\n",
      "[CV 1/3] END activation=relu, hidden_layer_sizes=10, learning_rate_init=0.01;, score=0.810 total time=   3.9s\n",
      "[CV 2/3] END activation=relu, hidden_layer_sizes=15, learning_rate_init=0.05;, score=0.800 total time=   1.4s\n",
      "[CV 3/3] END activation=relu, hidden_layer_sizes=10, learning_rate_init=0.001;, score=0.807 total time=   7.3s\n",
      "[CV 1/3] END activation=relu, hidden_layer_sizes=15, learning_rate_init=0.01;, score=0.812 total time=   5.0s\n",
      "[CV 2/3] END activation=relu, hidden_layer_sizes=15, learning_rate_init=0.01;, score=0.795 total time=   5.4s\n",
      "[CV 3/3] END activation=relu, hidden_layer_sizes=15, learning_rate_init=0.01;, score=0.807 total time=   5.6s\n",
      "[CV 3/3] END activation=relu, hidden_layer_sizes=15, learning_rate_init=0.1;, score=0.809 total time=   0.9s\n",
      "[CV 2/3] END activation=relu, hidden_layer_sizes=15, learning_rate_init=0.1;, score=0.785 total time=   1.5s\n",
      "[CV 1/3] END activation=relu, hidden_layer_sizes=15, learning_rate_init=0.05;, score=0.800 total time=   5.9s\n",
      "[CV 3/3] END activation=relu, hidden_layer_sizes=15, learning_rate_init=0.05;, score=0.804 total time=   4.9s\n",
      "[CV 1/3] END activation=relu, hidden_layer_sizes=15, learning_rate_init=0.1;, score=0.808 total time=   4.5s\n",
      "[CV 1/3] END activation=relu, hidden_layer_sizes=10, learning_rate_init=0.001;, score=0.804 total time=   9.6s\n",
      "[CV 2/3] END activation=relu, hidden_layer_sizes=10, learning_rate_init=0.001;, score=0.802 total time=   9.9s\n"
     ]
    },
    {
     "name": "stderr",
     "output_type": "stream",
     "text": [
      "/root/.cache/pypoetry/virtualenvs/sin5007-lcGWJnmY-py3.11/lib/python3.11/site-packages/sklearn/neural_network/_multilayer_perceptron.py:690: ConvergenceWarning: Stochastic Optimizer: Maximum iterations (200) reached and the optimization hasn't converged yet.\n",
      "  warnings.warn(\n",
      "/root/.cache/pypoetry/virtualenvs/sin5007-lcGWJnmY-py3.11/lib/python3.11/site-packages/sklearn/neural_network/_multilayer_perceptron.py:690: ConvergenceWarning: Stochastic Optimizer: Maximum iterations (200) reached and the optimization hasn't converged yet.\n",
      "  warnings.warn(\n"
     ]
    },
    {
     "name": "stdout",
     "output_type": "stream",
     "text": [
      "[CV 1/3] END activation=relu, hidden_layer_sizes=15, learning_rate_init=0.001;, score=0.807 total time=   9.2s\n",
      "[CV 2/3] END activation=relu, hidden_layer_sizes=15, learning_rate_init=0.001;, score=0.800 total time=   9.0s\n"
     ]
    },
    {
     "name": "stderr",
     "output_type": "stream",
     "text": [
      "/root/.cache/pypoetry/virtualenvs/sin5007-lcGWJnmY-py3.11/lib/python3.11/site-packages/sklearn/neural_network/_multilayer_perceptron.py:690: ConvergenceWarning: Stochastic Optimizer: Maximum iterations (200) reached and the optimization hasn't converged yet.\n",
      "  warnings.warn(\n"
     ]
    },
    {
     "name": "stdout",
     "output_type": "stream",
     "text": [
      "[CV 3/3] END activation=relu, hidden_layer_sizes=15, learning_rate_init=0.001;, score=0.803 total time=   8.7s\n",
      "===> 2024-10-28 15:38:27.913304 | FINALIZADO FOLD 1 | TEMPO TOTAL 0:00:28.737294\n",
      "\n",
      "====> 2024-10-28 15:38:27.914001 | EXECUTANDO FOLD 2 \n",
      "Fitting 3 folds for each of 24 candidates, totalling 72 fits\n",
      "[CV 3/3] END activation=logistic, hidden_layer_sizes=5, learning_rate_init=0.05;, score=0.800 total time=   1.1s\n",
      "[CV 2/3] END activation=logistic, hidden_layer_sizes=5, learning_rate_init=0.05;, score=0.800 total time=   1.3s\n",
      "[CV 2/3] END activation=logistic, hidden_layer_sizes=5, learning_rate_init=0.1;, score=0.784 total time=   1.7s\n",
      "[CV 3/3] END activation=logistic, hidden_layer_sizes=5, learning_rate_init=0.1;, score=0.795 total time=   1.9s\n",
      "[CV 1/3] END activation=logistic, hidden_layer_sizes=5, learning_rate_init=0.1;, score=0.798 total time=   1.9s\n",
      "[CV 1/3] END activation=logistic, hidden_layer_sizes=5, learning_rate_init=0.05;, score=0.802 total time=   2.1s\n",
      "[CV 3/3] END activation=logistic, hidden_layer_sizes=5, learning_rate_init=0.01;, score=0.801 total time=   3.2s\n",
      "[CV 2/3] END activation=logistic, hidden_layer_sizes=5, learning_rate_init=0.01;, score=0.803 total time=   3.3s\n",
      "[CV 1/3] END activation=logistic, hidden_layer_sizes=5, learning_rate_init=0.01;, score=0.803 total time=   4.4s\n",
      "[CV 2/3] END activation=logistic, hidden_layer_sizes=10, learning_rate_init=0.05;, score=0.806 total time=   1.5s\n",
      "[CV 1/3] END activation=logistic, hidden_layer_sizes=10, learning_rate_init=0.001;, score=0.794 total time=   4.2s\n",
      "[CV 2/3] END activation=logistic, hidden_layer_sizes=10, learning_rate_init=0.001;, score=0.800 total time=   4.4s\n",
      "[CV 3/3] END activation=logistic, hidden_layer_sizes=5, learning_rate_init=0.001;, score=0.799 total time=   5.8s\n",
      "[CV 1/3] END activation=logistic, hidden_layer_sizes=10, learning_rate_init=0.05;, score=0.794 total time=   2.9s\n",
      "[CV 3/3] END activation=logistic, hidden_layer_sizes=10, learning_rate_init=0.05;, score=0.808 total time=   1.9s\n",
      "[CV 2/3] END activation=logistic, hidden_layer_sizes=5, learning_rate_init=0.001;, score=0.799 total time=   6.4s\n",
      "[CV 2/3] END activation=logistic, hidden_layer_sizes=10, learning_rate_init=0.01;, score=0.800 total time=   4.5s\n",
      "[CV 2/3] END activation=logistic, hidden_layer_sizes=10, learning_rate_init=0.1;, score=0.806 total time=   1.3s\n",
      "[CV 3/3] END activation=logistic, hidden_layer_sizes=10, learning_rate_init=0.01;, score=0.807 total time=   4.9s\n",
      "[CV 3/3] END activation=logistic, hidden_layer_sizes=10, learning_rate_init=0.001;, score=0.802 total time=   5.4s\n",
      "[CV 1/3] END activation=logistic, hidden_layer_sizes=10, learning_rate_init=0.01;, score=0.794 total time=   5.2s\n",
      "[CV 3/3] END activation=logistic, hidden_layer_sizes=10, learning_rate_init=0.1;, score=0.810 total time=   2.0s\n",
      "[CV 1/3] END activation=logistic, hidden_layer_sizes=10, learning_rate_init=0.1;, score=0.790 total time=   3.2s\n",
      "[CV 1/3] END activation=logistic, hidden_layer_sizes=5, learning_rate_init=0.001;, score=0.796 total time=   8.3s\n",
      "[CV 2/3] END activation=logistic, hidden_layer_sizes=15, learning_rate_init=0.05;, score=0.793 total time=   3.0s\n",
      "[CV 1/3] END activation=logistic, hidden_layer_sizes=15, learning_rate_init=0.1;, score=0.796 total time=   2.6s\n",
      "[CV 1/3] END activation=logistic, hidden_layer_sizes=15, learning_rate_init=0.05;, score=0.797 total time=   3.5s\n",
      "[CV 2/3] END activation=logistic, hidden_layer_sizes=15, learning_rate_init=0.1;, score=0.800 total time=   2.9s\n",
      "[CV 3/3] END activation=logistic, hidden_layer_sizes=15, learning_rate_init=0.1;, score=0.802 total time=   2.9s\n",
      "[CV 3/3] END activation=logistic, hidden_layer_sizes=15, learning_rate_init=0.05;, score=0.791 total time=   4.8s\n",
      "[CV 1/3] END activation=logistic, hidden_layer_sizes=15, learning_rate_init=0.01;, score=0.793 total time=   6.3s\n",
      "[CV 3/3] END activation=logistic, hidden_layer_sizes=15, learning_rate_init=0.01;, score=0.805 total time=   6.3s\n",
      "[CV 1/3] END activation=relu, hidden_layer_sizes=5, learning_rate_init=0.01;, score=0.795 total time=   2.1s\n",
      "[CV 3/3] END activation=relu, hidden_layer_sizes=5, learning_rate_init=0.01;, score=0.803 total time=   1.9s\n",
      "[CV 3/3] END activation=relu, hidden_layer_sizes=5, learning_rate_init=0.05;, score=0.800 total time=   1.2s\n",
      "[CV 2/3] END activation=relu, hidden_layer_sizes=5, learning_rate_init=0.01;, score=0.804 total time=   3.3s\n",
      "[CV 1/3] END activation=relu, hidden_layer_sizes=5, learning_rate_init=0.05;, score=0.795 total time=   1.9s\n",
      "[CV 1/3] END activation=relu, hidden_layer_sizes=5, learning_rate_init=0.001;, score=0.794 total time=   4.7s\n",
      "[CV 1/3] END activation=logistic, hidden_layer_sizes=15, learning_rate_init=0.001;, score=0.795 total time=   9.3s\n"
     ]
    },
    {
     "name": "stderr",
     "output_type": "stream",
     "text": [
      "/root/.cache/pypoetry/virtualenvs/sin5007-lcGWJnmY-py3.11/lib/python3.11/site-packages/sklearn/neural_network/_multilayer_perceptron.py:690: ConvergenceWarning: Stochastic Optimizer: Maximum iterations (200) reached and the optimization hasn't converged yet.\n",
      "  warnings.warn(\n"
     ]
    },
    {
     "name": "stdout",
     "output_type": "stream",
     "text": [
      "[CV 2/3] END activation=logistic, hidden_layer_sizes=15, learning_rate_init=0.01;, score=0.802 total time=   8.7s\n"
     ]
    },
    {
     "name": "stderr",
     "output_type": "stream",
     "text": [
      "/root/.cache/pypoetry/virtualenvs/sin5007-lcGWJnmY-py3.11/lib/python3.11/site-packages/sklearn/neural_network/_multilayer_perceptron.py:690: ConvergenceWarning: Stochastic Optimizer: Maximum iterations (200) reached and the optimization hasn't converged yet.\n",
      "  warnings.warn(\n"
     ]
    },
    {
     "name": "stdout",
     "output_type": "stream",
     "text": [
      "[CV 3/3] END activation=logistic, hidden_layer_sizes=15, learning_rate_init=0.001;, score=0.804 total time=   9.3s\n",
      "[CV 2/3] END activation=relu, hidden_layer_sizes=5, learning_rate_init=0.1;, score=0.799 total time=   1.3s\n",
      "[CV 3/3] END activation=relu, hidden_layer_sizes=5, learning_rate_init=0.001;, score=0.802 total time=   5.1s\n"
     ]
    },
    {
     "name": "stderr",
     "output_type": "stream",
     "text": [
      "/root/.cache/pypoetry/virtualenvs/sin5007-lcGWJnmY-py3.11/lib/python3.11/site-packages/sklearn/neural_network/_multilayer_perceptron.py:690: ConvergenceWarning: Stochastic Optimizer: Maximum iterations (200) reached and the optimization hasn't converged yet.\n",
      "  warnings.warn(\n"
     ]
    },
    {
     "name": "stdout",
     "output_type": "stream",
     "text": [
      "[CV 2/3] END activation=logistic, hidden_layer_sizes=15, learning_rate_init=0.001;, score=0.803 total time=   9.7s\n",
      "[CV 3/3] END activation=relu, hidden_layer_sizes=5, learning_rate_init=0.1;, score=0.801 total time=   1.6s\n",
      "[CV 2/3] END activation=relu, hidden_layer_sizes=5, learning_rate_init=0.05;, score=0.809 total time=   3.0s\n",
      "[CV 1/3] END activation=relu, hidden_layer_sizes=5, learning_rate_init=0.1;, score=0.799 total time=   2.2s\n",
      "[CV 2/3] END activation=relu, hidden_layer_sizes=10, learning_rate_init=0.1;, score=0.803 total time=   0.8s\n",
      "[CV 2/3] END activation=relu, hidden_layer_sizes=5, learning_rate_init=0.001;, score=0.798 total time=   6.7s\n",
      "[CV 1/3] END activation=relu, hidden_layer_sizes=10, learning_rate_init=0.1;, score=0.803 total time=   1.2s\n",
      "[CV 2/3] END activation=relu, hidden_layer_sizes=10, learning_rate_init=0.05;, score=0.806 total time=   1.4s\n",
      "[CV 1/3] END activation=relu, hidden_layer_sizes=10, learning_rate_init=0.05;, score=0.794 total time=   1.9s\n",
      "[CV 3/3] END activation=relu, hidden_layer_sizes=10, learning_rate_init=0.1;, score=0.806 total time=   1.2s\n",
      "[CV 2/3] END activation=relu, hidden_layer_sizes=10, learning_rate_init=0.01;, score=0.802 total time=   2.7s\n",
      "[CV 3/3] END activation=relu, hidden_layer_sizes=10, learning_rate_init=0.01;, score=0.806 total time=   3.3s\n",
      "[CV 3/3] END activation=relu, hidden_layer_sizes=10, learning_rate_init=0.05;, score=0.801 total time=   3.2s\n",
      "[CV 1/3] END activation=relu, hidden_layer_sizes=10, learning_rate_init=0.01;, score=0.803 total time=   4.3s\n",
      "[CV 1/3] END activation=relu, hidden_layer_sizes=15, learning_rate_init=0.01;, score=0.801 total time=   3.4s\n",
      "[CV 3/3] END activation=relu, hidden_layer_sizes=15, learning_rate_init=0.05;, score=0.806 total time=   2.5s\n",
      "[CV 3/3] END activation=relu, hidden_layer_sizes=10, learning_rate_init=0.001;, score=0.807 total time=   7.0s\n",
      "[CV 3/3] END activation=relu, hidden_layer_sizes=15, learning_rate_init=0.01;, score=0.802 total time=   4.5s\n",
      "[CV 2/3] END activation=relu, hidden_layer_sizes=15, learning_rate_init=0.05;, score=0.801 total time=   3.8s\n",
      "[CV 1/3] END activation=relu, hidden_layer_sizes=10, learning_rate_init=0.001;, score=0.796 total time=   8.7s\n",
      "[CV 3/3] END activation=relu, hidden_layer_sizes=15, learning_rate_init=0.1;, score=0.799 total time=   1.9s\n",
      "[CV 2/3] END activation=relu, hidden_layer_sizes=15, learning_rate_init=0.1;, score=0.801 total time=   2.0s\n",
      "[CV 1/3] END activation=relu, hidden_layer_sizes=15, learning_rate_init=0.05;, score=0.793 total time=   5.0s\n",
      "[CV 1/3] END activation=relu, hidden_layer_sizes=15, learning_rate_init=0.1;, score=0.802 total time=   3.4s\n",
      "[CV 2/3] END activation=relu, hidden_layer_sizes=15, learning_rate_init=0.01;, score=0.797 total time=   6.4s\n",
      "[CV 3/3] END activation=relu, hidden_layer_sizes=15, learning_rate_init=0.001;, score=0.807 total time=   7.9s\n",
      "[CV 2/3] END activation=relu, hidden_layer_sizes=10, learning_rate_init=0.001;, score=0.804 total time=  10.7s\n"
     ]
    },
    {
     "name": "stderr",
     "output_type": "stream",
     "text": [
      "/root/.cache/pypoetry/virtualenvs/sin5007-lcGWJnmY-py3.11/lib/python3.11/site-packages/sklearn/neural_network/_multilayer_perceptron.py:690: ConvergenceWarning: Stochastic Optimizer: Maximum iterations (200) reached and the optimization hasn't converged yet.\n",
      "  warnings.warn(\n"
     ]
    },
    {
     "name": "stdout",
     "output_type": "stream",
     "text": [
      "[CV 2/3] END activation=relu, hidden_layer_sizes=15, learning_rate_init=0.001;, score=0.804 total time=   9.3s\n"
     ]
    },
    {
     "name": "stderr",
     "output_type": "stream",
     "text": [
      "/root/.cache/pypoetry/virtualenvs/sin5007-lcGWJnmY-py3.11/lib/python3.11/site-packages/sklearn/neural_network/_multilayer_perceptron.py:690: ConvergenceWarning: Stochastic Optimizer: Maximum iterations (200) reached and the optimization hasn't converged yet.\n",
      "  warnings.warn(\n"
     ]
    },
    {
     "name": "stdout",
     "output_type": "stream",
     "text": [
      "[CV 1/3] END activation=relu, hidden_layer_sizes=15, learning_rate_init=0.001;, score=0.795 total time=   9.8s\n",
      "===> 2024-10-28 15:38:57.544570 | FINALIZADO FOLD 2 | TEMPO TOTAL 0:00:29.630569\n",
      "\n",
      "====> 2024-10-28 15:38:57.545327 | EXECUTANDO FOLD 3 \n",
      "Fitting 3 folds for each of 24 candidates, totalling 72 fits\n",
      "[CV 2/3] END activation=logistic, hidden_layer_sizes=5, learning_rate_init=0.1;, score=0.799 total time=   1.3s\n",
      "[CV 1/3] END activation=logistic, hidden_layer_sizes=5, learning_rate_init=0.1;, score=0.806 total time=   1.5s\n",
      "[CV 3/3] END activation=logistic, hidden_layer_sizes=5, learning_rate_init=0.05;, score=0.803 total time=   1.5s\n",
      "[CV 3/3] END activation=logistic, hidden_layer_sizes=5, learning_rate_init=0.1;, score=0.801 total time=   1.7s\n",
      "[CV 2/3] END activation=logistic, hidden_layer_sizes=5, learning_rate_init=0.05;, score=0.797 total time=   2.5s\n",
      "[CV 1/3] END activation=logistic, hidden_layer_sizes=5, learning_rate_init=0.05;, score=0.808 total time=   2.7s\n",
      "[CV 3/3] END activation=logistic, hidden_layer_sizes=5, learning_rate_init=0.01;, score=0.803 total time=   3.4s\n",
      "[CV 1/3] END activation=logistic, hidden_layer_sizes=5, learning_rate_init=0.01;, score=0.810 total time=   4.6s\n",
      "[CV 3/3] END activation=logistic, hidden_layer_sizes=5, learning_rate_init=0.001;, score=0.797 total time=   5.5s\n",
      "[CV 1/3] END activation=logistic, hidden_layer_sizes=10, learning_rate_init=0.01;, score=0.803 total time=   3.9s\n",
      "[CV 2/3] END activation=logistic, hidden_layer_sizes=5, learning_rate_init=0.01;, score=0.799 total time=   5.8s\n",
      "[CV 1/3] END activation=logistic, hidden_layer_sizes=10, learning_rate_init=0.05;, score=0.808 total time=   2.8s\n",
      "[CV 1/3] END activation=logistic, hidden_layer_sizes=10, learning_rate_init=0.1;, score=0.805 total time=   1.4s\n",
      "[CV 2/3] END activation=logistic, hidden_layer_sizes=10, learning_rate_init=0.05;, score=0.805 total time=   2.6s\n",
      "[CV 2/3] END activation=logistic, hidden_layer_sizes=10, learning_rate_init=0.1;, score=0.807 total time=   1.5s\n",
      "[CV 3/3] END activation=logistic, hidden_layer_sizes=10, learning_rate_init=0.01;, score=0.808 total time=   4.8s\n",
      "[CV 3/3] END activation=logistic, hidden_layer_sizes=10, learning_rate_init=0.05;, score=0.801 total time=   2.6s\n",
      "[CV 2/3] END activation=logistic, hidden_layer_sizes=5, learning_rate_init=0.001;, score=0.802 total time=   8.7s\n",
      "[CV 2/3] END activation=logistic, hidden_layer_sizes=10, learning_rate_init=0.01;, score=0.805 total time=   6.3s\n",
      "[CV 1/3] END activation=logistic, hidden_layer_sizes=5, learning_rate_init=0.001;, score=0.805 total time=   9.0s\n",
      "[CV 3/3] END activation=logistic, hidden_layer_sizes=10, learning_rate_init=0.1;, score=0.803 total time=   2.9s\n",
      "[CV 3/3] END activation=logistic, hidden_layer_sizes=10, learning_rate_init=0.001;, score=0.803 total time=   9.2s\n"
     ]
    },
    {
     "name": "stderr",
     "output_type": "stream",
     "text": [
      "/root/.cache/pypoetry/virtualenvs/sin5007-lcGWJnmY-py3.11/lib/python3.11/site-packages/sklearn/neural_network/_multilayer_perceptron.py:690: ConvergenceWarning: Stochastic Optimizer: Maximum iterations (200) reached and the optimization hasn't converged yet.\n",
      "  warnings.warn(\n",
      "/root/.cache/pypoetry/virtualenvs/sin5007-lcGWJnmY-py3.11/lib/python3.11/site-packages/sklearn/neural_network/_multilayer_perceptron.py:690: ConvergenceWarning: Stochastic Optimizer: Maximum iterations (200) reached and the optimization hasn't converged yet.\n",
      "  warnings.warn(\n"
     ]
    },
    {
     "name": "stdout",
     "output_type": "stream",
     "text": [
      "[CV 2/3] END activation=logistic, hidden_layer_sizes=10, learning_rate_init=0.001;, score=0.802 total time=   9.6s\n",
      "[CV 1/3] END activation=logistic, hidden_layer_sizes=10, learning_rate_init=0.001;, score=0.802 total time=   9.8s\n",
      "[CV 1/3] END activation=logistic, hidden_layer_sizes=15, learning_rate_init=0.1;, score=0.792 total time=   1.6s\n",
      "[CV 2/3] END activation=logistic, hidden_layer_sizes=15, learning_rate_init=0.05;, score=0.802 total time=   3.7s\n",
      "[CV 1/3] END activation=logistic, hidden_layer_sizes=15, learning_rate_init=0.05;, score=0.801 total time=   4.9s\n",
      "[CV 2/3] END activation=logistic, hidden_layer_sizes=15, learning_rate_init=0.1;, score=0.797 total time=   2.9s\n",
      "[CV 3/3] END activation=logistic, hidden_layer_sizes=15, learning_rate_init=0.1;, score=0.804 total time=   3.3s\n",
      "[CV 3/3] END activation=logistic, hidden_layer_sizes=15, learning_rate_init=0.05;, score=0.809 total time=   6.3s\n",
      "[CV 1/3] END activation=logistic, hidden_layer_sizes=15, learning_rate_init=0.01;, score=0.797 total time=   8.0s\n",
      "[CV 2/3] END activation=relu, hidden_layer_sizes=5, learning_rate_init=0.01;, score=0.801 total time=   1.9s\n",
      "[CV 1/3] END activation=relu, hidden_layer_sizes=5, learning_rate_init=0.01;, score=0.799 total time=   2.5s\n"
     ]
    },
    {
     "name": "stderr",
     "output_type": "stream",
     "text": [
      "/root/.cache/pypoetry/virtualenvs/sin5007-lcGWJnmY-py3.11/lib/python3.11/site-packages/sklearn/neural_network/_multilayer_perceptron.py:690: ConvergenceWarning: Stochastic Optimizer: Maximum iterations (200) reached and the optimization hasn't converged yet.\n",
      "  warnings.warn(\n"
     ]
    },
    {
     "name": "stdout",
     "output_type": "stream",
     "text": [
      "[CV 2/3] END activation=logistic, hidden_layer_sizes=15, learning_rate_init=0.001;, score=0.803 total time=   9.5s\n",
      "[CV 1/3] END activation=relu, hidden_layer_sizes=5, learning_rate_init=0.05;, score=0.807 total time=   1.5s\n",
      "[CV 1/3] END activation=logistic, hidden_layer_sizes=15, learning_rate_init=0.001;, score=0.803 total time=  10.2s\n"
     ]
    },
    {
     "name": "stderr",
     "output_type": "stream",
     "text": [
      "/root/.cache/pypoetry/virtualenvs/sin5007-lcGWJnmY-py3.11/lib/python3.11/site-packages/sklearn/neural_network/_multilayer_perceptron.py:690: ConvergenceWarning: Stochastic Optimizer: Maximum iterations (200) reached and the optimization hasn't converged yet.\n",
      "  warnings.warn(\n"
     ]
    },
    {
     "name": "stdout",
     "output_type": "stream",
     "text": [
      "[CV 1/3] END activation=relu, hidden_layer_sizes=5, learning_rate_init=0.001;, score=0.802 total time=   5.0s\n",
      "[CV 2/3] END activation=relu, hidden_layer_sizes=5, learning_rate_init=0.001;, score=0.800 total time=   4.8s\n",
      "[CV 3/3] END activation=logistic, hidden_layer_sizes=15, learning_rate_init=0.001;, score=0.803 total time=  10.2s\n"
     ]
    },
    {
     "name": "stderr",
     "output_type": "stream",
     "text": [
      "/root/.cache/pypoetry/virtualenvs/sin5007-lcGWJnmY-py3.11/lib/python3.11/site-packages/sklearn/neural_network/_multilayer_perceptron.py:690: ConvergenceWarning: Stochastic Optimizer: Maximum iterations (200) reached and the optimization hasn't converged yet.\n",
      "  warnings.warn(\n"
     ]
    },
    {
     "name": "stdout",
     "output_type": "stream",
     "text": [
      "[CV 1/3] END activation=relu, hidden_layer_sizes=5, learning_rate_init=0.1;, score=0.804 total time=   1.4s\n",
      "[CV 2/3] END activation=logistic, hidden_layer_sizes=15, learning_rate_init=0.01;, score=0.800 total time=  10.2s\n",
      "[CV 3/3] END activation=relu, hidden_layer_sizes=5, learning_rate_init=0.1;, score=0.807 total time=   1.1s\n",
      "[CV 2/3] END activation=relu, hidden_layer_sizes=5, learning_rate_init=0.05;, score=0.794 total time=   2.0s\n",
      "[CV 2/3] END activation=relu, hidden_layer_sizes=5, learning_rate_init=0.1;, score=0.792 total time=   1.3s\n",
      "[CV 3/3] END activation=logistic, hidden_layer_sizes=15, learning_rate_init=0.01;, score=0.813 total time=   9.9s\n",
      "[CV 3/3] END activation=relu, hidden_layer_sizes=5, learning_rate_init=0.01;, score=0.800 total time=   3.3s\n",
      "[CV 3/3] END activation=relu, hidden_layer_sizes=5, learning_rate_init=0.05;, score=0.810 total time=   2.2s\n",
      "[CV 3/3] END activation=relu, hidden_layer_sizes=5, learning_rate_init=0.001;, score=0.803 total time=   5.2s\n",
      "[CV 1/3] END activation=relu, hidden_layer_sizes=10, learning_rate_init=0.05;, score=0.807 total time=   1.9s\n",
      "[CV 2/3] END activation=relu, hidden_layer_sizes=10, learning_rate_init=0.1;, score=0.791 total time=   1.6s\n",
      "[CV 2/3] END activation=relu, hidden_layer_sizes=10, learning_rate_init=0.05;, score=0.809 total time=   2.0s\n",
      "[CV 3/3] END activation=relu, hidden_layer_sizes=10, learning_rate_init=0.1;, score=0.807 total time=   1.6s\n",
      "[CV 1/3] END activation=relu, hidden_layer_sizes=10, learning_rate_init=0.1;, score=0.808 total time=   1.8s\n",
      "[CV 3/3] END activation=relu, hidden_layer_sizes=10, learning_rate_init=0.05;, score=0.803 total time=   2.8s\n",
      "[CV 2/3] END activation=relu, hidden_layer_sizes=10, learning_rate_init=0.01;, score=0.805 total time=   3.4s\n",
      "[CV 3/3] END activation=relu, hidden_layer_sizes=10, learning_rate_init=0.01;, score=0.807 total time=   4.1s\n",
      "[CV 1/3] END activation=relu, hidden_layer_sizes=10, learning_rate_init=0.01;, score=0.808 total time=   4.6s\n",
      "[CV 3/3] END activation=relu, hidden_layer_sizes=15, learning_rate_init=0.05;, score=0.804 total time=   1.4s\n",
      "[CV 2/3] END activation=relu, hidden_layer_sizes=15, learning_rate_init=0.01;, score=0.798 total time=   4.5s\n",
      "[CV 1/3] END activation=relu, hidden_layer_sizes=15, learning_rate_init=0.1;, score=0.806 total time=   1.1s\n",
      "[CV 1/3] END activation=relu, hidden_layer_sizes=15, learning_rate_init=0.01;, score=0.800 total time=   4.6s\n",
      "[CV 3/3] END activation=relu, hidden_layer_sizes=15, learning_rate_init=0.01;, score=0.808 total time=   3.8s\n",
      "[CV 1/3] END activation=relu, hidden_layer_sizes=10, learning_rate_init=0.001;, score=0.805 total time=   7.9s\n",
      "[CV 2/3] END activation=relu, hidden_layer_sizes=15, learning_rate_init=0.05;, score=0.800 total time=   2.9s\n",
      "[CV 1/3] END activation=relu, hidden_layer_sizes=15, learning_rate_init=0.05;, score=0.803 total time=   3.8s\n",
      "[CV 3/3] END activation=relu, hidden_layer_sizes=10, learning_rate_init=0.001;, score=0.807 total time=   8.2s\n",
      "[CV 2/3] END activation=relu, hidden_layer_sizes=10, learning_rate_init=0.001;, score=0.802 total time=   8.5s\n",
      "[CV 3/3] END activation=relu, hidden_layer_sizes=15, learning_rate_init=0.1;, score=0.809 total time=   0.8s\n",
      "[CV 2/3] END activation=relu, hidden_layer_sizes=15, learning_rate_init=0.1;, score=0.808 total time=   1.0s\n",
      "[CV 3/3] END activation=relu, hidden_layer_sizes=15, learning_rate_init=0.001;, score=0.813 total time=   6.9s\n"
     ]
    },
    {
     "name": "stderr",
     "output_type": "stream",
     "text": [
      "/root/.cache/pypoetry/virtualenvs/sin5007-lcGWJnmY-py3.11/lib/python3.11/site-packages/sklearn/neural_network/_multilayer_perceptron.py:690: ConvergenceWarning: Stochastic Optimizer: Maximum iterations (200) reached and the optimization hasn't converged yet.\n",
      "  warnings.warn(\n",
      "/root/.cache/pypoetry/virtualenvs/sin5007-lcGWJnmY-py3.11/lib/python3.11/site-packages/sklearn/neural_network/_multilayer_perceptron.py:690: ConvergenceWarning: Stochastic Optimizer: Maximum iterations (200) reached and the optimization hasn't converged yet.\n",
      "  warnings.warn(\n"
     ]
    },
    {
     "name": "stdout",
     "output_type": "stream",
     "text": [
      "[CV 2/3] END activation=relu, hidden_layer_sizes=15, learning_rate_init=0.001;, score=0.804 total time=   7.3s\n",
      "[CV 1/3] END activation=relu, hidden_layer_sizes=15, learning_rate_init=0.001;, score=0.805 total time=   7.4s\n",
      "===> 2024-10-28 15:39:26.515149 | FINALIZADO FOLD 3 | TEMPO TOTAL 0:00:28.969822\n",
      "\n",
      "====> 2024-10-28 15:39:26.517220 | EXECUTANDO FOLD 4 \n",
      "Fitting 3 folds for each of 24 candidates, totalling 72 fits\n",
      "[CV 2/3] END activation=logistic, hidden_layer_sizes=5, learning_rate_init=0.1;, score=0.796 total time=   1.2s\n",
      "[CV 1/3] END activation=logistic, hidden_layer_sizes=5, learning_rate_init=0.1;, score=0.803 total time=   1.4s\n",
      "[CV 3/3] END activation=logistic, hidden_layer_sizes=5, learning_rate_init=0.05;, score=0.805 total time=   1.4s\n",
      "[CV 2/3] END activation=logistic, hidden_layer_sizes=5, learning_rate_init=0.05;, score=0.805 total time=   1.9s\n",
      "[CV 1/3] END activation=logistic, hidden_layer_sizes=5, learning_rate_init=0.05;, score=0.803 total time=   2.3s\n",
      "[CV 2/3] END activation=logistic, hidden_layer_sizes=5, learning_rate_init=0.01;, score=0.802 total time=   2.7s\n",
      "[CV 3/3] END activation=logistic, hidden_layer_sizes=5, learning_rate_init=0.1;, score=0.798 total time=   4.9s\n",
      "[CV 3/3] END activation=logistic, hidden_layer_sizes=5, learning_rate_init=0.01;, score=0.802 total time=   5.3s\n",
      "[CV 1/3] END activation=logistic, hidden_layer_sizes=5, learning_rate_init=0.01;, score=0.809 total time=   6.3s\n",
      "[CV 1/3] END activation=logistic, hidden_layer_sizes=10, learning_rate_init=0.05;, score=0.803 total time=   2.4s\n",
      "[CV 1/3] END activation=logistic, hidden_layer_sizes=10, learning_rate_init=0.01;, score=0.802 total time=   5.5s\n",
      "[CV 2/3] END activation=logistic, hidden_layer_sizes=10, learning_rate_init=0.05;, score=0.806 total time=   2.6s\n",
      "[CV 1/3] END activation=logistic, hidden_layer_sizes=10, learning_rate_init=0.1;, score=0.805 total time=   1.4s\n",
      "[CV 3/3] END activation=logistic, hidden_layer_sizes=10, learning_rate_init=0.05;, score=0.805 total time=   3.2s\n",
      "[CV 3/3] END activation=logistic, hidden_layer_sizes=5, learning_rate_init=0.001;, score=0.801 total time=   9.6s\n",
      "[CV 2/3] END activation=logistic, hidden_layer_sizes=10, learning_rate_init=0.1;, score=0.792 total time=   2.2s\n",
      "[CV 2/3] END activation=logistic, hidden_layer_sizes=5, learning_rate_init=0.001;, score=0.798 total time=   9.9s\n",
      "[CV 2/3] END activation=logistic, hidden_layer_sizes=10, learning_rate_init=0.01;, score=0.806 total time=   7.6s\n",
      "[CV 3/3] END activation=logistic, hidden_layer_sizes=10, learning_rate_init=0.01;, score=0.802 total time=   7.6s\n",
      "[CV 3/3] END activation=logistic, hidden_layer_sizes=10, learning_rate_init=0.1;, score=0.790 total time=   2.6s\n",
      "[CV 1/3] END activation=logistic, hidden_layer_sizes=5, learning_rate_init=0.001;, score=0.803 total time=  10.9s\n"
     ]
    },
    {
     "name": "stderr",
     "output_type": "stream",
     "text": [
      "/root/.cache/pypoetry/virtualenvs/sin5007-lcGWJnmY-py3.11/lib/python3.11/site-packages/sklearn/neural_network/_multilayer_perceptron.py:690: ConvergenceWarning: Stochastic Optimizer: Maximum iterations (200) reached and the optimization hasn't converged yet.\n",
      "  warnings.warn(\n"
     ]
    },
    {
     "name": "stdout",
     "output_type": "stream",
     "text": [
      "[CV 2/3] END activation=logistic, hidden_layer_sizes=10, learning_rate_init=0.001;, score=0.802 total time=  10.6s\n"
     ]
    },
    {
     "name": "stderr",
     "output_type": "stream",
     "text": [
      "/root/.cache/pypoetry/virtualenvs/sin5007-lcGWJnmY-py3.11/lib/python3.11/site-packages/sklearn/neural_network/_multilayer_perceptron.py:690: ConvergenceWarning: Stochastic Optimizer: Maximum iterations (200) reached and the optimization hasn't converged yet.\n",
      "  warnings.warn(\n"
     ]
    },
    {
     "name": "stdout",
     "output_type": "stream",
     "text": [
      "[CV 1/3] END activation=logistic, hidden_layer_sizes=10, learning_rate_init=0.001;, score=0.803 total time=  11.1s\n",
      "[CV 3/3] END activation=logistic, hidden_layer_sizes=10, learning_rate_init=0.001;, score=0.802 total time=  12.1s\n",
      "[CV 1/3] END activation=logistic, hidden_layer_sizes=15, learning_rate_init=0.05;, score=0.800 total time=   3.4s\n",
      "[CV 2/3] END activation=logistic, hidden_layer_sizes=15, learning_rate_init=0.1;, score=0.805 total time=   2.1s\n",
      "[CV 1/3] END activation=logistic, hidden_layer_sizes=15, learning_rate_init=0.1;, score=0.803 total time=   2.8s\n",
      "[CV 2/3] END activation=logistic, hidden_layer_sizes=15, learning_rate_init=0.05;, score=0.794 total time=   4.4s\n",
      "[CV 1/3] END activation=logistic, hidden_layer_sizes=15, learning_rate_init=0.01;, score=0.803 total time=   6.2s\n",
      "[CV 3/3] END activation=logistic, hidden_layer_sizes=15, learning_rate_init=0.1;, score=0.795 total time=   2.7s\n",
      "[CV 2/3] END activation=logistic, hidden_layer_sizes=15, learning_rate_init=0.01;, score=0.804 total time=   6.8s\n",
      "[CV 3/3] END activation=logistic, hidden_layer_sizes=15, learning_rate_init=0.01;, score=0.804 total time=   7.3s\n",
      "[CV 3/3] END activation=logistic, hidden_layer_sizes=15, learning_rate_init=0.05;, score=0.807 total time=   6.5s\n",
      "[CV 1/3] END activation=relu, hidden_layer_sizes=5, learning_rate_init=0.01;, score=0.795 total time=   2.5s\n",
      "[CV 2/3] END activation=relu, hidden_layer_sizes=5, learning_rate_init=0.01;, score=0.799 total time=   1.8s\n",
      "[CV 1/3] END activation=relu, hidden_layer_sizes=5, learning_rate_init=0.001;, score=0.801 total time=   4.2s\n",
      "[CV 2/3] END activation=relu, hidden_layer_sizes=5, learning_rate_init=0.05;, score=0.797 total time=   1.0s\n",
      "[CV 1/3] END activation=relu, hidden_layer_sizes=5, learning_rate_init=0.05;, score=0.803 total time=   1.7s\n",
      "[CV 1/3] END activation=logistic, hidden_layer_sizes=15, learning_rate_init=0.001;, score=0.803 total time=   9.7s\n"
     ]
    },
    {
     "name": "stderr",
     "output_type": "stream",
     "text": [
      "/root/.cache/pypoetry/virtualenvs/sin5007-lcGWJnmY-py3.11/lib/python3.11/site-packages/sklearn/neural_network/_multilayer_perceptron.py:690: ConvergenceWarning: Stochastic Optimizer: Maximum iterations (200) reached and the optimization hasn't converged yet.\n",
      "  warnings.warn(\n"
     ]
    },
    {
     "name": "stdout",
     "output_type": "stream",
     "text": [
      "[CV 2/3] END activation=relu, hidden_layer_sizes=5, learning_rate_init=0.1;, score=0.796 total time=   1.0s\n",
      "[CV 3/3] END activation=relu, hidden_layer_sizes=5, learning_rate_init=0.01;, score=0.800 total time=   2.4s\n",
      "[CV 3/3] END activation=relu, hidden_layer_sizes=5, learning_rate_init=0.05;, score=0.798 total time=   1.3s\n",
      "[CV 3/3] END activation=relu, hidden_layer_sizes=5, learning_rate_init=0.1;, score=0.803 total time=   0.9s\n",
      "[CV 2/3] END activation=relu, hidden_layer_sizes=5, learning_rate_init=0.001;, score=0.800 total time=   4.6s\n",
      "[CV 1/3] END activation=relu, hidden_layer_sizes=5, learning_rate_init=0.1;, score=0.801 total time=   1.6s\n",
      "[CV 3/3] END activation=logistic, hidden_layer_sizes=15, learning_rate_init=0.001;, score=0.803 total time=   9.6s\n"
     ]
    },
    {
     "name": "stderr",
     "output_type": "stream",
     "text": [
      "/root/.cache/pypoetry/virtualenvs/sin5007-lcGWJnmY-py3.11/lib/python3.11/site-packages/sklearn/neural_network/_multilayer_perceptron.py:690: ConvergenceWarning: Stochastic Optimizer: Maximum iterations (200) reached and the optimization hasn't converged yet.\n",
      "  warnings.warn(\n",
      "/root/.cache/pypoetry/virtualenvs/sin5007-lcGWJnmY-py3.11/lib/python3.11/site-packages/sklearn/neural_network/_multilayer_perceptron.py:690: ConvergenceWarning: Stochastic Optimizer: Maximum iterations (200) reached and the optimization hasn't converged yet.\n",
      "  warnings.warn(\n"
     ]
    },
    {
     "name": "stdout",
     "output_type": "stream",
     "text": [
      "[CV 2/3] END activation=logistic, hidden_layer_sizes=15, learning_rate_init=0.001;, score=0.800 total time=   9.9s\n",
      "[CV 3/3] END activation=relu, hidden_layer_sizes=5, learning_rate_init=0.001;, score=0.803 total time=   5.5s\n",
      "[CV 2/3] END activation=relu, hidden_layer_sizes=10, learning_rate_init=0.05;, score=0.800 total time=   1.3s\n",
      "[CV 1/3] END activation=relu, hidden_layer_sizes=10, learning_rate_init=0.1;, score=0.807 total time=   1.2s\n",
      "[CV 3/3] END activation=relu, hidden_layer_sizes=10, learning_rate_init=0.05;, score=0.803 total time=   1.8s\n",
      "[CV 1/3] END activation=relu, hidden_layer_sizes=10, learning_rate_init=0.05;, score=0.781 total time=   2.2s\n",
      "[CV 2/3] END activation=relu, hidden_layer_sizes=10, learning_rate_init=0.1;, score=0.800 total time=   1.6s\n",
      "[CV 2/3] END activation=relu, hidden_layer_sizes=10, learning_rate_init=0.01;, score=0.797 total time=   2.5s\n",
      "[CV 3/3] END activation=relu, hidden_layer_sizes=10, learning_rate_init=0.01;, score=0.804 total time=   3.0s\n",
      "[CV 1/3] END activation=relu, hidden_layer_sizes=10, learning_rate_init=0.01;, score=0.809 total time=   3.8s\n",
      "[CV 3/3] END activation=relu, hidden_layer_sizes=10, learning_rate_init=0.1;, score=0.809 total time=   2.2s\n",
      "[CV 3/3] END activation=relu, hidden_layer_sizes=15, learning_rate_init=0.05;, score=0.805 total time=   0.9s\n",
      "[CV 3/3] END activation=relu, hidden_layer_sizes=10, learning_rate_init=0.001;, score=0.807 total time=   5.4s\n",
      "[CV 3/3] END activation=relu, hidden_layer_sizes=15, learning_rate_init=0.01;, score=0.807 total time=   3.0s\n",
      "[CV 1/3] END activation=relu, hidden_layer_sizes=15, learning_rate_init=0.01;, score=0.801 total time=   3.4s\n",
      "[CV 2/3] END activation=relu, hidden_layer_sizes=10, learning_rate_init=0.001;, score=0.803 total time=   6.3s\n",
      "[CV 2/3] END activation=relu, hidden_layer_sizes=15, learning_rate_init=0.1;, score=0.797 total time=   0.9s\n",
      "[CV 1/3] END activation=relu, hidden_layer_sizes=15, learning_rate_init=0.1;, score=0.798 total time=   1.3s\n",
      "[CV 1/3] END activation=relu, hidden_layer_sizes=15, learning_rate_init=0.05;, score=0.801 total time=   3.2s\n",
      "[CV 1/3] END activation=relu, hidden_layer_sizes=10, learning_rate_init=0.001;, score=0.804 total time=   6.6s\n",
      "[CV 2/3] END activation=relu, hidden_layer_sizes=15, learning_rate_init=0.05;, score=0.803 total time=   2.6s\n",
      "[CV 3/3] END activation=relu, hidden_layer_sizes=15, learning_rate_init=0.1;, score=0.798 total time=   0.9s\n",
      "[CV 2/3] END activation=relu, hidden_layer_sizes=15, learning_rate_init=0.01;, score=0.804 total time=   4.1s\n",
      "[CV 3/3] END activation=relu, hidden_layer_sizes=15, learning_rate_init=0.001;, score=0.810 total time=   4.8s\n",
      "[CV 1/3] END activation=relu, hidden_layer_sizes=15, learning_rate_init=0.001;, score=0.805 total time=   5.7s\n"
     ]
    },
    {
     "name": "stderr",
     "output_type": "stream",
     "text": [
      "/root/.cache/pypoetry/virtualenvs/sin5007-lcGWJnmY-py3.11/lib/python3.11/site-packages/sklearn/neural_network/_multilayer_perceptron.py:690: ConvergenceWarning: Stochastic Optimizer: Maximum iterations (200) reached and the optimization hasn't converged yet.\n",
      "  warnings.warn(\n"
     ]
    },
    {
     "name": "stdout",
     "output_type": "stream",
     "text": [
      "[CV 2/3] END activation=relu, hidden_layer_sizes=15, learning_rate_init=0.001;, score=0.799 total time=   6.2s\n",
      "===> 2024-10-28 15:39:53.801820 | FINALIZADO FOLD 4 | TEMPO TOTAL 0:00:27.284600\n",
      "\n",
      "====> 2024-10-28 15:39:53.802509 | EXECUTANDO FOLD 5 \n",
      "Fitting 3 folds for each of 24 candidates, totalling 72 fits\n",
      "[CV 1/3] END activation=logistic, hidden_layer_sizes=5, learning_rate_init=0.1;, score=0.801 total time=   1.1s\n",
      "[CV 2/3] END activation=logistic, hidden_layer_sizes=5, learning_rate_init=0.1;, score=0.802 total time=   1.1s\n",
      "[CV 3/3] END activation=logistic, hidden_layer_sizes=5, learning_rate_init=0.1;, score=0.805 total time=   1.4s\n",
      "[CV 2/3] END activation=logistic, hidden_layer_sizes=5, learning_rate_init=0.05;, score=0.796 total time=   1.7s\n",
      "[CV 3/3] END activation=logistic, hidden_layer_sizes=5, learning_rate_init=0.05;, score=0.804 total time=   2.0s\n",
      "[CV 1/3] END activation=logistic, hidden_layer_sizes=5, learning_rate_init=0.01;, score=0.809 total time=   2.4s\n",
      "[CV 1/3] END activation=logistic, hidden_layer_sizes=5, learning_rate_init=0.05;, score=0.808 total time=   2.4s\n",
      "[CV 2/3] END activation=logistic, hidden_layer_sizes=5, learning_rate_init=0.01;, score=0.794 total time=   2.9s\n",
      "[CV 3/3] END activation=logistic, hidden_layer_sizes=5, learning_rate_init=0.01;, score=0.803 total time=   3.3s\n",
      "[CV 1/3] END activation=logistic, hidden_layer_sizes=10, learning_rate_init=0.05;, score=0.800 total time=   2.0s\n",
      "[CV 2/3] END activation=logistic, hidden_layer_sizes=10, learning_rate_init=0.05;, score=0.805 total time=   2.6s\n",
      "[CV 3/3] END activation=logistic, hidden_layer_sizes=10, learning_rate_init=0.05;, score=0.807 total time=   2.6s\n",
      "[CV 2/3] END activation=logistic, hidden_layer_sizes=5, learning_rate_init=0.001;, score=0.795 total time=   6.1s\n",
      "[CV 3/3] END activation=logistic, hidden_layer_sizes=10, learning_rate_init=0.01;, score=0.803 total time=   3.8s\n",
      "[CV 3/3] END activation=logistic, hidden_layer_sizes=5, learning_rate_init=0.001;, score=0.802 total time=   6.2s\n",
      "[CV 1/3] END activation=logistic, hidden_layer_sizes=10, learning_rate_init=0.1;, score=0.811 total time=   2.1s\n",
      "[CV 2/3] END activation=logistic, hidden_layer_sizes=10, learning_rate_init=0.01;, score=0.796 total time=   4.9s\n"
     ]
    },
    {
     "name": "stderr",
     "output_type": "stream",
     "text": [
      "/root/.cache/pypoetry/virtualenvs/sin5007-lcGWJnmY-py3.11/lib/python3.11/site-packages/sklearn/neural_network/_multilayer_perceptron.py:690: ConvergenceWarning: Stochastic Optimizer: Maximum iterations (200) reached and the optimization hasn't converged yet.\n",
      "  warnings.warn(\n"
     ]
    },
    {
     "name": "stdout",
     "output_type": "stream",
     "text": [
      "[CV 1/3] END activation=logistic, hidden_layer_sizes=5, learning_rate_init=0.001;, score=0.806 total time=   7.8s\n",
      "[CV 2/3] END activation=logistic, hidden_layer_sizes=10, learning_rate_init=0.1;, score=0.783 total time=   2.8s\n",
      "[CV 1/3] END activation=logistic, hidden_layer_sizes=10, learning_rate_init=0.01;, score=0.813 total time=   6.7s\n",
      "[CV 3/3] END activation=logistic, hidden_layer_sizes=10, learning_rate_init=0.1;, score=0.804 total time=   2.7s\n"
     ]
    },
    {
     "name": "stderr",
     "output_type": "stream",
     "text": [
      "/root/.cache/pypoetry/virtualenvs/sin5007-lcGWJnmY-py3.11/lib/python3.11/site-packages/sklearn/neural_network/_multilayer_perceptron.py:690: ConvergenceWarning: Stochastic Optimizer: Maximum iterations (200) reached and the optimization hasn't converged yet.\n",
      "  warnings.warn(\n",
      "/root/.cache/pypoetry/virtualenvs/sin5007-lcGWJnmY-py3.11/lib/python3.11/site-packages/sklearn/neural_network/_multilayer_perceptron.py:690: ConvergenceWarning: Stochastic Optimizer: Maximum iterations (200) reached and the optimization hasn't converged yet.\n",
      "  warnings.warn(\n"
     ]
    },
    {
     "name": "stdout",
     "output_type": "stream",
     "text": [
      "[CV 2/3] END activation=logistic, hidden_layer_sizes=10, learning_rate_init=0.001;, score=0.798 total time=   8.1s\n",
      "[CV 1/3] END activation=logistic, hidden_layer_sizes=10, learning_rate_init=0.001;, score=0.807 total time=   8.2s\n"
     ]
    },
    {
     "name": "stderr",
     "output_type": "stream",
     "text": [
      "/root/.cache/pypoetry/virtualenvs/sin5007-lcGWJnmY-py3.11/lib/python3.11/site-packages/sklearn/neural_network/_multilayer_perceptron.py:690: ConvergenceWarning: Stochastic Optimizer: Maximum iterations (200) reached and the optimization hasn't converged yet.\n",
      "  warnings.warn(\n"
     ]
    },
    {
     "name": "stdout",
     "output_type": "stream",
     "text": [
      "[CV 3/3] END activation=logistic, hidden_layer_sizes=10, learning_rate_init=0.001;, score=0.803 total time=   8.2s\n",
      "[CV 1/3] END activation=logistic, hidden_layer_sizes=15, learning_rate_init=0.1;, score=0.806 total time=   3.8s\n",
      "[CV 3/3] END activation=logistic, hidden_layer_sizes=15, learning_rate_init=0.05;, score=0.787 total time=   4.8s\n",
      "[CV 3/3] END activation=logistic, hidden_layer_sizes=15, learning_rate_init=0.1;, score=0.795 total time=   4.7s\n",
      "[CV 1/3] END activation=logistic, hidden_layer_sizes=15, learning_rate_init=0.05;, score=0.810 total time=   6.6s\n",
      "[CV 2/3] END activation=logistic, hidden_layer_sizes=15, learning_rate_init=0.05;, score=0.795 total time=   6.6s\n",
      "[CV 2/3] END activation=logistic, hidden_layer_sizes=15, learning_rate_init=0.1;, score=0.797 total time=   6.0s\n",
      "[CV 3/3] END activation=logistic, hidden_layer_sizes=15, learning_rate_init=0.01;, score=0.808 total time=   8.0s\n",
      "[CV 2/3] END activation=logistic, hidden_layer_sizes=15, learning_rate_init=0.01;, score=0.802 total time=   9.6s\n",
      "[CV 1/3] END activation=relu, hidden_layer_sizes=5, learning_rate_init=0.01;, score=0.805 total time=   2.2s\n",
      "[CV 1/3] END activation=relu, hidden_layer_sizes=5, learning_rate_init=0.05;, score=0.802 total time=   1.4s\n"
     ]
    },
    {
     "name": "stderr",
     "output_type": "stream",
     "text": [
      "/root/.cache/pypoetry/virtualenvs/sin5007-lcGWJnmY-py3.11/lib/python3.11/site-packages/sklearn/neural_network/_multilayer_perceptron.py:690: ConvergenceWarning: Stochastic Optimizer: Maximum iterations (200) reached and the optimization hasn't converged yet.\n",
      "  warnings.warn(\n"
     ]
    },
    {
     "name": "stdout",
     "output_type": "stream",
     "text": [
      "[CV 2/3] END activation=logistic, hidden_layer_sizes=15, learning_rate_init=0.001;, score=0.797 total time=  11.3s\n"
     ]
    },
    {
     "name": "stderr",
     "output_type": "stream",
     "text": [
      "/root/.cache/pypoetry/virtualenvs/sin5007-lcGWJnmY-py3.11/lib/python3.11/site-packages/sklearn/neural_network/_multilayer_perceptron.py:690: ConvergenceWarning: Stochastic Optimizer: Maximum iterations (200) reached and the optimization hasn't converged yet.\n",
      "  warnings.warn(\n",
      "/root/.cache/pypoetry/virtualenvs/sin5007-lcGWJnmY-py3.11/lib/python3.11/site-packages/sklearn/neural_network/_multilayer_perceptron.py:690: ConvergenceWarning: Stochastic Optimizer: Maximum iterations (200) reached and the optimization hasn't converged yet.\n",
      "  warnings.warn(\n"
     ]
    },
    {
     "name": "stdout",
     "output_type": "stream",
     "text": [
      "[CV 1/3] END activation=logistic, hidden_layer_sizes=15, learning_rate_init=0.001;, score=0.806 total time=  11.6s\n",
      "[CV 3/3] END activation=logistic, hidden_layer_sizes=15, learning_rate_init=0.001;, score=0.806 total time=  11.6s\n"
     ]
    },
    {
     "name": "stderr",
     "output_type": "stream",
     "text": [
      "/root/.cache/pypoetry/virtualenvs/sin5007-lcGWJnmY-py3.11/lib/python3.11/site-packages/sklearn/neural_network/_multilayer_perceptron.py:690: ConvergenceWarning: Stochastic Optimizer: Maximum iterations (200) reached and the optimization hasn't converged yet.\n",
      "  warnings.warn(\n"
     ]
    },
    {
     "name": "stdout",
     "output_type": "stream",
     "text": [
      "[CV 1/3] END activation=logistic, hidden_layer_sizes=15, learning_rate_init=0.01;, score=0.809 total time=  11.5s\n",
      "[CV 2/3] END activation=relu, hidden_layer_sizes=5, learning_rate_init=0.1;, score=0.791 total time=   0.7s\n",
      "[CV 1/3] END activation=relu, hidden_layer_sizes=5, learning_rate_init=0.001;, score=0.806 total time=   5.2s\n",
      "[CV 2/3] END activation=relu, hidden_layer_sizes=5, learning_rate_init=0.05;, score=0.798 total time=   1.8s\n",
      "[CV 2/3] END activation=relu, hidden_layer_sizes=5, learning_rate_init=0.01;, score=0.794 total time=   3.5s\n",
      "[CV 2/3] END activation=relu, hidden_layer_sizes=5, learning_rate_init=0.001;, score=0.792 total time=   5.2s\n",
      "[CV 3/3] END activation=relu, hidden_layer_sizes=5, learning_rate_init=0.1;, score=0.802 total time=   1.1s\n",
      "[CV 1/3] END activation=relu, hidden_layer_sizes=5, learning_rate_init=0.1;, score=0.800 total time=   1.7s\n",
      "[CV 3/3] END activation=relu, hidden_layer_sizes=5, learning_rate_init=0.001;, score=0.805 total time=   4.6s\n",
      "[CV 3/3] END activation=relu, hidden_layer_sizes=5, learning_rate_init=0.01;, score=0.803 total time=   3.7s\n",
      "[CV 3/3] END activation=relu, hidden_layer_sizes=5, learning_rate_init=0.05;, score=0.806 total time=   2.6s\n",
      "[CV 2/3] END activation=relu, hidden_layer_sizes=10, learning_rate_init=0.1;, score=0.802 total time=   0.8s\n",
      "[CV 3/3] END activation=relu, hidden_layer_sizes=10, learning_rate_init=0.05;, score=0.802 total time=   1.5s\n",
      "[CV 1/3] END activation=relu, hidden_layer_sizes=10, learning_rate_init=0.1;, score=0.806 total time=   2.0s\n",
      "[CV 3/3] END activation=relu, hidden_layer_sizes=10, learning_rate_init=0.1;, score=0.810 total time=   1.5s\n",
      "[CV 2/3] END activation=relu, hidden_layer_sizes=10, learning_rate_init=0.01;, score=0.801 total time=   2.9s\n",
      "[CV 1/3] END activation=relu, hidden_layer_sizes=10, learning_rate_init=0.05;, score=0.812 total time=   2.8s\n",
      "[CV 2/3] END activation=relu, hidden_layer_sizes=10, learning_rate_init=0.05;, score=0.801 total time=   3.1s\n",
      "[CV 1/3] END activation=relu, hidden_layer_sizes=10, learning_rate_init=0.01;, score=0.808 total time=   4.7s\n",
      "[CV 3/3] END activation=relu, hidden_layer_sizes=10, learning_rate_init=0.01;, score=0.808 total time=   4.6s\n",
      "[CV 1/3] END activation=relu, hidden_layer_sizes=15, learning_rate_init=0.05;, score=0.809 total time=   2.5s\n",
      "[CV 3/3] END activation=relu, hidden_layer_sizes=10, learning_rate_init=0.001;, score=0.808 total time=   6.6s\n",
      "[CV 2/3] END activation=relu, hidden_layer_sizes=15, learning_rate_init=0.05;, score=0.802 total time=   2.3s\n",
      "[CV 2/3] END activation=relu, hidden_layer_sizes=15, learning_rate_init=0.01;, score=0.795 total time=   4.1s\n",
      "[CV 3/3] END activation=relu, hidden_layer_sizes=15, learning_rate_init=0.01;, score=0.808 total time=   4.0s\n",
      "[CV 1/3] END activation=relu, hidden_layer_sizes=15, learning_rate_init=0.01;, score=0.810 total time=   4.4s\n",
      "[CV 1/3] END activation=relu, hidden_layer_sizes=15, learning_rate_init=0.1;, score=0.809 total time=   1.3s\n",
      "[CV 2/3] END activation=relu, hidden_layer_sizes=15, learning_rate_init=0.1;, score=0.796 total time=   1.0s\n",
      "[CV 3/3] END activation=relu, hidden_layer_sizes=15, learning_rate_init=0.05;, score=0.809 total time=   2.7s\n",
      "[CV 2/3] END activation=relu, hidden_layer_sizes=10, learning_rate_init=0.001;, score=0.801 total time=   7.9s\n"
     ]
    },
    {
     "name": "stderr",
     "output_type": "stream",
     "text": [
      "/root/.cache/pypoetry/virtualenvs/sin5007-lcGWJnmY-py3.11/lib/python3.11/site-packages/sklearn/neural_network/_multilayer_perceptron.py:690: ConvergenceWarning: Stochastic Optimizer: Maximum iterations (200) reached and the optimization hasn't converged yet.\n",
      "  warnings.warn(\n"
     ]
    },
    {
     "name": "stdout",
     "output_type": "stream",
     "text": [
      "[CV 1/3] END activation=relu, hidden_layer_sizes=10, learning_rate_init=0.001;, score=0.809 total time=   8.6s\n",
      "[CV 3/3] END activation=relu, hidden_layer_sizes=15, learning_rate_init=0.1;, score=0.805 total time=   1.2s\n",
      "[CV 1/3] END activation=relu, hidden_layer_sizes=15, learning_rate_init=0.001;, score=0.809 total time=   7.2s\n"
     ]
    },
    {
     "name": "stderr",
     "output_type": "stream",
     "text": [
      "/root/.cache/pypoetry/virtualenvs/sin5007-lcGWJnmY-py3.11/lib/python3.11/site-packages/sklearn/neural_network/_multilayer_perceptron.py:690: ConvergenceWarning: Stochastic Optimizer: Maximum iterations (200) reached and the optimization hasn't converged yet.\n",
      "  warnings.warn(\n",
      "/root/.cache/pypoetry/virtualenvs/sin5007-lcGWJnmY-py3.11/lib/python3.11/site-packages/sklearn/neural_network/_multilayer_perceptron.py:690: ConvergenceWarning: Stochastic Optimizer: Maximum iterations (200) reached and the optimization hasn't converged yet.\n",
      "  warnings.warn(\n"
     ]
    },
    {
     "name": "stdout",
     "output_type": "stream",
     "text": [
      "[CV 2/3] END activation=relu, hidden_layer_sizes=15, learning_rate_init=0.001;, score=0.798 total time=   7.6s\n",
      "[CV 3/3] END activation=relu, hidden_layer_sizes=15, learning_rate_init=0.001;, score=0.807 total time=   7.1s\n",
      "===> 2024-10-28 15:40:23.611052 | FINALIZADO FOLD 5 | TEMPO TOTAL 0:00:29.808543\n",
      "\n",
      "====> 2024-10-28 15:40:23.611887 | EXECUTANDO FOLD 6 \n",
      "Fitting 3 folds for each of 24 candidates, totalling 72 fits\n",
      "[CV 2/3] END activation=logistic, hidden_layer_sizes=5, learning_rate_init=0.1;, score=0.810 total time=   1.2s\n",
      "[CV 3/3] END activation=logistic, hidden_layer_sizes=5, learning_rate_init=0.1;, score=0.792 total time=   1.2s\n",
      "[CV 2/3] END activation=logistic, hidden_layer_sizes=5, learning_rate_init=0.05;, score=0.800 total time=   1.7s\n",
      "[CV 3/3] END activation=logistic, hidden_layer_sizes=5, learning_rate_init=0.05;, score=0.791 total time=   1.8s\n",
      "[CV 1/3] END activation=logistic, hidden_layer_sizes=5, learning_rate_init=0.05;, score=0.812 total time=   1.9s\n",
      "[CV 1/3] END activation=logistic, hidden_layer_sizes=5, learning_rate_init=0.1;, score=0.809 total time=   1.9s\n",
      "[CV 1/3] END activation=logistic, hidden_layer_sizes=5, learning_rate_init=0.01;, score=0.805 total time=   2.5s\n",
      "[CV 2/3] END activation=logistic, hidden_layer_sizes=5, learning_rate_init=0.01;, score=0.800 total time=   2.9s\n",
      "[CV 3/3] END activation=logistic, hidden_layer_sizes=5, learning_rate_init=0.01;, score=0.804 total time=   2.9s\n",
      "[CV 1/3] END activation=logistic, hidden_layer_sizes=10, learning_rate_init=0.05;, score=0.799 total time=   2.0s\n",
      "[CV 2/3] END activation=logistic, hidden_layer_sizes=10, learning_rate_init=0.05;, score=0.810 total time=   2.7s\n",
      "[CV 3/3] END activation=logistic, hidden_layer_sizes=10, learning_rate_init=0.05;, score=0.802 total time=   2.9s\n",
      "[CV 2/3] END activation=logistic, hidden_layer_sizes=5, learning_rate_init=0.001;, score=0.800 total time=   6.4s\n",
      "[CV 1/3] END activation=logistic, hidden_layer_sizes=10, learning_rate_init=0.1;, score=0.796 total time=   2.3s\n",
      "[CV 2/3] END activation=logistic, hidden_layer_sizes=10, learning_rate_init=0.01;, score=0.801 total time=   5.2s\n",
      "[CV 3/3] END activation=logistic, hidden_layer_sizes=5, learning_rate_init=0.001;, score=0.802 total time=   7.8s\n",
      "[CV 3/3] END activation=logistic, hidden_layer_sizes=10, learning_rate_init=0.01;, score=0.804 total time=   6.0s\n",
      "[CV 1/3] END activation=logistic, hidden_layer_sizes=10, learning_rate_init=0.01;, score=0.808 total time=   6.2s\n"
     ]
    },
    {
     "name": "stderr",
     "output_type": "stream",
     "text": [
      "/root/.cache/pypoetry/virtualenvs/sin5007-lcGWJnmY-py3.11/lib/python3.11/site-packages/sklearn/neural_network/_multilayer_perceptron.py:690: ConvergenceWarning: Stochastic Optimizer: Maximum iterations (200) reached and the optimization hasn't converged yet.\n",
      "  warnings.warn(\n"
     ]
    },
    {
     "name": "stdout",
     "output_type": "stream",
     "text": [
      "[CV 2/3] END activation=logistic, hidden_layer_sizes=10, learning_rate_init=0.1;, score=0.790 total time=   2.6s\n",
      "[CV 1/3] END activation=logistic, hidden_layer_sizes=5, learning_rate_init=0.001;, score=0.806 total time=   8.3s\n",
      "[CV 3/3] END activation=logistic, hidden_layer_sizes=10, learning_rate_init=0.1;, score=0.800 total time=   2.9s\n"
     ]
    },
    {
     "name": "stderr",
     "output_type": "stream",
     "text": [
      "/root/.cache/pypoetry/virtualenvs/sin5007-lcGWJnmY-py3.11/lib/python3.11/site-packages/sklearn/neural_network/_multilayer_perceptron.py:690: ConvergenceWarning: Stochastic Optimizer: Maximum iterations (200) reached and the optimization hasn't converged yet.\n",
      "  warnings.warn(\n",
      "/root/.cache/pypoetry/virtualenvs/sin5007-lcGWJnmY-py3.11/lib/python3.11/site-packages/sklearn/neural_network/_multilayer_perceptron.py:690: ConvergenceWarning: Stochastic Optimizer: Maximum iterations (200) reached and the optimization hasn't converged yet.\n",
      "  warnings.warn(\n"
     ]
    },
    {
     "name": "stdout",
     "output_type": "stream",
     "text": [
      "[CV 1/3] END activation=logistic, hidden_layer_sizes=10, learning_rate_init=0.001;, score=0.805 total time=   9.0s\n",
      "[CV 2/3] END activation=logistic, hidden_layer_sizes=10, learning_rate_init=0.001;, score=0.805 total time=   8.9s\n"
     ]
    },
    {
     "name": "stderr",
     "output_type": "stream",
     "text": [
      "/root/.cache/pypoetry/virtualenvs/sin5007-lcGWJnmY-py3.11/lib/python3.11/site-packages/sklearn/neural_network/_multilayer_perceptron.py:690: ConvergenceWarning: Stochastic Optimizer: Maximum iterations (200) reached and the optimization hasn't converged yet.\n",
      "  warnings.warn(\n"
     ]
    },
    {
     "name": "stdout",
     "output_type": "stream",
     "text": [
      "[CV 3/3] END activation=logistic, hidden_layer_sizes=10, learning_rate_init=0.001;, score=0.803 total time=   8.9s\n",
      "[CV 3/3] END activation=logistic, hidden_layer_sizes=15, learning_rate_init=0.05;, score=0.796 total time=   3.2s\n",
      "[CV 2/3] END activation=logistic, hidden_layer_sizes=15, learning_rate_init=0.05;, score=0.798 total time=   4.5s\n",
      "[CV 1/3] END activation=logistic, hidden_layer_sizes=15, learning_rate_init=0.05;, score=0.797 total time=   4.7s\n",
      "[CV 1/3] END activation=logistic, hidden_layer_sizes=15, learning_rate_init=0.1;, score=0.803 total time=   3.3s\n",
      "[CV 3/3] END activation=logistic, hidden_layer_sizes=15, learning_rate_init=0.1;, score=0.787 total time=   3.4s\n",
      "[CV 2/3] END activation=logistic, hidden_layer_sizes=15, learning_rate_init=0.1;, score=0.806 total time=   4.0s\n",
      "[CV 1/3] END activation=logistic, hidden_layer_sizes=15, learning_rate_init=0.01;, score=0.812 total time=   6.4s\n",
      "[CV 3/3] END activation=logistic, hidden_layer_sizes=15, learning_rate_init=0.01;, score=0.800 total time=   6.2s\n",
      "[CV 2/3] END activation=logistic, hidden_layer_sizes=15, learning_rate_init=0.01;, score=0.808 total time=   9.8s\n"
     ]
    },
    {
     "name": "stderr",
     "output_type": "stream",
     "text": [
      "/root/.cache/pypoetry/virtualenvs/sin5007-lcGWJnmY-py3.11/lib/python3.11/site-packages/sklearn/neural_network/_multilayer_perceptron.py:690: ConvergenceWarning: Stochastic Optimizer: Maximum iterations (200) reached and the optimization hasn't converged yet.\n",
      "  warnings.warn(\n"
     ]
    },
    {
     "name": "stdout",
     "output_type": "stream",
     "text": [
      "[CV 2/3] END activation=relu, hidden_layer_sizes=5, learning_rate_init=0.05;, score=0.803 total time=   3.9s\n",
      "[CV 1/3] END activation=logistic, hidden_layer_sizes=15, learning_rate_init=0.001;, score=0.807 total time=  11.7s\n",
      "[CV 3/3] END activation=relu, hidden_layer_sizes=5, learning_rate_init=0.01;, score=0.793 total time=   4.0s\n",
      "[CV 1/3] END activation=relu, hidden_layer_sizes=5, learning_rate_init=0.01;, score=0.804 total time=   4.8s\n",
      "[CV 1/3] END activation=relu, hidden_layer_sizes=5, learning_rate_init=0.05;, score=0.815 total time=   4.1s\n",
      "[CV 1/3] END activation=relu, hidden_layer_sizes=5, learning_rate_init=0.001;, score=0.802 total time=   6.4s\n"
     ]
    },
    {
     "name": "stderr",
     "output_type": "stream",
     "text": [
      "/root/.cache/pypoetry/virtualenvs/sin5007-lcGWJnmY-py3.11/lib/python3.11/site-packages/sklearn/neural_network/_multilayer_perceptron.py:690: ConvergenceWarning: Stochastic Optimizer: Maximum iterations (200) reached and the optimization hasn't converged yet.\n",
      "  warnings.warn(\n"
     ]
    },
    {
     "name": "stdout",
     "output_type": "stream",
     "text": [
      "[CV 2/3] END activation=logistic, hidden_layer_sizes=15, learning_rate_init=0.001;, score=0.804 total time=  12.0s\n",
      "[CV 2/3] END activation=relu, hidden_layer_sizes=5, learning_rate_init=0.1;, score=0.797 total time=   0.7s\n"
     ]
    },
    {
     "name": "stderr",
     "output_type": "stream",
     "text": [
      "/root/.cache/pypoetry/virtualenvs/sin5007-lcGWJnmY-py3.11/lib/python3.11/site-packages/sklearn/neural_network/_multilayer_perceptron.py:690: ConvergenceWarning: Stochastic Optimizer: Maximum iterations (200) reached and the optimization hasn't converged yet.\n",
      "  warnings.warn(\n"
     ]
    },
    {
     "name": "stdout",
     "output_type": "stream",
     "text": [
      "[CV 3/3] END activation=logistic, hidden_layer_sizes=15, learning_rate_init=0.001;, score=0.804 total time=  11.8s\n",
      "[CV 2/3] END activation=relu, hidden_layer_sizes=5, learning_rate_init=0.01;, score=0.803 total time=   5.4s\n",
      "[CV 3/3] END activation=relu, hidden_layer_sizes=5, learning_rate_init=0.1;, score=0.810 total time=   1.2s\n",
      "[CV 1/3] END activation=relu, hidden_layer_sizes=5, learning_rate_init=0.1;, score=0.804 total time=   1.5s\n",
      "[CV 3/3] END activation=relu, hidden_layer_sizes=5, learning_rate_init=0.05;, score=0.795 total time=   2.0s\n",
      "[CV 2/3] END activation=relu, hidden_layer_sizes=5, learning_rate_init=0.001;, score=0.799 total time=   7.4s\n",
      "[CV 3/3] END activation=relu, hidden_layer_sizes=5, learning_rate_init=0.001;, score=0.805 total time=   8.0s\n",
      "[CV 2/3] END activation=relu, hidden_layer_sizes=10, learning_rate_init=0.1;, score=0.809 total time=   0.8s\n",
      "[CV 3/3] END activation=relu, hidden_layer_sizes=10, learning_rate_init=0.05;, score=0.807 total time=   1.5s\n",
      "[CV 1/3] END activation=relu, hidden_layer_sizes=10, learning_rate_init=0.1;, score=0.799 total time=   1.4s\n",
      "[CV 2/3] END activation=relu, hidden_layer_sizes=10, learning_rate_init=0.01;, score=0.808 total time=   2.9s\n",
      "[CV 1/3] END activation=relu, hidden_layer_sizes=10, learning_rate_init=0.05;, score=0.806 total time=   2.4s\n",
      "[CV 3/3] END activation=relu, hidden_layer_sizes=10, learning_rate_init=0.1;, score=0.809 total time=   1.4s\n",
      "[CV 2/3] END activation=relu, hidden_layer_sizes=10, learning_rate_init=0.05;, score=0.811 total time=   3.0s\n",
      "[CV 3/3] END activation=relu, hidden_layer_sizes=10, learning_rate_init=0.01;, score=0.801 total time=   3.7s\n",
      "[CV 1/3] END activation=relu, hidden_layer_sizes=10, learning_rate_init=0.01;, score=0.804 total time=   4.3s\n",
      "[CV 1/3] END activation=relu, hidden_layer_sizes=15, learning_rate_init=0.05;, score=0.806 total time=   1.8s\n",
      "[CV 2/3] END activation=relu, hidden_layer_sizes=15, learning_rate_init=0.05;, score=0.808 total time=   2.2s\n",
      "[CV 3/3] END activation=relu, hidden_layer_sizes=15, learning_rate_init=0.05;, score=0.809 total time=   2.1s\n",
      "[CV 2/3] END activation=relu, hidden_layer_sizes=15, learning_rate_init=0.01;, score=0.804 total time=   3.8s\n",
      "[CV 2/3] END activation=relu, hidden_layer_sizes=15, learning_rate_init=0.1;, score=0.805 total time=   1.1s\n",
      "[CV 3/3] END activation=relu, hidden_layer_sizes=15, learning_rate_init=0.01;, score=0.809 total time=   3.7s\n",
      "[CV 1/3] END activation=relu, hidden_layer_sizes=15, learning_rate_init=0.1;, score=0.803 total time=   1.9s\n",
      "[CV 1/3] END activation=relu, hidden_layer_sizes=15, learning_rate_init=0.01;, score=0.809 total time=   4.6s\n",
      "[CV 2/3] END activation=relu, hidden_layer_sizes=10, learning_rate_init=0.001;, score=0.810 total time=   8.2s\n",
      "[CV 3/3] END activation=relu, hidden_layer_sizes=10, learning_rate_init=0.001;, score=0.807 total time=   8.3s\n",
      "[CV 1/3] END activation=relu, hidden_layer_sizes=10, learning_rate_init=0.001;, score=0.807 total time=   8.5s\n",
      "[CV 3/3] END activation=relu, hidden_layer_sizes=15, learning_rate_init=0.1;, score=0.801 total time=   1.7s\n"
     ]
    },
    {
     "name": "stderr",
     "output_type": "stream",
     "text": [
      "/root/.cache/pypoetry/virtualenvs/sin5007-lcGWJnmY-py3.11/lib/python3.11/site-packages/sklearn/neural_network/_multilayer_perceptron.py:690: ConvergenceWarning: Stochastic Optimizer: Maximum iterations (200) reached and the optimization hasn't converged yet.\n",
      "  warnings.warn(\n",
      "/root/.cache/pypoetry/virtualenvs/sin5007-lcGWJnmY-py3.11/lib/python3.11/site-packages/sklearn/neural_network/_multilayer_perceptron.py:690: ConvergenceWarning: Stochastic Optimizer: Maximum iterations (200) reached and the optimization hasn't converged yet.\n",
      "  warnings.warn(\n"
     ]
    },
    {
     "name": "stdout",
     "output_type": "stream",
     "text": [
      "[CV 3/3] END activation=relu, hidden_layer_sizes=15, learning_rate_init=0.001;, score=0.806 total time=   7.2s\n",
      "[CV 2/3] END activation=relu, hidden_layer_sizes=15, learning_rate_init=0.001;, score=0.807 total time=   7.3s\n"
     ]
    },
    {
     "name": "stderr",
     "output_type": "stream",
     "text": [
      "/root/.cache/pypoetry/virtualenvs/sin5007-lcGWJnmY-py3.11/lib/python3.11/site-packages/sklearn/neural_network/_multilayer_perceptron.py:690: ConvergenceWarning: Stochastic Optimizer: Maximum iterations (200) reached and the optimization hasn't converged yet.\n",
      "  warnings.warn(\n"
     ]
    },
    {
     "name": "stdout",
     "output_type": "stream",
     "text": [
      "[CV 1/3] END activation=relu, hidden_layer_sizes=15, learning_rate_init=0.001;, score=0.806 total time=   7.6s\n",
      "===> 2024-10-28 15:40:53.144715 | FINALIZADO FOLD 6 | TEMPO TOTAL 0:00:29.532828\n",
      "\n",
      "====> 2024-10-28 15:40:53.145453 | EXECUTANDO FOLD 7 \n",
      "Fitting 3 folds for each of 24 candidates, totalling 72 fits\n",
      "[CV 2/3] END activation=logistic, hidden_layer_sizes=5, learning_rate_init=0.1;, score=0.808 total time=   1.2s\n",
      "[CV 3/3] END activation=logistic, hidden_layer_sizes=5, learning_rate_init=0.05;, score=0.799 total time=   1.2s\n",
      "[CV 3/3] END activation=logistic, hidden_layer_sizes=5, learning_rate_init=0.1;, score=0.804 total time=   1.4s\n",
      "[CV 2/3] END activation=logistic, hidden_layer_sizes=5, learning_rate_init=0.05;, score=0.800 total time=   1.8s\n",
      "[CV 1/3] END activation=logistic, hidden_layer_sizes=5, learning_rate_init=0.05;, score=0.803 total time=   1.8s\n",
      "[CV 1/3] END activation=logistic, hidden_layer_sizes=5, learning_rate_init=0.1;, score=0.799 total time=   1.8s\n",
      "[CV 3/3] END activation=logistic, hidden_layer_sizes=5, learning_rate_init=0.01;, score=0.804 total time=   2.0s\n",
      "[CV 2/3] END activation=logistic, hidden_layer_sizes=5, learning_rate_init=0.01;, score=0.801 total time=   3.0s\n",
      "[CV 1/3] END activation=logistic, hidden_layer_sizes=5, learning_rate_init=0.01;, score=0.811 total time=   3.4s\n",
      "[CV 1/3] END activation=logistic, hidden_layer_sizes=10, learning_rate_init=0.05;, score=0.810 total time=   2.4s\n",
      "[CV 1/3] END activation=logistic, hidden_layer_sizes=10, learning_rate_init=0.001;, score=0.800 total time=   3.4s\n",
      "[CV 3/3] END activation=logistic, hidden_layer_sizes=10, learning_rate_init=0.001;, score=0.796 total time=   3.4s\n",
      "[CV 2/3] END activation=logistic, hidden_layer_sizes=10, learning_rate_init=0.05;, score=0.804 total time=   2.8s\n",
      "[CV 3/3] END activation=logistic, hidden_layer_sizes=10, learning_rate_init=0.05;, score=0.803 total time=   3.1s\n",
      "[CV 2/3] END activation=logistic, hidden_layer_sizes=5, learning_rate_init=0.001;, score=0.798 total time=   6.7s\n",
      "[CV 1/3] END activation=logistic, hidden_layer_sizes=10, learning_rate_init=0.01;, score=0.803 total time=   5.0s\n",
      "[CV 1/3] END activation=logistic, hidden_layer_sizes=10, learning_rate_init=0.1;, score=0.813 total time=   2.7s\n",
      "[CV 3/3] END activation=logistic, hidden_layer_sizes=10, learning_rate_init=0.1;, score=0.803 total time=   2.6s\n",
      "[CV 2/3] END activation=logistic, hidden_layer_sizes=10, learning_rate_init=0.1;, score=0.788 total time=   3.0s\n",
      "[CV 2/3] END activation=logistic, hidden_layer_sizes=10, learning_rate_init=0.01;, score=0.802 total time=   5.9s\n"
     ]
    },
    {
     "name": "stderr",
     "output_type": "stream",
     "text": [
      "/root/.cache/pypoetry/virtualenvs/sin5007-lcGWJnmY-py3.11/lib/python3.11/site-packages/sklearn/neural_network/_multilayer_perceptron.py:690: ConvergenceWarning: Stochastic Optimizer: Maximum iterations (200) reached and the optimization hasn't converged yet.\n",
      "  warnings.warn(\n"
     ]
    },
    {
     "name": "stdout",
     "output_type": "stream",
     "text": [
      "[CV 3/3] END activation=logistic, hidden_layer_sizes=5, learning_rate_init=0.001;, score=0.803 total time=   8.1s\n"
     ]
    },
    {
     "name": "stderr",
     "output_type": "stream",
     "text": [
      "/root/.cache/pypoetry/virtualenvs/sin5007-lcGWJnmY-py3.11/lib/python3.11/site-packages/sklearn/neural_network/_multilayer_perceptron.py:690: ConvergenceWarning: Stochastic Optimizer: Maximum iterations (200) reached and the optimization hasn't converged yet.\n",
      "  warnings.warn(\n"
     ]
    },
    {
     "name": "stdout",
     "output_type": "stream",
     "text": [
      "[CV 1/3] END activation=logistic, hidden_layer_sizes=5, learning_rate_init=0.001;, score=0.805 total time=   8.3s\n",
      "[CV 3/3] END activation=logistic, hidden_layer_sizes=10, learning_rate_init=0.01;, score=0.808 total time=   6.9s\n"
     ]
    },
    {
     "name": "stderr",
     "output_type": "stream",
     "text": [
      "/root/.cache/pypoetry/virtualenvs/sin5007-lcGWJnmY-py3.11/lib/python3.11/site-packages/sklearn/neural_network/_multilayer_perceptron.py:690: ConvergenceWarning: Stochastic Optimizer: Maximum iterations (200) reached and the optimization hasn't converged yet.\n",
      "  warnings.warn(\n"
     ]
    },
    {
     "name": "stdout",
     "output_type": "stream",
     "text": [
      "[CV 2/3] END activation=logistic, hidden_layer_sizes=10, learning_rate_init=0.001;, score=0.804 total time=   9.5s\n",
      "[CV 1/3] END activation=logistic, hidden_layer_sizes=15, learning_rate_init=0.1;, score=0.807 total time=   2.4s\n",
      "[CV 1/3] END activation=logistic, hidden_layer_sizes=15, learning_rate_init=0.05;, score=0.801 total time=   3.7s\n",
      "[CV 1/3] END activation=logistic, hidden_layer_sizes=15, learning_rate_init=0.01;, score=0.807 total time=   5.2s\n",
      "[CV 2/3] END activation=logistic, hidden_layer_sizes=15, learning_rate_init=0.05;, score=0.797 total time=   4.6s\n",
      "[CV 3/3] END activation=logistic, hidden_layer_sizes=15, learning_rate_init=0.01;, score=0.796 total time=   5.2s\n",
      "[CV 2/3] END activation=logistic, hidden_layer_sizes=15, learning_rate_init=0.1;, score=0.806 total time=   4.0s\n",
      "[CV 3/3] END activation=logistic, hidden_layer_sizes=15, learning_rate_init=0.05;, score=0.801 total time=   5.2s\n",
      "[CV 3/3] END activation=logistic, hidden_layer_sizes=15, learning_rate_init=0.1;, score=0.779 total time=   2.9s\n",
      "[CV 1/3] END activation=relu, hidden_layer_sizes=5, learning_rate_init=0.001;, score=0.803 total time=   3.4s\n",
      "[CV 1/3] END activation=relu, hidden_layer_sizes=5, learning_rate_init=0.05;, score=0.810 total time=   1.4s\n",
      "[CV 3/3] END activation=relu, hidden_layer_sizes=5, learning_rate_init=0.01;, score=0.792 total time=   2.0s\n",
      "[CV 2/3] END activation=logistic, hidden_layer_sizes=15, learning_rate_init=0.01;, score=0.806 total time=   7.8s\n",
      "[CV 1/3] END activation=relu, hidden_layer_sizes=5, learning_rate_init=0.01;, score=0.800 total time=   2.7s\n",
      "[CV 2/3] END activation=relu, hidden_layer_sizes=5, learning_rate_init=0.05;, score=0.802 total time=   1.8s\n",
      "[CV 1/3] END activation=logistic, hidden_layer_sizes=15, learning_rate_init=0.001;, score=0.806 total time=   9.6s\n",
      "[CV 3/3] END activation=relu, hidden_layer_sizes=5, learning_rate_init=0.05;, score=0.802 total time=   1.3s\n"
     ]
    },
    {
     "name": "stderr",
     "output_type": "stream",
     "text": [
      "/root/.cache/pypoetry/virtualenvs/sin5007-lcGWJnmY-py3.11/lib/python3.11/site-packages/sklearn/neural_network/_multilayer_perceptron.py:690: ConvergenceWarning: Stochastic Optimizer: Maximum iterations (200) reached and the optimization hasn't converged yet.\n",
      "  warnings.warn(\n"
     ]
    },
    {
     "name": "stdout",
     "output_type": "stream",
     "text": [
      "[CV 2/3] END activation=relu, hidden_layer_sizes=5, learning_rate_init=0.1;, score=0.806 total time=   0.9s\n",
      "[CV 2/3] END activation=relu, hidden_layer_sizes=5, learning_rate_init=0.01;, score=0.799 total time=   3.5s\n",
      "[CV 1/3] END activation=relu, hidden_layer_sizes=5, learning_rate_init=0.1;, score=0.795 total time=   1.6s\n",
      "[CV 3/3] END activation=logistic, hidden_layer_sizes=15, learning_rate_init=0.001;, score=0.804 total time=   9.6s\n"
     ]
    },
    {
     "name": "stderr",
     "output_type": "stream",
     "text": [
      "/root/.cache/pypoetry/virtualenvs/sin5007-lcGWJnmY-py3.11/lib/python3.11/site-packages/sklearn/neural_network/_multilayer_perceptron.py:690: ConvergenceWarning: Stochastic Optimizer: Maximum iterations (200) reached and the optimization hasn't converged yet.\n",
      "  warnings.warn(\n"
     ]
    },
    {
     "name": "stdout",
     "output_type": "stream",
     "text": [
      "[CV 3/3] END activation=relu, hidden_layer_sizes=5, learning_rate_init=0.1;, score=0.806 total time=   1.5s\n",
      "[CV 2/3] END activation=logistic, hidden_layer_sizes=15, learning_rate_init=0.001;, score=0.804 total time=  10.0s\n"
     ]
    },
    {
     "name": "stderr",
     "output_type": "stream",
     "text": [
      "/root/.cache/pypoetry/virtualenvs/sin5007-lcGWJnmY-py3.11/lib/python3.11/site-packages/sklearn/neural_network/_multilayer_perceptron.py:690: ConvergenceWarning: Stochastic Optimizer: Maximum iterations (200) reached and the optimization hasn't converged yet.\n",
      "  warnings.warn(\n"
     ]
    },
    {
     "name": "stdout",
     "output_type": "stream",
     "text": [
      "[CV 2/3] END activation=relu, hidden_layer_sizes=5, learning_rate_init=0.001;, score=0.798 total time=   5.2s\n",
      "[CV 3/3] END activation=relu, hidden_layer_sizes=5, learning_rate_init=0.001;, score=0.803 total time=   4.6s\n",
      "[CV 3/3] END activation=relu, hidden_layer_sizes=10, learning_rate_init=0.1;, score=0.803 total time=   0.9s\n",
      "[CV 1/3] END activation=relu, hidden_layer_sizes=10, learning_rate_init=0.1;, score=0.807 total time=   1.3s\n",
      "[CV 1/3] END activation=relu, hidden_layer_sizes=10, learning_rate_init=0.05;, score=0.807 total time=   1.8s\n",
      "[CV 2/3] END activation=relu, hidden_layer_sizes=10, learning_rate_init=0.1;, score=0.804 total time=   1.4s\n",
      "[CV 2/3] END activation=relu, hidden_layer_sizes=10, learning_rate_init=0.05;, score=0.804 total time=   2.0s\n",
      "[CV 2/3] END activation=relu, hidden_layer_sizes=10, learning_rate_init=0.01;, score=0.806 total time=   3.0s\n",
      "[CV 3/3] END activation=relu, hidden_layer_sizes=10, learning_rate_init=0.05;, score=0.800 total time=   2.6s\n",
      "[CV 3/3] END activation=relu, hidden_layer_sizes=10, learning_rate_init=0.01;, score=0.805 total time=   3.0s\n",
      "[CV 1/3] END activation=relu, hidden_layer_sizes=10, learning_rate_init=0.01;, score=0.806 total time=   6.9s\n",
      "[CV 1/3] END activation=relu, hidden_layer_sizes=15, learning_rate_init=0.01;, score=0.809 total time=   4.8s\n",
      "[CV 2/3] END activation=relu, hidden_layer_sizes=15, learning_rate_init=0.05;, score=0.797 total time=   4.4s\n",
      "[CV 1/3] END activation=relu, hidden_layer_sizes=15, learning_rate_init=0.05;, score=0.815 total time=   4.6s\n",
      "[CV 2/3] END activation=relu, hidden_layer_sizes=15, learning_rate_init=0.01;, score=0.804 total time=   5.7s\n",
      "[CV 3/3] END activation=relu, hidden_layer_sizes=15, learning_rate_init=0.1;, score=0.812 total time=   1.1s\n",
      "[CV 3/3] END activation=relu, hidden_layer_sizes=15, learning_rate_init=0.05;, score=0.808 total time=   2.5s\n",
      "[CV 1/3] END activation=relu, hidden_layer_sizes=15, learning_rate_init=0.1;, score=0.802 total time=   2.3s\n",
      "[CV 2/3] END activation=relu, hidden_layer_sizes=10, learning_rate_init=0.001;, score=0.806 total time=   9.9s\n",
      "[CV 2/3] END activation=relu, hidden_layer_sizes=15, learning_rate_init=0.1;, score=0.802 total time=   2.0s\n",
      "[CV 3/3] END activation=relu, hidden_layer_sizes=15, learning_rate_init=0.01;, score=0.802 total time=   6.7s\n",
      "[CV 3/3] END activation=relu, hidden_layer_sizes=10, learning_rate_init=0.001;, score=0.806 total time=  10.1s\n",
      "[CV 1/3] END activation=relu, hidden_layer_sizes=10, learning_rate_init=0.001;, score=0.809 total time=  10.9s\n",
      "[CV 1/3] END activation=relu, hidden_layer_sizes=15, learning_rate_init=0.001;, score=0.805 total time=   8.8s\n"
     ]
    },
    {
     "name": "stderr",
     "output_type": "stream",
     "text": [
      "/root/.cache/pypoetry/virtualenvs/sin5007-lcGWJnmY-py3.11/lib/python3.11/site-packages/sklearn/neural_network/_multilayer_perceptron.py:690: ConvergenceWarning: Stochastic Optimizer: Maximum iterations (200) reached and the optimization hasn't converged yet.\n",
      "  warnings.warn(\n",
      "/root/.cache/pypoetry/virtualenvs/sin5007-lcGWJnmY-py3.11/lib/python3.11/site-packages/sklearn/neural_network/_multilayer_perceptron.py:690: ConvergenceWarning: Stochastic Optimizer: Maximum iterations (200) reached and the optimization hasn't converged yet.\n",
      "  warnings.warn(\n"
     ]
    },
    {
     "name": "stdout",
     "output_type": "stream",
     "text": [
      "[CV 3/3] END activation=relu, hidden_layer_sizes=15, learning_rate_init=0.001;, score=0.809 total time=   8.9s\n",
      "[CV 2/3] END activation=relu, hidden_layer_sizes=15, learning_rate_init=0.001;, score=0.803 total time=   9.2s\n",
      "===> 2024-10-28 15:41:22.536339 | FINALIZADO FOLD 7 | TEMPO TOTAL 0:00:29.390886\n",
      "\n",
      "====> 2024-10-28 15:41:22.537018 | EXECUTANDO FOLD 8 \n",
      "Fitting 3 folds for each of 24 candidates, totalling 72 fits\n",
      "[CV 1/3] END activation=logistic, hidden_layer_sizes=5, learning_rate_init=0.1;, score=0.796 total time=   1.0s\n",
      "[CV 3/3] END activation=logistic, hidden_layer_sizes=5, learning_rate_init=0.05;, score=0.799 total time=   1.2s\n",
      "[CV 2/3] END activation=logistic, hidden_layer_sizes=5, learning_rate_init=0.1;, score=0.799 total time=   1.3s\n",
      "[CV 3/3] END activation=logistic, hidden_layer_sizes=5, learning_rate_init=0.1;, score=0.806 total time=   1.3s\n",
      "[CV 1/3] END activation=logistic, hidden_layer_sizes=5, learning_rate_init=0.05;, score=0.808 total time=   1.9s\n",
      "[CV 3/3] END activation=logistic, hidden_layer_sizes=5, learning_rate_init=0.01;, score=0.809 total time=   2.0s\n",
      "[CV 2/3] END activation=logistic, hidden_layer_sizes=5, learning_rate_init=0.05;, score=0.798 total time=   2.7s\n",
      "[CV 2/3] END activation=logistic, hidden_layer_sizes=5, learning_rate_init=0.01;, score=0.800 total time=   2.9s\n",
      "[CV 1/3] END activation=logistic, hidden_layer_sizes=5, learning_rate_init=0.01;, score=0.810 total time=   3.3s\n",
      "[CV 3/3] END activation=logistic, hidden_layer_sizes=10, learning_rate_init=0.001;, score=0.802 total time=   3.3s\n",
      "[CV 1/3] END activation=logistic, hidden_layer_sizes=10, learning_rate_init=0.001;, score=0.802 total time=   3.9s\n",
      "[CV 1/3] END activation=logistic, hidden_layer_sizes=5, learning_rate_init=0.001;, score=0.803 total time=   5.0s\n",
      "[CV 1/3] END activation=logistic, hidden_layer_sizes=10, learning_rate_init=0.05;, score=0.808 total time=   2.5s\n",
      "[CV 2/3] END activation=logistic, hidden_layer_sizes=10, learning_rate_init=0.01;, score=0.808 total time=   3.8s\n",
      "[CV 2/3] END activation=logistic, hidden_layer_sizes=10, learning_rate_init=0.05;, score=0.809 total time=   2.8s\n",
      "[CV 3/3] END activation=logistic, hidden_layer_sizes=10, learning_rate_init=0.05;, score=0.806 total time=   2.7s\n",
      "[CV 2/3] END activation=logistic, hidden_layer_sizes=5, learning_rate_init=0.001;, score=0.798 total time=   6.4s\n",
      "[CV 2/3] END activation=logistic, hidden_layer_sizes=10, learning_rate_init=0.1;, score=0.804 total time=   1.5s\n",
      "[CV 1/3] END activation=logistic, hidden_layer_sizes=10, learning_rate_init=0.01;, score=0.801 total time=   5.2s\n",
      "[CV 1/3] END activation=logistic, hidden_layer_sizes=10, learning_rate_init=0.1;, score=0.807 total time=   2.4s\n",
      "[CV 3/3] END activation=logistic, hidden_layer_sizes=10, learning_rate_init=0.1;, score=0.806 total time=   2.2s\n"
     ]
    },
    {
     "name": "stderr",
     "output_type": "stream",
     "text": [
      "/root/.cache/pypoetry/virtualenvs/sin5007-lcGWJnmY-py3.11/lib/python3.11/site-packages/sklearn/neural_network/_multilayer_perceptron.py:690: ConvergenceWarning: Stochastic Optimizer: Maximum iterations (200) reached and the optimization hasn't converged yet.\n",
      "  warnings.warn(\n"
     ]
    },
    {
     "name": "stdout",
     "output_type": "stream",
     "text": [
      "[CV 3/3] END activation=logistic, hidden_layer_sizes=5, learning_rate_init=0.001;, score=0.806 total time=   7.9s\n",
      "[CV 3/3] END activation=logistic, hidden_layer_sizes=10, learning_rate_init=0.01;, score=0.810 total time=   6.3s\n"
     ]
    },
    {
     "name": "stderr",
     "output_type": "stream",
     "text": [
      "/root/.cache/pypoetry/virtualenvs/sin5007-lcGWJnmY-py3.11/lib/python3.11/site-packages/sklearn/neural_network/_multilayer_perceptron.py:690: ConvergenceWarning: Stochastic Optimizer: Maximum iterations (200) reached and the optimization hasn't converged yet.\n",
      "  warnings.warn(\n"
     ]
    },
    {
     "name": "stdout",
     "output_type": "stream",
     "text": [
      "[CV 2/3] END activation=logistic, hidden_layer_sizes=10, learning_rate_init=0.001;, score=0.803 total time=   9.2s\n",
      "[CV 3/3] END activation=logistic, hidden_layer_sizes=15, learning_rate_init=0.01;, score=0.800 total time=   4.8s\n",
      "[CV 1/3] END activation=logistic, hidden_layer_sizes=15, learning_rate_init=0.1;, score=0.806 total time=   3.6s\n",
      "[CV 2/3] END activation=logistic, hidden_layer_sizes=15, learning_rate_init=0.1;, score=0.808 total time=   3.8s\n",
      "[CV 1/3] END activation=logistic, hidden_layer_sizes=15, learning_rate_init=0.05;, score=0.810 total time=   5.5s\n",
      "[CV 3/3] END activation=logistic, hidden_layer_sizes=15, learning_rate_init=0.05;, score=0.807 total time=   5.2s\n",
      "[CV 2/3] END activation=logistic, hidden_layer_sizes=15, learning_rate_init=0.05;, score=0.799 total time=   5.6s\n",
      "[CV 1/3] END activation=logistic, hidden_layer_sizes=15, learning_rate_init=0.01;, score=0.806 total time=   6.9s\n",
      "[CV 3/3] END activation=logistic, hidden_layer_sizes=15, learning_rate_init=0.1;, score=0.779 total time=   3.0s\n",
      "[CV 2/3] END activation=logistic, hidden_layer_sizes=15, learning_rate_init=0.01;, score=0.807 total time=   7.4s\n",
      "[CV 2/3] END activation=relu, hidden_layer_sizes=5, learning_rate_init=0.01;, score=0.800 total time=   1.5s\n",
      "[CV 1/3] END activation=relu, hidden_layer_sizes=5, learning_rate_init=0.05;, score=0.809 total time=   1.5s\n",
      "[CV 3/3] END activation=relu, hidden_layer_sizes=5, learning_rate_init=0.01;, score=0.793 total time=   1.9s\n",
      "[CV 1/3] END activation=relu, hidden_layer_sizes=5, learning_rate_init=0.01;, score=0.799 total time=   2.7s\n",
      "[CV 3/3] END activation=relu, hidden_layer_sizes=5, learning_rate_init=0.05;, score=0.805 total time=   1.4s\n",
      "[CV 2/3] END activation=relu, hidden_layer_sizes=5, learning_rate_init=0.05;, score=0.804 total time=   1.8s\n",
      "[CV 1/3] END activation=logistic, hidden_layer_sizes=15, learning_rate_init=0.001;, score=0.805 total time=  10.0s\n"
     ]
    },
    {
     "name": "stderr",
     "output_type": "stream",
     "text": [
      "/root/.cache/pypoetry/virtualenvs/sin5007-lcGWJnmY-py3.11/lib/python3.11/site-packages/sklearn/neural_network/_multilayer_perceptron.py:690: ConvergenceWarning: Stochastic Optimizer: Maximum iterations (200) reached and the optimization hasn't converged yet.\n",
      "  warnings.warn(\n",
      "/root/.cache/pypoetry/virtualenvs/sin5007-lcGWJnmY-py3.11/lib/python3.11/site-packages/sklearn/neural_network/_multilayer_perceptron.py:690: ConvergenceWarning: Stochastic Optimizer: Maximum iterations (200) reached and the optimization hasn't converged yet.\n",
      "  warnings.warn(\n"
     ]
    },
    {
     "name": "stdout",
     "output_type": "stream",
     "text": [
      "[CV 2/3] END activation=relu, hidden_layer_sizes=5, learning_rate_init=0.1;, score=0.803 total time=   1.0s\n",
      "[CV 1/3] END activation=relu, hidden_layer_sizes=5, learning_rate_init=0.1;, score=0.801 total time=   1.6s\n",
      "[CV 2/3] END activation=logistic, hidden_layer_sizes=15, learning_rate_init=0.001;, score=0.803 total time=   9.7s\n",
      "[CV 1/3] END activation=relu, hidden_layer_sizes=5, learning_rate_init=0.001;, score=0.804 total time=   4.3s\n",
      "[CV 3/3] END activation=logistic, hidden_layer_sizes=15, learning_rate_init=0.001;, score=0.808 total time=   9.9s\n"
     ]
    },
    {
     "name": "stderr",
     "output_type": "stream",
     "text": [
      "/root/.cache/pypoetry/virtualenvs/sin5007-lcGWJnmY-py3.11/lib/python3.11/site-packages/sklearn/neural_network/_multilayer_perceptron.py:690: ConvergenceWarning: Stochastic Optimizer: Maximum iterations (200) reached and the optimization hasn't converged yet.\n",
      "  warnings.warn(\n"
     ]
    },
    {
     "name": "stdout",
     "output_type": "stream",
     "text": [
      "[CV 3/3] END activation=relu, hidden_layer_sizes=5, learning_rate_init=0.1;, score=0.809 total time=   1.5s\n",
      "[CV 2/3] END activation=relu, hidden_layer_sizes=5, learning_rate_init=0.001;, score=0.802 total time=   4.8s\n",
      "[CV 3/3] END activation=relu, hidden_layer_sizes=5, learning_rate_init=0.001;, score=0.805 total time=   4.6s\n",
      "[CV 1/3] END activation=relu, hidden_layer_sizes=10, learning_rate_init=0.1;, score=0.808 total time=   1.3s\n",
      "[CV 3/3] END activation=relu, hidden_layer_sizes=10, learning_rate_init=0.1;, score=0.805 total time=   0.8s\n",
      "[CV 2/3] END activation=relu, hidden_layer_sizes=10, learning_rate_init=0.1;, score=0.810 total time=   1.4s\n",
      "[CV 2/3] END activation=relu, hidden_layer_sizes=10, learning_rate_init=0.01;, score=0.801 total time=   2.6s\n",
      "[CV 1/3] END activation=relu, hidden_layer_sizes=10, learning_rate_init=0.05;, score=0.811 total time=   2.6s\n",
      "[CV 3/3] END activation=relu, hidden_layer_sizes=10, learning_rate_init=0.05;, score=0.799 total time=   2.4s\n",
      "[CV 3/3] END activation=relu, hidden_layer_sizes=10, learning_rate_init=0.01;, score=0.806 total time=   2.8s\n",
      "[CV 1/3] END activation=relu, hidden_layer_sizes=10, learning_rate_init=0.01;, score=0.809 total time=   3.4s\n",
      "[CV 2/3] END activation=relu, hidden_layer_sizes=10, learning_rate_init=0.05;, score=0.804 total time=   3.1s\n",
      "[CV 1/3] END activation=relu, hidden_layer_sizes=10, learning_rate_init=0.001;, score=0.808 total time=   5.6s\n",
      "[CV 1/3] END activation=relu, hidden_layer_sizes=15, learning_rate_init=0.05;, score=0.802 total time=   2.7s\n",
      "[CV 3/3] END activation=relu, hidden_layer_sizes=15, learning_rate_init=0.05;, score=0.809 total time=   2.4s\n",
      "[CV 1/3] END activation=relu, hidden_layer_sizes=15, learning_rate_init=0.1;, score=0.808 total time=   1.3s\n",
      "[CV 2/3] END activation=relu, hidden_layer_sizes=15, learning_rate_init=0.05;, score=0.801 total time=   3.1s\n",
      "[CV 2/3] END activation=relu, hidden_layer_sizes=15, learning_rate_init=0.01;, score=0.805 total time=   3.8s\n",
      "[CV 3/3] END activation=relu, hidden_layer_sizes=15, learning_rate_init=0.1;, score=0.812 total time=   1.0s\n",
      "[CV 1/3] END activation=relu, hidden_layer_sizes=15, learning_rate_init=0.01;, score=0.808 total time=   4.2s\n",
      "[CV 3/3] END activation=relu, hidden_layer_sizes=15, learning_rate_init=0.01;, score=0.803 total time=   4.5s\n",
      "[CV 2/3] END activation=relu, hidden_layer_sizes=15, learning_rate_init=0.1;, score=0.804 total time=   1.9s\n",
      "[CV 2/3] END activation=relu, hidden_layer_sizes=10, learning_rate_init=0.001;, score=0.803 total time=   8.0s\n",
      "[CV 3/3] END activation=relu, hidden_layer_sizes=10, learning_rate_init=0.001;, score=0.802 total time=   7.9s\n",
      "[CV 1/3] END activation=relu, hidden_layer_sizes=15, learning_rate_init=0.001;, score=0.805 total time=   9.1s\n",
      "[CV 2/3] END activation=relu, hidden_layer_sizes=15, learning_rate_init=0.001;, score=0.803 total time=   9.0s\n",
      "[CV 3/3] END activation=relu, hidden_layer_sizes=15, learning_rate_init=0.001;, score=0.813 total time=   8.7s\n"
     ]
    },
    {
     "name": "stderr",
     "output_type": "stream",
     "text": [
      "/root/.cache/pypoetry/virtualenvs/sin5007-lcGWJnmY-py3.11/lib/python3.11/site-packages/sklearn/neural_network/_multilayer_perceptron.py:690: ConvergenceWarning: Stochastic Optimizer: Maximum iterations (200) reached and the optimization hasn't converged yet.\n",
      "  warnings.warn(\n",
      "/root/.cache/pypoetry/virtualenvs/sin5007-lcGWJnmY-py3.11/lib/python3.11/site-packages/sklearn/neural_network/_multilayer_perceptron.py:690: ConvergenceWarning: Stochastic Optimizer: Maximum iterations (200) reached and the optimization hasn't converged yet.\n",
      "  warnings.warn(\n"
     ]
    },
    {
     "name": "stdout",
     "output_type": "stream",
     "text": [
      "===> 2024-10-28 15:41:49.918976 | FINALIZADO FOLD 8 | TEMPO TOTAL 0:00:27.381958\n",
      "\n",
      "====> 2024-10-28 15:41:49.919674 | EXECUTANDO FOLD 9 \n",
      "Fitting 3 folds for each of 24 candidates, totalling 72 fits\n",
      "[CV 3/3] END activation=logistic, hidden_layer_sizes=5, learning_rate_init=0.05;, score=0.790 total time=   1.2s\n",
      "[CV 2/3] END activation=logistic, hidden_layer_sizes=5, learning_rate_init=0.05;, score=0.798 total time=   1.3s\n",
      "[CV 2/3] END activation=logistic, hidden_layer_sizes=5, learning_rate_init=0.1;, score=0.800 total time=   1.3s\n",
      "[CV 1/3] END activation=logistic, hidden_layer_sizes=5, learning_rate_init=0.1;, score=0.802 total time=   1.4s\n",
      "[CV 3/3] END activation=logistic, hidden_layer_sizes=5, learning_rate_init=0.1;, score=0.798 total time=   1.5s\n",
      "[CV 1/3] END activation=logistic, hidden_layer_sizes=5, learning_rate_init=0.05;, score=0.813 total time=   1.7s\n",
      "[CV 3/3] END activation=logistic, hidden_layer_sizes=5, learning_rate_init=0.01;, score=0.796 total time=   1.9s\n",
      "[CV 2/3] END activation=logistic, hidden_layer_sizes=5, learning_rate_init=0.01;, score=0.803 total time=   3.3s\n",
      "[CV 1/3] END activation=logistic, hidden_layer_sizes=5, learning_rate_init=0.01;, score=0.806 total time=   3.6s\n",
      "[CV 1/3] END activation=logistic, hidden_layer_sizes=10, learning_rate_init=0.05;, score=0.803 total time=   2.6s\n",
      "[CV 3/3] END activation=logistic, hidden_layer_sizes=10, learning_rate_init=0.001;, score=0.792 total time=   3.3s\n",
      "[CV 1/3] END activation=logistic, hidden_layer_sizes=5, learning_rate_init=0.001;, score=0.803 total time=   5.4s\n",
      "[CV 1/3] END activation=logistic, hidden_layer_sizes=10, learning_rate_init=0.01;, score=0.808 total time=   4.4s\n",
      "[CV 2/3] END activation=logistic, hidden_layer_sizes=5, learning_rate_init=0.001;, score=0.798 total time=   6.4s\n",
      "[CV 2/3] END activation=logistic, hidden_layer_sizes=10, learning_rate_init=0.05;, score=0.805 total time=   3.1s\n",
      "[CV 3/3] END activation=logistic, hidden_layer_sizes=10, learning_rate_init=0.05;, score=0.797 total time=   2.8s\n",
      "[CV 2/3] END activation=logistic, hidden_layer_sizes=10, learning_rate_init=0.1;, score=0.800 total time=   1.8s\n",
      "[CV 1/3] END activation=logistic, hidden_layer_sizes=10, learning_rate_init=0.1;, score=0.798 total time=   2.2s\n",
      "[CV 2/3] END activation=logistic, hidden_layer_sizes=10, learning_rate_init=0.01;, score=0.807 total time=   6.3s\n",
      "[CV 3/3] END activation=logistic, hidden_layer_sizes=10, learning_rate_init=0.1;, score=0.797 total time=   2.4s\n",
      "[CV 3/3] END activation=logistic, hidden_layer_sizes=10, learning_rate_init=0.01;, score=0.800 total time=   6.5s\n"
     ]
    },
    {
     "name": "stderr",
     "output_type": "stream",
     "text": [
      "/root/.cache/pypoetry/virtualenvs/sin5007-lcGWJnmY-py3.11/lib/python3.11/site-packages/sklearn/neural_network/_multilayer_perceptron.py:690: ConvergenceWarning: Stochastic Optimizer: Maximum iterations (200) reached and the optimization hasn't converged yet.\n",
      "  warnings.warn(\n"
     ]
    },
    {
     "name": "stdout",
     "output_type": "stream",
     "text": [
      "[CV 3/3] END activation=logistic, hidden_layer_sizes=5, learning_rate_init=0.001;, score=0.796 total time=   8.6s\n"
     ]
    },
    {
     "name": "stderr",
     "output_type": "stream",
     "text": [
      "/root/.cache/pypoetry/virtualenvs/sin5007-lcGWJnmY-py3.11/lib/python3.11/site-packages/sklearn/neural_network/_multilayer_perceptron.py:690: ConvergenceWarning: Stochastic Optimizer: Maximum iterations (200) reached and the optimization hasn't converged yet.\n",
      "  warnings.warn(\n"
     ]
    },
    {
     "name": "stdout",
     "output_type": "stream",
     "text": [
      "[CV 2/3] END activation=logistic, hidden_layer_sizes=10, learning_rate_init=0.001;, score=0.804 total time=   9.0s\n",
      "[CV 1/3] END activation=logistic, hidden_layer_sizes=15, learning_rate_init=0.1;, score=0.805 total time=   1.9s\n"
     ]
    },
    {
     "name": "stderr",
     "output_type": "stream",
     "text": [
      "/root/.cache/pypoetry/virtualenvs/sin5007-lcGWJnmY-py3.11/lib/python3.11/site-packages/sklearn/neural_network/_multilayer_perceptron.py:690: ConvergenceWarning: Stochastic Optimizer: Maximum iterations (200) reached and the optimization hasn't converged yet.\n",
      "  warnings.warn(\n"
     ]
    },
    {
     "name": "stdout",
     "output_type": "stream",
     "text": [
      "[CV 1/3] END activation=logistic, hidden_layer_sizes=10, learning_rate_init=0.001;, score=0.805 total time=   9.3s\n",
      "[CV 2/3] END activation=logistic, hidden_layer_sizes=15, learning_rate_init=0.01;, score=0.807 total time=   4.9s\n",
      "[CV 3/3] END activation=logistic, hidden_layer_sizes=15, learning_rate_init=0.01;, score=0.790 total time=   4.8s\n",
      "[CV 1/3] END activation=logistic, hidden_layer_sizes=15, learning_rate_init=0.05;, score=0.810 total time=   3.9s\n",
      "[CV 2/3] END activation=logistic, hidden_layer_sizes=15, learning_rate_init=0.05;, score=0.803 total time=   4.0s\n",
      "[CV 2/3] END activation=logistic, hidden_layer_sizes=15, learning_rate_init=0.1;, score=0.792 total time=   2.3s\n",
      "[CV 3/3] END activation=logistic, hidden_layer_sizes=15, learning_rate_init=0.1;, score=0.768 total time=   3.0s\n",
      "[CV 3/3] END activation=logistic, hidden_layer_sizes=15, learning_rate_init=0.05;, score=0.798 total time=   5.5s\n",
      "[CV 1/3] END activation=logistic, hidden_layer_sizes=15, learning_rate_init=0.01;, score=0.810 total time=   7.9s\n",
      "[CV 3/3] END activation=relu, hidden_layer_sizes=5, learning_rate_init=0.01;, score=0.784 total time=   1.9s\n",
      "[CV 1/3] END activation=relu, hidden_layer_sizes=5, learning_rate_init=0.05;, score=0.808 total time=   1.5s\n",
      "[CV 1/3] END activation=relu, hidden_layer_sizes=5, learning_rate_init=0.001;, score=0.804 total time=   4.5s\n",
      "[CV 2/3] END activation=relu, hidden_layer_sizes=5, learning_rate_init=0.05;, score=0.808 total time=   1.3s\n",
      "[CV 2/3] END activation=relu, hidden_layer_sizes=5, learning_rate_init=0.01;, score=0.801 total time=   3.6s\n",
      "[CV 3/3] END activation=relu, hidden_layer_sizes=5, learning_rate_init=0.05;, score=0.796 total time=   1.4s\n",
      "[CV 1/3] END activation=logistic, hidden_layer_sizes=15, learning_rate_init=0.001;, score=0.805 total time=   9.9s\n",
      "[CV 3/3] END activation=logistic, hidden_layer_sizes=15, learning_rate_init=0.001;, score=0.795 total time=   9.3s\n"
     ]
    },
    {
     "name": "stderr",
     "output_type": "stream",
     "text": [
      "/root/.cache/pypoetry/virtualenvs/sin5007-lcGWJnmY-py3.11/lib/python3.11/site-packages/sklearn/neural_network/_multilayer_perceptron.py:690: ConvergenceWarning: Stochastic Optimizer: Maximum iterations (200) reached and the optimization hasn't converged yet.\n",
      "  warnings.warn(\n",
      "/root/.cache/pypoetry/virtualenvs/sin5007-lcGWJnmY-py3.11/lib/python3.11/site-packages/sklearn/neural_network/_multilayer_perceptron.py:690: ConvergenceWarning: Stochastic Optimizer: Maximum iterations (200) reached and the optimization hasn't converged yet.\n",
      "  warnings.warn(\n"
     ]
    },
    {
     "name": "stdout",
     "output_type": "stream",
     "text": [
      "[CV 3/3] END activation=relu, hidden_layer_sizes=5, learning_rate_init=0.001;, score=0.795 total time=   4.3s\n",
      "[CV 1/3] END activation=relu, hidden_layer_sizes=5, learning_rate_init=0.1;, score=0.806 total time=   1.5s\n",
      "[CV 2/3] END activation=relu, hidden_layer_sizes=5, learning_rate_init=0.001;, score=0.797 total time=   4.8s\n",
      "[CV 2/3] END activation=logistic, hidden_layer_sizes=15, learning_rate_init=0.001;, score=0.802 total time=  10.0s\n"
     ]
    },
    {
     "name": "stderr",
     "output_type": "stream",
     "text": [
      "/root/.cache/pypoetry/virtualenvs/sin5007-lcGWJnmY-py3.11/lib/python3.11/site-packages/sklearn/neural_network/_multilayer_perceptron.py:690: ConvergenceWarning: Stochastic Optimizer: Maximum iterations (200) reached and the optimization hasn't converged yet.\n",
      "  warnings.warn(\n"
     ]
    },
    {
     "name": "stdout",
     "output_type": "stream",
     "text": [
      "[CV 1/3] END activation=relu, hidden_layer_sizes=5, learning_rate_init=0.01;, score=0.805 total time=   4.7s\n",
      "[CV 3/3] END activation=relu, hidden_layer_sizes=5, learning_rate_init=0.1;, score=0.798 total time=   1.5s\n",
      "[CV 2/3] END activation=relu, hidden_layer_sizes=5, learning_rate_init=0.1;, score=0.805 total time=   1.7s\n",
      "[CV 1/3] END activation=relu, hidden_layer_sizes=10, learning_rate_init=0.05;, score=0.809 total time=   1.4s\n",
      "[CV 3/3] END activation=relu, hidden_layer_sizes=10, learning_rate_init=0.1;, score=0.795 total time=   0.8s\n",
      "[CV 1/3] END activation=relu, hidden_layer_sizes=10, learning_rate_init=0.1;, score=0.794 total time=   1.4s\n",
      "[CV 2/3] END activation=relu, hidden_layer_sizes=10, learning_rate_init=0.1;, score=0.797 total time=   1.4s\n",
      "[CV 2/3] END activation=relu, hidden_layer_sizes=10, learning_rate_init=0.05;, score=0.804 total time=   2.2s\n",
      "[CV 3/3] END activation=relu, hidden_layer_sizes=10, learning_rate_init=0.05;, score=0.789 total time=   2.4s\n",
      "[CV 3/3] END activation=relu, hidden_layer_sizes=10, learning_rate_init=0.01;, score=0.796 total time=   2.8s\n",
      "[CV 1/3] END activation=relu, hidden_layer_sizes=10, learning_rate_init=0.01;, score=0.805 total time=   3.8s\n",
      "[CV 1/3] END activation=relu, hidden_layer_sizes=15, learning_rate_init=0.01;, score=0.808 total time=   2.8s\n",
      "[CV 2/3] END activation=relu, hidden_layer_sizes=10, learning_rate_init=0.01;, score=0.805 total time=   5.1s\n",
      "[CV 1/3] END activation=relu, hidden_layer_sizes=15, learning_rate_init=0.05;, score=0.808 total time=   2.7s\n",
      "[CV 2/3] END activation=relu, hidden_layer_sizes=10, learning_rate_init=0.001;, score=0.803 total time=   6.6s\n",
      "[CV 1/3] END activation=relu, hidden_layer_sizes=15, learning_rate_init=0.1;, score=0.809 total time=   1.4s\n",
      "[CV 2/3] END activation=relu, hidden_layer_sizes=15, learning_rate_init=0.01;, score=0.798 total time=   3.9s\n",
      "[CV 2/3] END activation=relu, hidden_layer_sizes=15, learning_rate_init=0.05;, score=0.809 total time=   2.8s\n",
      "[CV 2/3] END activation=relu, hidden_layer_sizes=15, learning_rate_init=0.1;, score=0.805 total time=   1.4s\n",
      "[CV 3/3] END activation=relu, hidden_layer_sizes=15, learning_rate_init=0.1;, score=0.802 total time=   0.9s\n",
      "[CV 3/3] END activation=relu, hidden_layer_sizes=15, learning_rate_init=0.05;, score=0.797 total time=   2.4s\n",
      "[CV 3/3] END activation=relu, hidden_layer_sizes=15, learning_rate_init=0.01;, score=0.795 total time=   4.7s\n",
      "[CV 3/3] END activation=relu, hidden_layer_sizes=10, learning_rate_init=0.001;, score=0.795 total time=   7.9s\n"
     ]
    },
    {
     "name": "stderr",
     "output_type": "stream",
     "text": [
      "/root/.cache/pypoetry/virtualenvs/sin5007-lcGWJnmY-py3.11/lib/python3.11/site-packages/sklearn/neural_network/_multilayer_perceptron.py:690: ConvergenceWarning: Stochastic Optimizer: Maximum iterations (200) reached and the optimization hasn't converged yet.\n",
      "  warnings.warn(\n"
     ]
    },
    {
     "name": "stdout",
     "output_type": "stream",
     "text": [
      "[CV 1/3] END activation=relu, hidden_layer_sizes=10, learning_rate_init=0.001;, score=0.808 total time=   8.7s\n",
      "[CV 1/3] END activation=relu, hidden_layer_sizes=15, learning_rate_init=0.001;, score=0.806 total time=   6.6s\n"
     ]
    },
    {
     "name": "stderr",
     "output_type": "stream",
     "text": [
      "/root/.cache/pypoetry/virtualenvs/sin5007-lcGWJnmY-py3.11/lib/python3.11/site-packages/sklearn/neural_network/_multilayer_perceptron.py:690: ConvergenceWarning: Stochastic Optimizer: Maximum iterations (200) reached and the optimization hasn't converged yet.\n",
      "  warnings.warn(\n",
      "/root/.cache/pypoetry/virtualenvs/sin5007-lcGWJnmY-py3.11/lib/python3.11/site-packages/sklearn/neural_network/_multilayer_perceptron.py:690: ConvergenceWarning: Stochastic Optimizer: Maximum iterations (200) reached and the optimization hasn't converged yet.\n",
      "  warnings.warn(\n"
     ]
    },
    {
     "name": "stdout",
     "output_type": "stream",
     "text": [
      "[CV 3/3] END activation=relu, hidden_layer_sizes=15, learning_rate_init=0.001;, score=0.801 total time=   6.9s\n",
      "[CV 2/3] END activation=relu, hidden_layer_sizes=15, learning_rate_init=0.001;, score=0.805 total time=   7.3s\n",
      "===> 2024-10-28 15:42:15.463338 | FINALIZADO FOLD 9 | TEMPO TOTAL 0:00:25.543664\n",
      "\n",
      "====> 2024-10-28 15:42:15.464024 | EXECUTANDO FOLD 10 \n",
      "Fitting 3 folds for each of 24 candidates, totalling 72 fits\n",
      "[CV 1/3] END activation=logistic, hidden_layer_sizes=5, learning_rate_init=0.1;, score=0.803 total time=   1.1s\n",
      "[CV 3/3] END activation=logistic, hidden_layer_sizes=5, learning_rate_init=0.05;, score=0.797 total time=   1.3s\n",
      "[CV 3/3] END activation=logistic, hidden_layer_sizes=5, learning_rate_init=0.1;, score=0.803 total time=   1.4s\n",
      "[CV 2/3] END activation=logistic, hidden_layer_sizes=5, learning_rate_init=0.1;, score=0.803 total time=   1.4s\n",
      "[CV 2/3] END activation=logistic, hidden_layer_sizes=5, learning_rate_init=0.05;, score=0.800 total time=   1.6s\n",
      "[CV 1/3] END activation=logistic, hidden_layer_sizes=5, learning_rate_init=0.05;, score=0.804 total time=   1.8s\n",
      "[CV 3/3] END activation=logistic, hidden_layer_sizes=5, learning_rate_init=0.01;, score=0.804 total time=   2.0s\n",
      "[CV 1/3] END activation=logistic, hidden_layer_sizes=5, learning_rate_init=0.01;, score=0.808 total time=   2.8s\n",
      "[CV 2/3] END activation=logistic, hidden_layer_sizes=5, learning_rate_init=0.01;, score=0.804 total time=   3.2s\n",
      "[CV 1/3] END activation=logistic, hidden_layer_sizes=10, learning_rate_init=0.05;, score=0.804 total time=   2.6s\n",
      "[CV 3/3] END activation=logistic, hidden_layer_sizes=10, learning_rate_init=0.001;, score=0.799 total time=   3.3s\n",
      "[CV 1/3] END activation=logistic, hidden_layer_sizes=10, learning_rate_init=0.01;, score=0.802 total time=   6.4s\n",
      "[CV 3/3] END activation=logistic, hidden_layer_sizes=10, learning_rate_init=0.05;, score=0.806 total time=   4.8s\n",
      "[CV 2/3] END activation=logistic, hidden_layer_sizes=10, learning_rate_init=0.05;, score=0.805 total time=   5.3s\n",
      "[CV 1/3] END activation=logistic, hidden_layer_sizes=10, learning_rate_init=0.1;, score=0.801 total time=   4.1s\n"
     ]
    },
    {
     "name": "stderr",
     "output_type": "stream",
     "text": [
      "/root/.cache/pypoetry/virtualenvs/sin5007-lcGWJnmY-py3.11/lib/python3.11/site-packages/sklearn/neural_network/_multilayer_perceptron.py:690: ConvergenceWarning: Stochastic Optimizer: Maximum iterations (200) reached and the optimization hasn't converged yet.\n",
      "  warnings.warn(\n"
     ]
    },
    {
     "name": "stdout",
     "output_type": "stream",
     "text": [
      "[CV 1/3] END activation=logistic, hidden_layer_sizes=5, learning_rate_init=0.001;, score=0.804 total time=  10.1s\n",
      "[CV 2/3] END activation=logistic, hidden_layer_sizes=10, learning_rate_init=0.01;, score=0.802 total time=   8.6s\n",
      "[CV 3/3] END activation=logistic, hidden_layer_sizes=10, learning_rate_init=0.1;, score=0.803 total time=   2.3s\n",
      "[CV 2/3] END activation=logistic, hidden_layer_sizes=10, learning_rate_init=0.1;, score=0.800 total time=   5.6s\n",
      "[CV 3/3] END activation=logistic, hidden_layer_sizes=5, learning_rate_init=0.001;, score=0.803 total time=  10.4s\n",
      "[CV 3/3] END activation=logistic, hidden_layer_sizes=10, learning_rate_init=0.01;, score=0.808 total time=   8.7s\n",
      "[CV 2/3] END activation=logistic, hidden_layer_sizes=5, learning_rate_init=0.001;, score=0.802 total time=  10.5s\n"
     ]
    },
    {
     "name": "stderr",
     "output_type": "stream",
     "text": [
      "/root/.cache/pypoetry/virtualenvs/sin5007-lcGWJnmY-py3.11/lib/python3.11/site-packages/sklearn/neural_network/_multilayer_perceptron.py:690: ConvergenceWarning: Stochastic Optimizer: Maximum iterations (200) reached and the optimization hasn't converged yet.\n",
      "  warnings.warn(\n",
      "/root/.cache/pypoetry/virtualenvs/sin5007-lcGWJnmY-py3.11/lib/python3.11/site-packages/sklearn/neural_network/_multilayer_perceptron.py:690: ConvergenceWarning: Stochastic Optimizer: Maximum iterations (200) reached and the optimization hasn't converged yet.\n",
      "  warnings.warn(\n",
      "/root/.cache/pypoetry/virtualenvs/sin5007-lcGWJnmY-py3.11/lib/python3.11/site-packages/sklearn/neural_network/_multilayer_perceptron.py:690: ConvergenceWarning: Stochastic Optimizer: Maximum iterations (200) reached and the optimization hasn't converged yet.\n",
      "  warnings.warn(\n"
     ]
    },
    {
     "name": "stdout",
     "output_type": "stream",
     "text": [
      "[CV 1/3] END activation=logistic, hidden_layer_sizes=10, learning_rate_init=0.001;, score=0.806 total time=  11.1s\n"
     ]
    },
    {
     "name": "stderr",
     "output_type": "stream",
     "text": [
      "/root/.cache/pypoetry/virtualenvs/sin5007-lcGWJnmY-py3.11/lib/python3.11/site-packages/sklearn/neural_network/_multilayer_perceptron.py:690: ConvergenceWarning: Stochastic Optimizer: Maximum iterations (200) reached and the optimization hasn't converged yet.\n",
      "  warnings.warn(\n"
     ]
    },
    {
     "name": "stdout",
     "output_type": "stream",
     "text": [
      "[CV 2/3] END activation=logistic, hidden_layer_sizes=10, learning_rate_init=0.001;, score=0.803 total time=  11.3s\n",
      "[CV 1/3] END activation=logistic, hidden_layer_sizes=15, learning_rate_init=0.05;, score=0.806 total time=   3.7s\n",
      "[CV 1/3] END activation=logistic, hidden_layer_sizes=15, learning_rate_init=0.1;, score=0.804 total time=   3.9s\n",
      "[CV 2/3] END activation=logistic, hidden_layer_sizes=15, learning_rate_init=0.05;, score=0.807 total time=   4.1s\n",
      "[CV 2/3] END activation=logistic, hidden_layer_sizes=15, learning_rate_init=0.1;, score=0.796 total time=   2.8s\n",
      "[CV 3/3] END activation=logistic, hidden_layer_sizes=15, learning_rate_init=0.01;, score=0.797 total time=   4.9s\n",
      "[CV 3/3] END activation=logistic, hidden_layer_sizes=15, learning_rate_init=0.1;, score=0.777 total time=   3.0s\n",
      "[CV 3/3] END activation=logistic, hidden_layer_sizes=15, learning_rate_init=0.05;, score=0.802 total time=   5.3s\n",
      "[CV 1/3] END activation=logistic, hidden_layer_sizes=15, learning_rate_init=0.01;, score=0.807 total time=   6.7s\n"
     ]
    },
    {
     "name": "stderr",
     "output_type": "stream",
     "text": [
      "/root/.cache/pypoetry/virtualenvs/sin5007-lcGWJnmY-py3.11/lib/python3.11/site-packages/sklearn/neural_network/_multilayer_perceptron.py:690: ConvergenceWarning: Stochastic Optimizer: Maximum iterations (200) reached and the optimization hasn't converged yet.\n",
      "  warnings.warn(\n"
     ]
    },
    {
     "name": "stdout",
     "output_type": "stream",
     "text": [
      "[CV 1/3] END activation=logistic, hidden_layer_sizes=15, learning_rate_init=0.001;, score=0.804 total time=   9.4s\n",
      "[CV 2/3] END activation=relu, hidden_layer_sizes=5, learning_rate_init=0.01;, score=0.797 total time=   2.5s\n",
      "[CV 3/3] END activation=relu, hidden_layer_sizes=5, learning_rate_init=0.01;, score=0.790 total time=   2.0s\n",
      "[CV 1/3] END activation=relu, hidden_layer_sizes=5, learning_rate_init=0.001;, score=0.805 total time=   3.8s\n",
      "[CV 1/3] END activation=relu, hidden_layer_sizes=5, learning_rate_init=0.01;, score=0.803 total time=   3.0s\n",
      "[CV 2/3] END activation=logistic, hidden_layer_sizes=15, learning_rate_init=0.001;, score=0.802 total time=   9.8s\n",
      "[CV 1/3] END activation=relu, hidden_layer_sizes=5, learning_rate_init=0.05;, score=0.800 total time=   2.2s\n"
     ]
    },
    {
     "name": "stderr",
     "output_type": "stream",
     "text": [
      "/root/.cache/pypoetry/virtualenvs/sin5007-lcGWJnmY-py3.11/lib/python3.11/site-packages/sklearn/neural_network/_multilayer_perceptron.py:690: ConvergenceWarning: Stochastic Optimizer: Maximum iterations (200) reached and the optimization hasn't converged yet.\n",
      "  warnings.warn(\n"
     ]
    },
    {
     "name": "stdout",
     "output_type": "stream",
     "text": [
      "[CV 2/3] END activation=relu, hidden_layer_sizes=5, learning_rate_init=0.05;, score=0.804 total time=   1.3s\n",
      "[CV 2/3] END activation=logistic, hidden_layer_sizes=15, learning_rate_init=0.01;, score=0.809 total time=   8.1s\n"
     ]
    },
    {
     "name": "stderr",
     "output_type": "stream",
     "text": [
      "/root/.cache/pypoetry/virtualenvs/sin5007-lcGWJnmY-py3.11/lib/python3.11/site-packages/sklearn/neural_network/_multilayer_perceptron.py:690: ConvergenceWarning: Stochastic Optimizer: Maximum iterations (200) reached and the optimization hasn't converged yet.\n",
      "  warnings.warn(\n"
     ]
    },
    {
     "name": "stdout",
     "output_type": "stream",
     "text": [
      "[CV 3/3] END activation=logistic, hidden_layer_sizes=15, learning_rate_init=0.001;, score=0.805 total time=  10.0s\n",
      "[CV 2/3] END activation=relu, hidden_layer_sizes=5, learning_rate_init=0.001;, score=0.800 total time=   4.5s\n",
      "[CV 3/3] END activation=relu, hidden_layer_sizes=5, learning_rate_init=0.05;, score=0.804 total time=   1.4s\n",
      "[CV 2/3] END activation=relu, hidden_layer_sizes=5, learning_rate_init=0.1;, score=0.799 total time=   1.4s\n",
      "[CV 3/3] END activation=relu, hidden_layer_sizes=5, learning_rate_init=0.001;, score=0.799 total time=   4.7s\n",
      "[CV 3/3] END activation=relu, hidden_layer_sizes=5, learning_rate_init=0.1;, score=0.804 total time=   1.5s\n",
      "[CV 1/3] END activation=relu, hidden_layer_sizes=5, learning_rate_init=0.1;, score=0.803 total time=   2.1s\n",
      "[CV 1/3] END activation=relu, hidden_layer_sizes=10, learning_rate_init=0.1;, score=0.801 total time=   1.2s\n",
      "[CV 3/3] END activation=relu, hidden_layer_sizes=10, learning_rate_init=0.1;, score=0.799 total time=   0.8s\n",
      "[CV 2/3] END activation=relu, hidden_layer_sizes=10, learning_rate_init=0.1;, score=0.802 total time=   1.4s\n",
      "[CV 3/3] END activation=relu, hidden_layer_sizes=10, learning_rate_init=0.05;, score=0.798 total time=   2.4s\n",
      "[CV 1/3] END activation=relu, hidden_layer_sizes=10, learning_rate_init=0.05;, score=0.799 total time=   2.6s\n",
      "[CV 3/3] END activation=relu, hidden_layer_sizes=10, learning_rate_init=0.01;, score=0.803 total time=   2.9s\n",
      "[CV 2/3] END activation=relu, hidden_layer_sizes=10, learning_rate_init=0.05;, score=0.806 total time=   2.8s\n",
      "[CV 1/3] END activation=relu, hidden_layer_sizes=10, learning_rate_init=0.01;, score=0.800 total time=   3.9s\n",
      "[CV 2/3] END activation=relu, hidden_layer_sizes=10, learning_rate_init=0.01;, score=0.806 total time=   4.1s\n",
      "[CV 3/3] END activation=relu, hidden_layer_sizes=15, learning_rate_init=0.05;, score=0.807 total time=   2.5s\n",
      "[CV 2/3] END activation=relu, hidden_layer_sizes=15, learning_rate_init=0.05;, score=0.798 total time=   3.0s\n",
      "[CV 1/3] END activation=relu, hidden_layer_sizes=15, learning_rate_init=0.05;, score=0.802 total time=   3.3s\n",
      "[CV 1/3] END activation=relu, hidden_layer_sizes=15, learning_rate_init=0.01;, score=0.813 total time=   3.8s\n",
      "[CV 2/3] END activation=relu, hidden_layer_sizes=15, learning_rate_init=0.01;, score=0.800 total time=   3.8s\n",
      "[CV 1/3] END activation=relu, hidden_layer_sizes=10, learning_rate_init=0.001;, score=0.808 total time=   7.9s\n",
      "[CV 2/3] END activation=relu, hidden_layer_sizes=15, learning_rate_init=0.1;, score=0.792 total time=   0.9s\n",
      "[CV 1/3] END activation=relu, hidden_layer_sizes=15, learning_rate_init=0.1;, score=0.806 total time=   1.0s\n",
      "[CV 3/3] END activation=relu, hidden_layer_sizes=15, learning_rate_init=0.1;, score=0.810 total time=   0.9s\n",
      "[CV 3/3] END activation=relu, hidden_layer_sizes=10, learning_rate_init=0.001;, score=0.803 total time=   8.2s\n",
      "[CV 3/3] END activation=relu, hidden_layer_sizes=15, learning_rate_init=0.01;, score=0.800 total time=   4.6s\n",
      "[CV 2/3] END activation=relu, hidden_layer_sizes=10, learning_rate_init=0.001;, score=0.804 total time=   8.4s\n",
      "[CV 1/3] END activation=relu, hidden_layer_sizes=15, learning_rate_init=0.001;, score=0.804 total time=   7.0s\n"
     ]
    },
    {
     "name": "stderr",
     "output_type": "stream",
     "text": [
      "/root/.cache/pypoetry/virtualenvs/sin5007-lcGWJnmY-py3.11/lib/python3.11/site-packages/sklearn/neural_network/_multilayer_perceptron.py:690: ConvergenceWarning: Stochastic Optimizer: Maximum iterations (200) reached and the optimization hasn't converged yet.\n",
      "  warnings.warn(\n",
      "/root/.cache/pypoetry/virtualenvs/sin5007-lcGWJnmY-py3.11/lib/python3.11/site-packages/sklearn/neural_network/_multilayer_perceptron.py:690: ConvergenceWarning: Stochastic Optimizer: Maximum iterations (200) reached and the optimization hasn't converged yet.\n",
      "  warnings.warn(\n"
     ]
    },
    {
     "name": "stdout",
     "output_type": "stream",
     "text": [
      "[CV 2/3] END activation=relu, hidden_layer_sizes=15, learning_rate_init=0.001;, score=0.804 total time=   7.0s\n",
      "[CV 3/3] END activation=relu, hidden_layer_sizes=15, learning_rate_init=0.001;, score=0.810 total time=   7.0s\n",
      "===> 2024-10-28 15:42:47.584140 | FINALIZADO FOLD 10 | TEMPO TOTAL 0:00:32.120116\n",
      "\n",
      "Resultados na validação cruzada: {'f1': 0.800222299032783, 'accuracy': 0.8003922479067468, 'precision': 0.8014528500687905, 'recall': 0.8003924046793323}\n",
      "Resultados na base de teste: {'activation': 'relu', 'hidden_layer_sizes': 10, 'learning_rate_init': 0.05}\n",
      "Melhores parâmetros escolhidos: {'f1': 0.739859481372696, 'accuracy': 0.78560794044665, 'precision': 0.725489375006523, 'recall': 0.8018313860890082}\n"
     ]
    }
   ],
   "source": [
    "param_grid_categorical = {\n",
    "    \"hidden_layer_sizes\": [5, 10, 15],\n",
    "    \"activation\": [\"logistic\", \"relu\"],\n",
    "    \"learning_rate_init\": [0.001, 0.01, 0.05, 0.1]\n",
    "}\n",
    "\n",
    "filtro_correlacao = [\n",
    "    \"MinTemp\",\n",
    "    \"MaxTemp\",\n",
    "    \"Rainfall\",\n",
    "    \"Evaporation\",\n",
    "    \"Sunshine\",\n",
    "    \"WindGustSpeed\",\n",
    "    \"WindSpeed3pm\",\n",
    "    \"Humidity9am\",\n",
    "    \"Humidity3pm\",\n",
    "    \"Pressure3pm\",\n",
    "    \"Cloud9am\",\n",
    "    \"Cloud3pm\",\n",
    "    \"RangeTemp\",\n",
    "    \"Rainfall_Discretized\",\n",
    "]\n",
    "\n",
    "# Executar para diferentes modelos e conjuntos de dados\n",
    "results_validation_v2, best_params_v2, results_test_v2, results_list_corr_v2 = (\n",
    "    run_cross_validation(\n",
    "        df_train[filtro_correlacao],\n",
    "        df_train[\"RainTomorrow\"],\n",
    "        df_test[filtro_correlacao],\n",
    "        df_test[\"RainTomorrow\"],\n",
    "    MLPClassifier(random_state=42),\n",
    "    param_grid_categorical,\n",
    "    k_folds=10,\n",
    "    )\n",
    ")\n",
    "\n",
    "print(\"Resultados na validação cruzada:\", results_validation_v2)\n",
    "print(\"Resultados na base de teste:\", results_test_v2)\n",
    "print(\"Melhores parâmetros escolhidos:\", best_params_v2)"
   ]
  },
  {
   "cell_type": "code",
   "execution_count": 58,
   "metadata": {},
   "outputs": [
    {
     "data": {
      "text/html": [
       "<div>\n",
       "<style scoped>\n",
       "    .dataframe tbody tr th:only-of-type {\n",
       "        vertical-align: middle;\n",
       "    }\n",
       "\n",
       "    .dataframe tbody tr th {\n",
       "        vertical-align: top;\n",
       "    }\n",
       "\n",
       "    .dataframe thead th {\n",
       "        text-align: right;\n",
       "    }\n",
       "</style>\n",
       "<table border=\"1\" class=\"dataframe\">\n",
       "  <thead>\n",
       "    <tr style=\"text-align: right;\">\n",
       "      <th></th>\n",
       "      <th>f1</th>\n",
       "      <th>accuracy</th>\n",
       "      <th>precision</th>\n",
       "      <th>recall</th>\n",
       "      <th>dataset</th>\n",
       "    </tr>\n",
       "  </thead>\n",
       "  <tbody>\n",
       "    <tr>\n",
       "      <th>0</th>\n",
       "      <td>0.799863</td>\n",
       "      <td>0.799899</td>\n",
       "      <td>0.800136</td>\n",
       "      <td>0.799906</td>\n",
       "      <td>Validação Cruzada</td>\n",
       "    </tr>\n",
       "    <tr>\n",
       "      <th>1</th>\n",
       "      <td>0.812408</td>\n",
       "      <td>0.812971</td>\n",
       "      <td>0.816840</td>\n",
       "      <td>0.812999</td>\n",
       "      <td>Validação Cruzada</td>\n",
       "    </tr>\n",
       "    <tr>\n",
       "      <th>2</th>\n",
       "      <td>0.792115</td>\n",
       "      <td>0.792358</td>\n",
       "      <td>0.793694</td>\n",
       "      <td>0.792341</td>\n",
       "      <td>Validação Cruzada</td>\n",
       "    </tr>\n",
       "    <tr>\n",
       "      <th>3</th>\n",
       "      <td>0.796666</td>\n",
       "      <td>0.796883</td>\n",
       "      <td>0.798121</td>\n",
       "      <td>0.796867</td>\n",
       "      <td>Validação Cruzada</td>\n",
       "    </tr>\n",
       "    <tr>\n",
       "      <th>4</th>\n",
       "      <td>0.803455</td>\n",
       "      <td>0.803823</td>\n",
       "      <td>0.806114</td>\n",
       "      <td>0.803823</td>\n",
       "      <td>Validação Cruzada</td>\n",
       "    </tr>\n",
       "    <tr>\n",
       "      <th>5</th>\n",
       "      <td>0.784572</td>\n",
       "      <td>0.784708</td>\n",
       "      <td>0.785430</td>\n",
       "      <td>0.784708</td>\n",
       "      <td>Validação Cruzada</td>\n",
       "    </tr>\n",
       "    <tr>\n",
       "      <th>6</th>\n",
       "      <td>0.801302</td>\n",
       "      <td>0.801308</td>\n",
       "      <td>0.801345</td>\n",
       "      <td>0.801308</td>\n",
       "      <td>Validação Cruzada</td>\n",
       "    </tr>\n",
       "    <tr>\n",
       "      <th>7</th>\n",
       "      <td>0.790230</td>\n",
       "      <td>0.790241</td>\n",
       "      <td>0.790308</td>\n",
       "      <td>0.790241</td>\n",
       "      <td>Validação Cruzada</td>\n",
       "    </tr>\n",
       "    <tr>\n",
       "      <th>8</th>\n",
       "      <td>0.817293</td>\n",
       "      <td>0.817404</td>\n",
       "      <td>0.818178</td>\n",
       "      <td>0.817404</td>\n",
       "      <td>Validação Cruzada</td>\n",
       "    </tr>\n",
       "    <tr>\n",
       "      <th>9</th>\n",
       "      <td>0.804320</td>\n",
       "      <td>0.804326</td>\n",
       "      <td>0.804363</td>\n",
       "      <td>0.804326</td>\n",
       "      <td>Validação Cruzada</td>\n",
       "    </tr>\n",
       "    <tr>\n",
       "      <th>0</th>\n",
       "      <td>0.747302</td>\n",
       "      <td>0.795108</td>\n",
       "      <td>0.730478</td>\n",
       "      <td>0.803216</td>\n",
       "      <td>Teste</td>\n",
       "    </tr>\n",
       "    <tr>\n",
       "      <th>1</th>\n",
       "      <td>0.723999</td>\n",
       "      <td>0.766040</td>\n",
       "      <td>0.714692</td>\n",
       "      <td>0.797283</td>\n",
       "      <td>Teste</td>\n",
       "    </tr>\n",
       "    <tr>\n",
       "      <th>2</th>\n",
       "      <td>0.739355</td>\n",
       "      <td>0.784651</td>\n",
       "      <td>0.724842</td>\n",
       "      <td>0.802719</td>\n",
       "      <td>Teste</td>\n",
       "    </tr>\n",
       "    <tr>\n",
       "      <th>3</th>\n",
       "      <td>0.727605</td>\n",
       "      <td>0.771003</td>\n",
       "      <td>0.716551</td>\n",
       "      <td>0.797289</td>\n",
       "      <td>Teste</td>\n",
       "    </tr>\n",
       "    <tr>\n",
       "      <th>4</th>\n",
       "      <td>0.733872</td>\n",
       "      <td>0.777561</td>\n",
       "      <td>0.721314</td>\n",
       "      <td>0.801927</td>\n",
       "      <td>Teste</td>\n",
       "    </tr>\n",
       "    <tr>\n",
       "      <th>5</th>\n",
       "      <td>0.733955</td>\n",
       "      <td>0.777650</td>\n",
       "      <td>0.721377</td>\n",
       "      <td>0.801984</td>\n",
       "      <td>Teste</td>\n",
       "    </tr>\n",
       "    <tr>\n",
       "      <th>6</th>\n",
       "      <td>0.752285</td>\n",
       "      <td>0.801312</td>\n",
       "      <td>0.734497</td>\n",
       "      <td>0.804162</td>\n",
       "      <td>Teste</td>\n",
       "    </tr>\n",
       "    <tr>\n",
       "      <th>7</th>\n",
       "      <td>0.753162</td>\n",
       "      <td>0.802464</td>\n",
       "      <td>0.735225</td>\n",
       "      <td>0.804179</td>\n",
       "      <td>Teste</td>\n",
       "    </tr>\n",
       "    <tr>\n",
       "      <th>8</th>\n",
       "      <td>0.733982</td>\n",
       "      <td>0.779156</td>\n",
       "      <td>0.720566</td>\n",
       "      <td>0.798619</td>\n",
       "      <td>Teste</td>\n",
       "    </tr>\n",
       "    <tr>\n",
       "      <th>9</th>\n",
       "      <td>0.753079</td>\n",
       "      <td>0.801134</td>\n",
       "      <td>0.735351</td>\n",
       "      <td>0.806936</td>\n",
       "      <td>Teste</td>\n",
       "    </tr>\n",
       "  </tbody>\n",
       "</table>\n",
       "</div>"
      ],
      "text/plain": [
       "         f1  accuracy  precision    recall            dataset\n",
       "0  0.799863  0.799899   0.800136  0.799906  Validação Cruzada\n",
       "1  0.812408  0.812971   0.816840  0.812999  Validação Cruzada\n",
       "2  0.792115  0.792358   0.793694  0.792341  Validação Cruzada\n",
       "3  0.796666  0.796883   0.798121  0.796867  Validação Cruzada\n",
       "4  0.803455  0.803823   0.806114  0.803823  Validação Cruzada\n",
       "5  0.784572  0.784708   0.785430  0.784708  Validação Cruzada\n",
       "6  0.801302  0.801308   0.801345  0.801308  Validação Cruzada\n",
       "7  0.790230  0.790241   0.790308  0.790241  Validação Cruzada\n",
       "8  0.817293  0.817404   0.818178  0.817404  Validação Cruzada\n",
       "9  0.804320  0.804326   0.804363  0.804326  Validação Cruzada\n",
       "0  0.747302  0.795108   0.730478  0.803216              Teste\n",
       "1  0.723999  0.766040   0.714692  0.797283              Teste\n",
       "2  0.739355  0.784651   0.724842  0.802719              Teste\n",
       "3  0.727605  0.771003   0.716551  0.797289              Teste\n",
       "4  0.733872  0.777561   0.721314  0.801927              Teste\n",
       "5  0.733955  0.777650   0.721377  0.801984              Teste\n",
       "6  0.752285  0.801312   0.734497  0.804162              Teste\n",
       "7  0.753162  0.802464   0.735225  0.804179              Teste\n",
       "8  0.733982  0.779156   0.720566  0.798619              Teste\n",
       "9  0.753079  0.801134   0.735351  0.806936              Teste"
      ]
     },
     "execution_count": 58,
     "metadata": {},
     "output_type": "execute_result"
    }
   ],
   "source": [
    "results_list_corr_v2"
   ]
  },
  {
   "cell_type": "markdown",
   "metadata": {},
   "source": [
    "### RANDOM FOREST - FEATURE IMPORTANCE"
   ]
  },
  {
   "cell_type": "code",
   "execution_count": 59,
   "metadata": {},
   "outputs": [
    {
     "name": "stdout",
     "output_type": "stream",
     "text": [
      "====> INICIANDO PROCESSAMENTO: 2024-10-28 15:42:47.657849 <====\n",
      "====> 2024-10-28 15:42:47.661111 | EXECUTANDO FOLD 1 \n",
      "Fitting 3 folds for each of 24 candidates, totalling 72 fits\n",
      "[CV 3/3] END activation=logistic, hidden_layer_sizes=5, learning_rate_init=0.05;, score=0.803 total time=   1.4s\n",
      "[CV 3/3] END activation=logistic, hidden_layer_sizes=5, learning_rate_init=0.1;, score=0.804 total time=   1.5s\n",
      "[CV 1/3] END activation=logistic, hidden_layer_sizes=5, learning_rate_init=0.1;, score=0.805 total time=   1.7s\n",
      "[CV 1/3] END activation=logistic, hidden_layer_sizes=5, learning_rate_init=0.05;, score=0.809 total time=   2.0s\n",
      "[CV 2/3] END activation=logistic, hidden_layer_sizes=5, learning_rate_init=0.05;, score=0.791 total time=   2.2s\n",
      "[CV 2/3] END activation=logistic, hidden_layer_sizes=5, learning_rate_init=0.1;, score=0.788 total time=   2.8s\n",
      "[CV 2/3] END activation=logistic, hidden_layer_sizes=5, learning_rate_init=0.01;, score=0.801 total time=   2.9s\n",
      "[CV 3/3] END activation=logistic, hidden_layer_sizes=5, learning_rate_init=0.01;, score=0.800 total time=   3.7s\n",
      "[CV 3/3] END activation=logistic, hidden_layer_sizes=5, learning_rate_init=0.001;, score=0.801 total time=   4.3s\n",
      "[CV 1/3] END activation=logistic, hidden_layer_sizes=5, learning_rate_init=0.01;, score=0.808 total time=   4.4s\n",
      "[CV 2/3] END activation=logistic, hidden_layer_sizes=5, learning_rate_init=0.001;, score=0.799 total time=   5.2s\n",
      "[CV 1/3] END activation=logistic, hidden_layer_sizes=10, learning_rate_init=0.1;, score=0.799 total time=   1.3s\n",
      "[CV 1/3] END activation=logistic, hidden_layer_sizes=10, learning_rate_init=0.05;, score=0.807 total time=   2.8s\n",
      "[CV 2/3] END activation=logistic, hidden_layer_sizes=10, learning_rate_init=0.05;, score=0.795 total time=   2.3s\n",
      "[CV 1/3] END activation=logistic, hidden_layer_sizes=5, learning_rate_init=0.001;, score=0.801 total time=   6.2s\n",
      "[CV 3/3] END activation=logistic, hidden_layer_sizes=10, learning_rate_init=0.05;, score=0.794 total time=   2.0s\n",
      "[CV 2/3] END activation=logistic, hidden_layer_sizes=10, learning_rate_init=0.01;, score=0.798 total time=   5.1s\n",
      "[CV 3/3] END activation=logistic, hidden_layer_sizes=10, learning_rate_init=0.1;, score=0.804 total time=   4.0s\n",
      "[CV 3/3] END activation=logistic, hidden_layer_sizes=10, learning_rate_init=0.01;, score=0.802 total time=   6.9s\n",
      "[CV 2/3] END activation=logistic, hidden_layer_sizes=10, learning_rate_init=0.1;, score=0.803 total time=   4.5s\n",
      "[CV 1/3] END activation=logistic, hidden_layer_sizes=10, learning_rate_init=0.01;, score=0.801 total time=   7.8s\n"
     ]
    },
    {
     "name": "stderr",
     "output_type": "stream",
     "text": [
      "/root/.cache/pypoetry/virtualenvs/sin5007-lcGWJnmY-py3.11/lib/python3.11/site-packages/sklearn/neural_network/_multilayer_perceptron.py:690: ConvergenceWarning: Stochastic Optimizer: Maximum iterations (200) reached and the optimization hasn't converged yet.\n",
      "  warnings.warn(\n"
     ]
    },
    {
     "name": "stdout",
     "output_type": "stream",
     "text": [
      "[CV 1/3] END activation=logistic, hidden_layer_sizes=10, learning_rate_init=0.001;, score=0.804 total time=  10.4s\n",
      "[CV 2/3] END activation=logistic, hidden_layer_sizes=10, learning_rate_init=0.001;, score=0.800 total time=  10.4s\n",
      "[CV 2/3] END activation=logistic, hidden_layer_sizes=15, learning_rate_init=0.05;, score=0.793 total time=   2.3s\n",
      "[CV 3/3] END activation=logistic, hidden_layer_sizes=10, learning_rate_init=0.001;, score=0.801 total time=  10.4s\n",
      "[CV 1/3] END activation=logistic, hidden_layer_sizes=15, learning_rate_init=0.001;, score=0.801 total time=   6.6s\n",
      "[CV 3/3] END activation=logistic, hidden_layer_sizes=15, learning_rate_init=0.001;, score=0.799 total time=   6.2s\n",
      "[CV 3/3] END activation=logistic, hidden_layer_sizes=15, learning_rate_init=0.05;, score=0.806 total time=   2.8s\n",
      "[CV 1/3] END activation=logistic, hidden_layer_sizes=15, learning_rate_init=0.01;, score=0.795 total time=   7.5s\n",
      "[CV 1/3] END activation=logistic, hidden_layer_sizes=15, learning_rate_init=0.05;, score=0.807 total time=   4.4s\n",
      "[CV 3/3] END activation=logistic, hidden_layer_sizes=15, learning_rate_init=0.1;, score=0.809 total time=   2.2s\n",
      "[CV 1/3] END activation=relu, hidden_layer_sizes=5, learning_rate_init=0.01;, score=0.811 total time=   2.0s\n",
      "[CV 2/3] END activation=logistic, hidden_layer_sizes=15, learning_rate_init=0.1;, score=0.805 total time=   2.9s\n",
      "[CV 1/3] END activation=logistic, hidden_layer_sizes=15, learning_rate_init=0.1;, score=0.796 total time=   3.0s\n",
      "[CV 2/3] END activation=relu, hidden_layer_sizes=5, learning_rate_init=0.001;, score=0.801 total time=   3.2s\n",
      "[CV 2/3] END activation=logistic, hidden_layer_sizes=15, learning_rate_init=0.01;, score=0.798 total time=   8.6s\n",
      "[CV 1/3] END activation=relu, hidden_layer_sizes=5, learning_rate_init=0.1;, score=0.806 total time=   1.2s\n",
      "[CV 3/3] END activation=logistic, hidden_layer_sizes=15, learning_rate_init=0.01;, score=0.804 total time=   6.7s\n",
      "[CV 1/3] END activation=relu, hidden_layer_sizes=5, learning_rate_init=0.05;, score=0.803 total time=   2.1s\n",
      "[CV 3/3] END activation=relu, hidden_layer_sizes=5, learning_rate_init=0.05;, score=0.800 total time=   1.5s\n",
      "[CV 2/3] END activation=relu, hidden_layer_sizes=5, learning_rate_init=0.05;, score=0.798 total time=   1.6s\n",
      "[CV 2/3] END activation=relu, hidden_layer_sizes=5, learning_rate_init=0.01;, score=0.799 total time=   2.9s\n",
      "[CV 1/3] END activation=relu, hidden_layer_sizes=5, learning_rate_init=0.001;, score=0.802 total time=   4.5s\n",
      "[CV 3/3] END activation=relu, hidden_layer_sizes=5, learning_rate_init=0.01;, score=0.803 total time=   2.8s\n",
      "[CV 2/3] END activation=relu, hidden_layer_sizes=5, learning_rate_init=0.1;, score=0.801 total time=   1.5s\n",
      "[CV 3/3] END activation=relu, hidden_layer_sizes=5, learning_rate_init=0.1;, score=0.801 total time=   1.2s\n"
     ]
    },
    {
     "name": "stderr",
     "output_type": "stream",
     "text": [
      "/root/.cache/pypoetry/virtualenvs/sin5007-lcGWJnmY-py3.11/lib/python3.11/site-packages/sklearn/neural_network/_multilayer_perceptron.py:690: ConvergenceWarning: Stochastic Optimizer: Maximum iterations (200) reached and the optimization hasn't converged yet.\n",
      "  warnings.warn(\n"
     ]
    },
    {
     "name": "stdout",
     "output_type": "stream",
     "text": [
      "[CV 2/3] END activation=logistic, hidden_layer_sizes=15, learning_rate_init=0.001;, score=0.802 total time=  11.3s\n",
      "[CV 3/3] END activation=relu, hidden_layer_sizes=5, learning_rate_init=0.001;, score=0.803 total time=   5.0s\n",
      "[CV 1/3] END activation=relu, hidden_layer_sizes=10, learning_rate_init=0.1;, score=0.805 total time=   1.2s\n",
      "[CV 3/3] END activation=relu, hidden_layer_sizes=10, learning_rate_init=0.1;, score=0.801 total time=   1.3s\n",
      "[CV 1/3] END activation=relu, hidden_layer_sizes=10, learning_rate_init=0.05;, score=0.806 total time=   2.0s\n",
      "[CV 2/3] END activation=relu, hidden_layer_sizes=10, learning_rate_init=0.1;, score=0.807 total time=   1.7s\n",
      "[CV 2/3] END activation=relu, hidden_layer_sizes=10, learning_rate_init=0.05;, score=0.802 total time=   2.4s\n",
      "[CV 2/3] END activation=relu, hidden_layer_sizes=10, learning_rate_init=0.01;, score=0.796 total time=   3.1s\n",
      "[CV 3/3] END activation=relu, hidden_layer_sizes=10, learning_rate_init=0.01;, score=0.801 total time=   3.1s\n",
      "[CV 1/3] END activation=relu, hidden_layer_sizes=10, learning_rate_init=0.01;, score=0.799 total time=   3.5s\n",
      "[CV 3/3] END activation=relu, hidden_layer_sizes=10, learning_rate_init=0.05;, score=0.792 total time=   3.3s\n",
      "[CV 1/3] END activation=relu, hidden_layer_sizes=10, learning_rate_init=0.001;, score=0.801 total time=   4.8s\n",
      "[CV 2/3] END activation=relu, hidden_layer_sizes=10, learning_rate_init=0.001;, score=0.799 total time=   4.7s\n",
      "[CV 1/3] END activation=relu, hidden_layer_sizes=15, learning_rate_init=0.05;, score=0.805 total time=   1.8s\n",
      "[CV 3/3] END activation=relu, hidden_layer_sizes=15, learning_rate_init=0.05;, score=0.800 total time=   1.6s\n",
      "[CV 2/3] END activation=relu, hidden_layer_sizes=15, learning_rate_init=0.05;, score=0.805 total time=   2.4s\n",
      "[CV 2/3] END activation=relu, hidden_layer_sizes=15, learning_rate_init=0.1;, score=0.802 total time=   1.3s\n",
      "[CV 1/3] END activation=relu, hidden_layer_sizes=15, learning_rate_init=0.1;, score=0.791 total time=   1.7s\n",
      "[CV 3/3] END activation=relu, hidden_layer_sizes=10, learning_rate_init=0.001;, score=0.804 total time=   6.4s\n",
      "[CV 3/3] END activation=relu, hidden_layer_sizes=15, learning_rate_init=0.1;, score=0.800 total time=   1.4s\n",
      "[CV 1/3] END activation=relu, hidden_layer_sizes=15, learning_rate_init=0.01;, score=0.800 total time=   4.0s\n",
      "[CV 2/3] END activation=relu, hidden_layer_sizes=15, learning_rate_init=0.01;, score=0.803 total time=   4.0s\n",
      "[CV 1/3] END activation=relu, hidden_layer_sizes=15, learning_rate_init=0.001;, score=0.798 total time=   5.0s\n",
      "[CV 3/3] END activation=relu, hidden_layer_sizes=15, learning_rate_init=0.01;, score=0.805 total time=   4.0s\n",
      "[CV 2/3] END activation=relu, hidden_layer_sizes=15, learning_rate_init=0.001;, score=0.800 total time=   5.3s\n",
      "[CV 3/3] END activation=relu, hidden_layer_sizes=15, learning_rate_init=0.001;, score=0.803 total time=   5.7s\n",
      "===> 2024-10-28 15:43:12.759512 | FINALIZADO FOLD 1 | TEMPO TOTAL 0:00:25.098401\n",
      "\n",
      "====> 2024-10-28 15:43:12.760369 | EXECUTANDO FOLD 2 \n",
      "Fitting 3 folds for each of 24 candidates, totalling 72 fits\n",
      "[CV 3/3] END activation=logistic, hidden_layer_sizes=5, learning_rate_init=0.05;, score=0.799 total time=   1.1s\n",
      "[CV 3/3] END activation=logistic, hidden_layer_sizes=5, learning_rate_init=0.1;, score=0.798 total time=   1.2s\n",
      "[CV 2/3] END activation=logistic, hidden_layer_sizes=5, learning_rate_init=0.1;, score=0.801 total time=   1.5s\n",
      "[CV 2/3] END activation=logistic, hidden_layer_sizes=5, learning_rate_init=0.05;, score=0.801 total time=   1.6s\n",
      "[CV 1/3] END activation=logistic, hidden_layer_sizes=5, learning_rate_init=0.1;, score=0.797 total time=   1.6s\n",
      "[CV 1/3] END activation=logistic, hidden_layer_sizes=5, learning_rate_init=0.05;, score=0.801 total time=   1.8s\n",
      "[CV 3/3] END activation=logistic, hidden_layer_sizes=5, learning_rate_init=0.01;, score=0.800 total time=   3.4s\n",
      "[CV 2/3] END activation=logistic, hidden_layer_sizes=5, learning_rate_init=0.01;, score=0.801 total time=   3.6s\n",
      "[CV 1/3] END activation=logistic, hidden_layer_sizes=5, learning_rate_init=0.01;, score=0.802 total time=   4.2s\n",
      "[CV 3/3] END activation=logistic, hidden_layer_sizes=5, learning_rate_init=0.001;, score=0.800 total time=   4.8s\n",
      "[CV 2/3] END activation=logistic, hidden_layer_sizes=5, learning_rate_init=0.001;, score=0.799 total time=   4.9s\n",
      "[CV 1/3] END activation=logistic, hidden_layer_sizes=5, learning_rate_init=0.001;, score=0.789 total time=   6.0s\n",
      "[CV 1/3] END activation=logistic, hidden_layer_sizes=10, learning_rate_init=0.1;, score=0.790 total time=   1.2s\n",
      "[CV 1/3] END activation=logistic, hidden_layer_sizes=10, learning_rate_init=0.05;, score=0.801 total time=   2.7s\n",
      "[CV 2/3] END activation=logistic, hidden_layer_sizes=10, learning_rate_init=0.05;, score=0.803 total time=   2.7s\n",
      "[CV 3/3] END activation=logistic, hidden_layer_sizes=10, learning_rate_init=0.05;, score=0.798 total time=   2.7s\n",
      "[CV 2/3] END activation=logistic, hidden_layer_sizes=10, learning_rate_init=0.01;, score=0.803 total time=   5.6s\n",
      "[CV 1/3] END activation=logistic, hidden_layer_sizes=10, learning_rate_init=0.01;, score=0.792 total time=   5.7s\n",
      "[CV 2/3] END activation=logistic, hidden_layer_sizes=10, learning_rate_init=0.1;, score=0.799 total time=   2.8s\n",
      "[CV 3/3] END activation=logistic, hidden_layer_sizes=10, learning_rate_init=0.01;, score=0.806 total time=   5.9s\n",
      "[CV 3/3] END activation=logistic, hidden_layer_sizes=10, learning_rate_init=0.1;, score=0.803 total time=   2.2s\n"
     ]
    },
    {
     "name": "stderr",
     "output_type": "stream",
     "text": [
      "/root/.cache/pypoetry/virtualenvs/sin5007-lcGWJnmY-py3.11/lib/python3.11/site-packages/sklearn/neural_network/_multilayer_perceptron.py:690: ConvergenceWarning: Stochastic Optimizer: Maximum iterations (200) reached and the optimization hasn't converged yet.\n",
      "  warnings.warn(\n"
     ]
    },
    {
     "name": "stdout",
     "output_type": "stream",
     "text": [
      "[CV 1/3] END activation=logistic, hidden_layer_sizes=10, learning_rate_init=0.001;, score=0.794 total time=   8.3s\n"
     ]
    },
    {
     "name": "stderr",
     "output_type": "stream",
     "text": [
      "/root/.cache/pypoetry/virtualenvs/sin5007-lcGWJnmY-py3.11/lib/python3.11/site-packages/sklearn/neural_network/_multilayer_perceptron.py:690: ConvergenceWarning: Stochastic Optimizer: Maximum iterations (200) reached and the optimization hasn't converged yet.\n",
      "  warnings.warn(\n"
     ]
    },
    {
     "name": "stdout",
     "output_type": "stream",
     "text": [
      "[CV 2/3] END activation=logistic, hidden_layer_sizes=10, learning_rate_init=0.001;, score=0.802 total time=   8.5s\n",
      "[CV 3/3] END activation=logistic, hidden_layer_sizes=10, learning_rate_init=0.001;, score=0.800 total time=   8.3s\n",
      "[CV 2/3] END activation=logistic, hidden_layer_sizes=15, learning_rate_init=0.05;, score=0.799 total time=   2.6s\n",
      "[CV 1/3] END activation=logistic, hidden_layer_sizes=15, learning_rate_init=0.001;, score=0.792 total time=   4.6s\n",
      "[CV 3/3] END activation=logistic, hidden_layer_sizes=15, learning_rate_init=0.001;, score=0.798 total time=   4.5s\n",
      "[CV 2/3] END activation=logistic, hidden_layer_sizes=15, learning_rate_init=0.1;, score=0.800 total time=   2.0s\n",
      "[CV 1/3] END activation=logistic, hidden_layer_sizes=15, learning_rate_init=0.05;, score=0.803 total time=   4.4s\n",
      "[CV 3/3] END activation=logistic, hidden_layer_sizes=15, learning_rate_init=0.05;, score=0.798 total time=   3.9s\n",
      "[CV 1/3] END activation=logistic, hidden_layer_sizes=15, learning_rate_init=0.1;, score=0.788 total time=   2.8s\n",
      "[CV 1/3] END activation=logistic, hidden_layer_sizes=15, learning_rate_init=0.01;, score=0.790 total time=   5.5s\n",
      "[CV 3/3] END activation=logistic, hidden_layer_sizes=15, learning_rate_init=0.1;, score=0.805 total time=   3.3s\n",
      "[CV 1/3] END activation=relu, hidden_layer_sizes=5, learning_rate_init=0.01;, score=0.802 total time=   1.9s\n",
      "[CV 2/3] END activation=logistic, hidden_layer_sizes=15, learning_rate_init=0.01;, score=0.802 total time=   6.5s\n",
      "[CV 3/3] END activation=relu, hidden_layer_sizes=5, learning_rate_init=0.001;, score=0.798 total time=   2.9s\n",
      "[CV 3/3] END activation=logistic, hidden_layer_sizes=15, learning_rate_init=0.01;, score=0.803 total time=   6.7s\n",
      "[CV 2/3] END activation=relu, hidden_layer_sizes=5, learning_rate_init=0.05;, score=0.798 total time=   1.7s\n",
      "[CV 1/3] END activation=relu, hidden_layer_sizes=5, learning_rate_init=0.05;, score=0.793 total time=   1.9s\n",
      "[CV 2/3] END activation=relu, hidden_layer_sizes=5, learning_rate_init=0.001;, score=0.800 total time=   3.7s\n",
      "[CV 2/3] END activation=relu, hidden_layer_sizes=5, learning_rate_init=0.01;, score=0.797 total time=   2.3s\n",
      "[CV 3/3] END activation=relu, hidden_layer_sizes=5, learning_rate_init=0.05;, score=0.798 total time=   1.3s\n",
      "[CV 1/3] END activation=relu, hidden_layer_sizes=5, learning_rate_init=0.001;, score=0.794 total time=   4.4s\n",
      "[CV 1/3] END activation=relu, hidden_layer_sizes=5, learning_rate_init=0.1;, score=0.799 total time=   1.2s\n",
      "[CV 3/3] END activation=relu, hidden_layer_sizes=5, learning_rate_init=0.1;, score=0.801 total time=   1.4s\n"
     ]
    },
    {
     "name": "stderr",
     "output_type": "stream",
     "text": [
      "/root/.cache/pypoetry/virtualenvs/sin5007-lcGWJnmY-py3.11/lib/python3.11/site-packages/sklearn/neural_network/_multilayer_perceptron.py:690: ConvergenceWarning: Stochastic Optimizer: Maximum iterations (200) reached and the optimization hasn't converged yet.\n",
      "  warnings.warn(\n"
     ]
    },
    {
     "name": "stdout",
     "output_type": "stream",
     "text": [
      "[CV 2/3] END activation=logistic, hidden_layer_sizes=15, learning_rate_init=0.001;, score=0.804 total time=   9.4s\n",
      "[CV 2/3] END activation=relu, hidden_layer_sizes=5, learning_rate_init=0.1;, score=0.803 total time=   1.8s\n",
      "[CV 3/3] END activation=relu, hidden_layer_sizes=5, learning_rate_init=0.01;, score=0.804 total time=   3.6s\n",
      "[CV 3/3] END activation=relu, hidden_layer_sizes=10, learning_rate_init=0.05;, score=0.799 total time=   1.2s\n",
      "[CV 1/3] END activation=relu, hidden_layer_sizes=10, learning_rate_init=0.1;, score=0.795 total time=   1.2s\n",
      "[CV 1/3] END activation=relu, hidden_layer_sizes=10, learning_rate_init=0.05;, score=0.800 total time=   2.0s\n",
      "[CV 3/3] END activation=relu, hidden_layer_sizes=10, learning_rate_init=0.1;, score=0.793 total time=   3.5s\n",
      "[CV 2/3] END activation=relu, hidden_layer_sizes=10, learning_rate_init=0.1;, score=0.797 total time=   3.7s\n",
      "[CV 2/3] END activation=relu, hidden_layer_sizes=10, learning_rate_init=0.05;, score=0.795 total time=   4.4s\n",
      "[CV 3/3] END activation=relu, hidden_layer_sizes=10, learning_rate_init=0.01;, score=0.804 total time=   5.0s\n",
      "[CV 2/3] END activation=relu, hidden_layer_sizes=10, learning_rate_init=0.01;, score=0.802 total time=   5.5s\n",
      "[CV 1/3] END activation=relu, hidden_layer_sizes=10, learning_rate_init=0.01;, score=0.791 total time=   5.6s\n",
      "[CV 1/3] END activation=relu, hidden_layer_sizes=10, learning_rate_init=0.001;, score=0.792 total time=   7.1s\n",
      "[CV 1/3] END activation=relu, hidden_layer_sizes=15, learning_rate_init=0.05;, score=0.796 total time=   1.8s\n",
      "[CV 3/3] END activation=relu, hidden_layer_sizes=15, learning_rate_init=0.05;, score=0.804 total time=   1.7s\n",
      "[CV 2/3] END activation=relu, hidden_layer_sizes=15, learning_rate_init=0.01;, score=0.803 total time=   2.6s\n",
      "[CV 2/3] END activation=relu, hidden_layer_sizes=10, learning_rate_init=0.001;, score=0.802 total time=   8.1s\n",
      "[CV 2/3] END activation=relu, hidden_layer_sizes=15, learning_rate_init=0.1;, score=0.804 total time=   1.0s\n",
      "[CV 2/3] END activation=relu, hidden_layer_sizes=15, learning_rate_init=0.05;, score=0.796 total time=   2.5s\n",
      "[CV 3/3] END activation=relu, hidden_layer_sizes=15, learning_rate_init=0.1;, score=0.800 total time=   0.8s\n",
      "[CV 1/3] END activation=relu, hidden_layer_sizes=15, learning_rate_init=0.1;, score=0.783 total time=   1.5s\n",
      "[CV 3/3] END activation=relu, hidden_layer_sizes=10, learning_rate_init=0.001;, score=0.804 total time=   8.5s\n",
      "[CV 3/3] END activation=relu, hidden_layer_sizes=15, learning_rate_init=0.01;, score=0.799 total time=   3.5s\n",
      "[CV 1/3] END activation=relu, hidden_layer_sizes=15, learning_rate_init=0.01;, score=0.794 total time=   3.9s\n",
      "[CV 1/3] END activation=relu, hidden_layer_sizes=15, learning_rate_init=0.001;, score=0.792 total time=   7.0s\n",
      "[CV 2/3] END activation=relu, hidden_layer_sizes=15, learning_rate_init=0.001;, score=0.802 total time=   7.0s\n",
      "[CV 3/3] END activation=relu, hidden_layer_sizes=15, learning_rate_init=0.001;, score=0.806 total time=   7.6s\n",
      "===> 2024-10-28 15:43:39.160521 | FINALIZADO FOLD 2 | TEMPO TOTAL 0:00:26.400152\n",
      "\n",
      "====> 2024-10-28 15:43:39.161144 | EXECUTANDO FOLD 3 \n",
      "Fitting 3 folds for each of 24 candidates, totalling 72 fits\n",
      "[CV 2/3] END activation=logistic, hidden_layer_sizes=5, learning_rate_init=0.1;, score=0.799 total time=   1.1s\n",
      "[CV 1/3] END activation=logistic, hidden_layer_sizes=5, learning_rate_init=0.1;, score=0.801 total time=   1.1s\n",
      "[CV 3/3] END activation=logistic, hidden_layer_sizes=5, learning_rate_init=0.1;, score=0.800 total time=   1.2s\n",
      "[CV 1/3] END activation=logistic, hidden_layer_sizes=5, learning_rate_init=0.05;, score=0.794 total time=   2.0s\n",
      "[CV 2/3] END activation=logistic, hidden_layer_sizes=5, learning_rate_init=0.05;, score=0.800 total time=   2.2s\n",
      "[CV 3/3] END activation=logistic, hidden_layer_sizes=5, learning_rate_init=0.05;, score=0.799 total time=   2.2s\n",
      "[CV 2/3] END activation=logistic, hidden_layer_sizes=5, learning_rate_init=0.01;, score=0.801 total time=   3.6s\n",
      "[CV 3/3] END activation=logistic, hidden_layer_sizes=5, learning_rate_init=0.01;, score=0.802 total time=   3.7s\n",
      "[CV 1/3] END activation=logistic, hidden_layer_sizes=5, learning_rate_init=0.01;, score=0.807 total time=   4.4s\n",
      "[CV 3/3] END activation=logistic, hidden_layer_sizes=5, learning_rate_init=0.001;, score=0.801 total time=   5.0s\n",
      "[CV 1/3] END activation=logistic, hidden_layer_sizes=5, learning_rate_init=0.001;, score=0.800 total time=   5.3s\n",
      "[CV 2/3] END activation=logistic, hidden_layer_sizes=5, learning_rate_init=0.001;, score=0.800 total time=   5.7s\n",
      "[CV 1/3] END activation=logistic, hidden_layer_sizes=10, learning_rate_init=0.01;, score=0.798 total time=   4.5s\n",
      "[CV 1/3] END activation=logistic, hidden_layer_sizes=10, learning_rate_init=0.1;, score=0.799 total time=   1.7s\n",
      "[CV 2/3] END activation=logistic, hidden_layer_sizes=10, learning_rate_init=0.1;, score=0.804 total time=   1.6s\n",
      "[CV 2/3] END activation=logistic, hidden_layer_sizes=10, learning_rate_init=0.05;, score=0.799 total time=   3.3s\n",
      "[CV 2/3] END activation=logistic, hidden_layer_sizes=10, learning_rate_init=0.01;, score=0.799 total time=   4.9s\n",
      "[CV 1/3] END activation=logistic, hidden_layer_sizes=10, learning_rate_init=0.05;, score=0.807 total time=   3.7s\n",
      "[CV 3/3] END activation=logistic, hidden_layer_sizes=10, learning_rate_init=0.05;, score=0.805 total time=   3.1s\n",
      "[CV 3/3] END activation=logistic, hidden_layer_sizes=10, learning_rate_init=0.1;, score=0.799 total time=   2.2s\n",
      "[CV 3/3] END activation=logistic, hidden_layer_sizes=10, learning_rate_init=0.001;, score=0.800 total time=   7.2s\n",
      "[CV 1/3] END activation=logistic, hidden_layer_sizes=10, learning_rate_init=0.001;, score=0.802 total time=   8.4s\n",
      "[CV 2/3] END activation=logistic, hidden_layer_sizes=10, learning_rate_init=0.001;, score=0.801 total time=   8.4s\n"
     ]
    },
    {
     "name": "stderr",
     "output_type": "stream",
     "text": [
      "/root/.cache/pypoetry/virtualenvs/sin5007-lcGWJnmY-py3.11/lib/python3.11/site-packages/sklearn/neural_network/_multilayer_perceptron.py:690: ConvergenceWarning: Stochastic Optimizer: Maximum iterations (200) reached and the optimization hasn't converged yet.\n",
      "  warnings.warn(\n"
     ]
    },
    {
     "name": "stdout",
     "output_type": "stream",
     "text": [
      "[CV 3/3] END activation=logistic, hidden_layer_sizes=10, learning_rate_init=0.01;, score=0.807 total time=   8.2s\n",
      "[CV 3/3] END activation=logistic, hidden_layer_sizes=15, learning_rate_init=0.001;, score=0.799 total time=   3.6s\n",
      "[CV 1/3] END activation=logistic, hidden_layer_sizes=15, learning_rate_init=0.05;, score=0.806 total time=   3.3s\n",
      "[CV 2/3] END activation=logistic, hidden_layer_sizes=15, learning_rate_init=0.05;, score=0.794 total time=   3.4s\n",
      "[CV 2/3] END activation=logistic, hidden_layer_sizes=15, learning_rate_init=0.01;, score=0.802 total time=   4.8s\n",
      "[CV 1/3] END activation=logistic, hidden_layer_sizes=15, learning_rate_init=0.1;, score=0.807 total time=   3.0s\n",
      "[CV 3/3] END activation=logistic, hidden_layer_sizes=15, learning_rate_init=0.1;, score=0.800 total time=   2.4s\n",
      "[CV 2/3] END activation=logistic, hidden_layer_sizes=15, learning_rate_init=0.1;, score=0.790 total time=   3.8s\n",
      "[CV 3/3] END activation=logistic, hidden_layer_sizes=15, learning_rate_init=0.05;, score=0.802 total time=   4.9s\n",
      "[CV 2/3] END activation=relu, hidden_layer_sizes=5, learning_rate_init=0.001;, score=0.799 total time=   2.7s\n",
      "[CV 1/3] END activation=relu, hidden_layer_sizes=5, learning_rate_init=0.01;, score=0.802 total time=   1.7s\n",
      "[CV 1/3] END activation=logistic, hidden_layer_sizes=15, learning_rate_init=0.01;, score=0.793 total time=   7.0s\n",
      "[CV 1/3] END activation=relu, hidden_layer_sizes=5, learning_rate_init=0.001;, score=0.801 total time=   3.9s\n",
      "[CV 1/3] END activation=relu, hidden_layer_sizes=5, learning_rate_init=0.05;, score=0.799 total time=   1.2s\n",
      "[CV 2/3] END activation=relu, hidden_layer_sizes=5, learning_rate_init=0.05;, score=0.796 total time=   1.3s\n",
      "[CV 1/3] END activation=relu, hidden_layer_sizes=5, learning_rate_init=0.1;, score=0.807 total time=   1.2s\n",
      "[CV 3/3] END activation=logistic, hidden_layer_sizes=15, learning_rate_init=0.01;, score=0.801 total time=   7.5s\n",
      "[CV 3/3] END activation=relu, hidden_layer_sizes=5, learning_rate_init=0.01;, score=0.803 total time=   2.1s\n",
      "[CV 2/3] END activation=relu, hidden_layer_sizes=5, learning_rate_init=0.01;, score=0.796 total time=   2.5s\n",
      "[CV 3/3] END activation=relu, hidden_layer_sizes=5, learning_rate_init=0.1;, score=0.804 total time=   0.8s\n",
      "[CV 3/3] END activation=relu, hidden_layer_sizes=5, learning_rate_init=0.05;, score=0.806 total time=   2.0s\n",
      "[CV 3/3] END activation=relu, hidden_layer_sizes=5, learning_rate_init=0.001;, score=0.801 total time=   4.2s\n"
     ]
    },
    {
     "name": "stderr",
     "output_type": "stream",
     "text": [
      "/root/.cache/pypoetry/virtualenvs/sin5007-lcGWJnmY-py3.11/lib/python3.11/site-packages/sklearn/neural_network/_multilayer_perceptron.py:690: ConvergenceWarning: Stochastic Optimizer: Maximum iterations (200) reached and the optimization hasn't converged yet.\n",
      "  warnings.warn(\n"
     ]
    },
    {
     "name": "stdout",
     "output_type": "stream",
     "text": [
      "[CV 1/3] END activation=logistic, hidden_layer_sizes=15, learning_rate_init=0.001;, score=0.802 total time=   9.2s\n"
     ]
    },
    {
     "name": "stderr",
     "output_type": "stream",
     "text": [
      "/root/.cache/pypoetry/virtualenvs/sin5007-lcGWJnmY-py3.11/lib/python3.11/site-packages/sklearn/neural_network/_multilayer_perceptron.py:690: ConvergenceWarning: Stochastic Optimizer: Maximum iterations (200) reached and the optimization hasn't converged yet.\n",
      "  warnings.warn(\n"
     ]
    },
    {
     "name": "stdout",
     "output_type": "stream",
     "text": [
      "[CV 2/3] END activation=logistic, hidden_layer_sizes=15, learning_rate_init=0.001;, score=0.803 total time=   9.4s\n",
      "[CV 2/3] END activation=relu, hidden_layer_sizes=5, learning_rate_init=0.1;, score=0.791 total time=   2.4s\n",
      "[CV 1/3] END activation=relu, hidden_layer_sizes=10, learning_rate_init=0.1;, score=0.808 total time=   1.3s\n",
      "[CV 3/3] END activation=relu, hidden_layer_sizes=10, learning_rate_init=0.05;, score=0.808 total time=   1.7s\n",
      "[CV 2/3] END activation=relu, hidden_layer_sizes=10, learning_rate_init=0.05;, score=0.800 total time=   1.9s\n",
      "[CV 3/3] END activation=relu, hidden_layer_sizes=10, learning_rate_init=0.01;, score=0.804 total time=   2.3s\n",
      "[CV 2/3] END activation=relu, hidden_layer_sizes=10, learning_rate_init=0.1;, score=0.793 total time=   1.3s\n",
      "[CV 1/3] END activation=relu, hidden_layer_sizes=10, learning_rate_init=0.01;, score=0.808 total time=   2.8s\n",
      "[CV 1/3] END activation=relu, hidden_layer_sizes=10, learning_rate_init=0.05;, score=0.802 total time=   2.7s\n",
      "[CV 2/3] END activation=relu, hidden_layer_sizes=10, learning_rate_init=0.01;, score=0.799 total time=   3.0s\n",
      "[CV 3/3] END activation=relu, hidden_layer_sizes=10, learning_rate_init=0.1;, score=0.812 total time=   1.8s\n",
      "[CV 1/3] END activation=relu, hidden_layer_sizes=15, learning_rate_init=0.05;, score=0.806 total time=   1.6s\n",
      "[CV 1/3] END activation=relu, hidden_layer_sizes=10, learning_rate_init=0.001;, score=0.803 total time=   5.1s\n",
      "[CV 2/3] END activation=relu, hidden_layer_sizes=15, learning_rate_init=0.05;, score=0.803 total time=   2.3s\n",
      "[CV 3/3] END activation=relu, hidden_layer_sizes=15, learning_rate_init=0.01;, score=0.810 total time=   2.7s\n",
      "[CV 2/3] END activation=relu, hidden_layer_sizes=10, learning_rate_init=0.001;, score=0.799 total time=   5.7s\n",
      "[CV 1/3] END activation=relu, hidden_layer_sizes=15, learning_rate_init=0.1;, score=0.806 total time=   1.0s\n",
      "[CV 1/3] END activation=relu, hidden_layer_sizes=15, learning_rate_init=0.01;, score=0.806 total time=   3.2s\n",
      "[CV 3/3] END activation=relu, hidden_layer_sizes=15, learning_rate_init=0.05;, score=0.803 total time=   2.7s\n",
      "[CV 2/3] END activation=relu, hidden_layer_sizes=15, learning_rate_init=0.1;, score=0.806 total time=   1.3s\n",
      "[CV 3/3] END activation=relu, hidden_layer_sizes=15, learning_rate_init=0.1;, score=0.808 total time=   0.8s\n",
      "[CV 2/3] END activation=relu, hidden_layer_sizes=15, learning_rate_init=0.01;, score=0.801 total time=   3.8s\n",
      "[CV 3/3] END activation=relu, hidden_layer_sizes=10, learning_rate_init=0.001;, score=0.805 total time=   6.7s\n",
      "[CV 3/3] END activation=relu, hidden_layer_sizes=15, learning_rate_init=0.001;, score=0.803 total time=   4.7s\n",
      "[CV 1/3] END activation=relu, hidden_layer_sizes=15, learning_rate_init=0.001;, score=0.801 total time=   5.0s\n",
      "[CV 2/3] END activation=relu, hidden_layer_sizes=15, learning_rate_init=0.001;, score=0.801 total time=   5.0s\n",
      "===> 2024-10-28 15:44:02.329301 | FINALIZADO FOLD 3 | TEMPO TOTAL 0:00:23.168157\n",
      "\n",
      "====> 2024-10-28 15:44:02.330034 | EXECUTANDO FOLD 4 \n",
      "Fitting 3 folds for each of 24 candidates, totalling 72 fits\n",
      "[CV 1/3] END activation=logistic, hidden_layer_sizes=5, learning_rate_init=0.1;, score=0.800 total time=   1.1s\n",
      "[CV 2/3] END activation=logistic, hidden_layer_sizes=5, learning_rate_init=0.1;, score=0.805 total time=   1.1s\n",
      "[CV 3/3] END activation=logistic, hidden_layer_sizes=5, learning_rate_init=0.05;, score=0.805 total time=   3.9s\n",
      "[CV 3/3] END activation=logistic, hidden_layer_sizes=5, learning_rate_init=0.1;, score=0.804 total time=   4.0s\n",
      "[CV 1/3] END activation=logistic, hidden_layer_sizes=5, learning_rate_init=0.05;, score=0.794 total time=   4.1s\n",
      "[CV 3/3] END activation=logistic, hidden_layer_sizes=5, learning_rate_init=0.01;, score=0.803 total time=   4.6s\n",
      "[CV 2/3] END activation=logistic, hidden_layer_sizes=5, learning_rate_init=0.05;, score=0.807 total time=   4.6s\n",
      "[CV 2/3] END activation=logistic, hidden_layer_sizes=5, learning_rate_init=0.01;, score=0.800 total time=   5.2s\n",
      "[CV 3/3] END activation=logistic, hidden_layer_sizes=5, learning_rate_init=0.001;, score=0.799 total time=   6.2s\n",
      "[CV 1/3] END activation=logistic, hidden_layer_sizes=5, learning_rate_init=0.01;, score=0.809 total time=   6.3s\n",
      "[CV 1/3] END activation=logistic, hidden_layer_sizes=5, learning_rate_init=0.001;, score=0.802 total time=   7.3s\n",
      "[CV 2/3] END activation=logistic, hidden_layer_sizes=10, learning_rate_init=0.05;, score=0.805 total time=   2.2s\n",
      "[CV 1/3] END activation=logistic, hidden_layer_sizes=10, learning_rate_init=0.05;, score=0.811 total time=   3.2s\n",
      "[CV 1/3] END activation=logistic, hidden_layer_sizes=10, learning_rate_init=0.1;, score=0.801 total time=   1.8s\n",
      "[CV 2/3] END activation=logistic, hidden_layer_sizes=5, learning_rate_init=0.001;, score=0.800 total time=   8.2s\n",
      "[CV 1/3] END activation=logistic, hidden_layer_sizes=10, learning_rate_init=0.01;, score=0.800 total time=   4.6s\n",
      "[CV 3/3] END activation=logistic, hidden_layer_sizes=10, learning_rate_init=0.05;, score=0.801 total time=   3.4s\n",
      "[CV 3/3] END activation=logistic, hidden_layer_sizes=10, learning_rate_init=0.01;, score=0.805 total time=   5.2s\n",
      "[CV 2/3] END activation=logistic, hidden_layer_sizes=10, learning_rate_init=0.1;, score=0.800 total time=   2.7s\n",
      "[CV 3/3] END activation=logistic, hidden_layer_sizes=10, learning_rate_init=0.1;, score=0.803 total time=   2.8s\n",
      "[CV 2/3] END activation=logistic, hidden_layer_sizes=10, learning_rate_init=0.01;, score=0.796 total time=   6.8s\n",
      "[CV 1/3] END activation=logistic, hidden_layer_sizes=10, learning_rate_init=0.001;, score=0.804 total time=  10.6s\n",
      "[CV 2/3] END activation=logistic, hidden_layer_sizes=10, learning_rate_init=0.001;, score=0.801 total time=  10.7s\n"
     ]
    },
    {
     "name": "stderr",
     "output_type": "stream",
     "text": [
      "/root/.cache/pypoetry/virtualenvs/sin5007-lcGWJnmY-py3.11/lib/python3.11/site-packages/sklearn/neural_network/_multilayer_perceptron.py:690: ConvergenceWarning: Stochastic Optimizer: Maximum iterations (200) reached and the optimization hasn't converged yet.\n",
      "  warnings.warn(\n"
     ]
    },
    {
     "name": "stdout",
     "output_type": "stream",
     "text": [
      "[CV 3/3] END activation=logistic, hidden_layer_sizes=10, learning_rate_init=0.001;, score=0.800 total time=   8.3s\n",
      "[CV 1/3] END activation=logistic, hidden_layer_sizes=15, learning_rate_init=0.05;, score=0.805 total time=   2.9s\n",
      "[CV 2/3] END activation=logistic, hidden_layer_sizes=15, learning_rate_init=0.05;, score=0.806 total time=   3.1s\n",
      "[CV 3/3] END activation=logistic, hidden_layer_sizes=15, learning_rate_init=0.1;, score=0.804 total time=   1.7s\n",
      "[CV 3/3] END activation=logistic, hidden_layer_sizes=15, learning_rate_init=0.001;, score=0.798 total time=   6.1s\n",
      "[CV 2/3] END activation=logistic, hidden_layer_sizes=15, learning_rate_init=0.1;, score=0.803 total time=   2.9s\n",
      "[CV 1/3] END activation=logistic, hidden_layer_sizes=15, learning_rate_init=0.1;, score=0.796 total time=   3.1s\n",
      "[CV 3/3] END activation=logistic, hidden_layer_sizes=15, learning_rate_init=0.05;, score=0.804 total time=   4.2s\n",
      "[CV 1/3] END activation=logistic, hidden_layer_sizes=15, learning_rate_init=0.01;, score=0.793 total time=   6.9s\n",
      "[CV 1/3] END activation=relu, hidden_layer_sizes=5, learning_rate_init=0.01;, score=0.804 total time=   1.8s\n",
      "[CV 2/3] END activation=logistic, hidden_layer_sizes=15, learning_rate_init=0.01;, score=0.795 total time=   6.7s\n",
      "[CV 1/3] END activation=logistic, hidden_layer_sizes=15, learning_rate_init=0.001;, score=0.803 total time=   8.6s\n",
      "[CV 3/3] END activation=relu, hidden_layer_sizes=5, learning_rate_init=0.01;, score=0.802 total time=   2.1s\n",
      "[CV 3/3] END activation=relu, hidden_layer_sizes=5, learning_rate_init=0.001;, score=0.799 total time=   3.1s\n",
      "[CV 1/3] END activation=relu, hidden_layer_sizes=5, learning_rate_init=0.001;, score=0.802 total time=   4.2s\n",
      "[CV 2/3] END activation=relu, hidden_layer_sizes=5, learning_rate_init=0.001;, score=0.798 total time=   3.9s\n",
      "[CV 1/3] END activation=relu, hidden_layer_sizes=5, learning_rate_init=0.05;, score=0.807 total time=   2.2s\n",
      "[CV 2/3] END activation=relu, hidden_layer_sizes=5, learning_rate_init=0.01;, score=0.800 total time=   2.9s\n",
      "[CV 2/3] END activation=logistic, hidden_layer_sizes=15, learning_rate_init=0.001;, score=0.801 total time=   9.6s\n",
      "[CV 3/3] END activation=logistic, hidden_layer_sizes=15, learning_rate_init=0.01;, score=0.804 total time=   7.9s\n",
      "[CV 1/3] END activation=relu, hidden_layer_sizes=5, learning_rate_init=0.1;, score=0.807 total time=   1.4s\n"
     ]
    },
    {
     "name": "stderr",
     "output_type": "stream",
     "text": [
      "/root/.cache/pypoetry/virtualenvs/sin5007-lcGWJnmY-py3.11/lib/python3.11/site-packages/sklearn/neural_network/_multilayer_perceptron.py:690: ConvergenceWarning: Stochastic Optimizer: Maximum iterations (200) reached and the optimization hasn't converged yet.\n",
      "  warnings.warn(\n"
     ]
    },
    {
     "name": "stdout",
     "output_type": "stream",
     "text": [
      "[CV 2/3] END activation=relu, hidden_layer_sizes=5, learning_rate_init=0.05;, score=0.798 total time=   2.3s\n",
      "[CV 2/3] END activation=relu, hidden_layer_sizes=5, learning_rate_init=0.1;, score=0.796 total time=   1.7s\n",
      "[CV 3/3] END activation=relu, hidden_layer_sizes=5, learning_rate_init=0.1;, score=0.804 total time=   1.8s\n",
      "[CV 3/3] END activation=relu, hidden_layer_sizes=10, learning_rate_init=0.05;, score=0.801 total time=   2.2s\n",
      "[CV 3/3] END activation=relu, hidden_layer_sizes=5, learning_rate_init=0.05;, score=0.794 total time=   4.4s\n",
      "[CV 1/3] END activation=relu, hidden_layer_sizes=10, learning_rate_init=0.1;, score=0.807 total time=   2.3s\n",
      "[CV 2/3] END activation=relu, hidden_layer_sizes=10, learning_rate_init=0.01;, score=0.796 total time=   3.0s\n",
      "[CV 2/3] END activation=relu, hidden_layer_sizes=10, learning_rate_init=0.1;, score=0.803 total time=   2.0s\n",
      "[CV 2/3] END activation=relu, hidden_layer_sizes=10, learning_rate_init=0.05;, score=0.800 total time=   3.4s\n",
      "[CV 1/3] END activation=relu, hidden_layer_sizes=10, learning_rate_init=0.05;, score=0.801 total time=   3.6s\n",
      "[CV 3/3] END activation=relu, hidden_layer_sizes=10, learning_rate_init=0.1;, score=0.809 total time=   1.4s\n",
      "[CV 3/3] END activation=relu, hidden_layer_sizes=10, learning_rate_init=0.01;, score=0.801 total time=   5.0s\n",
      "[CV 1/3] END activation=relu, hidden_layer_sizes=10, learning_rate_init=0.01;, score=0.808 total time=   6.1s\n",
      "[CV 1/3] END activation=relu, hidden_layer_sizes=10, learning_rate_init=0.001;, score=0.803 total time=   6.6s\n",
      "[CV 1/3] END activation=relu, hidden_layer_sizes=15, learning_rate_init=0.01;, score=0.805 total time=   3.6s\n",
      "[CV 2/3] END activation=relu, hidden_layer_sizes=10, learning_rate_init=0.001;, score=0.800 total time=   7.6s\n",
      "[CV 1/3] END activation=relu, hidden_layer_sizes=15, learning_rate_init=0.05;, score=0.807 total time=   4.4s\n",
      "[CV 3/3] END activation=relu, hidden_layer_sizes=15, learning_rate_init=0.1;, score=0.809 total time=   1.7s\n",
      "[CV 2/3] END activation=relu, hidden_layer_sizes=15, learning_rate_init=0.1;, score=0.804 total time=   2.2s\n",
      "[CV 3/3] END activation=relu, hidden_layer_sizes=15, learning_rate_init=0.05;, score=0.803 total time=   3.4s\n",
      "[CV 1/3] END activation=relu, hidden_layer_sizes=15, learning_rate_init=0.1;, score=0.804 total time=   3.2s\n",
      "[CV 2/3] END activation=relu, hidden_layer_sizes=15, learning_rate_init=0.05;, score=0.803 total time=   4.2s\n",
      "[CV 3/3] END activation=relu, hidden_layer_sizes=10, learning_rate_init=0.001;, score=0.804 total time=   9.9s\n",
      "[CV 3/3] END activation=relu, hidden_layer_sizes=15, learning_rate_init=0.01;, score=0.805 total time=   6.1s\n",
      "[CV 2/3] END activation=relu, hidden_layer_sizes=15, learning_rate_init=0.01;, score=0.809 total time=   6.6s\n",
      "[CV 3/3] END activation=relu, hidden_layer_sizes=15, learning_rate_init=0.001;, score=0.803 total time=   7.7s\n",
      "[CV 2/3] END activation=relu, hidden_layer_sizes=15, learning_rate_init=0.001;, score=0.800 total time=   8.4s\n",
      "[CV 1/3] END activation=relu, hidden_layer_sizes=15, learning_rate_init=0.001;, score=0.805 total time=   8.5s\n",
      "===> 2024-10-28 15:44:33.458966 | FINALIZADO FOLD 4 | TEMPO TOTAL 0:00:31.128932\n",
      "\n",
      "====> 2024-10-28 15:44:33.459593 | EXECUTANDO FOLD 5 \n",
      "Fitting 3 folds for each of 24 candidates, totalling 72 fits\n",
      "[CV 2/3] END activation=logistic, hidden_layer_sizes=5, learning_rate_init=0.1;, score=0.789 total time=   1.2s\n",
      "[CV 1/3] END activation=logistic, hidden_layer_sizes=5, learning_rate_init=0.1;, score=0.802 total time=   1.8s\n",
      "[CV 3/3] END activation=logistic, hidden_layer_sizes=5, learning_rate_init=0.1;, score=0.808 total time=   2.0s\n",
      "[CV 3/3] END activation=logistic, hidden_layer_sizes=5, learning_rate_init=0.05;, score=0.800 total time=   2.2s\n",
      "[CV 1/3] END activation=logistic, hidden_layer_sizes=5, learning_rate_init=0.05;, score=0.802 total time=   2.3s\n",
      "[CV 2/3] END activation=logistic, hidden_layer_sizes=5, learning_rate_init=0.05;, score=0.805 total time=   2.8s\n",
      "[CV 2/3] END activation=logistic, hidden_layer_sizes=5, learning_rate_init=0.01;, score=0.798 total time=   3.4s\n",
      "[CV 3/3] END activation=logistic, hidden_layer_sizes=5, learning_rate_init=0.01;, score=0.803 total time=   3.9s\n",
      "[CV 1/3] END activation=logistic, hidden_layer_sizes=5, learning_rate_init=0.01;, score=0.803 total time=   4.0s\n",
      "[CV 1/3] END activation=logistic, hidden_layer_sizes=5, learning_rate_init=0.001;, score=0.804 total time=   5.0s\n",
      "[CV 3/3] END activation=logistic, hidden_layer_sizes=5, learning_rate_init=0.001;, score=0.803 total time=   5.7s\n",
      "[CV 1/3] END activation=logistic, hidden_layer_sizes=10, learning_rate_init=0.05;, score=0.808 total time=   2.4s\n",
      "[CV 2/3] END activation=logistic, hidden_layer_sizes=5, learning_rate_init=0.001;, score=0.794 total time=   6.5s\n",
      "[CV 3/3] END activation=logistic, hidden_layer_sizes=10, learning_rate_init=0.05;, score=0.800 total time=   2.6s\n",
      "[CV 2/3] END activation=logistic, hidden_layer_sizes=10, learning_rate_init=0.05;, score=0.792 total time=   2.7s\n",
      "[CV 1/3] END activation=logistic, hidden_layer_sizes=10, learning_rate_init=0.1;, score=0.793 total time=   1.8s\n",
      "[CV 1/3] END activation=logistic, hidden_layer_sizes=10, learning_rate_init=0.01;, score=0.813 total time=   4.7s\n",
      "[CV 2/3] END activation=logistic, hidden_layer_sizes=10, learning_rate_init=0.1;, score=0.789 total time=   1.7s\n",
      "[CV 3/3] END activation=logistic, hidden_layer_sizes=10, learning_rate_init=0.1;, score=0.801 total time=   2.6s\n",
      "[CV 3/3] END activation=logistic, hidden_layer_sizes=10, learning_rate_init=0.01;, score=0.803 total time=   7.5s\n",
      "[CV 2/3] END activation=logistic, hidden_layer_sizes=10, learning_rate_init=0.01;, score=0.799 total time=   8.2s\n"
     ]
    },
    {
     "name": "stderr",
     "output_type": "stream",
     "text": [
      "/root/.cache/pypoetry/virtualenvs/sin5007-lcGWJnmY-py3.11/lib/python3.11/site-packages/sklearn/neural_network/_multilayer_perceptron.py:690: ConvergenceWarning: Stochastic Optimizer: Maximum iterations (200) reached and the optimization hasn't converged yet.\n",
      "  warnings.warn(\n"
     ]
    },
    {
     "name": "stdout",
     "output_type": "stream",
     "text": [
      "[CV 2/3] END activation=logistic, hidden_layer_sizes=10, learning_rate_init=0.001;, score=0.793 total time=   8.9s\n",
      "[CV 3/3] END activation=logistic, hidden_layer_sizes=15, learning_rate_init=0.001;, score=0.799 total time=   4.9s\n"
     ]
    },
    {
     "name": "stderr",
     "output_type": "stream",
     "text": [
      "/root/.cache/pypoetry/virtualenvs/sin5007-lcGWJnmY-py3.11/lib/python3.11/site-packages/sklearn/neural_network/_multilayer_perceptron.py:690: ConvergenceWarning: Stochastic Optimizer: Maximum iterations (200) reached and the optimization hasn't converged yet.\n",
      "  warnings.warn(\n"
     ]
    },
    {
     "name": "stdout",
     "output_type": "stream",
     "text": [
      "[CV 1/3] END activation=logistic, hidden_layer_sizes=10, learning_rate_init=0.001;, score=0.806 total time=  10.6s\n",
      "[CV 1/3] END activation=logistic, hidden_layer_sizes=15, learning_rate_init=0.01;, score=0.801 total time=   6.3s\n",
      "[CV 1/3] END activation=logistic, hidden_layer_sizes=15, learning_rate_init=0.1;, score=0.804 total time=   2.3s\n",
      "[CV 3/3] END activation=logistic, hidden_layer_sizes=10, learning_rate_init=0.001;, score=0.801 total time=  11.0s\n"
     ]
    },
    {
     "name": "stderr",
     "output_type": "stream",
     "text": [
      "/root/.cache/pypoetry/virtualenvs/sin5007-lcGWJnmY-py3.11/lib/python3.11/site-packages/sklearn/neural_network/_multilayer_perceptron.py:690: ConvergenceWarning: Stochastic Optimizer: Maximum iterations (200) reached and the optimization hasn't converged yet.\n",
      "  warnings.warn(\n"
     ]
    },
    {
     "name": "stdout",
     "output_type": "stream",
     "text": [
      "[CV 1/3] END activation=logistic, hidden_layer_sizes=15, learning_rate_init=0.05;, score=0.805 total time=   5.0s\n",
      "[CV 2/3] END activation=logistic, hidden_layer_sizes=15, learning_rate_init=0.05;, score=0.794 total time=   3.6s\n",
      "[CV 2/3] END activation=logistic, hidden_layer_sizes=15, learning_rate_init=0.1;, score=0.796 total time=   2.9s\n",
      "[CV 2/3] END activation=logistic, hidden_layer_sizes=15, learning_rate_init=0.01;, score=0.795 total time=   7.9s\n",
      "[CV 3/3] END activation=logistic, hidden_layer_sizes=15, learning_rate_init=0.01;, score=0.802 total time=   8.3s\n",
      "[CV 3/3] END activation=logistic, hidden_layer_sizes=15, learning_rate_init=0.05;, score=0.801 total time=   5.3s\n",
      "[CV 3/3] END activation=logistic, hidden_layer_sizes=15, learning_rate_init=0.1;, score=0.781 total time=   4.0s\n",
      "[CV 1/3] END activation=relu, hidden_layer_sizes=5, learning_rate_init=0.01;, score=0.805 total time=   2.7s\n",
      "[CV 2/3] END activation=relu, hidden_layer_sizes=5, learning_rate_init=0.01;, score=0.796 total time=   2.9s\n",
      "[CV 2/3] END activation=relu, hidden_layer_sizes=5, learning_rate_init=0.001;, score=0.794 total time=   3.8s\n",
      "[CV 1/3] END activation=relu, hidden_layer_sizes=5, learning_rate_init=0.05;, score=0.804 total time=   2.3s\n",
      "[CV 3/3] END activation=relu, hidden_layer_sizes=5, learning_rate_init=0.001;, score=0.801 total time=   4.1s\n",
      "[CV 1/3] END activation=relu, hidden_layer_sizes=5, learning_rate_init=0.001;, score=0.803 total time=   4.2s\n",
      "[CV 2/3] END activation=relu, hidden_layer_sizes=5, learning_rate_init=0.1;, score=0.796 total time=   1.3s\n",
      "[CV 3/3] END activation=relu, hidden_layer_sizes=5, learning_rate_init=0.05;, score=0.802 total time=   1.5s\n",
      "[CV 2/3] END activation=relu, hidden_layer_sizes=5, learning_rate_init=0.05;, score=0.791 total time=   1.9s\n",
      "[CV 1/3] END activation=relu, hidden_layer_sizes=5, learning_rate_init=0.1;, score=0.807 total time=   1.7s\n"
     ]
    },
    {
     "name": "stderr",
     "output_type": "stream",
     "text": [
      "/root/.cache/pypoetry/virtualenvs/sin5007-lcGWJnmY-py3.11/lib/python3.11/site-packages/sklearn/neural_network/_multilayer_perceptron.py:690: ConvergenceWarning: Stochastic Optimizer: Maximum iterations (200) reached and the optimization hasn't converged yet.\n",
      "  warnings.warn(\n",
      "/root/.cache/pypoetry/virtualenvs/sin5007-lcGWJnmY-py3.11/lib/python3.11/site-packages/sklearn/neural_network/_multilayer_perceptron.py:690: ConvergenceWarning: Stochastic Optimizer: Maximum iterations (200) reached and the optimization hasn't converged yet.\n",
      "  warnings.warn(\n"
     ]
    },
    {
     "name": "stdout",
     "output_type": "stream",
     "text": [
      "[CV 1/3] END activation=logistic, hidden_layer_sizes=15, learning_rate_init=0.001;, score=0.805 total time=  11.8s\n",
      "[CV 2/3] END activation=logistic, hidden_layer_sizes=15, learning_rate_init=0.001;, score=0.796 total time=  11.9s\n",
      "[CV 3/3] END activation=relu, hidden_layer_sizes=5, learning_rate_init=0.01;, score=0.807 total time=   4.3s\n",
      "[CV 3/3] END activation=relu, hidden_layer_sizes=5, learning_rate_init=0.1;, score=0.810 total time=   2.0s\n",
      "[CV 2/3] END activation=relu, hidden_layer_sizes=10, learning_rate_init=0.1;, score=0.801 total time=   0.9s\n",
      "[CV 3/3] END activation=relu, hidden_layer_sizes=10, learning_rate_init=0.1;, score=0.801 total time=   1.0s\n",
      "[CV 1/3] END activation=relu, hidden_layer_sizes=10, learning_rate_init=0.1;, score=0.807 total time=   1.7s\n",
      "[CV 3/3] END activation=relu, hidden_layer_sizes=10, learning_rate_init=0.01;, score=0.805 total time=   5.8s\n",
      "[CV 2/3] END activation=relu, hidden_layer_sizes=10, learning_rate_init=0.01;, score=0.799 total time=   6.3s\n",
      "[CV 1/3] END activation=relu, hidden_layer_sizes=10, learning_rate_init=0.05;, score=0.806 total time=   6.3s\n",
      "[CV 2/3] END activation=relu, hidden_layer_sizes=10, learning_rate_init=0.05;, score=0.798 total time=   6.3s\n",
      "[CV 3/3] END activation=relu, hidden_layer_sizes=10, learning_rate_init=0.05;, score=0.807 total time=   5.7s\n",
      "[CV 1/3] END activation=relu, hidden_layer_sizes=10, learning_rate_init=0.01;, score=0.810 total time=   6.9s\n",
      "[CV 1/3] END activation=relu, hidden_layer_sizes=10, learning_rate_init=0.001;, score=0.800 total time=   7.8s\n",
      "[CV 2/3] END activation=relu, hidden_layer_sizes=15, learning_rate_init=0.05;, score=0.790 total time=   2.1s\n",
      "[CV 1/3] END activation=relu, hidden_layer_sizes=15, learning_rate_init=0.1;, score=0.808 total time=   1.5s\n",
      "[CV 1/3] END activation=relu, hidden_layer_sizes=15, learning_rate_init=0.05;, score=0.809 total time=   2.3s\n",
      "[CV 3/3] END activation=relu, hidden_layer_sizes=15, learning_rate_init=0.01;, score=0.806 total time=   2.9s\n",
      "[CV 2/3] END activation=relu, hidden_layer_sizes=10, learning_rate_init=0.001;, score=0.792 total time=   9.5s\n",
      "[CV 3/3] END activation=relu, hidden_layer_sizes=15, learning_rate_init=0.05;, score=0.804 total time=   2.8s\n",
      "[CV 3/3] END activation=relu, hidden_layer_sizes=15, learning_rate_init=0.1;, score=0.809 total time=   1.1s\n",
      "[CV 2/3] END activation=relu, hidden_layer_sizes=15, learning_rate_init=0.1;, score=0.794 total time=   1.3s\n",
      "[CV 1/3] END activation=relu, hidden_layer_sizes=15, learning_rate_init=0.01;, score=0.808 total time=   4.4s\n",
      "[CV 3/3] END activation=relu, hidden_layer_sizes=10, learning_rate_init=0.001;, score=0.805 total time=  10.4s\n",
      "[CV 2/3] END activation=relu, hidden_layer_sizes=15, learning_rate_init=0.01;, score=0.799 total time=   4.3s\n",
      "[CV 1/3] END activation=relu, hidden_layer_sizes=15, learning_rate_init=0.001;, score=0.808 total time=   8.6s\n",
      "[CV 2/3] END activation=relu, hidden_layer_sizes=15, learning_rate_init=0.001;, score=0.796 total time=   8.6s\n",
      "[CV 3/3] END activation=relu, hidden_layer_sizes=15, learning_rate_init=0.001;, score=0.803 total time=   9.2s\n",
      "===> 2024-10-28 15:45:05.783203 | FINALIZADO FOLD 5 | TEMPO TOTAL 0:00:32.323610\n",
      "\n",
      "====> 2024-10-28 15:45:05.783897 | EXECUTANDO FOLD 6 \n",
      "Fitting 3 folds for each of 24 candidates, totalling 72 fits\n",
      "[CV 2/3] END activation=logistic, hidden_layer_sizes=5, learning_rate_init=0.1;, score=0.800 total time=   1.0s\n",
      "[CV 3/3] END activation=logistic, hidden_layer_sizes=5, learning_rate_init=0.1;, score=0.796 total time=   1.4s\n",
      "[CV 1/3] END activation=logistic, hidden_layer_sizes=5, learning_rate_init=0.05;, score=0.801 total time=   1.8s\n",
      "[CV 1/3] END activation=logistic, hidden_layer_sizes=5, learning_rate_init=0.1;, score=0.804 total time=   1.9s\n",
      "[CV 3/3] END activation=logistic, hidden_layer_sizes=5, learning_rate_init=0.05;, score=0.804 total time=   2.4s\n",
      "[CV 2/3] END activation=logistic, hidden_layer_sizes=5, learning_rate_init=0.05;, score=0.814 total time=   2.5s\n",
      "[CV 1/3] END activation=logistic, hidden_layer_sizes=5, learning_rate_init=0.01;, score=0.807 total time=   3.0s\n",
      "[CV 2/3] END activation=logistic, hidden_layer_sizes=5, learning_rate_init=0.01;, score=0.808 total time=   3.0s\n",
      "[CV 3/3] END activation=logistic, hidden_layer_sizes=5, learning_rate_init=0.01;, score=0.803 total time=   3.9s\n",
      "[CV 3/3] END activation=logistic, hidden_layer_sizes=5, learning_rate_init=0.001;, score=0.800 total time=   4.7s\n",
      "[CV 2/3] END activation=logistic, hidden_layer_sizes=5, learning_rate_init=0.001;, score=0.799 total time=   5.2s\n",
      "[CV 2/3] END activation=logistic, hidden_layer_sizes=10, learning_rate_init=0.05;, score=0.801 total time=   3.1s\n",
      "[CV 1/3] END activation=logistic, hidden_layer_sizes=5, learning_rate_init=0.001;, score=0.802 total time=   6.5s\n",
      "[CV 1/3] END activation=logistic, hidden_layer_sizes=10, learning_rate_init=0.05;, score=0.798 total time=   3.5s\n",
      "[CV 3/3] END activation=logistic, hidden_layer_sizes=10, learning_rate_init=0.05;, score=0.796 total time=   2.8s\n",
      "[CV 2/3] END activation=logistic, hidden_layer_sizes=10, learning_rate_init=0.1;, score=0.799 total time=   1.6s\n",
      "[CV 1/3] END activation=logistic, hidden_layer_sizes=10, learning_rate_init=0.1;, score=0.800 total time=   3.5s\n",
      "[CV 3/3] END activation=logistic, hidden_layer_sizes=10, learning_rate_init=0.1;, score=0.804 total time=   2.5s\n",
      "[CV 1/3] END activation=logistic, hidden_layer_sizes=10, learning_rate_init=0.01;, score=0.803 total time=   6.9s\n",
      "[CV 3/3] END activation=logistic, hidden_layer_sizes=10, learning_rate_init=0.01;, score=0.798 total time=   6.4s\n"
     ]
    },
    {
     "name": "stderr",
     "output_type": "stream",
     "text": [
      "/root/.cache/pypoetry/virtualenvs/sin5007-lcGWJnmY-py3.11/lib/python3.11/site-packages/sklearn/neural_network/_multilayer_perceptron.py:690: ConvergenceWarning: Stochastic Optimizer: Maximum iterations (200) reached and the optimization hasn't converged yet.\n",
      "  warnings.warn(\n"
     ]
    },
    {
     "name": "stdout",
     "output_type": "stream",
     "text": [
      "[CV 1/3] END activation=logistic, hidden_layer_sizes=10, learning_rate_init=0.001;, score=0.804 total time=   8.6s\n",
      "[CV 2/3] END activation=logistic, hidden_layer_sizes=10, learning_rate_init=0.01;, score=0.808 total time=   7.3s\n",
      "[CV 3/3] END activation=logistic, hidden_layer_sizes=10, learning_rate_init=0.001;, score=0.802 total time=   7.9s\n"
     ]
    },
    {
     "name": "stderr",
     "output_type": "stream",
     "text": [
      "/root/.cache/pypoetry/virtualenvs/sin5007-lcGWJnmY-py3.11/lib/python3.11/site-packages/sklearn/neural_network/_multilayer_perceptron.py:690: ConvergenceWarning: Stochastic Optimizer: Maximum iterations (200) reached and the optimization hasn't converged yet.\n",
      "  warnings.warn(\n"
     ]
    },
    {
     "name": "stdout",
     "output_type": "stream",
     "text": [
      "[CV 2/3] END activation=logistic, hidden_layer_sizes=10, learning_rate_init=0.001;, score=0.804 total time=   9.7s\n",
      "[CV 1/3] END activation=logistic, hidden_layer_sizes=15, learning_rate_init=0.01;, score=0.805 total time=   4.4s\n",
      "[CV 2/3] END activation=logistic, hidden_layer_sizes=15, learning_rate_init=0.05;, score=0.802 total time=   3.1s\n",
      "[CV 1/3] END activation=logistic, hidden_layer_sizes=15, learning_rate_init=0.1;, score=0.808 total time=   2.6s\n",
      "[CV 1/3] END activation=logistic, hidden_layer_sizes=15, learning_rate_init=0.05;, score=0.804 total time=   3.5s\n",
      "[CV 2/3] END activation=logistic, hidden_layer_sizes=15, learning_rate_init=0.1;, score=0.806 total time=   2.6s\n",
      "[CV 3/3] END activation=logistic, hidden_layer_sizes=15, learning_rate_init=0.05;, score=0.805 total time=   3.7s\n",
      "[CV 3/3] END activation=logistic, hidden_layer_sizes=15, learning_rate_init=0.1;, score=0.803 total time=   3.3s\n",
      "[CV 1/3] END activation=relu, hidden_layer_sizes=5, learning_rate_init=0.01;, score=0.803 total time=   2.3s\n",
      "[CV 2/3] END activation=logistic, hidden_layer_sizes=15, learning_rate_init=0.01;, score=0.804 total time=   6.8s\n",
      "[CV 3/3] END activation=logistic, hidden_layer_sizes=15, learning_rate_init=0.01;, score=0.804 total time=   6.3s\n",
      "[CV 2/3] END activation=relu, hidden_layer_sizes=5, learning_rate_init=0.001;, score=0.802 total time=   3.4s[CV 1/3] END activation=relu, hidden_layer_sizes=5, learning_rate_init=0.001;, score=0.801 total time=   4.2s\n",
      "\n",
      "[CV 1/3] END activation=logistic, hidden_layer_sizes=15, learning_rate_init=0.001;, score=0.803 total time=   9.0s\n",
      "[CV 2/3] END activation=relu, hidden_layer_sizes=5, learning_rate_init=0.01;, score=0.804 total time=   3.2s\n",
      "[CV 3/3] END activation=relu, hidden_layer_sizes=5, learning_rate_init=0.01;, score=0.804 total time=   2.2s\n"
     ]
    },
    {
     "name": "stderr",
     "output_type": "stream",
     "text": [
      "/root/.cache/pypoetry/virtualenvs/sin5007-lcGWJnmY-py3.11/lib/python3.11/site-packages/sklearn/neural_network/_multilayer_perceptron.py:690: ConvergenceWarning: Stochastic Optimizer: Maximum iterations (200) reached and the optimization hasn't converged yet.\n",
      "  warnings.warn(\n"
     ]
    },
    {
     "name": "stdout",
     "output_type": "stream",
     "text": [
      "[CV 2/3] END activation=relu, hidden_layer_sizes=5, learning_rate_init=0.1;, score=0.806 total time=   1.0s\n",
      "[CV 3/3] END activation=relu, hidden_layer_sizes=5, learning_rate_init=0.05;, score=0.809 total time=   1.6s\n",
      "[CV 2/3] END activation=relu, hidden_layer_sizes=5, learning_rate_init=0.05;, score=0.799 total time=   2.0s\n",
      "[CV 3/3] END activation=relu, hidden_layer_sizes=5, learning_rate_init=0.001;, score=0.802 total time=   4.4s\n",
      "[CV 3/3] END activation=relu, hidden_layer_sizes=5, learning_rate_init=0.1;, score=0.802 total time=   1.3s\n",
      "[CV 1/3] END activation=relu, hidden_layer_sizes=5, learning_rate_init=0.1;, score=0.807 total time=   1.9s\n"
     ]
    },
    {
     "name": "stderr",
     "output_type": "stream",
     "text": [
      "/root/.cache/pypoetry/virtualenvs/sin5007-lcGWJnmY-py3.11/lib/python3.11/site-packages/sklearn/neural_network/_multilayer_perceptron.py:690: ConvergenceWarning: Stochastic Optimizer: Maximum iterations (200) reached and the optimization hasn't converged yet.\n",
      "  warnings.warn(\n",
      "/root/.cache/pypoetry/virtualenvs/sin5007-lcGWJnmY-py3.11/lib/python3.11/site-packages/sklearn/neural_network/_multilayer_perceptron.py:690: ConvergenceWarning: Stochastic Optimizer: Maximum iterations (200) reached and the optimization hasn't converged yet.\n",
      "  warnings.warn(\n"
     ]
    },
    {
     "name": "stdout",
     "output_type": "stream",
     "text": [
      "[CV 2/3] END activation=logistic, hidden_layer_sizes=15, learning_rate_init=0.001;, score=0.802 total time=  10.8s\n",
      "[CV 1/3] END activation=relu, hidden_layer_sizes=5, learning_rate_init=0.05;, score=0.804 total time=   3.0s\n",
      "[CV 3/3] END activation=logistic, hidden_layer_sizes=15, learning_rate_init=0.001;, score=0.802 total time=  10.8s\n",
      "[CV 1/3] END activation=relu, hidden_layer_sizes=10, learning_rate_init=0.05;, score=0.802 total time=   1.5s\n",
      "[CV 2/3] END activation=relu, hidden_layer_sizes=10, learning_rate_init=0.1;, score=0.808 total time=   0.9s\n",
      "[CV 3/3] END activation=relu, hidden_layer_sizes=10, learning_rate_init=0.1;, score=0.806 total time=   1.3s\n",
      "[CV 3/3] END activation=relu, hidden_layer_sizes=10, learning_rate_init=0.05;, score=0.804 total time=   1.9s\n",
      "[CV 3/3] END activation=relu, hidden_layer_sizes=10, learning_rate_init=0.01;, score=0.803 total time=   2.7s\n",
      "[CV 2/3] END activation=relu, hidden_layer_sizes=10, learning_rate_init=0.05;, score=0.805 total time=   2.8s\n",
      "[CV 1/3] END activation=relu, hidden_layer_sizes=10, learning_rate_init=0.01;, score=0.809 total time=   3.1s\n",
      "[CV 1/3] END activation=relu, hidden_layer_sizes=10, learning_rate_init=0.1;, score=0.804 total time=   2.3s\n",
      "[CV 2/3] END activation=relu, hidden_layer_sizes=10, learning_rate_init=0.01;, score=0.809 total time=   3.1s\n",
      "[CV 3/3] END activation=relu, hidden_layer_sizes=10, learning_rate_init=0.001;, score=0.805 total time=   5.7s\n",
      "[CV 1/3] END activation=relu, hidden_layer_sizes=10, learning_rate_init=0.001;, score=0.804 total time=   6.0s\n",
      "[CV 1/3] END activation=relu, hidden_layer_sizes=15, learning_rate_init=0.05;, score=0.804 total time=   2.0s\n",
      "[CV 3/3] END activation=relu, hidden_layer_sizes=15, learning_rate_init=0.05;, score=0.808 total time=   1.9s\n",
      "[CV 2/3] END activation=relu, hidden_layer_sizes=15, learning_rate_init=0.05;, score=0.796 total time=   2.0s\n",
      "[CV 2/3] END activation=relu, hidden_layer_sizes=10, learning_rate_init=0.001;, score=0.803 total time=   6.5s\n",
      "[CV 3/3] END activation=relu, hidden_layer_sizes=15, learning_rate_init=0.01;, score=0.804 total time=   2.7s\n",
      "[CV 1/3] END activation=relu, hidden_layer_sizes=15, learning_rate_init=0.1;, score=0.807 total time=   1.3s\n",
      "[CV 2/3] END activation=relu, hidden_layer_sizes=15, learning_rate_init=0.1;, score=0.801 total time=   1.2s\n",
      "[CV 3/3] END activation=relu, hidden_layer_sizes=15, learning_rate_init=0.1;, score=0.800 total time=   1.4s\n",
      "[CV 1/3] END activation=relu, hidden_layer_sizes=15, learning_rate_init=0.01;, score=0.808 total time=   6.3s\n",
      "[CV 2/3] END activation=relu, hidden_layer_sizes=15, learning_rate_init=0.01;, score=0.810 total time=   6.0s\n",
      "[CV 2/3] END activation=relu, hidden_layer_sizes=15, learning_rate_init=0.001;, score=0.805 total time=   7.7s\n",
      "[CV 1/3] END activation=relu, hidden_layer_sizes=15, learning_rate_init=0.001;, score=0.811 total time=   8.0s\n"
     ]
    },
    {
     "name": "stderr",
     "output_type": "stream",
     "text": [
      "/root/.cache/pypoetry/virtualenvs/sin5007-lcGWJnmY-py3.11/lib/python3.11/site-packages/sklearn/neural_network/_multilayer_perceptron.py:690: ConvergenceWarning: Stochastic Optimizer: Maximum iterations (200) reached and the optimization hasn't converged yet.\n",
      "  warnings.warn(\n"
     ]
    },
    {
     "name": "stdout",
     "output_type": "stream",
     "text": [
      "[CV 3/3] END activation=relu, hidden_layer_sizes=15, learning_rate_init=0.001;, score=0.805 total time=   8.2s\n",
      "===> 2024-10-28 15:45:34.877198 | FINALIZADO FOLD 6 | TEMPO TOTAL 0:00:29.093301\n",
      "\n",
      "====> 2024-10-28 15:45:34.878416 | EXECUTANDO FOLD 7 \n",
      "Fitting 3 folds for each of 24 candidates, totalling 72 fits\n",
      "[CV 2/3] END activation=logistic, hidden_layer_sizes=5, learning_rate_init=0.1;, score=0.795 total time=   1.1s\n",
      "[CV 3/3] END activation=logistic, hidden_layer_sizes=5, learning_rate_init=0.1;, score=0.806 total time=   1.1s\n",
      "[CV 3/3] END activation=logistic, hidden_layer_sizes=5, learning_rate_init=0.05;, score=0.799 total time=   1.3s\n",
      "[CV 1/3] END activation=logistic, hidden_layer_sizes=5, learning_rate_init=0.1;, score=0.798 total time=   1.5s\n",
      "[CV 2/3] END activation=logistic, hidden_layer_sizes=5, learning_rate_init=0.01;, score=0.803 total time=   2.6s\n",
      "[CV 2/3] END activation=logistic, hidden_layer_sizes=5, learning_rate_init=0.05;, score=0.805 total time=   2.9s\n",
      "[CV 1/3] END activation=logistic, hidden_layer_sizes=5, learning_rate_init=0.05;, score=0.806 total time=   3.0s\n",
      "[CV 3/3] END activation=logistic, hidden_layer_sizes=5, learning_rate_init=0.01;, score=0.800 total time=   3.3s\n",
      "[CV 1/3] END activation=logistic, hidden_layer_sizes=5, learning_rate_init=0.01;, score=0.800 total time=   3.7s\n",
      "[CV 1/3] END activation=logistic, hidden_layer_sizes=5, learning_rate_init=0.001;, score=0.800 total time=   4.3s\n",
      "[CV 1/3] END activation=logistic, hidden_layer_sizes=10, learning_rate_init=0.05;, score=0.809 total time=   2.1s\n",
      "[CV 2/3] END activation=logistic, hidden_layer_sizes=5, learning_rate_init=0.001;, score=0.797 total time=   5.5s\n",
      "[CV 3/3] END activation=logistic, hidden_layer_sizes=5, learning_rate_init=0.001;, score=0.800 total time=   5.7s\n",
      "[CV 2/3] END activation=logistic, hidden_layer_sizes=10, learning_rate_init=0.05;, score=0.799 total time=   2.4s\n",
      "[CV 1/3] END activation=logistic, hidden_layer_sizes=10, learning_rate_init=0.1;, score=0.799 total time=   1.8s\n",
      "[CV 3/3] END activation=logistic, hidden_layer_sizes=10, learning_rate_init=0.05;, score=0.802 total time=   2.3s\n",
      "[CV 2/3] END activation=logistic, hidden_layer_sizes=10, learning_rate_init=0.1;, score=0.795 total time=   2.0s\n",
      "[CV 3/3] END activation=logistic, hidden_layer_sizes=10, learning_rate_init=0.1;, score=0.794 total time=   1.8s\n",
      "[CV 1/3] END activation=logistic, hidden_layer_sizes=10, learning_rate_init=0.01;, score=0.801 total time=   6.5s\n",
      "[CV 2/3] END activation=logistic, hidden_layer_sizes=10, learning_rate_init=0.01;, score=0.803 total time=   6.5s\n",
      "[CV 3/3] END activation=logistic, hidden_layer_sizes=10, learning_rate_init=0.001;, score=0.801 total time=   8.4s\n",
      "[CV 3/3] END activation=logistic, hidden_layer_sizes=10, learning_rate_init=0.01;, score=0.806 total time=   7.1s\n",
      "[CV 3/3] END activation=logistic, hidden_layer_sizes=15, learning_rate_init=0.001;, score=0.799 total time=   4.0s\n",
      "[CV 2/3] END activation=logistic, hidden_layer_sizes=10, learning_rate_init=0.001;, score=0.799 total time=   8.9s\n",
      "[CV 1/3] END activation=logistic, hidden_layer_sizes=10, learning_rate_init=0.001;, score=0.803 total time=   9.0s\n"
     ]
    },
    {
     "name": "stderr",
     "output_type": "stream",
     "text": [
      "/root/.cache/pypoetry/virtualenvs/sin5007-lcGWJnmY-py3.11/lib/python3.11/site-packages/sklearn/neural_network/_multilayer_perceptron.py:690: ConvergenceWarning: Stochastic Optimizer: Maximum iterations (200) reached and the optimization hasn't converged yet.\n",
      "  warnings.warn(\n",
      "/root/.cache/pypoetry/virtualenvs/sin5007-lcGWJnmY-py3.11/lib/python3.11/site-packages/sklearn/neural_network/_multilayer_perceptron.py:690: ConvergenceWarning: Stochastic Optimizer: Maximum iterations (200) reached and the optimization hasn't converged yet.\n",
      "  warnings.warn(\n"
     ]
    },
    {
     "name": "stdout",
     "output_type": "stream",
     "text": [
      "[CV 1/3] END activation=logistic, hidden_layer_sizes=15, learning_rate_init=0.001;, score=0.800 total time=   5.5s\n",
      "[CV 1/3] END activation=logistic, hidden_layer_sizes=15, learning_rate_init=0.01;, score=0.806 total time=   5.4s\n",
      "[CV 1/3] END activation=logistic, hidden_layer_sizes=15, learning_rate_init=0.05;, score=0.799 total time=   3.7s\n",
      "[CV 2/3] END activation=logistic, hidden_layer_sizes=15, learning_rate_init=0.05;, score=0.799 total time=   3.0s\n",
      "[CV 3/3] END activation=logistic, hidden_layer_sizes=15, learning_rate_init=0.1;, score=0.796 total time=   2.0s\n",
      "[CV 2/3] END activation=logistic, hidden_layer_sizes=15, learning_rate_init=0.1;, score=0.801 total time=   2.1s\n",
      "[CV 1/3] END activation=logistic, hidden_layer_sizes=15, learning_rate_init=0.1;, score=0.801 total time=   2.6s\n",
      "[CV 1/3] END activation=relu, hidden_layer_sizes=5, learning_rate_init=0.05;, score=0.807 total time=   1.7s\n",
      "[CV 2/3] END activation=logistic, hidden_layer_sizes=15, learning_rate_init=0.01;, score=0.801 total time=   7.0s\n",
      "[CV 1/3] END activation=relu, hidden_layer_sizes=5, learning_rate_init=0.01;, score=0.805 total time=   2.4s\n",
      "[CV 3/3] END activation=relu, hidden_layer_sizes=5, learning_rate_init=0.01;, score=0.803 total time=   2.2s\n",
      "[CV 1/3] END activation=relu, hidden_layer_sizes=5, learning_rate_init=0.001;, score=0.800 total time=   4.3s\n",
      "[CV 3/3] END activation=logistic, hidden_layer_sizes=15, learning_rate_init=0.05;, score=0.802 total time=   4.6s\n",
      "[CV 2/3] END activation=relu, hidden_layer_sizes=5, learning_rate_init=0.05;, score=0.793 total time=   2.0s\n",
      "[CV 3/3] END activation=logistic, hidden_layer_sizes=15, learning_rate_init=0.01;, score=0.799 total time=   7.4s\n",
      "[CV 2/3] END activation=relu, hidden_layer_sizes=5, learning_rate_init=0.01;, score=0.800 total time=   2.6s\n",
      "[CV 3/3] END activation=relu, hidden_layer_sizes=5, learning_rate_init=0.001;, score=0.799 total time=   3.4s\n",
      "[CV 2/3] END activation=logistic, hidden_layer_sizes=15, learning_rate_init=0.001;, score=0.800 total time=   9.1s\n",
      "[CV 3/3] END activation=relu, hidden_layer_sizes=5, learning_rate_init=0.05;, score=0.802 total time=   1.1s\n"
     ]
    },
    {
     "name": "stderr",
     "output_type": "stream",
     "text": [
      "/root/.cache/pypoetry/virtualenvs/sin5007-lcGWJnmY-py3.11/lib/python3.11/site-packages/sklearn/neural_network/_multilayer_perceptron.py:690: ConvergenceWarning: Stochastic Optimizer: Maximum iterations (200) reached and the optimization hasn't converged yet.\n",
      "  warnings.warn(\n"
     ]
    },
    {
     "name": "stdout",
     "output_type": "stream",
     "text": [
      "[CV 2/3] END activation=relu, hidden_layer_sizes=5, learning_rate_init=0.001;, score=0.799 total time=   4.1s\n",
      "[CV 1/3] END activation=relu, hidden_layer_sizes=5, learning_rate_init=0.1;, score=0.802 total time=   1.3s\n",
      "[CV 3/3] END activation=relu, hidden_layer_sizes=5, learning_rate_init=0.1;, score=0.804 total time=   1.3s\n",
      "[CV 2/3] END activation=relu, hidden_layer_sizes=5, learning_rate_init=0.1;, score=0.786 total time=   1.4s\n",
      "[CV 2/3] END activation=relu, hidden_layer_sizes=10, learning_rate_init=0.1;, score=0.801 total time=   0.8s\n",
      "[CV 1/3] END activation=relu, hidden_layer_sizes=10, learning_rate_init=0.1;, score=0.806 total time=   1.5s\n",
      "[CV 3/3] END activation=relu, hidden_layer_sizes=10, learning_rate_init=0.1;, score=0.808 total time=   1.2s\n",
      "[CV 1/3] END activation=relu, hidden_layer_sizes=10, learning_rate_init=0.05;, score=0.808 total time=   2.1s\n",
      "[CV 3/3] END activation=relu, hidden_layer_sizes=10, learning_rate_init=0.01;, score=0.801 total time=   2.4s\n",
      "[CV 2/3] END activation=relu, hidden_layer_sizes=10, learning_rate_init=0.01;, score=0.802 total time=   2.8s\n",
      "[CV 3/3] END activation=relu, hidden_layer_sizes=10, learning_rate_init=0.05;, score=0.807 total time=   3.1s\n",
      "[CV 2/3] END activation=relu, hidden_layer_sizes=10, learning_rate_init=0.05;, score=0.787 total time=   3.7s\n",
      "[CV 1/3] END activation=relu, hidden_layer_sizes=10, learning_rate_init=0.01;, score=0.805 total time=   4.1s\n",
      "[CV 2/3] END activation=relu, hidden_layer_sizes=10, learning_rate_init=0.001;, score=0.798 total time=   5.7s\n",
      "[CV 2/3] END activation=relu, hidden_layer_sizes=15, learning_rate_init=0.01;, score=0.802 total time=   3.0s\n",
      "[CV 1/3] END activation=relu, hidden_layer_sizes=15, learning_rate_init=0.01;, score=0.811 total time=   3.3s\n",
      "[CV 2/3] END activation=relu, hidden_layer_sizes=15, learning_rate_init=0.05;, score=0.794 total time=   1.6s\n",
      "[CV 3/3] END activation=relu, hidden_layer_sizes=15, learning_rate_init=0.01;, score=0.803 total time=   3.1s\n",
      "[CV 1/3] END activation=relu, hidden_layer_sizes=10, learning_rate_init=0.001;, score=0.800 total time=   6.2s\n",
      "[CV 1/3] END activation=relu, hidden_layer_sizes=15, learning_rate_init=0.05;, score=0.806 total time=   2.2s\n",
      "[CV 1/3] END activation=relu, hidden_layer_sizes=15, learning_rate_init=0.001;, score=0.807 total time=   4.5s\n",
      "[CV 3/3] END activation=relu, hidden_layer_sizes=15, learning_rate_init=0.05;, score=0.810 total time=   2.4s\n",
      "[CV 2/3] END activation=relu, hidden_layer_sizes=15, learning_rate_init=0.1;, score=0.801 total time=   1.1s\n",
      "[CV 1/3] END activation=relu, hidden_layer_sizes=15, learning_rate_init=0.1;, score=0.795 total time=   1.2s\n",
      "[CV 3/3] END activation=relu, hidden_layer_sizes=10, learning_rate_init=0.001;, score=0.805 total time=   6.8s\n",
      "[CV 3/3] END activation=relu, hidden_layer_sizes=15, learning_rate_init=0.1;, score=0.803 total time=   1.4s\n",
      "[CV 2/3] END activation=relu, hidden_layer_sizes=15, learning_rate_init=0.001;, score=0.801 total time=   5.2s\n"
     ]
    },
    {
     "name": "stderr",
     "output_type": "stream",
     "text": [
      "/root/.cache/pypoetry/virtualenvs/sin5007-lcGWJnmY-py3.11/lib/python3.11/site-packages/sklearn/neural_network/_multilayer_perceptron.py:690: ConvergenceWarning: Stochastic Optimizer: Maximum iterations (200) reached and the optimization hasn't converged yet.\n",
      "  warnings.warn(\n"
     ]
    },
    {
     "name": "stdout",
     "output_type": "stream",
     "text": [
      "[CV 3/3] END activation=relu, hidden_layer_sizes=15, learning_rate_init=0.001;, score=0.799 total time=   6.4s\n",
      "===> 2024-10-28 15:46:00.126620 | FINALIZADO FOLD 7 | TEMPO TOTAL 0:00:25.248204\n",
      "\n",
      "====> 2024-10-28 15:46:00.127326 | EXECUTANDO FOLD 8 \n",
      "Fitting 3 folds for each of 24 candidates, totalling 72 fits\n",
      "[CV 2/3] END activation=logistic, hidden_layer_sizes=5, learning_rate_init=0.1;, score=0.801 total time=   1.1s\n",
      "[CV 3/3] END activation=logistic, hidden_layer_sizes=5, learning_rate_init=0.1;, score=0.809 total time=   1.3s\n",
      "[CV 3/3] END activation=logistic, hidden_layer_sizes=5, learning_rate_init=0.05;, score=0.804 total time=   1.5s\n",
      "[CV 1/3] END activation=logistic, hidden_layer_sizes=5, learning_rate_init=0.1;, score=0.794 total time=   1.5s\n",
      "[CV 1/3] END activation=logistic, hidden_layer_sizes=5, learning_rate_init=0.05;, score=0.801 total time=   1.6s\n",
      "[CV 2/3] END activation=logistic, hidden_layer_sizes=5, learning_rate_init=0.05;, score=0.800 total time=   1.9s\n",
      "[CV 1/3] END activation=logistic, hidden_layer_sizes=5, learning_rate_init=0.01;, score=0.802 total time=   2.6s\n",
      "[CV 2/3] END activation=logistic, hidden_layer_sizes=5, learning_rate_init=0.01;, score=0.804 total time=   2.7s\n",
      "[CV 3/3] END activation=logistic, hidden_layer_sizes=5, learning_rate_init=0.01;, score=0.804 total time=   5.7s\n",
      "[CV 2/3] END activation=logistic, hidden_layer_sizes=10, learning_rate_init=0.05;, score=0.801 total time=   3.7s\n",
      "[CV 2/3] END activation=logistic, hidden_layer_sizes=5, learning_rate_init=0.001;, score=0.798 total time=   6.8s\n",
      "[CV 1/3] END activation=logistic, hidden_layer_sizes=10, learning_rate_init=0.05;, score=0.803 total time=   4.3s\n",
      "[CV 3/3] END activation=logistic, hidden_layer_sizes=5, learning_rate_init=0.001;, score=0.804 total time=   7.5s\n",
      "[CV 1/3] END activation=logistic, hidden_layer_sizes=5, learning_rate_init=0.001;, score=0.802 total time=   7.6s\n",
      "[CV 3/3] END activation=logistic, hidden_layer_sizes=10, learning_rate_init=0.05;, score=0.804 total time=   2.5s\n",
      "[CV 2/3] END activation=logistic, hidden_layer_sizes=10, learning_rate_init=0.1;, score=0.802 total time=   1.6s\n",
      "[CV 3/3] END activation=logistic, hidden_layer_sizes=10, learning_rate_init=0.1;, score=0.798 total time=   1.7s\n",
      "[CV 1/3] END activation=logistic, hidden_layer_sizes=10, learning_rate_init=0.1;, score=0.809 total time=   2.9s\n",
      "[CV 2/3] END activation=logistic, hidden_layer_sizes=10, learning_rate_init=0.01;, score=0.807 total time=   7.9s\n",
      "[CV 1/3] END activation=logistic, hidden_layer_sizes=10, learning_rate_init=0.01;, score=0.806 total time=   8.8s\n",
      "[CV 3/3] END activation=logistic, hidden_layer_sizes=10, learning_rate_init=0.01;, score=0.812 total time=   8.7s\n",
      "[CV 2/3] END activation=logistic, hidden_layer_sizes=10, learning_rate_init=0.001;, score=0.798 total time=  11.1s\n",
      "[CV 3/3] END activation=logistic, hidden_layer_sizes=15, learning_rate_init=0.001;, score=0.804 total time=   4.3s\n",
      "[CV 3/3] END activation=logistic, hidden_layer_sizes=10, learning_rate_init=0.001;, score=0.805 total time=  11.7s\n",
      "[CV 1/3] END activation=logistic, hidden_layer_sizes=10, learning_rate_init=0.001;, score=0.807 total time=  12.2s\n"
     ]
    },
    {
     "name": "stderr",
     "output_type": "stream",
     "text": [
      "/root/.cache/pypoetry/virtualenvs/sin5007-lcGWJnmY-py3.11/lib/python3.11/site-packages/sklearn/neural_network/_multilayer_perceptron.py:690: ConvergenceWarning: Stochastic Optimizer: Maximum iterations (200) reached and the optimization hasn't converged yet.\n",
      "  warnings.warn(\n"
     ]
    },
    {
     "name": "stdout",
     "output_type": "stream",
     "text": [
      "[CV 2/3] END activation=logistic, hidden_layer_sizes=15, learning_rate_init=0.05;, score=0.798 total time=   3.6s\n",
      "[CV 1/3] END activation=logistic, hidden_layer_sizes=15, learning_rate_init=0.05;, score=0.807 total time=   4.5s\n",
      "[CV 1/3] END activation=logistic, hidden_layer_sizes=15, learning_rate_init=0.1;, score=0.802 total time=   2.5s\n",
      "[CV 1/3] END activation=logistic, hidden_layer_sizes=15, learning_rate_init=0.01;, score=0.805 total time=   6.7s\n",
      "[CV 3/3] END activation=logistic, hidden_layer_sizes=15, learning_rate_init=0.05;, score=0.804 total time=   4.9s\n",
      "[CV 1/3] END activation=logistic, hidden_layer_sizes=15, learning_rate_init=0.001;, score=0.803 total time=   8.1s\n",
      "[CV 3/3] END activation=logistic, hidden_layer_sizes=15, learning_rate_init=0.1;, score=0.797 total time=   2.4s\n",
      "[CV 2/3] END activation=logistic, hidden_layer_sizes=15, learning_rate_init=0.01;, score=0.801 total time=   7.5s\n",
      "[CV 2/3] END activation=logistic, hidden_layer_sizes=15, learning_rate_init=0.1;, score=0.794 total time=   3.7s\n",
      "[CV 3/3] END activation=logistic, hidden_layer_sizes=15, learning_rate_init=0.01;, score=0.805 total time=   7.6s\n",
      "[CV 1/3] END activation=relu, hidden_layer_sizes=5, learning_rate_init=0.01;, score=0.801 total time=   2.1s\n"
     ]
    },
    {
     "name": "stderr",
     "output_type": "stream",
     "text": [
      "/root/.cache/pypoetry/virtualenvs/sin5007-lcGWJnmY-py3.11/lib/python3.11/site-packages/sklearn/neural_network/_multilayer_perceptron.py:690: ConvergenceWarning: Stochastic Optimizer: Maximum iterations (200) reached and the optimization hasn't converged yet.\n",
      "  warnings.warn(\n"
     ]
    },
    {
     "name": "stdout",
     "output_type": "stream",
     "text": [
      "[CV 2/3] END activation=logistic, hidden_layer_sizes=15, learning_rate_init=0.001;, score=0.799 total time=   9.8s\n",
      "[CV 3/3] END activation=relu, hidden_layer_sizes=5, learning_rate_init=0.05;, score=0.807 total time=   1.6s\n",
      "[CV 2/3] END activation=relu, hidden_layer_sizes=5, learning_rate_init=0.001;, score=0.799 total time=   4.0s\n",
      "[CV 1/3] END activation=relu, hidden_layer_sizes=5, learning_rate_init=0.05;, score=0.810 total time=   2.4s\n",
      "[CV 1/3] END activation=relu, hidden_layer_sizes=5, learning_rate_init=0.1;, score=0.803 total time=   1.8s\n",
      "[CV 2/3] END activation=relu, hidden_layer_sizes=5, learning_rate_init=0.05;, score=0.793 total time=   2.5s\n",
      "[CV 3/3] END activation=relu, hidden_layer_sizes=5, learning_rate_init=0.01;, score=0.807 total time=   2.7s\n",
      "[CV 3/3] END activation=relu, hidden_layer_sizes=5, learning_rate_init=0.001;, score=0.805 total time=   4.4s\n",
      "[CV 2/3] END activation=relu, hidden_layer_sizes=5, learning_rate_init=0.01;, score=0.794 total time=   3.5s\n",
      "[CV 2/3] END activation=relu, hidden_layer_sizes=5, learning_rate_init=0.1;, score=0.792 total time=   1.8s\n",
      "[CV 3/3] END activation=relu, hidden_layer_sizes=5, learning_rate_init=0.1;, score=0.809 total time=   1.8s\n",
      "[CV 1/3] END activation=relu, hidden_layer_sizes=5, learning_rate_init=0.001;, score=0.802 total time=   6.3s\n",
      "[CV 1/3] END activation=relu, hidden_layer_sizes=10, learning_rate_init=0.05;, score=0.805 total time=   1.8s\n",
      "[CV 1/3] END activation=relu, hidden_layer_sizes=10, learning_rate_init=0.1;, score=0.807 total time=   1.7s\n",
      "[CV 2/3] END activation=relu, hidden_layer_sizes=10, learning_rate_init=0.1;, score=0.805 total time=   1.5s\n",
      "[CV 2/3] END activation=relu, hidden_layer_sizes=10, learning_rate_init=0.05;, score=0.805 total time=   2.1s\n",
      "[CV 3/3] END activation=relu, hidden_layer_sizes=10, learning_rate_init=0.1;, score=0.811 total time=   1.5s\n",
      "[CV 2/3] END activation=relu, hidden_layer_sizes=10, learning_rate_init=0.01;, score=0.804 total time=   3.1s\n",
      "[CV 3/3] END activation=relu, hidden_layer_sizes=10, learning_rate_init=0.01;, score=0.804 total time=   3.4s\n",
      "[CV 1/3] END activation=relu, hidden_layer_sizes=10, learning_rate_init=0.01;, score=0.808 total time=   3.9s\n",
      "[CV 3/3] END activation=relu, hidden_layer_sizes=10, learning_rate_init=0.05;, score=0.807 total time=   3.7s\n",
      "[CV 2/3] END activation=relu, hidden_layer_sizes=15, learning_rate_init=0.01;, score=0.799 total time=   2.4s\n",
      "[CV 2/3] END activation=relu, hidden_layer_sizes=15, learning_rate_init=0.05;, score=0.792 total time=   2.0s\n",
      "[CV 1/3] END activation=relu, hidden_layer_sizes=10, learning_rate_init=0.001;, score=0.805 total time=   7.0s\n",
      "[CV 1/3] END activation=relu, hidden_layer_sizes=15, learning_rate_init=0.01;, score=0.809 total time=   4.0s\n",
      "[CV 1/3] END activation=relu, hidden_layer_sizes=15, learning_rate_init=0.05;, score=0.810 total time=   3.3s\n",
      "[CV 3/3] END activation=relu, hidden_layer_sizes=15, learning_rate_init=0.01;, score=0.806 total time=   3.7s\n",
      "[CV 3/3] END activation=relu, hidden_layer_sizes=15, learning_rate_init=0.05;, score=0.812 total time=   3.1s\n",
      "[CV 1/3] END activation=relu, hidden_layer_sizes=15, learning_rate_init=0.1;, score=0.798 total time=   1.9s\n",
      "[CV 2/3] END activation=relu, hidden_layer_sizes=10, learning_rate_init=0.001;, score=0.801 total time=   8.1s\n",
      "[CV 2/3] END activation=relu, hidden_layer_sizes=15, learning_rate_init=0.1;, score=0.798 total time=   2.0s\n",
      "[CV 3/3] END activation=relu, hidden_layer_sizes=10, learning_rate_init=0.001;, score=0.807 total time=   8.1s\n",
      "[CV 3/3] END activation=relu, hidden_layer_sizes=15, learning_rate_init=0.1;, score=0.807 total time=   1.7s\n",
      "[CV 1/3] END activation=relu, hidden_layer_sizes=15, learning_rate_init=0.001;, score=0.806 total time=   6.7s\n",
      "[CV 2/3] END activation=relu, hidden_layer_sizes=15, learning_rate_init=0.001;, score=0.801 total time=   6.7s\n"
     ]
    },
    {
     "name": "stderr",
     "output_type": "stream",
     "text": [
      "/root/.cache/pypoetry/virtualenvs/sin5007-lcGWJnmY-py3.11/lib/python3.11/site-packages/sklearn/neural_network/_multilayer_perceptron.py:690: ConvergenceWarning: Stochastic Optimizer: Maximum iterations (200) reached and the optimization hasn't converged yet.\n",
      "  warnings.warn(\n"
     ]
    },
    {
     "name": "stdout",
     "output_type": "stream",
     "text": [
      "[CV 3/3] END activation=relu, hidden_layer_sizes=15, learning_rate_init=0.001;, score=0.801 total time=   7.5s\n",
      "===> 2024-10-28 15:46:31.272071 | FINALIZADO FOLD 8 | TEMPO TOTAL 0:00:31.144745\n",
      "\n",
      "====> 2024-10-28 15:46:31.273642 | EXECUTANDO FOLD 9 \n",
      "Fitting 3 folds for each of 24 candidates, totalling 72 fits\n",
      "[CV 3/3] END activation=logistic, hidden_layer_sizes=5, learning_rate_init=0.1;, score=0.799 total time=   1.3s\n",
      "[CV 3/3] END activation=logistic, hidden_layer_sizes=5, learning_rate_init=0.05;, score=0.794 total time=   1.3s\n",
      "[CV 1/3] END activation=logistic, hidden_layer_sizes=5, learning_rate_init=0.1;, score=0.802 total time=   1.4s\n",
      "[CV 1/3] END activation=logistic, hidden_layer_sizes=5, learning_rate_init=0.05;, score=0.806 total time=   1.4s\n",
      "[CV 2/3] END activation=logistic, hidden_layer_sizes=5, learning_rate_init=0.1;, score=0.794 total time=   1.6s\n",
      "[CV 2/3] END activation=logistic, hidden_layer_sizes=5, learning_rate_init=0.01;, score=0.800 total time=   2.8s\n",
      "[CV 1/3] END activation=logistic, hidden_layer_sizes=5, learning_rate_init=0.01;, score=0.806 total time=   3.1s\n",
      "[CV 3/3] END activation=logistic, hidden_layer_sizes=5, learning_rate_init=0.01;, score=0.795 total time=   3.3s\n",
      "[CV 2/3] END activation=logistic, hidden_layer_sizes=5, learning_rate_init=0.05;, score=0.799 total time=   3.4s\n",
      "[CV 2/3] END activation=logistic, hidden_layer_sizes=5, learning_rate_init=0.001;, score=0.796 total time=   4.7s\n",
      "[CV 3/3] END activation=logistic, hidden_layer_sizes=5, learning_rate_init=0.001;, score=0.793 total time=   4.9s\n",
      "[CV 1/3] END activation=logistic, hidden_layer_sizes=5, learning_rate_init=0.001;, score=0.800 total time=   5.3s\n",
      "[CV 3/3] END activation=logistic, hidden_layer_sizes=10, learning_rate_init=0.05;, score=0.791 total time=   4.6s\n",
      "[CV 1/3] END activation=logistic, hidden_layer_sizes=10, learning_rate_init=0.05;, score=0.806 total time=   4.9s\n",
      "[CV 2/3] END activation=logistic, hidden_layer_sizes=10, learning_rate_init=0.1;, score=0.797 total time=   3.6s\n",
      "[CV 2/3] END activation=logistic, hidden_layer_sizes=10, learning_rate_init=0.05;, score=0.788 total time=   5.6s\n",
      "[CV 1/3] END activation=logistic, hidden_layer_sizes=10, learning_rate_init=0.1;, score=0.802 total time=   4.5s\n",
      "[CV 1/3] END activation=logistic, hidden_layer_sizes=10, learning_rate_init=0.01;, score=0.801 total time=   7.9s\n",
      "[CV 3/3] END activation=logistic, hidden_layer_sizes=10, learning_rate_init=0.1;, score=0.786 total time=   4.2s\n",
      "[CV 3/3] END activation=logistic, hidden_layer_sizes=10, learning_rate_init=0.01;, score=0.797 total time=   8.4s\n",
      "[CV 2/3] END activation=logistic, hidden_layer_sizes=10, learning_rate_init=0.01;, score=0.804 total time=   9.5s\n",
      "[CV 1/3] END activation=logistic, hidden_layer_sizes=10, learning_rate_init=0.001;, score=0.804 total time=  10.2s\n",
      "[CV 3/3] END activation=logistic, hidden_layer_sizes=10, learning_rate_init=0.001;, score=0.794 total time=  10.4s\n",
      "[CV 2/3] END activation=logistic, hidden_layer_sizes=10, learning_rate_init=0.001;, score=0.799 total time=  10.8s\n",
      "[CV 3/3] END activation=logistic, hidden_layer_sizes=15, learning_rate_init=0.001;, score=0.794 total time=   4.3s\n",
      "[CV 2/3] END activation=logistic, hidden_layer_sizes=15, learning_rate_init=0.1;, score=0.804 total time=   2.0s\n",
      "[CV 1/3] END activation=logistic, hidden_layer_sizes=15, learning_rate_init=0.1;, score=0.811 total time=   2.4s\n",
      "[CV 3/3] END activation=logistic, hidden_layer_sizes=15, learning_rate_init=0.1;, score=0.790 total time=   1.9s\n",
      "[CV 1/3] END activation=logistic, hidden_layer_sizes=15, learning_rate_init=0.001;, score=0.802 total time=   6.4s\n",
      "[CV 1/3] END activation=logistic, hidden_layer_sizes=15, learning_rate_init=0.05;, score=0.797 total time=   5.3s\n",
      "[CV 2/3] END activation=logistic, hidden_layer_sizes=15, learning_rate_init=0.05;, score=0.794 total time=   3.9s\n",
      "[CV 1/3] END activation=relu, hidden_layer_sizes=5, learning_rate_init=0.01;, score=0.798 total time=   1.6s\n",
      "[CV 1/3] END activation=logistic, hidden_layer_sizes=15, learning_rate_init=0.01;, score=0.804 total time=   6.8s\n",
      "[CV 3/3] END activation=logistic, hidden_layer_sizes=15, learning_rate_init=0.05;, score=0.796 total time=   5.2s\n",
      "[CV 2/3] END activation=logistic, hidden_layer_sizes=15, learning_rate_init=0.01;, score=0.800 total time=   7.5s\n",
      "[CV 3/3] END activation=logistic, hidden_layer_sizes=15, learning_rate_init=0.01;, score=0.797 total time=   7.5s\n",
      "[CV 3/3] END activation=relu, hidden_layer_sizes=5, learning_rate_init=0.05;, score=0.799 total time=   1.1s\n",
      "[CV 2/3] END activation=relu, hidden_layer_sizes=5, learning_rate_init=0.01;, score=0.796 total time=   2.6s\n",
      "[CV 1/3] END activation=relu, hidden_layer_sizes=5, learning_rate_init=0.05;, score=0.795 total time=   2.1s\n",
      "[CV 1/3] END activation=relu, hidden_layer_sizes=5, learning_rate_init=0.001;, score=0.803 total time=   4.3s\n",
      "[CV 3/3] END activation=relu, hidden_layer_sizes=5, learning_rate_init=0.01;, score=0.798 total time=   2.5s\n",
      "[CV 1/3] END activation=relu, hidden_layer_sizes=5, learning_rate_init=0.1;, score=0.802 total time=   1.6s\n",
      "[CV 3/3] END activation=relu, hidden_layer_sizes=5, learning_rate_init=0.1;, score=0.803 total time=   1.2s\n",
      "[CV 3/3] END activation=relu, hidden_layer_sizes=5, learning_rate_init=0.001;, score=0.793 total time=   4.2s\n"
     ]
    },
    {
     "name": "stderr",
     "output_type": "stream",
     "text": [
      "/root/.cache/pypoetry/virtualenvs/sin5007-lcGWJnmY-py3.11/lib/python3.11/site-packages/sklearn/neural_network/_multilayer_perceptron.py:690: ConvergenceWarning: Stochastic Optimizer: Maximum iterations (200) reached and the optimization hasn't converged yet.\n",
      "  warnings.warn(\n"
     ]
    },
    {
     "name": "stdout",
     "output_type": "stream",
     "text": [
      "[CV 2/3] END activation=logistic, hidden_layer_sizes=15, learning_rate_init=0.001;, score=0.799 total time=  10.6s\n",
      "[CV 2/3] END activation=relu, hidden_layer_sizes=5, learning_rate_init=0.05;, score=0.806 total time=   3.3s\n",
      "[CV 2/3] END activation=relu, hidden_layer_sizes=5, learning_rate_init=0.1;, score=0.802 total time=   2.7s\n",
      "[CV 2/3] END activation=relu, hidden_layer_sizes=5, learning_rate_init=0.001;, score=0.798 total time=   5.7s\n",
      "[CV 2/3] END activation=relu, hidden_layer_sizes=10, learning_rate_init=0.05;, score=0.798 total time=   2.1s\n",
      "[CV 2/3] END activation=relu, hidden_layer_sizes=10, learning_rate_init=0.01;, score=0.800 total time=   3.1s\n",
      "[CV 1/3] END activation=relu, hidden_layer_sizes=10, learning_rate_init=0.01;, score=0.803 total time=   3.2s\n",
      "[CV 1/3] END activation=relu, hidden_layer_sizes=10, learning_rate_init=0.05;, score=0.807 total time=   2.4s\n",
      "[CV 2/3] END activation=relu, hidden_layer_sizes=10, learning_rate_init=0.1;, score=0.795 total time=   1.1s\n",
      "[CV 3/3] END activation=relu, hidden_layer_sizes=10, learning_rate_init=0.1;, score=0.800 total time=   1.1s\n",
      "[CV 3/3] END activation=relu, hidden_layer_sizes=10, learning_rate_init=0.01;, score=0.796 total time=   2.8s\n",
      "[CV 1/3] END activation=relu, hidden_layer_sizes=10, learning_rate_init=0.1;, score=0.801 total time=   2.5s\n",
      "[CV 3/3] END activation=relu, hidden_layer_sizes=10, learning_rate_init=0.05;, score=0.798 total time=   3.2s\n",
      "[CV 1/3] END activation=relu, hidden_layer_sizes=10, learning_rate_init=0.001;, score=0.802 total time=   5.5s\n",
      "[CV 2/3] END activation=relu, hidden_layer_sizes=10, learning_rate_init=0.001;, score=0.800 total time=   5.3s\n",
      "[CV 1/3] END activation=relu, hidden_layer_sizes=15, learning_rate_init=0.05;, score=0.805 total time=   2.2s\n",
      "[CV 3/3] END activation=relu, hidden_layer_sizes=10, learning_rate_init=0.001;, score=0.797 total time=   6.7s\n",
      "[CV 2/3] END activation=relu, hidden_layer_sizes=15, learning_rate_init=0.1;, score=0.802 total time=   1.5s\n",
      "[CV 3/3] END activation=relu, hidden_layer_sizes=15, learning_rate_init=0.01;, score=0.795 total time=   3.3s\n",
      "[CV 2/3] END activation=relu, hidden_layer_sizes=15, learning_rate_init=0.01;, score=0.800 total time=   3.5s\n",
      "[CV 2/3] END activation=relu, hidden_layer_sizes=15, learning_rate_init=0.05;, score=0.791 total time=   2.7s\n",
      "[CV 1/3] END activation=relu, hidden_layer_sizes=15, learning_rate_init=0.01;, score=0.804 total time=   3.8s\n",
      "[CV 3/3] END activation=relu, hidden_layer_sizes=15, learning_rate_init=0.05;, score=0.804 total time=   2.6s\n",
      "[CV 1/3] END activation=relu, hidden_layer_sizes=15, learning_rate_init=0.1;, score=0.811 total time=   2.1s\n",
      "[CV 3/3] END activation=relu, hidden_layer_sizes=15, learning_rate_init=0.1;, score=0.794 total time=   1.6s\n",
      "[CV 1/3] END activation=relu, hidden_layer_sizes=15, learning_rate_init=0.001;, score=0.809 total time=   5.6s\n",
      "[CV 2/3] END activation=relu, hidden_layer_sizes=15, learning_rate_init=0.001;, score=0.801 total time=   6.1s\n",
      "[CV 3/3] END activation=relu, hidden_layer_sizes=15, learning_rate_init=0.001;, score=0.795 total time=   6.2s\n"
     ]
    },
    {
     "name": "stderr",
     "output_type": "stream",
     "text": [
      "/root/.cache/pypoetry/virtualenvs/sin5007-lcGWJnmY-py3.11/lib/python3.11/site-packages/sklearn/neural_network/_multilayer_perceptron.py:690: ConvergenceWarning: Stochastic Optimizer: Maximum iterations (200) reached and the optimization hasn't converged yet.\n",
      "  warnings.warn(\n"
     ]
    },
    {
     "name": "stdout",
     "output_type": "stream",
     "text": [
      "===> 2024-10-28 15:46:58.962946 | FINALIZADO FOLD 9 | TEMPO TOTAL 0:00:27.689304\n",
      "\n",
      "====> 2024-10-28 15:46:58.963762 | EXECUTANDO FOLD 10 \n",
      "Fitting 3 folds for each of 24 candidates, totalling 72 fits\n",
      "[CV 3/3] END activation=logistic, hidden_layer_sizes=5, learning_rate_init=0.1;, score=0.803 total time=   1.1s\n",
      "[CV 2/3] END activation=logistic, hidden_layer_sizes=5, learning_rate_init=0.1;, score=0.801 total time=   1.2s\n",
      "[CV 2/3] END activation=logistic, hidden_layer_sizes=5, learning_rate_init=0.05;, score=0.806 total time=   1.4s\n",
      "[CV 3/3] END activation=logistic, hidden_layer_sizes=5, learning_rate_init=0.05;, score=0.800 total time=   1.5s\n",
      "[CV 1/3] END activation=logistic, hidden_layer_sizes=5, learning_rate_init=0.1;, score=0.790 total time=   1.7s\n",
      "[CV 1/3] END activation=logistic, hidden_layer_sizes=5, learning_rate_init=0.05;, score=0.794 total time=   2.1s\n",
      "[CV 3/3] END activation=logistic, hidden_layer_sizes=5, learning_rate_init=0.01;, score=0.800 total time=   3.6s\n",
      "[CV 1/3] END activation=logistic, hidden_layer_sizes=5, learning_rate_init=0.01;, score=0.802 total time=   4.1s\n",
      "[CV 2/3] END activation=logistic, hidden_layer_sizes=5, learning_rate_init=0.01;, score=0.797 total time=   4.2s\n",
      "[CV 1/3] END activation=logistic, hidden_layer_sizes=5, learning_rate_init=0.001;, score=0.801 total time=   4.6s\n",
      "[CV 3/3] END activation=logistic, hidden_layer_sizes=5, learning_rate_init=0.001;, score=0.799 total time=   5.3s\n",
      "[CV 2/3] END activation=logistic, hidden_layer_sizes=10, learning_rate_init=0.01;, score=0.800 total time=   3.8s\n",
      "[CV 2/3] END activation=logistic, hidden_layer_sizes=5, learning_rate_init=0.001;, score=0.797 total time=   5.8s\n",
      "[CV 1/3] END activation=logistic, hidden_layer_sizes=10, learning_rate_init=0.05;, score=0.806 total time=   2.4s\n",
      "[CV 3/3] END activation=logistic, hidden_layer_sizes=10, learning_rate_init=0.05;, score=0.799 total time=   2.5s\n",
      "[CV 1/3] END activation=logistic, hidden_layer_sizes=10, learning_rate_init=0.1;, score=0.805 total time=   2.3s\n",
      "[CV 2/3] END activation=logistic, hidden_layer_sizes=10, learning_rate_init=0.05;, score=0.797 total time=   2.8s\n",
      "[CV 3/3] END activation=logistic, hidden_layer_sizes=10, learning_rate_init=0.1;, score=0.793 total time=   1.7s\n",
      "[CV 2/3] END activation=logistic, hidden_layer_sizes=10, learning_rate_init=0.1;, score=0.795 total time=   2.9s\n",
      "[CV 1/3] END activation=logistic, hidden_layer_sizes=10, learning_rate_init=0.01;, score=0.807 total time=   6.9s\n",
      "[CV 1/3] END activation=logistic, hidden_layer_sizes=10, learning_rate_init=0.001;, score=0.806 total time=   7.6s\n",
      "[CV 3/3] END activation=logistic, hidden_layer_sizes=10, learning_rate_init=0.01;, score=0.807 total time=   7.1s\n",
      "[CV 2/3] END activation=logistic, hidden_layer_sizes=15, learning_rate_init=0.001;, score=0.791 total time=   3.3s\n",
      "[CV 3/3] END activation=logistic, hidden_layer_sizes=10, learning_rate_init=0.001;, score=0.800 total time=   7.9s\n",
      "[CV 1/3] END activation=logistic, hidden_layer_sizes=15, learning_rate_init=0.001;, score=0.799 total time=   3.8s\n",
      "[CV 2/3] END activation=logistic, hidden_layer_sizes=10, learning_rate_init=0.001;, score=0.800 total time=   8.4s\n"
     ]
    },
    {
     "name": "stderr",
     "output_type": "stream",
     "text": [
      "/root/.cache/pypoetry/virtualenvs/sin5007-lcGWJnmY-py3.11/lib/python3.11/site-packages/sklearn/neural_network/_multilayer_perceptron.py:690: ConvergenceWarning: Stochastic Optimizer: Maximum iterations (200) reached and the optimization hasn't converged yet.\n",
      "  warnings.warn(\n"
     ]
    },
    {
     "name": "stdout",
     "output_type": "stream",
     "text": [
      "[CV 3/3] END activation=logistic, hidden_layer_sizes=15, learning_rate_init=0.001;, score=0.800 total time=   4.4s\n",
      "[CV 3/3] END activation=logistic, hidden_layer_sizes=15, learning_rate_init=0.1;, score=0.795 total time=   1.8s\n",
      "[CV 2/3] END activation=logistic, hidden_layer_sizes=15, learning_rate_init=0.01;, score=0.800 total time=   4.4s\n",
      "[CV 1/3] END activation=logistic, hidden_layer_sizes=15, learning_rate_init=0.1;, score=0.803 total time=   3.0s\n",
      "[CV 2/3] END activation=logistic, hidden_layer_sizes=15, learning_rate_init=0.05;, score=0.796 total time=   6.3s\n",
      "[CV 1/3] END activation=relu, hidden_layer_sizes=5, learning_rate_init=0.01;, score=0.798 total time=   3.6s\n",
      "[CV 2/3] END activation=relu, hidden_layer_sizes=5, learning_rate_init=0.001;, score=0.798 total time=   5.2s\n",
      "[CV 2/3] END activation=logistic, hidden_layer_sizes=15, learning_rate_init=0.1;, score=0.799 total time=   5.8s\n",
      "[CV 3/3] END activation=logistic, hidden_layer_sizes=15, learning_rate_init=0.05;, score=0.802 total time=   6.4s\n",
      "[CV 1/3] END activation=logistic, hidden_layer_sizes=15, learning_rate_init=0.05;, score=0.801 total time=   7.2s\n",
      "[CV 1/3] END activation=relu, hidden_layer_sizes=5, learning_rate_init=0.001;, score=0.801 total time=   5.9s\n",
      "[CV 3/3] END activation=relu, hidden_layer_sizes=5, learning_rate_init=0.05;, score=0.801 total time=   1.1s\n",
      "[CV 2/3] END activation=relu, hidden_layer_sizes=5, learning_rate_init=0.05;, score=0.804 total time=   1.1s\n",
      "[CV 2/3] END activation=relu, hidden_layer_sizes=5, learning_rate_init=0.1;, score=0.799 total time=   1.1s\n",
      "[CV 1/3] END activation=logistic, hidden_layer_sizes=15, learning_rate_init=0.01;, score=0.804 total time=   9.4s\n",
      "[CV 3/3] END activation=logistic, hidden_layer_sizes=15, learning_rate_init=0.01;, score=0.801 total time=   9.1s\n",
      "[CV 1/3] END activation=relu, hidden_layer_sizes=5, learning_rate_init=0.05;, score=0.808 total time=   1.8s\n",
      "[CV 3/3] END activation=relu, hidden_layer_sizes=5, learning_rate_init=0.1;, score=0.804 total time=   1.2s\n",
      "[CV 3/3] END activation=relu, hidden_layer_sizes=5, learning_rate_init=0.01;, score=0.803 total time=   4.6s\n",
      "[CV 3/3] END activation=relu, hidden_layer_sizes=5, learning_rate_init=0.001;, score=0.799 total time=   5.8s\n",
      "[CV 1/3] END activation=relu, hidden_layer_sizes=5, learning_rate_init=0.1;, score=0.800 total time=   2.0s\n",
      "[CV 2/3] END activation=relu, hidden_layer_sizes=5, learning_rate_init=0.01;, score=0.795 total time=   5.9s\n",
      "[CV 3/3] END activation=relu, hidden_layer_sizes=10, learning_rate_init=0.1;, score=0.804 total time=   1.0s\n",
      "[CV 1/3] END activation=relu, hidden_layer_sizes=10, learning_rate_init=0.1;, score=0.810 total time=   1.5s\n",
      "[CV 1/3] END activation=relu, hidden_layer_sizes=10, learning_rate_init=0.01;, score=0.801 total time=   2.2s\n",
      "[CV 2/3] END activation=relu, hidden_layer_sizes=10, learning_rate_init=0.05;, score=0.792 total time=   2.0s\n",
      "[CV 2/3] END activation=relu, hidden_layer_sizes=10, learning_rate_init=0.01;, score=0.797 total time=   2.4s\n",
      "[CV 3/3] END activation=relu, hidden_layer_sizes=10, learning_rate_init=0.01;, score=0.801 total time=   2.4s\n",
      "[CV 2/3] END activation=relu, hidden_layer_sizes=10, learning_rate_init=0.1;, score=0.795 total time=   1.8s\n",
      "[CV 1/3] END activation=relu, hidden_layer_sizes=10, learning_rate_init=0.05;, score=0.807 total time=   2.5s\n",
      "[CV 3/3] END activation=relu, hidden_layer_sizes=10, learning_rate_init=0.05;, score=0.805 total time=   3.5s\n",
      "[CV 2/3] END activation=relu, hidden_layer_sizes=15, learning_rate_init=0.05;, score=0.797 total time=   1.8s\n",
      "[CV 1/3] END activation=relu, hidden_layer_sizes=15, learning_rate_init=0.05;, score=0.806 total time=   2.1s\n",
      "[CV 3/3] END activation=relu, hidden_layer_sizes=15, learning_rate_init=0.01;, score=0.802 total time=   3.1s\n",
      "[CV 1/3] END activation=relu, hidden_layer_sizes=15, learning_rate_init=0.1;, score=0.802 total time=   1.3s\n",
      "[CV 1/3] END activation=relu, hidden_layer_sizes=15, learning_rate_init=0.01;, score=0.806 total time=   3.5s\n",
      "[CV 1/3] END activation=relu, hidden_layer_sizes=10, learning_rate_init=0.001;, score=0.801 total time=   6.8s\n",
      "[CV 2/3] END activation=relu, hidden_layer_sizes=10, learning_rate_init=0.001;, score=0.801 total time=   6.4s\n",
      "[CV 2/3] END activation=relu, hidden_layer_sizes=15, learning_rate_init=0.01;, score=0.804 total time=   3.7s\n",
      "[CV 2/3] END activation=relu, hidden_layer_sizes=15, learning_rate_init=0.1;, score=0.797 total time=   1.7s\n",
      "[CV 3/3] END activation=relu, hidden_layer_sizes=15, learning_rate_init=0.05;, score=0.809 total time=   2.6s\n",
      "[CV 3/3] END activation=relu, hidden_layer_sizes=10, learning_rate_init=0.001;, score=0.805 total time=   7.1s\n",
      "[CV 3/3] END activation=relu, hidden_layer_sizes=15, learning_rate_init=0.1;, score=0.801 total time=   1.3s\n",
      "[CV 2/3] END activation=relu, hidden_layer_sizes=15, learning_rate_init=0.001;, score=0.800 total time=   4.9s\n",
      "[CV 1/3] END activation=relu, hidden_layer_sizes=15, learning_rate_init=0.001;, score=0.803 total time=   5.8s\n"
     ]
    },
    {
     "name": "stderr",
     "output_type": "stream",
     "text": [
      "/root/.cache/pypoetry/virtualenvs/sin5007-lcGWJnmY-py3.11/lib/python3.11/site-packages/sklearn/neural_network/_multilayer_perceptron.py:690: ConvergenceWarning: Stochastic Optimizer: Maximum iterations (200) reached and the optimization hasn't converged yet.\n",
      "  warnings.warn(\n"
     ]
    },
    {
     "name": "stdout",
     "output_type": "stream",
     "text": [
      "[CV 3/3] END activation=relu, hidden_layer_sizes=15, learning_rate_init=0.001;, score=0.802 total time=   6.2s\n",
      "===> 2024-10-28 15:47:26.811335 | FINALIZADO FOLD 10 | TEMPO TOTAL 0:00:27.847573\n",
      "\n",
      "Resultados na validação cruzada: {'f1': 0.7992517956485645, 'accuracy': 0.7994870429211771, 'precision': 0.800955671182462, 'recall': 0.799490915341294}\n",
      "Resultados na base de teste: {'f1': 0.7428796091745127, 'accuracy': 0.7891882311237151, 'precision': 0.7280364035806394, 'recall': 0.8027987815516809}\n",
      "Melhores parâmetros escolhidos: {'activation': 'logistic', 'hidden_layer_sizes': 10, 'learning_rate_init': 0.01}\n"
     ]
    }
   ],
   "source": [
    "param_grid_categorical = {\n",
    "    \"hidden_layer_sizes\": [5, 10, 15],\n",
    "    \"activation\": [\"logistic\", \"relu\"],\n",
    "    \"learning_rate_init\": [0.001, 0.01, 0.05, 0.1]\n",
    "}\n",
    "\n",
    "caracteristicas_filtro = [\n",
    "    \"Humidity3pm\",\n",
    "    \"Cloud3pm\",\n",
    "    \"Sunshine\",\n",
    "    \"Rainfall\",\n",
    "    \"Pressure3pm\",\n",
    "    \"Cloud9am\",\n",
    "    \"WindGustSpeed\",\n",
    "    \"RangeTemp\",\n",
    "    \"Humidity9am\",\n",
    "    \"MinTemp\",\n",
    "]\n",
    "\n",
    "# Executar a função e obter os melhores parâmetros\n",
    "results_validation, results_test, best_params, results_list_rd = run_cross_validation(\n",
    "    df_train[caracteristicas_filtro],\n",
    "    df_train[\"RainTomorrow\"],\n",
    "    df_test[caracteristicas_filtro],\n",
    "    df_test[\"RainTomorrow\"],\n",
    "    MLPClassifier(random_state=42),\n",
    "    param_grid_categorical,\n",
    "    k_folds=10,\n",
    ")\n",
    "\n",
    "print(\"Resultados na validação cruzada:\", results_validation)\n",
    "print(\"Resultados na base de teste:\", results_test)\n",
    "print(\"Melhores parâmetros escolhidos:\", best_params)"
   ]
  },
  {
   "cell_type": "code",
   "execution_count": 60,
   "metadata": {},
   "outputs": [
    {
     "data": {
      "text/html": [
       "<div>\n",
       "<style scoped>\n",
       "    .dataframe tbody tr th:only-of-type {\n",
       "        vertical-align: middle;\n",
       "    }\n",
       "\n",
       "    .dataframe tbody tr th {\n",
       "        vertical-align: top;\n",
       "    }\n",
       "\n",
       "    .dataframe thead th {\n",
       "        text-align: right;\n",
       "    }\n",
       "</style>\n",
       "<table border=\"1\" class=\"dataframe\">\n",
       "  <thead>\n",
       "    <tr style=\"text-align: right;\">\n",
       "      <th></th>\n",
       "      <th>f1</th>\n",
       "      <th>accuracy</th>\n",
       "      <th>precision</th>\n",
       "      <th>recall</th>\n",
       "      <th>dataset</th>\n",
       "    </tr>\n",
       "  </thead>\n",
       "  <tbody>\n",
       "    <tr>\n",
       "      <th>0</th>\n",
       "      <td>0.784636</td>\n",
       "      <td>0.785319</td>\n",
       "      <td>0.789047</td>\n",
       "      <td>0.785348</td>\n",
       "      <td>Validação Cruzada</td>\n",
       "    </tr>\n",
       "    <tr>\n",
       "      <th>1</th>\n",
       "      <td>0.820898</td>\n",
       "      <td>0.821016</td>\n",
       "      <td>0.821892</td>\n",
       "      <td>0.821029</td>\n",
       "      <td>Validação Cruzada</td>\n",
       "    </tr>\n",
       "    <tr>\n",
       "      <th>2</th>\n",
       "      <td>0.792205</td>\n",
       "      <td>0.792358</td>\n",
       "      <td>0.793193</td>\n",
       "      <td>0.792345</td>\n",
       "      <td>Validação Cruzada</td>\n",
       "    </tr>\n",
       "    <tr>\n",
       "      <th>3</th>\n",
       "      <td>0.798808</td>\n",
       "      <td>0.798894</td>\n",
       "      <td>0.799426</td>\n",
       "      <td>0.798904</td>\n",
       "      <td>Validação Cruzada</td>\n",
       "    </tr>\n",
       "    <tr>\n",
       "      <th>4</th>\n",
       "      <td>0.815883</td>\n",
       "      <td>0.815895</td>\n",
       "      <td>0.815977</td>\n",
       "      <td>0.815895</td>\n",
       "      <td>Validação Cruzada</td>\n",
       "    </tr>\n",
       "    <tr>\n",
       "      <th>5</th>\n",
       "      <td>0.788732</td>\n",
       "      <td>0.788732</td>\n",
       "      <td>0.788734</td>\n",
       "      <td>0.788732</td>\n",
       "      <td>Validação Cruzada</td>\n",
       "    </tr>\n",
       "    <tr>\n",
       "      <th>6</th>\n",
       "      <td>0.798792</td>\n",
       "      <td>0.798793</td>\n",
       "      <td>0.798798</td>\n",
       "      <td>0.798793</td>\n",
       "      <td>Validação Cruzada</td>\n",
       "    </tr>\n",
       "    <tr>\n",
       "      <th>7</th>\n",
       "      <td>0.780510</td>\n",
       "      <td>0.780684</td>\n",
       "      <td>0.781578</td>\n",
       "      <td>0.780684</td>\n",
       "      <td>Validação Cruzada</td>\n",
       "    </tr>\n",
       "    <tr>\n",
       "      <th>8</th>\n",
       "      <td>0.812760</td>\n",
       "      <td>0.813883</td>\n",
       "      <td>0.821603</td>\n",
       "      <td>0.813883</td>\n",
       "      <td>Validação Cruzada</td>\n",
       "    </tr>\n",
       "    <tr>\n",
       "      <th>9</th>\n",
       "      <td>0.799293</td>\n",
       "      <td>0.799296</td>\n",
       "      <td>0.799311</td>\n",
       "      <td>0.799296</td>\n",
       "      <td>Validação Cruzada</td>\n",
       "    </tr>\n",
       "    <tr>\n",
       "      <th>0</th>\n",
       "      <td>0.728338</td>\n",
       "      <td>0.771446</td>\n",
       "      <td>0.717319</td>\n",
       "      <td>0.798584</td>\n",
       "      <td>Teste</td>\n",
       "    </tr>\n",
       "    <tr>\n",
       "      <th>1</th>\n",
       "      <td>0.743002</td>\n",
       "      <td>0.789525</td>\n",
       "      <td>0.727301</td>\n",
       "      <td>0.802813</td>\n",
       "      <td>Teste</td>\n",
       "    </tr>\n",
       "    <tr>\n",
       "      <th>2</th>\n",
       "      <td>0.736201</td>\n",
       "      <td>0.781017</td>\n",
       "      <td>0.722537</td>\n",
       "      <td>0.801256</td>\n",
       "      <td>Teste</td>\n",
       "    </tr>\n",
       "    <tr>\n",
       "      <th>3</th>\n",
       "      <td>0.754599</td>\n",
       "      <td>0.804591</td>\n",
       "      <td>0.736426</td>\n",
       "      <td>0.803665</td>\n",
       "      <td>Teste</td>\n",
       "    </tr>\n",
       "    <tr>\n",
       "      <th>4</th>\n",
       "      <td>0.751070</td>\n",
       "      <td>0.800514</td>\n",
       "      <td>0.733377</td>\n",
       "      <td>0.802351</td>\n",
       "      <td>Teste</td>\n",
       "    </tr>\n",
       "    <tr>\n",
       "      <th>5</th>\n",
       "      <td>0.751151</td>\n",
       "      <td>0.798210</td>\n",
       "      <td>0.733937</td>\n",
       "      <td>0.807804</td>\n",
       "      <td>Teste</td>\n",
       "    </tr>\n",
       "    <tr>\n",
       "      <th>6</th>\n",
       "      <td>0.752033</td>\n",
       "      <td>0.800603</td>\n",
       "      <td>0.734353</td>\n",
       "      <td>0.805007</td>\n",
       "      <td>Teste</td>\n",
       "    </tr>\n",
       "    <tr>\n",
       "      <th>7</th>\n",
       "      <td>0.748016</td>\n",
       "      <td>0.794222</td>\n",
       "      <td>0.731572</td>\n",
       "      <td>0.807412</td>\n",
       "      <td>Teste</td>\n",
       "    </tr>\n",
       "    <tr>\n",
       "      <th>8</th>\n",
       "      <td>0.710723</td>\n",
       "      <td>0.749025</td>\n",
       "      <td>0.707846</td>\n",
       "      <td>0.794025</td>\n",
       "      <td>Teste</td>\n",
       "    </tr>\n",
       "    <tr>\n",
       "      <th>9</th>\n",
       "      <td>0.753664</td>\n",
       "      <td>0.802730</td>\n",
       "      <td>0.735695</td>\n",
       "      <td>0.805071</td>\n",
       "      <td>Teste</td>\n",
       "    </tr>\n",
       "  </tbody>\n",
       "</table>\n",
       "</div>"
      ],
      "text/plain": [
       "         f1  accuracy  precision    recall            dataset\n",
       "0  0.784636  0.785319   0.789047  0.785348  Validação Cruzada\n",
       "1  0.820898  0.821016   0.821892  0.821029  Validação Cruzada\n",
       "2  0.792205  0.792358   0.793193  0.792345  Validação Cruzada\n",
       "3  0.798808  0.798894   0.799426  0.798904  Validação Cruzada\n",
       "4  0.815883  0.815895   0.815977  0.815895  Validação Cruzada\n",
       "5  0.788732  0.788732   0.788734  0.788732  Validação Cruzada\n",
       "6  0.798792  0.798793   0.798798  0.798793  Validação Cruzada\n",
       "7  0.780510  0.780684   0.781578  0.780684  Validação Cruzada\n",
       "8  0.812760  0.813883   0.821603  0.813883  Validação Cruzada\n",
       "9  0.799293  0.799296   0.799311  0.799296  Validação Cruzada\n",
       "0  0.728338  0.771446   0.717319  0.798584              Teste\n",
       "1  0.743002  0.789525   0.727301  0.802813              Teste\n",
       "2  0.736201  0.781017   0.722537  0.801256              Teste\n",
       "3  0.754599  0.804591   0.736426  0.803665              Teste\n",
       "4  0.751070  0.800514   0.733377  0.802351              Teste\n",
       "5  0.751151  0.798210   0.733937  0.807804              Teste\n",
       "6  0.752033  0.800603   0.734353  0.805007              Teste\n",
       "7  0.748016  0.794222   0.731572  0.807412              Teste\n",
       "8  0.710723  0.749025   0.707846  0.794025              Teste\n",
       "9  0.753664  0.802730   0.735695  0.805071              Teste"
      ]
     },
     "execution_count": 60,
     "metadata": {},
     "output_type": "execute_result"
    }
   ],
   "source": [
    "results_list_rd"
   ]
  },
  {
   "cell_type": "markdown",
   "metadata": {
    "id": "CsFrQQTseoMW"
   },
   "source": [
    "# Gráficos"
   ]
  },
  {
   "cell_type": "code",
   "execution_count": 25,
   "metadata": {
    "colab": {
     "base_uri": "https://localhost:8080/",
     "height": 806
    },
    "executionInfo": {
     "elapsed": 4624,
     "status": "ok",
     "timestamp": 1727752876989,
     "user": {
      "displayName": "Fernanda de Marco de Souza",
      "userId": "00765261239646174667"
     },
     "user_tz": 180
    },
    "id": "C3LmRI8FEv0n",
    "outputId": "105f75cf-95a9-4441-b684-9b9b7fdc2ab3"
   },
   "outputs": [
    {
     "data": {
      "image/png": "[encoded data removed]",
      "text/plain": [
       "<Figure size 1100x800 with 4 Axes>"
      ]
     },
     "metadata": {},
     "output_type": "display_data"
    }
   ],
   "source": [
    "import numpy as np\n",
    "import matplotlib.pyplot as plt\n",
    "\n",
    "# Novos dados para Naive Bayes\n",
    "data_all_features_bayes = {\n",
    "    'f1': [0.726119, 0.725592, 0.724683, 0.722375, 0.722874, 0.722682, 0.722375, 0.722934, 0.722738, 0.723016],\n",
    "    'accuracy': [0.786335, 0.785537, 0.784030, 0.779599, 0.780308, 0.779865, 0.779599, 0.779954, 0.779865, 0.780220],\n",
    "    'precision': [0.710649, 0.710145, 0.709287, 0.707277, 0.707704, 0.707553, 0.707277, 0.707790, 0.707607, 0.707847],\n",
    "    'recall': [0.762794, 0.762860, 0.763194, 0.765117, 0.765139, 0.765432, 0.765117, 0.765922, 0.765576, 0.765659]\n",
    "}\n",
    "\n",
    "data_pca_bayes = {\n",
    "    'f1': [0.732789, 0.730902, 0.731559, 0.732407, 0.732860, 0.731385, 0.731249, 0.731013, 0.731946, 0.732835],\n",
    "    'accuracy': [0.797501, 0.794045, 0.796172, 0.797235, 0.796881, 0.795108, 0.794842, 0.794222, 0.795374, 0.796792],\n",
    "    'precision': [0.718004, 0.715667, 0.716736, 0.717659, 0.717848, 0.716296, 0.716126, 0.715792, 0.716767, 0.717803],\n",
    "    'recall': [0.760136, 0.761385, 0.759428, 0.759677, 0.761327, 0.760768, 0.760886, 0.761354, 0.761660, 0.761414]\n",
    "}\n",
    "\n",
    "data_correlation_filter_bayes = {\n",
    "    'f1': [0.714244, 0.714128, 0.713911, 0.714210, 0.715088, 0.714673, 0.714755, 0.714562, 0.714210, 0.714485],\n",
    "    'accuracy': [0.766838, 0.766484, 0.766306, 0.766572, 0.767636, 0.767015, 0.767104, 0.766838, 0.766572, 0.766927],\n",
    "    'precision': [0.701261, 0.701246, 0.701052, 0.701312, 0.701982, 0.701704, 0.701771, 0.701635, 0.701312, 0.701514],\n",
    "    'recall': [0.766897, 0.767247, 0.766989, 0.767304, 0.767697, 0.767732, 0.767789, 0.767763, 0.767304, 0.767387]\n",
    "}\n",
    "\n",
    "data_rf_filter_bayes = {\n",
    "    'f1': [0.711686, 0.711076, 0.710872, 0.711643, 0.712703, 0.711969, 0.711686, 0.711441, 0.711643, 0.712621],\n",
    "    'accuracy': [0.761343, 0.760457, 0.760457, 0.761521, 0.762673, 0.761875, 0.761343, 0.761078, 0.761521, 0.762584],\n",
    "    'precision': [0.700327, 0.699963, 0.699700, 0.700191, 0.701012, 0.700443, 0.700327, 0.700138, 0.700191, 0.700949],\n",
    "    'recall': [0.770304, 0.770313, 0.769736, 0.769840, 0.770579, 0.770068, 0.770304, 0.770134, 0.769840, 0.770522]\n",
    "}\n",
    "\n",
    "# Dados para Random Forest\n",
    "data_all_features_rf = {\n",
    "    'f1': [0.768612, 0.767213, 0.771389, 0.780573, 0.781157, 0.780052, 0.779104, 0.778486, 0.783918, 0.780674],\n",
    "    'accuracy': [0.852889, 0.852623, 0.853509, 0.850939, 0.851117, 0.850939, 0.849433, 0.849344, 0.852800, 0.851382],\n",
    "    'precision': [0.795707, 0.796050, 0.795338, 0.783812, 0.783957, 0.784009, 0.781317, 0.781348, 0.786345, 0.784684],\n",
    "    'recall': [0.750027, 0.747835, 0.754323, 0.777509, 0.778489, 0.776354, 0.776976, 0.775764, 0.781590, 0.776926]\n",
    "}\n",
    "\n",
    "data_pca_rf = {\n",
    "    'f1': [0.727469, 0.727767, 0.727271, 0.728724, 0.728118, 0.728312, 0.730578, 0.728352, 0.729553, 0.728998],\n",
    "    'accuracy': [0.794399, 0.794576, 0.793867, 0.795108, 0.794222, 0.794488, 0.796437, 0.794399, 0.795640, 0.795197],\n",
    "    'precision': [0.713401, 0.713660, 0.713084, 0.714479, 0.713771, 0.713991, 0.716171, 0.713987, 0.715214, 0.714692],\n",
    "    'recall': [0.752805, 0.753208, 0.753186, 0.754559, 0.754568, 0.754595, 0.756711, 0.754826, 0.755622, 0.755049]\n",
    "}\n",
    "\n",
    "data_correlation_filter_rf = {\n",
    "    'f1': [0.777317, 0.777999, 0.781135, 0.781051, 0.782910, 0.782677, 0.781339, 0.782004, 0.780691, 0.782620],\n",
    "    'accuracy': [0.851117, 0.850939, 0.852446, 0.847749, 0.848724, 0.848901, 0.847395, 0.847838, 0.847306, 0.848458],\n",
    "    'precision': [0.785554, 0.784854, 0.786748, 0.777755, 0.779053, 0.779399, 0.777117, 0.777737, 0.777077, 0.778660],\n",
    "    'recall': [0.770114, 0.771878, 0.776020, 0.784559, 0.787061, 0.786164, 0.785920, 0.786637, 0.784564, 0.786891]\n",
    "}\n",
    "\n",
    "# Função para calcular média e desvio padrão\n",
    "def calculate_mean_std(data):\n",
    "    return {\n",
    "        'mean': np.mean(data),\n",
    "        'std': np.std(data)\n",
    "    }\n",
    "\n",
    "# Armazenar resultados para Naive Bayes\n",
    "results_bayes = {\n",
    "    'All Features': {metric: calculate_mean_std(data_all_features_bayes[metric]) for metric in data_all_features_bayes},\n",
    "    'PCA': {metric: calculate_mean_std(data_pca_bayes[metric]) for metric in data_pca_bayes},\n",
    "    'RF Filter': {metric: calculate_mean_std(data_rf_filter_bayes[metric]) for metric in data_rf_filter_bayes},\n",
    "    'Correlation Filter': {metric: calculate_mean_std(data_correlation_filter_bayes[metric]) for metric in data_correlation_filter_bayes}\n",
    "}\n",
    "\n",
    "# Armazenar resultados para Random Forest\n",
    "results_rf = {\n",
    "    'All Features': {metric: calculate_mean_std(data_all_features_rf[metric]) for metric in data_all_features_rf},\n",
    "    'PCA': {metric: calculate_mean_std(data_pca_rf[metric]) for metric in data_pca_rf},\n",
    "    'RF Filter': {metric: calculate_mean_std(data_rf_filter_bayes[metric]) for metric in data_rf_filter_bayes}, # using data from bayes as a workaround\n",
    "    'Correlation Filter': {metric: calculate_mean_std(data_correlation_filter_rf[metric]) for metric in data_correlation_filter_rf}\n",
    "}\n",
    "\n",
    "# Criar os gráficos\n",
    "metrics = ['f1', 'accuracy', 'precision', 'recall']\n",
    "x = np.arange(len(results_bayes))  # Localização dos grupos\n",
    "width = 0.35  # Largura das barras\n",
    "\n",
    "fig, axs = plt.subplots(2, 2, figsize=(11, 8))\n",
    "fig.suptitle('Comparação entre Naive Bayes e Random Forest')\n",
    "\n",
    "# Iterar sobre as métricas e criar gráficos em subplots\n",
    "for i, metric in enumerate(metrics):\n",
    "    ax = axs[i//2, i%2]\n",
    "\n",
    "    # Dados para Naive Bayes\n",
    "    bayes_means = [results_bayes[model][metric]['mean'] for model in results_bayes]\n",
    "    bayes_stds = [results_bayes[model][metric]['std'] for model in results_bayes]\n",
    "\n",
    "    # Dados para Random Forest\n",
    "    rf_means = [results_rf[model][metric]['mean'] for model in results_rf]\n",
    "    rf_stds = [results_rf[model][metric]['std'] for model in results_rf]\n",
    "\n",
    "    # Plot das barras para Naive Bayes\n",
    "    rects1 = ax.bar(x - width/2, bayes_means, width, label='Naive Bayes', yerr=bayes_stds, capsize=5)\n",
    "\n",
    "    # Plot das barras para Random Forest\n",
    "    rects2 = ax.bar(x + width/2, rf_means, width, label='Random Forest', yerr=rf_stds, capsize=5)\n",
    "\n",
    "    # Personalização dos subplots\n",
    "    ax.set_title(metric.capitalize())\n",
    "    ax.set_xticks(x)\n",
    "    ax.set_xticklabels(results_bayes.keys())\n",
    "    ax.legend(loc='upper right')\n",
    "    ax.set_ylim(0.4, 1)\n",
    "    ax.bar_label(rects1, fmt='%.3f', padding=3)\n",
    "    ax.bar_label(rects2, fmt='%.3f', padding=3)\n",
    "\n",
    "fig.tight_layout(rect=[0, 0, 1, 0.96])\n",
    "plt.show()"
   ]
  }
 ],
 "metadata": {
  "colab": {
   "provenance": [],
   "toc_visible": true
  },
  "kernelspec": {
   "display_name": "sin5007-lcGWJnmY-py3.11",
   "language": "python",
   "name": "python3"
  },
  "language_info": {
   "codemirror_mode": {
    "name": "ipython",
    "version": 3
   },
   "file_extension": ".py",
   "mimetype": "text/x-python",
   "name": "python",
   "nbconvert_exporter": "python",
   "pygments_lexer": "ipython3",
   "version": "3.11.10"
  }
 },
 "nbformat": 4,
 "nbformat_minor": 4
}
